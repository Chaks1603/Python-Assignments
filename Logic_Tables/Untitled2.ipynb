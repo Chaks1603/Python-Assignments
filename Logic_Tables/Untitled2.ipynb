{
 "cells": [
  {
   "cell_type": "markdown",
   "id": "ba2137e9",
   "metadata": {},
   "source": [
    "### $\\text{Logic NOT}$"
   ]
  },
  {
   "cell_type": "code",
   "execution_count": 1,
   "id": "7ec888d4",
   "metadata": {},
   "outputs": [],
   "source": [
    "def NOT(a):\n",
    "    if a==1: return 0\n",
    "    else : return 1"
   ]
  },
  {
   "cell_type": "markdown",
   "id": "38696269",
   "metadata": {},
   "source": [
    "### $\\text{Logic AND}$"
   ]
  },
  {
   "cell_type": "code",
   "execution_count": 2,
   "id": "05e0e509",
   "metadata": {},
   "outputs": [],
   "source": [
    "def AND(a,b):\n",
    "    if (a==1)&(b==1): return 1\n",
    "    else : return 0"
   ]
  },
  {
   "cell_type": "markdown",
   "id": "05451e45",
   "metadata": {},
   "source": [
    "### $\\text{Logic OR}$"
   ]
  },
  {
   "cell_type": "code",
   "execution_count": 3,
   "id": "430383fc",
   "metadata": {},
   "outputs": [],
   "source": [
    "def OR(a,b):\n",
    "    if (a==1)|(b==1): return 1\n",
    "    else : return 0"
   ]
  },
  {
   "cell_type": "markdown",
   "id": "531ff9b0",
   "metadata": {},
   "source": [
    "### $\\text{Logic NAND}$"
   ]
  },
  {
   "cell_type": "code",
   "execution_count": 4,
   "id": "d588c9ec",
   "metadata": {},
   "outputs": [],
   "source": [
    "def NAND(a,b):\n",
    "    if (a==1)&(b==1): return 0\n",
    "    else : return 1"
   ]
  },
  {
   "cell_type": "markdown",
   "id": "d84096c6",
   "metadata": {},
   "source": [
    "### $\\text{Logic NOR}$\n"
   ]
  },
  {
   "cell_type": "code",
   "execution_count": 5,
   "id": "7b57c617",
   "metadata": {},
   "outputs": [],
   "source": [
    "def NOR(a,b):\n",
    "    if (a==1)|(b==1): return 0\n",
    "    else : return 1"
   ]
  },
  {
   "cell_type": "markdown",
   "id": "4a3e7faf",
   "metadata": {},
   "source": [
    "### $\\text{Logic Exclusive-OR}$"
   ]
  },
  {
   "cell_type": "code",
   "execution_count": 6,
   "id": "8bcb5427",
   "metadata": {},
   "outputs": [],
   "source": [
    "def XOR(a,b):\n",
    "    if a==b: return 0\n",
    "    else : return 1"
   ]
  },
  {
   "cell_type": "markdown",
   "id": "033cf28c",
   "metadata": {},
   "source": [
    "### $\\text{Logic Exclusive-NOR}$"
   ]
  },
  {
   "cell_type": "code",
   "execution_count": 7,
   "id": "5f671c00",
   "metadata": {},
   "outputs": [],
   "source": [
    "def XNOR(a,b):\n",
    "    if a==b: return 1\n",
    "    else : return 0"
   ]
  },
  {
   "cell_type": "code",
   "execution_count": 8,
   "id": "1e641ed8",
   "metadata": {},
   "outputs": [],
   "source": [
    "A=[0,0,1,1]\n",
    "B=[0,1,0,1]\n",
    "\n",
    "X1=[0,0,0,0,1,1,1,1]\n",
    "Y1=[0,0,1,1,0,0,1,1]\n",
    "Z1=[0,1,0,1,0,1,0,1]\n",
    "\n",
    "\n",
    "P1=[0,0,0,0,0,0,0,0,1,1,1,1,1,1,1,1]\n",
    "Q1=[0,0,0,0,1,1,1,1,0,0,0,0,1,1,1,1]\n",
    "R1=[0,0,1,1,0,0,1,1,0,0,1,1,0,0,1,1]\n",
    "S1=[0,1,0,1,0,1,0,1,0,1,0,1,0,1,0,1]"
   ]
  },
  {
   "cell_type": "code",
   "execution_count": 9,
   "id": "75f91dc4",
   "metadata": {},
   "outputs": [
    {
     "name": "stdout",
     "output_type": "stream",
     "text": [
      "Input |\t Output\n",
      " 𝑎 𝑏  | 𝑎̃  𝑏̃  𝑎⋅𝑏  𝑎+𝑏 𝑎↑𝑏  𝑎↓𝑏  𝑎⊕𝑏 𝑎⊙𝑏\n",
      " 0 0  | 1  1   0    0   1    1    0    1\n",
      " 0 1  | 1  0   0    1   1    0    1    0\n",
      " 1 0  | 0  1   0    1   1    0    1    0\n",
      " 1 1  | 0  0   1    1   0    0    0    1\n"
     ]
    }
   ],
   "source": [
    "print('Input','|\\t','Output')\n",
    "print(' 𝑎','𝑏',' |','𝑎̃ ','𝑏̃ ','𝑎⋅𝑏 ','𝑎+𝑏','𝑎↑𝑏 ','𝑎↓𝑏 ','𝑎⊕𝑏','𝑎⊙𝑏')\n",
    "for a,b in zip(A,B):\n",
    "    an=NOT(a)\n",
    "    bn=NOT(b)\n",
    "    A1=AND(a,b)\n",
    "    O=OR(a,b)\n",
    "    An=NAND(a,b)\n",
    "    On=NOR(a,b)\n",
    "    X=XOR(a,b)\n",
    "    Xn=XNOR(a,b)\n",
    "    print('',a,b,' |',an,'',bn,' ',A1,'  ',O,' ',An,'  ',On,'  ',X,'  ',Xn)"
   ]
  },
  {
   "cell_type": "markdown",
   "id": "adb4b0da",
   "metadata": {},
   "source": [
    "#### Checking the computed function with the analytic NAND Logic\n",
    "<img width=\"300\" align=\"left\" src=\"https://spinningnumbers.org/i/logic13.svg\">\n",
    "<img width=\"140\" align=\"left\" src=\"https://spinningnumbers.org/i/logic_tt_NAND.svg\">"
   ]
  },
  {
   "cell_type": "code",
   "execution_count": 10,
   "id": "2b1da289",
   "metadata": {},
   "outputs": [
    {
     "name": "stdout",
     "output_type": "stream",
     "text": [
      "Input |\t Output\n",
      " a b  |   a⋅b  a↑b_(cal)  a↑b_(anl)\n",
      " 0 0  |\t   0 \t 1 \t  1\n",
      " 0 1  |\t   0 \t 1 \t  1\n",
      " 1 0  |\t   0 \t 1 \t  1\n",
      " 1 1  |\t   1 \t 0 \t  0\n",
      "\n",
      "LHS==RHS\n"
     ]
    }
   ],
   "source": [
    "f=0\n",
    "print('Input','|\\t','Output')\n",
    "print(' a','b ','|','  a⋅b',' a↑b_(cal)',' a↑b_(anl)')\n",
    "for a,b in zip(A,B):\n",
    "    print('',a,b,' |\\t  ',AND(a,b),'\\t',NOT(AND(a,b)),'\\t ',NAND(a,b))\n",
    "    if NOT(AND(a,b))==NAND(a,b):        f+=1\n",
    "        \n",
    "if f==len(A):\n",
    "    print('\\nLHS==RHS')"
   ]
  },
  {
   "cell_type": "markdown",
   "id": "51891be5",
   "metadata": {},
   "source": [
    "#### Checking the computed function with the analytic NOR Logic\n",
    "<img width=\"300\" align=\"left\"  src=\"https://spinningnumbers.org/i/logic14.svg\"><img width=\"140\" align=\"left\" src=\"https://spinningnumbers.org/i/logic_tt_NOR.svg\">"
   ]
  },
  {
   "cell_type": "code",
   "execution_count": 11,
   "id": "18cbca09",
   "metadata": {},
   "outputs": [
    {
     "name": "stdout",
     "output_type": "stream",
     "text": [
      "Input |\t Output\n",
      " a  b | a+b a↓b_(cal) a↓b_(anl)\n",
      " 0  0 |  0 \t 1 \t 1\n",
      " 0  1 |  1 \t 0 \t 0\n",
      " 1  0 |  1 \t 0 \t 0\n",
      " 1  1 |  1 \t 0 \t 0\n",
      "\n",
      "LHS==RHS\n"
     ]
    }
   ],
   "source": [
    "f=0\n",
    "print('Input','|\\t','Output')\n",
    "print(' a',' b |','a+b','a↓b_(cal)','a↓b_(anl)')\n",
    "for a,b in zip(A,B):\n",
    "    print('',a,'',b,'| ',OR(a,b),'\\t',NOT(OR(a,b)),'\\t',NOR(a,b))\n",
    "    if NOT(OR(a,b))==NOR(a,b):        f+=1\n",
    "        \n",
    "if f==len(A):\n",
    "    print('\\nLHS==RHS')"
   ]
  },
  {
   "cell_type": "markdown",
   "id": "46165aba",
   "metadata": {},
   "source": [
    "**XOR**\n",
    "\n",
    "<img width=\"250\" align=\"left\" src=\"https://spinningnumbers.org/i/logic13.svg\">\n",
    "<img width=\"300\" align=\"left\" src=\"https://upload.wikimedia.org/wikipedia/commons/e/ed/3_gate_XOR.svg\">"
   ]
  },
  {
   "cell_type": "markdown",
   "id": "338eaf9a",
   "metadata": {},
   "source": [
    "**XNOR**\n",
    "\n",
    "<img width=\"250\" align=\"left\"  src=\"https://spinningnumbers.org/i/logic14.svg\">\n",
    "<img width=\"300\" align=\"left\" src=\"https://upload.wikimedia.org/wikipedia/commons/6/66/3_gate_XNOR.svg\">"
   ]
  },
  {
   "cell_type": "code",
   "execution_count": 13,
   "id": "1a7ac22f",
   "metadata": {},
   "outputs": [
    {
     "name": "stdout",
     "output_type": "stream",
     "text": [
      "Input \t|\t Output\n",
      "| a | b |  a⊕b_(cal) \t|  a⊕b_(anl)\t|  a⊙b_(cal)\t|  a⊙b_(anl)\t|\n",
      "| 0 | 0 |\t 0 \t|\t 0 \t|\t 1 \t|\t 1 \t|\n",
      "| 0 | 1 |\t 1 \t|\t 1 \t|\t 0 \t|\t 0 \t|\n",
      "| 1 | 0 |\t 1 \t|\t 1 \t|\t 0 \t|\t 0 \t|\n",
      "| 1 | 1 |\t 0 \t|\t 0 \t|\t 1 \t|\t 1 \t|\n",
      "\n",
      "LHS==RHS\n"
     ]
    }
   ],
   "source": [
    "f=0\n",
    "print('Input','\\t|\\t','Output')\n",
    "print('| a |','b |',' a⊕b_(cal) \\t|',' a⊕b_(anl)\\t|',' a⊙b_(cal)\\t|',' a⊙b_(anl)\\t|')\n",
    "for a,b in zip(A,B):\n",
    "    N1=NOT(a)\n",
    "    N2=NOT(b)\n",
    "    O1=OR(N1,N2)\n",
    "    O2=OR(a,b)\n",
    "    X=AND(O1,O2)\n",
    "    A1=AND(a,b)\n",
    "    A2=AND(N1,N2)\n",
    "    Xn=OR(A1,A2)\n",
    "    X_a=XOR(a,b)\n",
    "    Xn_a=XNOR(a,b)\n",
    "    print('|',a,'|',b,'|\\t',X,'\\t|\\t',X_a,'\\t|\\t',Xn,'\\t|\\t',Xn_a,'\\t|')\n",
    "    if (X==X_a)&(Xn==Xn_a): f+=1\n",
    "        \n",
    "if f==len(A):\n",
    "    print('\\nLHS==RHS')"
   ]
  },
  {
   "cell_type": "code",
   "execution_count": null,
   "id": "cccba03e",
   "metadata": {},
   "outputs": [],
   "source": []
  },
  {
   "cell_type": "code",
   "execution_count": null,
   "id": "9ef2937e",
   "metadata": {},
   "outputs": [],
   "source": []
  },
  {
   "cell_type": "code",
   "execution_count": 14,
   "id": "74984e37",
   "metadata": {},
   "outputs": [],
   "source": [
    "def NAND_NOT(a):\n",
    "    return NAND(a,a)# NAND -> NOT\n",
    "    \n",
    "def NAND_AND(a,b):\n",
    "    return NAND(NAND(a,b),NAND(a,b))# NAND -> AND\n",
    "    \n",
    "def NAND_OR(a,b):\n",
    "    return NAND(NAND(a,a),NAND(b,b))# NAND -> OR\n",
    "\n",
    "def NAND_NOR(a,b): \n",
    "    return NAND(NAND_OR(a,b),NAND_OR(a,b))# NAND -> NOR\n",
    "\n",
    "def NAND_XOR(a,b):\n",
    "    return NAND(NAND(a,NAND(a,b)),NAND(b,NAND(a,b)))# NAND -> XOR\n",
    "\n",
    "def NAND_XNOR(a,b):\n",
    "    return NAND(NAND_XOR(a,b),NAND_XOR(a,b))# NAND -> XNOR"
   ]
  },
  {
   "cell_type": "code",
   "execution_count": 15,
   "id": "861cbe4c",
   "metadata": {},
   "outputs": [
    {
     "data": {
      "text/html": [
       "<div>\n",
       "<style scoped>\n",
       "    .dataframe tbody tr th:only-of-type {\n",
       "        vertical-align: middle;\n",
       "    }\n",
       "\n",
       "    .dataframe tbody tr th {\n",
       "        vertical-align: top;\n",
       "    }\n",
       "\n",
       "    .dataframe thead th {\n",
       "        text-align: right;\n",
       "    }\n",
       "</style>\n",
       "<table border=\"1\" class=\"dataframe\">\n",
       "  <thead>\n",
       "    <tr style=\"text-align: right;\">\n",
       "      <th></th>\n",
       "      <th>a</th>\n",
       "      <th>b</th>\n",
       "      <th>𝑎̃</th>\n",
       "      <th>𝑏̃</th>\n",
       "      <th>a⋅b</th>\n",
       "      <th>a+b</th>\n",
       "      <th>a↓b</th>\n",
       "      <th>a⊕b</th>\n",
       "      <th>a⊙b</th>\n",
       "    </tr>\n",
       "  </thead>\n",
       "  <tbody>\n",
       "    <tr>\n",
       "      <th>0</th>\n",
       "      <td>1</td>\n",
       "      <td>1</td>\n",
       "      <td>1</td>\n",
       "      <td>1</td>\n",
       "      <td>0</td>\n",
       "      <td>0</td>\n",
       "      <td>1</td>\n",
       "      <td>0</td>\n",
       "      <td>1</td>\n",
       "    </tr>\n",
       "    <tr>\n",
       "      <th>1</th>\n",
       "      <td>1</td>\n",
       "      <td>1</td>\n",
       "      <td>1</td>\n",
       "      <td>0</td>\n",
       "      <td>0</td>\n",
       "      <td>1</td>\n",
       "      <td>0</td>\n",
       "      <td>1</td>\n",
       "      <td>0</td>\n",
       "    </tr>\n",
       "    <tr>\n",
       "      <th>2</th>\n",
       "      <td>1</td>\n",
       "      <td>1</td>\n",
       "      <td>0</td>\n",
       "      <td>1</td>\n",
       "      <td>0</td>\n",
       "      <td>1</td>\n",
       "      <td>0</td>\n",
       "      <td>1</td>\n",
       "      <td>0</td>\n",
       "    </tr>\n",
       "    <tr>\n",
       "      <th>3</th>\n",
       "      <td>1</td>\n",
       "      <td>1</td>\n",
       "      <td>0</td>\n",
       "      <td>0</td>\n",
       "      <td>1</td>\n",
       "      <td>1</td>\n",
       "      <td>0</td>\n",
       "      <td>0</td>\n",
       "      <td>1</td>\n",
       "    </tr>\n",
       "  </tbody>\n",
       "</table>\n",
       "</div>"
      ],
      "text/plain": [
       "   a  b  𝑎̃  𝑏̃  a⋅b  a+b  a↓b  a⊕b  a⊙b\n",
       "0  1  1   1   1    0    0    1    0    1\n",
       "1  1  1   1   0    0    1    0    1    0\n",
       "2  1  1   0   1    0    1    0    1    0\n",
       "3  1  1   0   0    1    1    0    0    1"
      ]
     },
     "execution_count": 15,
     "metadata": {},
     "output_type": "execute_result"
    }
   ],
   "source": [
    "import pandas as pd\n",
    "\n",
    "A1,A2,A3,A4,A5,A6,A7=[],[],[],[],[],[],[]\n",
    "for a,b in zip(A,B):\n",
    "    A1.append(NAND_NOT(a))\n",
    "    A2.append(NAND_NOT(b))\n",
    "    A3.append(NAND_AND(a,b))\n",
    "    A4.append(NAND_OR(a,b))\n",
    "    A5.append(NAND_NOR(a,b))\n",
    "    A6.append(NAND_XOR(a,b))\n",
    "    A7.append(NAND_XNOR(a,b))\n",
    "pd.DataFrame({'a':a,'b':b,'𝑎̃':A1,'𝑏̃':A2,'a⋅b':A3,'a+b':A4,'a↓b':A5,'a⊕b':A6,'a⊙b':A7})"
   ]
  },
  {
   "cell_type": "code",
   "execution_count": 16,
   "id": "038d1486",
   "metadata": {},
   "outputs": [],
   "source": [
    "def NOR_NOT(a):\n",
    "    return NOR(a,a)# NOR -> NOT\n",
    "    \n",
    "def NOR_AND(a,b):\n",
    "    return NOR(NOR(a,a),NOR(b,b))# NOR -> AND\n",
    "    \n",
    "def NOR_OR(a,b):\n",
    "    return NOR(NOR(a,b),NOR(a,b))# NOR -> OR\n",
    "\n",
    "def NOR_NAND(a,b): \n",
    "    return NOR(NOR_AND(a,b),NOR_AND(a,b))# NOR -> NAND\n",
    "\n",
    "def NOR_XNOR(a,b):\n",
    "    return NOR(NOR(a,NOR(a,b)),NOR(b,NOR(a,b)))# NOR -> XNOR\n",
    "\n",
    "def NOR_XOR(a,b):\n",
    "    return NOR(NOR_XNOR(a,b),NOR_XNOR(a,b))# NOR -> XOR"
   ]
  },
  {
   "cell_type": "code",
   "execution_count": 17,
   "id": "9e3cdeee",
   "metadata": {},
   "outputs": [
    {
     "data": {
      "text/html": [
       "<div>\n",
       "<style scoped>\n",
       "    .dataframe tbody tr th:only-of-type {\n",
       "        vertical-align: middle;\n",
       "    }\n",
       "\n",
       "    .dataframe tbody tr th {\n",
       "        vertical-align: top;\n",
       "    }\n",
       "\n",
       "    .dataframe thead th {\n",
       "        text-align: right;\n",
       "    }\n",
       "</style>\n",
       "<table border=\"1\" class=\"dataframe\">\n",
       "  <thead>\n",
       "    <tr style=\"text-align: right;\">\n",
       "      <th></th>\n",
       "      <th>a</th>\n",
       "      <th>b</th>\n",
       "      <th>𝑎̃</th>\n",
       "      <th>𝑏̃</th>\n",
       "      <th>a⋅b</th>\n",
       "      <th>a+b</th>\n",
       "      <th>a↑b</th>\n",
       "      <th>a⊕b</th>\n",
       "      <th>a⊙b</th>\n",
       "    </tr>\n",
       "  </thead>\n",
       "  <tbody>\n",
       "    <tr>\n",
       "      <th>0</th>\n",
       "      <td>1</td>\n",
       "      <td>1</td>\n",
       "      <td>1</td>\n",
       "      <td>1</td>\n",
       "      <td>0</td>\n",
       "      <td>0</td>\n",
       "      <td>1</td>\n",
       "      <td>0</td>\n",
       "      <td>1</td>\n",
       "    </tr>\n",
       "    <tr>\n",
       "      <th>1</th>\n",
       "      <td>1</td>\n",
       "      <td>1</td>\n",
       "      <td>1</td>\n",
       "      <td>0</td>\n",
       "      <td>1</td>\n",
       "      <td>0</td>\n",
       "      <td>1</td>\n",
       "      <td>1</td>\n",
       "      <td>0</td>\n",
       "    </tr>\n",
       "    <tr>\n",
       "      <th>2</th>\n",
       "      <td>1</td>\n",
       "      <td>1</td>\n",
       "      <td>0</td>\n",
       "      <td>1</td>\n",
       "      <td>1</td>\n",
       "      <td>0</td>\n",
       "      <td>1</td>\n",
       "      <td>1</td>\n",
       "      <td>0</td>\n",
       "    </tr>\n",
       "    <tr>\n",
       "      <th>3</th>\n",
       "      <td>1</td>\n",
       "      <td>1</td>\n",
       "      <td>0</td>\n",
       "      <td>0</td>\n",
       "      <td>1</td>\n",
       "      <td>1</td>\n",
       "      <td>0</td>\n",
       "      <td>0</td>\n",
       "      <td>1</td>\n",
       "    </tr>\n",
       "  </tbody>\n",
       "</table>\n",
       "</div>"
      ],
      "text/plain": [
       "   a  b  𝑎̃  𝑏̃  a⋅b  a+b  a↑b  a⊕b  a⊙b\n",
       "0  1  1   1   1    0    0    1    0    1\n",
       "1  1  1   1   0    1    0    1    1    0\n",
       "2  1  1   0   1    1    0    1    1    0\n",
       "3  1  1   0   0    1    1    0    0    1"
      ]
     },
     "execution_count": 17,
     "metadata": {},
     "output_type": "execute_result"
    }
   ],
   "source": [
    "A1,A2,A3,A4,A5,A6,A7=[],[],[],[],[],[],[]\n",
    "for a,b in zip(A,B):\n",
    "    A1.append(NOR_NOT(a))\n",
    "    A2.append(NOR_NOT(b))\n",
    "    A3.append(NOR_OR(a,b))\n",
    "    A4.append(NOR_AND(a,b))\n",
    "    A5.append(NOR_NAND(a,b))\n",
    "    A6.append(NOR_XOR(a,b))\n",
    "    A7.append(NOR_XNOR(a,b))\n",
    "pd.DataFrame({'a':a,'b':b,'𝑎̃':A1,'𝑏̃':A2,'a⋅b':A3,'a+b':A4,'a↑b':A5,'a⊕b':A6,'a⊙b':A7})"
   ]
  },
  {
   "cell_type": "markdown",
   "id": "83e7e5e3",
   "metadata": {},
   "source": [
    "# $\\text{HALF ADDER}$\n",
    "<img width=\"200\" height=\"220\" align=\"center\" src=\"https://upload.wikimedia.org/wikipedia/commons/thumb/d/d9/Half_Adder.svg/1920px-Half_Adder.svg.png\">"
   ]
  },
  {
   "cell_type": "code",
   "execution_count": 18,
   "id": "0ebc2fd5",
   "metadata": {},
   "outputs": [],
   "source": [
    "def HalfAdder(a,b):\n",
    "    s=XOR(a,b)\n",
    "    c=AND(a,b)\n",
    "    return s,c"
   ]
  },
  {
   "cell_type": "code",
   "execution_count": 19,
   "id": "7895adec",
   "metadata": {},
   "outputs": [
    {
     "name": "stdout",
     "output_type": "stream",
     "text": [
      "Input | Output\n",
      "  x y | S C\n",
      "  0 0 | 0 0\n",
      "  0 1 | 1 0\n",
      "  1 0 | 1 0\n",
      "  1 1 | 0 1\n"
     ]
    }
   ],
   "source": [
    "print('Input','|','Output')\n",
    "print(' ','x','y','|','S','C')\n",
    "for a,b in zip(A,B):\n",
    "    s,c=HalfAdder(a,b)\n",
    "    print(' ',a,b,'|',s,c)"
   ]
  },
  {
   "cell_type": "markdown",
   "id": "d90b6673",
   "metadata": {},
   "source": [
    "# $\\text{FULL ADDER}$"
   ]
  },
  {
   "cell_type": "code",
   "execution_count": 20,
   "id": "ffbbbf34",
   "metadata": {},
   "outputs": [],
   "source": [
    "def FullAdder(x,y,z):\n",
    "    s1,c1=HalfAdder(x,y)\n",
    "    s2,c2=HalfAdder(s1,z)\n",
    "    return s2,OR(c1,c2)"
   ]
  },
  {
   "cell_type": "code",
   "execution_count": 21,
   "id": "ae59061c",
   "metadata": {},
   "outputs": [
    {
     "name": "stdout",
     "output_type": "stream",
     "text": [
      "Input | Output\n",
      "x y z | S C\n",
      "0 0 0 | 0 0\n",
      "0 0 1 | 1 0\n",
      "0 1 0 | 1 0\n",
      "0 1 1 | 0 1\n",
      "1 0 0 | 1 0\n",
      "1 0 1 | 0 1\n",
      "1 1 0 | 0 1\n",
      "1 1 1 | 1 1\n"
     ]
    }
   ],
   "source": [
    "print('Input','|','Output')\n",
    "print('x','y','z','|','S','C')\n",
    "for x,y,z in zip(X1,Y1,Z1):\n",
    "    sh,ch=FullAdder(x,y,z)\n",
    "    print(x,y,z,'|',sh,ch)"
   ]
  },
  {
   "cell_type": "code",
   "execution_count": null,
   "id": "1e309776",
   "metadata": {},
   "outputs": [],
   "source": []
  },
  {
   "cell_type": "code",
   "execution_count": null,
   "id": "38a4e385",
   "metadata": {},
   "outputs": [],
   "source": []
  },
  {
   "cell_type": "code",
   "execution_count": null,
   "id": "1e80c0e1",
   "metadata": {},
   "outputs": [],
   "source": []
  },
  {
   "cell_type": "code",
   "execution_count": null,
   "id": "31551cf0",
   "metadata": {},
   "outputs": [],
   "source": []
  },
  {
   "cell_type": "code",
   "execution_count": null,
   "id": "d3554068",
   "metadata": {},
   "outputs": [],
   "source": []
  },
  {
   "cell_type": "code",
   "execution_count": null,
   "id": "48db3fbb",
   "metadata": {},
   "outputs": [],
   "source": []
  },
  {
   "cell_type": "code",
   "execution_count": null,
   "id": "f863cc31",
   "metadata": {},
   "outputs": [],
   "source": []
  },
  {
   "cell_type": "code",
   "execution_count": null,
   "id": "42b0caa4",
   "metadata": {},
   "outputs": [],
   "source": []
  },
  {
   "cell_type": "code",
   "execution_count": null,
   "id": "48fa24eb",
   "metadata": {},
   "outputs": [],
   "source": []
  },
  {
   "cell_type": "code",
   "execution_count": null,
   "id": "f492f725",
   "metadata": {},
   "outputs": [],
   "source": []
  },
  {
   "cell_type": "markdown",
   "id": "88edafe0",
   "metadata": {},
   "source": [
    "# 7 segment display plot"
   ]
  },
  {
   "cell_type": "code",
   "execution_count": 27,
   "id": "9e8686b5",
   "metadata": {},
   "outputs": [
    {
     "name": "stdout",
     "output_type": "stream",
     "text": [
      "\u001b[1;31;48m\t\t\t\t\t   _ \n",
      "\t\t\t\t\t | _ | \n",
      "\t\t\t\t\t | _ |\u001b[0m\n",
      "     \n"
     ]
    }
   ],
   "source": [
    "def display_7_segment(a,b,c,d,e,f,g):\n",
    "    if a==1:\n",
    "        a = \"1\"\n",
    "        a = a.replace(\"1\", \"_\" )\n",
    "    elif a==0:\n",
    "        a = \"0\"\n",
    "        a = a.replace(\"0\", \" \")\n",
    "    if b==1:\n",
    "        b = \"1\"\n",
    "        b = b.replace(\"1\", \"|\" )\n",
    "    elif b==0:\n",
    "        b = \"0\"\n",
    "        b = b.replace(\"0\", \" \")\n",
    "    if c==1:\n",
    "        c = \"1\"\n",
    "        c = c.replace(\"1\", \"|\" )\n",
    "    elif c==0:\n",
    "        c = \"0\"\n",
    "        c = c.replace(\"0\", \" \")\n",
    "    if d==1:\n",
    "        d = \"1\"\n",
    "        d = d.replace(\"1\", \"_\" )\n",
    "    elif d==0:\n",
    "        d = \"0\"\n",
    "        d = d.replace(\"0\", \" \")\n",
    "    if e==1:\n",
    "        e = \"1\"\n",
    "        e = e.replace(\"1\", \"|\" )\n",
    "    elif e==0:\n",
    "        e = \"0\"\n",
    "        e = e.replace(\"0\", \" \")\n",
    "    if f==1:\n",
    "        f = \"1\"\n",
    "        f = f.replace(\"1\", \"|\" )\n",
    "    elif f==0:\n",
    "        f = \"0\"\n",
    "        f = f.replace(\"0\", \" \")\n",
    "    if g==1:\n",
    "        g = \"1\"\n",
    "        g = g.replace(\"1\", \"_\" )\n",
    "    elif g==0:\n",
    "        g = \"0\"\n",
    "        g = g.replace(\"0\", \" \")\n",
    "        \n",
    "    print('\\033[1;31;48m'+'\\t\\t\\t\\t\\t  ',a,\"\\n\\t\\t\\t\\t\\t\",f,g,b,\"\\n\\t\\t\\t\\t\\t\",e,d,c+'\\033[0m')\n",
    "    return '     '\n",
    "\n",
    "print(display_7_segment(1,1,1,1,1,1,1))"
   ]
  },
  {
   "cell_type": "markdown",
   "id": "7f4b73d0",
   "metadata": {},
   "source": [
    "# $$\\text{Binary-Coded-Decimal to 7 Segment LED Display Decoder}$$\n"
   ]
  },
  {
   "cell_type": "code",
   "execution_count": 28,
   "id": "f3798828",
   "metadata": {},
   "outputs": [],
   "source": [
    "def BCD_7segment9(p,q,r,s):\n",
    "    a=OR(OR(p,r),OR(AND(q,s),AND(NOT(q),NOT(s))))\n",
    "    b=OR(OR(NOT(q),AND(r,s)),AND(NOT(r),NOT(s)))\n",
    "    c=OR(OR(q,NOT(r)),s)\n",
    "    d=OR(OR(AND(NOT(q),NOT(s)),AND(r,NOT(s))),OR(OR(p,AND(NOT(q),r)),AND(AND(q,NOT(r)),s)))\n",
    "    e=OR(AND(NOT(q),NOT(s)),AND(r,NOT(s)))\n",
    "    f=OR(OR(p,AND(NOT(r),NOT(s))),OR(AND(q,NOT(r)),AND(q,NOT(s))))\n",
    "    g=OR(OR(p,AND(q,NOT(r))),OR(AND(NOT(q),r),AND(r,NOT(s))))\n",
    "    return a,b,c,d,e,f,g"
   ]
  },
  {
   "cell_type": "code",
   "execution_count": 29,
   "id": "6e096868",
   "metadata": {},
   "outputs": [
    {
     "name": "stdout",
     "output_type": "stream",
     "text": [
      "Input \t |\t Output\n",
      " A B C D | a b c d e f g | Display in 7 segment\n",
      "_______________________________________________\n",
      " 0 0 0 0 | 1 1 1 1 1 1 0 |\n",
      "\u001b[1;31;48m\t\t\t\t\t   _ \n",
      "\t\t\t\t\t |   | \n",
      "\t\t\t\t\t | _ |\u001b[0m\n",
      "     \n",
      "_______________________________________________\n",
      " 0 0 0 1 | 0 1 1 0 0 0 0 |\n",
      "\u001b[1;31;48m\t\t\t\t\t     \n",
      "\t\t\t\t\t     | \n",
      "\t\t\t\t\t     |\u001b[0m\n",
      "     \n",
      "_______________________________________________\n",
      " 0 0 1 0 | 1 1 0 1 1 0 1 |\n",
      "\u001b[1;31;48m\t\t\t\t\t   _ \n",
      "\t\t\t\t\t   _ | \n",
      "\t\t\t\t\t | _  \u001b[0m\n",
      "     \n",
      "_______________________________________________\n",
      " 0 0 1 1 | 1 1 1 1 0 0 1 |\n",
      "\u001b[1;31;48m\t\t\t\t\t   _ \n",
      "\t\t\t\t\t   _ | \n",
      "\t\t\t\t\t   _ |\u001b[0m\n",
      "     \n",
      "_______________________________________________\n",
      " 0 1 0 0 | 0 1 1 0 0 1 1 |\n",
      "\u001b[1;31;48m\t\t\t\t\t     \n",
      "\t\t\t\t\t | _ | \n",
      "\t\t\t\t\t     |\u001b[0m\n",
      "     \n",
      "_______________________________________________\n",
      " 0 1 0 1 | 1 0 1 1 0 1 1 |\n",
      "\u001b[1;31;48m\t\t\t\t\t   _ \n",
      "\t\t\t\t\t | _   \n",
      "\t\t\t\t\t   _ |\u001b[0m\n",
      "     \n",
      "_______________________________________________\n",
      " 0 1 1 0 | 1 0 1 1 1 1 1 |\n",
      "\u001b[1;31;48m\t\t\t\t\t   _ \n",
      "\t\t\t\t\t | _   \n",
      "\t\t\t\t\t | _ |\u001b[0m\n",
      "     \n",
      "_______________________________________________\n",
      " 0 1 1 1 | 1 1 1 0 0 0 0 |\n",
      "\u001b[1;31;48m\t\t\t\t\t   _ \n",
      "\t\t\t\t\t     | \n",
      "\t\t\t\t\t     |\u001b[0m\n",
      "     \n",
      "_______________________________________________\n",
      " 1 0 0 0 | 1 1 1 1 1 1 1 |\n",
      "\u001b[1;31;48m\t\t\t\t\t   _ \n",
      "\t\t\t\t\t | _ | \n",
      "\t\t\t\t\t | _ |\u001b[0m\n",
      "     \n",
      "_______________________________________________\n",
      " 1 0 0 1 | 1 1 1 1 0 1 1 |\n",
      "\u001b[1;31;48m\t\t\t\t\t   _ \n",
      "\t\t\t\t\t | _ | \n",
      "\t\t\t\t\t   _ |\u001b[0m\n",
      "     \n",
      "_______________________________________________\n"
     ]
    }
   ],
   "source": [
    "print('Input','\\t |\\t','Output')\n",
    "print(' A','B','C','D','|','a','b','c','d','e','f','g','|','Display in 7 segment')\n",
    "for w,x,y,z in zip(P1[:10],Q1[:10],R1[:10],S1[:10]):\n",
    "    a,b,c,d,e,f,g=BCD_7segment9(w,x,y,z)\n",
    "    print('_______________________________________________')\n",
    "    print('',w,x,y,z,'|',a,b,c,d,e,f,g,'|')\n",
    "    print(display_7_segment(a,b,c,d,e,f,g))\n",
    "print('_______________________________________________')"
   ]
  },
  {
   "cell_type": "markdown",
   "id": "6d0c9cac",
   "metadata": {},
   "source": [
    "# $$\\text{Binary-Coded-HexaDecimal  to 7 Segment LED Display Decoder}$$\n"
   ]
  },
  {
   "cell_type": "code",
   "execution_count": 30,
   "id": "c2c8e33c",
   "metadata": {},
   "outputs": [],
   "source": [
    "def BChexD_7segment(p,q,r,s):\n",
    "    A,B,C,D=p,q,r,s\n",
    "    # N\n",
    "    nA=NOT(A)  # A'\n",
    "    nB=NOT(B)  # B'                      \n",
    "    nC=NOT(C)  # C'\n",
    "    nD=NOT(D)  # D'\n",
    "    \n",
    "    a= OR(OR(OR(OR(AND(nA,AND(B,D)),AND(A,AND(nB,nC))),OR(AND(nA,C),AND(B,C))),AND(nB,nD)),AND(A,nD))\n",
    "    b= OR(OR(OR(OR(AND(nA,AND(nC,nD)),AND(nA,AND(C,D))),AND(A,AND(nC,D))),AND(nB,nC)),AND(nB,nD))\n",
    "    c= OR(OR(OR(OR(AND(nA,nC),AND(nA,D)),AND(nC,D)),AND(nA,B)),AND(A,nB))\n",
    "    d= OR(OR(OR(OR(AND(nA,AND(nB,nD)),AND(nB,AND(C,D))),AND(B,AND(nC,D))),AND(B,AND(C,nD))),AND(A,nC))\n",
    "    e= OR(OR(OR(AND(nB,nD),AND(C,nD)),AND(A,C)),AND(A,B))\n",
    "    f= OR(OR(OR(OR(AND(nA,AND(B,nC)),AND(nC,nD)),AND(B,nD)),AND(A,nB)),AND(A,C))\n",
    "    g= OR(OR(OR(OR(AND(nA,AND(B,nC)),AND(nB,C)),AND(C,nD)),AND(A,nB)),AND(A,D))\n",
    "    return a,b,c,d,e,f,g"
   ]
  },
  {
   "cell_type": "code",
   "execution_count": 31,
   "id": "712b79fc",
   "metadata": {},
   "outputs": [
    {
     "name": "stdout",
     "output_type": "stream",
     "text": [
      "Input \t |\t Output\n",
      " A B C D | a b c d e f g | Display in 7 segment\n",
      "_______________________________________________\n",
      " 0 0 0 0 | 1 1 1 1 1 1 0 |\n",
      "\u001b[1;31;48m\t\t\t\t\t   _ \n",
      "\t\t\t\t\t |   | \n",
      "\t\t\t\t\t | _ |\u001b[0m\n",
      "     \n",
      "_______________________________________________\n",
      " 0 0 0 1 | 0 1 1 0 0 0 0 |\n",
      "\u001b[1;31;48m\t\t\t\t\t     \n",
      "\t\t\t\t\t     | \n",
      "\t\t\t\t\t     |\u001b[0m\n",
      "     \n",
      "_______________________________________________\n",
      " 0 0 1 0 | 1 1 0 1 1 0 1 |\n",
      "\u001b[1;31;48m\t\t\t\t\t   _ \n",
      "\t\t\t\t\t   _ | \n",
      "\t\t\t\t\t | _  \u001b[0m\n",
      "     \n",
      "_______________________________________________\n",
      " 0 0 1 1 | 1 1 1 1 0 0 1 |\n",
      "\u001b[1;31;48m\t\t\t\t\t   _ \n",
      "\t\t\t\t\t   _ | \n",
      "\t\t\t\t\t   _ |\u001b[0m\n",
      "     \n",
      "_______________________________________________\n",
      " 0 1 0 0 | 0 1 1 0 0 1 1 |\n",
      "\u001b[1;31;48m\t\t\t\t\t     \n",
      "\t\t\t\t\t | _ | \n",
      "\t\t\t\t\t     |\u001b[0m\n",
      "     \n",
      "_______________________________________________\n",
      " 0 1 0 1 | 1 0 1 1 0 1 1 |\n",
      "\u001b[1;31;48m\t\t\t\t\t   _ \n",
      "\t\t\t\t\t | _   \n",
      "\t\t\t\t\t   _ |\u001b[0m\n",
      "     \n",
      "_______________________________________________\n",
      " 0 1 1 0 | 1 0 1 1 1 1 1 |\n",
      "\u001b[1;31;48m\t\t\t\t\t   _ \n",
      "\t\t\t\t\t | _   \n",
      "\t\t\t\t\t | _ |\u001b[0m\n",
      "     \n",
      "_______________________________________________\n",
      " 0 1 1 1 | 1 1 1 0 0 0 0 |\n",
      "\u001b[1;31;48m\t\t\t\t\t   _ \n",
      "\t\t\t\t\t     | \n",
      "\t\t\t\t\t     |\u001b[0m\n",
      "     \n",
      "_______________________________________________\n",
      " 1 0 0 0 | 1 1 1 1 1 1 1 |\n",
      "\u001b[1;31;48m\t\t\t\t\t   _ \n",
      "\t\t\t\t\t | _ | \n",
      "\t\t\t\t\t | _ |\u001b[0m\n",
      "     \n",
      "_______________________________________________\n",
      " 1 0 0 1 | 1 1 1 1 0 1 1 |\n",
      "\u001b[1;31;48m\t\t\t\t\t   _ \n",
      "\t\t\t\t\t | _ | \n",
      "\t\t\t\t\t   _ |\u001b[0m\n",
      "     \n",
      "_______________________________________________\n",
      " 1 0 1 0 | 1 1 1 0 1 1 1 |\n",
      "\u001b[1;31;48m\t\t\t\t\t   _ \n",
      "\t\t\t\t\t | _ | \n",
      "\t\t\t\t\t |   |\u001b[0m\n",
      "     \n",
      "_______________________________________________\n",
      " 1 0 1 1 | 0 0 1 1 1 1 1 |\n",
      "\u001b[1;31;48m\t\t\t\t\t     \n",
      "\t\t\t\t\t | _   \n",
      "\t\t\t\t\t | _ |\u001b[0m\n",
      "     \n",
      "_______________________________________________\n",
      " 1 1 0 0 | 1 0 0 1 1 1 0 |\n",
      "\u001b[1;31;48m\t\t\t\t\t   _ \n",
      "\t\t\t\t\t |     \n",
      "\t\t\t\t\t | _  \u001b[0m\n",
      "     \n",
      "_______________________________________________\n",
      " 1 1 0 1 | 0 1 1 1 1 0 1 |\n",
      "\u001b[1;31;48m\t\t\t\t\t     \n",
      "\t\t\t\t\t   _ | \n",
      "\t\t\t\t\t | _ |\u001b[0m\n",
      "     \n",
      "_______________________________________________\n",
      " 1 1 1 0 | 1 0 0 1 1 1 1 |\n",
      "\u001b[1;31;48m\t\t\t\t\t   _ \n",
      "\t\t\t\t\t | _   \n",
      "\t\t\t\t\t | _  \u001b[0m\n",
      "     \n",
      "_______________________________________________\n",
      " 1 1 1 1 | 1 0 0 0 1 1 1 |\n",
      "\u001b[1;31;48m\t\t\t\t\t   _ \n",
      "\t\t\t\t\t | _   \n",
      "\t\t\t\t\t |    \u001b[0m\n",
      "     \n",
      "_______________________________________________\n"
     ]
    }
   ],
   "source": [
    "print('Input','\\t |\\t','Output')\n",
    "print(' A','B','C','D','|','a','b','c','d','e','f','g','|','Display in 7 segment')\n",
    "for w,x,y,z in zip(P1,Q1,R1,S1):\n",
    "    a,b,c,d,e,f,g=BChexD_7segment(w,x,y,z)\n",
    "    print('_______________________________________________')\n",
    "    print('',w,x,y,z,'|',a,b,c,d,e,f,g,'|')\n",
    "    print(display_7_segment(a,b,c,d,e,f,g))\n",
    "print('_______________________________________________')"
   ]
  },
  {
   "cell_type": "code",
   "execution_count": null,
   "id": "43b8aa71",
   "metadata": {},
   "outputs": [],
   "source": []
  }
 ],
 "metadata": {
  "kernelspec": {
   "display_name": "Python 3 (ipykernel)",
   "language": "python",
   "name": "python3"
  },
  "language_info": {
   "codemirror_mode": {
    "name": "ipython",
    "version": 3
   },
   "file_extension": ".py",
   "mimetype": "text/x-python",
   "name": "python",
   "nbconvert_exporter": "python",
   "pygments_lexer": "ipython3",
   "version": "3.9.12"
  }
 },
 "nbformat": 4,
 "nbformat_minor": 5
}
