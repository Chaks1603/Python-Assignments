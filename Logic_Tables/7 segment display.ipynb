{
 "cells": [
  {
   "cell_type": "code",
   "execution_count": 15,
   "id": "1dd71325",
   "metadata": {},
   "outputs": [
    {
     "name": "stdout",
     "output_type": "stream",
     "text": [
      " _ \n",
      "| | \n",
      "|_|\n"
     ]
    }
   ],
   "source": [
    "print(\" _ \\n| | \\n|_|\")"
   ]
  },
  {
   "cell_type": "code",
   "execution_count": 16,
   "id": "30de80c5",
   "metadata": {},
   "outputs": [
    {
     "name": "stdout",
     "output_type": "stream",
     "text": [
      "   \n",
      "  |\n",
      "  |\n"
     ]
    }
   ],
   "source": [
    "print(\"   \\n  |\\n  |\")"
   ]
  },
  {
   "cell_type": "code",
   "execution_count": 17,
   "id": "58bac7b7",
   "metadata": {},
   "outputs": [
    {
     "name": "stdout",
     "output_type": "stream",
     "text": [
      " _ \n",
      " _|\n",
      "|_ \n"
     ]
    }
   ],
   "source": [
    "print(\" _ \\n _|\\n|_ \")"
   ]
  },
  {
   "cell_type": "code",
   "execution_count": 18,
   "id": "350a4ee9",
   "metadata": {},
   "outputs": [
    {
     "name": "stdout",
     "output_type": "stream",
     "text": [
      " _ \n",
      " _|\n",
      " _|\n"
     ]
    }
   ],
   "source": [
    "print(\" _ \\n _|\\n _|\")"
   ]
  },
  {
   "cell_type": "code",
   "execution_count": 19,
   "id": "d4b574d8",
   "metadata": {},
   "outputs": [
    {
     "name": "stdout",
     "output_type": "stream",
     "text": [
      "   \n",
      "|_|\n",
      "  |\n"
     ]
    }
   ],
   "source": [
    "print(\"   \\n|_|\\n  |\")"
   ]
  },
  {
   "cell_type": "code",
   "execution_count": 20,
   "id": "206d566c",
   "metadata": {},
   "outputs": [
    {
     "name": "stdout",
     "output_type": "stream",
     "text": [
      " _ \n",
      "|_ \n",
      " _|\n"
     ]
    }
   ],
   "source": [
    "print(\" _ \\n|_ \\n _|\")"
   ]
  },
  {
   "cell_type": "code",
   "execution_count": 21,
   "id": "9098b48e",
   "metadata": {},
   "outputs": [
    {
     "name": "stdout",
     "output_type": "stream",
     "text": [
      " _ \n",
      "|_ \n",
      "|_|\n"
     ]
    }
   ],
   "source": [
    "print(\" _ \\n|_ \\n|_|\")"
   ]
  },
  {
   "cell_type": "code",
   "execution_count": 22,
   "id": "af3f9323",
   "metadata": {},
   "outputs": [
    {
     "name": "stdout",
     "output_type": "stream",
     "text": [
      " _ \n",
      "  |\n",
      "  |\n"
     ]
    }
   ],
   "source": [
    "print(\" _ \\n  |\\n  |\")"
   ]
  },
  {
   "cell_type": "code",
   "execution_count": 23,
   "id": "7f567c6c",
   "metadata": {},
   "outputs": [
    {
     "name": "stdout",
     "output_type": "stream",
     "text": [
      " _ \n",
      "|_|\n",
      "|_|\n"
     ]
    }
   ],
   "source": [
    "print(\" _ \\n|_|\\n|_|\")"
   ]
  },
  {
   "cell_type": "code",
   "execution_count": 24,
   "id": "c18b5f33",
   "metadata": {},
   "outputs": [
    {
     "name": "stdout",
     "output_type": "stream",
     "text": [
      " _ \n",
      "|_|\n",
      " _|\n"
     ]
    }
   ],
   "source": [
    "print(\" _ \\n|_|\\n _|\")"
   ]
  },
  {
   "cell_type": "code",
   "execution_count": 25,
   "id": "2753ddfc",
   "metadata": {},
   "outputs": [
    {
     "name": "stdout",
     "output_type": "stream",
     "text": [
      " _ \n",
      "|_|\n",
      "| |\n"
     ]
    }
   ],
   "source": [
    "print(\" _ \\n|_|\\n| |\")"
   ]
  },
  {
   "cell_type": "code",
   "execution_count": 26,
   "id": "bfbbe19c",
   "metadata": {},
   "outputs": [
    {
     "name": "stdout",
     "output_type": "stream",
     "text": [
      "   \n",
      "|_\n",
      "|_|\n"
     ]
    }
   ],
   "source": [
    "print(\"   \\n|_\\n|_|\")"
   ]
  },
  {
   "cell_type": "code",
   "execution_count": 27,
   "id": "6d501ebc",
   "metadata": {},
   "outputs": [
    {
     "name": "stdout",
     "output_type": "stream",
     "text": [
      " _ \n",
      "|\n",
      "|_\n"
     ]
    }
   ],
   "source": [
    "print(\" _ \\n|\\n|_\")"
   ]
  },
  {
   "cell_type": "code",
   "execution_count": 28,
   "id": "c53971b2",
   "metadata": {},
   "outputs": [
    {
     "name": "stdout",
     "output_type": "stream",
     "text": [
      "   \n",
      " _|\n",
      "|_|\n"
     ]
    }
   ],
   "source": [
    "print(\"   \\n _|\\n|_|\")"
   ]
  },
  {
   "cell_type": "code",
   "execution_count": 29,
   "id": "541715d0",
   "metadata": {},
   "outputs": [
    {
     "name": "stdout",
     "output_type": "stream",
     "text": [
      " _ \n",
      "|_\n",
      "|_\n"
     ]
    }
   ],
   "source": [
    "print(\" _ \\n|_\\n|_\")"
   ]
  },
  {
   "cell_type": "code",
   "execution_count": 30,
   "id": "56ca4ec5",
   "metadata": {},
   "outputs": [
    {
     "name": "stdout",
     "output_type": "stream",
     "text": [
      " _ \n",
      "|_\n",
      "|\n"
     ]
    }
   ],
   "source": [
    "print(\" _ \\n|_\\n|\")"
   ]
  },
  {
   "cell_type": "code",
   "execution_count": 31,
   "id": "94ae1588",
   "metadata": {},
   "outputs": [
    {
     "name": "stdout",
     "output_type": "stream",
     "text": [
      " a \n",
      "fgb\n",
      "edc\n"
     ]
    }
   ],
   "source": [
    "print(\" a \\nfgb\\nedc\")"
   ]
  },
  {
   "cell_type": "code",
   "execution_count": 32,
   "id": "1f8b4123",
   "metadata": {},
   "outputs": [
    {
     "name": "stdout",
     "output_type": "stream",
     "text": [
      "   _ \n",
      " | _ | \n",
      " | _ |\n"
     ]
    }
   ],
   "source": [
    "a='   _'\n",
    "b='|'\n",
    "c='|'\n",
    "d='_'\n",
    "e='|'\n",
    "f='|'\n",
    "g='_'\n",
    "\n",
    "print(a,\"\\n\",f,g,b,\"\\n\",e,d,c)"
   ]
  },
  {
   "cell_type": "code",
   "execution_count": 1,
   "id": "98736f19",
   "metadata": {},
   "outputs": [],
   "source": [
    "def display_7_segment(a,b,c,d,e,f,g):\n",
    "    print( '  ',a,\"\\n\",f,g,b,\"\\n\",e,d,c)\n",
    "    return \"\""
   ]
  },
  {
   "cell_type": "code",
   "execution_count": 2,
   "id": "70f1688c",
   "metadata": {},
   "outputs": [
    {
     "name": "stdout",
     "output_type": "stream",
     "text": [
      "   1 \n",
      " 1 0 1 \n",
      " 1 1 1\n",
      "\n"
     ]
    }
   ],
   "source": [
    "a,b,c,d,e,f,g=1,1, 1, 1, 1, 1, 0\n",
    "print(display_7_segment(a,b,c,d,e,f,g))"
   ]
  },
  {
   "cell_type": "code",
   "execution_count": 3,
   "id": "fa4ea2c7",
   "metadata": {},
   "outputs": [
    {
     "name": "stdout",
     "output_type": "stream",
     "text": [
      "   _ \n",
      " |   | \n",
      " | _ |\n",
      "\n"
     ]
    }
   ],
   "source": [
    "a,b,c,d,e,f,g=(\"_\",\"|\",\"|\",\"_\",\"|\",\"|\",\" \")\n",
    "print(display_7_segment(a,b,c,d,e,f,g))"
   ]
  },
  {
   "cell_type": "code",
   "execution_count": null,
   "id": "1622a5f8",
   "metadata": {},
   "outputs": [],
   "source": []
  },
  {
   "cell_type": "code",
   "execution_count": 4,
   "id": "e1077153",
   "metadata": {},
   "outputs": [
    {
     "name": "stdout",
     "output_type": "stream",
     "text": [
      "1\n",
      "_\n"
     ]
    }
   ],
   "source": [
    "\n",
    "a = \"1\"\n",
    "print(a) \n",
    "# replace all instances of 'r' (old) with 'e' (new)\n",
    "a = a.replace(\"1\", \"_\" )\n",
    " \n",
    "\n",
    "print(a)"
   ]
  },
  {
   "cell_type": "code",
   "execution_count": 5,
   "id": "320e65b6",
   "metadata": {},
   "outputs": [
    {
     "name": "stdout",
     "output_type": "stream",
     "text": [
      "a 0\n",
      "a  \n"
     ]
    }
   ],
   "source": [
    "a = \"0\"\n",
    "print('a',a) \n",
    "a = a.replace(\"0\", \" \")\n",
    "print('a',a) "
   ]
  },
  {
   "cell_type": "code",
   "execution_count": 6,
   "id": "a5f8f2c7",
   "metadata": {},
   "outputs": [],
   "source": [
    "a=1"
   ]
  },
  {
   "cell_type": "code",
   "execution_count": 7,
   "id": "95b22a01",
   "metadata": {},
   "outputs": [
    {
     "name": "stdout",
     "output_type": "stream",
     "text": [
      "1\n",
      "_\n"
     ]
    }
   ],
   "source": [
    "if a==1:\n",
    "    a = \"1\"\n",
    "    print(a) \n",
    "    a = a.replace(\"1\", \"_\" )\n",
    "    print(a)\n",
    "elif a==0:\n",
    "    a = \"0\"\n",
    "    print('a',a) \n",
    "    a = a.replace(\"0\", \" \")\n",
    "    print('a',a)  "
   ]
  },
  {
   "cell_type": "code",
   "execution_count": 8,
   "id": "79addf58",
   "metadata": {},
   "outputs": [],
   "source": [
    "def display_7_segment1(a,b,c,d,e,f,g):\n",
    "    if a==1:\n",
    "        a = \"1\"\n",
    "        a = a.replace(\"1\", \"_\" )\n",
    "    elif a==0:\n",
    "        a = \"0\"\n",
    "        a = a.replace(\"0\", \" \")\n",
    "    if b==1:\n",
    "        b = \"1\"\n",
    "        b = b.replace(\"1\", \"|\" )\n",
    "    elif b==0:\n",
    "        b = \"0\"\n",
    "        b = b.replace(\"0\", \" \")\n",
    "    if c==1:\n",
    "        c = \"1\"\n",
    "        c = c.replace(\"1\", \"|\" )\n",
    "    elif c==0:\n",
    "        c = \"0\"\n",
    "        c = c.replace(\"0\", \" \")\n",
    "    if d==1:\n",
    "        d = \"1\"\n",
    "        d = d.replace(\"1\", \"_\" )\n",
    "    elif d==0:\n",
    "        d = \"0\"\n",
    "        d = d.replace(\"0\", \" \")\n",
    "    if e==1:\n",
    "        e = \"1\"\n",
    "        e = e.replace(\"1\", \"|\" )\n",
    "    elif e==0:\n",
    "        e = \"0\"\n",
    "        e = e.replace(\"0\", \" \")\n",
    "    if f==1:\n",
    "        f = \"1\"\n",
    "        f = f.replace(\"1\", \"|\" )\n",
    "    elif f==0:\n",
    "        f = \"0\"\n",
    "        f = f.replace(\"0\", \" \")\n",
    "    if g==1:\n",
    "        g = \"1\"\n",
    "        g = g.replace(\"1\", \"_\" )\n",
    "    elif g==0:\n",
    "        g = \"0\"\n",
    "        g = g.replace(\"0\", \" \")\n",
    "    \n",
    "    print('  ',a,\"  \\n\",f,g,b,\"\\n\",e,d,c)\n",
    "    return ''"
   ]
  },
  {
   "cell_type": "code",
   "execution_count": 9,
   "id": "d0061bb7",
   "metadata": {},
   "outputs": [
    {
     "name": "stdout",
     "output_type": "stream",
     "text": [
      "   _   \n",
      " | _   \n",
      " |    \n",
      "\n"
     ]
    }
   ],
   "source": [
    "a,b,c,d,e,f,g= 1,0,0,0,1,1,1\n",
    "print(display_7_segment1(a,b,c,d,e,f,g))"
   ]
  },
  {
   "cell_type": "code",
   "execution_count": 106,
   "id": "c8f464e3",
   "metadata": {},
   "outputs": [],
   "source": [
    "def display_7_segment11(a,b,c,d,e,f,g):\n",
    "    if a==1:\n",
    "        a = \"1\"\n",
    "        a = a.replace(\"1\", \"_\" )\n",
    "    elif a==0:\n",
    "        a = \"0\"\n",
    "        a = a.replace(\"0\", \" \")\n",
    "    if b==1:\n",
    "        b = \"1\"\n",
    "        b = b.replace(\"1\", \"|\" )\n",
    "    elif b==0:\n",
    "        b = \"0\"\n",
    "        b = b.replace(\"0\", \" \")\n",
    "    if c==1:\n",
    "        c = \"1\"\n",
    "        c = c.replace(\"1\", \"|\" )\n",
    "    elif c==0:\n",
    "        c = \"0\"\n",
    "        c = c.replace(\"0\", \" \")\n",
    "    if d==1:\n",
    "        d = \"1\"\n",
    "        d = d.replace(\"1\", \"_\" )\n",
    "    elif d==0:\n",
    "        d = \"0\"\n",
    "        d = d.replace(\"0\", \" \")\n",
    "    if e==1:\n",
    "        e = \"1\"\n",
    "        e = e.replace(\"1\", \"|\" )\n",
    "    elif e==0:\n",
    "        e = \"0\"\n",
    "        e = e.replace(\"0\", \" \")\n",
    "    if f==1:\n",
    "        f = \"1\"\n",
    "        f = f.replace(\"1\", \"|\" )\n",
    "    elif f==0:\n",
    "        f = \"0\"\n",
    "        f = f.replace(\"0\", \" \")\n",
    "    if g==1:\n",
    "        g = \"1\"\n",
    "        g = g.replace(\"1\", \"_\" )\n",
    "    elif g==0:\n",
    "        g = \"0\"\n",
    "        g = g.replace(\"0\", \" \")\n",
    "    print('\\t\\t\\t\\t \\033[1;31;40m  ',a,'  \\033[0m')\n",
    "    print(\"\\t\\t\\t\\t\",'\\033[1;31;40m',f,g,b,'\\033[0m')\n",
    "    print(\"\\t\\t\\t\\t\",'\\033[1;31;40m',e,d,c,'\\033[0m')\n",
    "    print(\"\\t\\t\\t\\t\",'\\033[1;31;40m  ','    \\033[0m')\n",
    "    return ''"
   ]
  },
  {
   "cell_type": "code",
   "execution_count": 107,
   "id": "92b91432",
   "metadata": {},
   "outputs": [],
   "source": [
    "A=[0,0,0,0,0,0,0,0,1,1,1,1,1,1,1,1]\n",
    "B=[0,0,0,0,1,1,1,1,0,0,0,0,1,1,1,1]\n",
    "C=[0,0,1,1,0,0,1,1,0,0,1,1,0,0,1,1]\n",
    "D=[0,1,0,1,0,1,0,1,0,1,0,1,0,1,0,1]"
   ]
  },
  {
   "cell_type": "code",
   "execution_count": 108,
   "id": "9e8783bb",
   "metadata": {},
   "outputs": [],
   "source": [
    "def NOT(a):\n",
    "    if a==1: return 0\n",
    "    else : return 1"
   ]
  },
  {
   "cell_type": "code",
   "execution_count": 109,
   "id": "dd9192a2",
   "metadata": {},
   "outputs": [],
   "source": [
    "def AND(a,b):\n",
    "    if (a==1)&(b==1): return 1\n",
    "    else : return 0"
   ]
  },
  {
   "cell_type": "code",
   "execution_count": 110,
   "id": "e8a89d52",
   "metadata": {},
   "outputs": [],
   "source": [
    "def OR(a,b):\n",
    "    if (a==1)|(b==1): return 1\n",
    "    else : return 0"
   ]
  },
  {
   "cell_type": "code",
   "execution_count": 111,
   "id": "8bef8d72",
   "metadata": {},
   "outputs": [],
   "source": [
    "def BCD_7segment_hex(p,q,r,s):\n",
    "    A,B,C,D=p,q,r,s\n",
    "    # N\n",
    "    nA=NOT(A)  # A'\n",
    "    nB=NOT(B)  # B'                      \n",
    "    nC=NOT(C)  # C'\n",
    "    nD=NOT(D)  # D'\n",
    "    \n",
    "    a= OR(OR(OR(OR(AND(nA,AND(B,D)),AND(A,AND(nB,nC))),OR(AND(nA,C),AND(B,C))),AND(nB,nD)),AND(A,nD))\n",
    "    b= OR(OR(OR(OR(AND(nA,AND(nC,nD)),AND(nA,AND(C,D))),AND(A,AND(nC,D))),AND(nB,nC)),AND(nB,nD))\n",
    "    c= OR(OR(OR(OR(AND(nA,nC),AND(nA,D)),AND(nC,D)),AND(nA,B)),AND(A,nB))\n",
    "    d= OR(OR(OR(OR(AND(nA,AND(nB,nD)),AND(nB,AND(C,D))),AND(B,AND(nC,D))),AND(B,AND(C,nD))),AND(A,nC))\n",
    "    e= OR(OR(OR(AND(nB,nD),AND(C,nD)),AND(A,C)),AND(A,B))\n",
    "    f= OR(OR(OR(OR(AND(nA,AND(B,nC)),AND(nC,nD)),AND(B,nD)),AND(A,nB)),AND(A,C))\n",
    "    g= OR(OR(OR(OR(AND(nA,AND(B,nC)),AND(nB,C)),AND(C,nD)),AND(A,nB)),AND(A,D))\n",
    "    return a,b,c,d,e,f,g"
   ]
  },
  {
   "cell_type": "code",
   "execution_count": 112,
   "id": "9292ed03",
   "metadata": {
    "scrolled": false
   },
   "outputs": [
    {
     "name": "stdout",
     "output_type": "stream",
     "text": [
      "A B C D | a b c d e f g | Display in 7 segment\n",
      "0 0 0 0 | 1 1 1 1 1 1 0 |\n",
      "\t\t\t\t \u001b[1;31;40m   _   \u001b[0m\n",
      "\t\t\t\t \u001b[1;31;40m |   | \u001b[0m\n",
      "\t\t\t\t \u001b[1;31;40m | _ | \u001b[0m\n",
      "\t\t\t\t \u001b[1;31;40m       \u001b[0m\n",
      "\n",
      "0 0 0 1 | 0 1 1 0 0 0 0 |\n",
      "\t\t\t\t \u001b[1;31;40m       \u001b[0m\n",
      "\t\t\t\t \u001b[1;31;40m     | \u001b[0m\n",
      "\t\t\t\t \u001b[1;31;40m     | \u001b[0m\n",
      "\t\t\t\t \u001b[1;31;40m       \u001b[0m\n",
      "\n",
      "0 0 1 0 | 1 1 0 1 1 0 1 |\n",
      "\t\t\t\t \u001b[1;31;40m   _   \u001b[0m\n",
      "\t\t\t\t \u001b[1;31;40m   _ | \u001b[0m\n",
      "\t\t\t\t \u001b[1;31;40m | _   \u001b[0m\n",
      "\t\t\t\t \u001b[1;31;40m       \u001b[0m\n",
      "\n",
      "0 0 1 1 | 1 1 1 1 0 0 1 |\n",
      "\t\t\t\t \u001b[1;31;40m   _   \u001b[0m\n",
      "\t\t\t\t \u001b[1;31;40m   _ | \u001b[0m\n",
      "\t\t\t\t \u001b[1;31;40m   _ | \u001b[0m\n",
      "\t\t\t\t \u001b[1;31;40m       \u001b[0m\n",
      "\n",
      "0 1 0 0 | 0 1 1 0 0 1 1 |\n",
      "\t\t\t\t \u001b[1;31;40m       \u001b[0m\n",
      "\t\t\t\t \u001b[1;31;40m | _ | \u001b[0m\n",
      "\t\t\t\t \u001b[1;31;40m     | \u001b[0m\n",
      "\t\t\t\t \u001b[1;31;40m       \u001b[0m\n",
      "\n",
      "0 1 0 1 | 1 0 1 1 0 1 1 |\n",
      "\t\t\t\t \u001b[1;31;40m   _   \u001b[0m\n",
      "\t\t\t\t \u001b[1;31;40m | _   \u001b[0m\n",
      "\t\t\t\t \u001b[1;31;40m   _ | \u001b[0m\n",
      "\t\t\t\t \u001b[1;31;40m       \u001b[0m\n",
      "\n",
      "0 1 1 0 | 1 0 1 1 1 1 1 |\n",
      "\t\t\t\t \u001b[1;31;40m   _   \u001b[0m\n",
      "\t\t\t\t \u001b[1;31;40m | _   \u001b[0m\n",
      "\t\t\t\t \u001b[1;31;40m | _ | \u001b[0m\n",
      "\t\t\t\t \u001b[1;31;40m       \u001b[0m\n",
      "\n",
      "0 1 1 1 | 1 1 1 0 0 0 0 |\n",
      "\t\t\t\t \u001b[1;31;40m   _   \u001b[0m\n",
      "\t\t\t\t \u001b[1;31;40m     | \u001b[0m\n",
      "\t\t\t\t \u001b[1;31;40m     | \u001b[0m\n",
      "\t\t\t\t \u001b[1;31;40m       \u001b[0m\n",
      "\n",
      "1 0 0 0 | 1 1 1 1 1 1 1 |\n",
      "\t\t\t\t \u001b[1;31;40m   _   \u001b[0m\n",
      "\t\t\t\t \u001b[1;31;40m | _ | \u001b[0m\n",
      "\t\t\t\t \u001b[1;31;40m | _ | \u001b[0m\n",
      "\t\t\t\t \u001b[1;31;40m       \u001b[0m\n",
      "\n",
      "1 0 0 1 | 1 1 1 1 0 1 1 |\n",
      "\t\t\t\t \u001b[1;31;40m   _   \u001b[0m\n",
      "\t\t\t\t \u001b[1;31;40m | _ | \u001b[0m\n",
      "\t\t\t\t \u001b[1;31;40m   _ | \u001b[0m\n",
      "\t\t\t\t \u001b[1;31;40m       \u001b[0m\n",
      "\n",
      "1 0 1 0 | 1 1 1 0 1 1 1 |\n",
      "\t\t\t\t \u001b[1;31;40m   _   \u001b[0m\n",
      "\t\t\t\t \u001b[1;31;40m | _ | \u001b[0m\n",
      "\t\t\t\t \u001b[1;31;40m |   | \u001b[0m\n",
      "\t\t\t\t \u001b[1;31;40m       \u001b[0m\n",
      "\n",
      "1 0 1 1 | 0 0 1 1 1 1 1 |\n",
      "\t\t\t\t \u001b[1;31;40m       \u001b[0m\n",
      "\t\t\t\t \u001b[1;31;40m | _   \u001b[0m\n",
      "\t\t\t\t \u001b[1;31;40m | _ | \u001b[0m\n",
      "\t\t\t\t \u001b[1;31;40m       \u001b[0m\n",
      "\n",
      "1 1 0 0 | 1 0 0 1 1 1 0 |\n",
      "\t\t\t\t \u001b[1;31;40m   _   \u001b[0m\n",
      "\t\t\t\t \u001b[1;31;40m |     \u001b[0m\n",
      "\t\t\t\t \u001b[1;31;40m | _   \u001b[0m\n",
      "\t\t\t\t \u001b[1;31;40m       \u001b[0m\n",
      "\n",
      "1 1 0 1 | 0 1 1 1 1 0 1 |\n",
      "\t\t\t\t \u001b[1;31;40m       \u001b[0m\n",
      "\t\t\t\t \u001b[1;31;40m   _ | \u001b[0m\n",
      "\t\t\t\t \u001b[1;31;40m | _ | \u001b[0m\n",
      "\t\t\t\t \u001b[1;31;40m       \u001b[0m\n",
      "\n",
      "1 1 1 0 | 1 0 0 1 1 1 1 |\n",
      "\t\t\t\t \u001b[1;31;40m   _   \u001b[0m\n",
      "\t\t\t\t \u001b[1;31;40m | _   \u001b[0m\n",
      "\t\t\t\t \u001b[1;31;40m | _   \u001b[0m\n",
      "\t\t\t\t \u001b[1;31;40m       \u001b[0m\n",
      "\n",
      "1 1 1 1 | 1 0 0 0 1 1 1 |\n",
      "\t\t\t\t \u001b[1;31;40m   _   \u001b[0m\n",
      "\t\t\t\t \u001b[1;31;40m | _   \u001b[0m\n",
      "\t\t\t\t \u001b[1;31;40m |     \u001b[0m\n",
      "\t\t\t\t \u001b[1;31;40m       \u001b[0m\n",
      "\n"
     ]
    }
   ],
   "source": [
    "print('A','B','C','D','|','a','b','c','d','e','f','g','|','Display in 7 segment')\n",
    "for w,x,y,z in zip(A,B,C,D):\n",
    "    a,b,c,d,e,f,g=BCD_7segment_hex(w,x,y,z)\n",
    "    print(w,x,y,z,'|',a,b,c,d,e,f,g, '|')\n",
    "    print(display_7_segment11(a,b,c,d,e,f,g))"
   ]
  },
  {
   "cell_type": "code",
   "execution_count": null,
   "id": "fffd7f66",
   "metadata": {},
   "outputs": [],
   "source": []
  }
 ],
 "metadata": {
  "kernelspec": {
   "display_name": "Python 3 (ipykernel)",
   "language": "python",
   "name": "python3"
  },
  "language_info": {
   "codemirror_mode": {
    "name": "ipython",
    "version": 3
   },
   "file_extension": ".py",
   "mimetype": "text/x-python",
   "name": "python",
   "nbconvert_exporter": "python",
   "pygments_lexer": "ipython3",
   "version": "3.9.12"
  }
 },
 "nbformat": 4,
 "nbformat_minor": 5
}
