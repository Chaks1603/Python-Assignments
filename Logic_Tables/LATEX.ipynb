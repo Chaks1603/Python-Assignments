{
 "cells": [
  {
   "cell_type": "markdown",
   "id": "0a8c95e5",
   "metadata": {},
   "source": [
    "|Syntax|Output|                                                 \n",
    "|:---:|:---:|                                         \n",
    "|` $x_n$ `| $x_n$|                               \n",
    "|` $\\infty$ `|$\\infty$ |\n",
    "|` $\\frac{a}{b}$ `|$\\frac{a}{b}$ |\n",
    "|` $\\partial$ `|$\\partial$ |\n",
    "|` $\\alpha$ `|$\\alpha$ |\n",
    "|` $\\beta$ `|$\\beta$ |\n",
    "|` $\\gamma$ `| $\\gamma$|\n",
    "|` $\\Gamma$ `|$\\Gamma$ |\n",
    "|` $\\delta$ `|$\\delta$ |\n",
    "|` $\\Delta$ `|$\\Delta$ |\n",
    "|` $\\epsilon$ `| $\\epsilon$|\n",
    "|` $\\upsilon$ `| $\\upsilon$|\n",
    "|` $\\zeta$ `|$\\zeta$ |\n",
    "|` $\\eta$ `|$\\eta$ |\n",
    "|` $\\iota$ `|$\\iota$ |\n",
    "|` $\\kappa$ `|$\\kappa$ |\n",
    "|` $\\lambda$ `|$\\lambda$ |\n",
    "|` $\\Lambda$ `| $\\Lambda$|\n",
    "|`$\\varphi$  `|$\\varphi$ |\n",
    "|` $\\mu$ `|$\\mu$ |\n",
    "|` $\\nu$ `| $\\nu$|\n",
    "|` $\\xi$ `| $\\xi$ |\n",
    "|` $\\pi$ `| $\\pi$|\n",
    "|` $\\theta$ `|$\\theta$ |\n",
    "|` $\\Theta$ `|$\\Theta$ |\n",
    "|` $\\phi$ `|$\\phi$ |\n",
    "|` $\\Phi$ `|$\\Phi$ |\n",
    "|` $\\psi$ `| $\\psi$|\n",
    "|` $\\Psi$ `| $\\Psi$|\n",
    "|`$\\rho$  `|$\\rho$ |\n",
    "|` $\\sigma$ `|$\\sigma$  |\n",
    "|` $\\Sigma$ `|$\\Sigma$  |\n",
    "|` $\\tau$ `|$\\tau$ |\n",
    "|` $\\upsilon$ `|$\\upsilon$ |\n",
    "|` $\\chi$ `| $\\chi$|\n",
    "|` $\\omega$ `|$\\omega$ |\n",
    "|` $\\Omega$ `|$\\Omega$ |\n",
    "|`  `| |\n",
    "|` $\\mathrm{Hom}$ `| $\\mathrm{Hom}$|\n",
    "|` $\\mathbb{Z}$ `|$\\mathbb{Z}$ |\n",
    "|` $\\mathscr{L}$ `| $\\mathscr{L}$|\n",
    "|` $\\mathfrak{g}$ `|$\\mathfrak{g}$ |\n",
    "|` $\\mathbf{v}$ `|$\\mathbf{v}$ |\n",
    "|`  `| |\n",
    "|`$\\dots$  `|$\\dots$ |  \n",
    "|`$\\vdots$  `|$\\vdots$ |\n",
    "|`$\\ddots$  `| $\\ddots$|\n",
    "|`  `| |\n",
    "|` $\\sin$ `|$\\sin$ |\n",
    "|` $\\cos$ `|$\\cos$ |\n",
    "|` $\\tan$ `| $\\tan$|\n",
    "|` $\\sum_{n=0}^{\\infty}$ `|$\\displaystyle{\\sum_{n=0}^{\\infty}}$ |\n",
    "|` $\\prod_{n=0}^{\\infty}$ `|$\\displaystyle{\\prod_{n=0}^{\\infty}}$ |\n",
    "|` $\\int_a^b$ `|$\\displaystyle\\int_a^b$ |\n",
    "|` $\\lim_{x \\to a}$ `|$\\displaystyle\\lim_{x \\to a}$ |\n",
    "|` $\\frac{\\partial}{\\partial{x}$ `|$\\frac{\\partial}{\\partial{x}}$  |\n",
    "|` $\\nabla$ `|$\\nabla$ |\n",
    "|`  `| |\n",
    "|`  `| |\n",
    "|`$\\varphi$  `|$\\varphi$ |\n",
    "|`  `| |\n",
    "|`  `| |\n",
    "|`  `| |\n",
    "|`  `| |\n",
    "|`  `| |"
   ]
  },
  {
   "cell_type": "markdown",
   "id": "c86ed2b5",
   "metadata": {},
   "source": [
    "|    |    |\n",
    "|---|---|\n",
    "|`$\\begin{matrix} a & b \\\\ c & d \\end{matrix}$`|$\\qquad\\begin{matrix} a & b \\\\ c & d \\end{matrix}$|\n",
    "|`$\\begin{pmatrix} a & b \\\\ c & d \\end{pmatrix}$`|$\\qquad\\begin{pmatrix} a & b \\\\ c & d \\end{pmatrix}$|\n",
    "|`\\begin{equation*}|x| = \\left\\{\\begin{array}{rl} -x & \\text{if } x < 0,\\\\ x & \\text{if } x > 0.\\end{array}\\right.\\end{equation*}` | $\\begin{equation*}|x| = \\left\\{\\begin{array}{rl}-x & \\text{if } x < 0,\\\\x & \\text{if } x > 0.\\end{array} \\right.\\end{equation*}$|\n",
    "|`$\\begin{bmatrix} 1 & 2 & 1 \\\\ 3 & 0 & 1 \\\\ 0 & 2 & 4 \\end{bmatrix}$`|$\\qquad\\begin{bmatrix} 1 & 2 & 1 \\\\ 3 & 0 & 1 \\\\ 0 & 2 & 4 \\end{bmatrix}$|\n"
   ]
  },
  {
   "cell_type": "markdown",
   "id": "f2e2be83",
   "metadata": {},
   "source": [
    "the angle sum identity$ \\\\ \\qquad\\qquad\\displaystyle{\\cos(\\alpha\\pm\\beta)=\\cos \\alpha \\cos \\beta \\mp \\sin \\alpha \\sin \\beta}$"
   ]
  },
  {
   "cell_type": "markdown",
   "id": "2de25b6d",
   "metadata": {},
   "source": [
    "the indefinite integral$ \\\\ \\qquad\\qquad\\displaystyle{\\int \\frac{1}{1+x^2} dx=\\arctan x+C }$"
   ]
  },
  {
   "cell_type": "markdown",
   "id": "683c601d",
   "metadata": {},
   "source": [
    "the Navier-Stokes Equation for Incompressible Flow$ \\\\ \\qquad\\qquad\\displaystyle{\\frac{\\partial \\mathbf{u}}{\\partial{t}}+(\\mathbf{u}\\cdot\\nabla)\\mathbf{u}-\\upsilon\\nabla^2\\mathbf{u}=-\\nabla{w}+\\mathbf{g}}$"
   ]
  },
  {
   "cell_type": "markdown",
   "id": "61a1ec9f",
   "metadata": {},
   "source": [
    "Green's Theorem$ \\\\ \\qquad\\qquad\\displaystyle{\\oint_c(Ldx+Mdy)=\\iint_D\\Big(\\frac{\\partial{M}}{\\partial{x}}-\\frac{\\partial{L}}{\\partial{y}}\\Big)dxdy}$"
   ]
  },
  {
   "cell_type": "markdown",
   "id": "e9061568",
   "metadata": {},
   "source": [
    "the Prime Number Theorem$ \\\\ \\qquad\\qquad\\displaystyle{\\lim_{x \\to \\infty} \\frac{\\pi(x)}{\\frac{x}{\\log{x}}} = 1}$"
   ]
  },
  {
   "cell_type": "markdown",
   "id": "376e524f",
   "metadata": {},
   "source": [
    "the general formula for Taylor series$ \\\\ \\qquad\\qquad\\displaystyle{\\sum_{n=0}^{\\infty} \\frac{f^{(n)} (a)}{n!}(x-a)^n}$"
   ]
  },
  {
   "cell_type": "markdown",
   "id": "55d2ac2a",
   "metadata": {},
   "source": [
    "the tensor product$ \\\\ \\qquad\\qquad\\mathrm{Hom}(U\\otimes V,W)\\cong\\mathrm{Hom}(U,\\mathrm{Hom}(V,W))$"
   ]
  },
  {
   "cell_type": "markdown",
   "id": "7ff55d53",
   "metadata": {},
   "source": [
    "the Laplace transform$ \\\\ \\qquad\\qquad\\displaystyle{\\mathscr{L}f(t)=F(s)=\\int_0^\\infty f(t)e^{-st}dt  }$"
   ]
  },
  {
   "cell_type": "markdown",
   "id": "df93176d",
   "metadata": {},
   "source": [
    "the inverse matrix formula$ \\\\ \\qquad\\qquad\\displaystyle{\\begin{bmatrix} a & b  \\\\ c & d \\end{bmatrix}^{-1}=\\frac{1}{ad-bc} \\begin{bmatrix} d & -b  \\\\ -c & a \\end{bmatrix}}$"
   ]
  },
  {
   "cell_type": "markdown",
   "id": "4aec09f4",
   "metadata": {},
   "source": [
    "the infinite product formula $ \\\\ \\qquad\\qquad\\displaystyle{\\sin(x)=x\\prod_{n=1}^\\infty \\Big(1-\\frac{x^2}{\\pi^2 n^2}\\Big)}$"
   ]
  },
  {
   "cell_type": "markdown",
   "id": "edec174c",
   "metadata": {},
   "source": [
    "$\\hat{a}, \\bar{a}, \\tilde{a}$ \n",
    "\n",
    "$\\hat{\\mathbf{a}}, \\bar{\\mathbf{a}}, \\tilde{\\mathbf{a}}$ \n",
    "\n",
    "$\\mathbf{\\hat{a}}, \\mathbf{\\bar{a}}, \\mathbf{\\tilde{a}}$ \n",
    "\n",
    "$\\thickhat{a}, \\thickbar{a}, \\tilde{(a\\cdot b)}$ \n",
    "$\\downarrow$"
   ]
  },
  {
   "cell_type": "code",
   "execution_count": null,
   "id": "9972f748",
   "metadata": {},
   "outputs": [],
   "source": []
  },
  {
   "cell_type": "code",
   "execution_count": null,
   "id": "ce197cf0",
   "metadata": {},
   "outputs": [],
   "source": []
  },
  {
   "cell_type": "code",
   "execution_count": 3,
   "id": "ed22e92e",
   "metadata": {},
   "outputs": [
    {
     "name": "stdout",
     "output_type": "stream",
     "text": [
      "\u001b[0;37;40m Normal text\n",
      "\n",
      "\u001b[2;37;40m Underlined text\u001b[0;37;40m \n",
      "\n",
      "\u001b[1;37;40m Bright Colour\u001b[0;37;40m \n",
      "\n",
      "\u001b[3;37;40m Negative Colour\u001b[0;37;40m \n",
      "\n",
      "\u001b[5;37;40m Negative Colour\u001b[0;37;40m\n",
      "\n",
      "\u001b[1;37;40m \u001b[2;37:40m TextColour BlackBackground          TextColour GreyBackground                WhiteText ColouredBackground\u001b[0;37;40m\n",
      "\n",
      "\u001b[1;30;40m Dark Gray      \u001b[0m 1;30;40m            \u001b[0;30;47m Black      \u001b[0m 0;30;47m               \u001b[0;37;41m Black      \u001b[0m 0;37;41m\n",
      "\u001b[1;31;40m Bright Red     \u001b[0m 1;31;40m            \u001b[0;31;47m Red        \u001b[0m 0;31;47m               \u001b[0;37;42m Black      \u001b[0m 0;37;42m\n",
      "\u001b[1;32;40m Bright Green   \u001b[0m 1;32;40m            \u001b[0;32;47m Green      \u001b[0m 0;32;47m               \u001b[0;37;43m Black      \u001b[0m 0;37;43m\n",
      "\u001b[1;33;40m Yellow         \u001b[0m 1;33;40m            \u001b[0;33;47m Brown      \u001b[0m 0;33;47m               \u001b[0;37;44m Black      \u001b[0m 0;37;44m\n",
      "\u001b[1;34;40m Bright Blue    \u001b[0m 1;34;40m            \u001b[0;34;47m Blue       \u001b[0m 0;34;47m               \u001b[0;37;45m Black      \u001b[0m 0;37;45m\n",
      "\u001b[1;35;40m Bright Magenta \u001b[0m 1;35;40m            \u001b[0;35;47m Magenta    \u001b[0m 0;35;47m               \u001b[0;37;46m Black      \u001b[0m 0;37;46m\n",
      "\u001b[1;36;40m Bright Cyan    \u001b[0m 1;36;40m            \u001b[0;36;47m Cyan       \u001b[0m 0;36;47m               \u001b[0;37;47m Black      \u001b[0m 0;37;47m\n",
      "\u001b[1;37;40m White          \u001b[0m 1;37;40m            \u001b[0;37;40m Light Grey \u001b[0m 0;37;40m               \u001b[0;37;48m Black      \u001b[0m 0;37;48m\n"
     ]
    }
   ],
   "source": [
    "print(\"\\033[0;37;40m Normal text\\n\")\n",
    "print(\"\\033[2;37;40m Underlined text\\033[0;37;40m \\n\")\n",
    "print(\"\\033[1;37;40m Bright Colour\\033[0;37;40m \\n\")\n",
    "print(\"\\033[3;37;40m Negative Colour\\033[0;37;40m \\n\")\n",
    "print(\"\\033[5;37;40m Negative Colour\\033[0;37;40m\\n\")\n",
    "print(\"\\033[1;37;40m \\033[2;37:40m TextColour BlackBackground          TextColour GreyBackground                WhiteText ColouredBackground\\033[0;37;40m\\n\")\n",
    "print(\"\\033[1;30;40m Dark Gray      \\033[0m 1;30;40m            \\033[0;30;47m Black      \\033[0m 0;30;47m               \\033[0;37;41m Black      \\033[0m 0;37;41m\")\n",
    "print(\"\\033[1;31;40m Bright Red     \\033[0m 1;31;40m            \\033[0;31;47m Red        \\033[0m 0;31;47m               \\033[0;37;42m Black      \\033[0m 0;37;42m\")\n",
    "print(\"\\033[1;32;40m Bright Green   \\033[0m 1;32;40m            \\033[0;32;47m Green      \\033[0m 0;32;47m               \\033[0;37;43m Black      \\033[0m 0;37;43m\")\n",
    "print(\"\\033[1;33;40m Yellow         \\033[0m 1;33;40m            \\033[0;33;47m Brown      \\033[0m 0;33;47m               \\033[0;37;44m Black      \\033[0m 0;37;44m\")\n",
    "print(\"\\033[1;34;40m Bright Blue    \\033[0m 1;34;40m            \\033[0;34;47m Blue       \\033[0m 0;34;47m               \\033[0;37;45m Black      \\033[0m 0;37;45m\")\n",
    "print(\"\\033[1;35;40m Bright Magenta \\033[0m 1;35;40m            \\033[0;35;47m Magenta    \\033[0m 0;35;47m               \\033[0;37;46m Black      \\033[0m 0;37;46m\")\n",
    "print(\"\\033[1;36;40m Bright Cyan    \\033[0m 1;36;40m            \\033[0;36;47m Cyan       \\033[0m 0;36;47m               \\033[0;37;47m Black      \\033[0m 0;37;47m\")\n",
    "print(\"\\033[1;37;40m White          \\033[0m 1;37;40m            \\033[0;37;40m Light Grey \\033[0m 0;37;40m               \\033[0;37;48m Black      \\033[0m 0;37;48m\")"
   ]
  },
  {
   "cell_type": "code",
   "execution_count": null,
   "id": "c517dad8",
   "metadata": {},
   "outputs": [],
   "source": []
  }
 ],
 "metadata": {
  "kernelspec": {
   "display_name": "Python 3 (ipykernel)",
   "language": "python",
   "name": "python3"
  },
  "language_info": {
   "codemirror_mode": {
    "name": "ipython",
    "version": 3
   },
   "file_extension": ".py",
   "mimetype": "text/x-python",
   "name": "python",
   "nbconvert_exporter": "python",
   "pygments_lexer": "ipython3",
   "version": "3.9.12"
  }
 },
 "nbformat": 4,
 "nbformat_minor": 5
}
