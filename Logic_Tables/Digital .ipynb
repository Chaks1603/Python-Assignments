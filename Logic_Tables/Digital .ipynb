{
 "cells": [
  {
   "cell_type": "markdown",
   "id": "92a9a853",
   "metadata": {},
   "source": [
    "# $$\\text{Digital Electronics}$$"
   ]
  },
  {
   "cell_type": "markdown",
   "id": "3119c1df",
   "metadata": {},
   "source": [
    "<img width=\"800\" align=\"left\" src=\"img/Screenshot%20(75).png\">"
   ]
  },
  {
   "cell_type": "markdown",
   "id": "1e3c584e",
   "metadata": {},
   "source": [
    "<img width=\"800\" align=\"left\" src=\"img/Screenshot%20(76).png\">"
   ]
  },
  {
   "cell_type": "markdown",
   "id": "44c39606",
   "metadata": {},
   "source": [
    "<img width=\"800\" align=\"left\" src=\"img/Screenshot%20(77).png\">"
   ]
  },
  {
   "cell_type": "markdown",
   "id": "b8308824",
   "metadata": {},
   "source": [
    "<img width=\"800\" align=\"left\" src=\"img/Screenshot%20(78).png\">"
   ]
  },
  {
   "cell_type": "markdown",
   "id": "67dd6cc7",
   "metadata": {},
   "source": [
    "<img width=\"800\" align=\"left\" src=\"img/Screenshot%20(79).png\">"
   ]
  },
  {
   "cell_type": "markdown",
   "id": "8c65294b",
   "metadata": {},
   "source": [
    "<img width=\"800\" align=\"left\" src=\"img/Screenshot%20(80).png\">"
   ]
  },
  {
   "cell_type": "markdown",
   "id": "8cc88f67",
   "metadata": {},
   "source": [
    "<img width=\"800\" align=\"left\" src=\"img/Screenshot%20(82).png\">"
   ]
  },
  {
   "cell_type": "markdown",
   "id": "28a6858b",
   "metadata": {},
   "source": [
    "<img width=\"800\" align=\"left\" src=\"img/Screenshot%20(81).png\">"
   ]
  },
  {
   "cell_type": "markdown",
   "id": "8aa60597",
   "metadata": {},
   "source": [
    "<img width=\"800\" align=\"left\" src=\"img/750de68d1bb24d8ca4633851e660dcc7-0001.jpg\">"
   ]
  },
  {
   "cell_type": "markdown",
   "id": "9589d8da",
   "metadata": {},
   "source": [
    "### $\\text{Logic NOT}$"
   ]
  },
  {
   "cell_type": "code",
   "execution_count": 1,
   "id": "8ef2b69b",
   "metadata": {},
   "outputs": [],
   "source": [
    "def NOT(a):\n",
    "    if a==1: return 0\n",
    "    else : return 1"
   ]
  },
  {
   "cell_type": "markdown",
   "id": "42fd5dd1",
   "metadata": {},
   "source": [
    "### $\\text{Logic AND}$"
   ]
  },
  {
   "cell_type": "code",
   "execution_count": 2,
   "id": "d27e0f78",
   "metadata": {},
   "outputs": [],
   "source": [
    "def AND(a,b):\n",
    "    if (a==1)&(b==1): return 1\n",
    "    else : return 0"
   ]
  },
  {
   "cell_type": "markdown",
   "id": "de954bd2",
   "metadata": {},
   "source": [
    "### $\\text{Logic OR}$"
   ]
  },
  {
   "cell_type": "code",
   "execution_count": 3,
   "id": "5696dc1a",
   "metadata": {},
   "outputs": [],
   "source": [
    "def OR(a,b):\n",
    "    if (a==1)|(b==1): return 1\n",
    "    else : return 0"
   ]
  },
  {
   "cell_type": "markdown",
   "id": "a0fd2495",
   "metadata": {},
   "source": [
    "### $\\text{Logic NAND}$"
   ]
  },
  {
   "cell_type": "code",
   "execution_count": 4,
   "id": "c92db099",
   "metadata": {},
   "outputs": [],
   "source": [
    "def NAND(a,b):\n",
    "    if (a==1)&(b==1): return 0\n",
    "    else : return 1"
   ]
  },
  {
   "cell_type": "markdown",
   "id": "3c6ccf12",
   "metadata": {},
   "source": [
    "### $\\text{Logic NOR}$"
   ]
  },
  {
   "cell_type": "code",
   "execution_count": 5,
   "id": "debe9e09",
   "metadata": {},
   "outputs": [],
   "source": [
    "def NOR(a,b):\n",
    "    if (a==1)|(b==1): return 0\n",
    "    else : return 1"
   ]
  },
  {
   "cell_type": "markdown",
   "id": "3375379b",
   "metadata": {},
   "source": [
    "### $\\text{Logic Exclusive-OR}$"
   ]
  },
  {
   "cell_type": "code",
   "execution_count": 6,
   "id": "47ca7d1f",
   "metadata": {},
   "outputs": [],
   "source": [
    "def XOR(a,b):\n",
    "    if a==b: return 0\n",
    "    else : return 1"
   ]
  },
  {
   "cell_type": "markdown",
   "id": "b2e87d8d",
   "metadata": {},
   "source": [
    "### $\\text{Logic Exclusive-NOR}$"
   ]
  },
  {
   "cell_type": "code",
   "execution_count": 7,
   "id": "9370c878",
   "metadata": {},
   "outputs": [],
   "source": [
    "def XNOR(a,b):\n",
    "    if a==b: return 1\n",
    "    else : return 0"
   ]
  },
  {
   "cell_type": "markdown",
   "id": "9b724ab5",
   "metadata": {},
   "source": [
    "$\\text{Inputs}$"
   ]
  },
  {
   "cell_type": "code",
   "execution_count": 8,
   "id": "9e5f0eb0",
   "metadata": {},
   "outputs": [],
   "source": [
    "A=[0,0,1,1]\n",
    "B=[0,1,0,1]\n",
    "\n",
    "X1=[0,0,0,0,1,1,1,1]\n",
    "Y1=[0,0,1,1,0,0,1,1]\n",
    "Z1=[0,1,0,1,0,1,0,1]\n",
    "\n",
    "\n",
    "P1=[0,0,0,0,0,0,0,0,1,1,1,1,1,1,1,1]\n",
    "Q1=[0,0,0,0,1,1,1,1,0,0,0,0,1,1,1,1]\n",
    "R1=[0,0,1,1,0,0,1,1,0,0,1,1,0,0,1,1]\n",
    "S1=[0,1,0,1,0,1,0,1,0,1,0,1,0,1,0,1]"
   ]
  },
  {
   "cell_type": "markdown",
   "id": "20c67efb",
   "metadata": {},
   "source": [
    "#### Checking the analytic function output of Logic"
   ]
  },
  {
   "cell_type": "code",
   "execution_count": 9,
   "id": "c97b70e5",
   "metadata": {},
   "outputs": [
    {
     "name": "stdout",
     "output_type": "stream",
     "text": [
      "Input |\t Output\n",
      " 𝑎 𝑏  | 𝑎̃  𝑏̃  𝑎⋅𝑏  𝑎+𝑏 𝑎↑𝑏  𝑎↓𝑏  𝑎⊕𝑏 𝑎⊙𝑏\n",
      " 0 0  | 1  1   0    0   1    1    0    1\n",
      " 0 1  | 1  0   0    1   1    0    1    0\n",
      " 1 0  | 0  1   0    1   1    0    1    0\n",
      " 1 1  | 0  0   1    1   0    0    0    1\n"
     ]
    }
   ],
   "source": [
    "print('Input','|\\t','Output')\n",
    "print(' 𝑎','𝑏',' |','𝑎̃ ','𝑏̃ ','𝑎⋅𝑏 ','𝑎+𝑏','𝑎↑𝑏 ','𝑎↓𝑏 ','𝑎⊕𝑏','𝑎⊙𝑏')\n",
    "for a,b in zip(A,B):\n",
    "    an=NOT(a)\n",
    "    bn=NOT(b)\n",
    "    A1=AND(a,b)\n",
    "    O=OR(a,b)\n",
    "    An=NAND(a,b)\n",
    "    On=NOR(a,b)\n",
    "    X=XOR(a,b)\n",
    "    Xn=XNOR(a,b)\n",
    "    print('',a,b,' |',an,'',bn,' ',A1,'  ',O,' ',An,'  ',On,'  ',X,'  ',Xn)"
   ]
  },
  {
   "cell_type": "markdown",
   "id": "54a8caff",
   "metadata": {},
   "source": [
    "#### Checking the computed function with the analytic NAND Logic\n",
    "<img width=\"300\" align=\"left\" src=\"https://spinningnumbers.org/i/logic13.svg\">\n",
    "<img width=\"140\" align=\"left\" src=\"https://spinningnumbers.org/i/logic_tt_NAND.svg\">"
   ]
  },
  {
   "cell_type": "code",
   "execution_count": 10,
   "id": "79eecbb9",
   "metadata": {},
   "outputs": [
    {
     "name": "stdout",
     "output_type": "stream",
     "text": [
      "Input |\t Output\n",
      " a b  |   a⋅b  a↑b_(cal)  a↑b_(anl)\n",
      " 0 0  |\t   0 \t 1 \t  1\n",
      " 0 1  |\t   0 \t 1 \t  1\n",
      " 1 0  |\t   0 \t 1 \t  1\n",
      " 1 1  |\t   1 \t 0 \t  0\n",
      "\n",
      "LHS==RHS\n"
     ]
    }
   ],
   "source": [
    "f=0\n",
    "print('Input','|\\t','Output')\n",
    "print(' a','b ','|','  a⋅b',' a↑b_(cal)',' a↑b_(anl)')\n",
    "for a,b in zip(A,B):\n",
    "    print('',a,b,' |\\t  ',AND(a,b),'\\t',NOT(AND(a,b)),'\\t ',NAND(a,b))\n",
    "    if NOT(AND(a,b))==NAND(a,b):        f+=1\n",
    "        \n",
    "if f==len(A):\n",
    "    print('\\nLHS==RHS')"
   ]
  },
  {
   "cell_type": "markdown",
   "id": "7334f8a7",
   "metadata": {},
   "source": [
    "#### Checking the computed function with the analytic NOR Logic\n",
    "<img width=\"300\" align=\"left\"  src=\"https://spinningnumbers.org/i/logic14.svg\"><img width=\"140\" align=\"left\" src=\"https://spinningnumbers.org/i/logic_tt_NOR.svg\">"
   ]
  },
  {
   "cell_type": "code",
   "execution_count": 11,
   "id": "8607276b",
   "metadata": {},
   "outputs": [
    {
     "name": "stdout",
     "output_type": "stream",
     "text": [
      "Input |\t Output\n",
      " a  b | a+b a↓b_(cal) a↓b_(anl)\n",
      " 0  0 |  0 \t 1 \t 1\n",
      " 0  1 |  1 \t 0 \t 0\n",
      " 1  0 |  1 \t 0 \t 0\n",
      " 1  1 |  1 \t 0 \t 0\n",
      "\n",
      "LHS==RHS\n"
     ]
    }
   ],
   "source": [
    "f=0\n",
    "print('Input','|\\t','Output')\n",
    "print(' a',' b |','a+b','a↓b_(cal)','a↓b_(anl)')\n",
    "for a,b in zip(A,B):\n",
    "    print('',a,'',b,'| ',OR(a,b),'\\t',NOT(OR(a,b)),'\\t',NOR(a,b))\n",
    "    if NOT(OR(a,b))==NOR(a,b):        f+=1\n",
    "        \n",
    "if f==len(A):\n",
    "    print('\\nLHS==RHS')"
   ]
  },
  {
   "cell_type": "markdown",
   "id": "c2930e39",
   "metadata": {},
   "source": [
    "**XOR**\n",
    "\n",
    "<img width=\"250\" align=\"left\" src=\"https://spinningnumbers.org/i/logic13.svg\">\n",
    "<img width=\"300\" align=\"left\" src=\"https://upload.wikimedia.org/wikipedia/commons/e/ed/3_gate_XOR.svg\">"
   ]
  },
  {
   "cell_type": "markdown",
   "id": "f99add8e",
   "metadata": {},
   "source": [
    "**XNOR**\n",
    "\n",
    "<img width=\"250\" align=\"left\"  src=\"https://spinningnumbers.org/i/logic14.svg\">\n",
    "<img width=\"300\" align=\"left\" src=\"https://upload.wikimedia.org/wikipedia/commons/6/66/3_gate_XNOR.svg\">"
   ]
  },
  {
   "cell_type": "code",
   "execution_count": 12,
   "id": "ad0ab27c",
   "metadata": {},
   "outputs": [
    {
     "name": "stdout",
     "output_type": "stream",
     "text": [
      "Input \t|\t Output\n",
      "| a | b |  a⊕b_(cal) \t|  a⊕b_(anl)\t|  a⊙b_(cal)\t|  a⊙b_(anl)\t|\n",
      "| 0 | 0 |\t 0 \t|\t 0 \t|\t 1 \t|\t 1 \t|\n",
      "| 0 | 1 |\t 1 \t|\t 1 \t|\t 0 \t|\t 0 \t|\n",
      "| 1 | 0 |\t 1 \t|\t 1 \t|\t 0 \t|\t 0 \t|\n",
      "| 1 | 1 |\t 0 \t|\t 0 \t|\t 1 \t|\t 1 \t|\n",
      "\n",
      "LHS==RHS\n"
     ]
    }
   ],
   "source": [
    "f=0\n",
    "print('Input','\\t|\\t','Output')\n",
    "print('| a |','b |',' a⊕b_(cal) \\t|',' a⊕b_(anl)\\t|',' a⊙b_(cal)\\t|',' a⊙b_(anl)\\t|')\n",
    "for a,b in zip(A,B):\n",
    "    N1=NOT(a)\n",
    "    N2=NOT(b)\n",
    "    O1=OR(N1,N2)\n",
    "    O2=OR(a,b)\n",
    "    X=AND(O1,O2)\n",
    "    A1=AND(a,b)\n",
    "    A2=AND(N1,N2)\n",
    "    Xn=OR(A1,A2)\n",
    "    X_a=XOR(a,b)\n",
    "    Xn_a=XNOR(a,b)\n",
    "    print('|',a,'|',b,'|\\t',X,'\\t|\\t',X_a,'\\t|\\t',Xn,'\\t|\\t',Xn_a,'\\t|')\n",
    "    if (X==X_a)&(Xn==Xn_a): f+=1\n",
    "        \n",
    "if f==len(A):\n",
    "    print('\\nLHS==RHS')"
   ]
  },
  {
   "cell_type": "markdown",
   "id": "cb9c09f1",
   "metadata": {},
   "source": [
    "# **Conversion-  NAND IMPLEMENTATION**"
   ]
  },
  {
   "cell_type": "markdown",
   "id": "acc62559",
   "metadata": {},
   "source": [
    "**NOT** \n",
    "<img width=\"100\" height=\"120\" align=\"center\" src=\"https://upload.wikimedia.org/wikipedia/commons/3/3f/NOT_from_NAND.svg\">"
   ]
  },
  {
   "cell_type": "markdown",
   "id": "348b24c2",
   "metadata": {},
   "source": [
    "**AND** \n",
    "<img width=\"200\" height=\"120\" align=\"center\" src=\"https://upload.wikimedia.org/wikipedia/commons/1/16/AND_from_NAND.svg\">"
   ]
  },
  {
   "cell_type": "markdown",
   "id": "4f0fa7e4",
   "metadata": {},
   "source": [
    "**OR** \n",
    "<img width=\"200\" height=\"120\" align=\"center\" src=\"https://upload.wikimedia.org/wikipedia/commons/9/90/OR_from_NAND.svg\">"
   ]
  },
  {
   "cell_type": "markdown",
   "id": "c8586916",
   "metadata": {},
   "source": [
    "**NOR** \n",
    "<img width=\"250\" height=\"320\" align=\"center\" src=\"https://upload.wikimedia.org/wikipedia/commons/4/4e/NOR_from_NAND.svg\">"
   ]
  },
  {
   "cell_type": "markdown",
   "id": "119f0441",
   "metadata": {},
   "source": [
    "**XOR** \n",
    "<img width=\"270\" height=\"360\" align=\"center\" src=\"https://upload.wikimedia.org/wikipedia/commons/f/fa/XOR_from_NAND.svg\">"
   ]
  },
  {
   "cell_type": "markdown",
   "id": "71339201",
   "metadata": {},
   "source": [
    "**XNOR** \n",
    "<img width=\"370\" height=\"360\" align=\"center\" src=\"https://upload.wikimedia.org/wikipedia/commons/e/e2/XNOR_from_NAND.svg\">"
   ]
  },
  {
   "cell_type": "code",
   "execution_count": 13,
   "id": "2247b4f6",
   "metadata": {},
   "outputs": [
    {
     "name": "stdout",
     "output_type": "stream",
     "text": [
      "Input \t |\t Output\n",
      "| a |  b | 𝑎̃ | 𝑏̃ |  a⋅b\t| a+b\t| a↓b\t| a⊕b\t| a⊙b\t|\n",
      "| 0 |  0 | 1 | 1 |   0 \t|  0 \t|  1 \t|  0 \t|  1 \t|\n",
      "| 0 |  1 | 1 | 0 |   0 \t|  1 \t|  0 \t|  1 \t|  0 \t|\n",
      "| 1 |  0 | 0 | 1 |   0 \t|  1 \t|  0 \t|  1 \t|  0 \t|\n",
      "| 1 |  1 | 0 | 0 |   1 \t|  1 \t|  0 \t|  0 \t|  1 \t|\n"
     ]
    }
   ],
   "source": [
    "print('Input','\\t |\\t','Output')\n",
    "print('| a |',' b |','𝑎̃ |','𝑏̃ |',' a⋅b\\t|','a+b\\t|','a↓b\\t|','a⊕b\\t|','a⊙b\\t|')\n",
    "\n",
    "for a,b in zip(A,B):\n",
    "    \n",
    "    # NAND -> NOT\n",
    "    gt1=NAND(a,a)\n",
    "    \n",
    "    # NAND -> AND\n",
    "    gt2=NAND(a,b)\n",
    "    gt3=NAND(gt2,gt2)\n",
    "    \n",
    "    # NAND -> OR\n",
    "    gt4=NAND(b,b)\n",
    "    gt5=NAND(gt1,gt4)\n",
    "    \n",
    "    # NAND -> NOR\n",
    "    gt6=NAND(gt5,gt5)\n",
    "    \n",
    "    # NAND -> XOR\n",
    "    gt7=NAND(a,gt2)\n",
    "    gt8=NAND(b,gt2)\n",
    "    gt9=NAND(gt7,gt8)\n",
    "    \n",
    "    # NAND -> XNOR\n",
    "    gt10=NAND(gt9,gt9)\n",
    "    \n",
    "    print('|',a,'| ',b,'|',gt1,'|',gt4,'|  ',gt3,'\\t| ',gt5,'\\t| ',gt6,'\\t| ',gt9,'\\t| ',gt10,'\\t|')"
   ]
  },
  {
   "cell_type": "code",
   "execution_count": 14,
   "id": "800aae11",
   "metadata": {},
   "outputs": [],
   "source": [
    "def NAND_NOT(a):\n",
    "    return NAND(a,a)# NAND -> NOT\n",
    "    \n",
    "def NAND_AND(a,b):\n",
    "    return NAND(NAND(a,b),NAND(a,b))# NAND -> AND\n",
    "    \n",
    "def NAND_OR(a,b):\n",
    "    return NAND(NAND(a,a),NAND(b,b))# NAND -> OR\n",
    "\n",
    "def NAND_NOR(a,b): \n",
    "    return NAND(NAND_OR(a,b),NAND_OR(a,b))# NAND -> NOR\n",
    "\n",
    "def NAND_XOR(a,b):\n",
    "    return NAND(NAND(a,NAND(a,b)),NAND(b,NAND(a,b)))# NAND -> XOR\n",
    "\n",
    "def NAND_XNOR(a,b):\n",
    "    return NAND(NAND_XOR(a,b),NAND_XOR(a,b))# NAND -> XNOR"
   ]
  },
  {
   "cell_type": "code",
   "execution_count": 15,
   "id": "eeed4042",
   "metadata": {},
   "outputs": [
    {
     "data": {
      "text/html": [
       "<div>\n",
       "<style scoped>\n",
       "    .dataframe tbody tr th:only-of-type {\n",
       "        vertical-align: middle;\n",
       "    }\n",
       "\n",
       "    .dataframe tbody tr th {\n",
       "        vertical-align: top;\n",
       "    }\n",
       "\n",
       "    .dataframe thead th {\n",
       "        text-align: right;\n",
       "    }\n",
       "</style>\n",
       "<table border=\"1\" class=\"dataframe\">\n",
       "  <thead>\n",
       "    <tr style=\"text-align: right;\">\n",
       "      <th></th>\n",
       "      <th>a</th>\n",
       "      <th>b</th>\n",
       "      <th>𝑎̃</th>\n",
       "      <th>𝑏̃</th>\n",
       "      <th>a⋅b</th>\n",
       "      <th>a+b</th>\n",
       "      <th>a↓b</th>\n",
       "      <th>a⊕b</th>\n",
       "      <th>a⊙b</th>\n",
       "    </tr>\n",
       "  </thead>\n",
       "  <tbody>\n",
       "    <tr>\n",
       "      <th>0</th>\n",
       "      <td>1</td>\n",
       "      <td>1</td>\n",
       "      <td>1</td>\n",
       "      <td>1</td>\n",
       "      <td>0</td>\n",
       "      <td>0</td>\n",
       "      <td>1</td>\n",
       "      <td>0</td>\n",
       "      <td>1</td>\n",
       "    </tr>\n",
       "    <tr>\n",
       "      <th>1</th>\n",
       "      <td>1</td>\n",
       "      <td>1</td>\n",
       "      <td>1</td>\n",
       "      <td>0</td>\n",
       "      <td>0</td>\n",
       "      <td>1</td>\n",
       "      <td>0</td>\n",
       "      <td>1</td>\n",
       "      <td>0</td>\n",
       "    </tr>\n",
       "    <tr>\n",
       "      <th>2</th>\n",
       "      <td>1</td>\n",
       "      <td>1</td>\n",
       "      <td>0</td>\n",
       "      <td>1</td>\n",
       "      <td>0</td>\n",
       "      <td>1</td>\n",
       "      <td>0</td>\n",
       "      <td>1</td>\n",
       "      <td>0</td>\n",
       "    </tr>\n",
       "    <tr>\n",
       "      <th>3</th>\n",
       "      <td>1</td>\n",
       "      <td>1</td>\n",
       "      <td>0</td>\n",
       "      <td>0</td>\n",
       "      <td>1</td>\n",
       "      <td>1</td>\n",
       "      <td>0</td>\n",
       "      <td>0</td>\n",
       "      <td>1</td>\n",
       "    </tr>\n",
       "  </tbody>\n",
       "</table>\n",
       "</div>"
      ],
      "text/plain": [
       "   a  b  𝑎̃  𝑏̃  a⋅b  a+b  a↓b  a⊕b  a⊙b\n",
       "0  1  1   1   1    0    0    1    0    1\n",
       "1  1  1   1   0    0    1    0    1    0\n",
       "2  1  1   0   1    0    1    0    1    0\n",
       "3  1  1   0   0    1    1    0    0    1"
      ]
     },
     "execution_count": 15,
     "metadata": {},
     "output_type": "execute_result"
    }
   ],
   "source": [
    "import pandas as pd\n",
    "\n",
    "A1,A2,A3,A4,A5,A6,A7=[],[],[],[],[],[],[]\n",
    "for a,b in zip(A,B):\n",
    "    A1.append(NAND_NOT(a))\n",
    "    A2.append(NAND_NOT(b))\n",
    "    A3.append(NAND_AND(a,b))\n",
    "    A4.append(NAND_OR(a,b))\n",
    "    A5.append(NAND_NOR(a,b))\n",
    "    A6.append(NAND_XOR(a,b))\n",
    "    A7.append(NAND_XNOR(a,b))\n",
    "pd.DataFrame({'a':a,'b':b,'𝑎̃':A1,'𝑏̃':A2,'a⋅b':A3,'a+b':A4,'a↓b':A5,'a⊕b':A6,'a⊙b':A7})"
   ]
  },
  {
   "cell_type": "markdown",
   "id": "edbd03d4",
   "metadata": {},
   "source": [
    "# **Conversion-  NOR IMPLEMENTATION :**"
   ]
  },
  {
   "cell_type": "markdown",
   "id": "2e2e26d2",
   "metadata": {},
   "source": [
    "**NOT** \n",
    "<img width=\"140\" height=\"120\" align=\"center\" src=\"https://upload.wikimedia.org/wikipedia/commons/b/ba/NOT_from_NOR.svg\">"
   ]
  },
  {
   "cell_type": "markdown",
   "id": "466ee446",
   "metadata": {},
   "source": [
    "**OR**\n",
    "<img width=\"200\" height=\"120\" align=\"center\" src=\"https://upload.wikimedia.org/wikipedia/commons/thumb/4/4b/OR_from_NOR.svg/1920px-OR_from_NOR.svg.png\">"
   ]
  },
  {
   "cell_type": "markdown",
   "id": "20db7d8d",
   "metadata": {},
   "source": [
    "**AND**\n",
    "<img width=\"200\" height=\"120\" align=\"center\" src=\"https://upload.wikimedia.org/wikipedia/commons/f/f4/AND_from_NOR.svg\">\n"
   ]
  },
  {
   "cell_type": "markdown",
   "id": "202cd7bb",
   "metadata": {},
   "source": [
    "**NAND**\n",
    "<img width=\"250\" height=\"320\" align=\"center\" src=\"https://upload.wikimedia.org/wikipedia/commons/thumb/2/2b/NAND_from_NOR.svg/1920px-NAND_from_NOR.svg.png\">"
   ]
  },
  {
   "cell_type": "markdown",
   "id": "e323656a",
   "metadata": {},
   "source": [
    "**XNOR**\n",
    "<img width=\"270\" height=\"360\" align=\"center\" src=\"https://upload.wikimedia.org/wikipedia/commons/thumb/f/f0/XNOR_from_NOR.svg/1920px-XNOR_from_NOR.svg.png\">"
   ]
  },
  {
   "cell_type": "markdown",
   "id": "a47c040b",
   "metadata": {},
   "source": [
    "\n",
    "**XOR**\n",
    "<img width=\"360\" height=\"320\" align=\"center\" src=\"https://upload.wikimedia.org/wikipedia/commons/thumb/5/5e/XOR_from_NOR_2.svg/1920px-XOR_from_NOR_2.svg.png\">\n"
   ]
  },
  {
   "cell_type": "code",
   "execution_count": 16,
   "id": "b92b0b6b",
   "metadata": {},
   "outputs": [
    {
     "name": "stdout",
     "output_type": "stream",
     "text": [
      "Input \t | \t Output\n",
      "| a |  b | 𝑎̃ | 𝑏̃ |  a+b\t| a⋅b\t| a↑b\t| a⊕b\t| a⊙b\t|\n",
      "| 0 |  0 | 1 | 1 |   0  |  0 \t|  1 \t|  1 \t|  0 \t|\n",
      "| 0 |  1 | 1 | 0 |   1  |  0 \t|  1 \t|  0 \t|  1 \t|\n",
      "| 1 |  0 | 0 | 1 |   1  |  0 \t|  1 \t|  0 \t|  1 \t|\n",
      "| 1 |  1 | 0 | 0 |   1  |  1 \t|  0 \t|  1 \t|  0 \t|\n"
     ]
    }
   ],
   "source": [
    "print('Input','\\t | \\t','Output')\n",
    "print('| a |',' b |','𝑎̃ |','𝑏̃ |',' a+b\\t|','a⋅b\\t|','a↑b\\t|','a⊕b\\t|','a⊙b\\t|')\n",
    "\n",
    "for a,b in zip(A,B):\n",
    "    \n",
    "    # NOR -> NOT\n",
    "    gt1=NOR(a,a)\n",
    "\n",
    "    # NOR -> OR\n",
    "    gt2=NOR(a,b)\n",
    "    gt3=NOR(gt2,gt2)\n",
    "    \n",
    "    # NOR -> AND\n",
    "    gt4=NOR(b,b)\n",
    "    gt5=NOR(gt1,gt4)\n",
    "    \n",
    "    # NOR -> NAND\n",
    "    gt6=NOR(gt5,gt5)\n",
    "    \n",
    "    # NOR -> XNOR\n",
    "    gt7=NOR(a,gt2)\n",
    "    gt8=NOR(b,gt2)\n",
    "    gt9=NOR(gt7,gt8)\n",
    "    \n",
    "    # NOR -> XOR\n",
    "    gt10=NOR(gt9,gt9)\n",
    "    \n",
    "    print('|',a,'| ',b,'|',gt1,'|',gt4,'|  ',gt3,' | ',gt5,'\\t| ',gt6,'\\t| ',gt9,'\\t| ',gt10,'\\t|')"
   ]
  },
  {
   "cell_type": "code",
   "execution_count": 17,
   "id": "7722aaeb",
   "metadata": {},
   "outputs": [],
   "source": [
    "def NOR_NOT(a):\n",
    "    return NOR(a,a)# NOR -> NOT\n",
    "    \n",
    "def NOR_AND(a,b):\n",
    "    return NOR(NOR(a,a),NOR(b,b))# NOR -> AND\n",
    "    \n",
    "def NOR_OR(a,b):\n",
    "    return NOR(NOR(a,b),NOR(a,b))# NOR -> OR\n",
    "\n",
    "def NOR_NAND(a,b): \n",
    "    return NOR(NOR_AND(a,b),NOR_AND(a,b))# NOR -> NAND\n",
    "\n",
    "def NOR_XNOR(a,b):\n",
    "    return NOR(NOR(a,NOR(a,b)),NOR(b,NOR(a,b)))# NOR -> XNOR\n",
    "\n",
    "def NOR_XOR(a,b):\n",
    "    return NOR(NOR_XNOR(a,b),NOR_XNOR(a,b))# NOR -> XOR"
   ]
  },
  {
   "cell_type": "code",
   "execution_count": 18,
   "id": "6ff9a034",
   "metadata": {},
   "outputs": [
    {
     "data": {
      "text/html": [
       "<div>\n",
       "<style scoped>\n",
       "    .dataframe tbody tr th:only-of-type {\n",
       "        vertical-align: middle;\n",
       "    }\n",
       "\n",
       "    .dataframe tbody tr th {\n",
       "        vertical-align: top;\n",
       "    }\n",
       "\n",
       "    .dataframe thead th {\n",
       "        text-align: right;\n",
       "    }\n",
       "</style>\n",
       "<table border=\"1\" class=\"dataframe\">\n",
       "  <thead>\n",
       "    <tr style=\"text-align: right;\">\n",
       "      <th></th>\n",
       "      <th>a</th>\n",
       "      <th>b</th>\n",
       "      <th>𝑎̃</th>\n",
       "      <th>𝑏̃</th>\n",
       "      <th>a⋅b</th>\n",
       "      <th>a+b</th>\n",
       "      <th>a↑b</th>\n",
       "      <th>a⊕b</th>\n",
       "      <th>a⊙b</th>\n",
       "    </tr>\n",
       "  </thead>\n",
       "  <tbody>\n",
       "    <tr>\n",
       "      <th>0</th>\n",
       "      <td>1</td>\n",
       "      <td>1</td>\n",
       "      <td>1</td>\n",
       "      <td>1</td>\n",
       "      <td>0</td>\n",
       "      <td>0</td>\n",
       "      <td>1</td>\n",
       "      <td>0</td>\n",
       "      <td>1</td>\n",
       "    </tr>\n",
       "    <tr>\n",
       "      <th>1</th>\n",
       "      <td>1</td>\n",
       "      <td>1</td>\n",
       "      <td>1</td>\n",
       "      <td>0</td>\n",
       "      <td>1</td>\n",
       "      <td>0</td>\n",
       "      <td>1</td>\n",
       "      <td>1</td>\n",
       "      <td>0</td>\n",
       "    </tr>\n",
       "    <tr>\n",
       "      <th>2</th>\n",
       "      <td>1</td>\n",
       "      <td>1</td>\n",
       "      <td>0</td>\n",
       "      <td>1</td>\n",
       "      <td>1</td>\n",
       "      <td>0</td>\n",
       "      <td>1</td>\n",
       "      <td>1</td>\n",
       "      <td>0</td>\n",
       "    </tr>\n",
       "    <tr>\n",
       "      <th>3</th>\n",
       "      <td>1</td>\n",
       "      <td>1</td>\n",
       "      <td>0</td>\n",
       "      <td>0</td>\n",
       "      <td>1</td>\n",
       "      <td>1</td>\n",
       "      <td>0</td>\n",
       "      <td>0</td>\n",
       "      <td>1</td>\n",
       "    </tr>\n",
       "  </tbody>\n",
       "</table>\n",
       "</div>"
      ],
      "text/plain": [
       "   a  b  𝑎̃  𝑏̃  a⋅b  a+b  a↑b  a⊕b  a⊙b\n",
       "0  1  1   1   1    0    0    1    0    1\n",
       "1  1  1   1   0    1    0    1    1    0\n",
       "2  1  1   0   1    1    0    1    1    0\n",
       "3  1  1   0   0    1    1    0    0    1"
      ]
     },
     "execution_count": 18,
     "metadata": {},
     "output_type": "execute_result"
    }
   ],
   "source": [
    "A1,A2,A3,A4,A5,A6,A7=[],[],[],[],[],[],[]\n",
    "for a,b in zip(A,B):\n",
    "    A1.append(NOR_NOT(a))\n",
    "    A2.append(NOR_NOT(b))\n",
    "    A3.append(NOR_OR(a,b))\n",
    "    A4.append(NOR_AND(a,b))\n",
    "    A5.append(NOR_NAND(a,b))\n",
    "    A6.append(NOR_XOR(a,b))\n",
    "    A7.append(NOR_XNOR(a,b))\n",
    "pd.DataFrame({'a':a,'b':b,'𝑎̃':A1,'𝑏̃':A2,'a⋅b':A3,'a+b':A4,'a↑b':A5,'a⊕b':A6,'a⊙b':A7})"
   ]
  },
  {
   "cell_type": "markdown",
   "id": "bafef68e",
   "metadata": {},
   "source": [
    "# $\\text{HALF ADDER}$\n",
    "<img width=\"200\" height=\"220\" align=\"center\" src=\"https://upload.wikimedia.org/wikipedia/commons/thumb/d/d9/Half_Adder.svg/1920px-Half_Adder.svg.png\">"
   ]
  },
  {
   "cell_type": "code",
   "execution_count": 19,
   "id": "6e0c731e",
   "metadata": {},
   "outputs": [],
   "source": [
    "def HalfAdder(a,b):\n",
    "    s=XOR(a,b)\n",
    "    c=AND(a,b)\n",
    "    return s,c"
   ]
  },
  {
   "cell_type": "code",
   "execution_count": 20,
   "id": "5215b6f0",
   "metadata": {},
   "outputs": [
    {
     "name": "stdout",
     "output_type": "stream",
     "text": [
      "Input | Output\n",
      "  x y | S C\n",
      "  0 0 | 0 0\n",
      "  0 1 | 1 0\n",
      "  1 0 | 1 0\n",
      "  1 1 | 0 1\n"
     ]
    }
   ],
   "source": [
    "print('Input','|','Output')\n",
    "print(' ','x','y','|','S','C')\n",
    "for a,b in zip(A,B):\n",
    "    s,c=HalfAdder(a,b)\n",
    "    print(' ',a,b,'|',s,c)"
   ]
  },
  {
   "cell_type": "markdown",
   "id": "5d84433a",
   "metadata": {},
   "source": [
    "# $\\text{NAND logic of HALF ADDER}$\n",
    "<img width=\"500\" height=\"220\" align=\"center\" src=\"img/HALF_ADDER_NAND.png\">"
   ]
  },
  {
   "cell_type": "code",
   "execution_count": 21,
   "id": "b64236eb",
   "metadata": {},
   "outputs": [],
   "source": [
    "def NAND_HalfAdder(a,b):\n",
    "    P=NAND(a,b)\n",
    "    s=NAND(NAND(P,a),NAND(P,b))\n",
    "    c=NAND(P,P)\n",
    "    return s,c"
   ]
  },
  {
   "cell_type": "code",
   "execution_count": 22,
   "id": "d2c9a1c5",
   "metadata": {},
   "outputs": [
    {
     "name": "stdout",
     "output_type": "stream",
     "text": [
      "Input | Output\n",
      "  x y | S C\n",
      "  0 0 | 0 0\n",
      "  0 1 | 1 0\n",
      "  1 0 | 1 0\n",
      "  1 1 | 0 1\n"
     ]
    }
   ],
   "source": [
    "print('Input','|','Output')\n",
    "print(' ','x','y','|','S','C')\n",
    "for a,b in zip(A,B):\n",
    "    s,c=NAND_HalfAdder(a,b)\n",
    "    print(' ',a,b,'|',s,c)"
   ]
  },
  {
   "cell_type": "markdown",
   "id": "5caa46d8",
   "metadata": {},
   "source": [
    "# $\\text{NOR logic of HALF ADDER}$\n",
    "<img width=\"500\" height=\"220\" align=\"center\" src=\"img/HALF_ADDER_NOR.png\">"
   ]
  },
  {
   "cell_type": "code",
   "execution_count": 23,
   "id": "9075e8b2",
   "metadata": {},
   "outputs": [],
   "source": [
    "def NOR_HalfAdder(a,b):\n",
    "    c=NOR(NOR(a,a),NOR(b,b))\n",
    "    s=NOR(NOR(a,b),c)\n",
    "    return s,c"
   ]
  },
  {
   "cell_type": "code",
   "execution_count": 24,
   "id": "ad3be66a",
   "metadata": {},
   "outputs": [
    {
     "name": "stdout",
     "output_type": "stream",
     "text": [
      "Input | Output\n",
      "  x y | S C\n",
      "  0 0 | 0 0\n",
      "  0 1 | 1 0\n",
      "  1 0 | 1 0\n",
      "  1 1 | 0 1\n"
     ]
    }
   ],
   "source": [
    "print('Input','|','Output')\n",
    "print(' ','x','y','|','S','C')\n",
    "for a,b in zip(A,B):\n",
    "    s,c=NOR_HalfAdder(a,b)\n",
    "    print(' ',a,b,'|',s,c)"
   ]
  },
  {
   "cell_type": "markdown",
   "id": "e2a92a3c",
   "metadata": {},
   "source": [
    "# $\\text{FULL ADDER}$\n",
    "<p align=\"center\">\n",
    "  <img src=\"img/Full-adder.png\" alt=\"drawing\" width=\"500\" align=\"center\"/>\n",
    "</p>"
   ]
  },
  {
   "cell_type": "code",
   "execution_count": 25,
   "id": "30a7b869",
   "metadata": {},
   "outputs": [],
   "source": [
    "def FullAdder(x,y,z):\n",
    "    s1,c1=HalfAdder(x,y)\n",
    "    s2,c2=HalfAdder(s1,z)\n",
    "    return s2,OR(c1,c2)"
   ]
  },
  {
   "cell_type": "code",
   "execution_count": 26,
   "id": "e9b06b05",
   "metadata": {},
   "outputs": [
    {
     "name": "stdout",
     "output_type": "stream",
     "text": [
      "Input | Output\n",
      "x y z | S C\n",
      "0 0 0 | 0 0\n",
      "0 0 1 | 1 0\n",
      "0 1 0 | 1 0\n",
      "0 1 1 | 0 1\n",
      "1 0 0 | 1 0\n",
      "1 0 1 | 0 1\n",
      "1 1 0 | 0 1\n",
      "1 1 1 | 1 1\n"
     ]
    }
   ],
   "source": [
    "print('Input','|','Output')\n",
    "print('x','y','z','|','S','C')\n",
    "for x,y,z in zip(X1,Y1,Z1):\n",
    "    sh,ch=FullAdder(x,y,z)\n",
    "    print(x,y,z,'|',sh,ch)"
   ]
  },
  {
   "cell_type": "markdown",
   "id": "306b6b31",
   "metadata": {},
   "source": [
    "## **NAND logic of a full-adder**\n",
    "<img width=\"600\" height=\"320\" align=\"right\" src=\"https://upload.wikimedia.org/wikipedia/commons/thumb/6/69/Full_Adder_using_NAND_gates.svg/1920px-Full_Adder_using_NAND_gates.svg.png\">"
   ]
  },
  {
   "cell_type": "code",
   "execution_count": 27,
   "id": "c6392e36",
   "metadata": {},
   "outputs": [],
   "source": [
    "def NAND_FullAdder(x,y,z):\n",
    "    S=NAND_XOR(NAND_XOR(x,y),z)\n",
    "    C=NAND(NAND(NAND_XOR(x,y),z),NAND(x,y))\n",
    "    return S,C"
   ]
  },
  {
   "cell_type": "code",
   "execution_count": 28,
   "id": "c3de058b",
   "metadata": {},
   "outputs": [
    {
     "name": "stdout",
     "output_type": "stream",
     "text": [
      "Input | Output\n",
      "x y z | S C\n",
      "0 0 0 | 0 0\n",
      "0 0 1 | 1 0\n",
      "0 1 0 | 1 0\n",
      "0 1 1 | 0 1\n",
      "1 0 0 | 1 0\n",
      "1 0 1 | 0 1\n",
      "1 1 0 | 0 1\n",
      "1 1 1 | 1 1\n"
     ]
    }
   ],
   "source": [
    "print('Input','|','Output')\n",
    "print('x','y','z','|','S','C')\n",
    "for x,y,z in zip(X1,Y1,Z1):\n",
    "    S,C=NAND_FullAdder(x,y,z)\n",
    "    print(x,y,z,'|',S,C)"
   ]
  },
  {
   "cell_type": "markdown",
   "id": "97ea8d0d",
   "metadata": {},
   "source": [
    "## **NOR logic of a full-adder**\n",
    "<img width=\"600\" height=\"320\" align=\"right\" src=\"https://upload.wikimedia.org/wikipedia/commons/thumb/a/ad/Full_Adder_using_NOR_gates.svg/1920px-Full_Adder_using_NOR_gates.svg.png\">"
   ]
  },
  {
   "cell_type": "code",
   "execution_count": 29,
   "id": "747b8d7c",
   "metadata": {},
   "outputs": [],
   "source": [
    "def NOR_FullAdder(x,y,z):\n",
    "    S=NOR_XNOR(NOR_XNOR(x,y),z)\n",
    "    C=NOR(NOR(NOR_XNOR(x,y),z),NOR(x,y))\n",
    "    return S,C"
   ]
  },
  {
   "cell_type": "code",
   "execution_count": 30,
   "id": "2b66d077",
   "metadata": {},
   "outputs": [
    {
     "name": "stdout",
     "output_type": "stream",
     "text": [
      "Input | Output\n",
      "x y z | S C\n",
      "0 0 0 | 0 0\n",
      "0 0 1 | 1 0\n",
      "0 1 0 | 1 0\n",
      "0 1 1 | 0 1\n",
      "1 0 0 | 1 0\n",
      "1 0 1 | 0 1\n",
      "1 1 0 | 0 1\n",
      "1 1 1 | 1 1\n"
     ]
    }
   ],
   "source": [
    "print('Input','|','Output')\n",
    "print('x','y','z','|','S','C')\n",
    "for x,y,z in zip(X1,Y1,Z1):\n",
    "    S,C=NOR_FullAdder(x,y,z) \n",
    "    print(x,y,z,'|',S,C)"
   ]
  },
  {
   "attachments": {},
   "cell_type": "markdown",
   "id": "d4538619",
   "metadata": {},
   "source": [
    "# $\\text{HALF Substractor}$\n",
    "<img width=\"200\" height=\"220\" align=\"center\" src=\"https://upload.wikimedia.org/wikipedia/commons/7/75/Half_subtractor_corrected.png\">"
   ]
  },
  {
   "cell_type": "code",
   "execution_count": 31,
   "id": "0e97abc5",
   "metadata": {},
   "outputs": [],
   "source": [
    "def HalfSubtractor(a,b):\n",
    "    d=XOR(a,b)\n",
    "    c=AND(NOT(a),b)\n",
    "    return d,c"
   ]
  },
  {
   "cell_type": "code",
   "execution_count": 32,
   "id": "7cba4241",
   "metadata": {},
   "outputs": [
    {
     "name": "stdout",
     "output_type": "stream",
     "text": [
      "Input | Output\n",
      "  x y | S C\n",
      "  0 0 | 0 0\n",
      "  0 1 | 1 1\n",
      "  1 0 | 1 0\n",
      "  1 1 | 0 0\n"
     ]
    }
   ],
   "source": [
    "print('Input','|','Output')\n",
    "print(' ','x','y','|','S','C')\n",
    "for a,b in zip(A,B):\n",
    "    d,c=HalfSubtractor(a,b)\n",
    "    print(' ',a,b,'|',d,c)"
   ]
  },
  {
   "cell_type": "markdown",
   "id": "83de2602",
   "metadata": {},
   "source": [
    "# $\\text{NAND logic of HALF Substractor}$\n",
    "<img width=\"500\" height=\"220\" align=\"center\" src=\"img/HALF_Subtractor_Nand.png\">"
   ]
  },
  {
   "cell_type": "code",
   "execution_count": 33,
   "id": "f4b7eb52",
   "metadata": {},
   "outputs": [],
   "source": [
    "def NAND_HalfSubtractor(a,b):\n",
    "    d=NAND_XOR(a,b)\n",
    "    c=NAND(NAND(a,b),b)\n",
    "    return d,NAND(c,c)"
   ]
  },
  {
   "cell_type": "code",
   "execution_count": 34,
   "id": "6a7d4af2",
   "metadata": {},
   "outputs": [
    {
     "name": "stdout",
     "output_type": "stream",
     "text": [
      "Input | Output\n",
      "  x y | S C\n",
      "  0 0 | 0 0\n",
      "  0 1 | 1 1\n",
      "  1 0 | 1 0\n",
      "  1 1 | 0 0\n"
     ]
    }
   ],
   "source": [
    "print('Input','|','Output')\n",
    "print(' ','x','y','|','S','C')\n",
    "for a,b in zip(A,B):\n",
    "    d,c=NAND_HalfSubtractor(a,b)\n",
    "    print(' ',a,b,'|',d,c)"
   ]
  },
  {
   "cell_type": "markdown",
   "id": "c156d071",
   "metadata": {},
   "source": [
    "# $\\text{NOR logic of HALF Substractor}$\n",
    "<img width=\"500\" height=\"40\" align=\"center\" src=\"img/HAlf_Subtractor_Nor.png\">"
   ]
  },
  {
   "cell_type": "code",
   "execution_count": 35,
   "id": "fbddeb3c",
   "metadata": {},
   "outputs": [],
   "source": [
    "def NOR_HalfSubtractor(a,b):\n",
    "    d=NOR_XOR(a,b)\n",
    "    c=NOR(NOR(a,b),a)\n",
    "    return d,c"
   ]
  },
  {
   "cell_type": "code",
   "execution_count": 36,
   "id": "ae8f194f",
   "metadata": {},
   "outputs": [
    {
     "name": "stdout",
     "output_type": "stream",
     "text": [
      "Input | Output\n",
      "  x y | S C\n",
      "  0 0 | 0 0\n",
      "  0 1 | 1 1\n",
      "  1 0 | 1 0\n",
      "  1 1 | 0 0\n"
     ]
    }
   ],
   "source": [
    "print('Input','|','Output')\n",
    "print(' ','x','y','|','S','C')\n",
    "for a,b in zip(A,B):\n",
    "    d,c=NOR_HalfSubtractor(a,b)\n",
    "    print(' ',a,b,'|',d,c)"
   ]
  },
  {
   "cell_type": "markdown",
   "id": "7196279f",
   "metadata": {},
   "source": [
    "# $\\text{NOR logic of FULL Subtractor}$\n",
    "<p align=\"center\">\n",
    "  <img src=\"https://upload.wikimedia.org/wikipedia/commons/8/83/Full-sub-Fixed.svg\" alt=\"drawing\" width=\"500\" align=\"center\"/>\n",
    "</p>"
   ]
  },
  {
   "cell_type": "code",
   "execution_count": 37,
   "id": "ecdc82cd",
   "metadata": {},
   "outputs": [],
   "source": [
    "def FullSubtractor(x,y,z):\n",
    "    s1,c1=HalfSubtractor(x,y)\n",
    "    s2,c2=HalfSubtractor(s1,z)\n",
    "    return s2,OR(c1,c2)"
   ]
  },
  {
   "cell_type": "code",
   "execution_count": 38,
   "id": "809d1034",
   "metadata": {},
   "outputs": [
    {
     "name": "stdout",
     "output_type": "stream",
     "text": [
      "Input | Output\n",
      "x y z | S C\n",
      "0 0 0 | 0 0\n",
      "0 0 1 | 1 1\n",
      "0 1 0 | 1 1\n",
      "0 1 1 | 0 1\n",
      "1 0 0 | 1 0\n",
      "1 0 1 | 0 0\n",
      "1 1 0 | 0 0\n",
      "1 1 1 | 1 1\n"
     ]
    }
   ],
   "source": [
    "print('Input','|','Output')\n",
    "print('x','y','z','|','S','C')\n",
    "for x,y,z in zip(X1,Y1,Z1):\n",
    "    sh,ch=FullSubtractor(x,y,z)\n",
    "    print(x,y,z,'|',sh,ch)"
   ]
  },
  {
   "cell_type": "markdown",
   "id": "7e41f934",
   "metadata": {},
   "source": [
    "## **NAND logic of a full-subtractor**\n",
    "<img width=\"600\" height=\"320\" align=\"right\" src=\"img/Full_Subtractor_Nand.png\">"
   ]
  },
  {
   "cell_type": "code",
   "execution_count": 39,
   "id": "31616198",
   "metadata": {},
   "outputs": [],
   "source": [
    "def NAND_FullSubtractor(x,y,z):\n",
    "    S=NAND_XOR(NAND_XOR(x,y),z)\n",
    "    C=NAND(NAND(NAND(NAND_XOR(x,y),z),z),NAND(NAND(x,y),y))\n",
    "    return S,C"
   ]
  },
  {
   "cell_type": "code",
   "execution_count": 40,
   "id": "a39eab54",
   "metadata": {},
   "outputs": [
    {
     "name": "stdout",
     "output_type": "stream",
     "text": [
      "Input | Output\n",
      "x y z | S C\n",
      "0 0 0 | 0 0\n",
      "0 0 1 | 1 1\n",
      "0 1 0 | 1 1\n",
      "0 1 1 | 0 1\n",
      "1 0 0 | 1 0\n",
      "1 0 1 | 0 0\n",
      "1 1 0 | 0 0\n",
      "1 1 1 | 1 1\n"
     ]
    }
   ],
   "source": [
    "print('Input','|','Output')\n",
    "print('x','y','z','|','S','C')\n",
    "for x,y,z in zip(X1,Y1,Z1):\n",
    "    sh,ch=NAND_FullSubtractor(x,y,z)\n",
    "    print(x,y,z,'|',sh,ch)"
   ]
  },
  {
   "cell_type": "markdown",
   "id": "0ac0dddc",
   "metadata": {},
   "source": [
    "## **NOR logic of a full-subtractor**\n",
    "<img width=\"600\" height=\"320\" align=\"right\" src=\"img/Full_Subtractor_Nor.png\">"
   ]
  },
  {
   "cell_type": "code",
   "execution_count": 41,
   "id": "0e7b6b52",
   "metadata": {},
   "outputs": [],
   "source": [
    "def NOR_FullSubtractor(x,y,z):\n",
    "    S=NOR_XOR(NOR_XOR(x,y),z)\n",
    "    C=NOR(NOR(NOR(NOR_XOR(x,y),z), NOR_XOR(x,y)),NOR(NOR(x,y),x))\n",
    "    return S,NOR(C,C)"
   ]
  },
  {
   "cell_type": "code",
   "execution_count": 42,
   "id": "7b64d643",
   "metadata": {},
   "outputs": [
    {
     "name": "stdout",
     "output_type": "stream",
     "text": [
      "Input | Output\n",
      "x y z | S C\n",
      "0 0 0 | 0 0\n",
      "0 0 1 | 1 1\n",
      "0 1 0 | 1 1\n",
      "0 1 1 | 0 1\n",
      "1 0 0 | 1 0\n",
      "1 0 1 | 0 0\n",
      "1 1 0 | 0 0\n",
      "1 1 1 | 1 1\n"
     ]
    }
   ],
   "source": [
    "print('Input','|','Output')\n",
    "print('x','y','z','|','S','C')\n",
    "for x,y,z in zip(X1,Y1,Z1):\n",
    "    sh,ch=NOR_FullSubtractor(x,y,z)\n",
    "    print(x,y,z,'|',sh,ch)"
   ]
  },
  {
   "cell_type": "markdown",
   "id": "f0dabcbf",
   "metadata": {},
   "source": [
    "## Checking for logics $F_1,F_2$"
   ]
  },
  {
   "cell_type": "code",
   "execution_count": 43,
   "id": "b63c14b9",
   "metadata": {},
   "outputs": [
    {
     "name": "stdout",
     "output_type": "stream",
     "text": [
      "Input  | Output\n",
      " x y z | F₁ F₂\n",
      " 0 0 0 | 0  0\n",
      " 0 0 1 | 0  0\n",
      " 0 1 0 | 0  0\n",
      " 0 1 1 | 0  1\n",
      " 1 0 0 | 0  0\n",
      " 1 0 1 | 0  1\n",
      " 1 1 0 | 0  1\n",
      " 1 1 1 | 1  1\n"
     ]
    }
   ],
   "source": [
    "print('Input',' |','Output')\n",
    "print(' x','y','z','| F\\u2081','F\\u2082')\n",
    "for x,y,z in zip(X1,Y1,Z1):\n",
    "    A1=AND(x,y)\n",
    "    O1=OR(x,y)\n",
    "    A2=AND(A1,z)\n",
    "    O2=OR(O1,z)\n",
    "    A3=AND(O1,z)\n",
    "    O3=OR(A1,A3)  # F2\n",
    "    N1=NOT(O3)\n",
    "    A4=AND(N1,O3)\n",
    "    O4=OR(A4,A2)  # F1\n",
    "    print('',x,y,z,'|',O4,'',O3)"
   ]
  },
  {
   "cell_type": "markdown",
   "id": "d350ec10",
   "metadata": {},
   "source": [
    "# $$\\text{2-to-4-line decoder}$$\n",
    "<img src=\"img/2_to_4_line_Decoder.png\" alt=\"drawing\" width=\"500\" height=\"400\" align=\"center\"/>"
   ]
  },
  {
   "cell_type": "code",
   "execution_count": 44,
   "id": "32870d86",
   "metadata": {},
   "outputs": [],
   "source": [
    "def decoder2_4(a,b):\n",
    "    # NOT\n",
    "    N1=NOT(a)\n",
    "    N2=NOT(b)\n",
    "    # AND\n",
    "    A1=AND(N1,N2)\n",
    "    A2=AND(N1,b)\n",
    "    A3=AND(a,N2)   \n",
    "    A4=AND(a,b)\n",
    "    return A1,A2,A3,A4"
   ]
  },
  {
   "cell_type": "code",
   "execution_count": 45,
   "id": "fcbbd251",
   "metadata": {},
   "outputs": [
    {
     "name": "stdout",
     "output_type": "stream",
     "text": [
      "Input |\t Output\n",
      "  a b | D₀ D₁ D₂ D₃\n",
      "  1 0 | 1  0  0  0\n",
      "  1 1 | 0  1  0  0\n",
      "  1 0 | 0  0  1  0\n",
      "  1 1 | 0  0  0  1\n"
     ]
    }
   ],
   "source": [
    "print('Input','|\\t','Output')\n",
    "print(' ','a','b','|','D\\u2080','D\\u2081','D\\u2082','D\\u2083')\n",
    "for a,b in zip(A,B):\n",
    "    D0,D1,D2,D3=decoder2_4(a,b)\n",
    "    print(' ',x,b,'|',D0,'',D1,'',D2,'',D3)"
   ]
  },
  {
   "cell_type": "markdown",
   "id": "b233b854",
   "metadata": {},
   "source": [
    "# $$\\text{2-to-4 line decoder with enable (E) input}$$\n",
    "\n",
    "<img src=\"img/Screenshot%20(8).png\" alt=\"drawing\" width=\"600\" height=\"600\" align=\"center\"/>"
   ]
  },
  {
   "cell_type": "code",
   "execution_count": 46,
   "id": "c09598a0",
   "metadata": {},
   "outputs": [],
   "source": [
    "def decoder2to4(a,b,E):\n",
    "    #NOT\n",
    "    n1=NOT(a)\n",
    "    n2=NOT(b)\n",
    "    n3=NOT(E)\n",
    "    #NAND\n",
    "    A1=NOT(AND(AND(n1,n2),n3)) #D₀\n",
    "    A2=NOT(AND(AND(n1,b),n3))  #D₁\n",
    "    A3=NOT(AND(AND(a,n2),n3))  #D₂\n",
    "    A4=NOT(AND(AND(a,b),n3))   #D₃\n",
    "    return A1,A2,A3,A4"
   ]
  },
  {
   "cell_type": "code",
   "execution_count": 47,
   "id": "132704f0",
   "metadata": {},
   "outputs": [
    {
     "name": "stdout",
     "output_type": "stream",
     "text": [
      "Input  | Output\n",
      " E A B | D₀ D₁ D₂ D₃\n",
      " 0 0 0 | 0  1  1  1\n",
      " 0 0 1 | 1  0  1  1\n",
      " 0 1 0 | 1  1  0  1\n",
      " 0 1 1 | 1  1  1  0\n",
      "\u001b[0;34;47m 1 0 0 | 1  1  1  1 \u001b[0m\n",
      "\u001b[0;34;47m 1 0 1 | 1  1  1  1 \u001b[0m\n",
      "\u001b[0;34;47m 1 1 0 | 1  1  1  1 \u001b[0m\n",
      "\u001b[0;34;47m 1 1 1 | 1  1  1  1 \u001b[0m\n"
     ]
    }
   ],
   "source": [
    "print('Input',' |','Output')\n",
    "print(' E','A','B','|','D\\u2080','D\\u2081','D\\u2082','D\\u2083')\n",
    "for E in [0,1]:\n",
    "    for a,b in zip(A,B):\n",
    "        D0,D1,D2,D3=decoder2to4(a,b,E)\n",
    "        \n",
    "        if E==1:\n",
    "            print('\\033[0;34;47m',E,a,b,'|',D0,'',D1,'',D2,'',D3,'\\033[0m')\n",
    "        else :\n",
    "            print('',E,a,b,'|',D0,'',D1,'',D2,'',D3)"
   ]
  },
  {
   "cell_type": "markdown",
   "id": "ffc28723",
   "metadata": {},
   "source": [
    "# $$\\text{3-to-8-line decoder}$$\n",
    "<img src=\"img/Screenshot%20(3).png\" alt=\"drawing\" width=\"500\" height=\"400\" align=\"center\"/>"
   ]
  },
  {
   "cell_type": "code",
   "execution_count": 48,
   "id": "ce09b604",
   "metadata": {},
   "outputs": [],
   "source": [
    "def decoder3_8(x,y,z):\n",
    "    # NOT\n",
    "    N1=NOT(x)\n",
    "    N2=NOT(y)\n",
    "    N3=NOT(z)\n",
    "    # AND\n",
    "    A1=AND(N1,N2)\n",
    "    A2=AND(A1,N3)   # x'y'z' ->D0\n",
    "    A3=AND(A1,z)    # x'y'z  ->D1\n",
    "    A4=AND(N1,y)\n",
    "    A5=AND(A4,N3)   # x'yz'  ->D2\n",
    "    A6=AND(A4,z)    # x'yz   ->D3\n",
    "    A7=AND(x,N2)\n",
    "    A8=AND(A7,N3)   # xy'z'  ->D4\n",
    "    A9=AND(A7,z)    # xy'z   ->D5\n",
    "    A10=AND(x,y)\n",
    "    A11=AND(A10,N3) # xyz'   ->D6\n",
    "    A12=AND(A10,z)  # xyz    ->D7\n",
    "    return A2,A3,A5,A6,A8,A9,A11,A12"
   ]
  },
  {
   "cell_type": "code",
   "execution_count": 49,
   "id": "5a1c0ecb",
   "metadata": {},
   "outputs": [
    {
     "name": "stdout",
     "output_type": "stream",
     "text": [
      "Input |\t Output\n",
      "x y z | D₀ D₁ D₂ D₃ D₄ D₅ D₆ D₇\n",
      "0 0 0 | 1  0  0  0  0  0  0  0\n",
      "0 0 1 | 0  1  0  0  0  0  0  0\n",
      "0 1 0 | 0  0  1  0  0  0  0  0\n",
      "0 1 1 | 0  0  0  1  0  0  0  0\n",
      "1 0 0 | 0  0  0  0  1  0  0  0\n",
      "1 0 1 | 0  0  0  0  0  1  0  0\n",
      "1 1 0 | 0  0  0  0  0  0  1  0\n",
      "1 1 1 | 0  0  0  0  0  0  0  1\n"
     ]
    }
   ],
   "source": [
    "print('Input','|\\t','Output')\n",
    "print('x','y','z','|','D\\u2080','D\\u2081','D\\u2082','D\\u2083','D\\u2084','D\\u2085','D\\u2086','D\\u2087')\n",
    "for x,y,z in zip(X1,Y1,Z1):\n",
    "    D0,D1,D2,D3,D4,D5,D6,D7=decoder3_8(x,y,z)\n",
    "    print(x,y,z,'|',D0,'',D1,'',D2,'',D3,'',D4,'',D5,'',D6,'',D7)"
   ]
  },
  {
   "cell_type": "markdown",
   "id": "a4d65041",
   "metadata": {},
   "source": [
    "# $$\\text{3-to-8-line decoder with Enable}$$\n",
    "<img src=\"img/Screenshot%20(3)E.png\" alt=\"drawing\" width=\"500\" height=\"400\" align=\"center\"/>"
   ]
  },
  {
   "cell_type": "code",
   "execution_count": 50,
   "id": "ab433f64",
   "metadata": {},
   "outputs": [],
   "source": [
    "def decoder3_8E(x,y,z,E):\n",
    "    # NOT\n",
    "    N1=NOT(x)\n",
    "    N2=NOT(y)\n",
    "    N3=NOT(z)\n",
    "    E1=NOT(E)\n",
    "    # AND\n",
    "    A1=AND(N1,N2)\n",
    "    A2=AND(AND(A1,N3),E1)   # x'y'z'E' ->D0\n",
    "    A3=AND(AND(A1,z),E1)    # x'y'zE'  ->D1\n",
    "    A4=AND(N1,y)\n",
    "    A5=AND(AND(A4,N3),E1)   # x'yz'E'  ->D2\n",
    "    A6=AND(AND(A4,z),E1)    # x'yzE'   ->D3\n",
    "    A7=AND(x,N2)\n",
    "    A8=AND(AND(A7,N3),E1)   # xy'z'E'  ->D4\n",
    "    A9=AND(AND(A7,z),E1)    # xy'zE'   ->D5\n",
    "    A10=AND(x,y)\n",
    "    A11=AND(AND(A10,N3),E1) # xyz'E'   ->D6\n",
    "    A12=AND(AND(A10,z),E1)  # xyzE'    ->D7\n",
    "    return A2,A3,A5,A6,A8,A9,A11,A12"
   ]
  },
  {
   "cell_type": "code",
   "execution_count": 51,
   "id": "4a394fa0",
   "metadata": {},
   "outputs": [
    {
     "name": "stdout",
     "output_type": "stream",
     "text": [
      " Input   |\t Output\n",
      " E x y z | D₀ D₁ D₂ D₃ D₄ D₅ D₆ D₇\n",
      " 0 0 0 0 | 1  0  0  0  0  0  0  0\n",
      " 0 0 0 1 | 0  1  0  0  0  0  0  0\n",
      " 0 0 1 0 | 0  0  1  0  0  0  0  0\n",
      " 0 0 1 1 | 0  0  0  1  0  0  0  0\n",
      " 0 1 0 0 | 0  0  0  0  1  0  0  0\n",
      " 0 1 0 1 | 0  0  0  0  0  1  0  0\n",
      " 0 1 1 0 | 0  0  0  0  0  0  1  0\n",
      " 0 1 1 1 | 0  0  0  0  0  0  0  1\n",
      "\u001b[0;34;47m 1 0 0 0 | 0  0  0  0  0  0  0  0 \u001b[0m\n",
      "\u001b[0;34;47m 1 0 0 1 | 0  0  0  0  0  0  0  0 \u001b[0m\n",
      "\u001b[0;34;47m 1 0 1 0 | 0  0  0  0  0  0  0  0 \u001b[0m\n",
      "\u001b[0;34;47m 1 0 1 1 | 0  0  0  0  0  0  0  0 \u001b[0m\n",
      "\u001b[0;34;47m 1 1 0 0 | 0  0  0  0  0  0  0  0 \u001b[0m\n",
      "\u001b[0;34;47m 1 1 0 1 | 0  0  0  0  0  0  0  0 \u001b[0m\n",
      "\u001b[0;34;47m 1 1 1 0 | 0  0  0  0  0  0  0  0 \u001b[0m\n",
      "\u001b[0;34;47m 1 1 1 1 | 0  0  0  0  0  0  0  0 \u001b[0m\n"
     ]
    }
   ],
   "source": [
    "print('','Input','  |\\t','Output')\n",
    "print('','E','x','y','z','|','D\\u2080','D\\u2081','D\\u2082','D\\u2083','D\\u2084','D\\u2085','D\\u2086','D\\u2087')\n",
    "for E in [0,1]:\n",
    "    for x,y,z in zip(X1,Y1,Z1):\n",
    "        D0,D1,D2,D3,D4,D5,D6,D7=decoder3_8E(x,y,z,E)\n",
    "        \n",
    "        if E==1:\n",
    "            print('\\033[0;34;47m',E,x,y,z,'|',D0,'',D1,'',D2,'',D3,'',D4,'',D5,'',D6,'',D7,'\\033[0m')\n",
    "                  \n",
    "        else :         \n",
    "            print('',E,x,y,z,'|',D0,'',D1,'',D2,'',D3,'',D4,'',D5,'',D6,'',D7)"
   ]
  },
  {
   "cell_type": "markdown",
   "id": "23348892",
   "metadata": {},
   "source": [
    "# $$\\text{4-to-16-line decoder using 2 x 3-to-8-line decoder}$$\n",
    "\n",
    "<img src=\"img/4_16%20decoder.jpg\" alt=\"drawing\" width=\"500\" height=\"400\" align=\"center\"/>\n"
   ]
  },
  {
   "cell_type": "code",
   "execution_count": 52,
   "id": "5f078f65",
   "metadata": {},
   "outputs": [
    {
     "name": "stdout",
     "output_type": "stream",
     "text": [
      "Input   |\t Output\n",
      "E x y z | D₀ D₁ D₂ D₃ D₄ D₅ D₆ D₇ D₈ D₉ D₁₀ D₁₁ D₁₂ D₁₃ D₁₄ D₁₅\n",
      "0 0 0 0 | 1  0  0  0  0  0  0  0  0  0   0   0   0   0   0   0\n",
      "0 0 0 1 | 0  1  0  0  0  0  0  0  0  0   0   0   0   0   0   0\n",
      "0 0 1 0 | 0  0  1  0  0  0  0  0  0  0   0   0   0   0   0   0\n",
      "0 0 1 1 | 0  0  0  1  0  0  0  0  0  0   0   0   0   0   0   0\n",
      "0 1 0 0 | 0  0  0  0  1  0  0  0  0  0   0   0   0   0   0   0\n",
      "0 1 0 1 | 0  0  0  0  0  1  0  0  0  0   0   0   0   0   0   0\n",
      "0 1 1 0 | 0  0  0  0  0  0  1  0  0  0   0   0   0   0   0   0\n",
      "0 1 1 1 | 0  0  0  0  0  0  0  1  0  0   0   0   0   0   0   0\n",
      "1 0 0 0 | 0  0  0  0  0  0  0  0  1  0   0   0   0   0   0   0\n",
      "1 0 0 1 | 0  0  0  0  0  0  0  0  0  1   0   0   0   0   0   0\n",
      "1 0 1 0 | 0  0  0  0  0  0  0  0  0  0   1   0   0   0   0   0\n",
      "1 0 1 1 | 0  0  0  0  0  0  0  0  0  0   0   1   0   0   0   0\n",
      "1 1 0 0 | 0  0  0  0  0  0  0  0  0  0   0   0   1   0   0   0\n",
      "1 1 0 1 | 0  0  0  0  0  0  0  0  0  0   0   0   0   1   0   0\n",
      "1 1 1 0 | 0  0  0  0  0  0  0  0  0  0   0   0   0   0   1   0\n",
      "1 1 1 1 | 0  0  0  0  0  0  0  0  0  0   0   0   0   0   0   1\n"
     ]
    }
   ],
   "source": [
    "print('Input','  |\\t','Output')\n",
    "print('E','x','y','z','|','D₀','D₁','D₂','D₃','D₄','D₅','D₆','D₇','D₈','D₉','D₁₀','D₁₁','D₁₂','D₁₃','D₁₄','D₁₅')\n",
    "for E in [0,1]:\n",
    "    for x,y,z in zip(X1,Y1,Z1):\n",
    "        D0,D1,D2,D3,D4,D5,D6,D7=decoder3_8E(x,y,z,E)\n",
    "        D8,D9,D10,D11,D12,D13,D14,D15=decoder3_8E(x,y,z,NOT(E))\n",
    "        print(E,x,y,z,'|',D0,'',D1,'',D2,'',D3,'',D4,'',D5,'',D6,'',\\\n",
    "              D7,'',D8,'',D9,' ',D10,' ',D11,' ',D12,' ',D13,' ',D14,' ',D15)\n",
    "        \n"
   ]
  },
  {
   "cell_type": "code",
   "execution_count": 53,
   "id": "4f30e4d8",
   "metadata": {},
   "outputs": [
    {
     "data": {
      "text/html": [
       "<div>\n",
       "<style scoped>\n",
       "    .dataframe tbody tr th:only-of-type {\n",
       "        vertical-align: middle;\n",
       "    }\n",
       "\n",
       "    .dataframe tbody tr th {\n",
       "        vertical-align: top;\n",
       "    }\n",
       "\n",
       "    .dataframe thead th {\n",
       "        text-align: right;\n",
       "    }\n",
       "</style>\n",
       "<table border=\"1\" class=\"dataframe\">\n",
       "  <thead>\n",
       "    <tr style=\"text-align: right;\">\n",
       "      <th></th>\n",
       "      <th>E</th>\n",
       "      <th>x</th>\n",
       "      <th>y</th>\n",
       "      <th>z</th>\n",
       "      <th>D₀</th>\n",
       "      <th>D₁</th>\n",
       "      <th>D₂</th>\n",
       "      <th>D₃</th>\n",
       "      <th>D₄</th>\n",
       "      <th>D₅</th>\n",
       "      <th>D₆</th>\n",
       "      <th>D₇</th>\n",
       "      <th>D₈</th>\n",
       "      <th>D₉</th>\n",
       "      <th>D₁₀</th>\n",
       "      <th>D₁₁</th>\n",
       "      <th>D₁₂</th>\n",
       "      <th>D₁₃</th>\n",
       "      <th>D₁₄</th>\n",
       "      <th>D₁₅</th>\n",
       "    </tr>\n",
       "  </thead>\n",
       "  <tbody>\n",
       "    <tr>\n",
       "      <th>0</th>\n",
       "      <td>0</td>\n",
       "      <td>0</td>\n",
       "      <td>0</td>\n",
       "      <td>0</td>\n",
       "      <td>1</td>\n",
       "      <td>0</td>\n",
       "      <td>0</td>\n",
       "      <td>0</td>\n",
       "      <td>0</td>\n",
       "      <td>0</td>\n",
       "      <td>0</td>\n",
       "      <td>0</td>\n",
       "      <td>0</td>\n",
       "      <td>0</td>\n",
       "      <td>0</td>\n",
       "      <td>0</td>\n",
       "      <td>0</td>\n",
       "      <td>0</td>\n",
       "      <td>0</td>\n",
       "      <td>0</td>\n",
       "    </tr>\n",
       "    <tr>\n",
       "      <th>1</th>\n",
       "      <td>0</td>\n",
       "      <td>0</td>\n",
       "      <td>0</td>\n",
       "      <td>1</td>\n",
       "      <td>0</td>\n",
       "      <td>1</td>\n",
       "      <td>0</td>\n",
       "      <td>0</td>\n",
       "      <td>0</td>\n",
       "      <td>0</td>\n",
       "      <td>0</td>\n",
       "      <td>0</td>\n",
       "      <td>0</td>\n",
       "      <td>0</td>\n",
       "      <td>0</td>\n",
       "      <td>0</td>\n",
       "      <td>0</td>\n",
       "      <td>0</td>\n",
       "      <td>0</td>\n",
       "      <td>0</td>\n",
       "    </tr>\n",
       "    <tr>\n",
       "      <th>2</th>\n",
       "      <td>0</td>\n",
       "      <td>0</td>\n",
       "      <td>1</td>\n",
       "      <td>0</td>\n",
       "      <td>0</td>\n",
       "      <td>0</td>\n",
       "      <td>1</td>\n",
       "      <td>0</td>\n",
       "      <td>0</td>\n",
       "      <td>0</td>\n",
       "      <td>0</td>\n",
       "      <td>0</td>\n",
       "      <td>0</td>\n",
       "      <td>0</td>\n",
       "      <td>0</td>\n",
       "      <td>0</td>\n",
       "      <td>0</td>\n",
       "      <td>0</td>\n",
       "      <td>0</td>\n",
       "      <td>0</td>\n",
       "    </tr>\n",
       "    <tr>\n",
       "      <th>3</th>\n",
       "      <td>0</td>\n",
       "      <td>0</td>\n",
       "      <td>1</td>\n",
       "      <td>1</td>\n",
       "      <td>0</td>\n",
       "      <td>0</td>\n",
       "      <td>0</td>\n",
       "      <td>1</td>\n",
       "      <td>0</td>\n",
       "      <td>0</td>\n",
       "      <td>0</td>\n",
       "      <td>0</td>\n",
       "      <td>0</td>\n",
       "      <td>0</td>\n",
       "      <td>0</td>\n",
       "      <td>0</td>\n",
       "      <td>0</td>\n",
       "      <td>0</td>\n",
       "      <td>0</td>\n",
       "      <td>0</td>\n",
       "    </tr>\n",
       "    <tr>\n",
       "      <th>4</th>\n",
       "      <td>0</td>\n",
       "      <td>1</td>\n",
       "      <td>0</td>\n",
       "      <td>0</td>\n",
       "      <td>0</td>\n",
       "      <td>0</td>\n",
       "      <td>0</td>\n",
       "      <td>0</td>\n",
       "      <td>1</td>\n",
       "      <td>0</td>\n",
       "      <td>0</td>\n",
       "      <td>0</td>\n",
       "      <td>0</td>\n",
       "      <td>0</td>\n",
       "      <td>0</td>\n",
       "      <td>0</td>\n",
       "      <td>0</td>\n",
       "      <td>0</td>\n",
       "      <td>0</td>\n",
       "      <td>0</td>\n",
       "    </tr>\n",
       "    <tr>\n",
       "      <th>5</th>\n",
       "      <td>0</td>\n",
       "      <td>1</td>\n",
       "      <td>0</td>\n",
       "      <td>1</td>\n",
       "      <td>0</td>\n",
       "      <td>0</td>\n",
       "      <td>0</td>\n",
       "      <td>0</td>\n",
       "      <td>0</td>\n",
       "      <td>1</td>\n",
       "      <td>0</td>\n",
       "      <td>0</td>\n",
       "      <td>0</td>\n",
       "      <td>0</td>\n",
       "      <td>0</td>\n",
       "      <td>0</td>\n",
       "      <td>0</td>\n",
       "      <td>0</td>\n",
       "      <td>0</td>\n",
       "      <td>0</td>\n",
       "    </tr>\n",
       "    <tr>\n",
       "      <th>6</th>\n",
       "      <td>0</td>\n",
       "      <td>1</td>\n",
       "      <td>1</td>\n",
       "      <td>0</td>\n",
       "      <td>0</td>\n",
       "      <td>0</td>\n",
       "      <td>0</td>\n",
       "      <td>0</td>\n",
       "      <td>0</td>\n",
       "      <td>0</td>\n",
       "      <td>1</td>\n",
       "      <td>0</td>\n",
       "      <td>0</td>\n",
       "      <td>0</td>\n",
       "      <td>0</td>\n",
       "      <td>0</td>\n",
       "      <td>0</td>\n",
       "      <td>0</td>\n",
       "      <td>0</td>\n",
       "      <td>0</td>\n",
       "    </tr>\n",
       "    <tr>\n",
       "      <th>7</th>\n",
       "      <td>0</td>\n",
       "      <td>1</td>\n",
       "      <td>1</td>\n",
       "      <td>1</td>\n",
       "      <td>0</td>\n",
       "      <td>0</td>\n",
       "      <td>0</td>\n",
       "      <td>0</td>\n",
       "      <td>0</td>\n",
       "      <td>0</td>\n",
       "      <td>0</td>\n",
       "      <td>1</td>\n",
       "      <td>0</td>\n",
       "      <td>0</td>\n",
       "      <td>0</td>\n",
       "      <td>0</td>\n",
       "      <td>0</td>\n",
       "      <td>0</td>\n",
       "      <td>0</td>\n",
       "      <td>0</td>\n",
       "    </tr>\n",
       "    <tr>\n",
       "      <th>8</th>\n",
       "      <td>1</td>\n",
       "      <td>0</td>\n",
       "      <td>0</td>\n",
       "      <td>0</td>\n",
       "      <td>0</td>\n",
       "      <td>0</td>\n",
       "      <td>0</td>\n",
       "      <td>0</td>\n",
       "      <td>0</td>\n",
       "      <td>0</td>\n",
       "      <td>0</td>\n",
       "      <td>0</td>\n",
       "      <td>1</td>\n",
       "      <td>0</td>\n",
       "      <td>0</td>\n",
       "      <td>0</td>\n",
       "      <td>0</td>\n",
       "      <td>0</td>\n",
       "      <td>0</td>\n",
       "      <td>0</td>\n",
       "    </tr>\n",
       "    <tr>\n",
       "      <th>9</th>\n",
       "      <td>1</td>\n",
       "      <td>0</td>\n",
       "      <td>0</td>\n",
       "      <td>1</td>\n",
       "      <td>0</td>\n",
       "      <td>0</td>\n",
       "      <td>0</td>\n",
       "      <td>0</td>\n",
       "      <td>0</td>\n",
       "      <td>0</td>\n",
       "      <td>0</td>\n",
       "      <td>0</td>\n",
       "      <td>0</td>\n",
       "      <td>1</td>\n",
       "      <td>0</td>\n",
       "      <td>0</td>\n",
       "      <td>0</td>\n",
       "      <td>0</td>\n",
       "      <td>0</td>\n",
       "      <td>0</td>\n",
       "    </tr>\n",
       "    <tr>\n",
       "      <th>10</th>\n",
       "      <td>1</td>\n",
       "      <td>0</td>\n",
       "      <td>1</td>\n",
       "      <td>0</td>\n",
       "      <td>0</td>\n",
       "      <td>0</td>\n",
       "      <td>0</td>\n",
       "      <td>0</td>\n",
       "      <td>0</td>\n",
       "      <td>0</td>\n",
       "      <td>0</td>\n",
       "      <td>0</td>\n",
       "      <td>0</td>\n",
       "      <td>0</td>\n",
       "      <td>1</td>\n",
       "      <td>0</td>\n",
       "      <td>0</td>\n",
       "      <td>0</td>\n",
       "      <td>0</td>\n",
       "      <td>0</td>\n",
       "    </tr>\n",
       "    <tr>\n",
       "      <th>11</th>\n",
       "      <td>1</td>\n",
       "      <td>0</td>\n",
       "      <td>1</td>\n",
       "      <td>1</td>\n",
       "      <td>0</td>\n",
       "      <td>0</td>\n",
       "      <td>0</td>\n",
       "      <td>0</td>\n",
       "      <td>0</td>\n",
       "      <td>0</td>\n",
       "      <td>0</td>\n",
       "      <td>0</td>\n",
       "      <td>0</td>\n",
       "      <td>0</td>\n",
       "      <td>0</td>\n",
       "      <td>1</td>\n",
       "      <td>0</td>\n",
       "      <td>0</td>\n",
       "      <td>0</td>\n",
       "      <td>0</td>\n",
       "    </tr>\n",
       "    <tr>\n",
       "      <th>12</th>\n",
       "      <td>1</td>\n",
       "      <td>1</td>\n",
       "      <td>0</td>\n",
       "      <td>0</td>\n",
       "      <td>0</td>\n",
       "      <td>0</td>\n",
       "      <td>0</td>\n",
       "      <td>0</td>\n",
       "      <td>0</td>\n",
       "      <td>0</td>\n",
       "      <td>0</td>\n",
       "      <td>0</td>\n",
       "      <td>0</td>\n",
       "      <td>0</td>\n",
       "      <td>0</td>\n",
       "      <td>0</td>\n",
       "      <td>1</td>\n",
       "      <td>0</td>\n",
       "      <td>0</td>\n",
       "      <td>0</td>\n",
       "    </tr>\n",
       "    <tr>\n",
       "      <th>13</th>\n",
       "      <td>1</td>\n",
       "      <td>1</td>\n",
       "      <td>0</td>\n",
       "      <td>1</td>\n",
       "      <td>0</td>\n",
       "      <td>0</td>\n",
       "      <td>0</td>\n",
       "      <td>0</td>\n",
       "      <td>0</td>\n",
       "      <td>0</td>\n",
       "      <td>0</td>\n",
       "      <td>0</td>\n",
       "      <td>0</td>\n",
       "      <td>0</td>\n",
       "      <td>0</td>\n",
       "      <td>0</td>\n",
       "      <td>0</td>\n",
       "      <td>1</td>\n",
       "      <td>0</td>\n",
       "      <td>0</td>\n",
       "    </tr>\n",
       "    <tr>\n",
       "      <th>14</th>\n",
       "      <td>1</td>\n",
       "      <td>1</td>\n",
       "      <td>1</td>\n",
       "      <td>0</td>\n",
       "      <td>0</td>\n",
       "      <td>0</td>\n",
       "      <td>0</td>\n",
       "      <td>0</td>\n",
       "      <td>0</td>\n",
       "      <td>0</td>\n",
       "      <td>0</td>\n",
       "      <td>0</td>\n",
       "      <td>0</td>\n",
       "      <td>0</td>\n",
       "      <td>0</td>\n",
       "      <td>0</td>\n",
       "      <td>0</td>\n",
       "      <td>0</td>\n",
       "      <td>1</td>\n",
       "      <td>0</td>\n",
       "    </tr>\n",
       "    <tr>\n",
       "      <th>15</th>\n",
       "      <td>1</td>\n",
       "      <td>1</td>\n",
       "      <td>1</td>\n",
       "      <td>1</td>\n",
       "      <td>0</td>\n",
       "      <td>0</td>\n",
       "      <td>0</td>\n",
       "      <td>0</td>\n",
       "      <td>0</td>\n",
       "      <td>0</td>\n",
       "      <td>0</td>\n",
       "      <td>0</td>\n",
       "      <td>0</td>\n",
       "      <td>0</td>\n",
       "      <td>0</td>\n",
       "      <td>0</td>\n",
       "      <td>0</td>\n",
       "      <td>0</td>\n",
       "      <td>0</td>\n",
       "      <td>1</td>\n",
       "    </tr>\n",
       "  </tbody>\n",
       "</table>\n",
       "</div>"
      ],
      "text/plain": [
       "    E  x  y  z  D₀  D₁  D₂  D₃  D₄  D₅  D₆  D₇  D₈  D₉  D₁₀  D₁₁  D₁₂  D₁₃  \\\n",
       "0   0  0  0  0   1   0   0   0   0   0   0   0   0   0    0    0    0    0   \n",
       "1   0  0  0  1   0   1   0   0   0   0   0   0   0   0    0    0    0    0   \n",
       "2   0  0  1  0   0   0   1   0   0   0   0   0   0   0    0    0    0    0   \n",
       "3   0  0  1  1   0   0   0   1   0   0   0   0   0   0    0    0    0    0   \n",
       "4   0  1  0  0   0   0   0   0   1   0   0   0   0   0    0    0    0    0   \n",
       "5   0  1  0  1   0   0   0   0   0   1   0   0   0   0    0    0    0    0   \n",
       "6   0  1  1  0   0   0   0   0   0   0   1   0   0   0    0    0    0    0   \n",
       "7   0  1  1  1   0   0   0   0   0   0   0   1   0   0    0    0    0    0   \n",
       "8   1  0  0  0   0   0   0   0   0   0   0   0   1   0    0    0    0    0   \n",
       "9   1  0  0  1   0   0   0   0   0   0   0   0   0   1    0    0    0    0   \n",
       "10  1  0  1  0   0   0   0   0   0   0   0   0   0   0    1    0    0    0   \n",
       "11  1  0  1  1   0   0   0   0   0   0   0   0   0   0    0    1    0    0   \n",
       "12  1  1  0  0   0   0   0   0   0   0   0   0   0   0    0    0    1    0   \n",
       "13  1  1  0  1   0   0   0   0   0   0   0   0   0   0    0    0    0    1   \n",
       "14  1  1  1  0   0   0   0   0   0   0   0   0   0   0    0    0    0    0   \n",
       "15  1  1  1  1   0   0   0   0   0   0   0   0   0   0    0    0    0    0   \n",
       "\n",
       "    D₁₄  D₁₅  \n",
       "0     0    0  \n",
       "1     0    0  \n",
       "2     0    0  \n",
       "3     0    0  \n",
       "4     0    0  \n",
       "5     0    0  \n",
       "6     0    0  \n",
       "7     0    0  \n",
       "8     0    0  \n",
       "9     0    0  \n",
       "10    0    0  \n",
       "11    0    0  \n",
       "12    0    0  \n",
       "13    0    0  \n",
       "14    1    0  \n",
       "15    0    1  "
      ]
     },
     "execution_count": 53,
     "metadata": {},
     "output_type": "execute_result"
    }
   ],
   "source": [
    "El,xl,yl,zl=[],[],[],[]\n",
    "d0,d1,d2,d3,d4,d5,d6,d7,d8,d9,d10,d11,d12,d13,d14,d15=[],[],[],[],[],[],[],[],[],[],[],[],[],[],[],[]\n",
    "for E in [0,1]:\n",
    "    for x,y,z in zip(X1,Y1,Z1):\n",
    "        E1=E\n",
    "        D0,D1,D2,D3,D4,D5,D6,D7=decoder3_8E(x,y,z,E)\n",
    "        D8,D9,D10,D11,D12,D13,D14,D15=decoder3_8E(x,y,z,NOT(E))\n",
    "        \n",
    "        El.append(E1)\n",
    "        xl.append(x)\n",
    "        yl.append(y)\n",
    "        zl.append(z)\n",
    "        d0.append(D0)\n",
    "        d1.append(D1)\n",
    "        d2.append(D2)\n",
    "        d3.append(D3)\n",
    "        d4.append(D4)\n",
    "        d5.append(D5)\n",
    "        d6.append(D6)\n",
    "        d7.append(D7)\n",
    "        d8.append(D8)\n",
    "        d9.append(D9)\n",
    "        d10.append(D10)\n",
    "        d11.append(D11)\n",
    "        d12.append(D12)\n",
    "        d13.append(D13)\n",
    "        d14.append(D14)\n",
    "        d15.append(D15)\n",
    "        \n",
    "pd.DataFrame({'E':El,'x':xl,'y':yl,'z':zl,\n",
    "              'D₀':d0,'D₁':d1,'D₂':d2,'D₃':d3,'D₄':d4,'D₅':d5,'D₆':d6,'D₇':d7,\n",
    "              'D₈':d8,'D₉':d9,'D₁₀':d10,'D₁₁':d11,'D₁₂':d12,'D₁₃':d13,'D₁₄':d14,'D₁₅':d15})"
   ]
  },
  {
   "cell_type": "markdown",
   "id": "9ddc0056",
   "metadata": {},
   "source": [
    "# $$\\text{BCD-to-decimal decoder}$$\n",
    "  <img src=\"img/Screenshot%20(4).png\" alt=\"drawing\" width=\"600\" height=\"600\" align=\"center\"/>"
   ]
  },
  {
   "cell_type": "code",
   "execution_count": 54,
   "id": "47b0f626",
   "metadata": {},
   "outputs": [],
   "source": [
    "def BCD_Decoder(w,x,y,z):    \n",
    "    # NOT\n",
    "    N1=NOT(w)\n",
    "    N2=NOT(x)\n",
    "    N3=NOT(y)\n",
    "    N4=NOT(z)\n",
    "    # AND\n",
    "    A1=AND(N1,N2)   # w'x'\n",
    "    A2=AND(A1,N3)   # w'x'y'\n",
    "    A3=AND(A2,N4)   # w'x'y'z' ->D0\n",
    "    A4=AND(A2,z)    # w'x'y'z  ->D1\n",
    "    A5=AND(N2,y)    # x'y\n",
    "    A6=AND(A5,N4)   # x'yz'    ->D2\n",
    "    A7=AND(A5,z)    # x'yz     ->D3\n",
    "    A8=AND(x,N3)    # xy'\n",
    "    A9=AND(A8,N4)   # xy'z'    ->D4\n",
    "    A10=AND(A8,z)   # xy'z     ->D5\n",
    "    A11=AND(x,y)    # xy\n",
    "    A12=AND(A11,N4) # xyz'     ->D6\n",
    "    A13=AND(A11,z)  # xyz      ->D7\n",
    "    A14=AND(w,N4)   # wz'      ->D8\n",
    "    A15=AND(w,z)    # wz       ->D9\n",
    "    return A3,A4,A6,A7,A9,A10,A12,A13,A14,A15"
   ]
  },
  {
   "cell_type": "code",
   "execution_count": 55,
   "id": "9a99cfab",
   "metadata": {},
   "outputs": [
    {
     "name": "stdout",
     "output_type": "stream",
     "text": [
      "Input \t|\t Output\n",
      "w x y z | D₀ D₁ D₂ D₃ D₄ D₅ D₆ D₇ D₈ D₉\n",
      "0 0 0 0 | 1  0  0  0  0  0  0  0  0  0\n",
      "0 0 0 1 | 0  1  0  0  0  0  0  0  0  0\n",
      "0 0 1 0 | 0  0  1  0  0  0  0  0  0  0\n",
      "0 0 1 1 | 0  0  0  1  0  0  0  0  0  0\n",
      "0 1 0 0 | 0  0  0  0  1  0  0  0  0  0\n",
      "0 1 0 1 | 0  0  0  0  0  1  0  0  0  0\n",
      "0 1 1 0 | 0  0  0  0  0  0  1  0  0  0\n",
      "0 1 1 1 | 0  0  0  0  0  0  0  1  0  0\n",
      "1 0 0 0 | 0  0  0  0  0  0  0  0  1  0\n",
      "1 0 0 1 | 0  0  0  0  0  0  0  0  0  1\n",
      "1 0 1 0 | 0  0  1  0  0  0  0  0  1  0\n",
      "1 0 1 1 | 0  0  0  1  0  0  0  0  0  1\n",
      "1 1 0 0 | 0  0  0  0  1  0  0  0  1  0\n",
      "1 1 0 1 | 0  0  0  0  0  1  0  0  0  1\n",
      "1 1 1 0 | 0  0  0  0  0  0  1  0  1  0\n",
      "1 1 1 1 | 0  0  0  0  0  0  0  1  0  1\n"
     ]
    }
   ],
   "source": [
    "print('Input','\\t|\\t','Output')\n",
    "print('w','x','y','z','|','D₀','D₁','D₂','D₃','D₄','D₅','D₆','D₇','D₈','D₉')\n",
    "for w,x,y,z in zip(P1,Q1,R1,S1):\n",
    "    D0,D1,D2,D3,D4,D5,D6,D7,D8,D9=BCD_Decoder(w,x,y,z)\n",
    "    print(w,x,y,z,'|',D0,'',D1,'',D2,'',D3,'',D4,'',D5,'',D6,'',D7,'',D8,'',D9)"
   ]
  },
  {
   "cell_type": "markdown",
   "id": "2df78a92",
   "metadata": {},
   "source": [
    "# 7 segment display plot\n",
    " <img src=\"img/7-segment-numeric-display.png\" alt=\"drawing\" width=\"100\" height=\"200\" align=\"center\"/>"
   ]
  },
  {
   "cell_type": "code",
   "execution_count": 56,
   "id": "e823b378",
   "metadata": {},
   "outputs": [
    {
     "name": "stdout",
     "output_type": "stream",
     "text": [
      "\t\t\t\t\t \u001b[1;31;47m   _   \u001b[0m\n",
      "\t\t\t\t\t \u001b[1;31;47m | _ | \u001b[0m\n",
      "\t\t\t\t\t \u001b[1;31;47m | _ | \u001b[0m\n",
      "\t\t\t\t\t \u001b[1;31;47m       \u001b[0m\n",
      " \n"
     ]
    }
   ],
   "source": [
    "def display_7segment(a,b,c,d,e,f,g):\n",
    "    if a==1:\n",
    "        a = \"1\"\n",
    "        a = a.replace(\"1\", \"_\" )\n",
    "    elif a==0:\n",
    "        a = \"0\"\n",
    "        a = a.replace(\"0\", \" \")\n",
    "    if b==1:\n",
    "        b = \"1\"\n",
    "        b = b.replace(\"1\", \"|\" )\n",
    "    elif b==0:\n",
    "        b = \"0\"\n",
    "        b = b.replace(\"0\", \" \")\n",
    "    if c==1:\n",
    "        c = \"1\"\n",
    "        c = c.replace(\"1\", \"|\" )\n",
    "    elif c==0:\n",
    "        c = \"0\"\n",
    "        c = c.replace(\"0\", \" \")\n",
    "    if d==1:\n",
    "        d = \"1\"\n",
    "        d = d.replace(\"1\", \"_\" )\n",
    "    elif d==0:\n",
    "        d = \"0\"\n",
    "        d = d.replace(\"0\", \" \")\n",
    "    if e==1:\n",
    "        e = \"1\"\n",
    "        e = e.replace(\"1\", \"|\" )\n",
    "    elif e==0:\n",
    "        e = \"0\"\n",
    "        e = e.replace(\"0\", \" \")\n",
    "    if f==1:\n",
    "        f = \"1\"\n",
    "        f = f.replace(\"1\", \"|\" )\n",
    "    elif f==0:\n",
    "        f = \"0\"\n",
    "        f = f.replace(\"0\", \" \")\n",
    "    if g==1:\n",
    "        g = \"1\"\n",
    "        g = g.replace(\"1\", \"_\" )\n",
    "    elif g==0:\n",
    "        g = \"0\"\n",
    "        g = g.replace(\"0\", \" \")\n",
    "        \n",
    "    print('\\t\\t\\t\\t\\t \\033[1;31;47m  ',a,'  \\033[0m')\n",
    "    print(\"\\t\\t\\t\\t\\t\",'\\033[1;31;47m',f,g,b,'\\033[0m')\n",
    "    print(\"\\t\\t\\t\\t\\t\",'\\033[1;31;47m',e,d,c,'\\033[0m')\n",
    "    print(\"\\t\\t\\t\\t\\t\",'\\033[1;31;47m  ','    \\033[0m')\n",
    "    \n",
    "    return ' '\n",
    "\n",
    "print(display_7segment(1,1,1,1,1,1,1))"
   ]
  },
  {
   "cell_type": "markdown",
   "id": "942018b0",
   "metadata": {},
   "source": [
    "# $$\\text{Binary-Coded-Decimal to 7 Segment LED Display Decoder}$$\n",
    "<img src=\"img/download.png\" alt=\"drawing\" width=\"800\" height=\"300\" align=\"left\"/>"
   ]
  },
  {
   "cell_type": "markdown",
   "id": "8744b268",
   "metadata": {},
   "source": [
    "  <img src=\"img/BCD-to-common-anode-7-segment-truth-table.jpg\" alt=\"drawing\" width=\"400\" height=\"300\" align=\"left\"/>\n",
    "\n",
    "$a = F1 (A, B, C, D) = ∑m (0, 2, 3, 5, 7, 8, 9)$\n",
    "\n",
    "$b = F2 (A, B, C, D) = ∑m (0, 1, 2, 3, 4, 7, 8, 9)$\n",
    "\n",
    "$c = F3 (A, B, C, D) = ∑m (0, 1, 3, 4, 5, 6, 7, 8, 9)$\n",
    "\n",
    "$d = F4 (A, B, C, D) = ∑m (0, 2, 3, 5, 6, 8)$\n",
    "\n",
    "$e = F5 (A, B, C, D) = ∑m (0, 2, 6, 8)$\n",
    "\n",
    "$f = F6 (A, B, C, D) = ∑m (0, 4, 5, 6, 8, 9)$\n",
    "\n",
    "$g = F7 (A, B, C, D) = ∑m (2, 3, 4, 5, 6, 8, 9)$"
   ]
  },
  {
   "cell_type": "markdown",
   "id": "aa7094b3",
   "metadata": {},
   "source": [
    "  <img src=\"img/K-map-a.jpg\" alt=\"drawing\" width=\"900\" height=\"300\" align=\"left\"/>\n",
    "\n",
    "  <img src=\"img/K-map-d.jpg\" alt=\"drawing\" width=\"900\" height=\"300\" align=\"left\"/>\n",
    "\n",
    "  <img src=\"img/K-map-g.jpg\" alt=\"drawing\" width=\"300\" height=\"300\" align=\"left\"/>"
   ]
  },
  {
   "cell_type": "markdown",
   "id": "2aca1b4d",
   "metadata": {},
   "source": [
    "<img src=\"img/BCD-to-7-segment-Decoder-Design-Using-Basic-Gates.jpg\" alt=\"drawing\" width=\"400\" height=\"300\" align=\"left\"/>"
   ]
  },
  {
   "cell_type": "code",
   "execution_count": 57,
   "id": "23f02d7c",
   "metadata": {},
   "outputs": [],
   "source": [
    "def BCD_7segment9(p,q,r,s):\n",
    "    a=OR(OR(p,r),OR(AND(q,s),AND(NOT(q),NOT(s))))\n",
    "    b=OR(OR(NOT(q),AND(r,s)),AND(NOT(r),NOT(s)))\n",
    "    c=OR(OR(q,NOT(r)),s)\n",
    "    d=OR(OR(AND(NOT(q),NOT(s)),AND(r,NOT(s))),OR(OR(p,AND(NOT(q),r)),AND(AND(q,NOT(r)),s)))\n",
    "    e=OR(AND(NOT(q),NOT(s)),AND(r,NOT(s)))\n",
    "    f=OR(OR(p,AND(NOT(r),NOT(s))),OR(AND(q,NOT(r)),AND(q,NOT(s))))\n",
    "    g=OR(OR(p,AND(q,NOT(r))),OR(AND(NOT(q),r),AND(r,NOT(s))))\n",
    "    return a,b,c,d,e,f,g"
   ]
  },
  {
   "cell_type": "code",
   "execution_count": 58,
   "id": "b6dfb905",
   "metadata": {},
   "outputs": [
    {
     "name": "stdout",
     "output_type": "stream",
     "text": [
      "Input \t |\t Output\n",
      " A B C D | a b c d e f g | Display in 7 segment\n",
      "_______________________________________________\n",
      " 0 0 0 0 | 1 1 1 1 1 1 0 |\n",
      "\t\t\t\t\t \u001b[1;31;47m   _   \u001b[0m\n",
      "\t\t\t\t\t \u001b[1;31;47m |   | \u001b[0m\n",
      "\t\t\t\t\t \u001b[1;31;47m | _ | \u001b[0m\n",
      "\t\t\t\t\t \u001b[1;31;47m       \u001b[0m\n",
      " \n",
      "_______________________________________________\n",
      " 0 0 0 1 | 0 1 1 0 0 0 0 |\n",
      "\t\t\t\t\t \u001b[1;31;47m       \u001b[0m\n",
      "\t\t\t\t\t \u001b[1;31;47m     | \u001b[0m\n",
      "\t\t\t\t\t \u001b[1;31;47m     | \u001b[0m\n",
      "\t\t\t\t\t \u001b[1;31;47m       \u001b[0m\n",
      " \n",
      "_______________________________________________\n",
      " 0 0 1 0 | 1 1 0 1 1 0 1 |\n",
      "\t\t\t\t\t \u001b[1;31;47m   _   \u001b[0m\n",
      "\t\t\t\t\t \u001b[1;31;47m   _ | \u001b[0m\n",
      "\t\t\t\t\t \u001b[1;31;47m | _   \u001b[0m\n",
      "\t\t\t\t\t \u001b[1;31;47m       \u001b[0m\n",
      " \n",
      "_______________________________________________\n",
      " 0 0 1 1 | 1 1 1 1 0 0 1 |\n",
      "\t\t\t\t\t \u001b[1;31;47m   _   \u001b[0m\n",
      "\t\t\t\t\t \u001b[1;31;47m   _ | \u001b[0m\n",
      "\t\t\t\t\t \u001b[1;31;47m   _ | \u001b[0m\n",
      "\t\t\t\t\t \u001b[1;31;47m       \u001b[0m\n",
      " \n",
      "_______________________________________________\n",
      " 0 1 0 0 | 0 1 1 0 0 1 1 |\n",
      "\t\t\t\t\t \u001b[1;31;47m       \u001b[0m\n",
      "\t\t\t\t\t \u001b[1;31;47m | _ | \u001b[0m\n",
      "\t\t\t\t\t \u001b[1;31;47m     | \u001b[0m\n",
      "\t\t\t\t\t \u001b[1;31;47m       \u001b[0m\n",
      " \n",
      "_______________________________________________\n",
      " 0 1 0 1 | 1 0 1 1 0 1 1 |\n",
      "\t\t\t\t\t \u001b[1;31;47m   _   \u001b[0m\n",
      "\t\t\t\t\t \u001b[1;31;47m | _   \u001b[0m\n",
      "\t\t\t\t\t \u001b[1;31;47m   _ | \u001b[0m\n",
      "\t\t\t\t\t \u001b[1;31;47m       \u001b[0m\n",
      " \n",
      "_______________________________________________\n",
      " 0 1 1 0 | 1 0 1 1 1 1 1 |\n",
      "\t\t\t\t\t \u001b[1;31;47m   _   \u001b[0m\n",
      "\t\t\t\t\t \u001b[1;31;47m | _   \u001b[0m\n",
      "\t\t\t\t\t \u001b[1;31;47m | _ | \u001b[0m\n",
      "\t\t\t\t\t \u001b[1;31;47m       \u001b[0m\n",
      " \n",
      "_______________________________________________\n",
      " 0 1 1 1 | 1 1 1 0 0 0 0 |\n",
      "\t\t\t\t\t \u001b[1;31;47m   _   \u001b[0m\n",
      "\t\t\t\t\t \u001b[1;31;47m     | \u001b[0m\n",
      "\t\t\t\t\t \u001b[1;31;47m     | \u001b[0m\n",
      "\t\t\t\t\t \u001b[1;31;47m       \u001b[0m\n",
      " \n",
      "_______________________________________________\n",
      " 1 0 0 0 | 1 1 1 1 1 1 1 |\n",
      "\t\t\t\t\t \u001b[1;31;47m   _   \u001b[0m\n",
      "\t\t\t\t\t \u001b[1;31;47m | _ | \u001b[0m\n",
      "\t\t\t\t\t \u001b[1;31;47m | _ | \u001b[0m\n",
      "\t\t\t\t\t \u001b[1;31;47m       \u001b[0m\n",
      " \n",
      "_______________________________________________\n",
      " 1 0 0 1 | 1 1 1 1 0 1 1 |\n",
      "\t\t\t\t\t \u001b[1;31;47m   _   \u001b[0m\n",
      "\t\t\t\t\t \u001b[1;31;47m | _ | \u001b[0m\n",
      "\t\t\t\t\t \u001b[1;31;47m   _ | \u001b[0m\n",
      "\t\t\t\t\t \u001b[1;31;47m       \u001b[0m\n",
      " \n",
      "_______________________________________________\n"
     ]
    }
   ],
   "source": [
    "print('Input','\\t |\\t','Output')\n",
    "print(' A','B','C','D','|','a','b','c','d','e','f','g','|','Display in 7 segment')\n",
    "for w,x,y,z in zip(P1[:10],Q1[:10],R1[:10],S1[:10]):\n",
    "    a,b,c,d,e,f,g=BCD_7segment9(w,x,y,z)\n",
    "    print('_______________________________________________')\n",
    "    print('',w,x,y,z,'|',a,b,c,d,e,f,g,'|')\n",
    "    print(display_7segment(a,b,c,d,e,f,g))\n",
    "print('_______________________________________________')"
   ]
  },
  {
   "cell_type": "markdown",
   "id": "09a1cc36",
   "metadata": {},
   "source": [
    "# $$\\text{Binary-Coded-HexaDecimal  to 7 Segment LED Display Decoder}$$\n",
    "<img src=\"img/Screenshot%20(74).png\" alt=\"drawing\" width=\"1800\" height=\"600\" align=\"left\"/>"
   ]
  },
  {
   "cell_type": "markdown",
   "id": "ae5fd807",
   "metadata": {},
   "source": [
    "<img src=\"img/7-segment-decoder-truth-table.png\" alt=\"drawing\" width=\"600\" height=\"900\" align=\"left\"/>"
   ]
  },
  {
   "cell_type": "markdown",
   "id": "b99e5b8d",
   "metadata": {},
   "source": [
    "**K-map implementation**"
   ]
  },
  {
   "cell_type": "markdown",
   "id": "4f8612cf",
   "metadata": {},
   "source": [
    "<img src=\"img/segment-a-k-map-1.png\" alt=\"drawing\" width=\"250\" height=\"100\" align=\"left\"/>\n",
    "\n",
    "$a(A,B,C,D)=\\sum (0,2,3,5,6,7,8,9,10,12,14,15)$\n",
    "\n",
    "$a=AB'C'+A'BD+AD'+A'C+BC+B'D'$"
   ]
  },
  {
   "cell_type": "markdown",
   "id": "45145581",
   "metadata": {},
   "source": [
    "  <img src=\"img/segment-b-k-map-1-300x295.jpg\" alt=\"drawing\" width=\"240\" height=\"100\" align=\"left\"/>\n",
    "\n",
    "$b(A,B,C,D)=\\sum (0,1,2,3,4,7,8,9,10,13)$\n",
    "\n",
    "$b=A'C'D'+A'CD+AC'D+B'C'+B'D'$"
   ]
  },
  {
   "cell_type": "markdown",
   "id": "e7715853",
   "metadata": {},
   "source": [
    "  <img src=\"img/segment-c-k-map.jpg\" alt=\"drawing\" width=\"240\" height=\"100\" align=\"left\"/>\n",
    "\n",
    "  $c(A,B,C,D)=\\sum (0,1,3,4,5,6,7,8,9,10,11,13)$\n",
    "\n",
    "$c=A'C'+A'D+C'D+A'B+AB'$"
   ]
  },
  {
   "cell_type": "markdown",
   "id": "2cb1712d",
   "metadata": {},
   "source": [
    "<img src=\"img/segment-d-k-map.jpg\" alt=\"drawing\" width=\"240\" height=\"100\" align=\"left\"/>\n",
    " \n",
    " $d(A,B,C,D)=\\sum (0,2,3,5,6,7,8,9,11,12,13,14)$\n",
    "\n",
    "$d=A'B'D'+B'CD+BC'D+BCD'+AC'$"
   ]
  },
  {
   "cell_type": "markdown",
   "id": "f4932873",
   "metadata": {},
   "source": [
    "<img src=\"img/segment-e-k-map.jpg\" alt=\"drawing\" width=\"250\" height=\"100\" align=\"left\"/>\n",
    " \n",
    " $e(A,B,C,D)=\\sum (0,2,6,8,10,11,12,13,14,15)$\n",
    "\n",
    "$e=B'D'+CD'+AC+AB$"
   ]
  },
  {
   "cell_type": "markdown",
   "id": "c82ed160",
   "metadata": {},
   "source": [
    " <img src=\"img/segment-f-k-map.jpg\" alt=\"drawing\" width=\"240\" height=\"100\" align=\"left\"/>\n",
    "  \n",
    "  $f(A,B,C,D)=\\sum (0,4,5,6,8,9,10,11,12,14,15)$\n",
    "\n",
    "$f=A'BC'+C'D'+BD'+AB'+AC$"
   ]
  },
  {
   "cell_type": "markdown",
   "id": "ef1fe6a1",
   "metadata": {},
   "source": [
    "  <img src=\"img/segment-g-k-map.jpg\" alt=\"drawing\" width=\"240\" height=\"100\" align=\"left\"/>\n",
    "\n",
    "$g(A,B,C,D)=\\sum (2,3,4,5,6,8,9,10,11,13,14,15)$\n",
    "\n",
    "$g=A'BC'+B'C+CD'+AB'+AD$"
   ]
  },
  {
   "cell_type": "markdown",
   "id": "659bd8bb",
   "metadata": {},
   "source": [
    "$\\text{So the required circuit diagram is :-}$\n",
    "\n",
    "<img src=\"img/complete-7-segment-HEX-decoder.png\" alt=\"drawing\" width=\"1800\" height=\"15200\" align=\"left\"/>"
   ]
  },
  {
   "cell_type": "code",
   "execution_count": 59,
   "id": "7cdc3535",
   "metadata": {},
   "outputs": [],
   "source": [
    "def BCDhex_7segment(p,q,r,s):\n",
    "    A,B,C,D=p,q,r,s\n",
    "    # N\n",
    "    nA=NOT(A)  # A'\n",
    "    nB=NOT(B)  # B'                      \n",
    "    nC=NOT(C)  # C'\n",
    "    nD=NOT(D)  # D'\n",
    "    \n",
    "    a= OR(OR(OR(OR(AND(nA,AND(B,D)),AND(A,AND(nB,nC))),OR(AND(nA,C),AND(B,C))),AND(nB,nD)),AND(A,nD))\n",
    "    b= OR(OR(OR(OR(AND(nA,AND(nC,nD)),AND(nA,AND(C,D))),AND(A,AND(nC,D))),AND(nB,nC)),AND(nB,nD))\n",
    "    c= OR(OR(OR(OR(AND(nA,nC),AND(nA,D)),AND(nC,D)),AND(nA,B)),AND(A,nB))\n",
    "    d= OR(OR(OR(OR(AND(nA,AND(nB,nD)),AND(nB,AND(C,D))),AND(B,AND(nC,D))),AND(B,AND(C,nD))),AND(A,nC))\n",
    "    e= OR(OR(OR(AND(nB,nD),AND(C,nD)),AND(A,C)),AND(A,B))\n",
    "    f= OR(OR(OR(OR(AND(nA,AND(B,nC)),AND(nC,nD)),AND(B,nD)),AND(A,nB)),AND(A,C))\n",
    "    g= OR(OR(OR(OR(AND(nA,AND(B,nC)),AND(nB,C)),AND(C,nD)),AND(A,nB)),AND(A,D))\n",
    "    return a,b,c,d,e,f,g"
   ]
  },
  {
   "cell_type": "code",
   "execution_count": 60,
   "id": "bd9d12ce",
   "metadata": {
    "scrolled": false
   },
   "outputs": [
    {
     "name": "stdout",
     "output_type": "stream",
     "text": [
      "Input \t |\t Output\n",
      " A B C D | a b c d e f g | Display in 7 segment\n",
      "_______________________________________________\n",
      " 0 0 0 0 | 1 1 1 1 1 1 0 |\n",
      "\t\t\t\t\t \u001b[1;31;47m   _   \u001b[0m\n",
      "\t\t\t\t\t \u001b[1;31;47m |   | \u001b[0m\n",
      "\t\t\t\t\t \u001b[1;31;47m | _ | \u001b[0m\n",
      "\t\t\t\t\t \u001b[1;31;47m       \u001b[0m\n",
      " \n",
      "_______________________________________________\n",
      " 0 0 0 1 | 0 1 1 0 0 0 0 |\n",
      "\t\t\t\t\t \u001b[1;31;47m       \u001b[0m\n",
      "\t\t\t\t\t \u001b[1;31;47m     | \u001b[0m\n",
      "\t\t\t\t\t \u001b[1;31;47m     | \u001b[0m\n",
      "\t\t\t\t\t \u001b[1;31;47m       \u001b[0m\n",
      " \n",
      "_______________________________________________\n",
      " 0 0 1 0 | 1 1 0 1 1 0 1 |\n",
      "\t\t\t\t\t \u001b[1;31;47m   _   \u001b[0m\n",
      "\t\t\t\t\t \u001b[1;31;47m   _ | \u001b[0m\n",
      "\t\t\t\t\t \u001b[1;31;47m | _   \u001b[0m\n",
      "\t\t\t\t\t \u001b[1;31;47m       \u001b[0m\n",
      " \n",
      "_______________________________________________\n",
      " 0 0 1 1 | 1 1 1 1 0 0 1 |\n",
      "\t\t\t\t\t \u001b[1;31;47m   _   \u001b[0m\n",
      "\t\t\t\t\t \u001b[1;31;47m   _ | \u001b[0m\n",
      "\t\t\t\t\t \u001b[1;31;47m   _ | \u001b[0m\n",
      "\t\t\t\t\t \u001b[1;31;47m       \u001b[0m\n",
      " \n",
      "_______________________________________________\n",
      " 0 1 0 0 | 0 1 1 0 0 1 1 |\n",
      "\t\t\t\t\t \u001b[1;31;47m       \u001b[0m\n",
      "\t\t\t\t\t \u001b[1;31;47m | _ | \u001b[0m\n",
      "\t\t\t\t\t \u001b[1;31;47m     | \u001b[0m\n",
      "\t\t\t\t\t \u001b[1;31;47m       \u001b[0m\n",
      " \n",
      "_______________________________________________\n",
      " 0 1 0 1 | 1 0 1 1 0 1 1 |\n",
      "\t\t\t\t\t \u001b[1;31;47m   _   \u001b[0m\n",
      "\t\t\t\t\t \u001b[1;31;47m | _   \u001b[0m\n",
      "\t\t\t\t\t \u001b[1;31;47m   _ | \u001b[0m\n",
      "\t\t\t\t\t \u001b[1;31;47m       \u001b[0m\n",
      " \n",
      "_______________________________________________\n",
      " 0 1 1 0 | 1 0 1 1 1 1 1 |\n",
      "\t\t\t\t\t \u001b[1;31;47m   _   \u001b[0m\n",
      "\t\t\t\t\t \u001b[1;31;47m | _   \u001b[0m\n",
      "\t\t\t\t\t \u001b[1;31;47m | _ | \u001b[0m\n",
      "\t\t\t\t\t \u001b[1;31;47m       \u001b[0m\n",
      " \n",
      "_______________________________________________\n",
      " 0 1 1 1 | 1 1 1 0 0 0 0 |\n",
      "\t\t\t\t\t \u001b[1;31;47m   _   \u001b[0m\n",
      "\t\t\t\t\t \u001b[1;31;47m     | \u001b[0m\n",
      "\t\t\t\t\t \u001b[1;31;47m     | \u001b[0m\n",
      "\t\t\t\t\t \u001b[1;31;47m       \u001b[0m\n",
      " \n",
      "_______________________________________________\n",
      " 1 0 0 0 | 1 1 1 1 1 1 1 |\n",
      "\t\t\t\t\t \u001b[1;31;47m   _   \u001b[0m\n",
      "\t\t\t\t\t \u001b[1;31;47m | _ | \u001b[0m\n",
      "\t\t\t\t\t \u001b[1;31;47m | _ | \u001b[0m\n",
      "\t\t\t\t\t \u001b[1;31;47m       \u001b[0m\n",
      " \n",
      "_______________________________________________\n",
      " 1 0 0 1 | 1 1 1 1 0 1 1 |\n",
      "\t\t\t\t\t \u001b[1;31;47m   _   \u001b[0m\n",
      "\t\t\t\t\t \u001b[1;31;47m | _ | \u001b[0m\n",
      "\t\t\t\t\t \u001b[1;31;47m   _ | \u001b[0m\n",
      "\t\t\t\t\t \u001b[1;31;47m       \u001b[0m\n",
      " \n",
      "_______________________________________________\n",
      " 1 0 1 0 | 1 1 1 0 1 1 1 |\n",
      "\t\t\t\t\t \u001b[1;31;47m   _   \u001b[0m\n",
      "\t\t\t\t\t \u001b[1;31;47m | _ | \u001b[0m\n",
      "\t\t\t\t\t \u001b[1;31;47m |   | \u001b[0m\n",
      "\t\t\t\t\t \u001b[1;31;47m       \u001b[0m\n",
      " \n",
      "_______________________________________________\n",
      " 1 0 1 1 | 0 0 1 1 1 1 1 |\n",
      "\t\t\t\t\t \u001b[1;31;47m       \u001b[0m\n",
      "\t\t\t\t\t \u001b[1;31;47m | _   \u001b[0m\n",
      "\t\t\t\t\t \u001b[1;31;47m | _ | \u001b[0m\n",
      "\t\t\t\t\t \u001b[1;31;47m       \u001b[0m\n",
      " \n",
      "_______________________________________________\n",
      " 1 1 0 0 | 1 0 0 1 1 1 0 |\n",
      "\t\t\t\t\t \u001b[1;31;47m   _   \u001b[0m\n",
      "\t\t\t\t\t \u001b[1;31;47m |     \u001b[0m\n",
      "\t\t\t\t\t \u001b[1;31;47m | _   \u001b[0m\n",
      "\t\t\t\t\t \u001b[1;31;47m       \u001b[0m\n",
      " \n",
      "_______________________________________________\n",
      " 1 1 0 1 | 0 1 1 1 1 0 1 |\n",
      "\t\t\t\t\t \u001b[1;31;47m       \u001b[0m\n",
      "\t\t\t\t\t \u001b[1;31;47m   _ | \u001b[0m\n",
      "\t\t\t\t\t \u001b[1;31;47m | _ | \u001b[0m\n",
      "\t\t\t\t\t \u001b[1;31;47m       \u001b[0m\n",
      " \n",
      "_______________________________________________\n",
      " 1 1 1 0 | 1 0 0 1 1 1 1 |\n",
      "\t\t\t\t\t \u001b[1;31;47m   _   \u001b[0m\n",
      "\t\t\t\t\t \u001b[1;31;47m | _   \u001b[0m\n",
      "\t\t\t\t\t \u001b[1;31;47m | _   \u001b[0m\n",
      "\t\t\t\t\t \u001b[1;31;47m       \u001b[0m\n",
      " \n",
      "_______________________________________________\n",
      " 1 1 1 1 | 1 0 0 0 1 1 1 |\n",
      "\t\t\t\t\t \u001b[1;31;47m   _   \u001b[0m\n",
      "\t\t\t\t\t \u001b[1;31;47m | _   \u001b[0m\n",
      "\t\t\t\t\t \u001b[1;31;47m |     \u001b[0m\n",
      "\t\t\t\t\t \u001b[1;31;47m       \u001b[0m\n",
      " \n",
      "_______________________________________________\n"
     ]
    }
   ],
   "source": [
    "print('Input','\\t |\\t','Output')\n",
    "print(' A','B','C','D','|','a','b','c','d','e','f','g','|','Display in 7 segment')\n",
    "for w,x,y,z in zip(P1,Q1,R1,S1):\n",
    "    a,b,c,d,e,f,g=BCDhex_7segment(w,x,y,z)\n",
    "    print('_______________________________________________')\n",
    "    print('',w,x,y,z,'|',a,b,c,d,e,f,g,'|')\n",
    "    print(display_7segment(a,b,c,d,e,f,g))\n",
    "print('_______________________________________________')"
   ]
  },
  {
   "cell_type": "markdown",
   "id": "be88e199",
   "metadata": {},
   "source": [
    " <img src=\"img/Screenshot%20(2).png\" alt=\"drawing\" width=\"500\" height=\"400\" align=\"center\"/>"
   ]
  },
  {
   "cell_type": "code",
   "execution_count": 61,
   "id": "6ecaedf1",
   "metadata": {},
   "outputs": [],
   "source": [
    "def BCD_excess3_converter(a,b,c,d):\n",
    "    N1=NOT(b)\n",
    "    N2=NOT(d)          # z\n",
    "    A1=AND(c,d)        \n",
    "    O1=OR(c,d)\n",
    "    N3=NOT(O1)\n",
    "    O2=OR(A1,N3)      # y\n",
    "    A2=AND(N3,b)\n",
    "    A3=AND(O1,N1)\n",
    "    A4=AND(O1,b)\n",
    "    O3=OR(A2,A3)      # x\n",
    "    O4=OR(A4,a)       # w\n",
    "    return O4,O3,O2,N2"
   ]
  },
  {
   "cell_type": "code",
   "execution_count": 62,
   "id": "3592a6c2",
   "metadata": {
    "scrolled": false
   },
   "outputs": [
    {
     "name": "stdout",
     "output_type": "stream",
     "text": [
      "Input \t |\t Output\n",
      " A B C D | W X Y Z | a b c d e f g | Display in 7 segment\n",
      "_________________________________________________________\n",
      " 0 0 0 0 | 0 0 1 1 | 1 1 1 1 0 0 1 |\t\n",
      "\t\t\t\t\t \u001b[1;31;47m   _   \u001b[0m\n",
      "\t\t\t\t\t \u001b[1;31;47m   _ | \u001b[0m\n",
      "\t\t\t\t\t \u001b[1;31;47m   _ | \u001b[0m\n",
      "\t\t\t\t\t \u001b[1;31;47m       \u001b[0m\n",
      " \n",
      "_________________________________________________________\n",
      " 0 0 0 1 | 0 1 0 0 | 0 1 1 0 0 1 1 |\t\n",
      "\t\t\t\t\t \u001b[1;31;47m       \u001b[0m\n",
      "\t\t\t\t\t \u001b[1;31;47m | _ | \u001b[0m\n",
      "\t\t\t\t\t \u001b[1;31;47m     | \u001b[0m\n",
      "\t\t\t\t\t \u001b[1;31;47m       \u001b[0m\n",
      " \n",
      "_________________________________________________________\n",
      " 0 0 1 0 | 0 1 0 1 | 1 0 1 1 0 1 1 |\t\n",
      "\t\t\t\t\t \u001b[1;31;47m   _   \u001b[0m\n",
      "\t\t\t\t\t \u001b[1;31;47m | _   \u001b[0m\n",
      "\t\t\t\t\t \u001b[1;31;47m   _ | \u001b[0m\n",
      "\t\t\t\t\t \u001b[1;31;47m       \u001b[0m\n",
      " \n",
      "_________________________________________________________\n",
      " 0 0 1 1 | 0 1 1 0 | 1 0 1 1 1 1 1 |\t\n",
      "\t\t\t\t\t \u001b[1;31;47m   _   \u001b[0m\n",
      "\t\t\t\t\t \u001b[1;31;47m | _   \u001b[0m\n",
      "\t\t\t\t\t \u001b[1;31;47m | _ | \u001b[0m\n",
      "\t\t\t\t\t \u001b[1;31;47m       \u001b[0m\n",
      " \n",
      "_________________________________________________________\n",
      " 0 1 0 0 | 0 1 1 1 | 1 1 1 0 0 0 0 |\t\n",
      "\t\t\t\t\t \u001b[1;31;47m   _   \u001b[0m\n",
      "\t\t\t\t\t \u001b[1;31;47m     | \u001b[0m\n",
      "\t\t\t\t\t \u001b[1;31;47m     | \u001b[0m\n",
      "\t\t\t\t\t \u001b[1;31;47m       \u001b[0m\n",
      " \n",
      "_________________________________________________________\n",
      " 0 1 0 1 | 1 0 0 0 | 1 1 1 1 1 1 1 |\t\n",
      "\t\t\t\t\t \u001b[1;31;47m   _   \u001b[0m\n",
      "\t\t\t\t\t \u001b[1;31;47m | _ | \u001b[0m\n",
      "\t\t\t\t\t \u001b[1;31;47m | _ | \u001b[0m\n",
      "\t\t\t\t\t \u001b[1;31;47m       \u001b[0m\n",
      " \n",
      "_________________________________________________________\n",
      " 0 1 1 0 | 1 0 0 1 | 1 1 1 1 0 1 1 |\t\n",
      "\t\t\t\t\t \u001b[1;31;47m   _   \u001b[0m\n",
      "\t\t\t\t\t \u001b[1;31;47m | _ | \u001b[0m\n",
      "\t\t\t\t\t \u001b[1;31;47m   _ | \u001b[0m\n",
      "\t\t\t\t\t \u001b[1;31;47m       \u001b[0m\n",
      " \n",
      "_________________________________________________________\n",
      " 0 1 1 1 | 1 0 1 0 | 1 1 1 0 1 1 1 |\t\n",
      "\t\t\t\t\t \u001b[1;31;47m   _   \u001b[0m\n",
      "\t\t\t\t\t \u001b[1;31;47m | _ | \u001b[0m\n",
      "\t\t\t\t\t \u001b[1;31;47m |   | \u001b[0m\n",
      "\t\t\t\t\t \u001b[1;31;47m       \u001b[0m\n",
      " \n",
      "_________________________________________________________\n",
      " 1 0 0 0 | 1 0 1 1 | 0 0 1 1 1 1 1 |\t\n",
      "\t\t\t\t\t \u001b[1;31;47m       \u001b[0m\n",
      "\t\t\t\t\t \u001b[1;31;47m | _   \u001b[0m\n",
      "\t\t\t\t\t \u001b[1;31;47m | _ | \u001b[0m\n",
      "\t\t\t\t\t \u001b[1;31;47m       \u001b[0m\n",
      " \n",
      "_________________________________________________________\n",
      " 1 0 0 1 | 1 1 0 0 | 1 0 0 1 1 1 0 |\t\n",
      "\t\t\t\t\t \u001b[1;31;47m   _   \u001b[0m\n",
      "\t\t\t\t\t \u001b[1;31;47m |     \u001b[0m\n",
      "\t\t\t\t\t \u001b[1;31;47m | _   \u001b[0m\n",
      "\t\t\t\t\t \u001b[1;31;47m       \u001b[0m\n",
      " \n",
      "_________________________________________________________\n",
      " 1 0 1 0 | 1 1 0 1 | 0 1 1 1 1 0 1 |\t\n",
      "\t\t\t\t\t \u001b[1;31;47m       \u001b[0m\n",
      "\t\t\t\t\t \u001b[1;31;47m   _ | \u001b[0m\n",
      "\t\t\t\t\t \u001b[1;31;47m | _ | \u001b[0m\n",
      "\t\t\t\t\t \u001b[1;31;47m       \u001b[0m\n",
      " \n",
      "_________________________________________________________\n",
      " 1 0 1 1 | 1 1 1 0 | 1 0 0 1 1 1 1 |\t\n",
      "\t\t\t\t\t \u001b[1;31;47m   _   \u001b[0m\n",
      "\t\t\t\t\t \u001b[1;31;47m | _   \u001b[0m\n",
      "\t\t\t\t\t \u001b[1;31;47m | _   \u001b[0m\n",
      "\t\t\t\t\t \u001b[1;31;47m       \u001b[0m\n",
      " \n",
      "_________________________________________________________\n",
      " 1 1 0 0 | 1 1 1 1 | 1 0 0 0 1 1 1 |\t\n",
      "\t\t\t\t\t \u001b[1;31;47m   _   \u001b[0m\n",
      "\t\t\t\t\t \u001b[1;31;47m | _   \u001b[0m\n",
      "\t\t\t\t\t \u001b[1;31;47m |     \u001b[0m\n",
      "\t\t\t\t\t \u001b[1;31;47m       \u001b[0m\n",
      " \n",
      "_________________________________________________________\n",
      " 1 1 0 1 | 1 0 0 0 | 1 1 1 1 1 1 1 |\t\n",
      "\t\t\t\t\t \u001b[1;31;47m   _   \u001b[0m\n",
      "\t\t\t\t\t \u001b[1;31;47m | _ | \u001b[0m\n",
      "\t\t\t\t\t \u001b[1;31;47m | _ | \u001b[0m\n",
      "\t\t\t\t\t \u001b[1;31;47m       \u001b[0m\n",
      " \n",
      "_________________________________________________________\n",
      " 1 1 1 0 | 1 0 0 1 | 1 1 1 1 0 1 1 |\t\n",
      "\t\t\t\t\t \u001b[1;31;47m   _   \u001b[0m\n",
      "\t\t\t\t\t \u001b[1;31;47m | _ | \u001b[0m\n",
      "\t\t\t\t\t \u001b[1;31;47m   _ | \u001b[0m\n",
      "\t\t\t\t\t \u001b[1;31;47m       \u001b[0m\n",
      " \n",
      "_________________________________________________________\n",
      " 1 1 1 1 | 1 0 1 0 | 1 1 1 0 1 1 1 |\t\n",
      "\t\t\t\t\t \u001b[1;31;47m   _   \u001b[0m\n",
      "\t\t\t\t\t \u001b[1;31;47m | _ | \u001b[0m\n",
      "\t\t\t\t\t \u001b[1;31;47m |   | \u001b[0m\n",
      "\t\t\t\t\t \u001b[1;31;47m       \u001b[0m\n",
      " \n",
      "_________________________________________________________\n"
     ]
    }
   ],
   "source": [
    "print('Input','\\t |\\t','Output')\n",
    "print(' A','B','C','D','|','W','X','Y','Z','|','a','b','c','d','e','f','g','|','Display in 7 segment')\n",
    "for a1,b1,c1,d1 in zip(P1,Q1,R1,S1):\n",
    "    w,x,y,z=BCD_excess3_converter(a1,b1,c1,d1)\n",
    "    a,b,c,d,e,f,g=BCDhex_7segment(w,x,y,z)\n",
    "    print('_________________________________________________________')\n",
    "    print('',a1,b1,c1,d1,'|',w,x,y,z,'|',a,b,c,d,e,f,g,'|\\t')\n",
    "    print(display_7segment(a,b,c,d,e,f,g))\n",
    "print('_________________________________________________________')"
   ]
  },
  {
   "cell_type": "markdown",
   "id": "4f2e8b72",
   "metadata": {},
   "source": [
    "# $$\\text{Implementation of a full-adder with a decoder}$$\n",
    "    \n",
    "  <img src=\"img/Screenshot%20(5).png\" alt=\"drawing\" width=\"600\" height=\"600\" align=\"center\"/>"
   ]
  },
  {
   "cell_type": "code",
   "execution_count": 63,
   "id": "cfacee91",
   "metadata": {},
   "outputs": [],
   "source": [
    "def decoder_fullAdder(D0,D1,D2,D3,D4,D5,D6,D7):\n",
    "    #OR\n",
    "    S=OR(OR(D1,D2),OR(D4,D7))\n",
    "    C=OR(OR(D3,D5),OR(D6,D7))\n",
    "    return S,C"
   ]
  },
  {
   "cell_type": "code",
   "execution_count": 64,
   "id": "fd67ac91",
   "metadata": {},
   "outputs": [
    {
     "name": "stdout",
     "output_type": "stream",
     "text": [
      "\tInput \t\t\t| Output\n",
      "x y z | D₀ D₁ D₂ D₃ D₄ D₅ D₆ D₇ | S C\n",
      "0 0 0 | 1  0  0  0  0  0  0  0  | 0 0\n",
      "0 0 1 | 0  1  0  0  0  0  0  0  | 1 0\n",
      "0 1 0 | 0  0  1  0  0  0  0  0  | 1 0\n",
      "0 1 1 | 0  0  0  1  0  0  0  0  | 0 1\n",
      "1 0 0 | 0  0  0  0  1  0  0  0  | 1 0\n",
      "1 0 1 | 0  0  0  0  0  1  0  0  | 0 1\n",
      "1 1 0 | 0  0  0  0  0  0  1  0  | 0 1\n",
      "1 1 1 | 0  0  0  0  0  0  0  1  | 1 1\n"
     ]
    }
   ],
   "source": [
    "print('\\tInput','\\t\\t\\t|','Output')\n",
    "print('x','y','z','|','D\\u2080','D\\u2081','D\\u2082','D\\u2083','D\\u2084','D\\u2085','D\\u2086','D\\u2087','|','S','C')\n",
    "for x,y,z in zip(X1,Y1,Z1):\n",
    "    D0,D1,D2,D3,D4,D5,D6,D7=decoder3_8(x,y,z)\n",
    "    S,C=decoder_fullAdder(D0,D1,D2,D3,D4,D5,D6,D7)\n",
    "    print(x,y,z,'|',D0,'',D1,'',D2,'',D3,'',D4,'',D5,'',D6,'',D7,' |',S,C)"
   ]
  },
  {
   "cell_type": "markdown",
   "id": "5312eb23",
   "metadata": {},
   "source": [
    "# $$\\text{Octal-to-binary encoder}$$\n",
    "\n",
    "<img src=\"img/Screenshot%20(7).png\" alt=\"drawing\" width=\"600\" height=\"600\" align=\"center\"/>"
   ]
  },
  {
   "cell_type": "code",
   "execution_count": 65,
   "id": "05d577f9",
   "metadata": {},
   "outputs": [],
   "source": [
    "def Encoder_OctaltoBinary(D0,D1,D2,D3,D4,D5,D6,D7):\n",
    "    #OR\n",
    "    x=OR(OR(D4,D5),OR(D6,D7))\n",
    "    y=OR(OR(D2,D3),OR(D6,D7))\n",
    "    z=OR(OR(D1,D3),OR(D5,D7))\n",
    "    return x,y,z"
   ]
  },
  {
   "cell_type": "code",
   "execution_count": 66,
   "id": "54340532",
   "metadata": {},
   "outputs": [
    {
     "name": "stdout",
     "output_type": "stream",
     "text": [
      "\tInput \t\t\t| Output\n",
      "x y z | D₀ D₁ D₂ D₃ D₄ D₅ D₆ D₇ | X Y Z\n",
      "0 0 0 | 1  0  0  0  0  0  0  0  | 0 0 0\n",
      "0 0 1 | 0  1  0  0  0  0  0  0  | 0 0 1\n",
      "0 1 0 | 0  0  1  0  0  0  0  0  | 0 1 0\n",
      "0 1 1 | 0  0  0  1  0  0  0  0  | 0 1 1\n",
      "1 0 0 | 0  0  0  0  1  0  0  0  | 1 0 0\n",
      "1 0 1 | 0  0  0  0  0  1  0  0  | 1 0 1\n",
      "1 1 0 | 0  0  0  0  0  0  1  0  | 1 1 0\n",
      "1 1 1 | 0  0  0  0  0  0  0  1  | 1 1 1\n"
     ]
    }
   ],
   "source": [
    "print('\\tInput','\\t\\t\\t|','Output')\n",
    "print('x','y','z','|','D\\u2080','D\\u2081','D\\u2082','D\\u2083','D\\u2084','D\\u2085','D\\u2086','D\\u2087','|','X','Y','Z')\n",
    "for x,y,z in zip(X1,Y1,Z1):\n",
    "    D0,D1,D2,D3,D4,D5,D6,D7=decoder3_8(x,y,z)\n",
    "    x1,y1,z1=Encoder_OctaltoBinary(D0,D1,D2,D3,D4,D5,D6,D7)\n",
    "    print(x,y,z,'|',D0,'',D1,'',D2,'',D3,'',D4,'',D5,'',D6,'',D7,' |',x1,y1,z1)"
   ]
  },
  {
   "cell_type": "markdown",
   "id": "cc8b40ce",
   "metadata": {},
   "source": [
    "# $$\\text{4-to-1 line multiplexer}$$\n",
    "\n",
    "<img src=\"img/Screenshot%20(9).png\" alt=\"drawing\" width=\"600\" height=\"600\" align=\"center\"/>"
   ]
  },
  {
   "cell_type": "code",
   "execution_count": 67,
   "id": "7645a7e1",
   "metadata": {},
   "outputs": [],
   "source": [
    "def multiplexer4to1(I0,I1,I2,I3,S0,S1):\n",
    "    #NOT\n",
    "    n1=NOT(S0)\n",
    "    n2=NOT(S1)\n",
    "    #AND\n",
    "    A1=AND(AND(n1,n2),I0)\n",
    "    A2=AND(AND(S0,n2),I1)\n",
    "    A3=AND(AND(n1,S1),I2)\n",
    "    A4=AND(AND(S0,S1),I3)\n",
    "    #OR\n",
    "    Y=OR(OR(A1,A2),OR(A3,A4))\n",
    "    \n",
    "    if (I0==1)&(Y==1): \n",
    "        s='I\\u2080'\n",
    "    elif (I1==1)&(Y==1): \n",
    "        s='I\\u2081'\n",
    "    elif (I2==1)&(Y==1): \n",
    "        s='I\\u2082'\n",
    "    elif (I3==1)&(Y==1): \n",
    "        s='I\\u2083'\n",
    "    else: \n",
    "        s=''\n",
    "    return Y,s"
   ]
  },
  {
   "cell_type": "code",
   "execution_count": 68,
   "id": "c4f53fe8",
   "metadata": {},
   "outputs": [
    {
     "name": "stdout",
     "output_type": "stream",
     "text": [
      "\tInput \t   | Output\n",
      "I₀ I₁ I₂ I₃ S₀ S₁  | Y\n",
      " 0  0  0  1  0  0  | 0 \n",
      " 0  0  0  1  0  1  | 0 \n",
      " 0  0  0  1  1  0  | 0 \n",
      "\u001b[1;34;43m 0  0  0  1  1  1  | 1 I₃\u001b[0m\n",
      " 0  0  0  1  0  0  | 0 \n",
      " 0  0  0  1  0  1  | 0 \n",
      " 0  0  0  1  1  0  | 0 \n",
      "\u001b[1;34;43m 0  0  0  1  1  1  | 1 I₃\u001b[0m\n",
      " 0  0  0  1  0  0  | 0 \n",
      " 0  0  0  1  0  1  | 0 \n",
      " 0  0  0  1  1  0  | 0 \n",
      "\u001b[1;34;43m 0  0  0  1  1  1  | 1 I₃\u001b[0m\n",
      " 0  0  0  1  0  0  | 0 \n",
      " 0  0  0  1  0  1  | 0 \n",
      " 0  0  0  1  1  0  | 0 \n",
      "\u001b[1;34;43m 0  0  0  1  1  1  | 1 I₃\u001b[0m\n"
     ]
    }
   ],
   "source": [
    "DI0,DI1,DI2,DI3=[],[],[],[]\n",
    "for S0,S1 in zip(A,B):\n",
    "    D0,D1,D2,D3=decoder2_4(a,b)\n",
    "    DI0.append(D0)\n",
    "    DI1.append(D1)\n",
    "    DI2.append(D2)\n",
    "    DI3.append(D3)\n",
    "\n",
    "print('\\tInput','\\t   |','Output')\n",
    "print('I\\u2080','I\\u2081','I\\u2082','I\\u2083','S\\u2080','S\\u2081',' |','Y')    \n",
    "for I0,I1,I2,I3 in zip(DI0,DI1,DI2,DI3):\n",
    "    for S0,S1 in zip(A,B):\n",
    "        Y,s= multiplexer4to1(I0,I1,I2,I3,S0,S1)\n",
    "            \n",
    "        if Y==1:\n",
    "            print('\\033[1;34;43m',+I0,'',I1,'',I2,'',I3,'',S0,'',S1,' |',Y,s+'\\033[0m')\n",
    "        else :\n",
    "            print('',I0,'',I1,'',I2,'',I3,'',S0,'',S1,' |',Y,s)"
   ]
  },
  {
   "cell_type": "markdown",
   "id": "e8ae1e95",
   "metadata": {},
   "source": [
    "# $$\\text{8-to-1 line multiplexer}$$\n",
    "\n",
    "<img src=\"img/Logic-Circuit-of-8-to-1-MUX.jpg\" alt=\"drawing\" width=\"600\" height=\"600\" align=\"center\"/>"
   ]
  },
  {
   "cell_type": "code",
   "execution_count": 69,
   "id": "8fd0e708",
   "metadata": {},
   "outputs": [],
   "source": [
    "def multiplexer8to1(D0,D1,D2,D3,D4,D5,D6,D7,S0,S1,S2,E):\n",
    "    #NOT\n",
    "    n0=NOT(S0)\n",
    "    n1=NOT(S1)\n",
    "    n2=NOT(S2)\n",
    "    E1=NOT(E)\n",
    "    #AND\n",
    "    dS0S1=AND(n0,n1)        \n",
    "    S0dS1=AND(S0,n1)        \n",
    "    S1dS0=AND(n0,S1)        \n",
    "    S0S1=AND(S0,S1)     \n",
    "    \n",
    "    A0=AND(AND(AND(dS0S1,n2),D0),E1)    # S0'S1'S2'D0E'\n",
    "    A1=AND(AND(AND(dS0S1,S2),D1),E1)    # S0'S1'S2D1E'\n",
    "    A2=AND(AND(AND(S1dS0,n2),D2),E1)    # S0'S1S2'D2E\n",
    "    A3=AND(AND(AND(S1dS0,S2),D3),E1)    # S0'S1S2D3E'\n",
    "    A4=AND(AND(AND(S0dS1,n2),D4),E1)    # S0S1'S2'D4E'\n",
    "    A5=AND(AND(AND(S0dS1,S2),D5),E1)    # S0S1'S2D5E'\n",
    "    A6=AND(AND(AND(S0S1,n2),D6),E1)     # S0S1S2'D6E'\n",
    "    A7=AND(AND(AND(S0S1,S2),D7),E1)     # S0S1S2D7E'\n",
    "\n",
    "    #OR\n",
    "    bY=NOT(OR(OR(OR(A0,A1),OR(A2,A3)),OR(OR(A4,A5),OR(A6,A7))))\n",
    "    Y=NOT(bY)\n",
    "    \n",
    "    \n",
    "    if (D0==1)&(Y==1): \n",
    "        s='D\\u2080'\n",
    "    elif (D1==1)&(Y==1): \n",
    "        s='D\\u2081'\n",
    "    elif (D2==1)&(Y==1): \n",
    "        s='D\\u2082'\n",
    "    elif (D3==1)&(Y==1): \n",
    "        s='D\\u2083'\n",
    "    elif (D4==1)&(Y==1): \n",
    "        s='D\\u2084'\n",
    "    elif (D5==1)&(Y==1): \n",
    "        s='D\\u2085'\n",
    "    elif (D6==1)&(Y==1): \n",
    "        s='D\\u2086'\n",
    "    elif (D7==1)&(Y==1): \n",
    "        s='D\\u2087'\n",
    "    else: \n",
    "        s=''\n",
    "    return Y,bY,s"
   ]
  },
  {
   "cell_type": "code",
   "execution_count": 70,
   "id": "5de4109c",
   "metadata": {},
   "outputs": [
    {
     "name": "stdout",
     "output_type": "stream",
     "text": [
      "\tInput \t\t\t\t| Output\n",
      "E S₀ S₁ S₂ | D₀ D₁ D₂ D₃ D₄ D₅ D₆ D₇ \t| Y\n",
      "1 0  0  0  | 0  0  0  0  0  0  0  0 \t| 0 \n",
      "0 0  0  0  | 1  0  0  0  0  0  0  0 \t| 1 D₀\n",
      "1 0  0  1  | 0  0  0  0  0  0  0  0 \t| 0 \n",
      "0 0  0  1  | 0  1  0  0  0  0  0  0 \t| 1 D₁\n",
      "1 0  1  0  | 0  0  0  0  0  0  0  0 \t| 0 \n",
      "0 0  1  0  | 0  0  1  0  0  0  0  0 \t| 1 D₂\n",
      "1 0  1  1  | 0  0  0  0  0  0  0  0 \t| 0 \n",
      "0 0  1  1  | 0  0  0  1  0  0  0  0 \t| 1 D₃\n",
      "1 1  0  0  | 0  0  0  0  0  0  0  0 \t| 0 \n",
      "0 1  0  0  | 0  0  0  0  1  0  0  0 \t| 1 D₄\n",
      "1 1  0  1  | 0  0  0  0  0  0  0  0 \t| 0 \n",
      "0 1  0  1  | 0  0  0  0  0  1  0  0 \t| 1 D₅\n",
      "1 1  1  0  | 0  0  0  0  0  0  0  0 \t| 0 \n",
      "0 1  1  0  | 0  0  0  0  0  0  1  0 \t| 1 D₆\n",
      "1 1  1  1  | 0  0  0  0  0  0  0  0 \t| 0 \n",
      "0 1  1  1  | 0  0  0  0  0  0  0  1 \t| 1 D₇\n"
     ]
    }
   ],
   "source": [
    "print('\\tInput','\\t\\t\\t\\t| Output')\n",
    "print('E','S₀','S₁','S₂','|','D₀','D₁','D₂','D₃','D₄','D₅','D₆','D₇','\\t|','Y')\n",
    "\n",
    "for S0,S1,S2 in zip(X1,Y1,Z1):\n",
    "    for E in [1,0]:\n",
    "        if E==1: \n",
    "            D0,D1,D2,D3,D4,D5,D6,D7=0,0,0,0,0,0,0,0\n",
    "            Y,bY,s=multiplexer8to1(D0,D1,D2,D3,D4,D5,D6,D7,S0,S1,S2,E)\n",
    "        else:\n",
    "            D0,D1,D2,D3,D4,D5,D6,D7=decoder3_8(S0,S1,S2)\n",
    "            Y,bY,s=multiplexer8to1(D0,D1,D2,D3,D4,D5,D6,D7,S0,S1,S2,E)\n",
    "        print(E,S0,'',S1,'',S2,' |',D0,'',D1,'',D2,'',D3,'',D4,'',D5,'',D6,'',D7,'\\t|',Y,s)"
   ]
  }
 ],
 "metadata": {
  "kernelspec": {
   "display_name": "Python 3 (ipykernel)",
   "language": "python",
   "name": "python3"
  },
  "language_info": {
   "codemirror_mode": {
    "name": "ipython",
    "version": 3
   },
   "file_extension": ".py",
   "mimetype": "text/x-python",
   "name": "python",
   "nbconvert_exporter": "python",
   "pygments_lexer": "ipython3",
   "version": "3.10.9"
  }
 },
 "nbformat": 4,
 "nbformat_minor": 5
}
