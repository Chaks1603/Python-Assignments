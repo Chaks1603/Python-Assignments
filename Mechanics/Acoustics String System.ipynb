{
 "cells": [
  {
   "cell_type": "code",
   "execution_count": 1,
   "id": "5d3a353c",
   "metadata": {},
   "outputs": [],
   "source": [
    "import warnings\n",
    "from pylab import *\n",
    "from sympy import *\n",
    "warnings.filterwarnings('ignore') "
   ]
  },
  {
   "cell_type": "markdown",
   "id": "3b47f449",
   "metadata": {},
   "source": [
    "# Plucked String\n",
    "\n",
    "$\\displaystyle{\\qquad y(x,t) = \\frac{2hl^2}{a(l-a)\\pi^2} \\sum_{n=1}^\\infty \\frac{1}{n^2}\\sin \\frac{n\\pi a}{l}\\cdot\\sin\\frac{n\\pi x}{l}\\cdot\\cos\\frac{n\\pi c t}{l}}$"
   ]
  },
  {
   "cell_type": "code",
   "execution_count": 2,
   "id": "562c488f",
   "metadata": {},
   "outputs": [
    {
     "data": {
      "text/latex": [
       "$\\displaystyle \\frac{2 h l^{2} \\sum_{n=1}^{\\infty} \\frac{\\sin{\\left(\\frac{\\pi a n}{l} \\right)} \\sin{\\left(\\frac{\\pi n x}{l} \\right)} \\cos{\\left(\\frac{\\pi c n t}{l} \\right)}}{n^{2}}}{\\pi^{2} a \\left(- a + l\\right)}$"
      ],
      "text/plain": [
       "2*h*l**2*Sum(sin(pi*a*n/l)*sin(pi*n*x/l)*cos(pi*c*n*t/l)/n**2, (n, 1, oo))/(pi**2*a*(-a + l))"
      ]
     },
     "metadata": {},
     "output_type": "display_data"
    }
   ],
   "source": [
    "x,t,h,l,a,n,c,s=var('x t h l a n c s')\n",
    "\n",
    "def y(x,t):\n",
    "    return (2*h*l**2)/(a*(l-a)*pi**2)*summation(sin(n*pi*a/l)*sin(n*pi*x/l)*cos(n*pi*c*t/l)*(1/n**2),(n,1,oo))\n",
    "\n",
    "display(y(x,t))"
   ]
  },
  {
   "cell_type": "code",
   "execution_count": 3,
   "id": "6b5fd569",
   "metadata": {
    "scrolled": true
   },
   "outputs": [
    {
     "data": {
      "image/png": "[encoded data removed]",
      "text/plain": [
       "<Figure size 432x288 with 1 Axes>"
      ]
     },
     "metadata": {
      "needs_background": "light"
     },
     "output_type": "display_data"
    },
    {
     "data": {
      "text/plain": [
       "<sympy.plotting.plot.Plot at 0x23760394ac0>"
      ]
     },
     "execution_count": 3,
     "metadata": {},
     "output_type": "execute_result"
    }
   ],
   "source": [
    "t=0\n",
    "h=1\n",
    "l=1\n",
    "a=0.4\n",
    "c=1\n",
    "plotting.plot(y(x,t),(x,0,l))"
   ]
  },
  {
   "cell_type": "markdown",
   "id": "ff51847b",
   "metadata": {},
   "source": [
    "# Struck String\n",
    "\n",
    "$\\displaystyle{\\qquad y(x,t) = \\frac{2A}{\\pi c} \\sum_{n=1}^\\infty \\frac{1}{n}\\sin \\frac{n\\pi a}{l}\\cdot\\sin\\frac{n\\pi x}{l}\\cdot\\sin\\frac{n\\pi c t}{l}}$"
   ]
  },
  {
   "cell_type": "code",
   "execution_count": 2,
   "id": "d945ed29",
   "metadata": {},
   "outputs": [
    {
     "data": {
      "text/latex": [
       "$\\displaystyle \\frac{2 A \\sum_{n=1}^{\\infty} \\frac{\\sin{\\left(\\frac{\\pi a n}{l} \\right)} \\sin{\\left(\\frac{\\pi n x}{l} \\right)} \\sin{\\left(\\frac{\\pi c n t}{l} \\right)}}{n}}{\\pi c}$"
      ],
      "text/plain": [
       "2*A*Sum(sin(pi*a*n/l)*sin(pi*n*x/l)*sin(pi*c*n*t/l)/n, (n, 1, oo))/(pi*c)"
      ]
     },
     "metadata": {},
     "output_type": "display_data"
    }
   ],
   "source": [
    "x,t,h,l,a,n,c,s,A=var('x t h l a n c s A')\n",
    "\n",
    "def y(x,t):\n",
    "    return (A*2)/(pi*c)*summation(sin(n*pi*a/l)*sin(n*pi*x/l)*sin(n*pi*c*t/l)*(1/n),(n,1,oo))\n",
    "\n",
    "display(y(x,t))"
   ]
  },
  {
   "cell_type": "code",
   "execution_count": 7,
   "id": "a2ceb271",
   "metadata": {},
   "outputs": [],
   "source": [
    "t=1\n",
    "A=10\n",
    "l=1\n",
    "a=l/2\n",
    "c=0.1"
   ]
  },
  {
   "cell_type": "code",
   "execution_count": 8,
   "id": "5d42d385",
   "metadata": {},
   "outputs": [
    {
     "data": {
      "text/latex": [
       "$\\displaystyle \\frac{200.0}{\\pi}$"
      ],
      "text/plain": [
       "200.0/pi"
      ]
     },
     "execution_count": 8,
     "metadata": {},
     "output_type": "execute_result"
    }
   ],
   "source": [
    "(A*2)/(pi*c)"
   ]
  },
  {
   "cell_type": "code",
   "execution_count": 9,
   "id": "c0003751",
   "metadata": {},
   "outputs": [
    {
     "data": {
      "text/latex": [
       "$\\displaystyle \\sum_{n=1}^{\\infty} \\frac{\\sin{\\left(0.1 \\pi n \\right)} \\sin{\\left(\\frac{\\pi n}{2} \\right)} \\sin{\\left(\\pi n x \\right)}}{n}$"
      ],
      "text/plain": [
       "Sum(sin(0.1*pi*n)*sin(pi*n/2)*sin(pi*n*x)/n, (n, 1, oo))"
      ]
     },
     "execution_count": 9,
     "metadata": {},
     "output_type": "execute_result"
    }
   ],
   "source": [
    "summation(sin(n*pi*a/l)*sin(n*pi*x/l)*sin(n*pi*c*t/l)*(1/n),(n,1,oo))"
   ]
  },
  {
   "cell_type": "code",
   "execution_count": 10,
   "id": "dd721d62",
   "metadata": {},
   "outputs": [
    {
     "name": "stdout",
     "output_type": "stream",
     "text": [
      "200.0*Sum(sin(0.1*pi*n)*sin(pi*n/2)*sin(pi*n)/n, (n, 1, oo))/pi\n"
     ]
    }
   ],
   "source": [
    "print(y(1,t))\n",
    "#plotting.plot(y(x,t),(x,0,l))"
   ]
  },
  {
   "cell_type": "code",
   "execution_count": null,
   "id": "eeef8364",
   "metadata": {},
   "outputs": [],
   "source": [
    "plotting.plot(y(x,t),(x,0,l))"
   ]
  },
  {
   "cell_type": "code",
   "execution_count": null,
   "id": "143ccdff",
   "metadata": {},
   "outputs": [],
   "source": []
  }
 ],
 "metadata": {
  "kernelspec": {
   "display_name": "Python 3 (ipykernel)",
   "language": "python",
   "name": "python3"
  },
  "language_info": {
   "codemirror_mode": {
    "name": "ipython",
    "version": 3
   },
   "file_extension": ".py",
   "mimetype": "text/x-python",
   "name": "python",
   "nbconvert_exporter": "python",
   "pygments_lexer": "ipython3",
   "version": "3.9.12"
  }
 },
 "nbformat": 4,
 "nbformat_minor": 5
}
