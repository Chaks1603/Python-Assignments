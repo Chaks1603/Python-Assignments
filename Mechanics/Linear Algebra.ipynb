{
 "cells": [
  {
   "cell_type": "code",
   "execution_count": 1,
   "id": "7318773b",
   "metadata": {},
   "outputs": [],
   "source": [
    "from IPython.display import display, Math\n",
    "from sympy import *\n",
    "import sympy as sp\n",
    "import numpy as np\n",
    "import scipy as si"
   ]
  },
  {
   "cell_type": "markdown",
   "id": "70f89903",
   "metadata": {},
   "source": [
    "1. Gauss Elimination\n",
    "2. Gauss Elimination with Backsubstitution\n",
    "3. Gauss Elimination with Backsubstitution and Pivot\n",
    "4. Gauss-Jordan Elimination\n",
    "5. Gauss Seidel iterative method\n",
    "6. Jacobi iterative method\n",
    "7. Cholesky Decomposition\n",
    "8. LU Decomposition\n",
    "9. QR Decomposition \n",
    "10. Power Iteration and Inverse Power Iteration"
   ]
  },
  {
   "cell_type": "markdown",
   "id": "881c033e",
   "metadata": {},
   "source": [
    " ## Gauss elimination method"
   ]
  },
  {
   "cell_type": "code",
   "execution_count": 2,
   "id": "c6873829",
   "metadata": {},
   "outputs": [],
   "source": [
    "def gauss(a):\n",
    "    m, n = a.shape               \n",
    "    M = a.copy()\n",
    "     \n",
    "    for k in range(n):                        \n",
    "        for j in range(k+1,n):                      \n",
    "            q = float(M[j][k]) / M[k][k]  # lambda\n",
    "            for m in range(k, n): \n",
    "                M[j][m] -=  q * M[k][m]        \n",
    "    return M"
   ]
  },
  {
   "cell_type": "code",
   "execution_count": 3,
   "id": "975ee36e",
   "metadata": {},
   "outputs": [
    {
     "data": {
      "text/plain": [
       "(array([[ 1.        ,  2.        , -1.        ,  1.        ],\n",
       "        [ 0.        ,  3.        ,  1.        ,  0.        ],\n",
       "        [ 0.        ,  0.        ,  5.66666667,  0.        ],\n",
       "        [ 0.        ,  0.        ,  0.        ,  1.        ]]),\n",
       " 17.0,\n",
       " 17.0)"
      ]
     },
     "execution_count": 3,
     "metadata": {},
     "output_type": "execute_result"
    }
   ],
   "source": [
    "A = np. array([[  1.,  2., -1.,  1.],\n",
    "               [ -1.,  1.,  2., -1.],\n",
    "               [  2., -1.,  2.,  2.],\n",
    "               [  1.,  1., -1.,  2.]])\n",
    "\n",
    "b = gauss(A)\n",
    "b,np.linalg.det(b),np.linalg.det(A)"
   ]
  },
  {
   "cell_type": "markdown",
   "id": "5cdbe47b",
   "metadata": {},
   "source": [
    "* determinant\n",
    "* "
   ]
  },
  {
   "cell_type": "markdown",
   "id": "02f9e725",
   "metadata": {},
   "source": [
    "### Gauss Elimination with Backsubstitution"
   ]
  },
  {
   "cell_type": "code",
   "execution_count": 4,
   "id": "e031a0d9",
   "metadata": {},
   "outputs": [],
   "source": [
    "def gauss_elmbk(a, b):\n",
    "    m, n = a.shape               \n",
    "    b = b.reshape(n,1)\n",
    "    M = np.hstack((a,b))                      #augmented_mat\n",
    "    const = M.copy()\n",
    "    #display(Math(r'A|B_b = '+latex(sp.Matrix(M))))\n",
    "    for k in range(n):                       \n",
    "        for j in range(k+1,n):                      \n",
    "            q = float(M[j][k]) / M[k][k]       # lambda\n",
    "            for m in range(k, n+1):    # Forward Elimination - Subtracting rows\n",
    "                M[j][m] -=  q * M[k][m] \n",
    "    display(Math(r'A|B_{Gauss-back} = '+latex(sp.Matrix(const.round(2)))+\n",
    "                 r'\\rightarrow'+latex(sp.Matrix(np.round(M,2)))))\n",
    "    \n",
    "    x = np.zeros(n)\n",
    "    x[n-1] = float(M[n-1][n]) / M[n-1][n-1]  \n",
    "    for i in range (n-1,-1,-1):                 # Backwards Substitution \n",
    "        z = 0.0                                     \n",
    "        for j in range(i+1,n):                     \n",
    "            z = z  + float(M[i][j])*x[j]   \n",
    "        x[i] = float(M[i][n] - z) / M[i][i]\n",
    "    return x"
   ]
  },
  {
   "cell_type": "markdown",
   "id": "105a1e42",
   "metadata": {},
   "source": [
    "### Using Gauss elimination method find the inverse of matrix"
   ]
  },
  {
   "cell_type": "code",
   "execution_count": 28,
   "id": "f292b51b",
   "metadata": {},
   "outputs": [],
   "source": [
    "def gauss_elmbk_inv(a):\n",
    "    m, n = a.shape               \n",
    "    b = np.identity(len(a))\n",
    "    M = np.hstack((a,b))                        #augmented_mat\n",
    "    const1 = M.copy()\n",
    "    #display(Math(r'A|I_b = '+latex(sp.Matrix(M))))\n",
    "\n",
    "    for k in range(n+len(a)):                  \n",
    "        for j in range(k+1,n):                      \n",
    "            q = float(M[j][k]) / M[k][k]        # lambda\n",
    "            for m in range(k, n+len(a)):        # Forward Elimination - Subtracting rows \n",
    "                M[j][m] -=  q * M[k][m]  \n",
    "\n",
    "    #display(Math(r'A|I_b = '+latex(sp.Matrix(np.round(M,2)))))\n",
    "    const2 = M.copy()\n",
    "\n",
    "    for i in range(0, n):\n",
    "        M[i] = M[i] / M[i][i]        \n",
    "        for j in [k for k in range(0, n) if k != i]:\n",
    "            M[j] = M[j] - M[i] * M[j][i]\n",
    "    display(Math(r'A|I_{Gauss-back} = '+latex(sp.Matrix(const1))+\n",
    "                 r'\\rightarrow'+latex(sp.Matrix(np.round(const2,2)))))\n",
    "    display(Math(r'I|A^{-1}_{Gauss-back} = '+latex(sp.Matrix(np.round(M,2)))))\n",
    "    return M[:, n:]"
   ]
  },
  {
   "cell_type": "markdown",
   "id": "5dcb4055",
   "metadata": {},
   "source": [
    "### Gauss Elimination with Backsubstitution and Pivot"
   ]
  },
  {
   "cell_type": "code",
   "execution_count": 29,
   "id": "a31e2786",
   "metadata": {},
   "outputs": [],
   "source": [
    "def gauss_pivot(a, b):\n",
    "    m, n = a.shape               \n",
    "    b = b.reshape(n,1)\n",
    "    M = np.hstack((a,b))                   #augmented_mat\n",
    "    #display(Math(r'A|B_p = '+latex(sp.Matrix(M))))\n",
    "    const = M.copy()\n",
    "    def swaprows(v,i,j):\n",
    "        if len(v.shape) == 1: v[i],v[j] = v[j],v[i]\n",
    "        else:   v[[i,j],:] = v[[j,i],:]\n",
    "    s = np.zeros(n)\n",
    "    for i in range(n):  s[i] = max(np.abs(M[i,:]))\n",
    "    for k in range(n):       \n",
    "        p = np.argmax(np.abs(a[k:n,k])/s[k:n]) + k   # row interchange, if needed\n",
    "        if p != k: swaprows(M,k,p)\n",
    "        for j in range(k+1,n):  \n",
    "            q = float(M[j][k]) / M[k][k]        # lambda\n",
    "            for m in range(k, n+1): M[j][m] -=  q * M[k][m] # Forward Elimination \n",
    "    display(Math(r'A|B_{Gauss-Pivot} = '+latex(sp.Matrix(np.round(const,2)))+\n",
    "                 r'\\rightarrow'+latex(sp.Matrix(np.round(M,2)))))\n",
    "    x = np.zeros(n)\n",
    "    x[n-1] =float(M[n-1][n]) / M[n-1][n-1]  \n",
    "    for i in range (n-1,-1,-1):                         # Backwards Substitution         \n",
    "        z = 0.0                                     \n",
    "        for j in range(i+1,n): z = z  + float(M[i][j])*x[j]   \n",
    "        x[i] = float(M[i][n] - z) / M[i][i]    \n",
    "    return x "
   ]
  },
  {
   "cell_type": "markdown",
   "id": "ac101073",
   "metadata": {},
   "source": [
    "## Gauss-Jordan Elimination"
   ]
  },
  {
   "cell_type": "code",
   "execution_count": 30,
   "id": "4deeba2f",
   "metadata": {},
   "outputs": [],
   "source": [
    "def gauss_jordan(a, b):\n",
    "    m, n = a.shape               \n",
    "    b = b.reshape(n,1)\n",
    "    M = np.hstack((a,b))                      #augmented_mat\n",
    "    #display(Math(r'A|B_j = '+latex(sp.Matrix(M))))\n",
    "    const = M.copy()\n",
    "    ol = [[0, m - 1, 1], [m - 1, 0, -1]]               #outer_loop\n",
    "    for d in range(2):\n",
    "        for i in range(ol[d][0], ol[d][1], ol[d][2]):\n",
    "            il = [[i + 1, m, 1], [i - 1, -1, -1]]                #inner_loop\n",
    "            for j in range(il[d][0], il[d][1], il[d][2]):\n",
    "                k = (-1) * M[j, i] / M[i, i]\n",
    "                temp_row = M[i, :] * k\n",
    "                M[j, :] += temp_row\n",
    "    for i in range(0, m):\n",
    "        M[i, :] = M[i, :] / M[i, i]\n",
    "    display(Math(r'A|B_{Gauss-Jordan} = '+latex(sp.Matrix(np.round(const,2)))+\n",
    "                 r'\\rightarrow'+latex(sp.Matrix(np.round(M,2)))))\n",
    "    return M[:, n]"
   ]
  },
  {
   "cell_type": "markdown",
   "id": "bae0b7a1",
   "metadata": {},
   "source": [
    "### Using Gauss Jordan elimination find the inverse of matrix"
   ]
  },
  {
   "cell_type": "code",
   "execution_count": 31,
   "id": "3ee2ae6e",
   "metadata": {},
   "outputs": [],
   "source": [
    "def gauss_jordan_inv(a):\n",
    "    m, n = a.shape              \n",
    "    b = np.identity(len(a))\n",
    "    M = np.hstack((a,b))           #augmented_matrix\n",
    "    #display(Math(r'A|I_j = '+latex(sp.Matrix(M))))\n",
    "    const1 = M.copy()\n",
    "    ol = [[0, m - 1, 1], [m - 1, 0, -1]]           #outer_loop\n",
    "    for d in range(2):\n",
    "        for i in range(ol[d][0], ol[d][1], ol[d][2]):\n",
    "            il = [[i + 1, m, 1], [i - 1, -1, -1]]       #inner_loop\n",
    "            for j in range(il[d][0], il[d][1], il[d][2]):\n",
    "                k = (-1) * M[j, i] / M[i, i]\n",
    "                temp_row = M[i, :] * k\n",
    "                M[j, :] += temp_row\n",
    "    const2 = M.copy()\n",
    "    for i in range(0, m):\n",
    "        M[i, :] = M[i, :] / M[i, i]\n",
    "    display(Math(r'A|I_{Gauss-Jordan} = '+latex(sp.Matrix(const1))+\n",
    "                 r'\\rightarrow'+latex(sp.Matrix(const2.round(2)))))\n",
    "    display(Math(r'I|A^{-1}_{Gauss-Jordan} = '+latex(sp.Matrix(np.round(M,2)))))\n",
    "    return M[:, n:]"
   ]
  },
  {
   "cell_type": "code",
   "execution_count": 32,
   "id": "eabbbdd4",
   "metadata": {},
   "outputs": [
    {
     "data": {
      "text/latex": [
       "$\\displaystyle A|B_{Gauss-back} = \\left[\\begin{matrix}1.0 & 2.0 & -1.0 & 1.0 & 6.0\\\\-1.0 & 1.0 & 2.0 & -1.0 & 3.0\\\\2.0 & -1.0 & 2.0 & 2.0 & 14.0\\\\1.0 & 1.0 & -1.0 & 2.0 & 8.0\\end{matrix}\\right]\\rightarrow\\left[\\begin{matrix}1.0 & 2.0 & -1.0 & 1.0 & 6.0\\\\0 & 3.0 & 1.0 & 0 & 9.0\\\\0 & 0 & 5.67 & 0 & 17.0\\\\0 & 0 & 0 & 1.0 & 4.0\\end{matrix}\\right]$"
      ],
      "text/plain": [
       "<IPython.core.display.Math object>"
      ]
     },
     "metadata": {},
     "output_type": "display_data"
    },
    {
     "data": {
      "text/latex": [
       "$\\displaystyle A|B_{Gauss-Pivot} = \\left[\\begin{matrix}1.0 & 2.0 & -1.0 & 1.0 & 6.0\\\\-1.0 & 1.0 & 2.0 & -1.0 & 3.0\\\\2.0 & -1.0 & 2.0 & 2.0 & 14.0\\\\1.0 & 1.0 & -1.0 & 2.0 & 8.0\\end{matrix}\\right]\\rightarrow\\left[\\begin{matrix}-1.0 & 1.0 & 2.0 & -1.0 & 3.0\\\\0 & 3.0 & 1.0 & 0 & 9.0\\\\0 & 0 & 5.67 & 0 & 17.0\\\\0 & 0 & 0 & 1.0 & 4.0\\end{matrix}\\right]$"
      ],
      "text/plain": [
       "<IPython.core.display.Math object>"
      ]
     },
     "metadata": {},
     "output_type": "display_data"
    },
    {
     "data": {
      "text/latex": [
       "$\\displaystyle A|B_{Gauss-Jordan} = \\left[\\begin{matrix}1.0 & 2.0 & -1.0 & 1.0 & 6.0\\\\-1.0 & 1.0 & 2.0 & -1.0 & 3.0\\\\2.0 & -1.0 & 2.0 & 2.0 & 14.0\\\\1.0 & 1.0 & -1.0 & 2.0 & 8.0\\end{matrix}\\right]\\rightarrow\\left[\\begin{matrix}1.0 & 0 & 0 & 0 & 1.0\\\\0 & 1.0 & 0 & 0 & 2.0\\\\0 & 0 & 1.0 & 0 & 3.0\\\\0 & 0 & 0 & 1.0 & 4.0\\end{matrix}\\right]$"
      ],
      "text/plain": [
       "<IPython.core.display.Math object>"
      ]
     },
     "metadata": {},
     "output_type": "display_data"
    },
    {
     "data": {
      "text/latex": [
       "$\\displaystyle X_{Gauss-back} = \\left[\\begin{matrix}1.0\\\\2.0\\\\3.0\\\\4.0\\end{matrix}\\right]X_{Gauss-Pivot} = \\left[\\begin{matrix}1.0\\\\2.0\\\\3.0\\\\4.0\\end{matrix}\\right]X_{Gauss-Jordan} = \\left[\\begin{matrix}1.0\\\\2.0\\\\3.0\\\\4.0\\end{matrix}\\right]X = \\left[\\begin{matrix}1.0\\\\2.0\\\\3.0\\\\4.0\\end{matrix}\\right]$"
      ],
      "text/plain": [
       "<IPython.core.display.Math object>"
      ]
     },
     "metadata": {},
     "output_type": "display_data"
    }
   ],
   "source": [
    "A = np. array([[  1.,  2., -1.,  1.],\n",
    "               [ -1.,  1.,  2., -1.],\n",
    "               [  2., -1.,  2.,  2.],\n",
    "               [  1.,  1., -1.,  2.]])\n",
    "\n",
    "b = np.array([ 6., 3., 14., 8.])\n",
    "\n",
    "x_gb = gauss_elmbk(A, b)\n",
    "x_gp = gauss_pivot(A, b)\n",
    "x_gj = gauss_jordan(A, b)\n",
    "x = np.linalg.solve(A,b)\n",
    "\n",
    "display(Math(r'X_{Gauss-back} = '+latex(sp.Matrix(np.round(x_gb,2)))+\n",
    "             r'X_{Gauss-Pivot} = '+latex(sp.Matrix(np.round(x_gp,2)))+\n",
    "             r'X_{Gauss-Jordan} = '+latex(sp.Matrix(np.round(x_gj,2)))+\n",
    "             r'X = '+latex(sp.Matrix(np.round(x,2)))))"
   ]
  },
  {
   "cell_type": "code",
   "execution_count": 33,
   "id": "c251526e",
   "metadata": {
    "scrolled": false
   },
   "outputs": [
    {
     "data": {
      "text/latex": [
       "$\\displaystyle A|I_{Gauss-back} = \\left[\\begin{matrix}1.0 & 2.0 & -1.0 & 1.0 & 1.0 & 0 & 0 & 0\\\\-1.0 & 1.0 & 2.0 & -1.0 & 0 & 1.0 & 0 & 0\\\\2.0 & -1.0 & 2.0 & 2.0 & 0 & 0 & 1.0 & 0\\\\1.0 & 1.0 & -1.0 & 2.0 & 0 & 0 & 0 & 1.0\\end{matrix}\\right]\\rightarrow\\left[\\begin{matrix}1.0 & 2.0 & -1.0 & 1.0 & 1.0 & 0 & 0 & 0\\\\0 & 3.0 & 1.0 & 0 & 1.0 & 1.0 & 0 & 0\\\\0 & 0 & 5.67 & 0 & -0.33 & 1.67 & 1.0 & 0\\\\0 & 0 & 0 & 1.0 & -0.65 & 0.24 & -0.06 & 1.0\\end{matrix}\\right]$"
      ],
      "text/plain": [
       "<IPython.core.display.Math object>"
      ]
     },
     "metadata": {},
     "output_type": "display_data"
    },
    {
     "data": {
      "text/latex": [
       "$\\displaystyle I|A^{-1}_{Gauss-back} = \\left[\\begin{matrix}1.0 & 0 & 0 & 0 & 0.88 & -0.41 & 0.35 & -1.0\\\\0 & 1.0 & 0 & 0 & 0.35 & 0.24 & -0.06 & 0\\\\0 & 0 & 1.0 & 0 & -0.06 & 0.29 & 0.18 & 0\\\\0 & 0 & 0 & 1.0 & -0.65 & 0.24 & -0.06 & 1.0\\end{matrix}\\right]$"
      ],
      "text/plain": [
       "<IPython.core.display.Math object>"
      ]
     },
     "metadata": {},
     "output_type": "display_data"
    },
    {
     "data": {
      "text/latex": [
       "$\\displaystyle A|I_{Gauss-Jordan} = \\left[\\begin{matrix}1.0 & 2.0 & -1.0 & 1.0 & 1.0 & 0 & 0 & 0\\\\-1.0 & 1.0 & 2.0 & -1.0 & 0 & 1.0 & 0 & 0\\\\2.0 & -1.0 & 2.0 & 2.0 & 0 & 0 & 1.0 & 0\\\\1.0 & 1.0 & -1.0 & 2.0 & 0 & 0 & 0 & 1.0\\end{matrix}\\right]\\rightarrow\\left[\\begin{matrix}1.0 & 0 & 0 & 0 & 0.88 & -0.41 & 0.35 & -1.0\\\\0 & 3.0 & 0 & 0 & 1.06 & 0.71 & -0.18 & 0\\\\0 & 0 & 5.67 & 0 & -0.33 & 1.67 & 1.0 & 0\\\\0 & 0 & 0 & 1.0 & -0.65 & 0.24 & -0.06 & 1.0\\end{matrix}\\right]$"
      ],
      "text/plain": [
       "<IPython.core.display.Math object>"
      ]
     },
     "metadata": {},
     "output_type": "display_data"
    },
    {
     "data": {
      "text/latex": [
       "$\\displaystyle I|A^{-1}_{Gauss-Jordan} = \\left[\\begin{matrix}1.0 & 0 & 0 & 0 & 0.88 & -0.41 & 0.35 & -1.0\\\\0 & 1.0 & 0 & 0 & 0.35 & 0.24 & -0.06 & 0\\\\0 & 0 & 1.0 & 0 & -0.06 & 0.29 & 0.18 & 0\\\\0 & 0 & 0 & 1.0 & -0.65 & 0.24 & -0.06 & 1.0\\end{matrix}\\right]$"
      ],
      "text/plain": [
       "<IPython.core.display.Math object>"
      ]
     },
     "metadata": {},
     "output_type": "display_data"
    },
    {
     "data": {
      "text/latex": [
       "$\\displaystyle A^{-1}_{Gauss-back} = \\left[\\begin{matrix}0.88 & -0.41 & 0.35 & -1.0\\\\0.35 & 0.24 & -0.06 & 0\\\\-0.06 & 0.29 & 0.18 & 0\\\\-0.65 & 0.24 & -0.06 & 1.0\\end{matrix}\\right]A^{-1}_{GaussJordan} = \\left[\\begin{matrix}0.88 & -0.41 & 0.35 & -1.0\\\\0.35 & 0.24 & -0.06 & 0\\\\-0.06 & 0.29 & 0.18 & 0\\\\-0.65 & 0.24 & -0.06 & 1.0\\end{matrix}\\right]A^{-1} = \\left[\\begin{matrix}0.88 & -0.41 & 0.35 & -1.0\\\\0.35 & 0.24 & -0.06 & 0\\\\-0.06 & 0.29 & 0.18 & 0\\\\-0.65 & 0.24 & -0.06 & 1.0\\end{matrix}\\right]$"
      ],
      "text/plain": [
       "<IPython.core.display.Math object>"
      ]
     },
     "metadata": {},
     "output_type": "display_data"
    }
   ],
   "source": [
    "inv_gb = gauss_elmbk_inv(A)\n",
    "inv_gj = gauss_jordan_inv(A)\n",
    "inv = si.linalg.inv(A)\n",
    "\n",
    "display(Math(r'A^{-1}_{Gauss-back} = '+latex(sp.Matrix(np.round(inv_gb,2)))+\n",
    "             r'A^{-1}_{GaussJordan} = '+latex(sp.Matrix(np.round(inv_gj,2)))+\n",
    "             r'A^{-1} = '+latex(sp.Matrix(np.round(inv,2)))))"
   ]
  },
  {
   "cell_type": "markdown",
   "id": "7cbf23f3",
   "metadata": {},
   "source": [
    "## Gauss Seidel iterative method "
   ]
  },
  {
   "cell_type": "code",
   "execution_count": 11,
   "id": "22084cb7",
   "metadata": {},
   "outputs": [],
   "source": [
    "def gauss_seidel(a,b,limit=1000):\n",
    "    m,n = a.shape\n",
    "    x = np.zeros_like(b)\n",
    "    for it_count in range(1, limit):\n",
    "        x_new = np.zeros_like(x)\n",
    "        for i in range(a.shape[0]):\n",
    "            s1 = np.dot(a[i, :i], x_new[:i])\n",
    "            s2 = np.dot(a[i, i + 1 :], x[i + 1 :])\n",
    "            x_new[i] = (b[i] - s1 - s2) / a[i, i]\n",
    "        if np.allclose(x, x_new, rtol=1e-8):    # check for convergence\n",
    "            break\n",
    "        x = x_new\n",
    "    return x"
   ]
  },
  {
   "cell_type": "markdown",
   "id": "14e80de9",
   "metadata": {},
   "source": [
    "## Jacobi Iterative method"
   ]
  },
  {
   "cell_type": "code",
   "execution_count": 12,
   "id": "7bbe082c",
   "metadata": {},
   "outputs": [],
   "source": [
    "def jacobi_iterative(a,b,limit = 100):\n",
    "    m,n = a.shape\n",
    "    x = np.zeros_like(b)\n",
    "    for it_count in range(limit+1):   \n",
    "        x_new = np.zeros_like(x)\n",
    "        for i in range(a.shape[0]):\n",
    "            s1 = np.dot(a[i, :i], x[:i])\n",
    "            s2 = np.dot(a[i, i + 1:], x[i + 1:])\n",
    "            x_new[i] = (b[i] - s1 - s2) / a[i, i]\n",
    "            #if x_new[i] == x_new[i-1]:   # check for convergence\n",
    "            #    break\n",
    "        if np.allclose(x, x_new, atol=1e-10, rtol=0.):\n",
    "            break\n",
    "        x = x_new\n",
    "    return x"
   ]
  },
  {
   "cell_type": "code",
   "execution_count": 13,
   "id": "b2297395",
   "metadata": {},
   "outputs": [
    {
     "data": {
      "text/latex": [
       "$\\displaystyle X_{Gauss-Siedel} = \\left[\\begin{matrix}1.0\\\\2.0\\\\-1.0\\\\1.0\\end{matrix}\\right]X_{Jacobi} = \\left[\\begin{matrix}1.0\\\\2.0\\\\-1.0\\\\1.0\\end{matrix}\\right]x = \\left[\\begin{matrix}1.0\\\\2.0\\\\-1.0\\\\1.0\\end{matrix}\\right]$"
      ],
      "text/plain": [
       "<IPython.core.display.Math object>"
      ]
     },
     "metadata": {},
     "output_type": "display_data"
    },
    {
     "data": {
      "text/latex": [
       "$\\displaystyle A^{-1}_{Gauss-Siedel} = \\left[\\begin{matrix}0.11 & 0.01 & -0.02 & -0.01\\\\0.01 & 0.1 & 0 & -0.04\\\\-0.02 & 0 & 0.11 & 0.01\\\\-0.01 & -0.04 & 0.01 & 0.14\\end{matrix}\\right]A^{-1}_{Jacobi} = \\left[\\begin{matrix}0.11 & 0.01 & -0.02 & -0.01\\\\0.01 & 0.1 & 0 & -0.04\\\\-0.02 & 0 & 0.11 & 0.01\\\\-0.01 & -0.04 & 0.01 & 0.14\\end{matrix}\\right]A^{-1}= \\left[\\begin{matrix}0.11 & 0.01 & -0.02 & -0.01\\\\0.01 & 0.1 & 0 & -0.04\\\\-0.02 & 0 & 0.11 & 0.01\\\\-0.01 & -0.04 & 0.01 & 0.14\\end{matrix}\\right]$"
      ],
      "text/plain": [
       "<IPython.core.display.Math object>"
      ]
     },
     "metadata": {},
     "output_type": "display_data"
    }
   ],
   "source": [
    "A = np.array([[10., -1.,   2.,  0.],\n",
    "              [-1., 11.,  -1.,  3.],\n",
    "              [ 2., -1.,  10., -1.],\n",
    "              [ 0.,  3.,  -1.,  8.]])\n",
    "\n",
    "b = np.array([6., 25., -11., 15.])\n",
    "\n",
    "X_j = jacobi_iterative(A,b)\n",
    "X_gs = gauss_seidel(A,b)\n",
    "X = si.linalg.solve(A,b)\n",
    "\n",
    "inv_j = jacobi_iterative(A,b=np.identity(len(A)))\n",
    "inv_gs = gauss_seidel(A,b=np.identity(len(A)))\n",
    "inv = si.linalg.inv(A)\n",
    "\n",
    "display(Math(r'X_{Gauss-Siedel} = '+latex(sp.Matrix(X_gs.round(2)))+\n",
    "             r'X_{Jacobi} = '+latex(sp.Matrix(X_j.round(2)))+\n",
    "             r'x = '+latex(sp.Matrix(np.round(X,2)))))\n",
    "\n",
    "display(Math(r'A^{-1}_{Gauss-Siedel} = '+latex(sp.Matrix(inv_gs.round(2)))+\n",
    "             r'A^{-1}_{Jacobi} = '+latex(sp.Matrix(inv_j.round(2)))+\n",
    "             r'A^{-1}= '+latex(sp.Matrix(np.round(inv, 2)))))"
   ]
  },
  {
   "cell_type": "markdown",
   "id": "bafd5afe",
   "metadata": {},
   "source": [
    "## Cholesky Decomposition"
   ]
  },
  {
   "cell_type": "code",
   "execution_count": 14,
   "id": "259f7f3b",
   "metadata": {},
   "outputs": [],
   "source": [
    "def cholesky_decomposition(A):\n",
    "    A = np.double(A)\n",
    "    n = A.shape[0]\n",
    "    L = np.zeros_like(A, dtype=float)\n",
    "\n",
    "    for i in range(n):\n",
    "        for j in range(i + 1):\n",
    "            if i == j:\n",
    "                temp = A[i, i] - np.sum(L[i, :i] ** 2)\n",
    "                if temp <= 0:\n",
    "                    raise ValueError(\"Matrix is not positive definite.\")\n",
    "                L[i, i] = np.sqrt(temp)\n",
    "            else:\n",
    "                L[i, j] = (A[i, j] - np.sum(L[i, :j] * L[j, :j])) / L[j, j]\n",
    "\n",
    "    return L.T"
   ]
  },
  {
   "cell_type": "markdown",
   "id": "b60d92a2",
   "metadata": {},
   "source": [
    "### Using Cholesky decomposition method solve Ax = b"
   ]
  },
  {
   "cell_type": "code",
   "execution_count": 15,
   "id": "6a233ba7",
   "metadata": {},
   "outputs": [],
   "source": [
    "def cholesky_x(A, b):\n",
    "    L = cholesky_decomposition(A)\n",
    "    y = np.linalg.solve(L.T, b)\n",
    "    x = np.linalg.solve(L, y)\n",
    "    return x"
   ]
  },
  {
   "cell_type": "code",
   "execution_count": 16,
   "id": "5a058b77",
   "metadata": {},
   "outputs": [
    {
     "data": {
      "text/latex": [
       "$\\displaystyle L_c = \\left[\\begin{matrix}3.16 & -0.32 & 0.63 & 0\\\\0 & 3.3 & -0.24 & 0.91\\\\0 & 0 & 3.09 & -0.25\\\\0 & 0 & 0 & 2.67\\end{matrix}\\right]L = \\left[\\begin{matrix}3.16 & -0.32 & 0.63 & 0\\\\0 & 3.3 & -0.24 & 0.91\\\\0 & 0 & 3.09 & -0.25\\\\0 & 0 & 0 & 2.67\\end{matrix}\\right]$"
      ],
      "text/plain": [
       "<IPython.core.display.Math object>"
      ]
     },
     "metadata": {},
     "output_type": "display_data"
    },
    {
     "data": {
      "text/latex": [
       "$\\displaystyle x_c = \\left[\\begin{matrix}1.0\\\\2.0\\\\-1.0\\\\1.0\\end{matrix}\\right]x = \\left[\\begin{matrix}1.0\\\\2.0\\\\-1.0\\\\1.0\\end{matrix}\\right]$"
      ],
      "text/plain": [
       "<IPython.core.display.Math object>"
      ]
     },
     "metadata": {},
     "output_type": "display_data"
    },
    {
     "data": {
      "text/latex": [
       "$\\displaystyle A^{-1}_c = \\left[\\begin{matrix}0.11 & 0.01 & -0.02 & -0.01\\\\0.01 & 0.1 & 0 & -0.04\\\\-0.02 & 0 & 0.11 & 0.01\\\\-0.01 & -0.04 & 0.01 & 0.14\\end{matrix}\\right]A^{-1} = \\left[\\begin{matrix}0.11 & 0.01 & -0.02 & -0.01\\\\0.01 & 0.1 & 0 & -0.04\\\\-0.02 & 0 & 0.11 & 0.01\\\\-0.01 & -0.04 & 0.01 & 0.14\\end{matrix}\\right]$"
      ],
      "text/plain": [
       "<IPython.core.display.Math object>"
      ]
     },
     "metadata": {},
     "output_type": "display_data"
    }
   ],
   "source": [
    "l = cholesky_decomposition(A)\n",
    "L = si.linalg.cholesky(A)\n",
    "\n",
    "x_c = cholesky_x(A, b)\n",
    "x = si.linalg.solve(A,b)\n",
    "\n",
    "inv_c = cholesky_x(A, np.identity(len(A)))\n",
    "inv = si.linalg.inv(A)\n",
    "\n",
    "display(Math(r'L_c = '+latex(sp.Matrix(l.round(2)))+\n",
    "             r'L = '+latex(sp.Matrix(L.round(2)))))\n",
    "\n",
    "display(Math(r'x_c = '+latex(sp.Matrix(np.round(x_c,2)))+\n",
    "             r'x = '+latex(sp.Matrix(np.round(x,2)))))\n",
    "\n",
    "display(Math(r'A^{-1}_c = '+latex(sp.Matrix(np.round(inv_c,2)))+\n",
    "             r'A^{-1} = '+latex(sp.Matrix(np.round(inv,2)))))"
   ]
  },
  {
   "cell_type": "markdown",
   "id": "dfd77017",
   "metadata": {},
   "source": [
    "## LU decomposition"
   ]
  },
  {
   "cell_type": "code",
   "execution_count": 17,
   "id": "f3af058e",
   "metadata": {},
   "outputs": [],
   "source": [
    "def lu_decomposition(a):\n",
    "    a = np.double(a)\n",
    "    n = a.shape[0]\n",
    "    L = np.eye(n, dtype=np.double)\n",
    "    U = np.double(np.copy(a))\n",
    "    P = np.eye(n, dtype=np.double)  \n",
    "    for k in range(n - 1):\n",
    "        max_row = np.argmax(np.abs(U[k:, k])) + k\n",
    "        if max_row != k:\n",
    "            U[[k, max_row]] = U[[max_row, k]]\n",
    "            P[[k, max_row]] = P[[max_row, k]]\n",
    "            L[[k, max_row], :k] = L[[max_row, k], :k]\n",
    "        for i in range(k + 1, n):\n",
    "            L[i, k] = U[i, k] / U[k, k]\n",
    "            U[i, k:] = U[i, k:] - L[i, k] * U[k, k:]\n",
    "    return P.T, L, U"
   ]
  },
  {
   "cell_type": "markdown",
   "id": "95a6340e",
   "metadata": {},
   "source": [
    "### Using LU decomposition method solve Ax = b "
   ]
  },
  {
   "cell_type": "code",
   "execution_count": 18,
   "id": "da519e42",
   "metadata": {},
   "outputs": [],
   "source": [
    "def PLU_x(a, b):\n",
    "    P,L,U = lu_decomposition(a)\n",
    "    y = np.linalg.solve(L, np.dot(si.linalg.inv(P),b))\n",
    "    x = np.linalg.solve(U, y)\n",
    "    return x"
   ]
  },
  {
   "cell_type": "code",
   "execution_count": 19,
   "id": "68be1281",
   "metadata": {},
   "outputs": [
    {
     "data": {
      "text/latex": [
       "$\\displaystyle P_{LU} = \\left[\\begin{matrix}1.0 & 0 & 0 & 0\\\\0 & 1.0 & 0 & 0\\\\0 & 0 & 1.0 & 0\\\\0 & 0 & 0 & 1.0\\end{matrix}\\right]P = \\left[\\begin{matrix}1.0 & 0 & 0 & 0\\\\0 & 1.0 & 0 & 0\\\\0 & 0 & 1.0 & 0\\\\0 & 0 & 0 & 1.0\\end{matrix}\\right]$"
      ],
      "text/plain": [
       "<IPython.core.display.Math object>"
      ]
     },
     "metadata": {},
     "output_type": "display_data"
    },
    {
     "data": {
      "text/latex": [
       "$\\displaystyle L_{LU} = \\left[\\begin{matrix}1.0 & 0 & 0 & 0\\\\-0.1 & 1.0 & 0 & 0\\\\0.2 & -0.07 & 1.0 & 0\\\\0 & 0.28 & -0.08 & 1.0\\end{matrix}\\right]L = \\left[\\begin{matrix}1.0 & 0 & 0 & 0\\\\-0.1 & 1.0 & 0 & 0\\\\0.2 & -0.07 & 1.0 & 0\\\\0 & 0.28 & -0.08 & 1.0\\end{matrix}\\right]$"
      ],
      "text/plain": [
       "<IPython.core.display.Math object>"
      ]
     },
     "metadata": {},
     "output_type": "display_data"
    },
    {
     "data": {
      "text/latex": [
       "$\\displaystyle U_{LU} = \\left[\\begin{matrix}10.0 & -1.0 & 2.0 & 0\\\\0 & 10.9 & -0.8 & 3.0\\\\0 & 0 & 9.54 & -0.78\\\\0 & 0 & 0 & 7.11\\end{matrix}\\right]U = \\left[\\begin{matrix}10.0 & -1.0 & 2.0 & 0\\\\0 & 10.9 & -0.8 & 3.0\\\\0 & 0 & 9.54 & -0.78\\\\0 & 0 & 0 & 7.11\\end{matrix}\\right]$"
      ],
      "text/plain": [
       "<IPython.core.display.Math object>"
      ]
     },
     "metadata": {},
     "output_type": "display_data"
    },
    {
     "data": {
      "text/latex": [
       "$\\displaystyle X_{LU} = \\left[\\begin{matrix}1.0\\\\2.0\\\\-1.0\\\\1.0\\end{matrix}\\right]x = \\left[\\begin{matrix}1.0\\\\2.0\\\\-1.0\\\\1.0\\end{matrix}\\right]$"
      ],
      "text/plain": [
       "<IPython.core.display.Math object>"
      ]
     },
     "metadata": {},
     "output_type": "display_data"
    },
    {
     "data": {
      "text/latex": [
       "$\\displaystyle A^{-1}_{LU} = \\left[\\begin{matrix}0.11 & 0.01 & -0.02 & -0.01\\\\0.01 & 0.1 & 0 & -0.04\\\\-0.02 & 0 & 0.11 & 0.01\\\\-0.01 & -0.04 & 0.01 & 0.14\\end{matrix}\\right]A^{-1} = \\left[\\begin{matrix}0.11 & 0.01 & -0.02 & -0.01\\\\0.01 & 0.1 & 0 & -0.04\\\\-0.02 & 0 & 0.11 & 0.01\\\\-0.01 & -0.04 & 0.01 & 0.14\\end{matrix}\\right]$"
      ],
      "text/plain": [
       "<IPython.core.display.Math object>"
      ]
     },
     "metadata": {},
     "output_type": "display_data"
    }
   ],
   "source": [
    "p,l,u = lu_decomposition(A)\n",
    "P,L,U = si.linalg.lu(A)\n",
    "\n",
    "X_lu = PLU_x(A,b)\n",
    "X = si.linalg.solve(A,b)\n",
    "\n",
    "inv_lu = PLU_x(A,np.identity(len(A)))\n",
    "inv = si.linalg.inv(A)\n",
    "\n",
    "display(Math(r'P_{LU} = '+latex(sp.Matrix(p.round(2)))+\n",
    "             r'P = '+latex(sp.Matrix(P.round(2)))))\n",
    "\n",
    "display(Math(r'L_{LU} = '+latex(sp.Matrix(l.round(2)))+\n",
    "             r'L = '+latex(sp.Matrix(L.round(2)))))\n",
    "\n",
    "display(Math(r'U_{LU} = '+latex(sp.Matrix(u.round(2)))+\n",
    "             r'U = '+latex(sp.Matrix(U.round(2)))))\n",
    "\n",
    "display(Math(r'X_{LU} = '+latex(sp.Matrix(X_lu.round(2)))+\n",
    "             r'x = '+latex(sp.Matrix(np.round(X,2)))))\n",
    "\n",
    "display(Math(r'A^{-1}_{LU} = '+latex(sp.Matrix(inv_lu.round(2)))+\n",
    "             r'A^{-1} = '+latex(sp.Matrix(np.round(inv,2)))))"
   ]
  },
  {
   "cell_type": "markdown",
   "id": "53085364",
   "metadata": {},
   "source": [
    "## QR decomposition"
   ]
  },
  {
   "cell_type": "code",
   "execution_count": 20,
   "id": "7f78813b",
   "metadata": {},
   "outputs": [],
   "source": [
    "def QR_decomposition(A):\n",
    "    m, n = A.shape\n",
    "    Q = np.zeros((m, n))\n",
    "    R = np.zeros((n, n))\n",
    "\n",
    "    for j in range(n):\n",
    "        v = A[:, j]\n",
    "        for i in range(j):\n",
    "            R[i, j] = np.dot(Q[:, i], A[:, j])\n",
    "            v = v - R[i, j] * Q[:, i]\n",
    "        R[j, j] = np.linalg.norm(v)\n",
    "        Q[:, j] = v / R[j, j]\n",
    "\n",
    "    return -Q, -R"
   ]
  },
  {
   "cell_type": "markdown",
   "id": "f6bbad84",
   "metadata": {},
   "source": [
    "### Using QR decomposition method solve Ax = b"
   ]
  },
  {
   "cell_type": "code",
   "execution_count": 21,
   "id": "610a9021",
   "metadata": {},
   "outputs": [],
   "source": [
    "def QR_x(A, b):\n",
    "    Q, R = QR_decomposition(A)\n",
    "    Qt_b = np.dot(Q.T, b)\n",
    "    n = R.shape[1]\n",
    "    x = np.zeros(n)\n",
    "\n",
    "    for i in range(n - 1, -1, -1):\n",
    "        x[i] = (Qt_b[i] - np.dot(R[i, i + 1:], x[i + 1:])) / R[i, i]\n",
    "\n",
    "    return x"
   ]
  },
  {
   "cell_type": "markdown",
   "id": "67e5ae59",
   "metadata": {},
   "source": [
    "### Using QR decomposition method from Ax = b solve $A^{-1}$"
   ]
  },
  {
   "cell_type": "code",
   "execution_count": 22,
   "id": "64527059",
   "metadata": {},
   "outputs": [],
   "source": [
    "def QR_inv(A):\n",
    "    n = A.shape[0]\n",
    "    b = np.identity(n)\n",
    "    A_inv = np.zeros((n, n))\n",
    "\n",
    "    for i in range(n):\n",
    "        column_i = b[:, i]\n",
    "        A_inv[:, i] = QR_x(A, column_i)\n",
    "\n",
    "    return A_inv"
   ]
  },
  {
   "cell_type": "code",
   "execution_count": 23,
   "id": "cf3f253e",
   "metadata": {},
   "outputs": [
    {
     "data": {
      "text/latex": [
       "$\\displaystyle Q_{QR} = \\left[\\begin{matrix}-0.98 & -0.11 & 0.19 & 0.04\\\\0.1 & -0.96 & -0.09 & 0.26\\\\-0.2 & 0.05 & -0.98 & -0.08\\\\0 & -0.27 & 0.06 & -0.96\\end{matrix}\\right]Q = \\left[\\begin{matrix}-0.98 & -0.11 & 0.19 & -0.04\\\\0.1 & -0.96 & -0.09 & -0.26\\\\-0.2 & 0.05 & -0.98 & 0.08\\\\0 & -0.27 & 0.06 & 0.96\\end{matrix}\\right]$"
      ],
      "text/plain": [
       "<IPython.core.display.Math object>"
      ]
     },
     "metadata": {},
     "output_type": "display_data"
    },
    {
     "data": {
      "text/latex": [
       "$\\displaystyle R_{QR} = \\left[\\begin{matrix}-10.25 & 2.24 & -4.0 & 0.49\\\\0 & -11.27 & 1.51 & -5.05\\\\0 & 0 & -9.37 & 1.22\\\\0 & 0 & 0 & -6.84\\end{matrix}\\right]R = \\left[\\begin{matrix}-10.25 & 2.24 & -4.0 & 0.49\\\\0 & -11.27 & 1.51 & -5.05\\\\0 & 0 & -9.37 & 1.22\\\\0 & 0 & 0 & 6.84\\end{matrix}\\right]$"
      ],
      "text/plain": [
       "<IPython.core.display.Math object>"
      ]
     },
     "metadata": {},
     "output_type": "display_data"
    },
    {
     "data": {
      "text/latex": [
       "$\\displaystyle x_{QR} = \\left[\\begin{matrix}1.0\\\\2.0\\\\-1.0\\\\1.0\\end{matrix}\\right]x = \\left[\\begin{matrix}1.0\\\\2.0\\\\-1.0\\\\1.0\\end{matrix}\\right]$"
      ],
      "text/plain": [
       "<IPython.core.display.Math object>"
      ]
     },
     "metadata": {},
     "output_type": "display_data"
    },
    {
     "data": {
      "text/latex": [
       "$\\displaystyle A^{-1}_{QR} = \\left[\\begin{matrix}0.11 & 0.01 & -0.02 & -0.01\\\\0.01 & 0.1 & 0 & -0.04\\\\-0.02 & 0 & 0.11 & 0.01\\\\-0.01 & -0.04 & 0.01 & 0.14\\end{matrix}\\right]A^{-1} = \\left[\\begin{matrix}0.11 & 0.01 & -0.02 & -0.01\\\\0.01 & 0.1 & 0 & -0.04\\\\-0.02 & 0 & 0.11 & 0.01\\\\-0.01 & -0.04 & 0.01 & 0.14\\end{matrix}\\right]$"
      ],
      "text/plain": [
       "<IPython.core.display.Math object>"
      ]
     },
     "metadata": {},
     "output_type": "display_data"
    }
   ],
   "source": [
    "q,r = QR_decomposition(A)\n",
    "Q, R = np.linalg.qr(A)\n",
    "\n",
    "x_QR = QR_x(A, b)\n",
    "x = si.linalg.solve(A,b)\n",
    "\n",
    "inv_QR = QR_inv(A)\n",
    "inv = si.linalg.inv(A)\n",
    "\n",
    "display(Math(r'Q_{QR} = '+latex(sp.Matrix(q.round(2)))+\n",
    "             r'Q = '+latex(sp.Matrix(Q.round(2)))))\n",
    "\n",
    "display(Math(r'R_{QR} = '+latex(sp.Matrix(r.round(2)))+\n",
    "             r'R = '+latex(sp.Matrix(R.round(2)))))\n",
    "\n",
    "display(Math(r'x_{QR} = '+latex(sp.Matrix(np.round(x_QR,2)))+\n",
    "             r'x = '+latex(sp.Matrix(np.round(x,2)))))\n",
    "\n",
    "display(Math(r'A^{-1}_{QR} = '+latex(sp.Matrix(np.round(inv_QR,2)))+\n",
    "             r'A^{-1} = '+latex(sp.Matrix(np.round(inv,2)))))"
   ]
  },
  {
   "cell_type": "markdown",
   "id": "e5f3bbb9",
   "metadata": {},
   "source": [
    "## Power Iteration and Inverse Iteration:"
   ]
  },
  {
   "cell_type": "code",
   "execution_count": 24,
   "id": "292d54bf",
   "metadata": {},
   "outputs": [],
   "source": [
    "def power(M, tol=1e-12): \n",
    "    X = np.ones(len(M))\n",
    "    den = (X.T).dot(X)\n",
    "    Y = M.dot(X)\n",
    "    c,lambda_0,d = 0,0,1\n",
    "\n",
    "    while abs(d) > tol:\n",
    "        c += 1\n",
    "        num = (X.T).dot(Y)\n",
    "        lambda_1 = num / den\n",
    "        d = lambda_1 - lambda_0\n",
    "        lambda_0 = lambda_1\n",
    "        den = num\n",
    "        Y = M.dot(Y)\n",
    "    E = Y / np.linalg.norm(Y)\n",
    "    return lambda_1,E\n",
    "\n",
    "def inverse_power(M,tol=1e-12):\n",
    "    M_inv = np.linalg.inv(M)\n",
    "    X = np.ones(len(M_inv))\n",
    "    den = (X.T).dot(X)\n",
    "    Y = M_inv.dot(X)\n",
    "    c,lambda_0,d = 0,0,1\n",
    "\n",
    "    while abs(d) > tol:\n",
    "        c += 1\n",
    "        num = (X.T).dot(Y)\n",
    "        lambda_1 = num / den\n",
    "        d = lambda_1 - lambda_0\n",
    "        lambda_0 = lambda_1\n",
    "        den = num\n",
    "        Y = M_inv.dot(Y)\n",
    "    E = Y / np.linalg.norm(Y)\n",
    "    return lambda_1, E"
   ]
  },
  {
   "cell_type": "code",
   "execution_count": 25,
   "id": "9f54f951",
   "metadata": {},
   "outputs": [
    {
     "data": {
      "text/latex": [
       "$\\displaystyle \\lambda_{max} : 7.65\\quad X : \\left[\\begin{matrix}0.3\\\\-0.76\\\\0.47\\\\0.34\\end{matrix}\\right]\\lambda_{min} : 0.69\\quad X : \\left[\\begin{matrix}0.26\\\\0.33\\\\0.74\\\\-0.53\\end{matrix}\\right]$"
      ],
      "text/plain": [
       "<IPython.core.display.Math object>"
      ]
     },
     "metadata": {},
     "output_type": "display_data"
    },
    {
     "data": {
      "text/latex": [
       "$\\displaystyle \\lambda_1 : 0.69\\quad X : \\left[\\begin{matrix}0.26\\\\0.33\\\\0.74\\\\-0.53\\end{matrix}\\right]$"
      ],
      "text/plain": [
       "<IPython.core.display.Math object>"
      ]
     },
     "metadata": {},
     "output_type": "display_data"
    },
    {
     "data": {
      "text/latex": [
       "$\\displaystyle \\lambda_2 : 7.65\\quad X : \\left[\\begin{matrix}0.3\\\\-0.76\\\\0.47\\\\0.34\\end{matrix}\\right]$"
      ],
      "text/plain": [
       "<IPython.core.display.Math object>"
      ]
     },
     "metadata": {},
     "output_type": "display_data"
    },
    {
     "data": {
      "text/latex": [
       "$\\displaystyle \\lambda_3 : 3.81\\quad X : \\left[\\begin{matrix}-0.89\\\\-0.01\\\\0.43\\\\0.16\\end{matrix}\\right]$"
      ],
      "text/plain": [
       "<IPython.core.display.Math object>"
      ]
     },
     "metadata": {},
     "output_type": "display_data"
    },
    {
     "data": {
      "text/latex": [
       "$\\displaystyle \\lambda_4 : 4.85\\quad X : \\left[\\begin{matrix}0.23\\\\0.57\\\\0.21\\\\0.76\\end{matrix}\\right]$"
      ],
      "text/plain": [
       "<IPython.core.display.Math object>"
      ]
     },
     "metadata": {},
     "output_type": "display_data"
    }
   ],
   "source": [
    "M = np.array([[ 4.,-1., 0., 1.],\n",
    "              [-1., 6.,-2., 0.],\n",
    "              [ 0.,-2., 3., 2.],\n",
    "              [ 1., 0., 2., 4.]])\n",
    "\n",
    "L, E = power(M)\n",
    "Li, Ei = inverse_power(M)\n",
    "l, v = np.linalg.eig(M)\n",
    "v = v.T\n",
    "\n",
    "display(Math(r'\\lambda_{max} : '+latex(L.round(2))+\n",
    "             r'\\quad X : '+latex(sp.Matrix(E.round(2)))+\n",
    "             r'\\lambda_{min} : '+latex(np.round(1/Li,2))+\n",
    "             r'\\quad X : '+latex(sp.Matrix(Ei.round(2)))))\n",
    "\n",
    "for i in range(len(l)):\n",
    "    display(Math(f'\\lambda_{i+1} : '+latex(l[i].round(2))+\n",
    "             r'\\quad X : '+latex(sp.Matrix(v[i].round(2)))))"
   ]
  },
  {
   "cell_type": "markdown",
   "id": "159f6819",
   "metadata": {},
   "source": [
    "### Jacobi Method to find all eigen values & eigen vectors"
   ]
  },
  {
   "cell_type": "code",
   "execution_count": 26,
   "id": "b7a52e46",
   "metadata": {},
   "outputs": [],
   "source": [
    "def jacobi(A, tol=1e-12, max_iter=1e12):\n",
    "    a = np.copy(A)\n",
    "\n",
    "    def maxElem(a):  # Find largest off-diagonal element a[k,l]\n",
    "        n = len(a)\n",
    "        aMax = 0.0\n",
    "        for i in range(n - 1):\n",
    "            for j in range(i + 1, n):\n",
    "                if abs(a[i, j]) >= aMax:\n",
    "                    aMax = abs(a[i, j])\n",
    "                    k = i\n",
    "                    l = j\n",
    "        return aMax, k, l\n",
    "\n",
    "    def rotate(a, p, k, l):  # Rotate to make a[k,l] = 0\n",
    "        n = len(a)\n",
    "        aDiff = a[l, l] - a[k, k]\n",
    "        if abs(a[k, l]) < abs(aDiff) * 1.0e-36:\n",
    "            t = a[k, l] / aDiff\n",
    "        else:\n",
    "            phi = aDiff / (2.0 * a[k, l])\n",
    "            t = 1.0 / (abs(phi) + (phi**2 + 1.0)**0.5)\n",
    "            if phi < 0.0:\n",
    "                t = -t\n",
    "        c = 1.0 / (t**2 + 1.0)**0.5\n",
    "        s = t * c\n",
    "        tau = s / (1.0 + c)\n",
    "        temp = a[k, l]\n",
    "        a[k, l] = 0.0\n",
    "        a[k, k] = a[k, k] - t * temp\n",
    "        a[l, l] = a[l, l] + t * temp\n",
    "        for i in range(k):  # Case of i < k\n",
    "            temp = a[i, k]\n",
    "            a[i, k] = temp - s * (a[i, l] + tau * temp)\n",
    "            a[i, l] = a[i, l] + s * (temp - tau * a[i, l])\n",
    "        for i in range(k + 1, l):  # Case of k < i < l\n",
    "            temp = a[k, i]\n",
    "            a[k, i] = temp - s * (a[i, l] + tau * a[k, i])\n",
    "            a[i, l] = a[i, l] + s * (temp - tau * a[i, l])\n",
    "        for i in range(l + 1, n):  # Case of i > l\n",
    "            temp = a[k, i]\n",
    "            a[k, i] = temp - s * (a[l, i] + tau * temp)\n",
    "            a[l, i] = a[l, i] + s * (temp - tau * a[l, i])\n",
    "        for i in range(n):  # Update transformation matrix\n",
    "            temp = p[i, k]\n",
    "            p[i, k] = temp - s * (p[i, l] + tau * p[i, k])\n",
    "            p[i, l] = p[i, l] + s * (temp - tau * p[i, l])\n",
    "\n",
    "    n = len(a)\n",
    "    p = np.identity(n)  # Initialize transformation matrix\n",
    "    for i in range(int(max_iter)):  # Jacobi rotation loop\n",
    "        aMax, k, l = maxElem(a)\n",
    "        if aMax < tol:\n",
    "            eigenvalues = np.diagonal(a)\n",
    "            return eigenvalues, p\n",
    "        rotate(a, p, k, l)\n",
    "    \n",
    "    print('Jacobi method did not converge after', max_iter, 'iterations')\n",
    "    return None"
   ]
  },
  {
   "cell_type": "code",
   "execution_count": 27,
   "id": "9f61ce44",
   "metadata": {},
   "outputs": [
    {
     "data": {
      "text/latex": [
       "$\\displaystyle \\lambda_1 : 0.69\\quad X_1 : \\left[\\begin{matrix}-0.3\\\\0.23\\\\0.26\\\\0.89\\end{matrix}\\right]\\lambda_1 : 0.69\\quad X_1 : \\left[\\begin{matrix}-0.89\\\\0.23\\\\0.26\\\\0.3\\end{matrix}\\right]$"
      ],
      "text/plain": [
       "<IPython.core.display.Math object>"
      ]
     },
     "metadata": {},
     "output_type": "display_data"
    },
    {
     "data": {
      "text/latex": [
       "$\\displaystyle \\lambda_2 : 3.81\\quad X_2 : \\left[\\begin{matrix}0.01\\\\0.33\\\\0.57\\\\0.76\\end{matrix}\\right]\\lambda_2 : 3.81\\quad X_2 : \\left[\\begin{matrix}-0.76\\\\-0.01\\\\0.33\\\\0.57\\end{matrix}\\right]$"
      ],
      "text/plain": [
       "<IPython.core.display.Math object>"
      ]
     },
     "metadata": {},
     "output_type": "display_data"
    },
    {
     "data": {
      "text/latex": [
       "$\\displaystyle \\lambda_3 : 4.85\\quad X_3 : \\left[\\begin{matrix}-0.47\\\\-0.43\\\\0.21\\\\0.74\\end{matrix}\\right]\\lambda_3 : 4.85\\quad X_3 : \\left[\\begin{matrix}0.21\\\\0.43\\\\0.47\\\\0.74\\end{matrix}\\right]$"
      ],
      "text/plain": [
       "<IPython.core.display.Math object>"
      ]
     },
     "metadata": {},
     "output_type": "display_data"
    },
    {
     "data": {
      "text/latex": [
       "$\\displaystyle \\lambda_4 : 7.65\\quad X_4 : \\left[\\begin{matrix}-0.53\\\\-0.34\\\\-0.16\\\\0.76\\end{matrix}\\right]\\lambda_4 : 7.65\\quad X_4 : \\left[\\begin{matrix}-0.53\\\\0.16\\\\0.34\\\\0.76\\end{matrix}\\right]$"
      ],
      "text/plain": [
       "<IPython.core.display.Math object>"
      ]
     },
     "metadata": {},
     "output_type": "display_data"
    }
   ],
   "source": [
    "L, V = jacobi(M)\n",
    "L = np.sort(L)\n",
    "V = np.sort(V)\n",
    "\n",
    "l, v = np.linalg.eig(M)\n",
    "l = np.sort(l)\n",
    "v = np.sort(v)\n",
    "\n",
    "for i in range(len(l)):\n",
    "    display(Math(f'\\lambda_{i+1} : '+latex(np.round(L[i],2))+\n",
    "                 f'\\quad X_{i+1} : '+latex(sp.Matrix(V[i].round(2)))+\n",
    "                 f'\\lambda_{i+1} : '+latex(l[i].round(2))+\n",
    "                 f'\\quad X_{i+1} : '+latex(sp.Matrix(v[i].round(2)))))"
   ]
  },
  {
   "cell_type": "code",
   "execution_count": null,
   "id": "3c06e2f8",
   "metadata": {},
   "outputs": [],
   "source": []
  }
 ],
 "metadata": {
  "kernelspec": {
   "display_name": "Python 3 (ipykernel)",
   "language": "python",
   "name": "python3"
  },
  "language_info": {
   "codemirror_mode": {
    "name": "ipython",
    "version": 3
   },
   "file_extension": ".py",
   "mimetype": "text/x-python",
   "name": "python",
   "nbconvert_exporter": "python",
   "pygments_lexer": "ipython3",
   "version": "3.10.9"
  }
 },
 "nbformat": 4,
 "nbformat_minor": 5
}
