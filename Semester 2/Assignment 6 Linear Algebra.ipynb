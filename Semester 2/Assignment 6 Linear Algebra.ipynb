{
 "cells": [
  {
   "cell_type": "markdown",
   "id": "ae0caa35",
   "metadata": {},
   "source": [
    "## $$\\text{Linear Algebra}$$\n",
    "\n",
    "Q1.Using **Gauss elimination method** to form a upper triangulation of matrix .\n",
    "       \n",
    "And find the **determinant** by multiplying its diagonal and check using **$\\text{np.linalg.det()}$**"
   ]
  },
  {
   "cell_type": "code",
   "execution_count": 1,
   "id": "20357133",
   "metadata": {},
   "outputs": [],
   "source": [
    "import numpy as np\n",
    "def gauss(a):\n",
    "    m, n = a.shape               \n",
    "    augment_mat = a\n",
    "    np.set_printoptions(precision = 2, suppress = True)\n",
    "    print('$ Original augment matrix $')\n",
    "    print(augment_mat,'\\n')\n",
    "    print('# starting the elimination of matrix ') \n",
    "    \n",
    "    for k in range(n):                        \n",
    "        for j in range(k+1,n):                      \n",
    "            q = float(augment_mat[j][k]) / augment_mat[k][k]  # lambda\n",
    "            for m in range(k, n): \n",
    "                augment_mat[j][m] -=  q * augment_mat[k][m]\n",
    "                 \n",
    "    print('^^ this is the outstanding matrix from Gauss elimation ^^')           \n",
    "    print(augment_mat,'\\n')\n",
    "    M = 1        \n",
    "    for i in range(n):\n",
    "        M *= augment_mat[i][i]\n",
    "    print('Determinant of the matrix is :',M)\n",
    "    return None"
   ]
  },
  {
   "cell_type": "code",
   "execution_count": 2,
   "id": "3fa2286b",
   "metadata": {
    "scrolled": false
   },
   "outputs": [
    {
     "name": "stdout",
     "output_type": "stream",
     "text": [
      "\n",
      "Gaussian elimination:  \n",
      "$ Original augment matrix $\n",
      "[[ 1.  2. -1.  1.]\n",
      " [-1.  1.  2. -1.]\n",
      " [ 2. -1.  2.  2.]\n",
      " [ 1.  1. -1.  2.]] \n",
      "\n",
      "# starting the elimination of matrix \n",
      "^^ this is the outstanding matrix from Gauss elimation ^^\n",
      "[[ 1.    2.   -1.    1.  ]\n",
      " [ 0.    3.    1.    0.  ]\n",
      " [ 0.    0.    5.67  0.  ]\n",
      " [ 0.    0.    0.    1.  ]] \n",
      "\n",
      "Determinant of the matrix is : 17.0\n",
      "****************************************\n",
      "using np.linalg.det() : 17.0\n",
      "****************************************\n"
     ]
    }
   ],
   "source": [
    "A = np. array([[ 1., 2.,-1., 1.],\n",
    "               [-1., 1., 2.,-1.],\n",
    "               [ 2.,-1., 2., 2.],\n",
    "               [ 1., 1.,-1., 2.]])\n",
    "\n",
    "print('\\nGaussian elimination:  ')\n",
    "gauss(A)\n",
    "print('****************************************')\n",
    "print('using np.linalg.det() :',np.linalg.det(A))\n",
    "print('****************************************')"
   ]
  },
  {
   "cell_type": "markdown",
   "id": "e39a721b",
   "metadata": {},
   "source": [
    "Q2.Using **Gauss elimination method** to solve a system of equation by **backward substitution** method \n",
    "\n",
    "And verify the output **$A.\\text{X} = \\text{b}$** and check using **$\\text{np.linalg.solve()}$**."
   ]
  },
  {
   "cell_type": "code",
   "execution_count": 3,
   "id": "7f71653f",
   "metadata": {},
   "outputs": [],
   "source": [
    "import numpy as np\n",
    "def gauss_elmbk(a, b):\n",
    "    m, n = a.shape               \n",
    "    b = b.reshape(n,1)\n",
    "    augmented_mat = np.hstack((a,b))\n",
    "    np.set_printoptions(precision = 2, suppress = True)\n",
    "    print('$ Original augmented matrix $')\n",
    "    print(augmented_mat,'\\n')\n",
    "    print('# starting the elimination of matrix ') \n",
    "    for k in range(n):                       \n",
    "        for j in range(k+1,n):                      \n",
    "            q = float(augmented_mat[j][k]) / augmented_mat[k][k]       # lambda\n",
    "            for m in range(k, n+1):    # Forward Elimination - Subtracting rows\n",
    "                augmented_mat[j][m] -=  q * augmented_mat[k][m] \n",
    "    print('^^ this is the outstanding augmented matrix from Gauss elimation ^^')           \n",
    "    print(augmented_mat)\n",
    "\n",
    "    x = np.zeros(n)\n",
    "    print('\\n# From Backwards Substitution:')      \n",
    "    x[n-1] = float(augmented_mat[n-1][n]) / augmented_mat[n-1][n-1]  \n",
    "    for i in range (n-1,-1,-1):                 # Backwards Substitution \n",
    "        z = 0.0                                     \n",
    "        for j in range(i+1,n):                     \n",
    "            z = z  + float(augmented_mat[i][j])*x[j]   \n",
    "        x[i] = float(augmented_mat[i][n] - z) / augmented_mat[i][i]\n",
    "        print('x[%i]='%(i+1),x[i])\n",
    "    print('the desired values of X are :',x,'\\n')    \n",
    "    \n",
    "    # checking if A.X == b :\n",
    "    B = np.dot(a,x.reshape(n,1))\n",
    "    print(\"B = \",B.reshape(1,n)[0])\n",
    "    if (B[i] == b[i]): print(\"Yes! It's a match,i.e., A.X == b\")\n",
    "    else : print(\"No! Its not a matching,i.e., A.X != b\")\n",
    "    return None"
   ]
  },
  {
   "cell_type": "code",
   "execution_count": 4,
   "id": "cd0f33ad",
   "metadata": {
    "scrolled": false
   },
   "outputs": [
    {
     "name": "stdout",
     "output_type": "stream",
     "text": [
      "\n",
      "Gaussian elimination  and back substitution:\n",
      "$ Original augmented matrix $\n",
      "[[ 1.  2. -1.  1.  6.]\n",
      " [-1.  1.  2. -1.  3.]\n",
      " [ 2. -1.  2.  2. 14.]\n",
      " [ 1.  1. -1.  2.  8.]] \n",
      "\n",
      "# starting the elimination of matrix \n",
      "^^ this is the outstanding augmented matrix from Gauss elimation ^^\n",
      "[[ 1.    2.   -1.    1.    6.  ]\n",
      " [ 0.    3.    1.    0.    9.  ]\n",
      " [ 0.    0.    5.67  0.   17.  ]\n",
      " [ 0.    0.    0.    1.    4.  ]]\n",
      "\n",
      "# From Backwards Substitution:\n",
      "x[4]= 4.0\n",
      "x[3]= 3.0\n",
      "x[2]= 2.0\n",
      "x[1]= 1.0\n",
      "the desired values of X are : [1. 2. 3. 4.] \n",
      "\n",
      "B =  [ 6.  3. 14.  8.]\n",
      "Yes! It's a match,i.e., A.X == b\n",
      "**************************************************************\n",
      " direct read using numpy.linalg.solve(): [1. 2. 3. 4.]\n",
      "**************************************************************\n"
     ]
    }
   ],
   "source": [
    "A = np. array([[ 1., 2.,-1., 1.],\n",
    "               [-1., 1., 2.,-1.],\n",
    "               [ 2.,-1., 2., 2.],\n",
    "               [ 1., 1.,-1., 2.]])\n",
    "\n",
    "b = np. array([ 6., 3., 14., 8.])\n",
    "\n",
    "print('\\nGaussian elimination  and back substitution:')\n",
    "gauss_elmbk(A, b)\n",
    "print('**************************************************************')\n",
    "print(' direct read using numpy.linalg.solve():',np.linalg.solve(A, b)) \n",
    "print('**************************************************************')"
   ]
  },
  {
   "cell_type": "markdown",
   "id": "3194ce80",
   "metadata": {},
   "source": [
    "Q3.Using **Gauss elimination method with pivot and backward substitution method** to solve a system of equation \n",
    "\n",
    "And check the output **$A.\\text{X} = \\text{b}$** and verify using **$\\text{np.linalg.solve()}$**."
   ]
  },
  {
   "cell_type": "code",
   "execution_count": 5,
   "id": "33d3e590",
   "metadata": {
    "scrolled": false
   },
   "outputs": [],
   "source": [
    "import numpy as np\n",
    "def gauss_pivot(a, b):\n",
    "    m, n = a.shape               # verbose = output print precision\n",
    "    b = b.reshape(n,1)\n",
    "    augmented_mat = np.hstack((a,b))\n",
    "    np.set_printoptions(precision = 2, suppress = True)\n",
    "    print('$ Original augmented matrix $')\n",
    "    print(augmented_mat,'\\n')\n",
    "    print('# starting the elimination of matrix ') \n",
    "    for k in range(n):       \n",
    "        for i in range(k+1,n):        # Partial Pivoting \n",
    "            if abs(augmented_mat[i][k]) > abs(augmented_mat[k][k]):           \n",
    "                augmented_mat[[k,i]] = augmented_mat[[i,k]]\n",
    "                print('pivoting row [',i+1,'->',k+1,'] & row [',k,'->',i,']')\n",
    "        for j in range(k+1,n):                      \n",
    "            q = float(augmented_mat[j][k]) / augmented_mat[k][k]  # lambda\n",
    "            for m in range(k, n+1): # Forward Elimination - Subtracting rows\n",
    "                augmented_mat[j][m] -=  q * augmented_mat[k][m] \n",
    "                #print(augmented_mat,'\\n')                \n",
    "    print('^^ this is the outstanding augmented matrix from Gauss elimation ^^')           \n",
    "    print(augmented_mat,'\\n')\n",
    "    x = np.zeros(n)\n",
    "    print('# From Backwards Substitution:')      \n",
    "    x[n-1] =float(augmented_mat[n-1][n]) / augmented_mat[n-1][n-1]  \n",
    "    for i in range (n-1,-1,-1):         # Backwards Substitution         \n",
    "        z = 0.0                                     \n",
    "        for j in range(i+1,n):                     \n",
    "            z = z  + float(augmented_mat[i][j])*x[j]   \n",
    "        x[i] = float(augmented_mat[i][n] - z) / augmented_mat[i][i]\n",
    "        print('x[%i]='%(i+1),x[i])\n",
    "    print(' the desired values are :',x)    \n",
    "    \n",
    "    # checking if AX == b :\n",
    "    B = np.dot(a,x.reshape(n,1))\n",
    "    print(\"\\nB = \",B.reshape(1,n)[0])\n",
    "    if (B[i] == b[i]): print(\"Yes! It's a match,i.e., A.X == b\")\n",
    "    else : print(\"No! Its not a matching,i.e., A.X != b\")\n",
    "    return None"
   ]
  },
  {
   "cell_type": "code",
   "execution_count": 6,
   "id": "ed2ac027",
   "metadata": {
    "scrolled": false
   },
   "outputs": [
    {
     "name": "stdout",
     "output_type": "stream",
     "text": [
      "Gaussian elimination (with Pivotting) and back substitution: \n",
      "$ Original augmented matrix $\n",
      "[[ 1.  2. -1.  1.  6.]\n",
      " [-1.  1.  2. -1.  3.]\n",
      " [ 2. -1.  2.  2. 14.]\n",
      " [ 1.  1. -1.  2.  8.]] \n",
      "\n",
      "# starting the elimination of matrix \n",
      "pivoting row [ 3 -> 1 ] & row [ 0 -> 2 ]\n",
      "pivoting row [ 3 -> 2 ] & row [ 1 -> 2 ]\n",
      "^^ this is the outstanding augmented matrix from Gauss elimation ^^\n",
      "[[ 2.  -1.   2.   2.  14. ]\n",
      " [ 0.   2.5 -2.   0.  -1. ]\n",
      " [ 0.   0.   3.4  0.  10.2]\n",
      " [ 0.   0.   0.   1.   4. ]] \n",
      "\n",
      "# From Backwards Substitution:\n",
      "x[4]= 4.0\n",
      "x[3]= 3.0\n",
      "x[2]= 2.0\n",
      "x[1]= 1.0\n",
      " the desired values are : [1. 2. 3. 4.]\n",
      "\n",
      "B =  [ 6.  3. 14.  8.]\n",
      "Yes! It's a match,i.e., A.X == b\n",
      "**************************************************************\n",
      " direct read using numpy.linalg.solve(): [1. 2. 3. 4.]\n",
      "**************************************************************\n"
     ]
    }
   ],
   "source": [
    "A = np. array([[ 1., 2.,-1., 1.],\n",
    "               [-1., 1., 2.,-1.],\n",
    "               [ 2.,-1., 2., 2.],\n",
    "               [ 1., 1.,-1., 2.]])\n",
    "\n",
    "b = np. array([ 6., 3., 14., 8.])\n",
    "\n",
    "print('Gaussian elimination (with Pivotting) and back substitution: ')\n",
    "gauss_pivot(A, b)\n",
    "print('**************************************************************')\n",
    "print(' direct read using numpy.linalg.solve():',np.linalg.solve(A, b)) \n",
    "print('**************************************************************')"
   ]
  },
  {
   "cell_type": "markdown",
   "id": "c124506d",
   "metadata": {},
   "source": [
    "Q4.Using **Gauss elimination method** find the **inverse of matrix** and verify **$A.A^{-1} = \\text{I}$** and check using **$\\text{np.linalg.inv()}$**"
   ]
  },
  {
   "cell_type": "code",
   "execution_count": 19,
   "id": "f61e6eb3",
   "metadata": {},
   "outputs": [],
   "source": [
    "import numpy as np\n",
    "def gauss_elmbk_matrix_inverse(a):\n",
    "    m, n = a.shape               \n",
    "    b = np.identity(len(a))\n",
    "    augmented_mat = np.hstack((a,b))\n",
    "    np.set_printoptions(precision = 2, suppress = True)\n",
    "    print('$ Original augmented matrix $')\n",
    "    print(augmented_mat,'\\n')\n",
    "    print('# starting the elimination of matrix ') \n",
    "    for k in range(n+len(a)):                  \n",
    "        for j in range(k+1,n):                      \n",
    "            q = float(augmented_mat[j][k]) / augmented_mat[k][k]        # lambda\n",
    "            for m in range(k, n+len(a)): # Forward Elimination - Subtracting rows \n",
    "                augmented_mat[j][m] -=  q * augmented_mat[k][m]  \n",
    "    print('^^ this is the outstanding augmented matrix from Gauss elimation ^^')           \n",
    "    print(augmented_mat,'\\n')\n",
    "    print('# From Backwards Substitution:')      \n",
    "    for i in range(0, n):   # Backwards Substitution\n",
    "        augmented_mat[i, :] = augmented_mat[i, :] / augmented_mat[i, i]\n",
    "    print(augmented_mat)    \n",
    "    print('\\nINVERSE MATRIX IS:') \n",
    "    print(augmented_mat[:, n:])\n",
    "    \n",
    "    # check A.A⁻¹ == I\n",
    "    print('\\n# Product of of original and inverse matrix ')\n",
    "    B = np.dot(a,augmented_mat[:, n:])\n",
    "    print(B)\n",
    "    if (B[i][j] == b[i][j]): print('Yes! Its an identity, i.e., A.A\\u207B\\u00B9 == I')\n",
    "    else : print('No! Its not an identity, i.e., A.A\\u207B\\u00B9 != I')\n",
    "    return None"
   ]
  },
  {
   "cell_type": "code",
   "execution_count": 20,
   "id": "de04e4d5",
   "metadata": {
    "scrolled": false
   },
   "outputs": [
    {
     "name": "stdout",
     "output_type": "stream",
     "text": [
      "\n",
      "Gauss elimination method of matrix inverse: \n",
      "$ Original augmented matrix $\n",
      "[[2. 0. 0. 0. 1. 0. 0. 0.]\n",
      " [2. 2. 0. 0. 0. 1. 0. 0.]\n",
      " [2. 4. 2. 0. 0. 0. 1. 0.]\n",
      " [2. 6. 6. 2. 0. 0. 0. 1.]] \n",
      "\n",
      "# starting the elimination of matrix \n",
      "^^ this is the outstanding augmented matrix from Gauss elimation ^^\n",
      "[[ 2.  0.  0.  0.  1.  0.  0.  0.]\n",
      " [ 0.  2.  0.  0. -1.  1.  0.  0.]\n",
      " [ 0.  0.  2.  0.  1. -2.  1.  0.]\n",
      " [ 0.  0.  0.  2. -1.  3. -3.  1.]] \n",
      "\n",
      "# From Backwards Substitution:\n",
      "[[ 1.   0.   0.   0.   0.5  0.   0.   0. ]\n",
      " [ 0.   1.   0.   0.  -0.5  0.5  0.   0. ]\n",
      " [ 0.   0.   1.   0.   0.5 -1.   0.5  0. ]\n",
      " [ 0.   0.   0.   1.  -0.5  1.5 -1.5  0.5]]\n",
      "\n",
      "INVERSE MATRIX IS:\n",
      "[[ 0.5  0.   0.   0. ]\n",
      " [-0.5  0.5  0.   0. ]\n",
      " [ 0.5 -1.   0.5  0. ]\n",
      " [-0.5  1.5 -1.5  0.5]]\n",
      "\n",
      "# Product of of original and inverse matrix \n",
      "[[1. 0. 0. 0.]\n",
      " [0. 1. 0. 0.]\n",
      " [0. 0. 1. 0.]\n",
      " [0. 0. 0. 1.]]\n",
      "Yes! Its an identity, i.e., A.A⁻¹ == I\n",
      "******************************************************\n",
      "Using the function for direct read numpy.linalg.inv():\n",
      "[[ 0.5  0.   0.   0. ]\n",
      " [-0.5  0.5  0.   0. ]\n",
      " [ 0.5 -1.   0.5 -0. ]\n",
      " [-0.5  1.5 -1.5  0.5]]\n",
      "******************************************************\n"
     ]
    }
   ],
   "source": [
    "A = np. array([[ 2.,  0.,  0.,  0.],\n",
    "               [ 2.,  2.,  0.,  0.],\n",
    "               [ 2.,  4.,  2.,  0.],\n",
    "               [ 2.,  6.,  6.,  2.]])\n",
    "\n",
    "print('\\nGauss elimination method of matrix inverse: ')\n",
    "gauss_elmbk_matrix_inverse(A)\n",
    "print('******************************************************')\n",
    "print('Using the function for direct read numpy.linalg.inv():')\n",
    "print(np.linalg.inv(A))\n",
    "print('******************************************************')"
   ]
  },
  {
   "cell_type": "markdown",
   "id": "2c6518c1",
   "metadata": {},
   "source": [
    "Q5.Using **Gauss Jordan elimination** to solve a system of equation \n",
    "\n",
    "And verify the output **$A.\\text{X} = \\text{b}$** and check using **$\\text{np.linalg.solve()}$**."
   ]
  },
  {
   "cell_type": "code",
   "execution_count": 9,
   "id": "8e6cdbd2",
   "metadata": {},
   "outputs": [],
   "source": [
    "import numpy as np\n",
    "def gauss_jordan(a, b):\n",
    "    m, n = a.shape               \n",
    "    b = b.reshape(n,1)\n",
    "    augmented_mat = np.hstack((a,b))\n",
    "    np.set_printoptions(precision = 2, suppress = True)\n",
    "    print('$ Original augmented matrix $')\n",
    "    print(augmented_mat,'\\n')\n",
    "    outer_loop = [[0, m - 1, 1], [m - 1, 0, -1]]\n",
    "    for d in range(2):\n",
    "        for i in range(outer_loop[d][0], outer_loop[d][1], outer_loop[d][2]):\n",
    "            inner_loop = [[i + 1, m, 1], [i - 1, -1, -1]]\n",
    "            for j in range(inner_loop[d][0], inner_loop[d][1], inner_loop[d][2]):\n",
    "                k = (-1) * augmented_mat[j, i] / augmented_mat[i, i]\n",
    "                temp_row = augmented_mat[i, :] * k\n",
    "                augmented_mat[j, :] += temp_row\n",
    "    for i in range(0, m):\n",
    "        augmented_mat[i, :] = augmented_mat[i, :] / augmented_mat[i, i]\n",
    "    print('# Normalizing the rows')\n",
    "    print(augmented_mat)\n",
    "    print('\\nThe desired values of X are :',augmented_mat[:, n] ,'\\n')    \n",
    "    \n",
    "    # checking if A.X == b :\n",
    "    B = np.dot(a,augmented_mat[:, n].reshape(n,1))\n",
    "    print(\"B = \",B.reshape(1,n)[0])\n",
    "    if(B[i] == b[i]): print(\"Yes! It's a match,i.e., A.X == b\")\n",
    "    else : print(\"No! Its not a matching,i.e., A.X != b\")\n",
    "    return None"
   ]
  },
  {
   "cell_type": "code",
   "execution_count": 10,
   "id": "f8da4a06",
   "metadata": {
    "scrolled": false
   },
   "outputs": [
    {
     "name": "stdout",
     "output_type": "stream",
     "text": [
      " Gauss Jordan elimination: \n",
      "$ Original augmented matrix $\n",
      "[[ 10.  -1.   2.   0.   6.]\n",
      " [ -1.  11.  -1.   3.  25.]\n",
      " [  2.  -1.  10.  -1. -11.]\n",
      " [  0.   3.  -1.   8.  15.]] \n",
      "\n",
      "# Normalizing the rows\n",
      "[[ 1. -0. -0.  0.  1.]\n",
      " [ 0.  1. -0.  0.  2.]\n",
      " [ 0. -0.  1.  0. -1.]\n",
      " [ 0. -0.  0.  1.  1.]]\n",
      "\n",
      "The desired values of X are : [ 1.  2. -1.  1.] \n",
      "\n",
      "B =  [  6.  25. -11.  15.]\n",
      "Yes! It's a match,i.e., A.X == b\n",
      "*************************************************************\n",
      "direct read using numpy.linalg.solve(): [ 1.  2. -1.  1.]\n",
      "*************************************************************\n"
     ]
    }
   ],
   "source": [
    "A = np.array([[10., -1.,   2.,  0.],\n",
    "              [-1., 11.,  -1.,  3.],\n",
    "              [ 2., -1.,  10., -1.],\n",
    "              [ 0.,  3.,  -1.,  8.]])\n",
    "\n",
    "b = np.array([6., 25., -11., 15.])\n",
    "\n",
    "print(' Gauss Jordan elimination: ')\n",
    "gauss_jordan(A, b)\n",
    "print('*************************************************************')\n",
    "print('direct read using numpy.linalg.solve():',np.linalg.solve(A, b))\n",
    "print('*************************************************************')"
   ]
  },
  {
   "cell_type": "markdown",
   "id": "f8909086",
   "metadata": {},
   "source": [
    "Q6. Using **Gauss Jordan elimination** find the **inverse of matrix** and verify **$A.A^{-1} = \\text{I}$** and check using **$\\text{np.linalg.inv()}$**"
   ]
  },
  {
   "cell_type": "code",
   "execution_count": 11,
   "id": "7cc17976",
   "metadata": {
    "scrolled": false
   },
   "outputs": [],
   "source": [
    "import numpy as np\n",
    "def gauss_jordan_matrix_inverse(a):\n",
    "    m, n = a.shape              \n",
    "    b = np.identity(len(a))\n",
    "    augmented_mat = np.hstack((a,b))\n",
    "    np.set_printoptions(precision = 2, suppress = True)\n",
    "    print('$ Original augmented matrix $')\n",
    "    print(augmented_mat)\n",
    "    outer_loop = [[0, m - 1, 1], [m - 1, 0, -1]]\n",
    "    for d in range(2):\n",
    "        for i in range(outer_loop[d][0], outer_loop[d][1], outer_loop[d][2]):\n",
    "            inner_loop = [[i + 1, m, 1], [i - 1, -1, -1]]\n",
    "            for j in range(inner_loop[d][0], inner_loop[d][1], inner_loop[d][2]):\n",
    "                k = (-1) * augmented_mat[j, i] / augmented_mat[i, i]\n",
    "                temp_row = augmented_mat[i, :] * k\n",
    "                augmented_mat[j, :] += temp_row\n",
    "    for i in range(0, m):\n",
    "        augmented_mat[i, :] = augmented_mat[i, :] / augmented_mat[i, i]\n",
    "    print('\\n# Normalizing the rows')\n",
    "    print(augmented_mat)   \n",
    "    print('\\nINVERSE MATRIX IS:') \n",
    "    print(augmented_mat[:, n:])\n",
    "    \n",
    "    # check A.A⁻¹ == I\n",
    "    print('\\n#product of of original and inverse matrix ')\n",
    "    B = np.dot(a,augmented_mat[:, n:])\n",
    "    print(B)\n",
    "    if(B[i][j] == b[i][j]): print('Yes! Its an identity, i.e., A.A\\u207B\\u00B9 == I')\n",
    "    else : print('No! Its not an identity , i.e., A.A\\u207B\\u00B9 != I')\n",
    "    return None"
   ]
  },
  {
   "cell_type": "code",
   "execution_count": 12,
   "id": "98261d80",
   "metadata": {
    "scrolled": false
   },
   "outputs": [
    {
     "name": "stdout",
     "output_type": "stream",
     "text": [
      "Gauss Jordan method of matrix inverse: \n",
      "$ Original augmented matrix $\n",
      "[[2. 0. 0. 0. 1. 0. 0. 0.]\n",
      " [2. 2. 0. 0. 0. 1. 0. 0.]\n",
      " [2. 4. 2. 0. 0. 0. 1. 0.]\n",
      " [2. 6. 6. 2. 0. 0. 0. 1.]]\n",
      "\n",
      "# Normalizing the rows\n",
      "[[ 1.   0.   0.   0.   0.5  0.   0.   0. ]\n",
      " [ 0.   1.   0.   0.  -0.5  0.5  0.   0. ]\n",
      " [ 0.   0.   1.   0.   0.5 -1.   0.5  0. ]\n",
      " [ 0.   0.   0.   1.  -0.5  1.5 -1.5  0.5]]\n",
      "\n",
      "INVERSE MATRIX IS:\n",
      "[[ 0.5  0.   0.   0. ]\n",
      " [-0.5  0.5  0.   0. ]\n",
      " [ 0.5 -1.   0.5  0. ]\n",
      " [-0.5  1.5 -1.5  0.5]]\n",
      "\n",
      "#product of of original and inverse matrix \n",
      "[[1. 0. 0. 0.]\n",
      " [0. 1. 0. 0.]\n",
      " [0. 0. 1. 0.]\n",
      " [0. 0. 0. 1.]]\n",
      "Yes! Its an identity, i.e., A.A⁻¹ == I\n",
      "***************************************\n",
      " direct read using numpy.linalg.inv(): \n",
      "[[ 0.5  0.   0.   0. ]\n",
      " [-0.5  0.5  0.   0. ]\n",
      " [ 0.5 -1.   0.5 -0. ]\n",
      " [-0.5  1.5 -1.5  0.5]]\n",
      "***************************************\n"
     ]
    }
   ],
   "source": [
    "A = np. array([[ 2.,  0.,  0.,  0.],\n",
    "               [ 2.,  2.,  0.,  0.],\n",
    "               [ 2.,  4.,  2.,  0.],\n",
    "               [ 2.,  6.,  6.,  2.]])\n",
    "\n",
    "print('Gauss Jordan method of matrix inverse: ')\n",
    "gauss_jordan_matrix_inverse(A)\n",
    "print('***************************************')\n",
    "print(' direct read using numpy.linalg.inv(): ')\n",
    "print(np.linalg.inv(A))\n",
    "print('***************************************')"
   ]
  },
  {
   "cell_type": "markdown",
   "id": "7a1a5d30",
   "metadata": {},
   "source": [
    "Q7. Using **Jacobi iterative method** to solve a system of equation \n",
    "\n",
    "And verify the output **$A.\\text{X} = \\text{b}$** and check using **$\\text{np.linalg.solve()}$**."
   ]
  },
  {
   "cell_type": "code",
   "execution_count": 13,
   "id": "c2f78b6e",
   "metadata": {
    "scrolled": false
   },
   "outputs": [],
   "source": [
    "import numpy as np\n",
    "def jacobi_iterative(a,b,limit = 100):\n",
    "    m,n = a.shape\n",
    "    print(\"Forming the system.:\")             # prints the system\n",
    "    np.set_printoptions(precision = 2, suppress = True)    \n",
    "    for i in range(a.shape[0]):      # forming the eqn.\n",
    "        row = [\"{0:3g}*x{1}\".format(a[i, j], j + 1) for j in range(a.shape[1])]\n",
    "        print(\"{0} = {1:3g}\".format(\" + \".join(row), b[i]))    \n",
    "    x = np.zeros_like(b)\n",
    "    for it_count in range(limit+1):   \n",
    "        x_new = np.zeros_like(x)\n",
    "        for i in range(a.shape[0]):\n",
    "            s1 = np.dot(a[i, :i], x[:i])\n",
    "            s2 = np.dot(a[i, i + 1:], x[i + 1:])\n",
    "            x_new[i] = (b[i] - s1 - s2) / a[i, i]\n",
    "            if x_new[i] == x_new[i-1]:   # check for convergence\n",
    "                break\n",
    "        if np.allclose(x, x_new, atol=1e-10, rtol=0.):\n",
    "            break\n",
    "        x = x_new\n",
    "        #print(\"Iteration {%i}: \"%(it_count), x)\n",
    "    print('Final output of x is :',x,'after {%i} count'%(it_count))\n",
    "    \n",
    "    # checking if A.X == b :\n",
    "    x = x.reshape(n,1)\n",
    "    B = np.round(np.dot(a,x).reshape(1,n)[0],2)\n",
    "    print('\\nB =',B)\n",
    "    if(b[i] == B[i]): print('Yes! its a match,i.e., A.X == b ')\n",
    "    else : print('No! its not a match,i.e., A.X != b ')\n",
    "    return None"
   ]
  },
  {
   "cell_type": "code",
   "execution_count": 14,
   "id": "bd035654",
   "metadata": {
    "scrolled": false
   },
   "outputs": [
    {
     "name": "stdout",
     "output_type": "stream",
     "text": [
      "\n",
      "Jacobi Iterative method : \n",
      "Forming the system.:\n",
      " 10*x1 +  -1*x2 +   2*x3 +   0*x4 =   6\n",
      " -1*x1 +  11*x2 +  -1*x3 +   3*x4 =  25\n",
      "  2*x1 +  -1*x2 +  10*x3 +  -1*x4 = -11\n",
      "  0*x1 +   3*x2 +  -1*x3 +   8*x4 =  15\n",
      "Final output of x is : [ 1.  2. -1.  1.] after {28} count\n",
      "\n",
      "B = [  6.  25. -11.  15.]\n",
      "Yes! its a match,i.e., A.X == b \n",
      "**************************************************************\n",
      " direct read using numpy.linalg.solve(): [ 1.  2. -1.  1.]\n",
      "**************************************************************\n"
     ]
    }
   ],
   "source": [
    "A = np.array([[10., -1.,   2.,  0.],\n",
    "              [-1., 11.,  -1.,  3.],\n",
    "              [ 2., -1.,  10., -1.],\n",
    "              [ 0.,  3.,  -1.,  8.]])\n",
    "\n",
    "b = np.array([6., 25., -11., 15.])\n",
    "\n",
    "print('\\nJacobi Iterative method : ')\n",
    "jacobi_iterative(A,b)\n",
    "print('**************************************************************')\n",
    "print(' direct read using numpy.linalg.solve():',np.linalg.solve(A, b))\n",
    "print('**************************************************************')"
   ]
  },
  {
   "cell_type": "markdown",
   "id": "64a2e39f",
   "metadata": {},
   "source": [
    "Q8.Using **Gauss Seidel iterative method** to solve a system of equation \n",
    "    \n",
    "And verify the output **$A.\\text{X} = \\text{b}$** and check using **$\\text{np.linalg.solve()}$**."
   ]
  },
  {
   "cell_type": "code",
   "execution_count": 15,
   "id": "2d980ec0",
   "metadata": {},
   "outputs": [],
   "source": [
    "import numpy as np\n",
    "def gauss_seidel(a,b,verbose=0,limit=1000):\n",
    "    m,n = a.shape\n",
    "    print(\"System of equations:\")\n",
    "    np.set_printoptions(precision=2, suppress=True)\n",
    "    for i in range(A.shape[0]):      # forming the eqn.\n",
    "        row = [\"{0:3g}*x{1}\".format(A[i, j], j + 1) for j in range(A.shape[1])]\n",
    "        print(\"{0} = {1:3g}\".format(\" + \".join(row), b[i]))    \n",
    "    x = np.zeros_like(b)\n",
    "    for it_count in range(1, limit):\n",
    "        x_new = np.zeros_like(x)\n",
    "        #print(\"Iteration {%i}: \"%(it_count), x)\n",
    "        for i in range(A.shape[0]):\n",
    "            s1 = np.dot(A[i, :i], x_new[:i])\n",
    "            s2 = np.dot(A[i, i + 1 :], x[i + 1 :])\n",
    "            x_new[i] = (b[i] - s1 - s2) / A[i, i]\n",
    "        if np.allclose(x, x_new, rtol=1e-8):    # check for convergence\n",
    "            break\n",
    "        x = x_new\n",
    "    print(\"\\nFinal output X is :\",x,\"after {%i} counts\"%(it_count))\n",
    "    \n",
    "    # check if A.X == b:\n",
    "    B = np.dot(a,x.reshape(n,1))\n",
    "    print('\\nB = ',B.reshape(1,n)[0])\n",
    "    if(b[i] == B[i]):\n",
    "        print('Yes! its a match,i.e., A.X == b ')\n",
    "    else :\n",
    "        print('No! its not a match,i.e., A.X != b ')\n",
    "    return None"
   ]
  },
  {
   "cell_type": "code",
   "execution_count": 16,
   "id": "cf886f44",
   "metadata": {
    "scrolled": false
   },
   "outputs": [
    {
     "name": "stdout",
     "output_type": "stream",
     "text": [
      "\n",
      "Gauss Seidel iterative method : \n",
      "System of equations:\n",
      " 10*x1 +  -1*x2 +   2*x3 +   0*x4 =   6\n",
      " -1*x1 +  11*x2 +  -1*x3 +   3*x4 =  25\n",
      "  2*x1 +  -1*x2 +  10*x3 +  -1*x4 = -11\n",
      "  0*x1 +   3*x2 +  -1*x3 +   8*x4 =  15\n",
      "\n",
      "Final output X is : [ 1.  2. -1.  1.] after {10} counts\n",
      "\n",
      "B =  [  6.  25. -11.  15.]\n",
      "Yes! its a match,i.e., A.X == b \n",
      "**************************************************************\n",
      " direct read using numpy.linalg.solve(): [ 1.  2. -1.  1.]\n",
      "**************************************************************\n"
     ]
    }
   ],
   "source": [
    "A = np.array([[10., -1.,   2.,  0.],\n",
    "              [-1., 11.,  -1.,  3.],\n",
    "              [ 2., -1.,  10., -1.],\n",
    "              [ 0.,  3.,  -1.,  8.]])\n",
    "\n",
    "b = np.array([6., 25., -11., 15.])\n",
    "\n",
    "print('\\nGauss Seidel iterative method : ')\n",
    "gauss_seidel(A,b)\n",
    "print('**************************************************************')\n",
    "print(' direct read using numpy.linalg.solve():',np.linalg.solve(A, b)) \n",
    "print('**************************************************************')"
   ]
  },
  {
   "cell_type": "markdown",
   "id": "ab901003",
   "metadata": {},
   "source": [
    "Q9. Find the largest eigenvalue of matrix by **Power method** \n",
    "\n",
    "And verify **$A.\\text{X}=\\lambda.\\text{X}$** and check the solution using **$\\text{np.linalg.eig()}$**"
   ]
  },
  {
   "cell_type": "code",
   "execution_count": 17,
   "id": "fa930dda",
   "metadata": {},
   "outputs": [],
   "source": [
    "import numpy as np\n",
    "def largest_eigenvalue_power_method(a):\n",
    "    n= a.shape[0]\n",
    "    np.set_printoptions(precision=2, suppress=True)\n",
    "    def normalize(x):\n",
    "        fac = abs(x).max()\n",
    "        x_n = x / x.max()\n",
    "        return fac, x_n\n",
    "    x = np.ones(len(a))\n",
    "    for i in range(2*len(a)**2):\n",
    "        x = np.dot(a, x)\n",
    "        lambda_1,x = normalize(x)\n",
    "    print('Largest Eigenvalue is :',np.round(lambda_1),2)\n",
    "    print('X =',x)\n",
    "    \n",
    "    # check if A.X == λ.X\n",
    "    AX=np.round(np.dot(a,x),2)\n",
    "    lx=np.round(np.dot(lambda_1,x),2)\n",
    "    print('A.X =',AX,'\\n\\u03BB.X =',lx)\n",
    "    f=0\n",
    "    for i,j in zip(AX,lx):\n",
    "        if( i == j): f += 1\n",
    "        else : f += 0\n",
    "    if (f > 0): print('Yes! Its a match,i.e., A.X == \\u03BB.X')\n",
    "    else : print('No! Its not a match,i.e., A.X != \\u03BB.X')\n",
    "    return None"
   ]
  },
  {
   "cell_type": "code",
   "execution_count": 18,
   "id": "a355cccb",
   "metadata": {},
   "outputs": [
    {
     "name": "stdout",
     "output_type": "stream",
     "text": [
      "Power method for largest Eigenvalue:\n",
      "Largest Eigenvalue is : 14.0 2\n",
      "X = [0.75 0.4  0.42 1.  ]\n",
      "A.X = [10.46  5.58  5.96 14.02] \n",
      "λ.X = [10.46  5.58  5.96 14.02]\n",
      "Yes! Its a match,i.e., A.X == λ.X\n",
      "***************************************************************************************\n",
      " direct read using np.linalg.eig(A): [-9.41 14.02  9.07  1.32]\n",
      "***************************************************************************************\n"
     ]
    }
   ],
   "source": [
    "A = np.array([[ 1., 5.,-3., 9.],\n",
    "              [ 5., 0., 2., 1.],\n",
    "              [-3., 2., 8., 4.],\n",
    "              [ 9.,-1., 4., 6.]])\n",
    "\n",
    "print(\"Power method for largest Eigenvalue:\")\n",
    "largest_eigenvalue_power_method(A)\n",
    "\n",
    "print('***************************************************************************************')\n",
    "x = np.linalg.eig(A)\n",
    "print(' direct read using np.linalg.eig(A):', x[0]) \n",
    "print('***************************************************************************************')"
   ]
  }
 ],
 "metadata": {
  "kernelspec": {
   "display_name": "Python 3 (ipykernel)",
   "language": "python",
   "name": "python3"
  },
  "language_info": {
   "codemirror_mode": {
    "name": "ipython",
    "version": 3
   },
   "file_extension": ".py",
   "mimetype": "text/x-python",
   "name": "python",
   "nbconvert_exporter": "python",
   "pygments_lexer": "ipython3",
   "version": "3.9.7"
  }
 },
 "nbformat": 4,
 "nbformat_minor": 5
}
