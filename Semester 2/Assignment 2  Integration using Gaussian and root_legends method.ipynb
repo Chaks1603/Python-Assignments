{
 "cells": [
  {
   "cell_type": "markdown",
   "id": "9e20279c",
   "metadata": {},
   "source": [
    "## $$\\text{Integration using Gaussian method }$$ $$\\\\\\text{and comparing using scipy.integrate.fixed_quad(),}$$ $$\\\\\\text{Trapezoidal method and Simpson's }(\\frac{1}{3})^{rd} \\text{ method }:$$"
   ]
  },
  {
   "cell_type": "code",
   "execution_count": 1,
   "id": "4ff0e966",
   "metadata": {},
   "outputs": [],
   "source": [
    "import numpy as np\n",
    "import scipy.integrate as si\n",
    "from scipy.special import roots_legendre as rl\n",
    "\n",
    "def gauss(f,a,b,N=50):\n",
    "    V = rl(N)\n",
    "    t = V[0]\n",
    "    w = V[1]\n",
    "    x = ((b-a)/2)*t + (b+a)/2\n",
    "    k = ((b-a)/2)*f(x)\n",
    "    G = sum(w*k)\n",
    "    return G\n",
    "\n",
    "def trapz(f,a,b,N=50):\n",
    "    x = np.linspace(a,b,N+1) \n",
    "    y = f(x)\n",
    "    y_right = y[1:] \n",
    "    y_left = y[:-1] \n",
    "    dx = (b - a)/N\n",
    "    T = (dx/2) * np.sum(y_right + y_left)\n",
    "    return T\n",
    "\n",
    "def simps(f,a,b,N=50):\n",
    "    if N % 2 == 1:\n",
    "        raise ValueError(\"N must be an even integer.\")\n",
    "    dx = (b-a)/N\n",
    "    x = np.linspace(a,b,N+1)\n",
    "    y = f(x)\n",
    "    S = dx/3 * np.sum(y[0:-1:2] + 4*y[1::2] + y[2::2])\n",
    "    return S"
   ]
  },
  {
   "cell_type": "markdown",
   "id": "610eda53",
   "metadata": {},
   "source": [
    "### $\\text{Example 1}: \\displaystyle \\int_{1}^{2} {x^9} \\text{ d}x \\text{ for n=5}$"
   ]
  },
  {
   "cell_type": "code",
   "execution_count": 2,
   "id": "68855306",
   "metadata": {},
   "outputs": [
    {
     "name": "stdout",
     "output_type": "stream",
     "text": [
      "trapezoidal method \t: 109.87991884800002\n",
      "simpson's 1/3 method \t: 102.43291859567898\n",
      "Gauss method \t\t: 102.29999999999995\n",
      "fixed quad \t\t: 102.29999999999995\n"
     ]
    }
   ],
   "source": [
    "print('trapezoidal method \\t:',trapz(lambda x : x**9,1,2,5))\n",
    "print(\"simpson's 1/3 method \\t:\",simps(lambda x : x**9,1,2,5+1))\n",
    "print('Gauss method \\t\\t:',gauss(lambda x : x**9,1,2,5))\n",
    "print(\"fixed quad \\t\\t:\",si.fixed_quad(lambda x : x**9,1,2,n=5)[0])"
   ]
  },
  {
   "cell_type": "markdown",
   "id": "5565305a",
   "metadata": {},
   "source": [
    "### $\\text{Example 2}: \\displaystyle \\int_{1}^{2} {x^{13}} \\text{ d}x \\text{ for n=7}$"
   ]
  },
  {
   "cell_type": "code",
   "execution_count": 9,
   "id": "95492552",
   "metadata": {},
   "outputs": [
    {
     "name": "stdout",
     "output_type": "stream",
     "text": [
      "trapezoidal method \t: 0.10401989833871253\n",
      "simpson's 1/3 method \t: 0.08578937212201478\n",
      "Gauss method \t\t: 0.0833091520248299\n",
      "fixed quad \t\t: 0.0833091520248299\n"
     ]
    }
   ],
   "source": [
    "print('trapezoidal method \\t:',trapz(lambda x : x**13,1,2,7))\n",
    "print(\"simpson's 1/3 method \\t:\",simps(lambda x : x**13,1,2,7+1))\n",
    "print('Gauss method \\t\\t:',gauss(lambda x : x**13,1,2,7))\n",
    "print(\"fixed quad \\t\\t:\",si.fixed_quad(lambda x : x**13,1,2,n=7)[0])"
   ]
  },
  {
   "cell_type": "markdown",
   "id": "e376a37e",
   "metadata": {},
   "source": [
    "### $\\text{Example 3}: \\displaystyle \\int_{1}^{2} {x^{17}} \\text{ d}x \\text{ for n=9}$"
   ]
  },
  {
   "cell_type": "code",
   "execution_count": 4,
   "id": "5e7b3513",
   "metadata": {},
   "outputs": [
    {
     "name": "stdout",
     "output_type": "stream",
     "text": [
      "trapezoidal method \t: 15695.725746519294\n",
      "simpson's 1/3 method \t: 14598.691759109028\n",
      "Gauss method \t\t: 14563.499999999993\n",
      "fixed quad \t\t: 14563.499999999993\n"
     ]
    }
   ],
   "source": [
    "print('trapezoidal method \\t:',trapz(lambda x : x**17,1,2,9))\n",
    "print(\"simpson's 1/3 method \\t:\",simps(lambda x : x**17,1,2,9+1))\n",
    "print('Gauss method \\t\\t:',gauss(lambda x : x**17,1,2,9))\n",
    "print(\"fixed quad \\t\\t:\",si.fixed_quad(lambda x : x**17,1,2,n=9)[0])"
   ]
  },
  {
   "cell_type": "markdown",
   "id": "467b72f4",
   "metadata": {},
   "source": [
    "### $\\text{Example 4}: \\displaystyle \\int_{0}^{\\pi} x \\sin x \\text{ d}x \\text{ for fixed value of n and verify the value.}$"
   ]
  },
  {
   "cell_type": "code",
   "execution_count": 5,
   "id": "3d64384f",
   "metadata": {},
   "outputs": [
    {
     "name": "stdout",
     "output_type": "stream",
     "text": [
      "I_new\t\t\t n-1 \t  abs(diff)\n",
      "3.1415926535897882 \t 8 \t 2.816413768869097e-12\n",
      "\n",
      "fixed quad : 3.141592653589793\n"
     ]
    }
   ],
   "source": [
    "n=1\n",
    "I_old=0\n",
    "diff=2\n",
    "while abs(diff)>1e-10:\n",
    "    I_new=gauss(lambda x : x*np.sin(x),0,np.pi,n)\n",
    "    diff  = I_new-I_old\n",
    "    I_old = I_new \n",
    "    n = n+1\n",
    "    \n",
    "print('I_new\\t\\t\\t n-1', '\\t' ,' abs(diff)')    \n",
    "print(I_new,'\\t', n-1,'\\t', abs(diff))\n",
    "print('\\nfixed quad :',si.quad(lambda x : x*np.sin(x),0,np.pi)[0])"
   ]
  },
  {
   "cell_type": "code",
   "execution_count": null,
   "id": "666e294e",
   "metadata": {},
   "outputs": [],
   "source": []
  },
  {
   "cell_type": "code",
   "execution_count": null,
   "id": "5e487042",
   "metadata": {},
   "outputs": [],
   "source": []
  }
 ],
 "metadata": {
  "kernelspec": {
   "display_name": "Python 3 (ipykernel)",
   "language": "python",
   "name": "python3"
  },
  "language_info": {
   "codemirror_mode": {
    "name": "ipython",
    "version": 3
   },
   "file_extension": ".py",
   "mimetype": "text/x-python",
   "name": "python",
   "nbconvert_exporter": "python",
   "pygments_lexer": "ipython3",
   "version": "3.9.7"
  }
 },
 "nbformat": 4,
 "nbformat_minor": 5
}
