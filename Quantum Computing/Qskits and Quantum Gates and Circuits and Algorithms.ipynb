{
 "cells": [
  {
   "cell_type": "code",
   "execution_count": 1,
   "id": "172402fe",
   "metadata": {},
   "outputs": [],
   "source": [
    "import numpy as np\n",
    "from qiskit import *\n",
    "from qiskit.visualization import plot_bloch_multivector\n",
    "import warnings\n",
    "\n",
    "warnings.filterwarnings('ignore')    #suppress warnings"
   ]
  },
  {
   "cell_type": "markdown",
   "id": "f20c46e6",
   "metadata": {},
   "source": [
    "## Pauli Matrices\n",
    "$$ {I = {\\left[\\begin{array}{cc} 1 & 0 \\\\ 0 & 1 \\end{array} \\right]}} , {X = {\\left[\\begin{array}{cc} 0 & 1\\\\ 1 & 0 \\end{array} \\right]} },{ Y = {\\left[\\begin{array}{c} 0 & i \\\\ -i & 0 \\end{array} \\right]}} ,{ Z = {\\left[\\begin{array}{c} 1 & 0 \\\\ 0 & -1 \\end{array} \\right]} }$$\n",
    "\n",
    "### X-gate\n",
    "The X-gate is represented by the Pauli-X matrix:\n",
    "    $${X = {\\left[\\begin{array}{cc} 0 & 1\\\\ 1 & 0 \\end{array} \\right]}}=|0\\rangle \\langle1|+|1\\rangle \\langle0|  $$\n",
    "    \n",
    "that effect a gate has on the qubit\n",
    "    $${X|0\\rangle = {\\left[\\begin{array}{cc} 0 & 1\\\\ 1 & 0 \\end{array} \\right]}{\\left[\\begin{array}{c} 1 \\\\ 0 \\end{array} \\right]}={\\left[\\begin{array}{c} 0 \\\\ 1 \\end{array} \\right]}=|1\\rangle } $$  \n",
    "    \n",
    " Let's do an X-gate on a $|0\\rangle$ qubit    "
   ]
  },
  {
   "cell_type": "code",
   "execution_count": 2,
   "id": "a8b4a0fa",
   "metadata": {},
   "outputs": [
    {
     "data": {
      "image/png": "[encoded data removed]",
      "text/plain": [
       "<Figure size 133.526x84.28 with 1 Axes>"
      ]
     },
     "execution_count": 2,
     "metadata": {},
     "output_type": "execute_result"
    }
   ],
   "source": [
    "qc=QuantumCircuit(1)\n",
    "qc.x(0)\n",
    "qc.draw('mpl')        # mpl stands for the matplotlib argument"
   ]
  },
  {
   "cell_type": "code",
   "execution_count": 3,
   "id": "f2b3bc10",
   "metadata": {},
   "outputs": [
    {
     "name": "stdout",
     "output_type": "stream",
     "text": [
      "Statevector([0.+0.j, 1.+0.j],\n",
      "            dims=(2,))\n"
     ]
    }
   ],
   "source": [
    "# Let's see the result\n",
    "backend = Aer.get_backend('statevector_simulator')\n",
    "out = execute(qc, backend).result().get_statevector() \n",
    "print(out) "
   ]
  },
  {
   "cell_type": "markdown",
   "id": "e6c75e4f",
   "metadata": {},
   "source": [
    "### Y-gate\n",
    "$${{ Y = {\\left[\\begin{array}{c} 0 & i \\\\ -i & 0 \\end{array} \\right]}} = -i|0\\rangle \\langle1|+i|1\\rangle \\langle0| } $$"
   ]
  },
  {
   "cell_type": "code",
   "execution_count": 4,
   "id": "17ee5738",
   "metadata": {},
   "outputs": [
    {
     "data": {
      "image/png": "[encoded data removed]",
      "text/plain": [
       "<Figure size 193.726x84.28 with 1 Axes>"
      ]
     },
     "execution_count": 4,
     "metadata": {},
     "output_type": "execute_result"
    }
   ],
   "source": [
    "qc.y(0)               # Do Y-gate on qubit 0\n",
    "qc.draw('mpl')        # mpl stands for the matplotlib argument"
   ]
  },
  {
   "cell_type": "markdown",
   "id": "f14151ec",
   "metadata": {},
   "source": [
    "### Z-gate\n",
    "$${{ Z = {\\left[\\begin{array}{c} 1 & 0 \\\\ 0 & -1 \\end{array} \\right]} } = |0\\rangle \\langle0|-|1\\rangle \\langle1| }$$"
   ]
  },
  {
   "cell_type": "code",
   "execution_count": 5,
   "id": "ccd378a9",
   "metadata": {},
   "outputs": [
    {
     "data": {
      "image/png": "[encoded data removed]",
      "text/plain": [
       "<Figure size 253.926x84.28 with 1 Axes>"
      ]
     },
     "execution_count": 5,
     "metadata": {},
     "output_type": "execute_result"
    }
   ],
   "source": [
    "qc.z(0)           # Do Z-gate on qubit 0\n",
    "\n",
    "qc.draw('mpl')"
   ]
  },
  {
   "cell_type": "code",
   "execution_count": 6,
   "id": "3df3d052",
   "metadata": {},
   "outputs": [
    {
     "data": {
      "image/png": "[encoded data removed]",
      "text/plain": [
       "<Figure size 146.797x204.68 with 1 Axes>"
      ]
     },
     "execution_count": 6,
     "metadata": {},
     "output_type": "execute_result"
    }
   ],
   "source": [
    "qc=QuantumCircuit(3)\n",
    "qc.x(0)\n",
    "qc.y(1)\n",
    "qc.z(2)\n",
    "qc.draw('mpl')        # mpl stands for the matplotlib argument"
   ]
  },
  {
   "cell_type": "code",
   "execution_count": 7,
   "id": "7e3df4c8",
   "metadata": {},
   "outputs": [
    {
     "data": {
      "image/png": "[encoded data removed]",
      "text/plain": [
       "<Figure size 206.852x144.48 with 1 Axes>"
      ]
     },
     "execution_count": 7,
     "metadata": {},
     "output_type": "execute_result"
    }
   ],
   "source": [
    "qc=QuantumCircuit(2)\n",
    "qc.x(0)\n",
    "qc.y(1)\n",
    "qc.z(1)\n",
    "qc.draw('mpl')        # mpl stands for the matplotlib argument"
   ]
  },
  {
   "cell_type": "code",
   "execution_count": 8,
   "id": "2fbd80a4",
   "metadata": {},
   "outputs": [
    {
     "data": {
      "image/png": "[encoded data removed]",
      "text/plain": [
       "<Figure size 206.997x204.68 with 1 Axes>"
      ]
     },
     "execution_count": 8,
     "metadata": {},
     "output_type": "execute_result"
    }
   ],
   "source": [
    "qc=QuantumCircuit(3)\n",
    "qc.x(0)\n",
    "qc.y(1)\n",
    "qc.z(0)\n",
    "qc.draw('mpl')        # mpl stands for the matplotlib argument"
   ]
  },
  {
   "cell_type": "code",
   "execution_count": 9,
   "id": "bfd0daf9",
   "metadata": {},
   "outputs": [
    {
     "data": {
      "image/png": "[encoded data removed]",
      "text/plain": [
       "<Figure size 206.997x204.68 with 1 Axes>"
      ]
     },
     "execution_count": 9,
     "metadata": {},
     "output_type": "execute_result"
    }
   ],
   "source": [
    "qc=QuantumCircuit(3)\n",
    "qc.x(0)\n",
    "qc.y(2)\n",
    "qc.z(0)\n",
    "qc.draw('mpl')        # mpl stands for the matplotlib argument"
   ]
  },
  {
   "cell_type": "markdown",
   "id": "030f0ca0",
   "metadata": {},
   "source": [
    "### Hadamard Gate\n",
    "$$ H = \\frac{1}{\\sqrt 2}{{\\left[\\begin{array}{c} 1 & 1 \\\\ 1 & -1 \\end{array} \\right]} } $$\n",
    "We can see that this performs the transformations below:\n",
    "$$H|0\\rangle=|+\\rangle \\\\ H|1\\rangle=|-\\rangle $$"
   ]
  },
  {
   "cell_type": "code",
   "execution_count": 10,
   "id": "7eb8d287",
   "metadata": {},
   "outputs": [
    {
     "data": {
      "image/png": "[encoded data removed]",
      "text/plain": [
       "<Figure size 146.797x204.68 with 1 Axes>"
      ]
     },
     "execution_count": 10,
     "metadata": {},
     "output_type": "execute_result"
    }
   ],
   "source": [
    "qc =  QuantumCircuit(3)                # create circuit with three qubit\n",
    "# Apply H-gate to each qubit:\n",
    "for qubit in range(3):\n",
    "    qc.h(qubit)\n",
    "\n",
    "qc.draw('mpl')"
   ]
  },
  {
   "cell_type": "markdown",
   "id": "10412378",
   "metadata": {},
   "source": [
    "### Identity Gate\n",
    "$$ {I = {\\left[\\begin{array}{cc} 1 & 0 \\\\ 0 & 1 \\end{array} \\right]}} \\\\ I = XX $$"
   ]
  },
  {
   "cell_type": "code",
   "execution_count": 11,
   "id": "519dc7d5",
   "metadata": {},
   "outputs": [
    {
     "data": {
      "image/png": "[encoded data removed]",
      "text/plain": [
       "<Figure size 206.997x204.68 with 1 Axes>"
      ]
     },
     "execution_count": 11,
     "metadata": {},
     "output_type": "execute_result"
    }
   ],
   "source": [
    "qc.i(0)\n",
    "\n",
    "qc.draw('mpl')"
   ]
  },
  {
   "cell_type": "markdown",
   "id": "f3a9c178",
   "metadata": {},
   "source": [
    "## Multiple Qubits\n",
    "The state of two qubits :\n",
    " $$\\large |\\psi\\rangle = {a_{00}}|00\\rangle + {a_{01}}|01\\rangle + {a_{10}}|10\\rangle + {a_{11}}|11\\rangle = {\\left[\\begin{array}{c}  {a_{00}} \\\\ {a_{01}} \\\\ {a_{10}} \\\\ {a_{11}} \\end{array}\\right]} $$"
   ]
  },
  {
   "cell_type": "code",
   "execution_count": 12,
   "id": "2713f6ee",
   "metadata": {},
   "outputs": [
    {
     "data": {
      "image/png": "[encoded data removed]",
      "text/plain": [
       "<Figure size 146.797x204.68 with 1 Axes>"
      ]
     },
     "execution_count": 12,
     "metadata": {},
     "output_type": "execute_result"
    }
   ],
   "source": [
    "qc = QuantumCircuit(3)\n",
    "# Apply H-gate to each qubit:\n",
    "for qubit in range(3):\n",
    "    qc.h(qubit)\n",
    "\n",
    "qc.draw('mpl') # See the circuit:"
   ]
  },
  {
   "cell_type": "markdown",
   "id": "cae6b843",
   "metadata": {},
   "source": [
    "Each qubit is in the state$|+\\rangle$ , so we should see the vector:\n",
    "$$ |{+++}\\rangle = \\frac{1}{\\sqrt 8}{\\left[\\begin{array}{c} 1 \\\\ 1 \\\\ 1 \\\\ 1 \\\\ 1 \\\\ 1 \\\\ 1 \\\\1 \\end{array} \\right]} $$"
   ]
  },
  {
   "cell_type": "code",
   "execution_count": 13,
   "id": "1a5e8ecc",
   "metadata": {},
   "outputs": [
    {
     "name": "stdout",
     "output_type": "stream",
     "text": [
      "Statevector([0.35355339+0.j, 0.35355339+0.j, 0.35355339+0.j,\n",
      "             0.35355339+0.j, 0.35355339+0.j, 0.35355339+0.j,\n",
      "             0.35355339+0.j, 0.35355339+0.j],\n",
      "            dims=(2, 2, 2))\n"
     ]
    }
   ],
   "source": [
    "backend = Aer.get_backend('statevector_simulator')\n",
    "out = execute(qc,backend).result().get_statevector()\n",
    "print(out)    # Let's see the result"
   ]
  },
  {
   "cell_type": "code",
   "execution_count": 14,
   "id": "a4b7d3dc",
   "metadata": {},
   "outputs": [
    {
     "data": {
      "image/png": "[encoded data removed]",
      "text/plain": [
       "<Figure size 146.652x144.48 with 1 Axes>"
      ]
     },
     "execution_count": 14,
     "metadata": {},
     "output_type": "execute_result"
    }
   ],
   "source": [
    "qc = QuantumCircuit(2)\n",
    "qc.h(0)\n",
    "qc.x(1)\n",
    "qc.draw('mpl')"
   ]
  },
  {
   "cell_type": "markdown",
   "id": "0bf72947",
   "metadata": {},
   "source": [
    "$$ X|{q_1}\\rangle \\otimes H|{q_0}\\rangle = (X \\otimes H)|{q_1}{q_0}\\rangle $$\n",
    "\n",
    "The operation looks like this:\n",
    "    $$ X \\otimes H = { {\\left[\\begin{array}{cc} 0 & 1\\\\ 1 & 0 \\end{array} \\right]} } \\otimes  \\frac{1}{\\sqrt 2}{{\\left[\\begin{array}{c} 1 & 1 \\\\ 1 & -1 \\end{array} \\right]} } = \\frac{1}{\\sqrt 2}{{\\left[\\begin{array}{c} 0 & 0 & 1 & 1 \\\\ 0 & 0 & 1 & -1 \\\\ 1 & 1 & 0 & 0 \\\\ 1 & -1 & 0 & 0 \\end{array} \\right]} } $$\n",
    "    \n",
    "Which we can then apply to our 4D statevector $ |{q_1}{q_0}\\rangle $ . You will often see the clearer notation:\n",
    " $$ X \\otimes H = \\left[\\begin{array}{c} 0 & H \\\\ H & 0 \\end{array} \\right] $$"
   ]
  },
  {
   "cell_type": "markdown",
   "id": "590eccf8",
   "metadata": {},
   "source": [
    "## C-Not Gate\n",
    "\n",
    "Classical truth table of C-Not gate:\n",
    "\n",
    "|Input (t,c)|Output (t,c)|\n",
    "|---|---|\n",
    "|00|00|\n",
    "|01|11|\n",
    "|10|10|\n",
    "|11|01|"
   ]
  },
  {
   "cell_type": "code",
   "execution_count": 15,
   "id": "3c3b2f96",
   "metadata": {},
   "outputs": [
    {
     "data": {
      "image/png": "[encoded data removed]",
      "text/plain": [
       "<Figure size 146.652x144.48 with 1 Axes>"
      ]
     },
     "execution_count": 15,
     "metadata": {},
     "output_type": "execute_result"
    }
   ],
   "source": [
    "#create circuit with two qubit\n",
    "qc = QuantumCircuit(2)\n",
    "# Apply CNOT\n",
    "qc.cx(0,1)\n",
    "\n",
    "qc.draw('mpl')         # See the circuit:"
   ]
  },
  {
   "cell_type": "markdown",
   "id": "162ab889",
   "metadata": {},
   "source": [
    "### Entanglement"
   ]
  },
  {
   "cell_type": "code",
   "execution_count": 16,
   "id": "f6489ce0",
   "metadata": {},
   "outputs": [
    {
     "data": {
      "image/png": "[encoded data removed]",
      "text/plain": [
       "<Figure size 146.652x144.48 with 1 Axes>"
      ]
     },
     "execution_count": 16,
     "metadata": {},
     "output_type": "execute_result"
    }
   ],
   "source": [
    "qc = QuantumCircuit(2)              #create two qubit circuit\n",
    "# Apply H-gate to the first:\n",
    "qc.h(0)\n",
    "qc.draw('mpl')"
   ]
  },
  {
   "cell_type": "code",
   "execution_count": 17,
   "id": "a62fd2c4",
   "metadata": {},
   "outputs": [
    {
     "name": "stdout",
     "output_type": "stream",
     "text": [
      "Statevector([0.70710678+0.j, 0.70710678+0.j, 0.        +0.j,\n",
      "             0.        +0.j],\n",
      "            dims=(2, 2))\n"
     ]
    }
   ],
   "source": [
    "backend = Aer.get_backend('statevector_simulator')\n",
    "final_state = execute(qc,backend).result().get_statevector()\n",
    "print(final_state)        # Let's see the result:"
   ]
  },
  {
   "cell_type": "markdown",
   "id": "c1d95ee0",
   "metadata": {},
   "source": [
    "##### Quantum System Sate is: $$ |0+\\rangle = \\frac{1}{\\sqrt 2}{\\Large(}|00\\rangle + |01\\rangle{\\Large)} $$"
   ]
  },
  {
   "cell_type": "code",
   "execution_count": 18,
   "id": "deff7595",
   "metadata": {},
   "outputs": [
    {
     "data": {
      "image/png": "[encoded data removed]",
      "text/plain": [
       "<Figure size 206.852x144.48 with 1 Axes>"
      ]
     },
     "execution_count": 18,
     "metadata": {},
     "output_type": "execute_result"
    }
   ],
   "source": [
    "# Apply a CNOT:\n",
    "qc.cx(0,1)\n",
    "qc.draw('mpl')"
   ]
  },
  {
   "cell_type": "code",
   "execution_count": 19,
   "id": "cdc7b041",
   "metadata": {},
   "outputs": [
    {
     "name": "stdout",
     "output_type": "stream",
     "text": [
      "Statevector([0.70710678+0.j, 0.        +0.j, 0.        +0.j,\n",
      "             0.70710678+0.j],\n",
      "            dims=(2, 2))\n"
     ]
    }
   ],
   "source": [
    "final_state = execute(qc,backend).result().get_statevector()\n",
    "print(final_state)       # Let's see the result:"
   ]
  },
  {
   "cell_type": "markdown",
   "id": "7ffa7c3b",
   "metadata": {},
   "source": [
    "We see we have this final state (Bell State):   $${CNOT}|0+\\rangle = \\frac{1}{\\sqrt 2}{\\Large(}|00\\rangle + |11\\rangle{\\Large)} $$"
   ]
  },
  {
   "cell_type": "markdown",
   "id": "e34a322d",
   "metadata": {},
   "source": [
    "## Bernstein-Vazirani Algorithm\n",
    "\n",
    "A black-box function $f$ , which takes as input a string of bits $(x)$, and returns either $0$ or $1$ , $i.e.$:\n",
    "$f({ x_0 , x_1 , x_2 , \\ldots})\\rightarrow 0$ or $1$ where $x_n$ is $0$ or $1.$\n",
    "\n",
    "The function is guaranteed to return the bitwise product of the input with some string,$s$.\n",
    "\n",
    "In other words, given an input $x$,$f(x)=s.x(mod 2)={x_0*s_0 + x_1*s_1 + x_2*s_2 + \\ldots }$mod 2\n",
    "\n",
    "The quantum Bernstein-Vazirani Oracle:\n",
    "\n",
    "1. Initialise the inputs qubits to the $ {|0\\rangle}^{\\otimes n} $ state, and output qubit to $ |-\\rangle$ .\n",
    "2. Apply Hadamard gates to the input register\n",
    "3. Query the oracle\n",
    "4. Apply Hadamard gates to the input register\n",
    "5. Measure"
   ]
  },
  {
   "cell_type": "markdown",
   "id": "3a14376a",
   "metadata": {},
   "source": [
    "### Example  of Two Qubits ($ \\psi_0 , \\psi_1 , \\psi_2 , \\psi_3$):\n",
    "1. The register of two qubits is initialized to zero: $|{\\Large\\psi}_0\\rangle=|00\\rangle$\n",
    "\n",
    "\n",
    "2. Apply a Hadamard gate to both qubits:${{|{\\Large\\psi}_1\\rangle}={\\frac{1}{\\sqrt 2}(|00\\rangle} + {|01\\rangle} + {|10\\rangle} + {|11\\rangle})}$\n",
    "\n",
    "3. For the string $s=11$, the quantum oracle performs the operation:\n",
    "## $$ |x\\rangle {\\xrightarrow[]{f_s}} (-1)^{x.11} |x\\rangle$$\n",
    "### $$ |{\\Large \\psi_2 }\\rangle = \\frac{1}{\\sqrt 2}{\\Large(}(-1)^{{00}.{11}}|00\\rangle + (-1)^{{01}.{11}}|01\\rangle + (-1)^{{10}.{11}}|10\\rangle + (-1)^{{11}.{11}}|11\\rangle{\\Large)}$$\n",
    "### $$ |{\\Large \\psi_2 }\\rangle = \\frac{1}{\\sqrt 2}{\\Large(}|00\\rangle - |01\\rangle - |10\\rangle + |11\\rangle{\\Large)}$$\n",
    "\n",
    "4. Apply a Hadamard gate to both qubits: $ |{\\Large \\psi_3} \\rangle = |11\\rangle $\n",
    "\n",
    "\n",
    "5. Measure to find the secret string $s=11$."
   ]
  },
  {
   "cell_type": "code",
   "execution_count": 20,
   "id": "6477fa8d",
   "metadata": {},
   "outputs": [],
   "source": [
    "s = 101011"
   ]
  },
  {
   "cell_type": "markdown",
   "id": "701a0332",
   "metadata": {},
   "source": [
    "#### STEP 1"
   ]
  },
  {
   "cell_type": "code",
   "execution_count": 21,
   "id": "5a9c815b",
   "metadata": {},
   "outputs": [
    {
     "data": {
      "image/png": "[encoded data removed]",
      "text/plain": [
       "<Figure size 146.797x505.68 with 1 Axes>"
      ]
     },
     "execution_count": 21,
     "metadata": {},
     "output_type": "execute_result"
    }
   ],
   "source": [
    "qc = QuantumCircuit(6+1,6)\n",
    "qc.h([0,1,2,3,4,5])\n",
    "qc.draw('mpl')"
   ]
  },
  {
   "cell_type": "markdown",
   "id": "32a2432c",
   "metadata": {},
   "source": [
    "#### STEP 2"
   ]
  },
  {
   "cell_type": "code",
   "execution_count": 22,
   "id": "7ae01105",
   "metadata": {},
   "outputs": [
    {
     "data": {
      "image/png": "[encoded data removed]",
      "text/plain": [
       "<Figure size 267.197x505.68 with 1 Axes>"
      ]
     },
     "execution_count": 22,
     "metadata": {},
     "output_type": "execute_result"
    }
   ],
   "source": [
    "qc.x(6)\n",
    "qc.h(6)\n",
    "qc.barrier()\n",
    "qc.draw('mpl')"
   ]
  },
  {
   "cell_type": "markdown",
   "id": "53f792db",
   "metadata": {},
   "source": [
    "#### STEP 3"
   ]
  },
  {
   "cell_type": "code",
   "execution_count": 23,
   "id": "5a1d1dce",
   "metadata": {},
   "outputs": [
    {
     "data": {
      "image/png": "[encoded data removed]",
      "text/plain": [
       "<Figure size 568.197x505.68 with 1 Axes>"
      ]
     },
     "execution_count": 23,
     "metadata": {},
     "output_type": "execute_result"
    }
   ],
   "source": [
    "qc.cx(5, 6)\n",
    "qc.cx(3, 6)\n",
    "qc.cx(1, 6)\n",
    "qc.cx(0, 6)\n",
    "qc.barrier()\n",
    "qc.draw('mpl')"
   ]
  },
  {
   "cell_type": "markdown",
   "id": "fd4596a9",
   "metadata": {},
   "source": [
    "#### STEP 4"
   ]
  },
  {
   "cell_type": "code",
   "execution_count": 24,
   "id": "446690af",
   "metadata": {},
   "outputs": [
    {
     "data": {
      "image/png": "[encoded data removed]",
      "text/plain": [
       "<Figure size 628.397x505.68 with 1 Axes>"
      ]
     },
     "execution_count": 24,
     "metadata": {},
     "output_type": "execute_result"
    }
   ],
   "source": [
    "qc.h([0,1,2,3,4,5])\n",
    "qc.draw('mpl')"
   ]
  },
  {
   "cell_type": "markdown",
   "id": "ed6be1ce",
   "metadata": {},
   "source": [
    "#### STEP 5"
   ]
  },
  {
   "cell_type": "code",
   "execution_count": 25,
   "id": "25d8cf21",
   "metadata": {},
   "outputs": [
    {
     "data": {
      "image/png": "[encoded data removed]",
      "text/plain": [
       "<Figure size 989.597x505.68 with 1 Axes>"
      ]
     },
     "execution_count": 25,
     "metadata": {},
     "output_type": "execute_result"
    }
   ],
   "source": [
    "qc.measure([0,1,2,3,4,5], [0,1,2,3,4,5])\n",
    "qc.draw('mpl')"
   ]
  },
  {
   "cell_type": "code",
   "execution_count": 26,
   "id": "6f781d85",
   "metadata": {},
   "outputs": [
    {
     "name": "stdout",
     "output_type": "stream",
     "text": [
      "{'101011': 1}\n"
     ]
    }
   ],
   "source": [
    "simulator = Aer.get_backend('qasm_simulator')\n",
    "result = execute(qc, backend = simulator, shots = 1).result()\n",
    "counts =result.get_counts()\n",
    "print(counts)"
   ]
  },
  {
   "cell_type": "markdown",
   "id": "73db4569",
   "metadata": {},
   "source": [
    "The result is the same as the number that we defined in the variable \"s\" earlier in the task!!!"
   ]
  },
  {
   "cell_type": "markdown",
   "id": "cfad19a0",
   "metadata": {},
   "source": [
    "### Quantum teleportation"
   ]
  },
  {
   "cell_type": "code",
   "execution_count": 27,
   "id": "95d9eed8",
   "metadata": {},
   "outputs": [
    {
     "name": "stdout",
     "output_type": "stream",
     "text": [
      "Alice's qubit is:\n",
      "(-0.6070909009361398-0.08531829800011566j) |0> +  (-0.5176466102087022+0.5968277917174681j) |1>\n"
     ]
    }
   ],
   "source": [
    "%matplotlib inline\n",
    "\n",
    "from qiskit import *\n",
    "from qiskit.visualization import *\n",
    "from qiskit.tools.monitor import *\n",
    "import random, time\n",
    "\n",
    "# We will create a random qubit by directly assigning random amplitudes\n",
    "\n",
    "a1 = random.random()*2 -1 #Uniform number in [-1,1]\n",
    "a2 = random.random()*2 -1\n",
    "b1 = random.random()*2 -1\n",
    "b2 = random.random()*2 -1\n",
    "\n",
    "# We need to normalize\n",
    "\n",
    "norm = (a1**2 + a2**2 + b1**2 + b2**2)**0.5\n",
    "\n",
    "c1 = complex(a1/norm,a2/norm) #Amplitude for |0> \n",
    "c2 = complex(b1/norm,b2/norm) #Amplitude for |1>\n",
    "\n",
    "psi = QuantumRegister(1, name  = 'psi')  # The qubit to teleport\n",
    "bell = QuantumRegister(2, name = 'bell') # The shared entangled pair \n",
    "c = ClassicalRegister(2, name  = 'c') # Two classical bits for the measures\n",
    "\n",
    "teleport = QuantumCircuit(psi,bell,c) # We create the circuit with the two quantum registers and the classical bits\n",
    "teleport.initialize([c1,c2],psi) # We set the amplitudes for Alice's quibt\n",
    "teleport.barrier()\n",
    "\n",
    "print(\"Alice's qubit is:\")\n",
    "print(c1,\"|0> + \",\n",
    "      c2,\"|1>\")"
   ]
  },
  {
   "cell_type": "code",
   "execution_count": 28,
   "id": "5f4cab75",
   "metadata": {},
   "outputs": [
    {
     "data": {
      "image/png": "[encoded data removed]",
      "text/plain": [
       "<Figure size 954.057x264.88 with 1 Axes>"
      ]
     },
     "execution_count": 28,
     "metadata": {},
     "output_type": "execute_result"
    }
   ],
   "source": [
    "# Now we create the Bell pair\n",
    "\n",
    "teleport.h(bell[0])\n",
    "teleport.cx(bell[0],bell[1])\n",
    "teleport.barrier()\n",
    "\n",
    "# We apply CNOT to |psi> and Alice's part of the entangled pair\n",
    "# We also apply the H gate\n",
    "# Then, Alice measure her qubits and send the results to Bob\n",
    "\n",
    "teleport.cx(psi,bell[0])\n",
    "teleport.h(psi)\n",
    "teleport.measure([psi[0],bell[0]],c)\n",
    "teleport.barrier()\n",
    "\n",
    "# Bob applies his gates depending on the values received from Alice \n",
    "\n",
    "teleport.cx(bell[0],bell[1])\n",
    "teleport.cz(psi,bell[1])\n",
    "\n",
    "teleport.draw(output='mpl')"
   ]
  },
  {
   "cell_type": "code",
   "execution_count": 29,
   "id": "856a7d50",
   "metadata": {},
   "outputs": [
    {
     "name": "stdout",
     "output_type": "stream",
     "text": [
      "Statevector([ 0.        +0.j        ,  0.        -0.j        ,\n",
      "              0.        +0.j        , -0.6070909 -0.0853183j ,\n",
      "             -0.        +0.j        , -0.        +0.j        ,\n",
      "             -0.        +0.j        , -0.51764661+0.59682779j],\n",
      "            dims=(2, 2, 2))\n"
     ]
    }
   ],
   "source": [
    "# We run the circuit and access the amplitudes to check that Bob got the qubit\n",
    "\n",
    "backend = Aer.get_backend('statevector_simulator')\n",
    "job = execute(teleport, backend)\n",
    "outputstate = job.result().get_statevector()\n",
    "print(outputstate)"
   ]
  },
  {
   "cell_type": "markdown",
   "id": "6551c957",
   "metadata": {},
   "source": [
    "### Supendense coding\n",
    "Now, we are going to implement a circuit to simulate superdense coding"
   ]
  },
  {
   "cell_type": "code",
   "execution_count": 30,
   "id": "6d43849c",
   "metadata": {},
   "outputs": [
    {
     "name": "stdout",
     "output_type": "stream",
     "text": [
      "Alice wants to send  1 1\n"
     ]
    },
    {
     "data": {
      "image/png": "[encoded data removed]",
      "text/plain": [
       "<Figure size 472.457x204.68 with 1 Axes>"
      ]
     },
     "execution_count": 30,
     "metadata": {},
     "output_type": "execute_result"
    }
   ],
   "source": [
    "# We start by creating the Bell pair that Alice and Bob share\n",
    "\n",
    "bell = QuantumRegister(2, name = 'bell') # We need two qubits\n",
    "c = ClassicalRegister(2) # And two bits for the measurements \n",
    "dense = QuantumCircuit(bell,c)\n",
    "dense.h(bell[0])\n",
    "dense.cx(bell[0],bell[1])\n",
    "dense.barrier()\n",
    "\n",
    "# We randomly choose which bits to send\n",
    "\n",
    "b1 = random.randint(0,1)\n",
    "b2 = random.randint(0,1)\n",
    "\n",
    "print(\"Alice wants to send \",b1,b2)\n",
    "\n",
    "# And we apply the gates accordingly\n",
    "\n",
    "if(b2==1):\n",
    "    dense.x(bell[0])\n",
    "if(b1==1):\n",
    "    dense.z(bell[0])\n",
    "    \n",
    "dense.barrier()\n",
    "\n",
    "dense.draw(output='mpl')"
   ]
  },
  {
   "cell_type": "code",
   "execution_count": 31,
   "id": "f210e79a",
   "metadata": {},
   "outputs": [
    {
     "data": {
      "image/png": "[encoded data removed]",
      "text/plain": [
       "<Figure size 773.457x204.68 with 1 Axes>"
      ]
     },
     "execution_count": 31,
     "metadata": {},
     "output_type": "execute_result"
    }
   ],
   "source": [
    "# Alice sends her qubit to Bob, who applies his gates and measures\n",
    "\n",
    "dense.cx(bell[0],bell[1])\n",
    "dense.h(bell[0])\n",
    "dense.barrier()\n",
    "dense.measure(bell,c)\n",
    "dense.draw(output='mpl')"
   ]
  },
  {
   "cell_type": "code",
   "execution_count": 32,
   "id": "78b63a46",
   "metadata": {},
   "outputs": [
    {
     "name": "stdout",
     "output_type": "stream",
     "text": [
      "Bob has received  1 1\n"
     ]
    }
   ],
   "source": [
    "# Let us run the circuit\n",
    "\n",
    "backend = Aer.get_backend('qasm_simulator')\n",
    "job = execute(dense, backend, shots = 1, memory = True)\n",
    "result = job.result().get_memory()\n",
    "\n",
    "print(\"Bob has received \",int(result[0][1]),int(result[0][0]))"
   ]
  },
  {
   "cell_type": "markdown",
   "id": "3e970edf",
   "metadata": {},
   "source": [
    "_________________________________________________________________________________________________________________________________________"
   ]
  },
  {
   "cell_type": "markdown",
   "id": "7f74120a",
   "metadata": {},
   "source": [
    "For each pair of $(a,b) \\in [(0,0),(0,1),(1,0),(1,1)]$:\n",
    "\n",
    "* Create a quantum curcuit with two qubits: Asja's and Balvis' qubits\n",
    "* Both are initially set to $|0\\rangle$\n",
    "* Apply h-gate (Hadamard) to Asja's qubit\n",
    "* Apply cx-gate as CNOT(Asja's-qubit,Balvis'-qubit)\n",
    "\n",
    "Assume that both qubits are separated from each other.\n",
    "* If $a$ is 1, then apply z-gate to Asja's qubit.\n",
    "* If $b$ is 1, then apply x-gate (NOT) to Asja's qubit.\n",
    "\n",
    "Assume that Asja sends her qubit to Balvis.\n",
    "* Apply cx-gate as CNOT(Asja's-qubit,Balvis'-qubit)\n",
    "* Apply h-gate (Hadamard) to Asja's qubit\n",
    "* Measure both qubits and compare the results with pair $(a,b)$"
   ]
  },
  {
   "cell_type": "code",
   "execution_count": 33,
   "id": "509ba34f",
   "metadata": {},
   "outputs": [
    {
     "data": {
      "image/png": "[encoded data removed]",
      "text/plain": [
       "<Figure size 568.052x204.68 with 1 Axes>"
      ]
     },
     "metadata": {},
     "output_type": "display_data"
    },
    {
     "name": "stdout",
     "output_type": "stream",
     "text": [
      "00 --> {'00': 100}\n"
     ]
    },
    {
     "data": {
      "image/png": "[encoded data removed]",
      "text/plain": [
       "<Figure size 628.252x204.68 with 1 Axes>"
      ]
     },
     "metadata": {},
     "output_type": "display_data"
    },
    {
     "name": "stdout",
     "output_type": "stream",
     "text": [
      "01 --> {'01': 100}\n"
     ]
    },
    {
     "data": {
      "image/png": "[encoded data removed]",
      "text/plain": [
       "<Figure size 628.252x204.68 with 1 Axes>"
      ]
     },
     "metadata": {},
     "output_type": "display_data"
    },
    {
     "name": "stdout",
     "output_type": "stream",
     "text": [
      "10 --> {'10': 100}\n"
     ]
    },
    {
     "data": {
      "image/png": "[encoded data removed]",
      "text/plain": [
       "<Figure size 688.452x204.68 with 1 Axes>"
      ]
     },
     "metadata": {},
     "output_type": "display_data"
    },
    {
     "name": "stdout",
     "output_type": "stream",
     "text": [
      "11 --> {'11': 100}\n"
     ]
    }
   ],
   "source": [
    "# import all necessary objects and methods for quantum circuits\n",
    "from qiskit import QuantumRegister, ClassicalRegister, QuantumCircuit, execute, Aer\n",
    "\n",
    "all_pairs = ['00','01','10','11']\n",
    "\n",
    "#\n",
    "# your code is here\n",
    "#\n",
    "# import all necessary objects and methods for quantum circuits\n",
    "from qiskit import QuantumRegister, ClassicalRegister, QuantumCircuit, execute, Aer\n",
    "\n",
    "all_pairs = ['00','01','10','11']\n",
    "\n",
    "for pair in all_pairs:\n",
    "\n",
    "    # create a quantum curcuit with two qubits: Asja's and Balvis' qubits.\n",
    "    # both are initially set to |0>.\n",
    "    q = QuantumRegister(2,\"q\") # quantum register with 2 qubits\n",
    "    c = ClassicalRegister(2,\"c\") # classical register with 2 bits\n",
    "    qc = QuantumCircuit(q,c) # quantum circuit with quantum and classical registers\n",
    "\n",
    "    # apply h-gate (Hadamard) to the Asja's qubit\n",
    "    qc.h(q[1])\n",
    "\n",
    "    # apply cx-gate as CNOT(Asja's-qubit,Balvis'-qubit)\n",
    "    qc.cx(q[1],q[0])\n",
    "\n",
    "    # they are separated from each other now\n",
    "\n",
    "    # if a is 1, then apply z-gate to Asja's qubit\n",
    "    if pair[0]=='1': \n",
    "        qc.z(q[1])\n",
    "    \n",
    "    # if b is 1, then apply x-gate (NOT) to Asja's qubit\n",
    "    if pair[1]=='1': \n",
    "        qc.x(q[1])\n",
    "    \n",
    "    # Asja sends her qubit to Balvis\n",
    "    qc.barrier()\n",
    "    \n",
    "    #  apply cx-gate as CNOT(Asja's-qubit,Balvis'-qubit)\n",
    "    qc.cx(q[1],q[0])\n",
    "    \n",
    "    # apply h-gate (Hadamard) to the Asja's qubit\n",
    "    qc.h(q[1])\n",
    "    \n",
    "    # measure both qubits\n",
    "    qc.barrier()\n",
    "    qc.measure(q,c)\n",
    "    \n",
    "    # draw the circuit in Qiskit's reading order\n",
    "    display(qc.draw(output='mpl',reverse_bits=True))\n",
    "    \n",
    "    # compare the results with pair (a,b)\n",
    "    job = execute(qc,Aer.get_backend('qasm_simulator'),shots=100)\n",
    "    counts = job.result().get_counts(qc)\n",
    "    print(pair,\"-->\",counts)"
   ]
  },
  {
   "cell_type": "markdown",
   "id": "1d623808",
   "metadata": {},
   "source": [
    "_______________________________________________________________________________________________________________________________\n",
    "\n",
    "Verify that the following modified protocol allows Balvis to send two classical bits by sending only his qubit.\n",
    "\n",
    "For each pair of $(a,b) \\in [(0,0),(0,1),(1,0),(1,1)]$ :\n",
    "* Create a quantum curcuit with two qubits: Asja's and Balvis' qubits\n",
    "* Both are initially set to $|0\\rangle$\n",
    "* Apply h-gate (Hadamard) to Asja's qubit\n",
    "* Apply cx-gate as CNOT(Asja's-qubit,Balvis'-qubit)\n",
    "\n",
    "Assume that both qubits are separated from each other.\n",
    "* If  is 1, then apply z-gate to Balvis' qubit.\n",
    "* If  is 1, then apply x-gate (NOT) to Balvis' qubit.\n",
    "\n",
    "Assume that Balvis sends his qubit to Asja.\n",
    "* Apply cx-gate as CNOT(Asja's-qubit,Balvis'-qubit)\n",
    "* Apply h-gate (Hadamard) to Asja's qubit\n",
    "* Measure both qubits and compare the results with pair $(a,b)$."
   ]
  },
  {
   "cell_type": "code",
   "execution_count": 34,
   "id": "5fb20408",
   "metadata": {},
   "outputs": [
    {
     "data": {
      "image/png": "[encoded data removed]",
      "text/plain": [
       "<Figure size 568.052x204.68 with 1 Axes>"
      ]
     },
     "metadata": {},
     "output_type": "display_data"
    },
    {
     "name": "stdout",
     "output_type": "stream",
     "text": [
      "00 --> {'00': 100}\n"
     ]
    },
    {
     "data": {
      "image/png": "[encoded data removed]",
      "text/plain": [
       "<Figure size 628.252x204.68 with 1 Axes>"
      ]
     },
     "metadata": {},
     "output_type": "display_data"
    },
    {
     "name": "stdout",
     "output_type": "stream",
     "text": [
      "01 --> {'01': 100}\n"
     ]
    },
    {
     "data": {
      "image/png": "[encoded data removed]",
      "text/plain": [
       "<Figure size 628.252x204.68 with 1 Axes>"
      ]
     },
     "metadata": {},
     "output_type": "display_data"
    },
    {
     "name": "stdout",
     "output_type": "stream",
     "text": [
      "10 --> {'10': 100}\n"
     ]
    },
    {
     "data": {
      "image/png": "[encoded data removed]",
      "text/plain": [
       "<Figure size 688.452x204.68 with 1 Axes>"
      ]
     },
     "metadata": {},
     "output_type": "display_data"
    },
    {
     "name": "stdout",
     "output_type": "stream",
     "text": [
      "11 --> {'11': 100}\n"
     ]
    }
   ],
   "source": [
    "# import all necessary objects and methods for quantum circuits\n",
    "from qiskit import QuantumRegister, ClassicalRegister, QuantumCircuit, execute, Aer\n",
    "\n",
    "all_pairs = ['00','01','10','11']\n",
    "\n",
    "#\n",
    "# your code is here\n",
    "#\n",
    "# import all necessary objects and methods for quantum circuits\n",
    "from qiskit import QuantumRegister, ClassicalRegister, QuantumCircuit, execute, Aer\n",
    "\n",
    "all_pairs = ['00','01','10','11']\n",
    "\n",
    "for pair in all_pairs:\n",
    "\n",
    "    # create a quantum curcuit with two qubits: Asja's and Balvis' qubits.\n",
    "    # both are initially set to |0>.\n",
    "    q = QuantumRegister(2,\"q\") # quantum register with 2 qubits\n",
    "    c = ClassicalRegister(2,\"c\") # classical register with 2 bits\n",
    "    qc = QuantumCircuit(q,c) # quantum circuit with quantum and classical registers\n",
    "\n",
    "    # apply h-gate (Hadamard) to the Asja's qubit\n",
    "    qc.h(q[1])\n",
    "\n",
    "    # apply cx-gate as CNOT(Asja's-qubit,Balvis'-qubit)\n",
    "    qc.cx(q[1],q[0])\n",
    "\n",
    "    # they are separated from each other now\n",
    "\n",
    "    # if a is 1, then apply z-gate to Balvis' qubit\n",
    "    if pair[0]=='1': \n",
    "        qc.z(q[0])\n",
    "    \n",
    "    # if b is 1, then apply x-gate (NOT) to Balvis' qubit\n",
    "    if pair[1]=='1': \n",
    "        qc.x(q[0])\n",
    "    \n",
    "    # Balvis sends his qubit to Asja\n",
    "    qc.barrier()\n",
    "    \n",
    "    #  apply cx-gate as CNOT(Asja's-qubit,Balvis'-qubit)\n",
    "    qc.cx(q[1],q[0])\n",
    "    \n",
    "    # apply h-gate (Hadamard) to the Asja's qubit\n",
    "    qc.h(q[1])\n",
    "    \n",
    "    # measure both qubits\n",
    "    qc.barrier()\n",
    "    qc.measure(q,c)\n",
    "    \n",
    "    # draw the circuit in Qiskit's reading order\n",
    "    display(qc.draw(output='mpl',reverse_bits=True))\n",
    "    \n",
    "    # compare the results with pair (a,b)\n",
    "    job = execute(qc,Aer.get_backend('qasm_simulator'),shots=100)\n",
    "    counts = job.result().get_counts(qc)\n",
    "    print(pair,\"-->\",counts)"
   ]
  },
  {
   "cell_type": "markdown",
   "id": "c096bf9e",
   "metadata": {},
   "source": [
    "________________________________________________________________________________________________________________________________\n",
    "Create a quantum circuit with three qubits as described at the beginning of this notebook and two classical bits.\n",
    "\n",
    "Implement the protocol given above until Asja makes the measurements (included).\n",
    "\n",
    "* The state of $q[2]$ can be set by the rotation with a randomly picked angle.\n",
    "* Remark that Balvis does not make the measurement.\n",
    "At this point, read the state vector of the circuit by using \"statevector_simulator\".\n",
    "\n",
    "_When a circuit having measurement is simulated by \"statevectorsimulator\", the simulator picks one of the outcomes, and so we see one of the states after the measurement.\n",
    "\n",
    "Verify that the state of Balvis' qubit is in one of these:$|v_00\\rangle ,| v_{01}\\rangle , |v_{10}\\rangle , and |v_{11}\\rangle$ .\n",
    "\n",
    "Guess the measurement outcome obtained by \"statevector_simulator\"."
   ]
  },
  {
   "cell_type": "code",
   "execution_count": 35,
   "id": "5267dc8f",
   "metadata": {},
   "outputs": [
    {
     "name": "stdout",
     "output_type": "stream",
     "text": [
      "the picked angle is 32.4 degrees and 0.5654866776461628 radians\n",
      "a= 0.844 b= 0.536\n",
      "a*a= 0.713 b*b= 0.287\n"
     ]
    },
    {
     "data": {
      "image/png": "[encoded data removed]",
      "text/plain": [
       "<Figure size 387.597x264.88 with 1 Axes>"
      ]
     },
     "metadata": {},
     "output_type": "display_data"
    },
    {
     "name": "stdout",
     "output_type": "stream",
     "text": [
      "the state vector is\n",
      "0.0\n",
      "0.0\n",
      "0.5358267949789965\n",
      "0.844327925502015\n",
      "0.0\n",
      "-0.0\n",
      "-0.0\n",
      "0.0\n",
      "\n",
      "the classical outcome is 01\n",
      "\n",
      "the new quantum state is |01>(0.536|0>+0.844|1>)\n",
      "the new quantum state is |01>(+b|0>+a|1>)\n"
     ]
    }
   ],
   "source": [
    "from qiskit import QuantumRegister, ClassicalRegister, QuantumCircuit, execute, Aer\n",
    "from math import pi, cos, sin\n",
    "from random import randrange\n",
    "\n",
    "# quantum circuit with three qubits and three bits\n",
    "q =  QuantumRegister(3,\"q\") \n",
    "c = ClassicalRegister(3,\"c\") \n",
    "qc = QuantumCircuit(q,c)\n",
    "\n",
    "# rotate the first qubit by random angle\n",
    "r = randrange(100)\n",
    "theta = 2*pi*(r/100) # radians\n",
    "print(\"the picked angle is\",r*3.6,\"degrees and\",theta,\"radians\")\n",
    "a = cos(theta)\n",
    "b = sin(theta)\n",
    "print(\"a=\",round(a,3),\"b=\",round(b,3))\n",
    "print(\"a*a=\",round(a**2,3),\"b*b=\",round(b**2,3))\n",
    "qc.ry(2*theta,q[2])\n",
    "\n",
    "# creating an entanglement between q[1] and q[0]\n",
    "qc.h(q[1])\n",
    "qc.cx(q[1],q[0])\n",
    "\n",
    "# CNOT operator by Asja on her qubits where q[2] is the control qubit \n",
    "qc.cx(q[2],q[1])\n",
    "\n",
    "# Hadamard operator by Asja on q[2]\n",
    "qc.h(q[2])\n",
    "\n",
    "# the measurement done by Asja\n",
    "qc.measure(q[2],c[2])\n",
    "qc.measure(q[1],c[1])\n",
    "\n",
    "# draw thw circuit\n",
    "display(qc.draw(output='mpl',reverse_bits=True))\n",
    "\n",
    "# read the state vector\n",
    "job = execute(qc,Aer.get_backend('statevector_simulator'),optimization_level=0,shots=1)\n",
    "current_quantum_state=job.result().get_statevector(qc)\n",
    "print(\"the state vector is\")\n",
    "for i in range(len(current_quantum_state)):\n",
    "    print(current_quantum_state[i].real)\n",
    "print()\n",
    "\n",
    "classical_outcomes = ['00','01','10','11']\n",
    "\n",
    "for i in range(4):\n",
    "    if (current_quantum_state[2*i].real != 0) or (current_quantum_state[2*i+1].real != 0):\n",
    "        print(\"the classical outcome is\",classical_outcomes[i])\n",
    "        classical_outcome = classical_outcomes[i]\n",
    "        balvis_state = [ current_quantum_state[2*i].real,current_quantum_state[2*i+1].real ]\n",
    "print()\n",
    "        \n",
    "readable_quantum_state = \"|\"+classical_outcome+\">\"\n",
    "readable_quantum_state += \"(\"+str(round(balvis_state[0],3))+\"|0>+\"+str(round(balvis_state[1],3))+\"|1>)\"\n",
    "print(\"the new quantum state is\",readable_quantum_state)\n",
    "\n",
    "\n",
    "all_states = ['000','001','010','011','100','101','110','111']\n",
    "\n",
    "        \n",
    "balvis_state_str = \"|\"+classical_outcome+\">(\"\n",
    "for i in range(len(current_quantum_state)):\n",
    "    if abs(current_quantum_state[i].real-a)<0.000001: \n",
    "        balvis_state_str += \"+a|\"+ all_states[i][2]+\">\"\n",
    "    elif abs(current_quantum_state[i].real+a)<0.000001:\n",
    "        balvis_state_str += \"-a|\"+ all_states[i][2]+\">\"\n",
    "    elif abs(current_quantum_state[i].real-b)<0.000001: \n",
    "        balvis_state_str += \"+b|\"+ all_states[i][2]+\">\"\n",
    "    elif abs(current_quantum_state[i].real+b)<0.000001: \n",
    "        balvis_state_str += \"-b|\"+ all_states[i][2]+\">\"\n",
    "balvis_state_str += \")\"        \n",
    "print(\"the new quantum state is\",balvis_state_str)"
   ]
  },
  {
   "cell_type": "markdown",
   "id": "29ca7671",
   "metadata": {},
   "source": [
    "________________________________________________________________________________________________________________________________\n",
    "Implement the protocol above by including the post-processing part done by Balvis, i.e., the measurement results by Asja are sent to Balvis and then he may apply  or  gates depending on the measurement results.\n",
    "\n",
    "We use the classically controlled quantum operators.\n",
    "\n",
    "Since we do not make measurement on $q[0]$, we define only 2 classical bits, each of which can also be defined separated.\n",
    "$$q = QuantumRegister(3) $$\n",
    "$$c2 = ClassicalRegister(1,'c2') $$\n",
    "$$c1 = ClassicalRegister(1,'c1') $$\n",
    "$$qc = QuantumCircuit(q,c1,c2) $$\n",
    "$$... $$\n",
    "$$qc.measure(q[1],c1) $$\n",
    "$$... \\\\ $$\n",
    "$ qc.x(q[0]).c \\ if(c1,1) \\rightarrow $x-gate is applied to $q[0]$  if the classical bit c1 is equal to 1 \n",
    "\n",
    "Read the state vector and verify that Balvi's state is $\\overrightarrow{ab}$  after the post-processing."
   ]
  },
  {
   "cell_type": "code",
   "execution_count": 36,
   "id": "d29785c9",
   "metadata": {},
   "outputs": [
    {
     "name": "stdout",
     "output_type": "stream",
     "text": [
      "the picked angle is 237.6 degrees and 4.1469023027385274 radians\n",
      "a= -0.5358 b= -0.8443\n"
     ]
    },
    {
     "data": {
      "image/png": "[encoded data removed]",
      "text/plain": [
       "<Figure size 688.597x325.08 with 1 Axes>"
      ]
     },
     "metadata": {},
     "output_type": "display_data"
    },
    {
     "name": "stdout",
     "output_type": "stream",
     "text": [
      "the state vector is\n",
      "-0.5358\n",
      "-0.8443\n",
      "-0.0\n",
      "-0.0\n",
      "-0.0\n",
      "0.0\n",
      "0.0\n",
      "-0.0\n",
      "\n",
      "the classical outcome is 00\n"
     ]
    }
   ],
   "source": [
    "from qiskit import QuantumRegister, ClassicalRegister, QuantumCircuit, execute, Aer\n",
    "from math import pi, cos, sin\n",
    "from random import randrange\n",
    "\n",
    "# quantum circuit with three qubits and two bits\n",
    "q =  QuantumRegister(3,\"q\") \n",
    "c1 = ClassicalRegister(1,\"c1\") \n",
    "c2 = ClassicalRegister(1,\"c2\") \n",
    "qc = QuantumCircuit(q,c1,c2)\n",
    "\n",
    "# rotate the first qubit by random angle\n",
    "r = randrange(100)\n",
    "theta = 2*pi*(r/100) # radians\n",
    "print(\"the picked angle is\",r*3.6,\"degrees and\",theta,\"radians\")\n",
    "a = cos(theta)\n",
    "b = sin(theta)\n",
    "print(\"a=\",round(a,4),\"b=\",round(b,4))\n",
    "qc.ry(2*theta,q[2])\n",
    "\n",
    "# creating an entanglement between q[1] and q[0]\n",
    "qc.h(q[1])\n",
    "qc.cx(q[1],q[0])\n",
    "\n",
    "# CNOT operator by Asja on her qubits where q[2] is the control qubit \n",
    "qc.cx(q[2],q[1])\n",
    "\n",
    "# Hadamard operator by Asja on q[2]\n",
    "qc.h(q[2])\n",
    "\n",
    "qc.barrier()\n",
    "\n",
    "# the measurement done by Asja\n",
    "qc.measure(q[2],c2)\n",
    "qc.measure(q[1],c1)\n",
    "\n",
    "qc.barrier()\n",
    "\n",
    "# post-processing done by Balvis\n",
    "qc.x(q[0]).c_if(c1,1)\n",
    "qc.z(q[0]).c_if(c2,1)\n",
    "\n",
    "# draw the circuit\n",
    "display(qc.draw(output='mpl',reverse_bits=True))\n",
    "\n",
    "# read the state vector\n",
    "job = execute(qc,Aer.get_backend('statevector_simulator'),optimization_level=0,shots=1)\n",
    "current_quantum_state=job.result().get_statevector(qc)\n",
    "print(\"the state vector is\")\n",
    "for i in range(len(current_quantum_state)):\n",
    "    print(round(current_quantum_state[i].real,4))\n",
    "print()\n",
    "\n",
    "classical_outcomes = ['00','01','10','11']\n",
    "\n",
    "for i in range(4):\n",
    "    if (current_quantum_state[2*i].real != 0) or (current_quantum_state[2*i+1].real != 0):\n",
    "        print(\"the classical outcome is\",classical_outcomes[i])"
   ]
  },
  {
   "cell_type": "code",
   "execution_count": null,
   "id": "5befa01c",
   "metadata": {},
   "outputs": [],
   "source": []
  },
  {
   "cell_type": "code",
   "execution_count": null,
   "id": "a720076d",
   "metadata": {},
   "outputs": [],
   "source": []
  },
  {
   "cell_type": "code",
   "execution_count": null,
   "id": "3a2c4741",
   "metadata": {},
   "outputs": [],
   "source": []
  },
  {
   "cell_type": "code",
   "execution_count": null,
   "id": "1eae0dee",
   "metadata": {},
   "outputs": [],
   "source": []
  },
  {
   "cell_type": "code",
   "execution_count": null,
   "id": "75ac75aa",
   "metadata": {},
   "outputs": [],
   "source": []
  },
  {
   "cell_type": "code",
   "execution_count": null,
   "id": "20f2d2e2",
   "metadata": {},
   "outputs": [],
   "source": []
  }
 ],
 "metadata": {
  "kernelspec": {
   "display_name": "Python 3 (ipykernel)",
   "language": "python",
   "name": "python3"
  },
  "language_info": {
   "codemirror_mode": {
    "name": "ipython",
    "version": 3
   },
   "file_extension": ".py",
   "mimetype": "text/x-python",
   "name": "python",
   "nbconvert_exporter": "python",
   "pygments_lexer": "ipython3",
   "version": "3.9.12"
  }
 },
 "nbformat": 4,
 "nbformat_minor": 5
}
