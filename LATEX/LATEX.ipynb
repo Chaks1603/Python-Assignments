{
 "cells": [
  {
   "cell_type": "markdown",
   "id": "6f72d86a-1991-4942-aad5-7e6f9a9c26fb",
   "metadata": {},
   "source": [
    "|Syntax|Output|                                                 \n",
    "|:---:|:---:|                                         \n",
    "|` $x_n$ `| $x_n$|    \n",
    "|` $x^n$ `| $x^n$|    \n",
    "|` $\\infty$ `|$\\infty$ |\n",
    "|` $\\frac{a}{b}$ `|$\\frac{a}{b}$ |\n",
    "|` $\\partial$ `|$\\partial$ |\n",
    "|` $\\alpha$ `|$\\alpha$ |\n",
    "|` $\\beta$ `|$\\beta$ |\n",
    "|` $\\gamma$ `| $\\gamma$|\n",
    "|` $\\Gamma$ `|$\\Gamma$ |\n",
    "|` $\\delta$ `|$\\delta$ |\n",
    "|` $\\Delta$ `|$\\Delta$ |\n",
    "|` $\\epsilon$ `| $\\epsilon$|\n",
    "|` $\\varepsilon$ `| $\\varepsilon$|\n",
    "|` $\\upsilon$ `| $\\upsilon$|\n",
    "|` $\\Upsilon$ `| $\\Upsilon$|\n",
    "|` $\\zeta$ `|$\\zeta$ |\n",
    "|` $\\eta$ `|$\\eta$ |\n",
    "|` $\\iota$ `|$\\iota$ |\n",
    "|` $\\kappa$ `|$\\kappa$ |\n",
    "|` $\\varkappa$ `|$\\varkappa$ |\n",
    "|` $\\lambda$ `|$\\lambda$ |\n",
    "|` $\\Lambda$ `| $\\Lambda$|\n",
    "|` $\\mu$ `|$\\mu$ |\n",
    "|` $\\nu$ `| $\\nu$|\n",
    "|` $\\xi$ `| $\\xi$ |\n",
    "|` $\\Xi$ `| $\\Xi$ |\n",
    "|` $\\pi$ `| $\\pi$|\n",
    "|` $\\Pi$ `| $\\Pi$|\n",
    "|`$\\varpi$  `|$\\varpi$ |\n",
    "|` $\\theta$ `|$\\theta$ |\n",
    "|` $\\Theta$ `|$\\Theta$ |\n",
    "|`$\\vartheta$  `|$\\vartheta$ |\n",
    "|` $\\phi$ `|$\\phi$ |\n",
    "|`$\\varphi$  `|$\\varphi$ |\n",
    "|` $\\psi$ `| $\\psi$|\n",
    "|` $\\Psi$ `| $\\Psi$|\n",
    "|`$\\rho$  `|$\\rho$ |\n",
    "|`$\\varrho$  `|$\\varrho$ |\n",
    "|` $\\varsigma$ `|$\\varsigma$  |\n",
    "|` $\\sigma$ `|$\\sigma$  |\n",
    "|` $\\Sigma$ `|$\\Sigma$  |\n",
    "|` $\\tau$ `|$\\tau$ |\n",
    "|` $\\chi$ `| $\\chi$|\n",
    "|` $\\omega$ `|$\\omega$ |\n",
    "|` $\\Omega$ `|$\\Omega$ |\n",
    "|`  `| |\n",
    "|` $\\mathrm{Hom}$ `| $\\mathrm{Hom}$|\n",
    "|` $\\mathbb{Z}$ `|$\\mathbb{Z}$ |\n",
    "|` $\\mathscr{L}$ `| $\\mathscr{L}$|\n",
    "|` $\\mathfrak{g}$ `|$\\mathfrak{g}$ |\n",
    "|` $\\mathbf{v}$ `|$\\mathbf{v}$ |\n",
    "|`  `| |\n",
    "|`$\\dots$  `|$\\dots$ |  \n",
    "|`$\\vdots$  `|$\\vdots$ |\n",
    "|`$\\ddots$  `| $\\ddots$|\n",
    "|`  `| |\n",
    "|` $\\sin^{-1}$ `|$\\sin^{-1}$ |\n",
    "|` $\\cos$ `|$\\cos$ |\n",
    "|` $\\tan$ `| $\\tan$|\n",
    "|` $\\sum_{n=0}^{\\infty}$ `|$\\displaystyle{\\sum_{n=0}^{\\infty}}$ |\n",
    "|` $\\prod_{n=0}^{\\infty}$ `|$\\displaystyle{\\prod_{n=0}^{\\infty}}$ |\n",
    "|` $\\lim_{x \\to a}$ `|$\\displaystyle\\lim_{x \\to a}$ |\n",
    "|` $\\frac{\\partial}{\\partial{x}$ `|$\\frac{\\partial}{\\partial{x}}$  |\n",
    "|` $\\nabla$ `|$\\nabla$ |\n",
    "|`$\\hbar$`|$\\hbar$ |\n",
    "|`$\\hslash$`|$\\hslash$|\n",
    "|`\\vec{a}`|$\\vec{a}$|\n",
    "|`\\check{a}`|$\\check{a}$ |\n",
    "|`\\hat{a}`|$\\hat{a}$ |\n",
    "|`\\tilde{a}`|$\\tilde{a}$ |\n",
    "|`\\bar{a}`|$\\bar{a}$ |\n",
    "|`\\acute{a}`|$\\acute{a}$ |\n",
    "|`\\grave{a}`|$\\grave{a}$|\n",
    "|`\\mathring{a}`|$\\mathring{a}$|\n",
    "|`\\dot{a}`|$\\dot{a}$|\n",
    "|`\\ddot{a}`|$\\ddot{a}$|\n",
    "|`\\dddot{a}`|$\\dddot{a}$|\n",
    "|`\\breve{a}`|$\\breve{a}$|\n",
    "|`{a}^\\ast`|${a}^\\ast$|\n",
    "|`{a}^\\dagger`|${a}^\\dagger$|\n",
    "|`\\widehat{AAA}`|$\\widehat{AAA}$|\n",
    "|`\\widetilde{AAA}`|$\\widetilde{AAA}$|\n",
    "|`$\\oint_a^b$ `|$\\displaystyle\\oint_a^b$ |\n",
    "|`$\\int_a^b$ `|$\\displaystyle\\int_a^b$ |\n",
    "|`$\\iint_a^b$ `|$\\displaystyle\\iint_a^b$ |\n",
    "|`$\\iiint_a^b$ `|$\\displaystyle\\iiint_a^b$ |\n",
    "|`$\\idotsint$`| $\\idotsint$ |\n",
    "|`  `| |\n",
    "|`$\\langle x \\rangle$`| $ \\langle x \\rangle$|\n",
    "|`$\\langle a  \\vert b \\rangle$`| $\\langle a \\vert b \\rangle$|\n",
    "|`$\\langle a \\mid b \\rangle$`| $\\langle a \\mid b \\rangle$|\n",
    "|`$\\langle a \\mid\\psi\\mid b \\rangle$`| $\\langle a \\mid\\psi\\mid b \\rangle$|\n",
    "|`$\\langle a  \\vert\\psi\\vert b \\rangle$`| $\\langle a \\vert\\psi\\vert b \\rangle$|\n",
    "|`$ \\vert a \\rangle \\langle b \\vert $`| $ \\vert a \\rangle \\langle b\\vert $|"
   ]
  },
  {
   "cell_type": "markdown",
   "id": "edec174c",
   "metadata": {},
   "source": [
    "|    |   |\n",
    "|---|---|\n",
    "|`$\\vec{a}, \\hat{a}, \\bar{a}, \\tilde{a}$`|$\\vec{a}, \\hat{a}, \\bar{a}, \\tilde{a}$ |\n",
    "|`$\\vec{\\mathbf{a}},\\hat{\\mathbf{a}}, \\bar{\\mathbf{a}}, \\tilde{\\mathbf{a}}$`|$\\vec{\\mathbf{a}},\\hat{\\mathbf{a}}, \\bar{\\mathbf{a}}, \\tilde{\\mathbf{a}}$ |\n",
    "|`$\\mathbf{\\vec{a}},\\mathbf{\\hat{a}}, \\mathbf{\\bar{a}}, \\mathbf{\\tilde{a}}$`|$\\mathbf{\\vec{a}},\\mathbf{\\hat{a}}, \\mathbf{\\bar{a}}, \\mathbf{\\tilde{a}}$ |\n"
   ]
  },
  {
   "cell_type": "markdown",
   "id": "ce82eb1d",
   "metadata": {},
   "source": [
    "$\\mathit{H}\\rightarrow\\text{Magnetic field}$\n",
    "\n",
    "${\\tiny\\mathtt{H} }\\rightarrow\\text{Magnitude of Magnetic field}$\n",
    "\n",
    "$\\mathscr{H} \\rightarrow\\text{Hamiltonian}$\n",
    "\n",
    "$\\mathcal{H} \\rightarrow\\text{Hamiltonian, excluding mass-energy contributions}$\n",
    "\n",
    "\n",
    "$\\iiint_{V} ( \\mathbf{\\nabla} \\cdot \\mathbf{F})\\,\\mathrm{d}V=\\oint_S \\mathbf{F} \\cdot \\mathbf{\\hat{n}} \\mathrm{d}S $\n",
    "\n",
    "`\\mathrm{...}` Roman Font\n",
    "\n",
    "`\\mathbf{...}` Boldface Font\n",
    "\n",
    "`\\mathsf{...}` Sans Serif Font\n",
    "\n",
    "`\\mathtt{...}` Typewriter Font\n",
    "\n",
    "`\\mathit{...}` Italic Font\n",
    "\n",
    "`\\mathcal{...}` CALLIGRAPHIC"
   ]
  },
  {
   "cell_type": "markdown",
   "id": "c86ed2b5",
   "metadata": {},
   "source": [
    "## Matrix / Bracket operator \n",
    "\n",
    "|syntax   | output  |\n",
    "|---|---|\n",
    "|`$\\begin{matrix} a & b \\\\ c & d \\end{matrix}$`|$\\qquad\\begin{matrix} a & b \\\\ c & d \\end{matrix}$|\n",
    "|`$\\begin{pmatrix} a & b \\\\ c & d \\end{pmatrix}$`|$\\qquad\\begin{pmatrix} a & b \\\\ c & d \\end{pmatrix}$|\n",
    "|`$\\begin{bmatrix} 1 & 2 & 1 \\\\ 3 & 0 & 1 \\\\ 0 & 2 & 4 \\end{bmatrix}$`|$\\qquad\\begin{bmatrix} 1 & 2 & 1 \\\\ 3 & 0 & 1 \\\\ 0 & 2 & 4 \\end{bmatrix}$|\n",
    "|`$\\begin{vmatrix} 1 & 2 & 1 \\\\ 3 & 0 & 1 \\\\ 0 & 2 & 4 \\end{vmatrix}$`|$\\qquad\\begin{vmatrix} 1 & 2 & 1 \\\\ 3 & 0 & 1 \\\\ 0 & 2 & 4 \\end{vmatrix}$|\n",
    "|`$\\begin{Bmatrix} a & b \\\\ c & d \\end{Bmatrix}$`|$\\begin{Bmatrix} a & b \\\\ c & d \\end{Bmatrix}$|\n",
    "|`$\\begin{matrix} 1 & 2 & 1 \\\\ 3 & 0 & 1 \\\\ 0 & 2 & 4 \\end{matrix}$`|$  \\begin{matrix} 1 & 2 & 1 \\\\ 3 & 0 & 1 \\\\ 0 & 2 & 4 \\end{matrix}  $|\n",
    "|`$ x =\\left\\{\\begin{array}{rl}-x & \\text{if }x<0, \\\\ x & \\text{if } x > 0. \\end{array} \\right. $`| $x=\\left\\{\\begin{array}{rl}-x & \\text{if }x<0, \\\\ x & \\text{if } x > 0. \\end{array} \\right. $|\n",
    "|`$\\left. \\begin{array}{rl}-x & \\text{if }x<0, \\\\ x & \\text{if } x > 0. \\end{array} \\right\\} = x$`| $\\left. \\begin{array}{rl}-x & \\text{if }x<0, \\\\ x & \\text{if } x > 0. \\end{array} \\right\\} = x$|"
   ]
  },
  {
   "cell_type": "markdown",
   "id": "8b94e5e3",
   "metadata": {},
   "source": [
    "## Del Operator \n",
    "\n",
    "\n",
    "|  |  |\n",
    "|---|---|\n",
    "|`$\\displaystyle{\\nabla \\equiv \\Big( \\frac{\\partial}{\\partial x}\\hat{i} + \\frac{\\partial}{\\partial y}\\hat{j} + \\frac{\\partial}{\\partial z}\\hat{k} \\Big)}$`|$\\displaystyle{\\nabla \\equiv \\Big( \\frac{\\partial}{\\partial x}\\hat{i} + \\frac{\\partial}{\\partial y}\\hat{j} + \\frac{\\partial}{\\partial z}\\hat{k} \\Big)}$|\n",
    "\n",
    "|  |  |  |\n",
    "|---|---|---|\n",
    "|Gradient of the scalar field $\\phi\\quad\\mathrm{grad }\\ \\phi$| `$ \\displaystyle{\\overrightarrow{\\nabla\\phi}=0}$` | $ \\displaystyle{\\overrightarrow{\\nabla\\phi}= \\Big( \\frac{\\partial\\phi}{\\partial x}\\hat{i} + \\frac{\\partial\\phi}{\\partial y}\\hat{j} + \\frac{\\partial\\phi}{\\partial z}\\hat{k} \\Big)=0}$| \n",
    "|Divergence of the vector field $\\vec{f}\\quad\\mathrm{div }\\ f$| `$ \\displaystyle{\\vec{\\nabla}\\cdot\\vec{f}=0}$` | $ \\displaystyle{\\vec{\\nabla}\\cdot\\vec{f}= \\Big( \\frac{\\partial f_x}{\\partial x} + \\frac{\\partial f_y}{\\partial y} + \\frac{\\partial f_z}{\\partial z} \\Big)=0}$ |\n",
    "|Curl of the vector field $\\vec{f}\\quad\\mathrm{curl }\\ f$| `$ \\displaystyle{\\vec{\\nabla}\\times\\vec{f}=0}$` | $ \\displaystyle{\\vec{\\nabla}\\times\\vec{f}=\\begin{vmatrix} \\hat{i} & \\hat{j} & \\hat{k} \\\\ \\frac{\\partial}{\\partial x} & \\frac{\\partial}{\\partial y} & \\frac{\\partial}{\\partial z} \\\\ f_x & f_y & f_z \\end{vmatrix}=0}$|"
   ]
  },
  {
   "cell_type": "markdown",
   "id": "9f378b74",
   "metadata": {},
   "source": [
    "---"
   ]
  },
  {
   "cell_type": "markdown",
   "id": "f2e2be83",
   "metadata": {},
   "source": [
    "## the angle sum identity of trigonometry\n",
    "|    |   |\n",
    "|---|---|\n",
    "|`$ \\displaystyle{\\cos(\\alpha\\pm\\beta)=\\cos\\alpha\\cos\\beta\\mp\\sin\\alpha\\sin\\beta}$`|$ \\displaystyle{\\cos(\\alpha\\pm\\beta)=\\cos\\alpha\\cos\\beta\\mp\\sin\\alpha\\sin\\beta}$|\n",
    "|`$ \\displaystyle{\\sin(\\alpha\\pm\\beta)=\\sin\\alpha\\cos\\beta\\pm\\cos\\alpha\\sin\\beta}$`|$ \\displaystyle{\\sin(\\alpha\\pm\\beta)=\\sin\\alpha\\cos\\beta\\pm\\cos\\alpha\\sin\\beta}$|\n",
    "|`$ \\displaystyle{\\tan(\\alpha\\pm\\beta)=\\frac{\\tan\\alpha\\pm\\tan\\beta}{1\\mp\\tan\\alpha\\tan\\beta}}$`|$ \\displaystyle{\\tan(\\alpha\\pm\\beta)=\\frac{\\tan\\alpha\\pm\\tan\\beta}{1\\mp\\tan\\alpha\\tan\\beta}}$|\n",
    "|`$ \\displaystyle{\\sin(2x)=2\\sin x \\cos x=\\frac{2\\tan x}{1+\\tan^2 x}}$`|$ \\displaystyle{\\sin(2x)=2\\sin x \\cos x=\\frac{2\\tan x}{1+\\tan^2 x}}$|\n",
    "|`$ \\displaystyle{\\cos(2x)= \\cos^2 x - \\sin^2 x = 1-2\\sin^2 x = 2\\cos^2 x - 1 = \\frac{1-\\tan^2 x}{1+\\tan^2 x} }$`|$ \\displaystyle{\\cos(2x)= \\cos^2 x - \\sin^2 x = 1-2\\sin^2 x = 2\\cos^2 x - 1 = \\frac{1-\\tan^2 x}{1+\\tan^2 x} }$|\n",
    "|`$ \\displaystyle{\\tan(2x)=\\frac{\\sin 2x}{\\cos 2x}  = \\frac{2\\tan x}{1-\\tan^2 x} }$`|$ \\displaystyle{\\tan(2x)=\\frac{\\sin 2x}{\\cos 2x}  =\\frac{2\\tan x}{1-\\tan^2 x} }$|\n",
    "|`$ \\displaystyle{\\sin^2 x + \\cos^2 x = 1}$` | $ \\displaystyle{\\sin^2 x + \\cos^2 x = 1}$|\n",
    "|`$ \\displaystyle{\\tan^2 x + 1 = \\sec^2 x}$` | $ \\displaystyle{\\tan^2 x + 1 = \\sec^2 x}$|\n",
    "|`$ \\displaystyle{1 + \\cot^2 x = \\csc^2 x}$` | $ \\displaystyle{1 + \\cot^2 x = \\csc^2 x}$|\n",
    "|`$ \\displaystyle{\\sin^2 x= \\frac{1-\\cos 2x}{2} }$`|$ \\displaystyle{\\sin^2 x= \\frac{1-\\cos 2x}{2} }$|\n",
    "|`$ \\displaystyle{\\cos^2 x= \\frac{1+\\cos 2x}{2} }$`|$ \\displaystyle{\\cos^2 x= \\frac{1+\\cos 2x}{2} }$|\n",
    "|`$ \\displaystyle{\\tan^2 x= \\frac{1-\\cos 2x}{1+\\cos 2x} }$`|$ \\displaystyle{\\tan^2 x= \\frac{1-\\cos 2x}{1+\\cos 2x} }$|\n",
    "|`$ \\displaystyle{\\sin(3x)=3\\sin x - 4\\sin^3 x}$`|$ \\displaystyle{\\sin(3x)=3\\sin x - 4\\sin^3 x}$|\n",
    "|`$ \\displaystyle{\\cos(3x)=4\\cos^3 x - 3\\cos x}$`|$ \\displaystyle{\\cos(3x)=4\\cos^3 x - 3\\cos x}$|\n",
    "|`$ \\displaystyle{\\tan(3x)=\\frac{\\sin 3x}{\\cos 3x}  = \\frac{3\\tan x - \\tan^3 x}{1 - 3\\tan^2 x} }$`| $ \\displaystyle{\\tan(3x)=\\frac{\\sin 3x}{\\cos 3x}  = \\frac{3\\tan x - \\tan^3 x}{1 - 3\\tan^2 x} }$|\n",
    "|`$ \\displaystyle{\\sin^3 x=\\frac{3\\sin x - \\sin 3x}{4}}$`|$ \\displaystyle{\\sin^3 x=\\frac{3\\sin x - \\sin 3x}{4}}$|\n",
    "|`$ \\displaystyle{\\cos^3 x=\\frac{\\cos 3x - 3\\cos x}{4}}$`|$ \\displaystyle{\\cos^3 x=\\frac{\\cos 3x - 3\\cos x}{4}}$|\n",
    "|`$ \\displaystyle{\\tan^3 x=3\\tan x -\\tan(3x)( 1 - 3\\tan^2 x)}$`|$ \\displaystyle{\\tan^3 x=3\\tan x -\\tan(3x)( 1 - 3\\tan^2 x)}$|"
   ]
  },
  {
   "cell_type": "markdown",
   "id": "2de25b6d",
   "metadata": {},
   "source": [
    "the indefinite integral\n",
    "|    |   |\n",
    "|---|---|\n",
    "|`$\\displaystyle{\\int \\frac{1}{1+x^2} \\text{d}x=\\arctan x + C }$`|$\\displaystyle{\\int \\frac{1}{1+x^2} \\text{d}x=\\arctan x+C }$|"
   ]
  },
  {
   "cell_type": "markdown",
   "id": "f1825a6b",
   "metadata": {},
   "source": [
    "Gauss's Divergence Theorem                                                                                                   \n",
    "$\\qquad$is the flux of a vector field $\\mathbf{F}$ across a closed surface $S$ to the triple integral of the divergence of $\\mathbf{F}$ over the volume $V$ enclosed by $S$ :\n",
    "|    |   |\n",
    "|---|---|\n",
    "|`$\\displaystyle{\\iint_{S} \\mathbf{F} \\cdot d\\mathbf{S} = \\iiint_{V} (\\nabla \\cdot \\mathbf{F}) \\, dV}$`|$\\displaystyle{\\iint_{S} \\mathbf{F} \\cdot d\\mathbf{S} = \\iiint_{V} (\\nabla \\cdot \\mathbf{F}) \\, dV}$|"
   ]
  },
  {
   "cell_type": "markdown",
   "id": "f0568cc6",
   "metadata": {},
   "source": [
    "Strokes Theorem is the surface integral of the curl of a vector field over a surface $S$ to the line integral of the vector field over the boundary $\\partial S$ of the surface:\n",
    "\n",
    "|    |   |\n",
    "|---|---|\n",
    "|`$\\displaystyle\\oint_{\\partial S} \\mathbf{F} \\cdot d\\mathbf{r} = \\iint_{S} (\\nabla \\times \\mathbf{F}) \\cdot d\\mathbf{S}$`|$\\displaystyle\\oint_{\\partial S} \\mathbf{F} \\cdot d\\mathbf{r} = \\iint_{S} (\\nabla \\times \\mathbf{F}) \\cdot d\\mathbf{S}$|"
   ]
  },
  {
   "cell_type": "markdown",
   "id": "61a1ec9f",
   "metadata": {},
   "source": [
    "Green's Theorem is the surface integral of a vector field over closed surface to volume integral of its divergence\n",
    "|    |   |\n",
    "|---|---|\n",
    "|`$\\displaystyle{\\oint_c(Ldx+Mdy)=\\iint_D\\Big(\\frac{\\partial{M}}{\\partial{x}}-\\frac{\\partial{L}}{\\partial{y}}\\Big)dxdy}$`|$\\displaystyle{\\oint_c(Ldx+Mdy)=\\iint_D\\Big(\\frac{\\partial{M}}{\\partial{x}}-\\frac{\\partial{L}}{\\partial{y}}\\Big)dxdy}$|"
   ]
  },
  {
   "cell_type": "markdown",
   "id": "e9061568",
   "metadata": {},
   "source": [
    "the Prime Number Theorem\n",
    "|    |   |\n",
    "|---|---|\n",
    "|`$\\displaystyle{\\lim_{x \\to \\infty} \\frac{\\pi(x)}{\\frac{x}{\\log{x}}} = 1}$`|$\\displaystyle{\\lim_{x \\to \\infty} \\frac{\\pi(x)}{\\frac{x}{\\log{x}}} = 1}$|"
   ]
  },
  {
   "cell_type": "markdown",
   "id": "376e524f",
   "metadata": {},
   "source": [
    "the general formula for Taylor series\n",
    "|    |   |\n",
    "|---|---|\n",
    "|`$\\displaystyle{\\sum_{n=0}^{\\infty} \\frac{f^{(n)} (a)}{n!}(x-a)^n}$`|$\\displaystyle{\\sum_{n=0}^{\\infty} \\frac{f^{(n)} (a)}{n!}(x-a)^n}$|"
   ]
  },
  {
   "cell_type": "markdown",
   "id": "4aec09f4",
   "metadata": {},
   "source": [
    "the infinite product formula \n",
    "|    |   |\n",
    "|---|---|\n",
    "|`$\\displaystyle{\\sin(x)=x\\prod_{n=1}^\\infty \\Big(1-\\frac{x^2}{\\pi^2 n^2}\\Big)}$`|$\\displaystyle{\\sin(x)=x\\prod_{n=1}^\\infty \\Big(1-\\frac{x^2}{\\pi^2 n^2}\\Big)}$|"
   ]
  },
  {
   "cell_type": "markdown",
   "id": "9d690930",
   "metadata": {},
   "source": [
    "##  P.D.E.\n",
    "|   |   |   |\n",
    "|---|---|---|\n",
    "|Heat / Diffusion equation |`$\\frac{\\partial U}{\\partial t}=\\kappa\\nabla^2U$`|$\\displaystyle{\\frac{\\partial U}{\\partial t}=\\kappa\\nabla^2U}$|\n",
    "|Continuity Equation|`$\\frac{\\partial \\rho}{\\partial t} + \\nabla \\cdot (\\rho \\mathbf{u}) = 0$`|$\\displaystyle \\frac{\\partial \\rho}{\\partial t} + \\nabla \\cdot (\\rho \\mathbf{u}) = 0$|\n",
    "|Laplaces Equation|`$\\nabla^2 \\phi=0$`|$\\nabla^2 \\phi=0$|\n",
    "|Poisson's Equation |`$\\nabla^2 \\phi=f=4 \\pi G \\rho$`|$\\nabla^2 \\phi=f=4 \\pi G \\rho$|\n",
    "|Wave Equation|`$\\frac{\\partial^2 U}{\\partial t^2}=c^2\\nabla^2 U$`|$\\displaystyle{\\frac{\\partial^2 U}{\\partial t^2}=c^2\\nabla^2 U}$|\n",
    "|Helmholtz equation |`$\\nabla^2U + \\lambda^2U=0$`|$\\displaystyle{\\nabla^2U + \\lambda^2U=0}$|\n",
    "| Burgers equation  |`$\\frac{\\partial U}{\\partial t} + U\\nabla U = \\nu\\nabla^2U$`| $\\displaystyle{\\frac{\\partial U}{\\partial t} + U\\nabla U = \\nu\\nabla^2U}$   |\n",
    "| KDV equation      |`$\\frac{\\partial U}{\\partial t} + U\\nabla U = \\kappa\\nabla^3U$`| $\\displaystyle{\\frac{\\partial U}{\\partial t} + U\\nabla U = \\kappa\\nabla^3U}$   |\n",
    "| KPZ equation      | `$\\frac{\\partial U}{\\partial t} = \\frac{1}{2}(\\nabla U)^2 + \\nu\\nabla^2U$`| $\\displaystyle{\\frac{\\partial U}{\\partial t} = \\frac{1}{2}(\\nabla U)^2 + \\nu\\nabla^2U}$   |\n",
    "|Euler Equations (Inviscid Flow)| `$\\frac{\\partial \\mathbf{u}}{\\partial t} + (\\mathbf{u} \\cdot \\nabla) \\mathbf{u} = -\\frac{1}{\\rho}\\nabla p + \\mathbf{g}$`|$\\displaystyle \\frac{\\partial \\mathbf{u}}{\\partial t} + (\\mathbf{u} \\cdot \\nabla) \\mathbf{u} = -\\frac{1}{\\rho}\\nabla p + \\mathbf{g}$|\n",
    "|Navier-Stokes Equation for Incompressible Flow|`$\\frac{\\partial \\mathbf{u}}{\\partial{t}}+(\\mathbf{u}\\cdot\\nabla)\\mathbf{u}-\\upsilon\\nabla^2\\mathbf{u}=-\\nabla{w}+\\mathbf{g}$`|$\\displaystyle{\\frac{\\partial \\mathbf{u}}{\\partial{t}}+(\\mathbf{u}\\cdot\\nabla)\\mathbf{u}-\\upsilon\\nabla^2\\mathbf{u}=-\\nabla{w}+\\mathbf{g}}$|\n",
    "| Schrodinger equation | `$ E\\psi\\equiv\\underbrace{i\\hbar\\frac{\\partial\\psi}{\\partial t}}_{i\\hbar\\frac{\\partial}{\\partial t}\\lvert\\psi\\rangle}=\\underbrace{-\\frac{\\hbar^2}{2m}\\nabla^2\\psi + V\\psi}_{\\hat{H}\\lvert\\psi\\rangle}\\equiv\\hat{H}\\psi $` | $\\displaystyle{E\\psi\\equiv\\underbrace{i\\hbar\\frac{\\partial\\psi}{\\partial t}}_{i\\hbar\\frac{\\partial}{\\partial t}\\lvert\\psi\\rangle}=\\underbrace{-\\frac{\\hbar^2}{2m}\\nabla^2\\psi + V\\psi}_{\\hat{H}\\lvert\\psi\\rangle}\\equiv\\hat{H}\\psi}$|\n",
    "|Dirac Equation| `$(i\\gamma^\\mu \\partial_\\mu - m)\\psi = 0$`| $\\displaystyle (i\\gamma^\\mu \\partial_\\mu - m)\\psi = 0$|\n",
    "|Liouville Equation| `$\\frac{\\partial f}{\\partial t} + \\left\\{f, H\\right\\} = 0$`|$\\displaystyle \\frac{\\partial f}{\\partial t} +  \\left\\{f, H\\right\\}  = 0$|\n",
    "|Sine-Gordon Equation|`$\\frac{\\partial^2 \\phi}{\\partial t^2} - \\frac{\\partial^2 \\phi}{\\partial x^2} + \\sin\\phi = 0$`|$\\displaystyle \\frac{\\partial^2 \\phi}{\\partial t^2} - \\frac{\\partial^2 \\phi}{\\partial x^2} + \\sin\\phi = 0$|\n",
    "|Fokker–Planck Equation|`$\\frac{\\partial P}{\\partial t} = -\\nabla \\cdot (A P) + D \\nabla^2 P$`|$\\displaystyle \\frac{\\partial P}{\\partial t} = -\\nabla \\cdot (A P) + D \\nabla^2 P$|\n",
    "| Klein–Gordon equation |`$\\left(\\underbrace{\\frac{1}{c^2}\\frac{\\partial^2}{\\partial t^2}-\\nabla^2}_{\\equiv \\ \\mathop{\\Box}} + \\frac{m^2c^2}{\\hbar^2}\\right)\\phi = 0$`  | $\\displaystyle{\\left(\\underbrace{\\frac{1}{c^2}\\frac{\\partial^2}{\\partial t^2}-\\nabla^2}_{\\equiv \\ \\mathop{ \\Box }}+ \\frac{m^2c^2}{\\hbar^2}\\right)\\phi = 0 }$ |\n",
    "|Maxwell's equation |`$\\begin{aligned} \\vec{\\nabla} \\cdot \\vec{\\mathbf{E}} &= \\frac{\\rho}{\\varepsilon_{\\tiny 0}} \\\\ \\vec{\\nabla} \\cdot \\vec{\\mathbf{B}} &= 0 \\\\ \\vec{\\nabla} \\times \\vec{\\mathbf{E}} &= -\\frac{\\partial \\vec{\\mathbf{B}}}{\\partial t} \\\\ \\vec{\\nabla} \\times \\vec{\\mathbf{B}} &= \\mu_{\\tiny 0} \\vec{\\mathbf{J}} + \\mu_{\\tiny 0}\\varepsilon_{\\tiny 0} \\frac{\\partial \\vec{\\mathbf{E}}}{\\partial t} \\end{aligned}$`| $\\begin{aligned} \\vec{\\nabla} \\cdot \\vec{\\mathbf{E}} &= \\frac{\\rho}{\\varepsilon_{\\tiny 0}} \\\\ \\vec{\\nabla} \\cdot \\vec{\\mathbf{B}} &= 0 \\\\ \\vec{\\nabla} \\times \\vec{\\mathbf{E}} &= -\\frac{\\partial \\vec{\\mathbf{B}}}{\\partial t} \\\\ \\vec{\\nabla} \\times \\vec{\\mathbf{B}} &= \\mu_{\\tiny 0} \\vec{\\mathbf{J}} + \\mu_{\\tiny 0}\\varepsilon_{\\tiny 0} \\frac{\\partial \\vec{\\mathbf{E}}}{\\partial t} \\end{aligned}$|\n",
    "|Hamilton–Jacobi Equation|`$\\frac{\\partial S}{\\partial t} + H\\left(x, \\frac{\\partial S}{\\partial x}\\right) = 0$`|$\\displaystyle \\frac{\\partial S}{\\partial t} + H\\left(x, \\frac{\\partial S}{\\partial x}\\right) = 0$|\n",
    "|Einstein Field Equations|`$G_{\\mu\\nu} + \\Lambda g_{\\mu\\nu} = \\frac{8\\pi G}{c^4} T_{\\mu\\nu}$`|$G_{\\mu\\nu} + \\Lambda g_{\\mu\\nu} = \\frac{8\\pi G}{c^4} T_{\\mu\\nu}$|\n",
    "|Landau–Lifshitz Equation|`$\\frac{\\partial \\mathbf{M}}{\\partial t} = -\\gamma \\mathbf{M} \\times \\mathbf{H}_{\\text{eff}}$`|$\\displaystyle \\frac{\\partial \\mathbf{M}}{\\partial t} = -\\gamma \\mathbf{M} \\times \\mathbf{H}_{\\text{eff}}$|\n",
    "|Boltzmann Equation|`$\\frac{df}{dt} = \\left( \\frac{\\partial f}{\\partial t} \\right)_{\\text{coll}}$`|$\\displaystyle \\frac{df}{dt} = \\left( \\frac{\\partial f}{\\partial t} \\right)_{\\text{coll}}$|\n",
    "|Friedmann–Lemaître equations|` $\\frac{\\dot{a}^2}{a^2} = \\frac{8\\pi G}{3} \\rho - \\frac{k}{a^2} + \\frac{\\Lambda}{3}$` |$\\displaystyle \\frac{\\dot{a}^2}{a^2} = \\frac{8\\pi G}{3} \\rho - \\frac{k}{a^2} + \\frac{\\Lambda}{3}$|\n",
    "\n",
    "$\\begin{array}{|c|c|c|}\n",
    "\\hline\n",
    "\\textbf{Maxwell's Equation} & \\textbf{Differential Form} & \\textbf{Integral Form} \\\\\n",
    "\\hline\n",
    "\\text{Gauss's Law (Electric)} \n",
    "& \\displaystyle \\vec{\\nabla} \\cdot \\vec{E} = \\frac{\\rho}{\\varepsilon_0}\n",
    "& \\displaystyle \\oint_{\\partial V} \\vec{E} \\cdot d\\vec{A} = \\frac{Q_{\\text{enc}}}{\\varepsilon_0} \\\\\n",
    "\\hline\n",
    "\\text{Gauss's Law (Magnetic)} \n",
    "& \\displaystyle \\vec{\\nabla} \\cdot \\vec{B} = 0\n",
    "& \\displaystyle \\oint_{\\partial V} \\vec{B} \\cdot d\\vec{A} = 0 \\\\\n",
    "\\hline\n",
    "\\text{Faraday's Law of Induction} \n",
    "& \\displaystyle \\vec{\\nabla} \\times \\vec{E} = -\\frac{\\partial \\vec{B}}{\\partial t}\n",
    "& \\displaystyle \\oint_{\\partial S} \\vec{E} \\cdot d\\vec{l} = -\\frac{d}{dt} \\int_S \\vec{B} \\cdot d\\vec{A} \\\\\n",
    "\\hline\n",
    "\\text{Ampère's Law (with Maxwell's correction)} \n",
    "& \\displaystyle \\vec{\\nabla} \\times \\vec{B} = \\mu_0 \\vec{J} + \\mu_0 \\varepsilon_0 \\frac{\\partial \\vec{E}}{\\partial t}\n",
    "& \\displaystyle \\oint_{\\partial S} \\vec{B} \\cdot d\\vec{l} = \\mu_0 I_{\\text{enc}} + \\mu_0 \\varepsilon_0 \\frac{d}{dt} \\int_S \\vec{E} \\cdot d\\vec{A} \\\\\n",
    "\\hline\n",
    "\\end{array}$"
   ]
  },
  {
   "cell_type": "markdown",
   "id": "55d2ac2a",
   "metadata": {},
   "source": [
    "the tensor product\n",
    "|    |   |\n",
    "|---|---|\n",
    "|`$\\mathrm{Hom}(U\\otimes V,W)\\cong\\mathrm{Hom}(U,\\mathrm{Hom}(V,W))$`|$\\mathrm{Hom}(U\\otimes V,W)\\cong\\mathrm{Hom}(U,\\mathrm{Hom}(V,W))$|"
   ]
  },
  {
   "cell_type": "markdown",
   "id": "7ff55d53",
   "metadata": {},
   "source": [
    "the Laplace transform\n",
    "|    |   |\n",
    "|---|---|\n",
    "|`$\\displaystyle{\\mathscr{L}f(t)=F(s)=\\int_0^\\infty f(t)e^{-st}dt  }$`|$\\displaystyle{\\mathscr{L}f(t)=F(s)=\\int_0^\\infty f(t)e^{-st}dt  }$|"
   ]
  },
  {
   "cell_type": "markdown",
   "id": "7c2cfbe2",
   "metadata": {},
   "source": [
    "## DDP\n",
    "\n",
    "A damped, driven pendulum can be described by the equation of motion :\n",
    "\n",
    "|    |   |\n",
    "|---|---|\n",
    "|`$\\displaystyle\\ddot{\\theta}=-\\frac{g}{L}\\sin\\theta-\\alpha\\dot{\\theta}+\\beta\\cos\\left(\\omega t\\right)$`|$\\displaystyle\\ddot{\\theta}=-\\frac{g}{L}\\sin\\theta-\\alpha\\dot{\\theta}+\\beta\\cos\\left(\\omega t\\right)$|\n",
    "\n",
    "where we add a damping term $\\thicksim-\\dot{\\theta}$ and time-dependent forcing function by hand with constants $\\alpha$ and $\\beta$ setting the strength of these terms.                                                                          \n",
    "If we set \n",
    "|   |   |\n",
    "|---|---| \n",
    "|`$t = \\sqrt{L/g}s$`|$t = \\sqrt{L/g}s$|                                                                                          \n",
    "\n",
    "for dimensionless $s$, then\n",
    "\n",
    "|   |   |\n",
    "|---|---|\n",
    "|`$\\displaystyle\\frac{d^2\\theta}{ds^2}=-\\sin\\theta-\\underbrace{\\alpha\\sqrt{\\frac{L}{g}}}_{\\equiv\\text{ A}}\\dot{\\theta}+\\underbrace{\\beta\\frac{L}{g}}_{\\equiv\\text{ B}}\\cos\\left(\\omega \\sqrt{\\frac{\\mathrm{L}}{g}}s \\right)$`|$\\displaystyle{\\frac{d^2\\theta}{ds^2}=-\\sin\\theta-\\underbrace{\\alpha\\sqrt{\\frac{L}{g}}}_{\\equiv\\text{ A}}\\dot{\\theta}+\\underbrace{\\beta\\frac{L}{g}}_{\\equiv\\text{ B}}\\cos\\left(\\omega \\sqrt{\\frac{L}{g}}s \\right)}$|\n",
    "\n",
    "and define the dimensionless driving frequency \n",
    "|   |   |\n",
    "|---|---|\n",
    "|`$\\Omega \\equiv \\omega\\sqrt{\\frac{L}{g}}$ `|$\\Omega \\equiv \\omega\\sqrt{\\frac{L}{g}}$ |"
   ]
  },
  {
   "cell_type": "markdown",
   "id": "df93176d",
   "metadata": {},
   "source": [
    "## Matrix\n",
    "|    |   |   |\n",
    "|---|---|---|\n",
    "|Determinant of matrix 2D|`$\\displaystyle{\\begin{vmatrix} a & b  \\\\ c & d \\end{vmatrix}={ad-bc}}$` |$\\displaystyle{\\text{det} \\begin{bmatrix} a & b \\\\ c & d  \\end{bmatrix} =\\begin{vmatrix} a & b  \\\\ c & d \\end{vmatrix}= {ad-bc}}$|\n",
    "|3D |`$ \\displaystyle{ \\text{det} \\begin{bmatrix} a & b & c \\\\ d & e & f \\\\ g & h & i \\end{bmatrix} = a \\begin{vmatrix} e & f \\\\ h & i \\end{vmatrix} - b \\begin{vmatrix} d & f \\\\ g & i \\end{vmatrix} + c \\begin{vmatrix} d & e \\\\ g & h \\end{vmatrix} = a(ei - fh) - b(di - fg) + c(dh - eg) }$`|$ \\tiny\\displaystyle{ \\text{det} \\begin{bmatrix} a & b & c \\\\ d & e & f \\\\ g & h & i \\end{bmatrix} = \\begin{vmatrix} a & b & c \\\\ d & e & f \\\\ g & h & i \\end{vmatrix} = a \\begin{vmatrix} e & f \\\\ h & i \\end{vmatrix} - b \\begin{vmatrix} d & f \\\\ g & i \\end{vmatrix} + c \\begin{vmatrix} d & e \\\\ g & h \\end{vmatrix} = a(ei - fh) - b(di - fg) + c(dh - eg) }$|\n",
    "|Adjoint of a matrix  2D|`$\\displaystyle{\\mathrm{adj }\\begin{bmatrix} a & b  \\\\ c & d \\end{bmatrix}=\\begin{bmatrix} d & -c  \\\\ -b & a \\end{bmatrix}}$`| $\\displaystyle{\\mathrm{adj }\\begin{bmatrix} a & b  \\\\ c & d \\end{bmatrix}=\\begin{bmatrix} d & -c  \\\\ -b & a \\end{bmatrix}}$|\n",
    "|  3D | `$ \\displaystyle{ \\text{adj} \\ \\begin{bmatrix} a & b & c \\\\ d & e & f \\\\ g & h & i \\end{bmatrix} = \\begin{bmatrix} + \\begin{vmatrix} e & f \\\\ h & i \\end{vmatrix} & -\\begin{vmatrix} d & f \\\\ g & i \\end{vmatrix} & +\\begin{vmatrix} d & e \\\\ g & h \\end{vmatrix} \\\\[10pt]  -\\begin{vmatrix} b & c \\\\ h & i \\end{vmatrix} & +\\begin{vmatrix} a & c \\\\ g & i \\end{vmatrix} & -\\begin{vmatrix} a & b \\\\ g & h \\end{vmatrix} \\\\[10pt] +\\begin{vmatrix} b & c \\\\ e & f \\end{vmatrix} & -\\begin{vmatrix} a & c \\\\ d & f \\end{vmatrix} & +\\begin{vmatrix} a & b \\\\ d & e \\end{vmatrix} \\end{bmatrix} = \\begin{bmatrix}  ei - fh & -bi + ch & bf - ce \\\\ -di + fg & ai - cg & -af + cd \\\\ dh - eg & -ah + bg & ae - bd \\end{bmatrix} }$`|$ \\tiny\\displaystyle{ \\text{adj} \\ \\begin{bmatrix} a & b & c \\\\ d & e & f \\\\ g & h & i \\end{bmatrix} = \\begin{bmatrix} + \\begin{vmatrix} e & f \\\\ h & i \\end{vmatrix} & -\\begin{vmatrix} d & f \\\\ g & i \\end{vmatrix} & +\\begin{vmatrix} d & e \\\\ g & h \\end{vmatrix} \\\\[10pt]  -\\begin{vmatrix} b & c \\\\ h & i \\end{vmatrix} & +\\begin{vmatrix} a & c \\\\ g & i \\end{vmatrix} & -\\begin{vmatrix} a & b \\\\ g & h \\end{vmatrix} \\\\[10pt] +\\begin{vmatrix} b & c \\\\ e & f \\end{vmatrix} & -\\begin{vmatrix} a & c \\\\ d & f \\end{vmatrix} & +\\begin{vmatrix} a & b \\\\ d & e \\end{vmatrix} \\end{bmatrix} = \\begin{bmatrix}  ei - fh & -bi + ch & bf - ce \\\\ -di + fg & ai - cg & -af + cd \\\\ dh - eg & -ah + bg & ae - bd \\end{bmatrix} }$|\n",
    "|Inverse matrix formula 2D$\\mathrm{Inv} \\ A=\\frac{(\\mathrm{adj } \\ A)^T}{\\mathrm{det} \\ A}$|`$\\displaystyle{\\begin{bmatrix} a & b  \\\\ c & d \\end{bmatrix}^{-1}=\\frac{1}{ad-bc} \\begin{bmatrix} d & -b  \\\\ -c & a \\end{bmatrix}}$` |$\\displaystyle{\\begin{bmatrix} a & b  \\\\ c & d \\end{bmatrix}^{-1} =\\frac{1}{ad-bc} \\begin{bmatrix} d & -b  \\\\ -c & a \\end{bmatrix}}$|\n",
    "|3D |`$\\displaystyle{\\begin{bmatrix} a & b & c \\\\ d & e & f \\\\ g & h & i \\end{bmatrix}^{-1}=\\frac{1}{a(ei - fh) - b(di - fg) + c(dh - eg)} \\begin{bmatrix}  ei - fh & -di + fg & dh - eg \\\\  -bi + ch & ai - cg & -ah + bg \\\\   bf - ce & -af + cd & ae - bd \\end{bmatrix}}$`|$\\tiny\\displaystyle{\\begin{bmatrix} a & b & c \\\\ d & e & f \\\\ g & h & i \\end{bmatrix}^{-1}=\\frac{1}{a(ei - fh) - b(di - fg) + c(dh - eg)} \\begin{bmatrix}  ei - fh & -di + fg & dh - eg \\\\  -bi + ch & ai - cg & -ah + bg \\\\   bf - ce & -af + cd & ae - bd \\end{bmatrix}} $|\n",
    "|Transpose of a Matrix $A^T_{i,j}=A_{j,i}$| `$\\begin{bmatrix} a & b & c \\\\ d & e & f \\\\ g & h & i \\end{bmatrix}^T=\\begin{bmatrix} a & d & g \\\\ b & e & h \\\\ c & f & i \\end{bmatrix}$` | $\\begin{bmatrix} a & b & c \\\\ d & e & f \\\\ g & h & i \\end{bmatrix}^T=\\begin{bmatrix} a & d & g \\\\ b & e & h \\\\ c & f & i \\end{bmatrix}$ |"
   ]
  },
  {
   "cell_type": "markdown",
   "id": "cefa40c6",
   "metadata": {},
   "source": []
  }
 ],
 "metadata": {
  "kernelspec": {
   "display_name": "Python 3 (ipykernel)",
   "language": "python",
   "name": "python3"
  },
  "language_info": {
   "codemirror_mode": {
    "name": "ipython",
    "version": 3
   },
   "file_extension": ".py",
   "mimetype": "text/x-python",
   "name": "python",
   "nbconvert_exporter": "python",
   "pygments_lexer": "ipython3",
   "version": "3.11.0"
  }
 },
 "nbformat": 4,
 "nbformat_minor": 5
}
