{
 "cells": [
  {
   "cell_type": "markdown",
   "id": "294903b2-4d6f-47b2-9aba-4aa7678f6e6a",
   "metadata": {},
   "source": [
    "$\\begin{array}{|c|c|c|c|c|c|c|c|c|}\n",
    "\\hline\n",
    "\\textbf{Plan} & \\textbf{Period} & \\textbf{Prime Minister} & \\textbf{Target Growth} & \\textbf{Actual Growth} & \\textbf{Model Used} & \\textbf{Proposed By} & \\textbf{Objectives} & \\textbf{Deputy Chairman} \\\\\n",
    "\\hline\n",
    "\\text{1}^\\text{st} & \\text{1951-1956} & \\text{Jawaharlal Nehru} & \\text{2.1\\%} & \\text{3.6\\%} & \\text{Harrod-Domar} & \\text{K.N. Raj} & \\text{{\\bf{Agriculture}}, dams, irrigation, savings, IITs} & \\text{G.L. Mehta (1951--1953), V.T. Krishnamachari (1953--1960)} \\\\\n",
    "\\hline\n",
    "\\text{2}^\\text{nd} & \\text{1956-1961} & \\text{Jawaharlal Nehru} & \\text{4.5\\%} & \\text{4.27\\%} & \\text{Mahalanobis} & \\text{P.C. Mahalanobis} & \\text{{\\bf{Rapid industrialisation }}, public sector growth} & \\text{V.T. Krishnamachari} \\\\\n",
    "\\hline\n",
    "\\text{3}^\\text{rd} & \\text{1961-1966} & \\text{Nehru / Shastri} & \\text{5.6\\%} & \\text{2.4\\%} & - & \\text{Chakravarty, Prof. Saddy} & \\text{{\\bf{Agriculture }}, wheat production, Panchayati Raj} & \\text{V.T. Krishnamachari (till 1967)} \\\\\n",
    "\\hline\n",
    "\\text{Plan Holidays} & \\text{1966-1969} & \\text{Indira Gandhi} & - & - & - & - & \\text{Wars, drought, inflation (crisis management priority)} & \\text{D.R. Gadgil} \\\\\n",
    "\\hline\n",
    "\\text{4}^\\text{th} & \\text{1969-1974} & \\text{Indira Gandhi} & \\text{5.6\\%} & \\text{3.3\\%} & \\text{Gadgil} & \\text{Rudra, Alon Manney} & \\text{Stability, nationalisation, Green Revolution, {\\bf{poverty }}} & \\text{D.P. Dhar (1970--1971), P.N. Haksar (1971--1973), D.T. Lakdawala (1973--1975)} \\\\\n",
    "\\hline\n",
    "\\text{5}^\\text{th} & \\text{1974-1978} & \\text{Indira Gandhi} & \\text{4.4\\%} & \\text{4.8\\%} & \\text{Investment} & \\text{D.P. Dhar} & \\text{Employment, Garibi Hatao, power, NH, {\\bf{poverty alleviation }}} & \\text{D.P. Dhar} \\\\\n",
    "\\hline\n",
    "\\text{Rolling Plan} & \\text{1978-1980} & \\text{Morarji Desai} & \\text{Annual} & - & - & - & \\text{Flexible planning, political instability, {\\bf{stabilisation}}} & \\text{Rakesh Mohan} \\\\\n",
    "\\hline\n",
    "\\text{6}^\\text{th} & \\text{1980-1985} & \\text{Indira Gandhi} & \\text{5.2\\%} & \\text{5.7\\%} & - & - & \\text{End of socialism, NABARD, family planning,{\\bf{ agriculture productivity}}} & \\text{Manubhai Shah / C. Subramaniam} \\\\\n",
    "\\hline\n",
    "\\text{7}^\\text{th} & \\text{1985-1990} & \\text{Rajiv Gandhi} & \\text{5.0\\%} & \\text{6.01\\%} & \\text{Productivity} & \\text{Pranab Mukherjee} & \\text{{\\bf{Technology}}, food grain, social justice} & \\text{Dr. Manmohan Singh} \\\\\n",
    "\\hline\n",
    "\\text{Annual Plans} & \\text{1990-1992} & \\text{V.P. Singh / Chandra Shekhar} & - & - & - & - & \\text{BoP crisis, LPG reforms, {\\bf{stabilisation }}} & \\text{Dr. Manmohan Singh} \\\\\n",
    "\\hline\n",
    "\\text{8}^\\text{th} & \\text{1992-1997} & \\text{P.V. Narasimha Rao} & \\text{5.6\\%} & \\text{6.8\\%} & \\text{John W. Miller} & \\text{John W. Miller} & \\text{LPG reforms, HR, infrastructure, WTO, {\\bf{services}}} & \\text{Dr. Pranab Mukherjee} \\\\\n",
    "\\hline\n",
    "\\text{9}^\\text{th} & \\text{1997-2002} & \\text{A.B. Vajpayee} & \\text{7.1\\%} & \\text{6.8\\%} & - & - & \\text{Poverty, women empowerment, HDI, {\\bf{social development}}} & \\text{Dr. Bhalchandra Mungekar} \\\\\n",
    "\\hline\n",
    "\\text{10}^\\text{th} & \\text{2002-2007} & \\text{A.B. Vajpayee} & \\text{8.1\\%} & \\text{7.6\\%} & - & - & \\text{Inclusive growth, employment, poverty, {\\bf{inclusiveness}}} & \\text{Dr. K.C. Pant} \\\\\n",
    "\\hline\n",
    "\\text{11}^\\text{th} & \\text{2007-2012} & \\text{Manmohan Singh} & \\text{9.0\\%} & \\text{8.0\\%} & - & \\text{C. Rangarajan} & \\text{Inclusive growth, RTE, water access, {\\bf{human development}}} & \\text{Dr. Montek S. Ahluwalia} \\\\\n",
    "\\hline\n",
    "\\text{12}^\\text{th} & \\text{2012-2017} & \\text{Manmohan Singh} & \\text{9.0\\%} \\rightarrow \\text{8.0\\%} & \\sim\\text{7\\%} & - & \\text{Montek S. Ahluwalia} & \\text{Sustainable, inclusive growth, electricity to all, {\\bf{sustainability}}} & \\text{Dr. Montek S. Ahluwalia} \\\\\n",
    "\\hline\n",
    "\\end{array}$\n"
   ]
  },
  {
   "cell_type": "markdown",
   "id": "cdf0ec99-7c40-40ea-a756-d5059aea206c",
   "metadata": {},
   "source": [
    "\n",
    "## Jain Tīrthaṅkaras: \n",
    "\n",
    "| No. | Name                    | Birthplace                    | Father            | Mother                | Symbol         |\n",
    "| --- | ----------------------- | ----------------------------- | ----------------- | --------------------- | -------------- |\n",
    "| 1   | Rishabhanatha           | Ayodhya                       | Nabhi             | Marudevi              | Bull           |\n",
    "| 2   | Ajitnath                | Ayodhya                       | Jitasatru         | Vijaya                | Elephant       |\n",
    "| 3   | Sambhavanatha           | Shravasti                     | Jitari            | Susena (Sena)         | Horse          |\n",
    "| 4   | Abhinandananatha        | Ayodhya                       | Samvar (Sanvara)  | Siddhartha            | Monkey         |\n",
    "| 5   | Sumatinatha             | Ayodhya                       | Meghaprabha       | Sumangala             | Heron/Goose    |\n",
    "| 6   | Padmaprabh              | Kausambhi                     | Dharana (Sidhara) | Susima                | Lotus          |\n",
    "| 7   | Suparshvanath           | Varanasi (Kasi)               | Supratishtha      | Prithvi               | Swastika       |\n",
    "| 8   | Chandraprabh            | Chandrapuri                   | Mahasena          | Lakshmana             | Moon           |\n",
    "| 9   | Suvidhinath/Pushpadanta | Kakandi                       | Sugriva           | Rama (Supriya)        | Crocodile      |\n",
    "| 10  | Shitalnath              | Bhadrikapuri                  | Dridharatha       | Sunanda               | Shrivatsa      |\n",
    "| 11  | Shreyansanath           | Simhapuri                     | Vishnu            | Vishnudri             | Rhinoceros     |\n",
    "| 12  | Vasupujya               | Champapuri                    | Vasupujya         | Jaya (Vijaya)         | Buffalo        |\n",
    "| 13  | Vimalnath               | Kampilya                      | Kritavarman       | Shyama (Suramya)      | Boar           |\n",
    "| 14  | Anantanath              | Ayodhya                       | Simhasena         | Suyasha               | Porcupine/Bear |\n",
    "| 15  | Dharmanath              | Ratnapuri                     | Bhanu             | Suvrata               | Vajra          |\n",
    "| 16  | Shantinath              | Hastinapur                    | Vishvasena        | Acira (Acalādevī)     | Deer           |\n",
    "| 17  | Kunthunath              | Hastinapur                    | Sura (Surasen)    | Shridevi              | Goat           |\n",
    "| 18  | Aranath                 | Hastinapur                    | Sudarshana        | Devi Rani (Mitra)     | Fish           |\n",
    "| 19  | Mallinath               | Mithila                       | Kumbha            | Rakshita (Prajnavati) | Kalasha (pot)  |\n",
    "| 20  | Munisuvrata             | Kusagranagara                 | Sumitra           | Padmavati             | Tortoise       |\n",
    "| 21  | Naminatha               | Mithilapuri                   | Vijaya            | Vipra (Vapra)         | Blue Lotus     |\n",
    "| 22  | Neminatha               | Śaurīpura (Dvāṝkā)            | Samudravijaya     | Shivadevi             | Conch          |\n",
    "| 23  | Parshvanatha            | Varanasi (Kasi)               | Ashvasena         | Vamadevi              | Snake          |\n",
    "| 24  | Mahāvīra (Vardhamana)   | Kshatriyakund (near Vaishali) | Siddhartha        | Trishala              | Lion           |\n",
    "\n"
   ]
  },
  {
   "cell_type": "code",
   "execution_count": null,
   "id": "48beafee-d3a6-4f87-a69d-1a7345fe622b",
   "metadata": {},
   "outputs": [],
   "source": []
  }
 ],
 "metadata": {
  "kernelspec": {
   "display_name": "Python 3 (ipykernel)",
   "language": "python",
   "name": "python3"
  },
  "language_info": {
   "codemirror_mode": {
    "name": "ipython",
    "version": 3
   },
   "file_extension": ".py",
   "mimetype": "text/x-python",
   "name": "python",
   "nbconvert_exporter": "python",
   "pygments_lexer": "ipython3",
   "version": "3.11.0"
  }
 },
 "nbformat": 4,
 "nbformat_minor": 5
}
