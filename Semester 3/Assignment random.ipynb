{
 "cells": [
  {
   "cell_type": "markdown",
   "id": "c1912adf",
   "metadata": {},
   "source": [
    "Q1. Write a program to generate a sequence of toss of 10 fair coins (p (H )=0.5 ). Run this program 5 times and show that the sequences are different."
   ]
  },
  {
   "cell_type": "code",
   "execution_count": 3,
   "id": "1b569b9c",
   "metadata": {},
   "outputs": [
    {
     "name": "stdout",
     "output_type": "stream",
     "text": [
      "sequence 1 : \n",
      " [0.58712379 0.30409307 0.20305942 0.10135822 0.38930444 0.36482461\n",
      " 0.62790323 0.90334555 0.12147892 0.12963613]\n",
      "sequence 2 : \n",
      " [0.66085883 0.52266373 0.23322944 0.87939409 0.66942163 0.2767357\n",
      " 0.93962816 0.55688799 0.98736488 0.17255588]\n",
      "sequence 3 : \n",
      " [0.8670421  0.65237114 0.01227007 0.86748108 0.51088571 0.1639314\n",
      " 0.46615577 0.17095341 0.99814282 0.32352458]\n",
      "sequence 4 : \n",
      " [0.96112009 0.10437818 0.7606301  0.24667761 0.25470472 0.24788932\n",
      " 0.25860434 0.87053525 0.96450146 0.21493408]\n",
      "sequence 5 : \n",
      " [0.00658621 0.900517   0.75707511 0.98504048 0.06347917 0.18642188\n",
      " 0.96507546 0.76293526 0.98171232 0.78550365]\n"
     ]
    }
   ],
   "source": [
    "import numpy as np\n",
    "from random import randint\n",
    "n=5\n",
    "for i in range(n):\n",
    "    P=np.random.random(10)\n",
    "    print(\"sequence %i :\"%(i+1),'\\n',P)"
   ]
  },
  {
   "cell_type": "markdown",
   "id": "b73cc929",
   "metadata": {},
   "source": [
    "Q 2. Generate a sequence of toss of 100,000 tosses of fair coin. Assign 1 if it is a head, and assign 0 if it is a tail. Calculate the mean and the variance. Compare these with theoretical values."
   ]
  },
  {
   "cell_type": "code",
   "execution_count": 12,
   "id": "f6aea414",
   "metadata": {},
   "outputs": [
    {
     "name": "stdout",
     "output_type": "stream",
     "text": [
      "Heads : 49886\n",
      "Tails : 50114\n",
      "Probability of Heads : 0.49886\n",
      "Mean Value of heads : 0.49886\n",
      "Variance : 0.2499987004\n"
     ]
    }
   ],
   "source": [
    "import numpy as np\n",
    "from random import randint\n",
    "H,T=0,0\n",
    "N=100000\n",
    "for i in range (N):\n",
    "    result=randint(0,1)\n",
    "    if result==1:\n",
    "        H += 1\n",
    "    else:\n",
    "        T += 1\n",
    "p=(H/N)\n",
    "M=1*p\n",
    "V=(p-M**2)\n",
    "print(\"Heads :\",H)\n",
    "print (\"Tails :\",T)\n",
    "print (\"Probability of Heads :\",p)\n",
    "print (\"Mean Value of heads :\",M)\n",
    "print (\"Variance :\",V)"
   ]
  },
  {
   "cell_type": "code",
   "execution_count": 13,
   "id": "7357c859",
   "metadata": {},
   "outputs": [
    {
     "name": "stdout",
     "output_type": "stream",
     "text": [
      "0.5027\n",
      "50270\n",
      "Mean Value of heads : 0.5027\n",
      "Variance : 0.24999271\n",
      "theoritical variance : 0.2499927100000001\n",
      "theoritical mean : 0.5027\n"
     ]
    }
   ],
   "source": [
    "import statistics\n",
    "n=100000\n",
    "p=np.random.choice(2,n)\n",
    "d=sum(p)\n",
    "p1=d/n\n",
    "print(p1)\n",
    "M=1*p1\n",
    "V=(p1-M**2)\n",
    "print(d)\n",
    "print (\"Mean Value of heads :\",M) \n",
    "print (\"Variance :\",V)\n",
    "print('theoritical variance :',np.var(p))\n",
    "print('theoritical mean :',np.average(p))"
   ]
  },
  {
   "cell_type": "markdown",
   "id": "2d840528",
   "metadata": {},
   "source": [
    "Q3. Generate a sequence of toss of 100,000 tosses of deffective coin ( p(H )=0.8 ). Assign 1 if it is a head, and assign 0 if it is a tail.\n",
    "\n",
    "Calculate the mean and the variance. Compare these with theoretical values."
   ]
  },
  {
   "cell_type": "code",
   "execution_count": 14,
   "id": "f5b1baf0",
   "metadata": {},
   "outputs": [
    {
     "name": "stdout",
     "output_type": "stream",
     "text": [
      "Head: 79896 | Tail 20104\n",
      "Probability of Heads : 0.79896\n",
      "Mean Value of heads : 0.79896\n",
      "Variance : 0.16062291839999998\n",
      "theoritical mean 0.4786915156695064\n"
     ]
    }
   ],
   "source": [
    "from random import random\n",
    "import numpy as np\n",
    "H=0\n",
    "T=0\n",
    "k=[]\n",
    "n=[]\n",
    "for i in range(100000):\n",
    "    #result=randint(0,1)\n",
    "    #print (result)\n",
    "\n",
    "    value=np.random.random()\n",
    "    #n.append(value)\n",
    "    #print(value)\n",
    "    if value<=0.8:\n",
    "        k.append(value)\n",
    "        H+=1\n",
    "    else:\n",
    "        T+=1\n",
    "#print(k)\n",
    "#n1=[j*j for j in n]\n",
    "#print(j)\n",
    "#avg=np.average(n)\n",
    "#avg1=np.average(n1)\n",
    "\n",
    "#print(avg,avg1)\n",
    "print('Head:',H,'|','Tail',T)\n",
    "p=(H/N)\n",
    "print (\"Probability of Heads :\",p)\n",
    "M=1*p\n",
    "print (\"Mean Value of heads :\",M)\n",
    "V=(p-M**2)\n",
    "#v1=avg1-avg**2\n",
    "print (\"Variance :\",V)\n",
    "#print('theo variance :',v1)\n",
    "#print('theoritical variance',np.var(value))\n",
    "print('theoritical mean',np.average(value))"
   ]
  },
  {
   "cell_type": "code",
   "execution_count": 15,
   "id": "d61d7628",
   "metadata": {},
   "outputs": [
    {
     "name": "stdout",
     "output_type": "stream",
     "text": [
      "[0, 1, 1, 1, 1, 1, 0, 1, 1, 1]\n",
      "Teoritical_mean=  0.8 \n",
      "Teoritical_variance=  0.16000000000000003\n",
      "8\n",
      "Mean Value of heads= 0.8\n",
      "Variance =  0.15999999999999992\n"
     ]
    }
   ],
   "source": [
    "import numpy as np\n",
    "p=0.8\n",
    "n=10\n",
    "K=[]\n",
    "for i in range(n):\n",
    "    if np.random.random() <=p:     #head 1, tail 0\n",
    "        K.append(1)\n",
    "    else:\n",
    "        K.append(0)\n",
    "print(K)\n",
    "mean=np.average(K)\n",
    "variance=np.var(K)\n",
    "print('Teoritical_mean= ',mean,'\\nTeoritical_variance= ',variance)\n",
    "\n",
    "d=sum(K)\n",
    "print(d)\n",
    "p1=d/n\n",
    "p1\n",
    "M=1*p1\n",
    "print (\"Mean Value of heads=\",M)\n",
    "V=(p1-M**2)\n",
    "print (\"Variance = \",V)\n",
    "        "
   ]
  },
  {
   "cell_type": "markdown",
   "id": "ad3c248d",
   "metadata": {},
   "source": [
    "Q4. 20 fair coins are tossed – this is an event – count total number of heads in that event.\n",
    "\n",
    "Let that number be denoted as $\\eta_H$.Repeat This event 1 million times. Measure $\\eta_H$ each time.\n",
    "\n",
    "Determine the count of each value of $\\eta_H$ (which can have 21 possible values (0 to 20)).\n",
    "\n",
    "Divide the counts by the total number of toss. Plot these relative frequencies against the values of $\\eta_H$.\n",
    "\n",
    "Superpose the binomial probability distribution p(r)=${}^{20} C_r(\\frac{1}{2})^20$. \n",
    "\n",
    "You have to write you own function for combination. Use of factorial is strictly prohibited."
   ]
  },
  {
   "cell_type": "code",
   "execution_count": 3,
   "id": "a0051bb3",
   "metadata": {},
   "outputs": [
    {
     "data": {
      "text/plain": [
       "{1: 23,\n",
       " 2: 183,\n",
       " 3: 1067,\n",
       " 4: 4559,\n",
       " 5: 14642,\n",
       " 6: 36974,\n",
       " 7: 74320,\n",
       " 8: 120289,\n",
       " 9: 160200,\n",
       " 10: 176264,\n",
       " 11: 160250,\n",
       " 12: 119737,\n",
       " 13: 73683,\n",
       " 14: 36902,\n",
       " 15: 15031,\n",
       " 16: 4571,\n",
       " 17: 1078,\n",
       " 18: 207,\n",
       " 19: 18,\n",
       " 20: 2}"
      ]
     },
     "execution_count": 3,
     "metadata": {},
     "output_type": "execute_result"
    }
   ],
   "source": [
    "import numpy as np\n",
    "import matplotlib.pyplot as plt\n",
    "from random import randint\n",
    "#n=10\n",
    "nh=[]\n",
    "N=1000000\n",
    "for i in range (N):\n",
    "    p=np.random.choice(2,20)\n",
    "    #print(p)\n",
    "    #d=sum(p)\n",
    "    #print(d)\n",
    "    nh.append(sum(p))\n",
    "#print(nh )           \n",
    "nh1=set(nh) \n",
    "F={v:nh.count(v) for v in nh1}\n",
    "F\n",
    "#c=plt.hist(nh,bins=21) \n",
    "#plt.show()"
   ]
  },
  {
   "cell_type": "code",
   "execution_count": 18,
   "id": "74aa464c",
   "metadata": {},
   "outputs": [
    {
     "data": {
      "image/png": "[encoded data removed]",
      "text/plain": [
       "<Figure size 432x288 with 1 Axes>"
      ]
     },
     "metadata": {
      "needs_background": "light"
     },
     "output_type": "display_data"
    }
   ],
   "source": [
    "value = list(F.keys()) \n",
    "frequency = list(F.values())\n",
    "plt.bar(range(len(F)), frequency, tick_label=value) \n",
    "plt.show()"
   ]
  },
  {
   "cell_type": "code",
   "execution_count": 19,
   "id": "5bf6df46",
   "metadata": {},
   "outputs": [
    {
     "data": {
      "image/png": "[encoded data removed]",
      "text/plain": [
       "<Figure size 432x288 with 1 Axes>"
      ]
     },
     "metadata": {
      "needs_background": "light"
     },
     "output_type": "display_data"
    }
   ],
   "source": [
    "probability=(1/N)*np.array(frequency)\n",
    "plt.plot(value,probability)\n",
    "plt.show()"
   ]
  },
  {
   "cell_type": "code",
   "execution_count": 22,
   "id": "01fe7b83",
   "metadata": {},
   "outputs": [
    {
     "data": {
      "image/png": "[encoded data removed]",
      "text/plain": [
       "<Figure size 432x288 with 1 Axes>"
      ]
     },
     "metadata": {
      "needs_background": "light"
     },
     "output_type": "display_data"
    }
   ],
   "source": [
    "from scipy.stats import binom\n",
    "n = 20\n",
    "p = 0.5\n",
    "# defining the list of r values\n",
    "r_values = list(range(n + 1))\n",
    "# obtaining the mean and variance \n",
    "mean, var = binom.stats(n, p)\n",
    "# list of pmf values\n",
    "dist = [binom.pmf(r, n, p) for r in r_values ]\n",
    "\n",
    "plt.plot(r_values,dist,'r-')\n",
    "plt.plot(value,probability,'k--')\n",
    "plt.legend(['binomial','regorous method'])\n",
    "plt.show()"
   ]
  },
  {
   "cell_type": "code",
   "execution_count": null,
   "id": "a6c63cf9",
   "metadata": {},
   "outputs": [],
   "source": []
  }
 ],
 "metadata": {
  "kernelspec": {
   "display_name": "Python 3 (ipykernel)",
   "language": "python",
   "name": "python3"
  },
  "language_info": {
   "codemirror_mode": {
    "name": "ipython",
    "version": 3
   },
   "file_extension": ".py",
   "mimetype": "text/x-python",
   "name": "python",
   "nbconvert_exporter": "python",
   "pygments_lexer": "ipython3",
   "version": "3.9.12"
  }
 },
 "nbformat": 4,
 "nbformat_minor": 5
}
