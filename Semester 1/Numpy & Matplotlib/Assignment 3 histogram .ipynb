{
 "cells": [
  {
   "cell_type": "markdown",
   "id": "79697c24",
   "metadata": {},
   "source": [
    "### 1. Run the following code:                        \n",
    "`import numpy as np \n",
    " X=10+30*np.random.rand(1000) \n",
    " Y=X**2+2 `\n",
    "    \n",
    "### 2. Repeat Q no 1 with after running the following code\n",
    "`import numpy as np\n",
    " X=10+30*np.random.rand(1000)\n",
    " Y=np.exp(-3/X)`\n",
    "      \n",
    "##### Find the histogram of the array Y. Find mean, median from the above histogram. Compare them with direct statistics calculation.  "
   ]
  },
  {
   "cell_type": "code",
   "execution_count": 1,
   "id": "dfaa1a28",
   "metadata": {},
   "outputs": [],
   "source": [
    "import numpy as np\n",
    "import matplotlib.pyplot as plt\n",
    "x=10+30*np.random.rand(1000)"
   ]
  },
  {
   "cell_type": "markdown",
   "id": "523d3e49",
   "metadata": {},
   "source": [
    "storing the generated random numbers in a seperate box so that while evaluating 'y' the value of 'x' doesn't change"
   ]
  },
  {
   "cell_type": "code",
   "execution_count": 2,
   "id": "afb46856",
   "metadata": {},
   "outputs": [
    {
     "data": {
      "image/png": "[encoded data removed]",
      "text/plain": [
       "<Figure size 432x288 with 1 Axes>"
      ]
     },
     "metadata": {
      "needs_background": "light"
     },
     "output_type": "display_data"
    },
    {
     "name": "stdout",
     "output_type": "stream",
     "text": [
      "calculated mean : 698.4657637370041 \tactual mean : 698.2557791978295\n",
      "calculated median : 633.076803799049 \tactual median : 632.6149663611714\n"
     ]
    }
   ],
   "source": [
    "y1=x**2+2\n",
    "mx=max(y1)\n",
    "mi=min(y1)\n",
    "mx=mx+mx*0.00001\n",
    "n=20              #  intervals or boxes\n",
    "h=(mx-mi)/n\n",
    "p=[(mi+i*h) for i in range(n+1)]\n",
    "pr=[0 for i in range(n)]\n",
    "for i in y1:\n",
    "    k=int((i-mi)/h)\n",
    "    pr[k]+=1  \n",
    "plt.bar([(i) for i in range(n)], pr, h)\n",
    "plt.show()\n",
    "r=list(zip(p,p[1:]))\n",
    "mn=sum([pr[i]*(r[i][0]+r[i][1])/2 for i in range(len(pr))])/sum(pr)\n",
    "print('calculated mean :',mn,'\\tactual mean :',np.mean(y1))\n",
    "\n",
    "c=0\n",
    "l=0\n",
    "rp=sum(pr)/2\n",
    "while c<rp:\n",
    "    if c+pr[l]>rp:\n",
    "        break\n",
    "    c+=pr[l]\n",
    "    l+=1\n",
    "mdn=r[l][0]+((rp-c)*h)/pr[l]\n",
    "print('calculated median :',mdn,'\\tactual median :',np.median(y1))"
   ]
  },
  {
   "cell_type": "code",
   "execution_count": 3,
   "id": "e8d42183",
   "metadata": {},
   "outputs": [
    {
     "data": {
      "image/png": "[encoded data removed]",
      "text/plain": [
       "<Figure size 432x288 with 1 Axes>"
      ]
     },
     "metadata": {
      "needs_background": "light"
     },
     "output_type": "display_data"
    },
    {
     "name": "stdout",
     "output_type": "stream",
     "text": [
      "calculated mean : 0.8705876829982003 \tactual mean : 0.8706992392026316\n",
      "calculated median : 0.8872395864636007 \tactual median : 0.8873953226458327\n"
     ]
    }
   ],
   "source": [
    "y2=np.exp(-3/x)\n",
    "mx=max(y2)\n",
    "mi=min(y2)\n",
    "mx=mx+mx*0.00001\n",
    "n=30              #  intervals\n",
    "h=(mx-mi)/n\n",
    "p=[(mi+i*h) for i in range(n+1)]\n",
    "pr=[0 for i in range(n)]\n",
    "for i in y2:\n",
    "    k=int((i-mi)/h)\n",
    "    pr[k]+=1  \n",
    "plt.bar([(i) for i in range(n)], pr)\n",
    "plt.show()\n",
    "r=list(zip(p,p[1:]))\n",
    "mn=sum([pr[i]*(r[i][0]+r[i][1])/2 for i in range(len(pr))])/sum(pr)\n",
    "print('calculated mean :',mn,'\\tactual mean :',np.mean(y2))\n",
    "\n",
    "c=0\n",
    "l=0\n",
    "rp=sum(pr)/2\n",
    "while c<rp:\n",
    "    if c+pr[l]>rp:\n",
    "        break\n",
    "    c+=pr[l]\n",
    "    l+=1\n",
    "mdn=r[l][0]+((rp-c)*h)/pr[l]\n",
    "print('calculated median :',mdn,'\\tactual median :',np.median(y2))"
   ]
  },
  {
   "cell_type": "markdown",
   "id": "c10d74a8",
   "metadata": {},
   "source": [
    "### 3. Read the data h.txt uploaded in the class room. Find the histogram with 10 and 20 bins. \n",
    "#### Find also mean, median from the above histogram. Compare them with direct statistics calculation."
   ]
  },
  {
   "cell_type": "code",
   "execution_count": 2,
   "id": "fb62215a",
   "metadata": {},
   "outputs": [
    {
     "data": {
      "image/png": "[encoded data removed]",
      "text/plain": [
       "<Figure size 432x288 with 1 Axes>"
      ]
     },
     "metadata": {
      "needs_background": "light"
     },
     "output_type": "display_data"
    },
    {
     "name": "stdout",
     "output_type": "stream",
     "text": [
      "calculated mean : 5.243561286399999 \tactual mean : 5.25907\n",
      "calculated median : 5.159058367999999 \tactual median : 5.175000000000001\n"
     ]
    }
   ],
   "source": [
    "import numpy as np\n",
    "import matplotlib.pyplot as plt\n",
    "y3=np.loadtxt('h.txt')\n",
    "mx=max(y3)\n",
    "mi=min(y3)\n",
    "mx=mx+mx*0.00001\n",
    "n=10              #  intervals or boxes=10\n",
    "h=(mx-mi)/n\n",
    "p=[(mi+i*h) for i in range(n+1)]\n",
    "pr=[0 for i in range(n)]\n",
    "for i in y3:\n",
    "    k=int((i-mi)/h)\n",
    "    pr[k]+=1  \n",
    "plt.bar([(i) for i in range(n)], pr)\n",
    "plt.show()\n",
    "r=list(zip(p,p[1:]))\n",
    "mn=sum([pr[i]*(r[i][0]+r[i][1])/2 for i in range(len(pr))])/sum(pr)\n",
    "print('calculated mean :',mn,'\\tactual mean :',np.mean(y3))\n",
    "\n",
    "c=0\n",
    "l=0\n",
    "rp=sum(pr)/2\n",
    "while c<rp:\n",
    "    if c+pr[l]>rp:\n",
    "        break\n",
    "    c+=pr[l]\n",
    "    l+=1\n",
    "mdn=r[l][0]+((rp-c)*h)/pr[l]\n",
    "print('calculated median :',mdn,'\\tactual median :',np.median(y3))"
   ]
  },
  {
   "cell_type": "code",
   "execution_count": 5,
   "id": "f1821890",
   "metadata": {},
   "outputs": [
    {
     "data": {
      "image/png": "[encoded data removed]",
      "text/plain": [
       "<Figure size 432x288 with 1 Axes>"
      ]
     },
     "metadata": {
      "needs_background": "light"
     },
     "output_type": "display_data"
    },
    {
     "name": "stdout",
     "output_type": "stream",
     "text": [
      "calculated mean : 5.2534639721500005 \tactual mean : 5.25907\n",
      "calculated median : 5.211872691999999 \tactual median : 5.175000000000001\n"
     ]
    }
   ],
   "source": [
    "import numpy as np\n",
    "import matplotlib.pyplot as plt\n",
    "y3=np.loadtxt('h.txt')\n",
    "mx=max(y3)\n",
    "mi=min(y3)\n",
    "mx=mx+mx*0.00001\n",
    "n=20              #  intervals or boxes=20\n",
    "h=(mx-mi)/n\n",
    "p=[(mi+i*h) for i in range(n+1)]\n",
    "pr=[0 for i in range(n)]\n",
    "for i in y3:\n",
    "    k=int((i-mi)/h)\n",
    "    pr[k]+=1  \n",
    "plt.bar([(i) for i in range(n)], pr)\n",
    "plt.show()\n",
    "r=list(zip(p,p[1:]))\n",
    "mn=sum([pr[i]*(r[i][0]+r[i][1])/2 for i in range(len(pr))])/sum(pr)\n",
    "print('calculated mean :',mn,'\\tactual mean :',np.mean(y3))\n",
    "\n",
    "c=0\n",
    "l=0\n",
    "rp=sum(pr)/2\n",
    "while c<rp:\n",
    "    if c+pr[l]>rp:\n",
    "        break\n",
    "    c+=pr[l]\n",
    "    l+=1\n",
    "mdn=r[l][0]+((rp-c)*h)/pr[l]\n",
    "print('calculated median :',mdn,'\\tactual median :',np.median(y3))"
   ]
  },
  {
   "cell_type": "code",
   "execution_count": 3,
   "id": "38e277ca",
   "metadata": {},
   "outputs": [
    {
     "data": {
      "image/png": "[encoded data removed]",
      "text/plain": [
       "<Figure size 432x288 with 1 Axes>"
      ]
     },
     "metadata": {
      "needs_background": "light"
     },
     "output_type": "display_data"
    },
    {
     "name": "stdout",
     "output_type": "stream",
     "text": [
      "calculated mean : 5.252803793100001 \tactual mean : 5.25907\n",
      "calculated median : 5.18546553 \t\tactual median : 5.175000000000001\n"
     ]
    }
   ],
   "source": [
    "import numpy as np\n",
    "import matplotlib.pyplot as plt\n",
    "y3=np.loadtxt('h.txt')\n",
    "mx=max(y3)\n",
    "mi=min(y3)\n",
    "mx=mx+mx*0.00001\n",
    "n=30              #  intervals or boxes=20\n",
    "h=(mx-mi)/n\n",
    "p=[(mi+i*h) for i in range(n+1)]\n",
    "pr=[0 for i in range(n)]\n",
    "for i in y3:\n",
    "    k=int((i-mi)/h)\n",
    "    pr[k]+=1  \n",
    "plt.bar([(i) for i in range(n)], pr)\n",
    "plt.show()\n",
    "\n",
    "r=list(zip(p,p[1:]))\n",
    "mn=sum([pr[i]*(r[i][0]+r[i][1])/2 for i in range(len(pr))])/sum(pr)\n",
    "print('calculated mean :',mn,'\\tactual mean :',np.mean(y3))\n",
    "\n",
    "c=0\n",
    "l=0\n",
    "rp=sum(pr)/2\n",
    "while c<rp:\n",
    "    if c+pr[l]>rp:\n",
    "        break\n",
    "    c+=pr[l]\n",
    "    l+=1\n",
    "mdn=r[l][0]+((rp-c)*h)/pr[l]\n",
    "print('calculated median :',mdn,'\\t\\tactual median :',np.median(y3))"
   ]
  }
 ],
 "metadata": {
  "kernelspec": {
   "display_name": "Python 3 (ipykernel)",
   "language": "python",
   "name": "python3"
  },
  "language_info": {
   "codemirror_mode": {
    "name": "ipython",
    "version": 3
   },
   "file_extension": ".py",
   "mimetype": "text/x-python",
   "name": "python",
   "nbconvert_exporter": "python",
   "pygments_lexer": "ipython3",
   "version": "3.9.12"
  }
 },
 "nbformat": 4,
 "nbformat_minor": 5
}
