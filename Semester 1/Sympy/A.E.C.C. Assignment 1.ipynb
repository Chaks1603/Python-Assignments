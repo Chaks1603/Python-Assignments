{
 "cells": [
  {
   "cell_type": "markdown",
   "id": "6d85c966",
   "metadata": {},
   "source": [
    "1. Express $4P_4(x)-2P_3(x)+P_2(x)$ as a function of $x$. \n",
    "    When $P_n(x)$ is the Legendre Polunomial of order $n$."
   ]
  },
  {
   "cell_type": "code",
   "execution_count": 1,
   "id": "41c15d2a",
   "metadata": {},
   "outputs": [
    {
     "data": {
      "text/latex": [
       "$\\displaystyle \\frac{35 x^{4}}{2} - 5 x^{3} - \\frac{27 x^{2}}{2} + 3 x + 1$"
      ],
      "text/plain": [
       "35*x**4/2 - 5*x**3 - 27*x**2/2 + 3*x + 1"
      ]
     },
     "execution_count": 1,
     "metadata": {},
     "output_type": "execute_result"
    }
   ],
   "source": [
    "from sympy import legendre, expand\n",
    "from sympy.abc import x\n",
    "p2=legendre(2, x)\n",
    "p3=legendre(3, x)\n",
    "p4=legendre(4, x)\n",
    "expand(4*p4-2*p3+p2)"
   ]
  },
  {
   "cell_type": "markdown",
   "id": "c6bf5379",
   "metadata": {},
   "source": [
    "2. Find out the series expansion of $\\large \\frac{1}{sin(x)-cos(x)}$ upto 7th power of $x$. "
   ]
  },
  {
   "cell_type": "code",
   "execution_count": 2,
   "id": "3fe2753a",
   "metadata": {},
   "outputs": [
    {
     "data": {
      "text/latex": [
       "$\\displaystyle - \\frac{24611 x^{7}}{5040} - \\frac{307 x^{6}}{80} - \\frac{361 x^{5}}{120} - \\frac{19 x^{4}}{8} - \\frac{11 x^{3}}{6} - \\frac{3 x^{2}}{2} - x - 1$"
      ],
      "text/plain": [
       "-24611*x**7/5040 - 307*x**6/80 - 361*x**5/120 - 19*x**4/8 - 11*x**3/6 - 3*x**2/2 - x - 1"
      ]
     },
     "execution_count": 2,
     "metadata": {},
     "output_type": "execute_result"
    }
   ],
   "source": [
    "from sympy import *\n",
    "from sympy.abc import x\n",
    "series((1/(sin(x) - cos(x))),x,0,8).removeO()"
   ]
  },
  {
   "cell_type": "markdown",
   "id": "4a8d5343",
   "metadata": {},
   "source": [
    "3.Find the second derivative of $P_n(x)$."
   ]
  },
  {
   "cell_type": "code",
   "execution_count": 3,
   "id": "031695ca",
   "metadata": {},
   "outputs": [
    {
     "data": {
      "text/latex": [
       "$\\displaystyle - \\frac{2 n x \\left(x P_{n}\\left(x\\right) - P_{n - 1}\\left(x\\right)\\right)}{\\left(x^{2} - 1\\right)^{2}} + \\frac{n \\left(\\frac{n x \\left(x P_{n}\\left(x\\right) - P_{n - 1}\\left(x\\right)\\right)}{x^{2} - 1} - \\frac{\\left(n - 1\\right) \\left(x P_{n - 1}\\left(x\\right) - P_{n - 2}\\left(x\\right)\\right)}{x^{2} - 1} + P_{n}\\left(x\\right)\\right)}{x^{2} - 1}$"
      ],
      "text/plain": [
       "-2*n*x*(x*legendre(n, x) - legendre(n - 1, x))/(x**2 - 1)**2 + n*(n*x*(x*legendre(n, x) - legendre(n - 1, x))/(x**2 - 1) - (n - 1)*(x*legendre(n - 1, x) - legendre(n - 2, x))/(x**2 - 1) + legendre(n, x))/(x**2 - 1)"
      ]
     },
     "execution_count": 3,
     "metadata": {},
     "output_type": "execute_result"
    }
   ],
   "source": [
    "from sympy import legendre, diff\n",
    "from sympy.abc import x, n\n",
    "diff(diff(legendre(n,x), x),x)"
   ]
  },
  {
   "cell_type": "markdown",
   "id": "43571064",
   "metadata": {},
   "source": [
    "4. Use rewrite() method (google it out) to express $\\sin x \\cos 3x$ as a linear combination of $e^{ikx}$ for different values of $k$."
   ]
  },
  {
   "cell_type": "code",
   "execution_count": 4,
   "id": "f0a2314f",
   "metadata": {},
   "outputs": [
    {
     "data": {
      "text/latex": [
       "$\\displaystyle - \\frac{i \\left(e^{i x} - e^{- i x}\\right) \\left(\\frac{e^{3 i x}}{2} + \\frac{e^{- 3 i x}}{2}\\right)}{2}$"
      ],
      "text/plain": [
       "-I*(exp(I*x) - exp(-I*x))*(exp(3*I*x)/2 + exp(-3*I*x)/2)/2"
      ]
     },
     "execution_count": 4,
     "metadata": {},
     "output_type": "execute_result"
    }
   ],
   "source": [
    "from sympy import *\n",
    "exp(I*x).expand(complex=True)\n",
    "(sin(x)*cos(3*x)).rewrite(exp)"
   ]
  },
  {
   "cell_type": "markdown",
   "id": "72ccbe48",
   "metadata": {},
   "source": [
    " 5.Find out $\\lim_{x \\rightarrow 0} x\\cot x$"
   ]
  },
  {
   "cell_type": "code",
   "execution_count": 5,
   "id": "deb98897",
   "metadata": {},
   "outputs": [
    {
     "data": {
      "text/latex": [
       "$\\displaystyle 1$"
      ],
      "text/plain": [
       "1"
      ]
     },
     "execution_count": 5,
     "metadata": {},
     "output_type": "execute_result"
    }
   ],
   "source": [
    "from sympy import *\n",
    "from sympy.abc import x\n",
    "limit((x*cot(x)),x,0)"
   ]
  },
  {
   "cell_type": "markdown",
   "id": "a7e08178",
   "metadata": {},
   "source": [
    "6. Find the maxima of the function $e^{-x^2}H_2(x)$ by equating the derivative to zero.\n",
    "   $H_n(x)$ is the Hermite polynominal of order n. Check"
   ]
  },
  {
   "cell_type": "code",
   "execution_count": 5,
   "id": "a357aa29",
   "metadata": {},
   "outputs": [
    {
     "name": "stdout",
     "output_type": "stream",
     "text": [
      "Maxima:\n"
     ]
    },
    {
     "data": {
      "text/latex": [
       "$\\displaystyle -1.22474487139159$"
      ],
      "text/plain": [
       "-1.22474487139159"
      ]
     },
     "metadata": {},
     "output_type": "display_data"
    },
    {
     "data": {
      "image/png": "[encoded data removed]",
      "text/plain": [
       "<Figure size 432x288 with 1 Axes>"
      ]
     },
     "metadata": {
      "needs_background": "light"
     },
     "output_type": "display_data"
    },
    {
     "name": "stdout",
     "output_type": "stream",
     "text": [
      "Maxima:\n"
     ]
    },
    {
     "data": {
      "text/latex": [
       "$\\displaystyle 1.22474487139159$"
      ],
      "text/plain": [
       "1.22474487139159"
      ]
     },
     "metadata": {},
     "output_type": "display_data"
    },
    {
     "data": {
      "image/png": "[encoded data removed]",
      "text/plain": [
       "<Figure size 432x288 with 1 Axes>"
      ]
     },
     "metadata": {
      "needs_background": "light"
     },
     "output_type": "display_data"
    }
   ],
   "source": [
    "from sympy import *\n",
    "from sympy.abc import x\n",
    "from sympy.plotting import plot_parametric\n",
    "H2=exp(-x**2)*hermite(2, x)\n",
    "p=solve((diff(H2,x)),x)\n",
    "f2=diff(H2,x,2)\n",
    "for i in (p):\n",
    "    fn=f2.subs(x,i)\n",
    "    if fn < 0:\n",
    "        print(\"Maxima:\")\n",
    "        display(N(i))                \n",
    "        plot_parametric((x,H2),(i,x),(x, -3, 3),)        "
   ]
  },
  {
   "cell_type": "markdown",
   "id": "fc1bd9d6",
   "metadata": {},
   "source": [
    "7. If $ {\\large \\psi} (x) = Ne^{-\\frac{x^2}{2}}H_3(x)$, then normalize $\\psi (x)$"
   ]
  },
  {
   "cell_type": "code",
   "execution_count": 7,
   "id": "7c822f1f",
   "metadata": {},
   "outputs": [
    {
     "name": "stdout",
     "output_type": "stream",
     "text": [
      "normalization(N):\n"
     ]
    },
    {
     "data": {
      "text/latex": [
       "$\\displaystyle \\frac{\\sqrt{3} \\left(8 x^{3} - 12 x\\right) e^{- \\frac{x^{2}}{2}}}{12 \\sqrt[4]{\\pi}}$"
      ],
      "text/plain": [
       "sqrt(3)*(8*x**3 - 12*x)*exp(-x**2/2)/(12*pi**(1/4))"
      ]
     },
     "execution_count": 7,
     "metadata": {},
     "output_type": "execute_result"
    }
   ],
   "source": [
    "from sympy.abc import x,N\n",
    "from sympy import exp,pi,hermite,integrate,oo\n",
    "psi=exp(-x*x/2)*hermite(3,x)\n",
    "I=integrate(psi*psi,(x, -oo, oo))\n",
    "N=1/(sqrt(I))*psi\n",
    "print(\"normalization(N):\")\n",
    "N"
   ]
  },
  {
   "cell_type": "markdown",
   "id": "7113e431",
   "metadata": {},
   "source": [
    "8. Assuming first Bohr radius ${\\large{a}}_0 = 1,$ the $2'$s state wave function is given by $$\\psi_{2s}(r,\\theta,\\phi) = \\frac{1}{4\\sqrt{2\\pi}} (2-r) e^{-\\frac{r}{2}}$$\n",
    "\n",
    "Plot the wave function as a function of $r$. Find the ratio of the probabilities of finding the electron in \n",
    "either side of the radial node (the value of $r$  where $\\psi=0$)."
   ]
  },
  {
   "cell_type": "code",
   "execution_count": 1,
   "id": "55f9fbaf",
   "metadata": {},
   "outputs": [
    {
     "data": {
      "image/png": "[encoded data removed]",
      "text/plain": [
       "<Figure size 1296x432 with 2 Axes>"
      ]
     },
     "metadata": {
      "needs_background": "light"
     },
     "output_type": "display_data"
    },
    {
     "name": "stdout",
     "output_type": "stream",
     "text": [
      "the ratio of the probabilities of finding the electron in either side of the radial node is :  0.0555794427043785\n"
     ]
    }
   ],
   "source": [
    "from sympy.abc import r\n",
    "from sympy import *\n",
    "from sympy.plotting import plot,PlotGrid\n",
    "a=(exp(-r/2)*(2-r)*(1/((16*2*pi)**0.5)))\n",
    "r1=solve((a),r)\n",
    "Fa=integrate(((r**2)*(a**2)),(r,r1,oo))\n",
    "Fb=integrate(((r**2)*(a**2)),(r,0,r1))\n",
    "Ff=Fb/Fa\n",
    "s1=plot(a,(r,0,30),legend=True,label='f(r) at $a_0$=1',show=False)\n",
    "s2=plot((4*pi*r*r*a*a),(r,0,30),legend=True,label='probability distribution',show=False)\n",
    "PlotGrid(1,2,s1,s2,size=(18,6))\n",
    "print(\"the ratio of the probabilities of finding the electron in either side of the radial node is : \",N(Ff))"
   ]
  },
  {
   "cell_type": "markdown",
   "id": "afdd46e6",
   "metadata": {},
   "source": [
    " 9. Find the numerical values of the coordinates of points of intersection of two circles, both of radius 2 unit, but centers at (0,0) and (1,1).\n"
   ]
  },
  {
   "cell_type": "code",
   "execution_count": 4,
   "id": "b4d29d24",
   "metadata": {},
   "outputs": [
    {
     "data": {
      "text/plain": [
       "[Point2D(1/2 - sqrt(7)/2, 1/2 + sqrt(7)/2),\n",
       " Point2D(1/2 + sqrt(7)/2, 1/2 - sqrt(7)/2)]"
      ]
     },
     "metadata": {},
     "output_type": "display_data"
    },
    {
     "data": {
      "text/latex": [
       "$\\displaystyle Point2D\\left(-0.82, 1.8\\right)$"
      ],
      "text/plain": [
       "Point2D(-0.82, 1.8)"
      ]
     },
     "metadata": {},
     "output_type": "display_data"
    },
    {
     "data": {
      "text/latex": [
       "$\\displaystyle Point2D\\left(1.8, -0.82\\right)$"
      ],
      "text/plain": [
       "Point2D(1.8, -0.82)"
      ]
     },
     "metadata": {},
     "output_type": "display_data"
    }
   ],
   "source": [
    "from sympy import *\n",
    "p1=Circle(Point2D(0,0),2)\n",
    "p2=Circle(Point2D(1,1),2)\n",
    "d=intersection(p1,p2)\n",
    "display(d)\n",
    "for i in (d):\n",
    "    display(N(i,2))"
   ]
  },
  {
   "cell_type": "markdown",
   "id": "0f57daa7",
   "metadata": {},
   "source": [
    "10.Find the determinant and eigenvalues and eigenvectors of the matrix :$$\\begin{bmatrix} x^2 & xy  \\\\ xy & y^3 \\end{bmatrix}\\quad$$\n",
    "\n",
    " Also find the numerical values of the eigenvalues at ($x,y$ )= ($1,2$) "
   ]
  },
  {
   "cell_type": "code",
   "execution_count": 43,
   "id": "80ffc80e",
   "metadata": {},
   "outputs": [],
   "source": [
    "from sympy import Matrix\n",
    "from sympy.abc import x,y\n",
    "from sympy import *"
   ]
  },
  {
   "cell_type": "code",
   "execution_count": 47,
   "id": "1b0499cc",
   "metadata": {},
   "outputs": [
    {
     "data": {
      "text/latex": [
       "$\\displaystyle \\left[\\begin{matrix}1 & 2\\\\2 & 8\\end{matrix}\\right]$"
      ],
      "text/plain": [
       "Matrix([\n",
       "[1, 2],\n",
       "[2, 8]])"
      ]
     },
     "execution_count": 47,
     "metadata": {},
     "output_type": "execute_result"
    }
   ],
   "source": [
    "M=Matrix([[x*x, x*y],[x*y, y*y*y]])\n",
    "M"
   ]
  },
  {
   "cell_type": "code",
   "execution_count": 45,
   "id": "c2427912",
   "metadata": {},
   "outputs": [
    {
     "name": "stdout",
     "output_type": "stream",
     "text": [
      "determinant :\n"
     ]
    },
    {
     "data": {
      "text/latex": [
       "$\\displaystyle x^{2} y^{3} - x^{2} y^{2}$"
      ],
      "text/plain": [
       "x**2*y**3 - x**2*y**2"
      ]
     },
     "metadata": {},
     "output_type": "display_data"
    },
    {
     "name": "stdout",
     "output_type": "stream",
     "text": [
      "eigenvalues :\n"
     ]
    },
    {
     "data": {
      "text/latex": [
       "$\\displaystyle \\frac{x^{2}}{2} + \\frac{y^{3}}{2} - \\frac{\\sqrt{x^{4} - 2 x^{2} y^{3} + 4 x^{2} y^{2} + y^{6}}}{2}$"
      ],
      "text/plain": [
       "x**2/2 + y**3/2 - sqrt(x**4 - 2*x**2*y**3 + 4*x**2*y**2 + y**6)/2"
      ]
     },
     "metadata": {},
     "output_type": "display_data"
    },
    {
     "data": {
      "text/latex": [
       "$\\displaystyle \\frac{x^{2}}{2} + \\frac{y^{3}}{2} + \\frac{\\sqrt{x^{4} - 2 x^{2} y^{3} + 4 x^{2} y^{2} + y^{6}}}{2}$"
      ],
      "text/plain": [
       "x**2/2 + y**3/2 + sqrt(x**4 - 2*x**2*y**3 + 4*x**2*y**2 + y**6)/2"
      ]
     },
     "metadata": {},
     "output_type": "display_data"
    },
    {
     "name": "stdout",
     "output_type": "stream",
     "text": [
      "eigenvectors :\n"
     ]
    },
    {
     "data": {
      "text/plain": [
       "(x**2/2 + y**3/2 - sqrt(x**4 - 2*x**2*y**3 + 4*x**2*y**2 + y**6)/2,\n",
       " 1,\n",
       " [Matrix([\n",
       "  [-y**2/x + (x**2/2 + y**3/2 - sqrt(x**4 - 2*x**2*y**3 + 4*x**2*y**2 + y**6)/2)/(x*y)],\n",
       "  [                                                                                  1]])])"
      ]
     },
     "metadata": {},
     "output_type": "display_data"
    },
    {
     "data": {
      "text/plain": [
       "(x**2/2 + y**3/2 + sqrt(x**4 - 2*x**2*y**3 + 4*x**2*y**2 + y**6)/2,\n",
       " 1,\n",
       " [Matrix([\n",
       "  [-y**2/x + (x**2/2 + y**3/2 + sqrt(x**4 - 2*x**2*y**3 + 4*x**2*y**2 + y**6)/2)/(x*y)],\n",
       "  [                                                                                  1]])])"
      ]
     },
     "metadata": {},
     "output_type": "display_data"
    }
   ],
   "source": [
    "print('determinant :')\n",
    "display(M.det())\n",
    "\n",
    "print('eigenvalues :')\n",
    "display(*M.eigenvals())\n",
    "\n",
    "print('eigenvectors :')\n",
    "display(*M.eigenvects())"
   ]
  },
  {
   "cell_type": "code",
   "execution_count": 46,
   "id": "656bea0f",
   "metadata": {},
   "outputs": [],
   "source": [
    "x,y=1,2"
   ]
  },
  {
   "cell_type": "code",
   "execution_count": 52,
   "id": "c1d0a34d",
   "metadata": {},
   "outputs": [
    {
     "data": {
      "text/latex": [
       "$\\displaystyle \\frac{9}{2} - \\frac{\\sqrt{65}}{2}$"
      ],
      "text/plain": [
       "9/2 - sqrt(65)/2"
      ]
     },
     "metadata": {},
     "output_type": "display_data"
    },
    {
     "data": {
      "text/latex": [
       "$\\displaystyle \\frac{\\sqrt{65}}{2} + \\frac{9}{2}$"
      ],
      "text/plain": [
       "sqrt(65)/2 + 9/2"
      ]
     },
     "metadata": {},
     "output_type": "display_data"
    }
   ],
   "source": [
    "display(*M.eigenvals())"
   ]
  },
  {
   "cell_type": "markdown",
   "id": "869d6b58",
   "metadata": {},
   "source": [
    "---------------------------------------------------------------------------------------------------------------------------------"
   ]
  }
 ],
 "metadata": {
  "kernelspec": {
   "display_name": "Python 3 (ipykernel)",
   "language": "python",
   "name": "python3"
  },
  "language_info": {
   "codemirror_mode": {
    "name": "ipython",
    "version": 3
   },
   "file_extension": ".py",
   "mimetype": "text/x-python",
   "name": "python",
   "nbconvert_exporter": "python",
   "pygments_lexer": "ipython3",
   "version": "3.9.7"
  }
 },
 "nbformat": 4,
 "nbformat_minor": 5
}
