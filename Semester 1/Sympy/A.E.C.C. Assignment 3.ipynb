{
 "cells": [
  {
   "cell_type": "markdown",
   "id": "ca6f8348",
   "metadata": {},
   "source": [
    "### find  \n",
    "     \n",
    "     a)the general solution, and\n",
    "     b) particular solution corresponding to the given initial condition (using ics option), and\n",
    "     c) plot the particular solution for an appropriate interval for each of the following problems.\n",
    "\n",
    "## 1. $ \\frac{d x}{d t} + 5xt =0 \\qquad x(0)=\\pi $"
   ]
  },
  {
   "cell_type": "code",
   "execution_count": 1,
   "id": "e646e1b4",
   "metadata": {},
   "outputs": [
    {
     "data": {
      "text/latex": [
       "$\\displaystyle \\frac{d}{d t} x{\\left(t \\right)} = - 5 t x{\\left(t \\right)}$"
      ],
      "text/plain": [
       "Eq(Derivative(x(t), t), -5*t*x(t))"
      ]
     },
     "metadata": {},
     "output_type": "display_data"
    },
    {
     "name": "stdout",
     "output_type": "stream",
     "text": [
      "\n",
      " general soln. :\n"
     ]
    },
    {
     "data": {
      "text/latex": [
       "$\\displaystyle x{\\left(t \\right)} = C_{1} e^{- \\frac{5 t^{2}}{2}}$"
      ],
      "text/plain": [
       "Eq(x(t), C1*exp(-5*t**2/2))"
      ]
     },
     "metadata": {},
     "output_type": "display_data"
    },
    {
     "name": "stdout",
     "output_type": "stream",
     "text": [
      "\n",
      " particular soln. :\n",
      "\n"
     ]
    },
    {
     "data": {
      "text/latex": [
       "$\\displaystyle x{\\left(t \\right)} = \\pi e^{- \\frac{5 t^{2}}{2}}$"
      ],
      "text/plain": [
       "Eq(x(t), pi*exp(-5*t**2/2))"
      ]
     },
     "metadata": {},
     "output_type": "display_data"
    },
    {
     "data": {
      "image/png": "[encoded data removed]",
      "text/plain": [
       "<Figure size 432x288 with 1 Axes>"
      ]
     },
     "metadata": {
      "needs_background": "light"
     },
     "output_type": "display_data"
    },
    {
     "data": {
      "text/plain": [
       "<sympy.plotting.plot.Plot at 0x1627223feb0>"
      ]
     },
     "execution_count": 1,
     "metadata": {},
     "output_type": "execute_result"
    }
   ],
   "source": [
    "from sympy import *\n",
    "t=symbols('t',real=True)\n",
    "x=Function('x')(t)\n",
    "dxdt=x.diff(t)\n",
    "eq1=Eq(dxdt,-5*x*t)\n",
    "display(eq1)\n",
    "s11=dsolve(eq1)\n",
    "print('\\n general soln. :')\n",
    "display(s11)\n",
    "s12=dsolve(eq1, ics={x.subs(t,0):pi})\n",
    "print('\\n particular soln. :\\n')\n",
    "display(s12)\n",
    "plot(s12.rhs,(t,-2,2))"
   ]
  },
  {
   "cell_type": "markdown",
   "id": "2c49e28a",
   "metadata": {},
   "source": [
    "---------------------------------------------------------------------------------------------------------------------------"
   ]
  },
  {
   "cell_type": "markdown",
   "id": "5ce81154",
   "metadata": {},
   "source": [
    "## 2. $ \\frac{d x}{d t} = x - x^2 \\qquad x(0)=\\frac{1}{4}$"
   ]
  },
  {
   "cell_type": "code",
   "execution_count": 2,
   "id": "9556a43f",
   "metadata": {},
   "outputs": [
    {
     "data": {
      "text/latex": [
       "$\\displaystyle \\frac{d}{d t} x{\\left(t \\right)} = - x^{2}{\\left(t \\right)} + x{\\left(t \\right)}$"
      ],
      "text/plain": [
       "Eq(Derivative(x(t), t), -x(t)**2 + x(t))"
      ]
     },
     "metadata": {},
     "output_type": "display_data"
    },
    {
     "name": "stdout",
     "output_type": "stream",
     "text": [
      "\n",
      " general soln. :\n",
      "\n"
     ]
    },
    {
     "data": {
      "text/latex": [
       "$\\displaystyle x{\\left(t \\right)} = \\frac{1}{C_{1} e^{- t} + 1}$"
      ],
      "text/plain": [
       "Eq(x(t), 1/(C1*exp(-t) + 1))"
      ]
     },
     "metadata": {},
     "output_type": "display_data"
    },
    {
     "name": "stdout",
     "output_type": "stream",
     "text": [
      "\n",
      " particular soln. :\n",
      "\n"
     ]
    },
    {
     "data": {
      "text/latex": [
       "$\\displaystyle x{\\left(t \\right)} = \\frac{1}{1 + 3.0 e^{- t}}$"
      ],
      "text/plain": [
       "Eq(x(t), 1/(1 + 3.0*exp(-t)))"
      ]
     },
     "metadata": {},
     "output_type": "display_data"
    },
    {
     "data": {
      "image/png": "[encoded data removed]",
      "text/plain": [
       "<Figure size 432x288 with 1 Axes>"
      ]
     },
     "metadata": {
      "needs_background": "light"
     },
     "output_type": "display_data"
    },
    {
     "data": {
      "text/plain": [
       "<sympy.plotting.plot.Plot at 0x162732ffe80>"
      ]
     },
     "execution_count": 2,
     "metadata": {},
     "output_type": "execute_result"
    }
   ],
   "source": [
    "from sympy import *\n",
    "t=symbols('t',real=True)\n",
    "x=Function('x')(t)\n",
    "dxdt=x.diff(t)\n",
    "eq2=Eq(dxdt,(x-x**2))\n",
    "display(eq2)\n",
    "s21=dsolve(eq2)\n",
    "print('\\n general soln. :\\n')\n",
    "display(s21)\n",
    "s22=dsolve(eq2, ics={x.subs(t,0):(1/4)})\n",
    "print('\\n particular soln. :\\n')\n",
    "display(s22)\n",
    "plot(s22.rhs,(t,0,6),axis_center= (0,0.25))"
   ]
  },
  {
   "cell_type": "markdown",
   "id": "2a88c9b7",
   "metadata": {},
   "source": [
    "---------------------------------------------------------------------------------------------------------------------------"
   ]
  },
  {
   "cell_type": "markdown",
   "id": "96a7821a",
   "metadata": {},
   "source": [
    "## 3. $ \\frac{d x}{d t} = (4t + x)^2 \\qquad x(0)=1$"
   ]
  },
  {
   "cell_type": "code",
   "execution_count": 3,
   "id": "42a690e1",
   "metadata": {},
   "outputs": [
    {
     "data": {
      "text/latex": [
       "$\\displaystyle \\frac{d}{d t} x{\\left(t \\right)} = \\left(4 t + x{\\left(t \\right)}\\right)^{2}$"
      ],
      "text/plain": [
       "Eq(Derivative(x(t), t), (4*t + x(t))**2)"
      ]
     },
     "metadata": {},
     "output_type": "display_data"
    },
    {
     "name": "stdout",
     "output_type": "stream",
     "text": [
      "\n",
      " general soln. :\n",
      "\n"
     ]
    },
    {
     "data": {
      "text/latex": [
       "$\\displaystyle x{\\left(t \\right)} = \\frac{t^{3} \\left(C_{1}^{2} \\left(3 C_{1}^{2} + 4\\right) + 12 C_{1}^{2} + 16\\right)}{3} + \\frac{t^{5} \\left(8 C_{1}^{2} \\left(3 C_{1}^{2} + 8\\right) + 4 C_{1}^{2} \\left(9 C_{1}^{2} + 8\\right) + C_{1}^{2} \\left(2 C_{1}^{2} \\left(3 C_{1}^{2} + 8\\right) + C_{1}^{2} \\left(9 C_{1}^{2} + 8\\right) + 36 C_{1}^{2} + 32\\right) + 144 C_{1}^{2} + 128\\right)}{15} + C_{1} + C_{1} t^{2} \\left(C_{1}^{2} + 4\\right) + \\frac{C_{1} t^{4} \\left(C_{1}^{2} \\left(3 C_{1}^{2} + 8\\right) + 12 C_{1}^{2} + 32\\right)}{3} + C_{1}^{2} t + O\\left(t^{6}\\right)$"
      ],
      "text/plain": [
       "Eq(x(t), t**3*(C1**2*(3*C1**2 + 4) + 12*C1**2 + 16)/3 + t**5*(8*C1**2*(3*C1**2 + 8) + 4*C1**2*(9*C1**2 + 8) + C1**2*(2*C1**2*(3*C1**2 + 8) + C1**2*(9*C1**2 + 8) + 36*C1**2 + 32) + 144*C1**2 + 128)/15 + C1 + C1*t**2*(C1**2 + 4) + C1*t**4*(C1**2*(3*C1**2 + 8) + 12*C1**2 + 32)/3 + C1**2*t + O(t**6))"
      ]
     },
     "metadata": {},
     "output_type": "display_data"
    },
    {
     "name": "stdout",
     "output_type": "stream",
     "text": [
      "\n",
      " particular soln. :\n",
      "\n"
     ]
    },
    {
     "data": {
      "text/latex": [
       "$\\displaystyle x{\\left(t \\right)} = 1 + t + 5 t^{2} + \\frac{35 t^{3}}{3} + \\frac{55 t^{4}}{3} + \\frac{107 t^{5}}{3} + O\\left(t^{6}\\right)$"
      ],
      "text/plain": [
       "Eq(x(t), 1 + t + 5*t**2 + 35*t**3/3 + 55*t**4/3 + 107*t**5/3 + O(t**6))"
      ]
     },
     "metadata": {},
     "output_type": "display_data"
    },
    {
     "data": {
      "image/png": "[encoded data removed]",
      "text/plain": [
       "<Figure size 432x288 with 1 Axes>"
      ]
     },
     "metadata": {
      "needs_background": "light"
     },
     "output_type": "display_data"
    },
    {
     "data": {
      "text/plain": [
       "<sympy.plotting.plot.Plot at 0x22a1749a550>"
      ]
     },
     "execution_count": 3,
     "metadata": {},
     "output_type": "execute_result"
    }
   ],
   "source": [
    "from sympy import *\n",
    "t=symbols('t',real=True)\n",
    "x=Function('x')(t)\n",
    "dxdt=x.diff(t)\n",
    "eq3=Eq(dxdt,((4*t+x)**2))\n",
    "display(eq3)\n",
    "s31=dsolve(eq3,hint='1st_power_series')        # taking real part only\n",
    "print('\\n general soln. :\\n')\n",
    "display(s31)\n",
    "s32=dsolve(eq3,hint='1st_power_series', ics={x.subs(t,0):1})\n",
    "print('\\n particular soln. :\\n')\n",
    "display(s32)\n",
    "plot(s32.rhs.removeO(),(t,0,5))"
   ]
  },
  {
   "cell_type": "markdown",
   "id": "9b2904e7",
   "metadata": {},
   "source": [
    "---------------------------------------------------------------------------------------------------------------------------"
   ]
  },
  {
   "cell_type": "markdown",
   "id": "aedb1818",
   "metadata": {},
   "source": [
    "## 4. $ \\frac{d^2 x}{d t^2} + \\frac{d x}{d t} = 0 \\qquad x(0)=10,\\dot x(0)=3$"
   ]
  },
  {
   "cell_type": "code",
   "execution_count": 31,
   "id": "21743c87",
   "metadata": {
    "scrolled": false
   },
   "outputs": [
    {
     "data": {
      "text/latex": [
       "$\\displaystyle \\frac{d}{d t} x{\\left(t \\right)} + \\frac{d^{2}}{d t^{2}} x{\\left(t \\right)} = 0$"
      ],
      "text/plain": [
       "Eq(Derivative(x(t), t) + Derivative(x(t), (t, 2)), 0)"
      ]
     },
     "metadata": {},
     "output_type": "display_data"
    },
    {
     "name": "stdout",
     "output_type": "stream",
     "text": [
      "\n",
      " general soln. :\n",
      "\n"
     ]
    },
    {
     "data": {
      "text/latex": [
       "$\\displaystyle x{\\left(t \\right)} = C_{1} + C_{2} e^{- t}$"
      ],
      "text/plain": [
       "Eq(x(t), C1 + C2*exp(-t))"
      ]
     },
     "metadata": {},
     "output_type": "display_data"
    },
    {
     "name": "stdout",
     "output_type": "stream",
     "text": [
      "\n",
      " particular soln. :\n",
      "\n"
     ]
    },
    {
     "data": {
      "text/latex": [
       "$\\displaystyle x{\\left(t \\right)} = 13 - 3 e^{- t}$"
      ],
      "text/plain": [
       "Eq(x(t), 13 - 3*exp(-t))"
      ]
     },
     "metadata": {},
     "output_type": "display_data"
    },
    {
     "data": {
      "image/png": "[encoded data removed]",
      "text/plain": [
       "<Figure size 432x288 with 1 Axes>"
      ]
     },
     "metadata": {
      "needs_background": "light"
     },
     "output_type": "display_data"
    },
    {
     "data": {
      "text/plain": [
       "<sympy.plotting.plot.Plot at 0x1a0193d19d0>"
      ]
     },
     "execution_count": 31,
     "metadata": {},
     "output_type": "execute_result"
    }
   ],
   "source": [
    "from sympy import *\n",
    "t=symbols('t',real=True)\n",
    "x=Function('x')(t)\n",
    "dxdt=x.diff(t)\n",
    "d2xdt2=x.diff(t,2)\n",
    "eq4=Eq(d2xdt2+dxdt,0)\n",
    "display(eq4)\n",
    "s41=dsolve(eq4)\n",
    "print('\\n general soln. :\\n')\n",
    "display(s41)\n",
    "s42=dsolve(eq4, ics={x.subs(t,0): 10,x.diff(t).subs(t,0):3})\n",
    "print('\\n particular soln. :\\n')\n",
    "display(s42)\n",
    "plot(s42.rhs,(t,0,5),axis_center= (0,9.9999))"
   ]
  },
  {
   "cell_type": "markdown",
   "id": "cfe5abc7",
   "metadata": {},
   "source": [
    "---------------------------------------------------------------------------------------------------------------------------"
   ]
  },
  {
   "cell_type": "markdown",
   "id": "1623332a",
   "metadata": {},
   "source": [
    "## 5. $ t\\frac{d^2 x}{d t^2} + 3\\frac{d x}{d t} = 0  \\qquad x(1)=1,\\dot x(1)=1$"
   ]
  },
  {
   "cell_type": "code",
   "execution_count": 5,
   "id": "e6642e00",
   "metadata": {
    "scrolled": false
   },
   "outputs": [
    {
     "data": {
      "text/latex": [
       "$\\displaystyle t \\frac{d^{2}}{d t^{2}} x{\\left(t \\right)} + 3 \\frac{d}{d t} x{\\left(t \\right)} = 0$"
      ],
      "text/plain": [
       "Eq(t*Derivative(x(t), (t, 2)) + 3*Derivative(x(t), t), 0)"
      ]
     },
     "metadata": {},
     "output_type": "display_data"
    },
    {
     "name": "stdout",
     "output_type": "stream",
     "text": [
      "\n",
      " general soln. :\n",
      "\n"
     ]
    },
    {
     "data": {
      "text/latex": [
       "$\\displaystyle x{\\left(t \\right)} = C_{1} + \\frac{C_{2}}{t^{2}}$"
      ],
      "text/plain": [
       "Eq(x(t), C1 + C2/t**2)"
      ]
     },
     "metadata": {},
     "output_type": "display_data"
    },
    {
     "name": "stdout",
     "output_type": "stream",
     "text": [
      "\n",
      " particular soln. :\n",
      "\n"
     ]
    },
    {
     "data": {
      "text/latex": [
       "$\\displaystyle x{\\left(t \\right)} = \\frac{3}{2} - \\frac{1}{2 t^{2}}$"
      ],
      "text/plain": [
       "Eq(x(t), 3/2 - 1/(2*t**2))"
      ]
     },
     "metadata": {},
     "output_type": "display_data"
    },
    {
     "data": {
      "image/png": "[encoded data removed]",
      "text/plain": [
       "<Figure size 360x360 with 1 Axes>"
      ]
     },
     "metadata": {
      "needs_background": "light"
     },
     "output_type": "display_data"
    },
    {
     "data": {
      "text/plain": [
       "<sympy.plotting.plot.Plot at 0x1d7bc640c10>"
      ]
     },
     "execution_count": 5,
     "metadata": {},
     "output_type": "execute_result"
    }
   ],
   "source": [
    "from sympy import *\n",
    "t=symbols('t',real=True)\n",
    "x=Function('x')(t)\n",
    "dxdt=x.diff(t)\n",
    "d2xdt2=x.diff(t,2)\n",
    "eq5=Eq(t*d2xdt2+3*dxdt,0)\n",
    "display(eq5)\n",
    "s51=dsolve(eq5)\n",
    "print('\\n general soln. :\\n')\n",
    "display(s51)\n",
    "s52=dsolve(eq5, ics={x.subs(t,1): 1,x.diff(t).subs(t,1):1})\n",
    "print('\\n particular soln. :\\n')\n",
    "display(s52)\n",
    "plot(s52.rhs,(t,0.1,3),size=(5,5))"
   ]
  },
  {
   "cell_type": "markdown",
   "id": "7b5ad8cb",
   "metadata": {},
   "source": [
    "---------------------------------------------------------------------------------------------------------------------------"
   ]
  }
 ],
 "metadata": {
  "kernelspec": {
   "display_name": "Python 3 (ipykernel)",
   "language": "python",
   "name": "python3"
  },
  "language_info": {
   "codemirror_mode": {
    "name": "ipython",
    "version": 3
   },
   "file_extension": ".py",
   "mimetype": "text/x-python",
   "name": "python",
   "nbconvert_exporter": "python",
   "pygments_lexer": "ipython3",
   "version": "3.9.7"
  }
 },
 "nbformat": 4,
 "nbformat_minor": 5
}
