{
 "cells": [
  {
   "cell_type": "code",
   "execution_count": 1,
   "id": "3cc23152",
   "metadata": {},
   "outputs": [],
   "source": [
    "import numpy as np"
   ]
  },
  {
   "cell_type": "markdown",
   "id": "a700e9d5",
   "metadata": {},
   "source": [
    "What is the mean and variance of the Gaussian distribution function : $P(x)=\\frac{1}{\\sqrt{2\\pi}}\\exp\\left(-\\frac{x^2}{2}+x-2\\right)?$                                                                                                                                                                                                     \n",
    "Ans :- To find the mean and variance of a probability distribution represented by a Gaussian (normal) distribution function,                                                                                                                                         \n",
    "we need to consider the standard form of the Gaussian distribution :                                                                                                                                                                    \n",
    "$\\qquad P(x) = \\frac{1}{\\sqrt{2\\pi}\\sigma} \\exp\\left(-\\frac{(x-\\mu)^2}{2\\sigma^2}\\right)  = \n",
    "\\frac{1}{\\sqrt{2\\pi}\\sigma} \\exp\\left(-\\frac{(x^2-2\\mu x + \\mu^2)}{2\\sigma^2}\\right) =\n",
    "\\frac{1}{\\sqrt{2\\pi}\\sigma} \\exp\\left(\\frac{(-x^2+2\\mu x - \\mu^2)}{2\\sigma^2}\\right) =\n",
    "\\frac{1}{\\sqrt{2\\pi}\\sigma} \\exp\\left(-\\frac{x^2}{2\\sigma^2}+\\frac{\\mu x}{\\sigma^2} - \\frac{\\mu^2}{2\\sigma^2}\\right)$                                       \n",
    "In this standard form,                                                                                                      \n",
    "$\\mu$ represents the mean (average) of the distribution,                                                                    \n",
    "and $\\sigma^2$ represents the variance (the square of the standard deviation).                                                                                                                                                                     \n",
    "In our provided distribution function, $P(x) = \\frac{1}{\\sqrt{2\\pi}} \\exp\\left(-\\frac{x^2}{2}+2x-2\\right)$,               \n",
    "we can see that it matches the standard form with some adjustments.                                                                                                                                                                      \n",
    "Comparing the two equations, the mean of the distribution is 2, and the variance is 1."
   ]
  },
  {
   "cell_type": "markdown",
   "id": "e4d0c1be",
   "metadata": {},
   "source": [
    "What is the upper triangular matrix in the LU decomposition of the given matrix?                                                \n",
    "$\\qquad \\begin{bmatrix} 3 & 2 & 4 \\\\ 2 & 0 & 2 \\\\ 4 & 2 & 3 \\end{bmatrix}$                                                      \n",
    "Note: use lu function from scipy.linalg module for this."
   ]
  },
  {
   "cell_type": "code",
   "execution_count": 2,
   "id": "e9ae48a6",
   "metadata": {},
   "outputs": [
    {
     "data": {
      "text/plain": [
       "array([[ 4. ,  2. ,  3. ],\n",
       "       [ 0. , -1. ,  0.5],\n",
       "       [ 0. ,  0. ,  2. ]])"
      ]
     },
     "execution_count": 2,
     "metadata": {},
     "output_type": "execute_result"
    }
   ],
   "source": [
    "A = np.array([[3, 2, 4],\n",
    "              [2, 0, 2],\n",
    "              [4, 2, 3]])\n",
    "\n",
    "from scipy.linalg import lu\n",
    "P, L, U = lu(A)\n",
    "\n",
    "U"
   ]
  },
  {
   "cell_type": "markdown",
   "id": "30adaa3e",
   "metadata": {},
   "source": [
    "For a square matrix how are the trace and determinant related to eigenvalues?"
   ]
  },
  {
   "cell_type": "code",
   "execution_count": 3,
   "id": "548b147b",
   "metadata": {},
   "outputs": [
    {
     "data": {
      "text/plain": [
       "(8.0, 8.0, 6.0, 6)"
      ]
     },
     "execution_count": 3,
     "metadata": {},
     "output_type": "execute_result"
    }
   ],
   "source": [
    "A = np.array([[3, 2, 4],\n",
    "              [2, 0, 2],\n",
    "              [4, 2, 3]])\n",
    "\n",
    "l = np.linalg.eigvals(A)\n",
    "\n",
    "det_l   = np.prod(l)                   # Determinant = product of eigenvalues\n",
    "trace_l = np.sum(l)                    # Trace = sum of eigenvalues\n",
    "det_A   = np.linalg.det(A)\n",
    "trace_A = np.trace(A)\n",
    "\n",
    "round(det_l,2), round(det_A,2), round(trace_l,2), round(trace_A,2)"
   ]
  },
  {
   "cell_type": "markdown",
   "id": "7a90c4ff",
   "metadata": {},
   "source": [
    "Which function in numpy module can be used to fit polynomials to a given data points?"
   ]
  },
  {
   "cell_type": "code",
   "execution_count": 4,
   "id": "58b5afab",
   "metadata": {},
   "outputs": [
    {
     "data": {
      "text/plain": [
       "array([ 1.00000000e+00, -2.00147285e-14,  3.55405155e-14])"
      ]
     },
     "execution_count": 4,
     "metadata": {},
     "output_type": "execute_result"
    }
   ],
   "source": [
    "x = np.array([1, 2, 3, 4, 5])\n",
    "y = np.array([1, 4, 9, 16, 25])\n",
    "\n",
    "np.polyfit(x, y, 2)"
   ]
  },
  {
   "cell_type": "markdown",
   "id": "06ee17a0",
   "metadata": {},
   "source": [
    "Calculate the integral  $\\int^1_0 \\text{tanh}^2(x^2) \\ dx$ using Monte Carlo method.                                            \n",
    "Use $N = 1000000$ random points. What is the value of the integral rounded to two decimal places?"
   ]
  },
  {
   "cell_type": "code",
   "execution_count": 5,
   "id": "08199505",
   "metadata": {},
   "outputs": [
    {
     "data": {
      "text/plain": [
       "0.15"
      ]
     },
     "execution_count": 5,
     "metadata": {},
     "output_type": "execute_result"
    }
   ],
   "source": [
    "def f(x):\n",
    "    return (np.tanh(x**2))**2\n",
    "\n",
    "N = 1000000\n",
    "count = 0\n",
    "\n",
    "for i in range(N):\n",
    "    x = np.random.rand()          # Generate a random x between 0 and 1\n",
    "    y = np.random.rand()          # Generate a random y between 0 and max_y\n",
    "    if y <= f(x):\n",
    "        count += 1\n",
    "\n",
    "I = count/N\n",
    "round(I, 2)"
   ]
  },
  {
   "cell_type": "markdown",
   "id": "2bd85031",
   "metadata": {},
   "source": [
    "Solve the following equations using solve function from numpy.linalg module:                                                 \n",
    "$\\qquad\\qquad 4x  + 7y + 5z  =  2$                                                                                                                \n",
    "$\\qquad\\qquad \\ \\ x - \\ \\ y    + 3z  = 10$                                                                                                          \n",
    "$\\qquad\\qquad 5x  - \\ \\ y    + 2z  = 15$                                                                                       \n",
    "Let $x_0, y_0, z_0$ be the solution and let $s = x_0 + y_0 + z_0$. What is the value of $s$ rounded to two decimal places?"
   ]
  },
  {
   "cell_type": "code",
   "execution_count": 6,
   "id": "e78c87e0",
   "metadata": {},
   "outputs": [
    {
     "data": {
      "text/plain": [
       "1.62"
      ]
     },
     "execution_count": 6,
     "metadata": {},
     "output_type": "execute_result"
    }
   ],
   "source": [
    "A = np.array([[ 4, 7, 5],\n",
    "              [ 1,-1, 3],\n",
    "              [ 5,-1, 2]])\n",
    "\n",
    "b = np.array([2, 10, 15])\n",
    "x0, y0, z0 = np.linalg.solve(A, b)\n",
    "s = x0 + y0 + z0\n",
    "round(s, 2)"
   ]
  },
  {
   "cell_type": "markdown",
   "id": "5656a1ea",
   "metadata": {},
   "source": [
    "Find the eigen values of the following matrix using the eigvals function from numpy.linalg library                                  \n",
    " $ \\qquad\\begin{bmatrix} 2.15 & 1 & 2 \\\\ 1 & 2.98 & 2 \\\\ 2.22 & 2 & 1 \\end{bmatrix}$                                                   \n",
    " Let A be the sum of eigenvalues and B be the product of eigenvalues.                                                        \n",
    " Now define                                                                                                                 \n",
    " $\\qquad\\qquad e=\\frac{B−A}{B}$                           \n",
    "What is the value of  e rounded to 4 decimal places?                                                                        \n",
    "Note: use np.sum and np.prod to find the sum and product of eigenvalues."
   ]
  },
  {
   "cell_type": "code",
   "execution_count": 7,
   "id": "e7a908a3",
   "metadata": {},
   "outputs": [
    {
     "data": {
      "text/plain": [
       "1.7678"
      ]
     },
     "execution_count": 7,
     "metadata": {},
     "output_type": "execute_result"
    }
   ],
   "source": [
    "E = np.array([[ 2.15, 1.00, 2.00],\n",
    "              [ 1.00, 2.98, 2.00],\n",
    "              [ 2.22, 2.00, 1.00]])\n",
    "\n",
    "l = np.linalg.eigvals(E)\n",
    "A = np.sum(l)\n",
    "B = np.prod(l)\n",
    "e = (B-A)/B\n",
    "round(e, 4)"
   ]
  },
  {
   "cell_type": "markdown",
   "id": "c109b638",
   "metadata": {},
   "source": [
    "Find the eigenvalues and determinant of the following matrix using the eigvals and det functions from the numpy.linalg library.                                                                                                                    \n",
    " $\\qquad \\begin{bmatrix} 1 & 2 & 3 \\\\ 2 & 1 & 4 \\\\ 3 & 4 & 2 \\end{bmatrix}$                                                   \n",
    "Now calculate the product of eigenvalues and let it be $\\det_A$. And let $\\det_B$ be the value of  determinant that you got by using det function from numpy.linalg.                                                                                                 \n",
    "Now define                                                                                                                   \n",
    "$\\qquad\\qquad e=\\frac{\\det_B-\\det_A}{\\det_B}∗10^{16}$                                                                        \n",
    "What is the value of e rounded to four decimal places?                                                                          \n",
    "Note: use np.prod to calculate the product of eigenvalues."
   ]
  },
  {
   "cell_type": "code",
   "execution_count": 8,
   "id": "864841b5",
   "metadata": {},
   "outputs": [
    {
     "data": {
      "text/plain": [
       "2.0898"
      ]
     },
     "execution_count": 8,
     "metadata": {},
     "output_type": "execute_result"
    }
   ],
   "source": [
    "E = np.array([[ 1, 2, 3],\n",
    "              [ 2, 1, 4],\n",
    "              [ 3, 4, 2]])\n",
    "\n",
    "l = np.linalg.eigvals(E)\n",
    "\n",
    "det_A = np.prod(l)\n",
    "det_B = np.linalg.det(E)\n",
    "e = (det_B-det_A)/det_B * 1e16\n",
    "round(e, 4)"
   ]
  },
  {
   "cell_type": "markdown",
   "id": "d78328aa",
   "metadata": {},
   "source": [
    "Calculate the integral $\\int^1_0 \\cos^2 \\left(\\frac{1}{x(1−x)} \\right) \\ dx$   using Monte Carlo method.                   \n",
    "Use $N = 1000000$ random points. Let $A$ be the value of integral using monte carlo method.                                         \n",
    "Now define $\\quad e = 1 - A$                                                                                                   \n",
    "What is the value of e rounded to one decimal place?"
   ]
  },
  {
   "cell_type": "code",
   "execution_count": 9,
   "id": "92dde7fd",
   "metadata": {},
   "outputs": [
    {
     "data": {
      "text/plain": [
       "0.6"
      ]
     },
     "execution_count": 9,
     "metadata": {},
     "output_type": "execute_result"
    }
   ],
   "source": [
    "def f(x):\n",
    "    return (np.cos(1/(x*(1-x))))**2\n",
    "\n",
    "N = 1000000\n",
    "count = 0\n",
    "for i in range(N):\n",
    "    x = np.random.rand()\n",
    "    y = np.random.rand()\n",
    "    if y<f(x):\n",
    "        count += 1\n",
    "        \n",
    "A = count/N\n",
    "e = 1-A\n",
    "round(e,1)"
   ]
  },
  {
   "cell_type": "markdown",
   "id": "89bdd017",
   "metadata": {},
   "source": [
    "Find the eigenvalues and eigenvectors of the following matrix using eig function from numpy.linalg module                      \n",
    " $\\qquad \\begin{bmatrix} 1.9 & -1 & 0 \\\\ 3 & -2 & 1 \\\\ 0 & 1 & 3 \\end{bmatrix}$                                                   \n",
    "Let A be the eigenvector corresponding to the maximum eigenvalue. What is the value of A rounded to two decimal places?"
   ]
  },
  {
   "cell_type": "code",
   "execution_count": 10,
   "id": "98ad3468",
   "metadata": {},
   "outputs": [
    {
     "data": {
      "text/plain": [
       "(array([-1.29,  1.06,  3.13]),\n",
       " array([[ 0.29, -0.73, -0.11],\n",
       "        [ 0.93, -0.61,  0.13],\n",
       "        [-0.22,  0.31,  0.99]]))"
      ]
     },
     "execution_count": 10,
     "metadata": {},
     "output_type": "execute_result"
    }
   ],
   "source": [
    "E = np.array([[ 1.9, -1, 0],\n",
    "              [ 3.0, -2, 1],\n",
    "              [ 0.0,  1, 3]])\n",
    "\n",
    "l, x = np.linalg.eig(E)\n",
    "np.round(l,2), np.round(x,2)"
   ]
  }
 ],
 "metadata": {
  "kernelspec": {
   "display_name": "Python 3 (ipykernel)",
   "language": "python",
   "name": "python3"
  },
  "language_info": {
   "codemirror_mode": {
    "name": "ipython",
    "version": 3
   },
   "file_extension": ".py",
   "mimetype": "text/x-python",
   "name": "python",
   "nbconvert_exporter": "python",
   "pygments_lexer": "ipython3",
   "version": "3.10.9"
  }
 },
 "nbformat": 4,
 "nbformat_minor": 5
}
