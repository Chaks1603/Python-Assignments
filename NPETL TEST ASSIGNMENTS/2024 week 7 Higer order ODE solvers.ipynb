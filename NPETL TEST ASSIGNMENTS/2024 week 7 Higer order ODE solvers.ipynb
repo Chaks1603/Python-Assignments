{
 "cells": [
  {
   "cell_type": "code",
   "execution_count": 1,
   "id": "b8a17b86",
   "metadata": {},
   "outputs": [],
   "source": [
    "import numpy as np"
   ]
  },
  {
   "cell_type": "markdown",
   "id": "3a833787",
   "metadata": {},
   "source": [
    "Write a python code to solve the differential equation $\\frac{dx}{dt}=\\frac{t^2-x^2}{2}$ .                                  \n",
    "Use second order **Runge-Kutta (RK2)** scheme, $Δt=0.01$ and $x(t=0)=1$. What is the value of $x(t=1)$? Round off the answer to two decimal places."
   ]
  },
  {
   "cell_type": "code",
   "execution_count": 2,
   "id": "e17fc1d1",
   "metadata": {},
   "outputs": [
    {
     "data": {
      "text/plain": [
       "0.81"
      ]
     },
     "execution_count": 2,
     "metadata": {},
     "output_type": "execute_result"
    }
   ],
   "source": [
    "def f(t, x):\n",
    "    return (t**2 - x**2) / 2\n",
    "\n",
    "def RK2(f, t0, x0, dt, t_end):\n",
    "    t_values = np.arange(t0, t_end + dt, dt)\n",
    "    x = x0\n",
    "    for t in t_values[:-1]: \n",
    "        k1 = dt * f(t, x)\n",
    "        k2 = dt * f(t + dt, x + k1)\n",
    "        x = x + 0.5 * (k1 + k2)    \n",
    "    return x\n",
    "\n",
    "t0 = 0\n",
    "x0 = 1\n",
    "dt = 0.01\n",
    "t_end = 1\n",
    "x_final = RK2(f, t0, x0, dt, t_end)\n",
    "round( x_final, 2)"
   ]
  },
  {
   "cell_type": "markdown",
   "id": "7c8ebcbb",
   "metadata": {},
   "source": [
    "Write a python code to solve the differential equation $\\frac{dx}{dt}+x\\cos(t)+t\\cos(x)=0$.                                  \n",
    "Use **RK4** scheme, $Δt=0.01$ and $x(t=0)=1$ and find the value of $x(t=1)$. Round of your result to two decimal places."
   ]
  },
  {
   "cell_type": "code",
   "execution_count": 3,
   "id": "fb719f2e",
   "metadata": {},
   "outputs": [
    {
     "data": {
      "text/plain": [
       "0.06"
      ]
     },
     "execution_count": 3,
     "metadata": {},
     "output_type": "execute_result"
    }
   ],
   "source": [
    "def f(t, x):\n",
    "    return - (x*np.cos(t) + t*np.cos(x))\n",
    "\n",
    "def RK4(f, t0, x0, dt, t_end):\n",
    "    t_values = np.arange(t0, t_end + dt, dt)\n",
    "    x = x0\n",
    "    for t in t_values[:-1]:  \n",
    "        k1 = dt * f(t, x)\n",
    "        k2 = dt * f(t + 0.5*dt, x + 0.5*k1)\n",
    "        k3 = dt * f(t + 0.5*dt, x + 0.5*k2)\n",
    "        k4 = dt * f(t + dt, x + k3)\n",
    "        x = x + (k1 + 2*k2 + 2*k3 + k4) / 6\n",
    "    return x\n",
    "\n",
    "t0 = 0\n",
    "x0 = 1\n",
    "dt = 0.01\n",
    "t_end = 1\n",
    "x_final = RK4(f, t0, x0, dt, t_end)\n",
    "round( x_final, 2)"
   ]
  },
  {
   "cell_type": "markdown",
   "id": "06453f3e",
   "metadata": {},
   "source": [
    "Write a python code to solve the differential equation $\\frac{dx}{dt}=e^{-x}+e^{t}$ using Predictor-Corrector Scheme.                  \n",
    "Using $Δt=0.01$ and $x(t=0)=1$, find the value of $x(t=2)$. Round off your results to $2$ decimal places."
   ]
  },
  {
   "cell_type": "code",
   "execution_count": 4,
   "id": "b44ec8e0",
   "metadata": {},
   "outputs": [
    {
     "data": {
      "text/plain": [
       "7.59"
      ]
     },
     "execution_count": 4,
     "metadata": {},
     "output_type": "execute_result"
    }
   ],
   "source": [
    "def f(t, x):\n",
    "    return np.exp(-x) + np.exp(t)\n",
    "\n",
    "def predictor_corrector(f, t0, x0, dt, t_end):\n",
    "    t_values = np.arange(t0, t_end + dt, dt)\n",
    "    x = x0\n",
    "    for t in t_values[:-1]:  \n",
    "        x_predict = x + dt * f(t, x)                          # Predictor step (Euler method)\n",
    "        x = x + 0.5 * dt * (f(t, x) + f(t + dt, x_predict))   # Corrector step (Trapezoidal method)\n",
    "    return x\n",
    "\n",
    "t0 = 0\n",
    "x0 = 1\n",
    "dt = 0.01\n",
    "t_end = 2\n",
    "x_final = predictor_corrector(f, t0, x0, dt, t_end)\n",
    "round( x_final, 2)"
   ]
  },
  {
   "cell_type": "markdown",
   "id": "d4d81be6",
   "metadata": {},
   "source": [
    "Solve the differential equation $\\dot{x}=x^2-x$ using the odeint function from the `scipy.integrate` module and find the value of $x(t=2.0)$.                                                                                                                \n",
    "Use the following given values : $x(t=0) = 1.1, dt = 0.2$ . Round your answer to two decimal places.                                 \n",
    "Note: use the following line to import odeint  `from scipy.integrate import odeint`                                          \n",
    "Also round the last value using `np.round(x[-1],2)` as the simple round function will give error because `x[-1]` is a numpy array of one value."
   ]
  },
  {
   "cell_type": "code",
   "execution_count": 5,
   "id": "0057e88d",
   "metadata": {},
   "outputs": [
    {
     "data": {
      "text/plain": [
       "3.05"
      ]
     },
     "execution_count": 5,
     "metadata": {},
     "output_type": "execute_result"
    }
   ],
   "source": [
    "from scipy.integrate import odeint\n",
    "\n",
    "def dxdt(x, t):\n",
    "    return x**2 - x\n",
    "\n",
    "x0 = 1.1\n",
    "t = np.arange(0, 2.2, 0.2)\n",
    "x = odeint(dxdt, x0, t)\n",
    "x_final = np.round(x[-1], 2)\n",
    "x_final[0]"
   ]
  },
  {
   "cell_type": "markdown",
   "id": "20a42211",
   "metadata": {},
   "source": [
    "Consider the following set of coupled differential equations                                                                     \n",
    "$\\qquad \\dot{x}=p, \\ \\dot{p}=-x$                                                                                                    \n",
    "Solve these set of differential equations using the following given conditions :                                                                  \n",
    "$\\quad$ `x(t=0) = 1`                                                                                                                 \n",
    "$\\quad$ `p(t=0) = 0`                                                                                                                   \n",
    "$\\quad$ `dt = 0.01 `                                                                                                                 \n",
    "What is the value of  $x(t=2π)$ rounded off to 3 decimal places ?"
   ]
  },
  {
   "cell_type": "code",
   "execution_count": 6,
   "id": "cd4e3a88",
   "metadata": {},
   "outputs": [
    {
     "data": {
      "text/plain": [
       "1.032"
      ]
     },
     "execution_count": 6,
     "metadata": {},
     "output_type": "execute_result"
    }
   ],
   "source": [
    "dt = 0.01          \n",
    "T = 2 * np.pi      \n",
    "N = int(T / dt)   \n",
    "x = np.zeros(N + 1)\n",
    "p = np.zeros(N + 1)\n",
    "x[0] = 1\n",
    "p[0] = 0\n",
    "\n",
    "# Euler's method to solve the equations\n",
    "for i in range(N):\n",
    "    x[i + 1] = x[i] + p[i] * dt\n",
    "    p[i + 1] = p[i] - x[i] * dt\n",
    "\n",
    "round(x[-1], 3)"
   ]
  }
 ],
 "metadata": {
  "kernelspec": {
   "display_name": "Python 3 (ipykernel)",
   "language": "python",
   "name": "python3"
  },
  "language_info": {
   "codemirror_mode": {
    "name": "ipython",
    "version": 3
   },
   "file_extension": ".py",
   "mimetype": "text/x-python",
   "name": "python",
   "nbconvert_exporter": "python",
   "pygments_lexer": "ipython3",
   "version": "3.10.9"
  }
 },
 "nbformat": 4,
 "nbformat_minor": 5
}
