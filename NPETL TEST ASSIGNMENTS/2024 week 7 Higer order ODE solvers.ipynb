{
 "cells": [
  {
   "cell_type": "code",
   "execution_count": 1,
   "id": "b8a17b86",
   "metadata": {},
   "outputs": [],
   "source": [
    "import numpy as np"
   ]
  },
  {
   "cell_type": "markdown",
   "id": "fec8e0b2",
   "metadata": {},
   "source": [
    "What is the stability condition for the following differential equation for negative $\\alpha$ using Trapezoid method :\n",
    "$\\dot{x}=\\alpha x$\n",
    " \n",
    "Trapezoid method :                                                                                                          \n",
    "$\\quad\\begin{align} x^{n+1} = x^n + \\Delta t \\left( \\frac{f(x^n,t_n) + f(x^{n+1},t_{n+1})}{2}  \\right) \\\\ &{\\therefore} \\quad x^{n+1} = x^n +  \\Delta t\\left(\\frac{\\alpha x^n + \\alpha x^{n+1}}{2}\\right) \\\\ &{or,} \\quad x^{n+1} - \\frac{\\alpha\\Delta t }{2}x^{n+1} = x^n +  \\frac{\\alpha\\Delta t }{2}x^n \\\\ &{or,} \\quad \\left(1 - \\frac{\\alpha\\Delta t }{2} \\right) x^{n+1} = \\left(1 +  \\frac{\\alpha\\Delta t }{2} \\right) x^n  \\\\ &{or,} \\quad x^{n+1} = \\left( \\frac{1 +  \\frac{\\alpha\\Delta t }{2}}{1 - \\frac{\\alpha\\Delta t }{2}} \\right) x^n=\\lambda x^n \\end{align} $                         \n",
    "\n",
    "For the method to be stable, the amplification factor must satisfy :                                                                                                            \n",
    "$\\quad\\begin{align} &{\\therefore} \\quad \\ \\ |\\lambda|<1 \\\\ &{or,} \\quad \\left| \\frac{1 +  \\frac{\\alpha\\Delta t }{2}}{1 - \\frac{\\alpha\\Delta t }{2}} \\right| <1 \\end{align} $    "
   ]
  },
  {
   "cell_type": "markdown",
   "id": "3a833787",
   "metadata": {},
   "source": [
    "Write a python code to solve the differential equation $\\frac{dx}{dt}=\\frac{t^2-x^2}{2}$ .                                  \n",
    "Use second order **Runge-Kutta (RK2)** scheme, $Δt=0.01$ and $x(t=0)=1$. What is the value of $x(t=1)$? Round off the answer to two decimal places."
   ]
  },
  {
   "cell_type": "code",
   "execution_count": 2,
   "id": "e17fc1d1",
   "metadata": {},
   "outputs": [
    {
     "data": {
      "text/plain": [
       "0.81"
      ]
     },
     "execution_count": 2,
     "metadata": {},
     "output_type": "execute_result"
    }
   ],
   "source": [
    "def f(t, x):\n",
    "    return (t**2 - x**2) / 2\n",
    "\n",
    "def RK2(f, t0, x0, dt, t_end):\n",
    "    t_values = np.arange(t0, t_end + dt, dt)\n",
    "    x = x0\n",
    "    for t in t_values[:-1]: \n",
    "        k1 = dt * f(t, x)\n",
    "        k2 = dt * f(t + dt, x + k1)\n",
    "        x = x + 0.5 * (k1 + k2)    \n",
    "    return x\n",
    "\n",
    "t0 = 0\n",
    "x0 = 1\n",
    "dt = 0.01\n",
    "t_end = 1\n",
    "x_final = RK2(f, t0, x0, dt, t_end)\n",
    "round( x_final, 2)"
   ]
  },
  {
   "cell_type": "markdown",
   "id": "7c8ebcbb",
   "metadata": {},
   "source": [
    "Write a python code to solve the differential equation $\\frac{dx}{dt}+x\\cos(t)+t\\cos(x)=0$.                                  \n",
    "Use **RK4** scheme, $Δt=0.01$ and $x(t=0)=1$ and find the value of $x(t=1)$. Round of your result to two decimal places."
   ]
  },
  {
   "cell_type": "code",
   "execution_count": 3,
   "id": "fb719f2e",
   "metadata": {},
   "outputs": [
    {
     "data": {
      "text/plain": [
       "0.06"
      ]
     },
     "execution_count": 3,
     "metadata": {},
     "output_type": "execute_result"
    }
   ],
   "source": [
    "def f(t, x):\n",
    "    return - (x*np.cos(t) + t*np.cos(x))\n",
    "\n",
    "def RK4(f, t0, x0, dt, t_end):\n",
    "    t_values = np.arange(t0, t_end + dt, dt)\n",
    "    x = x0\n",
    "    for t in t_values[:-1]:  \n",
    "        k1 = dt * f(t, x)\n",
    "        k2 = dt * f(t + 0.5*dt, x + 0.5*k1)\n",
    "        k3 = dt * f(t + 0.5*dt, x + 0.5*k2)\n",
    "        k4 = dt * f(t + dt, x + k3)\n",
    "        x = x + (k1 + 2*k2 + 2*k3 + k4) / 6\n",
    "    return x\n",
    "\n",
    "t0 = 0\n",
    "x0 = 1\n",
    "dt = 0.01\n",
    "t_end = 1\n",
    "x_final = RK4(f, t0, x0, dt, t_end)\n",
    "round( x_final, 2)"
   ]
  },
  {
   "cell_type": "markdown",
   "id": "06453f3e",
   "metadata": {},
   "source": [
    "Write a python code to solve the differential equation $\\frac{dx}{dt}=e^{-x}+e^{t}$ using Predictor-Corrector Scheme.                  \n",
    "Using $Δt=0.01$ and $x(t=0)=1$, find the value of $x(t=2)$. Round off your results to $2$ decimal places."
   ]
  },
  {
   "cell_type": "code",
   "execution_count": 4,
   "id": "b44ec8e0",
   "metadata": {},
   "outputs": [
    {
     "data": {
      "text/plain": [
       "7.59"
      ]
     },
     "execution_count": 4,
     "metadata": {},
     "output_type": "execute_result"
    }
   ],
   "source": [
    "def f(t, x):\n",
    "    return np.exp(-x) + np.exp(t)\n",
    "\n",
    "def predictor_corrector(f, t0, x0, dt, t_end):\n",
    "    t_values = np.arange(t0, t_end + dt, dt)\n",
    "    x = x0\n",
    "    for t in t_values[:-1]:  \n",
    "        x_predict = x + dt * f(t, x)                          # Predictor step (Euler method)\n",
    "        x = x + 0.5 * dt * (f(t, x) + f(t + dt, x_predict))   # Corrector step (Trapezoidal method)\n",
    "    return x\n",
    "\n",
    "t0 = 0\n",
    "x0 = 1\n",
    "dt = 0.01\n",
    "t_end = 2\n",
    "x_final = predictor_corrector(f, t0, x0, dt, t_end)\n",
    "round( x_final, 2)"
   ]
  },
  {
   "cell_type": "markdown",
   "id": "b41f09cb",
   "metadata": {},
   "source": [
    "What is the Fourier transform of the function $f(x)=\\cos(2x)?$      \n",
    "\n",
    "Using Euler's formula\n",
    "\n",
    "$\\cos(2x) = \\frac{1}{2} \\left( e^{i2x} + e^{-i2x} \\right)$\n",
    "\n",
    "Rewrite the function $ f(x) = \\cos(2x) $ as:\n",
    "\n",
    "$ f(x) = \\frac{1}{2} \\left( e^{i2x} + e^{-i2x} \\right)$\n",
    "\n",
    "The general definition of the Fourier transform of a function $f(x)$ is:\n",
    "\n",
    "$ \\hat{f}_k = \\frac{1}{2\\pi} \\int_{-\\infty}^{\\infty} f(x) e^{-ikx} \\, dx $\n",
    "\n",
    "\n",
    "#### Fourier transform of $ e^{i2x}$\n",
    "\n",
    "$ \\mathcal{F}\\left[e^{i2x}\\right] = \\frac{1}{2\\pi} \\int_{-\\infty}^{\\infty} e^{i2x} e^{-ikx} \\, dx = \\frac{1}{2\\pi} \\int_{-\\infty}^{\\infty} e^{i(2-k)x} \\, dx $\n",
    "\n",
    "The integral of $ e^{i(2-k)x}$ over all $x$ is a known result: it yields $ 2\\pi \\delta(2-k) $, where $ \\delta $ is the Dirac delta function. Therefore:\n",
    "\n",
    "$ \\mathcal{F}\\left[e^{i2x}\\right] = \\delta(k-2)$\n",
    "\n",
    "#### Fourier transform of  $ e^{-i2x}$\n",
    "\n",
    "Similarly, the Fourier transform of $ e^{-i2x} $ is:\n",
    "\n",
    "$ \\mathcal{F}\\left[e^{-i2x}\\right] = \\frac{1}{2\\pi} \\int_{-\\infty}^{\\infty} e^{-i2x} e^{-ikx} \\, dx = \\frac{1}{2\\pi} \\int_{-\\infty}^{\\infty} e^{-i(2+k)x} \\, dx $\n",
    "\n",
    "This results in $ 2\\pi \\delta(k+2) $, so:\n",
    "\n",
    "$\\mathcal{F}\\left[e^{-i2x}\\right] = \\delta(k+2)$\n",
    "\n",
    "Since $f(x) = \\frac{1}{2} \\left( e^{i2x} + e^{-i2x} \\right) $, the Fourier transform of $f(x)$ is the sum of the Fourier transforms of these two terms:\n",
    "\n",
    "$\\hat{f}_k = \\frac{1}{2} \\left( \\delta(k-2) + \\delta(k+2) \\right)$\n",
    "\n",
    "In the discrete case, the Fourier coefficients $f^n $ are defined as the sum over discrete modes.\n",
    "\n",
    "$f^n = \\frac{1}{2} \\left( \\delta_{n,2} + \\delta_{n,-2} \\right)$"
   ]
  },
  {
   "cell_type": "markdown",
   "id": "d4d81be6",
   "metadata": {},
   "source": [
    "Solve the differential equation $\\dot{x}=x^2-x$ using the odeint function from the `scipy.integrate` module and find the value of $x(t=2.0)$.                                                                                                                \n",
    "Use the following given values : $x(t=0) = 1.1, dt = 0.2$ . Round your answer to two decimal places.                                 \n",
    "Note: use the following line to import odeint  `from scipy.integrate import odeint`                                          \n",
    "Also round the last value using `np.round(x[-1],2)` as the simple round function will give error because `x[-1]` is a numpy array of one value."
   ]
  },
  {
   "cell_type": "code",
   "execution_count": 5,
   "id": "0057e88d",
   "metadata": {},
   "outputs": [
    {
     "data": {
      "text/plain": [
       "3.05"
      ]
     },
     "execution_count": 5,
     "metadata": {},
     "output_type": "execute_result"
    }
   ],
   "source": [
    "from scipy.integrate import odeint\n",
    "\n",
    "def dxdt(x, t):\n",
    "    return x**2 - x\n",
    "\n",
    "x0 = 1.1\n",
    "t = np.arange(0, 2.2, 0.2)\n",
    "x = odeint(dxdt, x0, t)\n",
    "x_final = np.round(x[-1], 2)\n",
    "x_final[0]"
   ]
  },
  {
   "cell_type": "markdown",
   "id": "20a42211",
   "metadata": {},
   "source": [
    "Consider the following set of coupled differential equations                                                                     \n",
    "$\\qquad \\dot{x}=p, \\ \\dot{p}=-x$                                                                                                    \n",
    "Solve these set of differential equations using the following given conditions :                                                                  \n",
    "$\\quad$ `x(t=0) = 1`                                                                                                                 \n",
    "$\\quad$ `p(t=0) = 0`                                                                                                                   \n",
    "$\\quad$ `dt = 0.01 `                                                                                                                 \n",
    "What is the value of  $x(t=2π)$ rounded off to 3 decimal places ?"
   ]
  },
  {
   "cell_type": "code",
   "execution_count": 6,
   "id": "cd4e3a88",
   "metadata": {},
   "outputs": [
    {
     "data": {
      "text/plain": [
       "1.032"
      ]
     },
     "execution_count": 6,
     "metadata": {},
     "output_type": "execute_result"
    }
   ],
   "source": [
    "dt = 0.01          \n",
    "T = 2 * np.pi      \n",
    "N = int(T / dt)   \n",
    "x = np.zeros(N + 1)\n",
    "p = np.zeros(N + 1)\n",
    "x[0] = 1\n",
    "p[0] = 0\n",
    "\n",
    "# Euler's method to solve the equations\n",
    "for i in range(N):\n",
    "    x[i + 1] = x[i] + p[i] * dt\n",
    "    p[i + 1] = p[i] - x[i] * dt\n",
    "\n",
    "round(x[-1], 3)"
   ]
  },
  {
   "cell_type": "code",
   "execution_count": 7,
   "id": "a757513d",
   "metadata": {},
   "outputs": [],
   "source": [
    "def f(t, x):\n",
    "    return np.array([x[1], -x[0]])\n",
    "\n",
    "dt = 0.01          \n",
    "T  = 2 * np.pi      \n",
    "N  = int(T / dt)   \n",
    "x0 = np.array([1, 0])  # x(0) = 1, p(0) = 0"
   ]
  },
  {
   "cell_type": "code",
   "execution_count": 8,
   "id": "a327a7ac",
   "metadata": {},
   "outputs": [
    {
     "data": {
      "text/plain": [
       "1.032"
      ]
     },
     "execution_count": 8,
     "metadata": {},
     "output_type": "execute_result"
    }
   ],
   "source": [
    "def eulers(f, t_span, dt, x0):\n",
    "    time   = np.arange(t_span[0], t_span[1] + dt, dt)\n",
    "    x_n    = np.zeros((len(time), len(x0)), dtype=float)\n",
    "    x_n[0] = x0\n",
    "    for i in range(len(time) - 1):\n",
    "        x_n[i + 1] = x_n[i] + dt * f(time[i], x_n[i])\n",
    "    return time, x_n\n",
    "\n",
    "time, solution = eulers(f, [0, T], dt, x0 )\n",
    "\n",
    "x = solution[:,0]\n",
    "round(x[-1], 3)"
   ]
  },
  {
   "cell_type": "code",
   "execution_count": 9,
   "id": "9c963c94",
   "metadata": {},
   "outputs": [
    {
     "data": {
      "text/plain": [
       "1.0"
      ]
     },
     "execution_count": 9,
     "metadata": {},
     "output_type": "execute_result"
    }
   ],
   "source": [
    "def predictor_corrector(f, t_span, dt, x0):\n",
    "    time   = np.arange(t_span[0], t_span[1] + dt, dt)\n",
    "    x_n    = np.zeros((len(time), len(x0)), dtype=float)\n",
    "    x_n[0] = x0\n",
    "    x_n[1] = x_n[0] + dt * f(time[0], x_n[0])    # Initial step using Euler's method\n",
    "    for i in range(1, len(time) - 1):\n",
    "        pred = x_n[i] + dt / 2 * (f(time[i], x_n[i]) + f(time[i-1], x_n[i-1]))\n",
    "        x_n[i + 1] = x_n[i] + dt / 2 * (f(time[i + 1], pred) + f(time[i], x_n[i]))\n",
    "    return time, x_n\n",
    "\n",
    "time, solution = predictor_corrector(f, [0, T], dt, x0)\n",
    "\n",
    "x = solution[:,0]\n",
    "round(x[-1], 3)"
   ]
  },
  {
   "cell_type": "code",
   "execution_count": 10,
   "id": "dc693e5c",
   "metadata": {},
   "outputs": [
    {
     "data": {
      "text/plain": [
       "1.0"
      ]
     },
     "execution_count": 10,
     "metadata": {},
     "output_type": "execute_result"
    }
   ],
   "source": [
    "def leapfrog(f, t_span, dt, x0):\n",
    "    time   = np.arange(t_span[0], t_span[1], dt)\n",
    "    x_n    = np.zeros((len(time), len(x0)), dtype=float)\n",
    "    x_n[0] = x0    \n",
    "    p_half = x_n[0][1] + 0.5 * dt * f(time[0],x_n[0])[1]  \n",
    "    for i in range(len(time) - 1):\n",
    "        x_n[i + 1][0] = x_n[i][0] + dt * x_n[i][1]  \n",
    "        if i + 1 < len(time) - 1: \n",
    "            p_half += -dt * x_n[i + 1][0]  \n",
    "        x_n[i + 1][1] = p_half  \n",
    "    return time, x_n\n",
    "\n",
    "time, solution = leapfrog(f, [0, T], dt, x0 )\n",
    "\n",
    "x = solution[:,0]\n",
    "round(x[-1], 3)"
   ]
  },
  {
   "cell_type": "code",
   "execution_count": 11,
   "id": "6320e4df",
   "metadata": {},
   "outputs": [
    {
     "data": {
      "text/plain": [
       "1.0"
      ]
     },
     "execution_count": 11,
     "metadata": {},
     "output_type": "execute_result"
    }
   ],
   "source": [
    "def RK2(f, t_span, dt, x0):\n",
    "    time   = np.arange(t_span[0], t_span[1] + dt, dt)\n",
    "    x_n    = np.zeros((len(time), len(x0)), dtype=float)\n",
    "    x_n[0] = x0\n",
    "    for i in range(len(time) - 1):\n",
    "        k1 = dt * f(time[i], x_n[i])\n",
    "        k2 = dt * f(time[i] + dt, x_n[i] + k1)\n",
    "        x_n[i + 1] = x_n[i] + 0.5 * (k1 + k2)\n",
    "    return time, x_n\n",
    "\n",
    "time, solution = RK2(f, [0, T], dt, x0 )\n",
    "\n",
    "x = solution[:,0]\n",
    "round(x[-1], 3)"
   ]
  },
  {
   "cell_type": "code",
   "execution_count": 12,
   "id": "b1c69335",
   "metadata": {},
   "outputs": [
    {
     "data": {
      "text/plain": [
       "1.0"
      ]
     },
     "execution_count": 12,
     "metadata": {},
     "output_type": "execute_result"
    }
   ],
   "source": [
    "def RK4(f, t_span, dt, x0):\n",
    "    time   = np.arange(t_span[0], t_span[1], dt)\n",
    "    x_n    = np.zeros((len(time), len(x0)), dtype=float)\n",
    "    x_n[0] = x0\n",
    "    for i in range(1, len(time)):\n",
    "        k1 = dt * np.array(f(time[i-1], x_n[i-1]))\n",
    "        k2 = dt * np.array(f(time[i-1] + 0.5*dt, x_n[i-1] + 0.5*k1))\n",
    "        k3 = dt * np.array(f(time[i-1] + 0.5*dt, x_n[i-1] + 0.5*k2))\n",
    "        k4 = dt * np.array(f(time[i-1] + dt, x_n[i-1] + k3))\n",
    "        x_n[i] = x_n[i-1] + (k1 + 2*k2 + 2*k3 + k4) / 6\n",
    "    return time, x_n\n",
    "\n",
    "time, solution = RK4(f, [0, T], dt, x0 )\n",
    "\n",
    "x = solution[:,0]\n",
    "round(x[-1], 3)"
   ]
  }
 ],
 "metadata": {
  "kernelspec": {
   "display_name": "Python 3 (ipykernel)",
   "language": "python",
   "name": "python3"
  },
  "language_info": {
   "codemirror_mode": {
    "name": "ipython",
    "version": 3
   },
   "file_extension": ".py",
   "mimetype": "text/x-python",
   "name": "python",
   "nbconvert_exporter": "python",
   "pygments_lexer": "ipython3",
   "version": "3.10.9"
  }
 },
 "nbformat": 4,
 "nbformat_minor": 5
}
