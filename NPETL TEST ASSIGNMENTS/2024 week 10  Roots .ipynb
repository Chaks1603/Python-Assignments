{
 "cells": [
  {
   "cell_type": "code",
   "execution_count": 1,
   "id": "1acae593",
   "metadata": {},
   "outputs": [],
   "source": [
    "import numpy as np"
   ]
  },
  {
   "cell_type": "markdown",
   "id": "876988cc",
   "metadata": {},
   "source": [
    "Write a Python program to find the root of the equation $x^3+3x^2+6x+9=0$ using Bisection method.                                                     \n",
    "Take the initial interval to be $[-5,5]$, that is, $x[0]=−5,x[1]=5$. Take tolerance $eps = 10^{−4}$ and $N = 10$ iterations.                            \n",
    "What is the value of root rounded to two decimal places?                                                                      \n",
    "##### Bisection\n",
    "\n",
    "$\\qquad\\qquad\\displaystyle x_{n+1}= \\frac{x_n + x_{n-1}}{2}$"
   ]
  },
  {
   "cell_type": "code",
   "execution_count": 2,
   "id": "15d73225",
   "metadata": {},
   "outputs": [
    {
     "data": {
      "text/plain": [
       "-2.15"
      ]
     },
     "execution_count": 2,
     "metadata": {},
     "output_type": "execute_result"
    }
   ],
   "source": [
    "def bisection_method(f, a, b, tolerance, N=100):\n",
    "    x = np.zeros(N)\n",
    "    x[0] = a\n",
    "    x[1] = b\n",
    "    for i in range(2,N):\n",
    "        mid = (x[i-2] + x[i-1])/2\n",
    "        if (abs(mid-x[i-1]) < tolerance):\n",
    "            x[i] = mid\n",
    "            break\n",
    "        if f(x[i-2])*f(mid) > 0:\n",
    "            x[i] = mid\n",
    "        else:\n",
    "            x[i-1] = x[i-2]; x[i] = mid\n",
    "    return (i, x[i])\n",
    "\n",
    "def f(x):\n",
    "    return x**3 + 3*x**2 + 6*x + 9\n",
    "\n",
    "a = -5\n",
    "b = 5\n",
    "tolerance = 1e-4\n",
    "N = 10\n",
    "root = bisection_method(f, a, b, tolerance, N)[1]\n",
    "round(root, 2)"
   ]
  },
  {
   "cell_type": "markdown",
   "id": "c0646a7b",
   "metadata": {},
   "source": [
    "Write a python program to find  the root of $e^x−6=0$, using newton-raphson method.                                                                 \n",
    "Take initial guess to be $x = 3.0$, tolerance to be $eps = 10^{−4}$ and $N = 10$ iterations.                                                             \n",
    "What is the value of root rounded to 4 decimal places and at which index does the loop breaks due to tolerance condition being met?                      \n",
    "Note: your loop will go from $i = 1$ to $N$, since $x[0] = 3.0$ is already given. You should have a tolerance condition $abs(x[i] - x[i-1])  < eps$,   \n",
    "after calculating successive value of $x$ so that you can break out of the for loop if the tolerance condition is met.                                                                                                                  \n",
    "When the condition is met break out of loop and store the answer as $ans = x[i]$ where $i$ is the loop index at which the for loop breaks.                                                                                                                   \n",
    "##### Newton-Raphson\n",
    "\n",
    "$\\qquad\\qquad\\displaystyle x_{n+1}=x_n - \\frac{f(x_{n})}{f'(x_{n})}$"
   ]
  },
  {
   "cell_type": "code",
   "execution_count": 3,
   "id": "472ce7bd",
   "metadata": {},
   "outputs": [
    {
     "data": {
      "text/plain": [
       "(1.7918, 5)"
      ]
     },
     "execution_count": 3,
     "metadata": {},
     "output_type": "execute_result"
    }
   ],
   "source": [
    "def newton_raphson(f, df, a, tolerance, N=100):\n",
    "    x = np.zeros(N)\n",
    "    x[0] = a\n",
    "    for i in range(1,N):\n",
    "        x[i] = x[i-1] - f(x[i-1])/df(x[i-1])\n",
    "        if (abs(x[i]-x[i-1]) < tolerance):\n",
    "            break\n",
    "    return (i, x[i])\n",
    "\n",
    "def f(x):\n",
    "    return np.exp(x) - 6\n",
    "\n",
    "def df(x):\n",
    "    return np.exp(x)\n",
    "\n",
    "x0 = 3.0\n",
    "tol = 1e-4\n",
    "N = 10\n",
    "i, r = newton_raphson(f, df, x0, tol, N)\n",
    "round( r, 4), i"
   ]
  },
  {
   "cell_type": "markdown",
   "id": "c1b1f98d",
   "metadata": {},
   "source": [
    "Write a python program to find the root of the equation $\\sin(x) = x$, using relaxation method.                                                       \n",
    "Take the initial guess to be $x = 1$ , tolerance to be $eps = 10^{−4}$ and $N = 1000$ iterations. What is the value of the root rounded to $3$ decimal places?.                                                                                           \n",
    "Hint : define $x$ array with size $N$ and store $x[0] = 1$.                                                                  \n",
    "Now enter a for loop from $1$ to $N$ and calculate $x[i] = f(x[i-1])$ until the $abs(x[i] - x[i-1]) < eps$,                                                                                                                                         \n",
    "when that happens break out of the loop and store the answer as $ans = x[i]$.                                                                           \n",
    "Note: The value of $N$ is only given so that program does not go into infinite loop.                                             \n",
    "You will get the answer within given tolerance much earlier than loop completes."
   ]
  },
  {
   "cell_type": "code",
   "execution_count": 4,
   "id": "c9facf5f",
   "metadata": {},
   "outputs": [
    {
     "data": {
      "text/plain": [
       "0.084"
      ]
     },
     "execution_count": 4,
     "metadata": {},
     "output_type": "execute_result"
    }
   ],
   "source": [
    "def f(x):\n",
    "    return np.sin(x)\n",
    "\n",
    "x0 = 1.0           \n",
    "eps = 1e-4        \n",
    "N = 1000         \n",
    "x = np.zeros(N)\n",
    "x[0] = x0\n",
    "\n",
    "for i in range(1, N):\n",
    "    x[i] = f(x[i-1])  \n",
    "    if abs(x[i] - x[i-1]) < eps:  \n",
    "        ans = x[i]\n",
    "        break\n",
    "    else:\n",
    "        ans = x[-1]\n",
    "\n",
    "round(ans,3)"
   ]
  },
  {
   "cell_type": "markdown",
   "id": "60489e98",
   "metadata": {},
   "source": [
    "Write a python program to find the root of $f(x) = exp(x) - 6$, using secant method.                                                                   \n",
    "Take the two initial points to be $x_0=3,x_1=2.5, eps = 10^{−4}$ and $N = 10$ iterations.                                                                   \n",
    "Let $a$ be the value of the root by the secant method.                                                                                                   \n",
    "Now you solved the same equation with newton-raphson method with initial value $3.0$, tolerance $10^{−4}$ and $10$ iterations in question $4$.          \n",
    "Let $b$ be the answer by newton-raphson method (the complete answer not the rounded one).                                                                   \n",
    "Now define $e = \\frac{a−b}{b}∗10^5$ ,  What is the value of $e$ rounded to $4$ decimal places?                                                        \n",
    "Note: for secant method the loop will start from $i = 2$ to $N$. Since $x[0] = 3.0$ and $x[1] = 2.5$ are already given.                                 \n",
    "You should have a tolerance condition $abs(x[i] - x[i-1])  < eps$, after calculating successive value of $x$ so that        \n",
    "you can break out of the for loop if the tolerance condition is met.                                                             \n",
    "When the condition is met break out of loop and store the answer as $ans = x[i]$ where $i$ is the loop index at which the for loop breaks.                                                                                                                  \n",
    "##### Secant \n",
    "\n",
    "$\\qquad\\qquad\\displaystyle x_{n+1}=x_n - f(x_n)\\frac{x_{n}-x_{n-1}}{f(x_{n})-f(x_{n-1})}$"
   ]
  },
  {
   "cell_type": "code",
   "execution_count": 5,
   "id": "8b45d6f7",
   "metadata": {},
   "outputs": [
    {
     "data": {
      "text/plain": [
       "0.2572"
      ]
     },
     "execution_count": 5,
     "metadata": {},
     "output_type": "execute_result"
    }
   ],
   "source": [
    "def secant_method(f, a, b, tolerance, N=100):\n",
    "    x = np.zeros(N)\n",
    "    x[0] = a\n",
    "    x[1] = b\n",
    "    for i in range(2,N):\n",
    "        x[i] = x[i-1] - f(x[i-1])*(x[i-1]-x[i-2])/(f(x[i-1])-f(x[i-2]))\n",
    "        if (abs(x[i]-x[i-1]) < tolerance):\n",
    "            break\n",
    "    return (i,x[i])\n",
    "\n",
    "def f(x):\n",
    "    return np.exp(x) - 6\n",
    "\n",
    "def df(x):\n",
    "    return np.exp(x)\n",
    "\n",
    "x0  = 3\n",
    "x1  = 2.5\n",
    "tol = 1e-3\n",
    "N   = 10\n",
    "\n",
    "# secant\n",
    "_, a = secant_method(f, x0, x1, tol, N)\n",
    "\n",
    "# newton\n",
    "_, b = newton_raphson(f, df, x0, tol, N)\n",
    "\n",
    "# error\n",
    "e = ((a - b) / b) * 1e5\n",
    "round( e, 4)"
   ]
  },
  {
   "cell_type": "markdown",
   "id": "28de7e46",
   "metadata": {},
   "source": [
    "Write a python program to find the roots of the equation $f(x) = sin(x)$ using bisection method. Take $N = 100$, and $eps = 10^{−4}$.                   \n",
    "You have to find two roots, one negative and one positive. For the negative root take $x_0=−5,x_1=0$. For the positive root take $x_0=1,x_1=5$.         \n",
    "Let $rp$ be the positive root and $rn$ be the negative root. Now define $e = \\frac{rn+rp}{rn−rp}\\times10^6$, What is the value of $e$ to $4$ decimal places?"
   ]
  },
  {
   "cell_type": "code",
   "execution_count": 6,
   "id": "74c308ed",
   "metadata": {},
   "outputs": [
    {
     "name": "stdout",
     "output_type": "stream",
     "text": [
      "estimated -ve root rn : -3.1415557861328125\n",
      "estimated +ve root rp :  3.14154052734375\n",
      "Estimated Error (e)   :  2.4285 \n"
     ]
    }
   ],
   "source": [
    "def f(x):\n",
    "    return np.sin(x)\n",
    "\n",
    "    \n",
    "tolerance = 1e-4\n",
    "N = 100\n",
    "\n",
    "# case 1\n",
    "a = -5\n",
    "b =  0\n",
    "_, rn = bisection_method(f, a, b, tolerance, N)\n",
    "print(\"estimated -ve root rn :\", rn)\n",
    "\n",
    "# case 2\n",
    "a = 1\n",
    "b = 5\n",
    "_, rp = bisection_method(f, a, b, tolerance, N)\n",
    "print(\"estimated +ve root rp : \", rp)\n",
    "\n",
    "# error\n",
    "e = ((rn + rp) / (rn - rp)) * 1e6\n",
    "print(f\"Estimated Error (e)   :  {e:.4f} \")"
   ]
  },
  {
   "cell_type": "markdown",
   "id": "3a303934",
   "metadata": {},
   "source": [
    "Write a python program to find the root of the function $f(x) = x^2−1$, using the brentq function from scipy.optimize module. Take the interval to be $[0.5,1.5]$.                                                                                                                                            \n",
    "Let the value of root be $r$. Now define $e = \\frac{1−r}{r}∗10^{15}$, What is the value of $e$ rounded to three decimal places?"
   ]
  },
  {
   "cell_type": "code",
   "execution_count": 7,
   "id": "e684a92b",
   "metadata": {},
   "outputs": [
    {
     "data": {
      "text/plain": [
       "0.666"
      ]
     },
     "execution_count": 7,
     "metadata": {},
     "output_type": "execute_result"
    }
   ],
   "source": [
    "from scipy.optimize import brentq\n",
    "\n",
    "def f(x):\n",
    "    return x**2 - 1\n",
    "\n",
    "x0, x1 = 0.5, 1.5\n",
    "r = brentq(f, x0, x1)\n",
    "e = ((1 - r) / r) * 1e15\n",
    "round(e, 3)"
   ]
  },
  {
   "cell_type": "markdown",
   "id": "2cdd4422",
   "metadata": {},
   "source": [
    "Write a python program to find the roots of the function $f(x) = x^2−1$.                                                                                \n",
    "Use the brentq function in the interval $[0.5,1.5]$ to find positive root and use the brenth function in the interval $[-2,-0.5]$ to find the negative root.                                                                                                                                                   \n",
    "Both these functions are available in the scipy.optimize module. Let the value of positive root be $rp$ and the value of negative root be $rn$.      \n",
    "Now define $e = \\frac{rp+rn}{rp−rn}∗10^{15}$, What is the value of $e$ rounded to 4 decimal places? "
   ]
  },
  {
   "cell_type": "code",
   "execution_count": 8,
   "id": "584c8566",
   "metadata": {},
   "outputs": [
    {
     "data": {
      "text/plain": [
       "4.4964"
      ]
     },
     "execution_count": 8,
     "metadata": {},
     "output_type": "execute_result"
    }
   ],
   "source": [
    "from scipy.optimize import brentq, brenth\n",
    "\n",
    "def f(x):\n",
    "    return x**2 - 1\n",
    "\n",
    "rp = brentq(f, 0.5, 1.5)\n",
    "rn = brenth(f, -2, -0.5)\n",
    "e = ((rp + rn) / (rp - rn)) * 1e15\n",
    "round( e, 4)"
   ]
  }
 ],
 "metadata": {
  "kernelspec": {
   "display_name": "Python 3 (ipykernel)",
   "language": "python",
   "name": "python3"
  },
  "language_info": {
   "codemirror_mode": {
    "name": "ipython",
    "version": 3
   },
   "file_extension": ".py",
   "mimetype": "text/x-python",
   "name": "python",
   "nbconvert_exporter": "python",
   "pygments_lexer": "ipython3",
   "version": "3.10.9"
  }
 },
 "nbformat": 4,
 "nbformat_minor": 5
}
