{
 "cells": [
  {
   "cell_type": "code",
   "execution_count": 1,
   "id": "862b429d",
   "metadata": {},
   "outputs": [],
   "source": [
    "import numpy as np"
   ]
  },
  {
   "cell_type": "markdown",
   "id": "26b02d00",
   "metadata": {},
   "source": [
    "<span style=\"color:red\">Write a python code to evaluate the first derivative of the function $f(x)=x^2+x^3+x^5$ at $x=1.1$ using the 2-point forward difference scheme for $h = 0.1$.    </span>                                                                                            \n",
    "<span style=\"color:red\">Round the answer to $3$ decimal places using the Python function `round()` as below: `ans = round(ans, 3)`  </span>                                                                                                                  \n",
    "<span style=\"color:red\">Note: Do not use inbuilt methods/libraries to compute the derivative. </span>    "
   ]
  },
  {
   "cell_type": "code",
   "execution_count": 2,
   "id": "4632f73e",
   "metadata": {},
   "outputs": [
    {
     "data": {
      "text/plain": [
       "15.048"
      ]
     },
     "execution_count": 2,
     "metadata": {},
     "output_type": "execute_result"
    }
   ],
   "source": [
    "def forward_difference(f, x, h):\n",
    "    return (f(x + h) - f(x)) / h     # Define the 2-point forward difference scheme\n",
    "\n",
    "def f(x):\n",
    "    return x**2 + x**3 + x**5\n",
    "\n",
    "# Parameters\n",
    "x = 1.1\n",
    "h = 0.1\n",
    "\n",
    "derivative = forward_difference(f, x, h)\n",
    "round(derivative, 3)"
   ]
  },
  {
   "cell_type": "markdown",
   "id": "7a435665",
   "metadata": {},
   "source": [
    "<span style=\"color:red\">Write a python code to find the first derivative of the function $f(x)=x+\\frac{x^2}{4}+\\frac{x^3}{9}$ at $x=2.0$ using the 2-point backward difference scheme for $h = 0.1$.  </span>                                                                                   \n",
    "<span style=\"color:red\">Round your answer to 3 decimal places. Note: Do not use inbuilt methods/libraries. </span>    "
   ]
  },
  {
   "cell_type": "code",
   "execution_count": 3,
   "id": "e308ceb0",
   "metadata": {},
   "outputs": [
    {
     "data": {
      "text/plain": [
       "3.243"
      ]
     },
     "execution_count": 3,
     "metadata": {},
     "output_type": "execute_result"
    }
   ],
   "source": [
    "def backward_difference(f, x, h):\n",
    "    return (f(x) - f(x - h)) / h       # Define the 2-point backward difference scheme\n",
    "\n",
    "def f(x):\n",
    "    return x + (x**2 / 4.0) + (x**3/ 9.0) \n",
    "\n",
    "# Parameters\n",
    "x = 2.0\n",
    "h = 0.1\n",
    "\n",
    "derivative = backward_difference(f, x, h)\n",
    "round(derivative, 3)"
   ]
  },
  {
   "cell_type": "markdown",
   "id": "17b9d920",
   "metadata": {},
   "source": [
    "<span style=\"color:red\">Write a python code to find the first derivative of the function $f(x)=\\frac{x^2−1}{x^2+1}$ at $x = 0.09$ using the 3-point central difference scheme for $h = 0.01$.  </span>                                                                                           \n",
    "<span style=\"color:red\">Round the answer to 1 decimal place. Note: Do not use inbuilt methods/libraries. </span>    "
   ]
  },
  {
   "cell_type": "code",
   "execution_count": 4,
   "id": "7e89c637",
   "metadata": {},
   "outputs": [
    {
     "data": {
      "text/plain": [
       "0.4"
      ]
     },
     "execution_count": 4,
     "metadata": {},
     "output_type": "execute_result"
    }
   ],
   "source": [
    "def central_difference(f, x, h):\n",
    "    return (f(x + h) - f(x - h)) / (2 * h)  # Define the 3-point central difference scheme\n",
    "\n",
    "def f(x):\n",
    "    return (x**2 - 1) / (x**2 + 1)\n",
    "\n",
    "# Parameters\n",
    "x = 0.09\n",
    "h = 0.01\n",
    "\n",
    "derivative = central_difference(f, x, h)\n",
    "round(derivative, 1)"
   ]
  },
  {
   "cell_type": "markdown",
   "id": "edd085b4",
   "metadata": {},
   "source": [
    "<span style=\"color:red\">Write a python code to solve the differential equation $\\frac{dx}{dt}=\\frac{1}{x}+\\frac{1}{t}$.  </span>                                       \n",
    "<span style=\"color:red\">Use Euler’s forward scheme with time step, $∆t = 0.001$ to find the value of $x(t)$ at  $t=2.0$ for the initial condition $x(1)=1$.        </span>                                                                                       \n",
    "<span style=\"color:red\">Round the answer to two decimal places. Note: You should not use any inbuilt methods/libraries in your code. </span>    "
   ]
  },
  {
   "cell_type": "code",
   "execution_count": 5,
   "id": "cb09c6fe",
   "metadata": {},
   "outputs": [
    {
     "data": {
      "text/plain": [
       "2.3"
      ]
     },
     "execution_count": 5,
     "metadata": {},
     "output_type": "execute_result"
    }
   ],
   "source": [
    "def euler_forward(f, x0, t0, dt, t_end):\n",
    "    x, t = x0, t0\n",
    "    while t < t_end:\n",
    "        x = x + f(x, t) * dt\n",
    "        t = t + dt\n",
    "    return x\n",
    "\n",
    "def f(x, t):\n",
    "    return 1/x + 1/t\n",
    "\n",
    "# Initial conditions and parameters\n",
    "x0 = 1.0    # Initial value x(1) = 1\n",
    "t0 = 1.0    # Initial time t = 1\n",
    "t_end = 2.0 # Final time t = 2\n",
    "dt = 0.001  # Time step\n",
    "\n",
    "x_t = euler_forward(f, x0, t0, dt, t_end)\n",
    "round(x_t, 2)"
   ]
  },
  {
   "cell_type": "markdown",
   "id": "a6bbcc85",
   "metadata": {},
   "source": [
    "<span style=\"color:red\">Write a python code to solve the differential equation $\\frac{dx}{dt}=x^2−100x$.  </span>                                                          \n",
    "<span style=\"color:red\">Use Euler’s backward scheme with time step, $ \\Delta t = 0.001$ to find the value of $x(t)$ at $t = 1$ for the initial condition  $x(0)=1$. </span>                                                                                  \n",
    "<span style=\"color:red\">Round the answer to two decimal places. Note: You should not use any inbuilt methods/libraries in your code. </span>    "
   ]
  },
  {
   "cell_type": "code",
   "execution_count": 6,
   "id": "9e0c35f1",
   "metadata": {},
   "outputs": [
    {
     "data": {
      "text/plain": [
       "0.0"
      ]
     },
     "execution_count": 6,
     "metadata": {},
     "output_type": "execute_result"
    }
   ],
   "source": [
    "def euler_backward(f, x0, t0, dt, t_end):\n",
    "    x = x0\n",
    "    t = t0\n",
    "    while t < t_end:\n",
    "        x_new = x          # Initial guess for x_new is the old x value\n",
    "        for _ in range(10):  # Iterate to refine x_new\n",
    "            x_new = x + dt * f(x_new)\n",
    "        x = x_new\n",
    "        t += dt\n",
    "    return x\n",
    "\n",
    "def f(x):\n",
    "    return x**2 - 100*x\n",
    "\n",
    "# Initial conditions and parameters\n",
    "x0    = 1.0    # Initial value x(0) = 1\n",
    "t0    = 0.0    # Initial time t = 0\n",
    "t_end = 1.0    # Final time t = 1\n",
    "dt    = 0.001  # Time step\n",
    "\n",
    "x_t = euler_backward(f, x0, t0, dt, t_end)\n",
    "round(x_t, 2)"
   ]
  },
  {
   "cell_type": "markdown",
   "id": "64153d98",
   "metadata": {},
   "source": [
    "<span style=\"color:red\">A body of mass $3kg$ is attached to a spring with a spring constant 9.   </span>                                                            \n",
    "<span style=\"color:red\">The motion of the body is impeded by a drag force whose magnitude is 6 times speed and the direction is opposite to that of its velocity.       </span>                                                                                                                    \n",
    "<span style=\"color:red\">The differential equation governing the displacement, $y$ of body is given by $\\frac{d^2y}{dt^2}+2\\frac{dy}{dt}+3y=0$.     </span>                                                                                                    \n",
    "<span style=\"color:red\">Find the displacement $y(t=4)$ using Euler-Forward scheme given that $y(0)=4.0$ and $\\frac{dy}{dt}(0)=−1.0$. Take  $\\Delta t=0.001$.  </span>                                                                                       \n",
    "<span style=\"color:red\">Round your answer to 2 decimal places. </span>    "
   ]
  },
  {
   "cell_type": "code",
   "execution_count": 7,
   "id": "e15c900a",
   "metadata": {},
   "outputs": [
    {
     "data": {
      "text/plain": [
       "0.04"
      ]
     },
     "execution_count": 7,
     "metadata": {},
     "output_type": "execute_result"
    }
   ],
   "source": [
    "def euler_forward(f, y0, v0, t0, t_end, dt):\n",
    "    y = y0\n",
    "    v = v0\n",
    "    t = t0\n",
    "    while t < t_end:\n",
    "        dy_dt, dv_dt = f(y, v)\n",
    "        y = y + dy_dt * dt\n",
    "        v = v + dv_dt * dt\n",
    "        t += dt\n",
    "    return y\n",
    "\n",
    "def f(y, v):\n",
    "    dy_dt = v\n",
    "    dv_dt = -2 * v - 3 * y\n",
    "    return dy_dt, dv_dt\n",
    "\n",
    "# Initial conditions and parameters\n",
    "y0    = 4.0    # Initial displacement y(0) = 4.0\n",
    "v0    = -1.0   # Initial velocity dy/dt(0) = -1.0\n",
    "t0    = 0.0    # Initial time t = 0\n",
    "t_end = 4.0    # Final time t = 4\n",
    "dt    = 0.001  # Time step\n",
    "\n",
    "y_t = euler_forward(f, y0, v0, t0, t_end, dt)\n",
    "round(y_t, 2)"
   ]
  },
  {
   "cell_type": "markdown",
   "id": "f36cc3f7",
   "metadata": {},
   "source": [
    "<span style=\"color:red\">The differential equation which relates the current $i$, voltage $V$, resistance $R$ and inductance $L$ of a series electrical circuit, is given by -  </span>                                                                                               \n",
    "## <span style=\"color:red\">$\\qquad \\frac{di}{dt}+RLi=VL$.  </span>                                                                                                       \n",
    "<span style=\"color:red\">Use Euler forward and Euler backward  scheme to find the value of current $i(t=2)$ for the initial condition $i(t=0)=0.0$.    </span>                                                                                               \n",
    "<span style=\"color:red\">Use  $V=240.0, R=20.0, L=50.0$ and $Δt=0.01$.  </span>                                                                                                                                                                                                                         \n",
    "<span style=\"color:red\">Let's say the result from Euler forward scheme is e_forward and from euler backward scheme is e_backward. Round them both to two decimal places.        </span>                                                                                                                    \n",
    "<span style=\"color:red\">Now calculate the following quantity      </span>                                                                                               \n",
    "## <span style=\"color:red\"><span style=\"color:red\">$ \\qquad e=\\frac{(e_{forward} − e_{backward})}{(e_{forward} + e_{backward})} \\times 10^4 $ </span>    \n",
    "\n",
    "<span style=\"color:red\">Round the value of $e$ to two decimal places using `round(e,2)`. What is the value of e ? </span>    "
   ]
  },
  {
   "cell_type": "code",
   "execution_count": 8,
   "id": "b78cf0f0",
   "metadata": {},
   "outputs": [
    {
     "data": {
      "text/plain": [
       "15.13"
      ]
     },
     "execution_count": 8,
     "metadata": {},
     "output_type": "execute_result"
    }
   ],
   "source": [
    "# Euler-Forward Scheme\n",
    "def euler_forward(i0, V, R, L, dt, t_end):\n",
    "    i = i0\n",
    "    t = 0.0\n",
    "    while t < t_end:\n",
    "        i = i + dt * (V - R * i) / L\n",
    "        t += dt\n",
    "    return i\n",
    "\n",
    "# Euler-Backward Scheme\n",
    "def euler_backward(i0, V, R, L, dt, t_end):\n",
    "    i = i0\n",
    "    t = 0.0\n",
    "    while t < t_end:\n",
    "        i = (i + dt * V / L) / (1 + dt * R / L)\n",
    "        t += dt\n",
    "    return i\n",
    "\n",
    "# Parameters\n",
    "V     = 240.0    # Voltage\n",
    "R     = 20.0     # Resistance\n",
    "L     = 50.0     # Inductance\n",
    "dt    = 0.01     # Time step\n",
    "t_end = 2.0      # Final time\n",
    "i_0   = 0.0      # Initial current i(0)\n",
    "\n",
    "e_forward  = round(euler_forward(i_0, V, R, L, dt, t_end), 2)\n",
    "e_backward = round(euler_backward(i_0, V, R, L, dt, t_end), 2)\n",
    "error      = ((e_forward - e_backward) / (e_forward + e_backward)) * 10**4\n",
    "round(error, 2)"
   ]
  },
  {
   "cell_type": "markdown",
   "id": "f945facc",
   "metadata": {},
   "source": [
    "<span style=\"color:red\">Write a python program to solve the differential equation $\\frac{dx}{dt}+xt=0$ by using Euler's backward scheme with time step, $\\Delta t=0.01$  <span style=\"color:red\">                                                                                                               \n",
    "<span style=\"color:red\">and find the value of $x(t=2.0)$ given the initial condition $x(t=0)=1.0$. Round the answer to 2 decimal places.<span style=\"color:red\">"
   ]
  },
  {
   "cell_type": "code",
   "execution_count": 9,
   "id": "dff5f347",
   "metadata": {},
   "outputs": [
    {
     "data": {
      "text/plain": [
       "0.14"
      ]
     },
     "execution_count": 9,
     "metadata": {},
     "output_type": "execute_result"
    }
   ],
   "source": [
    "def euler_backward(x0, dt, t_end):\n",
    "    x = x0\n",
    "    t = 0.0\n",
    "    while t < t_end:\n",
    "        x = x / (1 + dt)\n",
    "        t += dt\n",
    "    return x\n",
    "\n",
    "# Parameters\n",
    "dt    = 0.01     # Time step\n",
    "t_end = 2.0      # Final time\n",
    "x0    = 1.0      # Initial condition\n",
    "\n",
    "x_t_end = euler_backward(x0, dt, t_end)\n",
    "round(x_t_end, 2)"
   ]
  },
  {
   "cell_type": "markdown",
   "id": "3a4e75f1",
   "metadata": {},
   "source": [
    "<span style=\"color:red\">Write a Python program to solve the differential equation $\\frac{dx}{dt}=\\frac{x}{t^2}$ using Trapezoid method and evaluate $x(t=2.0)$. <span style=\"color:red\">                                                                                                                         \n",
    "<span style=\"color:red\">Use time step, $\\Delta t=0.01$ and the initial condition, $x(t=1)=1$. Round your answer to 2 decimal places.<span style=\"color:red\">"
   ]
  },
  {
   "cell_type": "code",
   "execution_count": 10,
   "id": "c0063d74",
   "metadata": {},
   "outputs": [
    {
     "data": {
      "text/plain": [
       "1.65"
      ]
     },
     "execution_count": 10,
     "metadata": {},
     "output_type": "execute_result"
    }
   ],
   "source": [
    "def trapezoid_method(x0, dt, t_end, t_start):\n",
    "    x = x0\n",
    "    t = t_start\n",
    "    while t < t_end:\n",
    "        t_next = t + dt\n",
    "        x_next = (x + (dt / 2) * (x / t**2)) / (1 - (dt / 2) * (1 / t_next**2))  #  x_next using the Trapezoid method\n",
    "        x = x_next\n",
    "        t = t_next\n",
    "    return x\n",
    "\n",
    "# Parameters\n",
    "dt      = 0.01     # Time step\n",
    "t_end   = 2.0      # Final time\n",
    "x0      = 1.0      # Initial condition\n",
    "t_start = 1.0      # Initial time\n",
    "\n",
    "x_t_end = trapezoid_method(x0, dt, t_end, t_start)\n",
    "round(x_t_end, 2)"
   ]
  },
  {
   "cell_type": "markdown",
   "id": "76a782f9",
   "metadata": {},
   "source": [
    "<span style=\"color:red\">Write a python code to solve the differential equation $\\frac{dy}{dx}=x+y$ using Euler Forward scheme and find the value of $y(x=2)$.   <span style=\"color:red\">          \n",
    "<span style=\"color:red\">Take time step, $\\Delta x=0.01$ and the initial condition to be $y(x=0)=1.0$.Round the answer to two decimal places.<span style=\"color:red\">"
   ]
  },
  {
   "cell_type": "code",
   "execution_count": 11,
   "id": "20e7b472",
   "metadata": {},
   "outputs": [
    {
     "data": {
      "text/plain": [
       "11.63"
      ]
     },
     "execution_count": 11,
     "metadata": {},
     "output_type": "execute_result"
    }
   ],
   "source": [
    "def euler_forward(y0, dx, x_end):\n",
    "    y = y0\n",
    "    x = 0.0\n",
    "    while x < x_end:\n",
    "        y = y + dx * (x + y)  # Update y using Euler Forward formula\n",
    "        x += dx               # Increment x\n",
    "    return y\n",
    "\n",
    "# Parameters\n",
    "dx    = 0.01     # Time step (Δx)\n",
    "x_end = 2.0      # Final value of x\n",
    "y0    = 1.0      # Initial condition y(x=0)\n",
    "\n",
    "y_at_end = euler_forward(y0, dx, x_end)\n",
    "round(y_at_end, 2)"
   ]
  }
 ],
 "metadata": {
  "kernelspec": {
   "display_name": "Python 3 (ipykernel)",
   "language": "python",
   "name": "python3"
  },
  "language_info": {
   "codemirror_mode": {
    "name": "ipython",
    "version": 3
   },
   "file_extension": ".py",
   "mimetype": "text/x-python",
   "name": "python",
   "nbconvert_exporter": "python",
   "pygments_lexer": "ipython3",
   "version": "3.10.9"
  }
 },
 "nbformat": 4,
 "nbformat_minor": 5
}
