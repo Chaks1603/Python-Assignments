{
 "cells": [
  {
   "cell_type": "code",
   "execution_count": 1,
   "id": "30029803",
   "metadata": {},
   "outputs": [],
   "source": [
    "import numpy as np\n",
    "from sympy import *\n",
    "from IPython.display import display, Math"
   ]
  },
  {
   "cell_type": "markdown",
   "id": "d667f8cf",
   "metadata": {},
   "source": [
    " What is the solution of 1D Laplace equation,$\\frac{d^2\\phi}{dx^2}$ for the respective boundary conditions: $\\phi ′(0)=1,\\phi(1)=0?$ "
   ]
  },
  {
   "cell_type": "code",
   "execution_count": 2,
   "id": "34050437",
   "metadata": {},
   "outputs": [
    {
     "name": "stdout",
     "output_type": "stream",
     "text": [
      "Given eqn.\n"
     ]
    },
    {
     "data": {
      "text/latex": [
       "$\\displaystyle \\frac{d^{2}}{d x^{2}} \\phi{\\left(x \\right)} = 0$"
      ],
      "text/plain": [
       "Eq(Derivative(phi(x), (x, 2)), 0)"
      ]
     },
     "metadata": {},
     "output_type": "display_data"
    },
    {
     "name": "stdout",
     "output_type": "stream",
     "text": [
      "\n",
      " general soln. :\n"
     ]
    },
    {
     "data": {
      "text/latex": [
       "$\\displaystyle \\phi{\\left(x \\right)} = C_{1} + C_{2} x$"
      ],
      "text/plain": [
       "Eq(phi(x), C1 + C2*x)"
      ]
     },
     "metadata": {},
     "output_type": "display_data"
    },
    {
     "name": "stdout",
     "output_type": "stream",
     "text": [
      "\n",
      " particular soln. :\n"
     ]
    },
    {
     "data": {
      "text/latex": [
       "$\\displaystyle \\phi{\\left(x \\right)} = x - 1$"
      ],
      "text/plain": [
       "Eq(phi(x), x - 1)"
      ]
     },
     "metadata": {},
     "output_type": "display_data"
    }
   ],
   "source": [
    "x=symbols('x',real=True)\n",
    "phi=Function('phi')(x)\n",
    "d2phi=diff(phi,x,2)\n",
    "\n",
    "eq1=Eq(d2phi,0)\n",
    "print('Given eqn.')\n",
    "display(eq1)\n",
    "\n",
    "s1a=dsolve(eq1)\n",
    "print('\\n general soln. :')\n",
    "display(s1a)\n",
    "\n",
    "s1b=dsolve(eq1, ics={phi.subs(x,1): 0,phi.diff(x).subs(x,0):1})\n",
    "print('\\n particular soln. :')\n",
    "display(s1b)"
   ]
  },
  {
   "cell_type": "markdown",
   "id": "8d376d98",
   "metadata": {},
   "source": [
    "Which of the following describes Dirichlet boundary conditions correctly for a scalar field $\\phi(x,y)?$                  \n",
    "Here $a$ is constants and $\\hat{n}$ is unit vector normal to the walls.                                                         \n",
    "Ans :- In Dirichlet boundary conditions, we specify the values of the field (in this case, $\\phi$) directly on the boundary (the walls in this case).                                                                                                              \n",
    "The field $\\phi$ is set to a constant value $a$ at the boundary.                                                                           \n",
    "$\\qquad\\qquad\\boxed{\\phi_{(walls)} = a}$ is Dirichlet boundary condition                                                                                                                                                                \n",
    "The other two options,                                                                                                                         \n",
    "$ \\qquad \\ \\ \\bigg[\\frac{\\partial\\phi}{\\partial n}\\bigg]_{walls} = a $  is Neumann boundary conditions                                                                                                                                                    \n",
    "and $\\quad\\bigg[\\frac{\\partial^2\\phi}{\\partial n^2}\\bigg]_{walls} = a$,   This condition sets the value of the second derivative of  $\\phi$ normal to the boundary     "
   ]
  },
  {
   "cell_type": "markdown",
   "id": "650ad513",
   "metadata": {},
   "source": [
    "Which of the following scalar fields satisfies Laplace's equation?                                                    \n",
    "$ \\quad (i) \\phi(x,y,z)=2x2y^2z^3 \\qquad\\qquad (ii) \\phi(x,y,z)=x^2+y^2−2z^2+10$                                             "
   ]
  },
  {
   "cell_type": "code",
   "execution_count": 3,
   "id": "62704b75",
   "metadata": {},
   "outputs": [
    {
     "data": {
      "text/latex": [
       "$\\displaystyle  \\nabla^2$$\\phi_{1} = 24 x y^{2} z + 8 x z^{3}$"
      ],
      "text/plain": [
       "<IPython.core.display.Math object>"
      ]
     },
     "metadata": {},
     "output_type": "display_data"
    },
    {
     "data": {
      "text/latex": [
       "$\\displaystyle  \\nabla^2$$\\phi_{2} = 0$"
      ],
      "text/plain": [
       "<IPython.core.display.Math object>"
      ]
     },
     "metadata": {},
     "output_type": "display_data"
    }
   ],
   "source": [
    "x, y, z = symbols('x y z')\n",
    "phi = [ 4 * x * y**2 * z**3  ,         # (i )\n",
    "        x**2 + y**2 - 2 * z**2 + 10 ]  # (ii)\n",
    "\n",
    "for i, scalar in enumerate(phi):\n",
    "    laplacian_phi = diff(scalar, x, 2) + diff(scalar, y, 2) + diff(scalar, z, 2)    \n",
    "    display(Math(r'$ \\nabla^2$'+f'$\\phi_{{{i+1}}} = {latex(laplacian_phi)}$'))"
   ]
  },
  {
   "cell_type": "markdown",
   "id": "ab66ea79",
   "metadata": {},
   "source": [
    "In 2D, a potential $V(x,y)=x^2−y^2$ satisfies the Laplace's equation.                                                            \n",
    "What is the average value of potential $V$ over a disk centered at $(0,0)$ and with a unit radius?                                "
   ]
  },
  {
   "cell_type": "code",
   "execution_count": 4,
   "id": "8bb1e0be",
   "metadata": {},
   "outputs": [
    {
     "name": "stdout",
     "output_type": "stream",
     "text": [
      "Average value of potential over the disk: 0.0\n"
     ]
    }
   ],
   "source": [
    "x, y = symbols('x y')\n",
    "potential = x**2 - y**2\n",
    "x_min, x_max = -1, 1\n",
    "y_min, y_max = -(1 - x**2)**0.5, (1 - x**2)**0.5\n",
    "V_average = integrate(integrate(potential, (y, y_min, y_max)), (x, x_min, x_max))\n",
    "area_disk = pi * 1**2  # radius = 1\n",
    "V_average_value = (V_average / area_disk).evalf()  \n",
    "print(\"Average value of potential over the disk:\", round(V_average_value, 2))"
   ]
  },
  {
   "cell_type": "markdown",
   "id": "e6a20801",
   "metadata": {},
   "source": [
    "Solve the Laplace equation $\\nabla^2 f=0$  in a $128\\times 128$ grid (not including the boundary) for a potential $f$ in a charge free region using Jacobi method.                                                                                        \n",
    "The boundary values are  $f[0,:]=5,f[N+1,:]=0,f[:,0]=0,f[:,M+1]=0$, where $N = 128, M = 128$. Take tolerance $eps=10^{-6}$.  \n",
    "What is the value $f[1,-3]$ rounded to two decimal places? Note: use np.zeros to create the $f$ array.                                                                                    \n",
    "`f = np.zeros([N+2,M+2])`                                                                                                     \n",
    "`N = 128, M = 128       ` as given in the question.                                                                         \n",
    "Jacobi iteration formula for laplace equation is:                                                                                   \n",
    "$ {f[1:N+1,1:M+1]=\\frac{1}{4}(f[0:N,1:M+1]+f[2:N+2,1:M+1]+f[1:N+1,0:M]+f[1:N+1,2:M+2])}$                                                                       \n",
    "`f[1:N+1,1:M+1]=(f[0:N,1:M+1]+f[2:N+2,1:M+1]+f[1:N+1,0:M]+f[1:N+1,2:M+2])/4`                                                  \n",
    "And the error that you have to check at every iteration is                                                                   \n",
    "`error=np.max(np.absolute(fp[1:N+1,1:M+1]−f[1:N+1,1:M+1]))`                                                                     \n",
    "where $fp$ is the value of the function $f$ at the previous iteration and $f$ will the value at current iteration.              \n",
    "`while(error > eps) : `                                                                                                              \n",
    "`      fp =  f.copy()   `                                                                                                               \n",
    "$\\qquad$\tcalculate new value of $f$ ,                                                                                           \n",
    "$\\qquad$\tcalculate error value                                                                                                \n",
    "Note: $eps$ is given and you can take initiali value of ` error = 1 ` so that your program can enter the while loop"
   ]
  },
  {
   "cell_type": "code",
   "execution_count": 5,
   "id": "4cc93db4",
   "metadata": {},
   "outputs": [
    {
     "data": {
      "text/plain": [
       "3.49"
      ]
     },
     "execution_count": 5,
     "metadata": {},
     "output_type": "execute_result"
    }
   ],
   "source": [
    "N           = 128  \n",
    "M           = 128\n",
    "eps         = 1e-6                    \n",
    "f           = np.zeros([N+2, M+2])  \n",
    "f[ 0 ,  : ] = 5                     # Boundary condition at the top\n",
    "#f[N+1,  : ] = 0                    # Boundary condition at the bottom\n",
    "#f[ : ,  0 ] = 0                    # Boundary condition at the left\n",
    "#f[ : , M+1] = 0                    # Boundary condition at the right\n",
    "error       = 1                      \n",
    "\n",
    "while error > eps:\n",
    "    fp              = f.copy()  \n",
    "    f[1:N+1, 1:M+1] = (fp[0:N, 1:M+1] + fp[2:N+2, 1:M+1] + fp[1:N+1, 0:M] + fp[1:N+1, 2:M+2])/4\n",
    "    error           = np.max(np.abs(fp[1:N+1, 1:M+1] - f[1:N+1, 1:M+1]))\n",
    "\n",
    "round(f[1, -3], 2)"
   ]
  },
  {
   "cell_type": "markdown",
   "id": "0b00b050",
   "metadata": {},
   "source": [
    "Solve the Poisson equation  $\\nabla^2 g=f$, where $f=\\exp(−16(x^2+y^2))$ using jacobi iteration method in a  2D box $−1\\le x\\le 1,−1\\le y\\le 1$                                                                                                        \n",
    "on $64\\times 64$ grid (grid excludes the boundary) with $h=\\frac{2}{64}, eps=10^{−6}$ and start with potential $g=0$ everywhere.                                                                                               \n",
    "What is the value of  $g[1,−2]∗10^5$ rounded to four decimal places?                                                          \n",
    "Note: use np.linspace to create $x$ and $y$ arrays                                                                        \n",
    "`x = np.linspace(-1,1,N+2)`,                                                                                                  \n",
    "`y = np.linspace(-1,1,M+2)`.                                                                                                 \n",
    "use np.zeros to create g array.                                                                                            \n",
    "`g = np.zeros([N+2,M+2])`.                                                                                                 \n",
    "`N = 64, M = 64` is given.                                                                                                      \n",
    "Now to create $f$ array you first create a meshgrid as follows                                                                   \n",
    "`xv,yv = np.meshgrid(x,y)`                                                                                                  \n",
    "Now use these $xv$ and $yv$ arrays to create $f$ array using `np.exp()` function.                                                \n",
    "Jacobi iteration formula for poisson equation is:                                                                                \n",
    "#### $\\tiny{g[1:N+1,1:M+1]=\\frac{1}{4}(g[0:N,1:M+1]+g[2:N+2,1:M+1]+g[1:N+1,0:M]+g[1:N+1,2:M+2])−\\frac{1}{4}h^2f[1:N+1,1:M+1]}$                                           \n",
    "`g[1:N+1,1:M+1]=((g[0:N,1:M+1]+g[2:N+2,1:M+1]+g[1:N+1,0:M]+g[1:N+1,2:M+2])−h**2∗f[1:N+1,1:M+1])/4`                           \n",
    "and the error that you check in every iteration is                                                                              \n",
    "`error=np.max(np.absolute(gp[1:N+1,1:M+1]−g[1:N+1,1:M+1]))`                                                                    \n",
    "where $gp$ is the value of the function $g$ at previous iteration. And $g$ is the value at current iteration.             \n",
    "The general structure of the while loop is                                                                                        \n",
    "` while(error > eps) :      `                                                                                                          \n",
    "`      gp =  g.copy()       `                                                                                                           \n",
    "$\\qquad$ calculate new value of $g$                                                                                                     \n",
    "$\\qquad$ calculate error value                                                                                                \n",
    "Note : $eps$ is given and you can take ` error = 1 ` so that your program can enter the while loop."
   ]
  },
  {
   "cell_type": "code",
   "execution_count": 6,
   "id": "bb37f876",
   "metadata": {},
   "outputs": [
    {
     "data": {
      "text/plain": [
       "-5.0431"
      ]
     },
     "execution_count": 6,
     "metadata": {},
     "output_type": "execute_result"
    }
   ],
   "source": [
    "N      = 64    \n",
    "M      = 64\n",
    "h      = 2 / 64               \n",
    "eps    = 1e-6               \n",
    "error  = 1                \n",
    "x, y   = np.linspace(-1, 1, N+2), np.linspace(-1, 1, M+2)  \n",
    "xv, yv = np.meshgrid(x, y)\n",
    "g      = np.zeros([N+2, M+2])  \n",
    "f      = np.exp(-16 * (xv**2 + yv**2)) \n",
    "\n",
    "while error > eps:\n",
    "    gp             = g.copy()  \n",
    "    g[1:N+1,1:M+1] = (gp[0:N,1:M+1] + gp[2:N+2,1:M+1] + gp[1:N+1,0:M] + gp[1:N+1,2:M+2] - h**2*f[1:N+1,1:M+1]) / 4\n",
    "    error          = np.max(np.abs(gp[1:N+1, 1:M+1] - g[1:N+1, 1:M+1]))\n",
    "\n",
    "round(g[1, -2] * 1e5, 4)"
   ]
  }
 ],
 "metadata": {
  "kernelspec": {
   "display_name": "Python 3 (ipykernel)",
   "language": "python",
   "name": "python3"
  },
  "language_info": {
   "codemirror_mode": {
    "name": "ipython",
    "version": 3
   },
   "file_extension": ".py",
   "mimetype": "text/x-python",
   "name": "python",
   "nbconvert_exporter": "python",
   "pygments_lexer": "ipython3",
   "version": "3.10.9"
  }
 },
 "nbformat": 4,
 "nbformat_minor": 5
}
