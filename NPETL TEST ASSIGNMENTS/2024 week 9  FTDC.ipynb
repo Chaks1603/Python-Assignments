{
 "cells": [
  {
   "cell_type": "code",
   "execution_count": 2,
   "id": "810cbf22",
   "metadata": {},
   "outputs": [],
   "source": [
    "import numpy as np"
   ]
  },
  {
   "cell_type": "markdown",
   "id": "c3d09ff8",
   "metadata": {},
   "source": [
    "<span style=\"color:red\"> What is the stability condition for solving diffusion equation $\\frac{∂\\psi}{∂t}=\\kappa\\frac{∂^2 \\psi}{∂x^2}$ using **Euler forward scheme** for time step $\\Delta t$ with finite difference scheme ?  </span>                                                            \n",
    "<span style=\"color:red\"> Here, $h$ is grid spacing and $\\kappa$ is diffusion coefficient. </span> \n",
    "\n",
    "\n",
    "The diffusion equation is:\n",
    "\n",
    "$\\qquad\\quad\\displaystyle \\frac{∂\\psi}{∂t} = \\kappa \\frac{∂^2 \\psi}{∂x^2} $\n",
    "\n",
    "- $\\displaystyle \\psi = \\psi(x,t) $ is the function we are solving for.\n",
    "- $\\displaystyle \\kappa $ is the diffusion coefficient.\n",
    "- $\\displaystyle \\Delta t $ is the time step.\n",
    "- $ h $ is the spatial grid spacing.\n",
    "\n",
    "We discretize this equation in both time and space.\n",
    "\n",
    "###### Time Discretization (Euler Forward)\n",
    "Using Euler forward, the time derivative $\\displaystyle \\frac{∂\\psi}{∂t} $ at time $ t_n $ is approximated as:\n",
    "\n",
    "$\\qquad\\quad\\displaystyle\\frac{\\psi_i^{n+1} - \\psi_i^n}{\\Delta t}$\n",
    "\n",
    "###### Space Discretization (Central Difference)\n",
    "For the spatial second derivative $\\displaystyle \\frac{∂^2 \\psi}{∂x^2} $, using a central difference scheme, we get:\n",
    "\n",
    "$\\qquad\\quad\\displaystyle\\displaystyle\\frac{∂^2 \\psi}{∂x^2} \\approx \\frac{\\psi_{i+1}^n - 2\\psi_i^n + \\psi_{i-1}^n}{h^2}$\n",
    "\n",
    "Substituting these into the diffusion equation:\n",
    "\n",
    "$\\qquad\\quad\\displaystyle\\frac{\\psi_i^{n+1} - \\psi_i^n}{\\Delta t} = \\kappa \\frac{\\psi_{i+1}^n - 2\\psi_i^n + \\psi_{i-1}^n}{h^2}$\n",
    "\n",
    "$\\qquad\\quad\\displaystyle\\psi_i^{n+1} = \\psi_i^n + \\frac{\\kappa \\Delta t}{h^2} (\\psi_{i+1}^n - 2\\psi_i^n + \\psi_{i-1}^n)$                        \n",
    "This is the update rule for the explicit Euler scheme.\n",
    "\n",
    "#### Stability Analysis\n",
    "\n",
    "To analyze the stability of this scheme, we use a **Fourier stability analysis**.                                          \n",
    "We assume that the solution can be expressed as a linear combination of Fourier modes:\n",
    "\n",
    "$\\qquad\\quad\\displaystyle\\psi_i^n = A^n e^{i k x_i}$\n",
    "\n",
    "Substitute this Fourier mode into the discretized update equation:\n",
    "\n",
    "$\\qquad\\quad\\displaystyle A^{n+1} e^{i k x_i} = A^n e^{i k x_i} + \\frac{\\kappa \\Delta t}{h^2} \\left( A^n e^{i k (x_i + h)} - 2A^n e^{i k x_i} + A^n e^{i k (x_i - h)} \\right)$\n",
    "\n",
    "$\\qquad\\quad\\displaystyle A^{n+1} e^{i k x_i} = A^n e^{i k x_i} + \\frac{\\kappa \\Delta t}{h^2} \\left( A^n e^{i k x_i } e^{i k h } - 2A^n e^{i k x_i} + A^n e^{i k x_i }e^{-i k h } \\right)$\n",
    "\n",
    "$\\qquad\\quad\\displaystyle A^{n+1} e^{i k x_i} = A^n e^{i k x_i}\\left[ 1 + \\frac{\\kappa \\Delta t}{h^2} \\left( e^{i k h } - 2 + e^{-i k h } \\right) \\right]$\n",
    "\n",
    "$\\qquad\\quad\\displaystyle A^{n+1} e^{i k x_i} = A^n e^{i k x_i}\\left[ 1 + \\frac{\\kappa \\Delta t}{h^2} \\left\\{ \\left( e^{i k h } + e^{-i k h }\\right) - 2 \\right\\}  \\right]$\n",
    "\n",
    "$\\qquad\\quad\\displaystyle A^{n+1} e^{i k x_i} = A^n e^{i k x_i}\\left[ 1 + \\frac{\\kappa \\Delta t}{h^2} \\left( 2\\cos{(kh)} - 2 \\right)  \\right] \\qquad\\qquad \\left[ \\ \\because \\ \\cos(x) = \\frac{e^{ix} +e^{-ix}}{2} \\ \\right]$\n",
    "\n",
    "$\\qquad\\quad\\displaystyle A^{n+1} e^{i k x_i} = A^n e^{i k x_i}\\left[ 1 - 2\\frac{\\kappa \\Delta t}{h^2} \\left(1-\\cos{(kh)} \\right)  \\right] $\n",
    "\n",
    "For stability, the amplitude $\\displaystyle |A^{n+1}| $ must not grow with time.                                                    \n",
    "$\\qquad\\quad\\displaystyle G = \\frac{A^{n+1}}{A^n} = 1 - 2\\frac{\\kappa \\Delta t}{h^2} \\left[ 1-\\cos{(kh)}  \\right] $\n",
    "\n",
    "$\\qquad\\quad\\displaystyle G = 1 - 2\\lambda[1 - \\cos(kh)]$ where $ \\lambda = \\frac{\\kappa \\Delta t}{h^2} $.\n",
    "\n",
    "For stability, the magnitude of the amplification factor must satisfy $ |G| \\leq 1$.                                        \n",
    "The worst-case scenario occurs when $ \\cos(kh) = -1 $ (for the highest wavenumber), giving:\n",
    "\n",
    "$\\qquad\\quad\\displaystyle G = 1 - 2\\lambda[1 - (-1)] = 1 - 2\\lambda(1 + 1)$\n",
    "\n",
    "$\\qquad\\quad\\displaystyle G = 1 - 4\\lambda$\n",
    "\n",
    "For stability, \n",
    "\n",
    "$\\qquad\\quad |G| \\leq 1 $\n",
    "\n",
    "$\\qquad\\quad\\displaystyle -1 \\leq 1 - 4\\lambda \\leq 1$\n",
    "\n",
    "$\\qquad\\quad\\displaystyle 0 \\leq 4\\lambda \\leq 2$\n",
    "\n",
    "The result from the algebra gives $ \\lambda \\leq \\frac{1}{2} $, but in many numerical methods, specifically explicit methods like the Forward-Time Centered-Space (FTCS) method used for solving diffusion equations, the stability condition is more restrictive. It is known from analysis (von Neumann stability analysis) that for stability, $ \\lambda $ should satisfy:\n",
    "\n",
    "$\\qquad\\quad\\displaystyle \\lambda \\leq \\frac{1}{4}$\n",
    "\n",
    "Thus, the final condition is $ \\lambda \\leq \\frac{1}{4} $, which is a more conservative bound for numerical stability than $ \\lambda \\leq \\frac{1}{2} $. \n",
    "\n",
    "$\\qquad\\quad\\displaystyle \\lambda = \\frac{\\kappa \\Delta t}{h^2} \\leq \\frac{1}{4}$\n",
    "\n",
    "$\\qquad\\quad\\displaystyle\\Delta t \\leq \\frac{h^2}{4\\kappa}$\n"
   ]
  },
  {
   "cell_type": "markdown",
   "id": "63f9a084",
   "metadata": {},
   "source": [
    "<span style=\"color:red\"> What is the condition for stability for solving wave equation $∂_t \\psi + c ∂_x \\psi = 0$ using **Euler backward scheme** for time step $\\Delta t$ with finite difference scheme?  </span>                                                                         \n",
    "<span style=\"color:red\"> Here, $\\Delta x$ is grid spacing and $c$ is speed of wave. </span> \n",
    "\n",
    "\n",
    "We start with the **1D linear advection equation** (or wave equation):                                                             \n",
    "$\\qquad\\quad\\displaystyle\\frac{\\partial \\psi}{\\partial t} + c \\frac{\\partial \\psi}{\\partial x} = 0$                                                    \n",
    "where $c$ is the wave speed, $ \\psi $ is the wave function, and we will solve this equation on a spatial grid using finite differences.\n",
    "\n",
    "###### Time Discretization: Euler Forward\n",
    "\n",
    "We use the **Euler forward method** to approximate the time derivative:                                                             \n",
    "$\\qquad\\quad\\displaystyle\\frac{\\partial \\psi}{\\partial t} \\approx \\frac{\\psi_i^{n+1} - \\psi_i^n}{\\Delta t}$                                                   \n",
    "Here:\n",
    "- $\\displaystyle \\psi_i^n $ is the value of $\\psi$ at the grid point $i$ at time $n$,\n",
    "- $\\displaystyle \\psi_i^{n+1}$ is the value at the next time step $ n+1 $,\n",
    "- $\\displaystyle \\Delta t $ is the time step size.\n",
    "\n",
    "###### Spatial Discretization: Finite Difference\n",
    "\n",
    "We approximate the spatial derivative $\\frac{\\partial \\psi}{\\partial x}$ using a **forward difference scheme**:\n",
    "\n",
    "$\\qquad\\quad\\displaystyle\\frac{\\partial \\psi}{\\partial x} \\approx \\frac{\\psi_{i+1}^n - \\psi_i^n}{\\Delta x}$\n",
    "\n",
    "where:\n",
    "-  $\\displaystyle\\psi_{i+1}^n $ is the value of $ \\psi $ at the next spatial grid point $ i+1 $ at time $n$,\n",
    "-  $\\displaystyle\\Delta x $ is the spatial grid spacing.\n",
    "\n",
    "###### Putting the Discretizations Together\n",
    "\n",
    "Substitute the time and space finite difference approximations into the wave equation:\n",
    "\n",
    "$\\qquad\\quad\\displaystyle\\frac{\\psi_i^{n+1} - \\psi_i^n}{\\Delta t} + c \\frac{\\psi_{i+1}^n - \\psi_i^n}{\\Delta x} = 0$\n",
    "\n",
    "Rearranging this equation to solve for $\\displaystyle\\psi_i^{n+1}$ (the value of $\\psi$ at the next time step):\n",
    "\n",
    "$\\qquad\\quad\\displaystyle\\psi_i^{n+1} = \\psi_i^n - \\frac{c \\Delta t}{\\Delta x} (\\psi_{i+1}^n - \\psi_i^n)$\n",
    "\n",
    "This is the **Euler forward update formula** for solving the wave equation.\n",
    "\n",
    "\n",
    "To analyze the stability of this scheme, we look at how errors propagate. The term $ \\frac{c \\Delta t}{\\Delta x} $ is known as the **Courant number**:\n",
    "\n",
    "$\\qquad\\quad\\displaystyle\\lambda = \\frac{c \\Delta t}{\\Delta x}$\n",
    "\n",
    "The stability of the explicit finite difference method depends on the size of this Courant number $\\lambda$.                           \n",
    "If $\\lambda$ is too large, the scheme becomes unstable.\n",
    "\n",
    "###### Von Neumann Stability Analysis\n",
    "\n",
    "We perform a **von Neumann stability analysis** by assuming the solution $\\psi$ behaves like a wave:\n",
    "\n",
    "$\\qquad\\quad\\qquad\\quad\\displaystyle\\psi_i^n = \\hat{\\psi}^n e^{i k x_i}$\n",
    "\n",
    "where $ \\hat{\\psi}^n $ is the amplitude of the wave and $k$ is the wavenumber.                                            \n",
    "Substitute this into the update equation:                                                                                            \n",
    "$\\qquad\\quad\\displaystyle\\hat{\\psi}^{n+1} e^{i k x_i} = \\hat{\\psi}^n e^{i k x_i} - \\lambda \\left( \\hat{\\psi}^n e^{i k x_{i+1}} - \\hat{\\psi}^n e^{i k x_i} \\right)$\n",
    "\n",
    "Simplifying the exponents using $ x_{i+1} = x_i + \\Delta x $:                                                                   \n",
    "$\\qquad\\quad\\displaystyle\\hat{\\psi}^{n+1} e^{i k x_i} = \\hat{\\psi}^n e^{i k x_i} \\left[ 1 - \\lambda (e^{i k \\Delta x} - 1) \\right]$\n",
    "\n",
    "$\\qquad\\quad\\displaystyle\\frac{\\hat{\\psi}^{n+1}}{\\hat{\\psi}^n}=  1 - \\lambda (e^{i k \\Delta x} - 1) $\n",
    "\n",
    "$\\qquad\\quad\\displaystyle\\frac{\\hat{\\psi}^{n+1}}{\\hat{\\psi}^n}=  1−λ[\\cos(kΔx)+i\\sin(kΔx)−1]   \\qquad [ \\ \\because \\ e^{ikΔx}=\\cos(kΔx)+i\\sin(kΔx) \\ ]$ Euler's formula\n",
    "\n",
    "$\\qquad\\quad\\displaystyle\\frac{\\hat{\\psi}^{n+1}}{\\hat{\\psi}^n} = 1 - \\lambda (\\cos(k \\Delta x) - 1) - i \\lambda \\sin(k \\Delta x)$\n",
    "\n",
    "For stability, the amplitude $\\displaystyle |\\hat{\\psi}^{n+1}| $ must not grow with time. This leads to the condition:                           \n",
    "$\\qquad\\quad\\displaystyle |\\hat{\\psi}^{n+1}| \\leq |\\hat{\\psi}^n|$\n",
    "\n",
    "$\\qquad\\quad\\displaystyle \\left|\\frac{\\hat{\\psi}^{n+1}}{\\hat{\\psi}^n} \\right| \\leq 1$\n",
    "\n",
    "$\\qquad\\quad\\displaystyle \\left| \\frac{\\hat{\\psi}^{n+1}}{\\hat{\\psi}^n} \\right| = \\sqrt{ \\left[ 1 - \\lambda (\\cos(k \\Delta x) - 1) \\right]^2 + \\left[ - \\lambda \\sin(k \\Delta x) \\right]^2 } \\leq 1 $\n",
    "\n",
    "$\\qquad\\quad\\displaystyle \\sqrt{1 - 2\\lambda \\cos(k \\Delta x) + \\lambda^2 \\cos^2(k \\Delta x) + 2\\lambda - 2\\lambda^2 \\cos(k \\Delta x) + \\lambda^2 + \\lambda^2 \\sin^2(k \\Delta x)} \\leq 1  \\qquad\\qquad [ \\ \\because \\ \\sin^2(k \\Delta x) + \\cos^2(k \\Delta x) = 1 \\ ]$\n",
    "\n",
    "$\\qquad\\quad\\displaystyle \\sqrt{1 - 2\\lambda \\cos(k \\Delta x) + 2\\lambda + \\lambda^2}\\leq 1$\n",
    "\n",
    "Square both sides to eliminate the square root:\n",
    "\n",
    "$\\qquad\\quad\\displaystyle 1 - 2\\lambda \\cos(k \\Delta x) + 2\\lambda + \\lambda^2 \\leq 1$\n",
    "\n",
    "$\\qquad\\quad\\displaystyle -2\\lambda \\cos(k \\Delta x) + 2\\lambda + \\lambda^2 \\leq 0$\n",
    "\n",
    "This inequality must hold for all values of $k$.                                                                            \n",
    "The most restrictive case occurs when $\\cos(k \\Delta x) = 1$, which corresponds to the longest wavelength modes (smallest wavenumbers).\n",
    "\n",
    "$\\qquad\\quad\\displaystyle -2\\lambda + 2\\lambda + \\lambda^2 \\leq 0$\n",
    "\n",
    "$\\qquad\\quad\\displaystyle\\lambda^2 \\leq 0$\n",
    "\n",
    "$\\qquad\\quad\\displaystyle \\lambda \\leq 1 $.\n",
    "\n",
    "After simplification, we find that the scheme is **stable** if:                                                                      \n",
    "$\\qquad\\quad\\displaystyle \\lambda = \\frac{c \\Delta t}{\\Delta x} \\leq 1$                                                                                           \n",
    "This leads to the **stability condition/CFL condition**:                                                                                 \n",
    "$\\qquad\\quad\\displaystyle \\Delta t \\leq \\frac{\\Delta x}{c}$                                                                                                 \n",
    "This ensures that the numerical solution remains stable and avoids spurious oscillations or blow-up."
   ]
  },
  {
   "cell_type": "markdown",
   "id": "323e3de3",
   "metadata": {},
   "source": [
    "<span style=\"color:red\">Choose the correct relation between  $\\Delta t_{SP}$ and $\\Delta t_{FD}$         </span>                                           \n",
    "<span style=\"color:red\">$\\qquad$for the stable solution of diffussion equation  $\\frac{∂\\psi}{∂t}=\\kappa\\frac{∂^2 \\psi}{∂x^2}$ with spectral and finite difference method using Euler forward scheme.                  </span>                                                                     \n",
    "Given conditions :                                                                                                            \n",
    "$\\qquad \\Delta t_{SP} = \\frac{2h^2_{SP}}{\\kappa\\pi^2} ;\\quad \\Delta t_{FD} = \\frac{h^2_{FD}}{4\\kappa} ;\\quad \\frac{h_{FD}}{h_{SP}} \\approx \\frac{1}{2\\pi}$                                                                                                            \n",
    "$\\therefore\\frac{\\Delta t_{FD}}{\\Delta t_{SP}} = \\frac{ \\frac{h^2_{FD}}{4\\kappa} }{ \\frac{2h^2_{SP}}{\\kappa\\pi^2} } = \\frac{1}{2}\\times\\frac{h^2_{FD}}{h^2_{SP}}\\times\\frac{\\kappa\\pi^2}{4\\kappa} = \\frac{1}{2}\\times\\bigg(\\frac{h_{FD}}{h_{SP}}\\bigg)^2\\times\\frac{\\kappa\\pi^2}{4\\kappa} \\approx \\frac{1}{2}\\times\\bigg(\\frac{1}{2\\pi}\\bigg)^2\\times\\frac{\\kappa\\pi^2}{4\\kappa} \\approx \\frac{1}{2}\\times\\frac{1}{4\\pi^2}\\times\\frac{\\kappa\\pi^2}{4\\kappa}\\approx\\frac{1}{32} $"
   ]
  },
  {
   "cell_type": "markdown",
   "id": "7bb9cff6",
   "metadata": {},
   "source": [
    "<span style=\"color:red\">What is the form of error for solving wave equation  $∂_t \\psi + c ∂_x \\psi = 0$ using Upwind scheme?  </span>                        \n",
    "<span style=\"color:red\">Here, $h$ is grid spacing and $c$ is speed of wave. </span>   \n",
    "\n",
    "$\\qquad\\qquad\\epsilon\\approx h\\frac{\\partial^2\\phi}{\\partial x^2}$"
   ]
  },
  {
   "cell_type": "markdown",
   "id": "b621df11",
   "metadata": {},
   "source": [
    "<span style=\"color:red\">Write a Python program to solve the 1D diffusion equation numerically using Finite difference method with periodic boundary conditions.                     </span>                                                                                             \n",
    "<span style=\"color:red\">The diffusion equation is written as:  </span>                                                                                             \n",
    "## <span style=\"color:red\">$\\qquad\\frac{∂Ψ}{∂t}=\\kappa\\frac{∂^2Ψ}{∂x^2}$  </span>   \n",
    "\n",
    "<span style=\"color:red\">Solve the PDE in $[0,2π]$ box by using $N = 64$ grid points, $\\kappa=0.5, t = 1$ and $dt = 0.001$. </span>                            \n",
    "<span style=\"color:red\">Take the initial condition as  $Ψ(x,t=0)=e^{−2(x−2)^2}$.      </span>                                                                                 \n",
    "<span style=\"color:red\">Find the maximum value of $ϕ(x,t=1)$ (rounded off upto 4 decimal places) and choose the correct option.                      </span>   \n",
    "Note:                                                                                                                          \n",
    "  $ \\ \\ $• Use three point central difference scheme for calculating the second order derivative with respect to $x$.                       \n",
    "  $ \\ \\ $• Use **RK2** method for performing the time integration."
   ]
  },
  {
   "cell_type": "code",
   "execution_count": 16,
   "id": "06555763",
   "metadata": {},
   "outputs": [
    {
     "data": {
      "text/plain": [
       "0.447"
      ]
     },
     "execution_count": 16,
     "metadata": {},
     "output_type": "execute_result"
    }
   ],
   "source": [
    "k = 0.5\n",
    "L = 2*np.pi\n",
    "N = 64\n",
    "h = L/N\n",
    "x = np.arange(0, L, h)\n",
    "#x  = np.linspace(0, L, N, endpoint=False)\n",
    "tf = 1\n",
    "dt = 0.001\n",
    "nsteps    = int(tf/dt)\n",
    "prefactor = k*dt/h**2\n",
    "init_temp = np.exp(-2*(x-2)**2)\n",
    "\n",
    "f        = np.zeros(N+2)\n",
    "f_mid    = np.zeros(N+2)\n",
    "f[1:N+1] = init_temp\n",
    "f[0]     = init_temp[-1]\n",
    "f[N+1]   = init_temp[0]\n",
    "\n",
    "for i in range(nsteps+2):\n",
    "    f_mid[1:N+1] = f[1:N+1] +(prefactor/2)*(f[0:N]-2*f[1:N+1]+f[2:N+2])\n",
    "    f_mid[0]     = f_mid[N]\n",
    "    f_mid[-1]    = f_mid[1]\n",
    "\n",
    "    f[1:N+1] = f[1:N+1] + prefactor*(f_mid[0:N]-2*f_mid[1:N+1]+f_mid[2:N+2])\n",
    "    f[0]     = f[N]\n",
    "    f[-1]    = f[1]\n",
    "\n",
    "np.round(np.max(f),4)"
   ]
  },
  {
   "cell_type": "code",
   "execution_count": 3,
   "id": "5c274c35",
   "metadata": {},
   "outputs": [
    {
     "data": {
      "text/plain": [
       "0.4472"
      ]
     },
     "execution_count": 3,
     "metadata": {},
     "output_type": "execute_result"
    }
   ],
   "source": [
    "L = 2 * np.pi \n",
    "N = 64        \n",
    "dx = L / N    \n",
    "dt = 0.001    \n",
    "T = 1.0   \n",
    "k = 0.5\n",
    "initial_condition = lambda x : np.exp(-2 * (x - 2)**2)\n",
    "x = np.linspace(0, L, N, endpoint=False)\n",
    "#x = np.arange(0, L, dx)\n",
    "psi = initial_condition(x)\n",
    "psi_new = np.zeros(N)\n",
    "\n",
    "for t in np.arange(0, T, dt):\n",
    "    psi_xx = np.roll(psi, -1) - 2 * psi + np.roll(psi, 1)\n",
    "    k1 = k * dt * psi_xx / (dx**2)\n",
    "    k2 = k * dt * psi_xx / (dx**2)\n",
    "    psi_new = psi + 0.5*k1 + 0.5*k2\n",
    "    psi = psi_new.copy()\n",
    "\n",
    "np.round(np.max(psi),4)"
   ]
  },
  {
   "cell_type": "markdown",
   "id": "1032f9f8",
   "metadata": {},
   "source": [
    "<span style=\"color:red\">Write a Python program to solve the 1D wave equation numerically using Finite difference method with periodic boundary conditions.                    </span>                                                                                                   \n",
    "<span style=\"color:red\">The wave equation is written as:  </span>                                                                                                    \n",
    "## <span style=\"color:red\">$\\qquad\\frac{∂\\psi}{∂t}=−c\\frac{∂\\psi}{∂x}$  </span>                                                                                                    \n",
    "<span style=\"color:red\">Solve the PDE in  box  $[0,2\\pi]$ by using $N = 512$ grid points and $c = 1, t = 1$ and $dt = 0.001$.                                   </span>    \n",
    "<span style=\"color:red\">Take initial condition as  $\\psi(x,t=0)=e^{−32(x−2)^2}$.  </span>                                                                                 \n",
    "<span style=\"color:red\">Choose the correct values  of $(\\psi)$ (round answer upto two decimal place) at $t=1$ and $x=3.01$  </span>                                    \n",
    "<span style=\"color:red\">(to get $x=3.01$ round the $x$ array upto two decimal place and then find the index corresponding to $3.01$ as you have done in previous assignment).  </span>         \n",
    "Note:                                                                                                                                \n",
    "  $ \\ \\ $   • Use two point backward difference scheme for evaluating the  derivative along $x$.                                       \n",
    "  $ \\ \\quad $So the equation becomes $\\psi^{n+1}_i=\\psi^n_i+(−c\\frac{dt}{h})∗(\\psi^n_i−\\psi^n_{i−1})$, $i$ is the grid point number and $n$ is the time step number. $h$ is grid spacing.                                                                                             \n",
    "  $ \\ \\ $  • Now use **RK-2** method for performing the time integration.This is done in the notes for diffusion equation, you can get the general idea from there."
   ]
  },
  {
   "cell_type": "code",
   "execution_count": 17,
   "id": "6a0ad0c4",
   "metadata": {},
   "outputs": [
    {
     "data": {
      "text/plain": [
       "0.75"
      ]
     },
     "execution_count": 17,
     "metadata": {},
     "output_type": "execute_result"
    }
   ],
   "source": [
    "c  = 1\n",
    "L = 2*np.pi\n",
    "N = 512\n",
    "h = L/N\n",
    "x = np.arange(0, L, h)\n",
    "#x  = np.linspace(0, L, N)\n",
    "tf = 1\n",
    "dt = 0.001\n",
    "nsteps    = int(tf/dt)\n",
    "prefactor = -c*dt/h\n",
    "init      = np.exp(-32*(x-2)**2)\n",
    "f         = np.zeros(N+2)\n",
    "f_mid     = np.zeros(N+2)\n",
    "f[1:N+1]  = init\n",
    "f[0]      = init[-1]\n",
    "f[N+1]    = init[0]\n",
    "\n",
    "for i in range(nsteps+2):\n",
    "    f_mid[1:N+1] = f[1:N+1] +(prefactor/2)*(f[1:N+1]-f[0:N])\n",
    "    f_mid[0]     = f_mid[N]\n",
    "    f_mid[-1]    = f_mid[1]\n",
    "\n",
    "    f[1:N+1] = f[1:N+1] + prefactor*(f_mid[1:N+1]-f_mid[0:N])\n",
    "    f[0]     = f[N]\n",
    "    f[-1]    = f[1]\n",
    "      \n",
    "index = np.where(np.round(x,2)==3.01)[0][0]  \n",
    "np.round(f[index],2)"
   ]
  },
  {
   "cell_type": "code",
   "execution_count": 5,
   "id": "7523f684",
   "metadata": {},
   "outputs": [
    {
     "data": {
      "text/plain": [
       "0.75"
      ]
     },
     "execution_count": 5,
     "metadata": {},
     "output_type": "execute_result"
    }
   ],
   "source": [
    "L = 2 * np.pi   \n",
    "N = 512         \n",
    "dx = L / N      \n",
    "dt = 0.001      \n",
    "T = 1.0         \n",
    "c = 1.0        \n",
    "initial_condition = lambda x: np.exp(-32 * (x - 2)**2)\n",
    "\n",
    "x = np.linspace(0, L, N, endpoint=False) \n",
    "psi = initial_condition(x) \n",
    "psi_new = np.zeros(N)  \n",
    "for t in np.arange(0, T, dt):\n",
    "    dpsi_dx   = (psi - np.roll(psi, 1)) / dx  \n",
    "    k1        = -c * dt * dpsi_dx\n",
    "    psi_half  = psi + 0.5 * k1  \n",
    "    dpsi_half = (psi_half - np.roll(psi_half, 1)) / dx\n",
    "    k2        = -c * dt * dpsi_half\n",
    "    psi_new   = psi + k2  \n",
    "    psi       = psi_new.copy()\n",
    "\n",
    "x_rounded = np.round(x, 2) \n",
    "x_target  = 3.01\n",
    "#index     = np.where(x_rounded == x_target)[0][0]\n",
    "index = round(x_target / dx)\n",
    "round(psi[index], 2)"
   ]
  },
  {
   "cell_type": "markdown",
   "id": "878a1e2a",
   "metadata": {},
   "source": [
    "<span style=\"color:red\">Write a python program to solve the 1D diffusion equation using finite difference method with periodic boundary condition.  </span>    \n",
    "<span style=\"color:red\">The diffusion is written as:  </span>                                                                                                        \n",
    "## <span style=\"color:red\">$\\qquad\\frac{∂ϕ}{∂t}=\\kappa\\frac{∂^2ϕ}{∂x^2}$  </span>                                                                                     \n",
    "<span style=\"color:red\">Solve the equation in a box of length $L=2π$, with $N = 64$ grid points. Take $\\kappa=0.3$ and $t = 1$ and $dt = 0.001$.        </span>   \n",
    "<span style=\"color:red\">Take the initial condition $ϕ(x,t=0)=e^{−2(x−\\pi)^2}$ . </span>                                                                            \n",
    "<span style=\"color:red\">What is  the value of the function $ϕ(x,t)$ at $t = 1$ and $x = 3.09$ rounded to two decimal places.     </span>                               \n",
    "<span style=\"color:red\">To get $x = 3.09$ first round the $x$ array to two decimal places and then find the index of $3.09$ in the $x$ array as you did in previous assignment.   </span>                                                                                                          \n",
    "\n",
    "Note:                                                                                                                                \n",
    "1) Use three point central difference scheme to compute the second order derivative with respect to $x$.\n",
    "2) Use RK2 method to integrate with respect to time."
   ]
  },
  {
   "cell_type": "code",
   "execution_count": 32,
   "id": "aa36a314",
   "metadata": {},
   "outputs": [
    {
     "data": {
      "text/plain": [
       "0.53"
      ]
     },
     "execution_count": 32,
     "metadata": {},
     "output_type": "execute_result"
    }
   ],
   "source": [
    "K = 0.3\n",
    "L = 2*np.pi\n",
    "N = 64\n",
    "h = L/N\n",
    "#x = np.arange(0, L, h)\n",
    "x  = np.linspace(0, L, N)\n",
    "tf = 1\n",
    "dt = 0.001\n",
    "nsteps    = int(tf/dt)\n",
    "prefactor = K*dt/h**2\n",
    "init_temp = np.exp(-2*(x-np.pi)**2)\n",
    "f         = np.zeros(N+2)\n",
    "f_mid     = np.zeros(N+2)\n",
    "f[1:N+1]  = init_temp\n",
    "f[0]      = init_temp[-1]\n",
    "f[N+1]    = init_temp[0]\n",
    "\n",
    "for i in range(nsteps+1):\n",
    "    f_mid[1:N+1] = f[1:N+1] +(prefactor/2)*(f[0:N]-2*f[1:N+1]+f[2:N+2])\n",
    "    f_mid[0]     = f_mid[N]\n",
    "    f_mid[-1]    = f_mid[1]\n",
    "\n",
    "    f[1:N+1] = f[1:N+1] + prefactor*(f_mid[0:N]-2*f_mid[1:N+1]+f_mid[2:N+2])\n",
    "    f[0]     = f[N]\n",
    "    f[-1]    = f[1]\n",
    "\n",
    "index = np.where(np.round(x,2)==3.09)[0][0]  \n",
    "np.round(f[index],2)"
   ]
  },
  {
   "cell_type": "code",
   "execution_count": 40,
   "id": "7a5c9657",
   "metadata": {},
   "outputs": [
    {
     "data": {
      "text/plain": [
       "0.54"
      ]
     },
     "execution_count": 40,
     "metadata": {},
     "output_type": "execute_result"
    }
   ],
   "source": [
    "K = 0.3\n",
    "L = 2*np.pi\n",
    "N = 64+1\n",
    "h = L/N\n",
    "x = np.arange(0, L, h)\n",
    "#x  = np.linspace(0, L, N, endpoint=False) \n",
    "tf = 1\n",
    "dt = 0.001\n",
    "nsteps    = int(tf/dt)\n",
    "prefactor = K*dt/h**2\n",
    "init_temp = np.exp(-2*(x-np.pi)**2)\n",
    "f         = np.zeros(N+2)\n",
    "f_mid     = np.zeros(N+2)\n",
    "f[1:N+1]  = init_temp\n",
    "f[0]      = init_temp[-1]\n",
    "f[N+1]    = init_temp[0]\n",
    "\n",
    "for i in range(nsteps+1):\n",
    "    f_mid[1:N+1] = f[1:N+1] +(prefactor/2)*(f[0:N]-2*f[1:N+1]+f[2:N+2])\n",
    "    f_mid[0]     = f_mid[N]\n",
    "    f_mid[-1]    = f_mid[1]\n",
    "\n",
    "    f[1:N+1] = f[1:N+1] + prefactor*(f_mid[0:N]-2*f_mid[1:N+1]+f_mid[2:N+2])\n",
    "    f[0]     = f[N]\n",
    "    f[-1]    = f[1]\n",
    "\n",
    "index = np.where(np.round(x,2)==3.09)[0][0]  \n",
    "np.round(f[index],2)"
   ]
  },
  {
   "cell_type": "code",
   "execution_count": 44,
   "id": "e9ab4cad",
   "metadata": {},
   "outputs": [
    {
     "data": {
      "text/plain": [
       "0.54"
      ]
     },
     "execution_count": 44,
     "metadata": {},
     "output_type": "execute_result"
    }
   ],
   "source": [
    "L  = 2 * np.pi \n",
    "N  = 64\n",
    "dx = L / N    \n",
    "dt = 0.001    \n",
    "T  = 1.0   \n",
    "k  = 0.3\n",
    "\n",
    "initial_condition = lambda x : np.exp(-2 * (x - np.pi)**2)\n",
    "#x = np.arange(0, L, dx)\n",
    "x  = np.linspace(0, L, N) \n",
    "\n",
    "psi     = initial_condition(x)\n",
    "psi_new = np.zeros(N)\n",
    "\n",
    "for t in np.arange(0, T, dt):\n",
    "    psi_xx = np.roll(psi, -1) - 2 * psi + np.roll(psi, 1)\n",
    "    k1 = k * dt * psi_xx / (dx**2)\n",
    "    k2 = k * dt * psi_xx / (dx**2)\n",
    "    psi_new = psi +  0.5 * k1 + 0.5 * k2\n",
    "    psi = psi_new.copy()\n",
    "\n",
    "index = np.where(np.round(x,2)==3.09)[0][0]  \n",
    "np.round(psi[index],2)                            # N=256 | idx=126 || N=128 | idx=63 || N=64 | idx=31 "
   ]
  },
  {
   "cell_type": "code",
   "execution_count": null,
   "id": "be7053f5",
   "metadata": {},
   "outputs": [],
   "source": []
  }
 ],
 "metadata": {
  "kernelspec": {
   "display_name": "Python 3 (ipykernel)",
   "language": "python",
   "name": "python3"
  },
  "language_info": {
   "codemirror_mode": {
    "name": "ipython",
    "version": 3
   },
   "file_extension": ".py",
   "mimetype": "text/x-python",
   "name": "python",
   "nbconvert_exporter": "python",
   "pygments_lexer": "ipython3",
   "version": "3.10.9"
  }
 },
 "nbformat": 4,
 "nbformat_minor": 5
}
