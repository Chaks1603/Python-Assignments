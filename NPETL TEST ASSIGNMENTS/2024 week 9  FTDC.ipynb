{
 "cells": [
  {
   "cell_type": "code",
   "execution_count": 3,
   "id": "810cbf22",
   "metadata": {},
   "outputs": [],
   "source": [
    "import numpy as np"
   ]
  },
  {
   "cell_type": "markdown",
   "id": "c3d09ff8",
   "metadata": {},
   "source": [
    "What is the stability condition for solving diffusion equation $\\frac{∂\\psi}{∂t}=\\kappa\\frac{∂^2 \\psi}{∂x^2}$ using Euler forward scheme for time step $\\Delta t$ with finite difference scheme ?                                                             \n",
    "Here, $h$ is grid spacing and $\\kappa$ is diffusion coefficient."
   ]
  },
  {
   "cell_type": "markdown",
   "id": "63f9a084",
   "metadata": {},
   "source": [
    "What is the condition for stability for solving wave equation $∂_t \\psi + c ∂_x \\psi = 0$ using Euler backward scheme for time step $\\Delta t$ with finite difference scheme?                                                                          \n",
    "Here, $\\Delta x$ is grid spacing and $c$ is speed of wave."
   ]
  },
  {
   "cell_type": "markdown",
   "id": "323e3de3",
   "metadata": {},
   "source": [
    "Choose the correct relation between  $\\Delta t_{SP}$ and $\\Delta t_{FD}$                                                 \n",
    "$\\qquad$for the stable solution of diffussion equation  $\\frac{∂\\psi}{∂t}=\\kappa\\frac{∂^2 \\psi}{∂x^2}$ with spectral and finite difference method using Euler forward scheme.                                                                                    \n",
    "Given conditions :                                                                                                            \n",
    "$\\qquad \\Delta t_{SP} = \\frac{2h^2_{SP}}{\\kappa\\pi^2} ;\\quad \\Delta t_{FD} = \\frac{h^2_{FD}}{4\\kappa} ;\\quad \\frac{h_{FD}}{h_{SP}} = \\frac{1}{2\\pi}$                                                                                                            \n",
    "$\\therefore\\frac{\\Delta t_{FD}}{\\Delta t_{SP}} = \\frac{ \\frac{h^2_{FD}}{4\\kappa} }{ \\frac{2h^2_{SP}}{\\kappa\\pi^2} } = \\frac{1}{2}\\times\\frac{h^2_{FD}}{h^2_{SP}}\\times\\frac{\\kappa\\pi^2}{4\\kappa} = \\frac{1}{2}\\times\\bigg(\\frac{h_{FD}}{h_{SP}}\\bigg)^2\\times\\frac{\\kappa\\pi^2}{4\\kappa}= \\frac{1}{2}\\times\\bigg(\\frac{1}{2\\pi}\\bigg)^2\\times\\frac{\\kappa\\pi^2}{4\\kappa}= \\frac{1}{2}\\times\\frac{1}{4\\pi^2}\\times\\frac{\\kappa\\pi^2}{4\\kappa}=\\frac{1}{32} $"
   ]
  },
  {
   "cell_type": "markdown",
   "id": "7bb9cff6",
   "metadata": {},
   "source": [
    "What is the form of error for solving wave equation  $∂_t \\psi + c ∂_x \\psi = 0$ using Upwind scheme?                       \n",
    "Here, $h$ is grid spacing and $c$ is speed of wave."
   ]
  },
  {
   "cell_type": "markdown",
   "id": "b621df11",
   "metadata": {},
   "source": [
    "Write a Python program to solve the 1D diffusion equation numerically using Finite difference method with periodic boundary conditions.                                                                                                               \n",
    "The diffusion equation is written as:                                                                                            \n",
    "## $\\qquad\\frac{∂Ψ}{∂t}=\\kappa\\frac{∂^2Ψ}{∂x^2}$\n",
    "\n",
    "Solve the PDE in $[0,2π]$ box by using $N = 64$ grid points, $\\kappa=0.5, t = 1$ and $dt = 0.001$.                          \n",
    "Take the initial condition as  $Ψ(x,t=0)=e^{−2(x−2)^2}$.                                                                                    \n",
    "Find the maximum value of $ϕ(x,t=1)$ (rounded off upto 4 decimal places) and choose the correct option.                      \n",
    "Note:                                                                                                                          \n",
    "  $ \\ \\ $• Use three point central difference scheme for calculating the second order derivative with respect to $x$.                       \n",
    "  $ \\ \\ $• Use **RK2** method for performing the time integration."
   ]
  },
  {
   "cell_type": "code",
   "execution_count": 11,
   "id": "06555763",
   "metadata": {},
   "outputs": [
    {
     "data": {
      "text/plain": [
       "0.447"
      ]
     },
     "execution_count": 11,
     "metadata": {},
     "output_type": "execute_result"
    }
   ],
   "source": [
    "k = 0.5\n",
    "L = 2*np.pi\n",
    "N = 64\n",
    "h = L/N\n",
    "j = np.arange(0,N)\n",
    "x = j*h\n",
    "tf = 1\n",
    "dt = 0.001\n",
    "nsteps    = int(tf/dt)\n",
    "prefactor = k*dt/h**2\n",
    "init_temp = np.exp(-2*(x-2)**2)\n",
    "\n",
    "f        = np.zeros(N+2)\n",
    "f_mid    = np.zeros(N+2)\n",
    "f[1:N+1] = init_temp\n",
    "f[0]     = init_temp[-1]\n",
    "f[N+1]   = init_temp[0]\n",
    "\n",
    "for i in range(nsteps+2):\n",
    "    f_mid[1:N+1] = f[1:N+1] +(prefactor/2)*(f[0:N]-2*f[1:N+1]+f[2:N+2])\n",
    "    f_mid[0]     = f_mid[N]\n",
    "    f_mid[-1]    = f_mid[1]\n",
    "\n",
    "    f[1:N+1] = f[1:N+1] + prefactor*(f_mid[0:N]-2*f_mid[1:N+1]+f_mid[2:N+2])\n",
    "    f[0]     = f[N]\n",
    "    f[-1]    = f[1]\n",
    "\n",
    "np.round(np.max(f),4)"
   ]
  },
  {
   "cell_type": "code",
   "execution_count": 5,
   "id": "5c274c35",
   "metadata": {},
   "outputs": [
    {
     "data": {
      "text/plain": [
       "0.4472"
      ]
     },
     "execution_count": 5,
     "metadata": {},
     "output_type": "execute_result"
    }
   ],
   "source": [
    "L = 2 * np.pi \n",
    "N = 64        \n",
    "dx = L / N    \n",
    "dt = 0.001    \n",
    "T = 1.0   \n",
    "k = 0.5\n",
    "initial_condition = lambda x : np.exp(-2 * (x - 2)**2)\n",
    "x = np.linspace(0, L, N, endpoint=False)\n",
    "#x = np.arange(0, L, dx)\n",
    "psi = initial_condition(x)\n",
    "psi_new = np.zeros(N)\n",
    "\n",
    "for t in np.arange(0, T, dt):\n",
    "    psi_xx = np.roll(psi, -1) - 2 * psi + np.roll(psi, 1)\n",
    "    k1 = k * dt * psi_xx / (dx**2)\n",
    "    k2 = k * dt * psi_xx / (dx**2)\n",
    "    psi_new = psi + 0.5*k1 + 0.5*k2\n",
    "    psi = psi_new.copy()\n",
    "\n",
    "np.round(np.max(psi),4)"
   ]
  },
  {
   "cell_type": "markdown",
   "id": "1032f9f8",
   "metadata": {},
   "source": [
    "Write a Python program to solve the 1D wave equation numerically using Finite difference method with periodic boundary conditions.                                                                                                                  \n",
    "The wave equation is written as:                                                                                                 \n",
    "## $\\qquad\\frac{∂\\psi}{∂t}=−c\\frac{∂\\psi}{∂x}$                                                                                                 \n",
    "Solve the PDE in  box  $[0,2\\pi]$ by using $N = 512$ grid points and $c = 1, t = 1$ and $dt = 0.001$.                                  \n",
    "Take initial condition as  $\\psi(x,t=0)=e^{−32(x−2)^2}$.                                                                              \n",
    "Choose the correct values  of $(\\psi)$ (round answer upto two decimal place) at $t=1$ and $x=3.01$                                 \n",
    "(to get $x=3.01$ round the $x$ array upto two decimal place and then find the index corresponding to $3.01$ as you have done in previous assignment).      \n",
    "Note:                                                                                                                                \n",
    "  $ \\ \\ $   • Use two point backward difference scheme for evaluating the  derivative along $x$.                                       \n",
    "  $ \\ \\quad $So the equation becomes $\\psi^{n+1}_i=\\psi^n_i+(−c∗dt/h)∗(\\psi^n_i−\\psi^n_{i−1})$, $i$ is the grid point number and $n$ is the time step number. $h$ is grid spacing.                                                                                             \n",
    "  $ \\ \\ $  • Now use **RK-2** method for performing the time integration.This is done in the notes for diffusion equation, you can get the general idea from there."
   ]
  },
  {
   "cell_type": "code",
   "execution_count": 12,
   "id": "6a0ad0c4",
   "metadata": {},
   "outputs": [
    {
     "data": {
      "text/plain": [
       "0.75"
      ]
     },
     "execution_count": 12,
     "metadata": {},
     "output_type": "execute_result"
    }
   ],
   "source": [
    "c  = 1\n",
    "L = 2*np.pi\n",
    "N = 512\n",
    "h = L/N\n",
    "j = np.arange(0,N)\n",
    "x = j*h\n",
    "tf = 1\n",
    "dt = 0.001\n",
    "nsteps    = int(tf/dt)\n",
    "prefactor = -c*dt/h\n",
    "init      = np.exp(-32*(x-2)**2)\n",
    "f         = np.zeros(N+2)\n",
    "f_mid     = np.zeros(N+2)\n",
    "f[1:N+1]  = init\n",
    "f[0]      = init[-1]\n",
    "f[N+1]    = init[0]\n",
    "\n",
    "for i in range(nsteps+2):\n",
    "    f_mid[1:N+1] = f[1:N+1] +(prefactor/2)*(f[1:N+1]-f[0:N])\n",
    "    f_mid[0]     = f_mid[N]\n",
    "    f_mid[-1]    = f_mid[1]\n",
    "\n",
    "    f[1:N+1] = f[1:N+1] + prefactor*(f_mid[1:N+1]-f_mid[0:N])\n",
    "    f[0]     = f[N]\n",
    "    f[-1]    = f[1]\n",
    "      \n",
    "index = np.where(np.round(x,2)==3.01)[0][0]  \n",
    "np.round(f[index],2)"
   ]
  },
  {
   "cell_type": "code",
   "execution_count": 4,
   "id": "7523f684",
   "metadata": {},
   "outputs": [
    {
     "data": {
      "text/plain": [
       "0.75"
      ]
     },
     "execution_count": 4,
     "metadata": {},
     "output_type": "execute_result"
    }
   ],
   "source": [
    "L = 2 * np.pi   \n",
    "N = 512         \n",
    "dx = L / N      \n",
    "dt = 0.001      \n",
    "T = 1.0         \n",
    "c = 1.0        \n",
    "initial_condition = lambda x: np.exp(-32 * (x - 2)**2)\n",
    "\n",
    "x = np.linspace(0, L, N, endpoint=False) \n",
    "psi = initial_condition(x) \n",
    "psi_new = np.zeros(N)  \n",
    "for t in np.arange(0, T, dt):\n",
    "    dpsi_dx   = (psi - np.roll(psi, 1)) / dx  \n",
    "    k1        = -c * dt * dpsi_dx\n",
    "    psi_half  = psi + 0.5 * k1  \n",
    "    dpsi_half = (psi_half - np.roll(psi_half, 1)) / dx\n",
    "    k2        = -c * dt * dpsi_half\n",
    "    psi_new   = psi + k2  \n",
    "    psi       = psi_new.copy()\n",
    "\n",
    "x_rounded = np.round(x, 2) \n",
    "x_target  = 3.01\n",
    "#index     = np.where(x_rounded == x_target)[0][0]\n",
    "index = round(x_target / dx)\n",
    "round(psi[index], 2)"
   ]
  },
  {
   "cell_type": "markdown",
   "id": "878a1e2a",
   "metadata": {},
   "source": [
    "Write a python program to solve the 1D diffusion equation using finite difference method with periodic boundary condition.     \n",
    "The diffusion is written as:                                                                                                         \n",
    "## $\\qquad\\frac{∂ϕ}{∂t}=\\kappa\\frac{∂^2ϕ}{∂x^2}$                                                                                      \n",
    "Solve the equation in a box of length $L=2π$, with $N = 64$ grid points. Take $\\kappa=0.3$ and $t = 1$ and $dt = 0.001$.          \n",
    "Take the initial condition $ϕ(x,t=0)=e^{−2(x−π)^2}$ .                                                                            \n",
    "What is  the value of the function $ϕ(x,t)$ at $t = 1$ and $x = 3.09$ rounded to two decimal places.                                   \n",
    "To get $x = 3.09$ first round the $x$ array to two decimal places and then find the index of $3.09$ in the $x$ array as you did in previous assignment.                                                                                                            \n",
    "\n",
    "Note:                                                                                                                                \n",
    "1) Use three point central difference scheme to compute the second order derivative with respect to $x$.\n",
    "2) Use RK2 method to integrate with respect to time."
   ]
  },
  {
   "cell_type": "code",
   "execution_count": 13,
   "id": "7a5c9657",
   "metadata": {},
   "outputs": [
    {
     "data": {
      "text/plain": [
       "0.54"
      ]
     },
     "execution_count": 13,
     "metadata": {},
     "output_type": "execute_result"
    }
   ],
   "source": [
    "k = 0.3\n",
    "L = 2*np.pi\n",
    "N = 128\n",
    "h = L/N\n",
    "j = np.arange(0,N)\n",
    "x = j*h\n",
    "tf = 1\n",
    "dt = 0.001\n",
    "nsteps    = int(tf/dt)\n",
    "prefactor = kappa*dt/h**2\n",
    "init_temp = np.exp(-2*(x-np.pi)**2)\n",
    "f         = np.zeros(N+2)\n",
    "f_mid     = np.zeros(N+2)\n",
    "f[1:N+1]  = init_temp\n",
    "f[0]      = init_temp[-1]\n",
    "f[N+1]    = init_temp[0]\n",
    "\n",
    "for i in range(nsteps+1):\n",
    "    f_mid[1:N+1] = f[1:N+1] +(prefactor/2)*(f[0:N]-2*f[1:N+1]+f[2:N+2])\n",
    "    f_mid[0]     = f_mid[N]\n",
    "    f_mid[-1]    = f_mid[1]\n",
    "\n",
    "    f[1:N+1] = f[1:N+1] + prefactor*(f_mid[0:N]-2*f_mid[1:N+1]+f_mid[2:N+2])\n",
    "    f[0]     = f[N]\n",
    "    f[-1]    = f[1]\n",
    "\n",
    "index = np.where(np.round(x,2)==3.09)[0][0]  \n",
    "np.round(f[index],2)"
   ]
  },
  {
   "cell_type": "code",
   "execution_count": 21,
   "id": "e9ab4cad",
   "metadata": {},
   "outputs": [
    {
     "name": "stdout",
     "output_type": "stream",
     "text": [
      "idx \t | \t x \t | \t psi\n",
      "---------|---------------|-----------\n",
      "0 \t | \t 0.0 \t | \t 0.0\n",
      "1 \t | \t 0.05 \t | \t 0.0\n",
      "2 \t | \t 0.1 \t | \t 0.0\n",
      "3 \t | \t 0.15 \t | \t 0.0\n",
      "4 \t | \t 0.2 \t | \t 0.0\n",
      "5 \t | \t 0.25 \t | \t 0.0\n",
      "6 \t | \t 0.29 \t | \t 0.01\n",
      "7 \t | \t 0.34 \t | \t 0.01\n",
      "8 \t | \t 0.39 \t | \t 0.01\n",
      "9 \t | \t 0.44 \t | \t 0.01\n",
      "10 \t | \t 0.49 \t | \t 0.01\n",
      "11 \t | \t 0.54 \t | \t 0.01\n",
      "12 \t | \t 0.59 \t | \t 0.01\n",
      "13 \t | \t 0.64 \t | \t 0.01\n",
      "14 \t | \t 0.69 \t | \t 0.02\n",
      "15 \t | \t 0.74 \t | \t 0.02\n",
      "16 \t | \t 0.79 \t | \t 0.02\n",
      "17 \t | \t 0.83 \t | \t 0.02\n",
      "18 \t | \t 0.88 \t | \t 0.03\n",
      "19 \t | \t 0.93 \t | \t 0.03\n",
      "20 \t | \t 0.98 \t | \t 0.03\n",
      "21 \t | \t 1.03 \t | \t 0.04\n",
      "22 \t | \t 1.08 \t | \t 0.04\n",
      "23 \t | \t 1.13 \t | \t 0.05\n",
      "24 \t | \t 1.18 \t | \t 0.06\n",
      "25 \t | \t 1.23 \t | \t 0.06\n",
      "26 \t | \t 1.28 \t | \t 0.07\n",
      "27 \t | \t 1.33 \t | \t 0.08\n",
      "28 \t | \t 1.37 \t | \t 0.09\n",
      "29 \t | \t 1.42 \t | \t 0.1\n",
      "30 \t | \t 1.47 \t | \t 0.11\n",
      "31 \t | \t 1.52 \t | \t 0.12\n",
      "32 \t | \t 1.57 \t | \t 0.13\n",
      "33 \t | \t 1.62 \t | \t 0.14\n",
      "34 \t | \t 1.67 \t | \t 0.15\n",
      "35 \t | \t 1.72 \t | \t 0.16\n",
      "36 \t | \t 1.77 \t | \t 0.18\n",
      "37 \t | \t 1.82 \t | \t 0.19\n",
      "38 \t | \t 1.87 \t | \t 0.21\n",
      "39 \t | \t 1.91 \t | \t 0.22\n",
      "40 \t | \t 1.96 \t | \t 0.24\n",
      "41 \t | \t 2.01 \t | \t 0.26\n",
      "42 \t | \t 2.06 \t | \t 0.27\n",
      "43 \t | \t 2.11 \t | \t 0.29\n",
      "44 \t | \t 2.16 \t | \t 0.31\n",
      "45 \t | \t 2.21 \t | \t 0.33\n",
      "46 \t | \t 2.26 \t | \t 0.34\n",
      "47 \t | \t 2.31 \t | \t 0.36\n",
      "48 \t | \t 2.36 \t | \t 0.38\n",
      "49 \t | \t 2.41 \t | \t 0.39\n",
      "50 \t | \t 2.45 \t | \t 0.41\n",
      "51 \t | \t 2.5 \t | \t 0.43\n",
      "52 \t | \t 2.55 \t | \t 0.44\n",
      "53 \t | \t 2.6 \t | \t 0.46\n",
      "54 \t | \t 2.65 \t | \t 0.47\n",
      "55 \t | \t 2.7 \t | \t 0.48\n",
      "56 \t | \t 2.75 \t | \t 0.5\n",
      "57 \t | \t 2.8 \t | \t 0.51\n",
      "58 \t | \t 2.85 \t | \t 0.52\n",
      "59 \t | \t 2.9 \t | \t 0.52\n",
      "60 \t | \t 2.95 \t | \t 0.53\n",
      "61 \t | \t 2.99 \t | \t 0.54\n",
      "62 \t | \t 3.04 \t | \t 0.54\n",
      "63 \t | \t 3.09 \t | \t 0.54\n",
      "64 \t | \t 3.14 \t | \t 0.54\n",
      "65 \t | \t 3.19 \t | \t 0.54\n",
      "66 \t | \t 3.24 \t | \t 0.54\n",
      "67 \t | \t 3.29 \t | \t 0.54\n",
      "68 \t | \t 3.34 \t | \t 0.53\n",
      "69 \t | \t 3.39 \t | \t 0.52\n",
      "70 \t | \t 3.44 \t | \t 0.52\n",
      "71 \t | \t 3.49 \t | \t 0.51\n",
      "72 \t | \t 3.53 \t | \t 0.5\n",
      "73 \t | \t 3.58 \t | \t 0.48\n",
      "74 \t | \t 3.63 \t | \t 0.47\n",
      "75 \t | \t 3.68 \t | \t 0.46\n",
      "76 \t | \t 3.73 \t | \t 0.44\n",
      "77 \t | \t 3.78 \t | \t 0.43\n",
      "78 \t | \t 3.83 \t | \t 0.41\n",
      "79 \t | \t 3.88 \t | \t 0.39\n",
      "80 \t | \t 3.93 \t | \t 0.38\n",
      "81 \t | \t 3.98 \t | \t 0.36\n",
      "82 \t | \t 4.03 \t | \t 0.34\n",
      "83 \t | \t 4.07 \t | \t 0.33\n",
      "84 \t | \t 4.12 \t | \t 0.31\n",
      "85 \t | \t 4.17 \t | \t 0.29\n",
      "86 \t | \t 4.22 \t | \t 0.27\n",
      "87 \t | \t 4.27 \t | \t 0.26\n",
      "88 \t | \t 4.32 \t | \t 0.24\n",
      "89 \t | \t 4.37 \t | \t 0.22\n",
      "90 \t | \t 4.42 \t | \t 0.21\n",
      "91 \t | \t 4.47 \t | \t 0.19\n",
      "92 \t | \t 4.52 \t | \t 0.18\n",
      "93 \t | \t 4.57 \t | \t 0.16\n",
      "94 \t | \t 4.61 \t | \t 0.15\n",
      "95 \t | \t 4.66 \t | \t 0.14\n",
      "96 \t | \t 4.71 \t | \t 0.13\n",
      "97 \t | \t 4.76 \t | \t 0.12\n",
      "98 \t | \t 4.81 \t | \t 0.11\n",
      "99 \t | \t 4.86 \t | \t 0.1\n",
      "100 \t | \t 4.91 \t | \t 0.09\n",
      "101 \t | \t 4.96 \t | \t 0.08\n",
      "102 \t | \t 5.01 \t | \t 0.07\n",
      "103 \t | \t 5.06 \t | \t 0.06\n",
      "104 \t | \t 5.11 \t | \t 0.06\n",
      "105 \t | \t 5.15 \t | \t 0.05\n",
      "106 \t | \t 5.2 \t | \t 0.04\n",
      "107 \t | \t 5.25 \t | \t 0.04\n",
      "108 \t | \t 5.3 \t | \t 0.03\n",
      "109 \t | \t 5.35 \t | \t 0.03\n",
      "110 \t | \t 5.4 \t | \t 0.03\n",
      "111 \t | \t 5.45 \t | \t 0.02\n",
      "112 \t | \t 5.5 \t | \t 0.02\n",
      "113 \t | \t 5.55 \t | \t 0.02\n",
      "114 \t | \t 5.6 \t | \t 0.02\n",
      "115 \t | \t 5.65 \t | \t 0.01\n",
      "116 \t | \t 5.69 \t | \t 0.01\n",
      "117 \t | \t 5.74 \t | \t 0.01\n",
      "118 \t | \t 5.79 \t | \t 0.01\n",
      "119 \t | \t 5.84 \t | \t 0.01\n",
      "120 \t | \t 5.89 \t | \t 0.01\n",
      "121 \t | \t 5.94 \t | \t 0.01\n",
      "122 \t | \t 5.99 \t | \t 0.01\n",
      "123 \t | \t 6.04 \t | \t 0.0\n",
      "124 \t | \t 6.09 \t | \t 0.0\n",
      "125 \t | \t 6.14 \t | \t 0.0\n",
      "126 \t | \t 6.19 \t | \t 0.0\n",
      "127 \t | \t 6.23 \t | \t 0.0\n"
     ]
    }
   ],
   "source": [
    "L  = 2 * np.pi \n",
    "N  = 128\n",
    "dx = L / N    \n",
    "dt = 0.001    \n",
    "T  = 1.0   \n",
    "k  = 0.3\n",
    "\n",
    "initial_condition = lambda x : np.exp(-2 * (x - np.pi)**2)\n",
    "\n",
    "x = np.linspace(0, L, N, endpoint=False)\n",
    "\n",
    "psi     = initial_condition(x)\n",
    "psi_new = np.zeros(N)\n",
    "\n",
    "for t in np.arange(0, T, dt):\n",
    "    psi_xx = np.roll(psi, -1) - 2 * psi + np.roll(psi, 1)\n",
    "    k1 = k * dt * psi_xx / (dx**2)\n",
    "    k2 = k * dt * psi_xx / (dx**2)\n",
    "    psi_new = psi +  0.5 * k1 + 0.5 * k2\n",
    "    psi = psi_new.copy()\n",
    "\n",
    "x   = np.round(x, 2)\n",
    "psi = np.round(psi, 2)    \n",
    "\n",
    "print('idx','\\t | \\t', 'x', '\\t | \\t', 'psi')\n",
    "print('---------|---------------|-----------')\n",
    "for idx, (i, j) in enumerate(zip(x, psi)):                 # N=256 | idx=126 || N=128 | idx=63 || N=64 | idx=31 \n",
    "    print(idx,'\\t | \\t', i, '\\t | \\t', j)"
   ]
  },
  {
   "cell_type": "code",
   "execution_count": 7,
   "id": "358f15d2",
   "metadata": {},
   "outputs": [
    {
     "data": {
      "text/plain": [
       "(63, 0.54159214111006)"
      ]
     },
     "execution_count": 7,
     "metadata": {},
     "output_type": "execute_result"
    }
   ],
   "source": [
    "x_target  = 3.09\n",
    "\n",
    "index = round(x_target / dx)\n",
    "index, psi[index]"
   ]
  },
  {
   "cell_type": "code",
   "execution_count": 8,
   "id": "aad948f3",
   "metadata": {},
   "outputs": [
    {
     "name": "stdout",
     "output_type": "stream",
     "text": [
      "n \t x \t psi\n",
      "61 \t 2.99 \t 0.54\n",
      "62 \t 3.04 \t 0.54\n",
      "63 \t 3.09 \t 0.54\n",
      "64 \t 3.14 \t 0.54\n",
      "65 \t 3.19 \t 0.54\n"
     ]
    }
   ],
   "source": [
    "print('n','\\t', 'x', '\\t', 'psi')\n",
    "for i in range(index-2, index+3):\n",
    "    print(i, '\\t', np.round(x[i], 2), '\\t', np.round(psi[i], 2))"
   ]
  }
 ],
 "metadata": {
  "kernelspec": {
   "display_name": "Python 3 (ipykernel)",
   "language": "python",
   "name": "python3"
  },
  "language_info": {
   "codemirror_mode": {
    "name": "ipython",
    "version": 3
   },
   "file_extension": ".py",
   "mimetype": "text/x-python",
   "name": "python",
   "nbconvert_exporter": "python",
   "pygments_lexer": "ipython3",
   "version": "3.10.9"
  }
 },
 "nbformat": 4,
 "nbformat_minor": 5
}
