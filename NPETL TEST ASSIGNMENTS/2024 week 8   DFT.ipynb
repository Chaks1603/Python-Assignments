{
 "cells": [
  {
   "cell_type": "markdown",
   "id": "81e2f9d1",
   "metadata": {},
   "source": [
    "<span style=\"color:red\">Write a python program to solve the wave equation $\\large{∂_t ϕ=−2∂_x ϕ}$ using spectral method.   </span>                                           \n",
    "<span style=\"color:red\">Take $x$ in the range $0\\le x\\le 2\\pi$ and the grid size $N = 512$. Take the initial condition $ϕ(x,t=0)=e^{−32(x−1)^2}$.    </span>                                                                            \n",
    "<span style=\"color:red\">What is the value of function $ϕ$ at $x = 5.01 $ and $t = 2.0 \\text{ i.e. } ϕ(x=5.01,t=2.0)$ rounded to $2$ decimal places.   </span>                \n",
    "Note: The procedure to solve this is the same as diffusion equation that is given in the notes.                               \n",
    "You are given the initial condition in real space $ϕ(x,t=0)$, take its fourier transform to find initial condition in fourier space $ϕ(k,t=0)$.                                                                                                          \n",
    "Now solve wave eqaution in fourier space using the fourier space initial condition.                                               \n",
    "Then take inverse fourier transform of the solution in fourier space to find the solution in real space.                           \n",
    "Now to find the value of function at $x = 5.01$ you will need the index of this value in the $X$ array,                         \n",
    "so that you can find the function value at the corresponding index.                                                           \n",
    "For that round the $X$ array to two decimal places using `X = np.round(X,2)`, where $X$ is the array of discrete $x$ values.                                                                                                                                   \n",
    "Now you can find the index of value 5.01 using `i = np.where(X == 5.01)` this returns an array where x values are 5.01,   \n",
    "for our problem it will be an array of one element.                                   \n",
    "Now you can find the value of $ϕ$ at $5.01$ using `result = np.round(f_final[i],2)` since $i$ is an array of one value,           \n",
    "this will also return an array containing one value.                                            \n",
    "Here `f_final` is the value of the  function $ϕ$ at $t = 2.0 \\text{ i.e. } ϕ(x,t=2.0)$."
   ]
  },
  {
   "cell_type": "code",
   "execution_count": 1,
   "id": "4a8a1dc1",
   "metadata": {},
   "outputs": [
    {
     "data": {
      "text/plain": [
       "1.0"
      ]
     },
     "execution_count": 1,
     "metadata": {},
     "output_type": "execute_result"
    }
   ],
   "source": [
    "import numpy as np\n",
    "N         = 512                                   # Number of grid points\n",
    "L         = 2 * np.pi                             # Length of the domain (0 <= x <= 2π)\n",
    "x         = np.linspace(0, L, N, endpoint=False)  # Discrete x values\n",
    "dx        = L / N                                 # Grid spacing\n",
    "dt        = 0.01                                  # Time step size\n",
    "t_final   = 2.0                                   # Final time\n",
    "phi_0     = np.exp(-32 * (x - 1)**2)              # Initial condition\n",
    "phi_k     = np.fft.fft(phi_0)                     # Fourier transform of the initial condition\n",
    "k         = np.fft.fftfreq(N, d=dx) * 2 * np.pi   # Wave numbers (k)\n",
    "phi_k_t   = phi_k * np.exp(-2j * k * t_final)     # Solution at t = 2.0 in Fourier space\n",
    "phi_final = np.real(np.fft.ifft(phi_k_t))         # Inverse Fourier transform to get the solution in real space\n",
    "x_rounded = np.round(x, 2)                        # Round the x values for indexing\n",
    "i         = np.where(x_rounded == 5.01)           # Find the index corresponding to x = 5.01\n",
    "result    = np.round(phi_final[i], 2)\n",
    "result[0]"
   ]
  },
  {
   "cell_type": "markdown",
   "id": "33945bee",
   "metadata": {},
   "source": [
    "<span style=\"color:red\">Write a Python program to solve the diffusion equation $\\large\\displaystyle{ ∂_t ϕ=\\kappa \\frac{∂^2 ϕ}{∂x^2}}$ using spectral method.   </span>                                                                                                                               \n",
    "<span style=\"color:red\">Take $N = 128,  L = 2\\pi$ where $0\\le x \\le 2\\pi$. Take the initial condition to be $ϕ(x,t=0)=e^{−2(x−\\pi)^2}$.   </span>                 \n",
    "<span style=\"color:red\">What is the value of the function $ϕ(x,t)$ at $x = 0.0$ and $t = 2.0$ rounded to $4$ decimal places.      </span>                            \n",
    "Note : $x = 0.0$ is the first  element of $x$ array with index $0$, so you can find the function value at $x = 0.0$ using `value =  round(f_final[0],4)`                                           \n",
    "where `f_final` is the value of the function at $t = 2.0$."
   ]
  },
  {
   "cell_type": "code",
   "execution_count": 2,
   "id": "c4625058",
   "metadata": {},
   "outputs": [
    {
     "data": {
      "text/plain": [
       "0.1519"
      ]
     },
     "execution_count": 2,
     "metadata": {},
     "output_type": "execute_result"
    }
   ],
   "source": [
    "N         = 128                                   # Number of grid points\n",
    "L         = 2 * np.pi                             # Length of the domain (0 <= x <= 2π)\n",
    "x         = np.linspace(0, L, N, endpoint=False)  # Discrete x values\n",
    "dx        = L / N                                 # Grid spacing\n",
    "kappa     = 1.0                                   # Diffusion coefficient\n",
    "t_final   = 2.0                                   # Final time\n",
    "phi_0     = np.exp(-2 * (x - np.pi)**2)\n",
    "phi_k     = np.fft.fft(phi_0)\n",
    "k         = np.fft.fftfreq(N, d=dx) * 2 * np.pi\n",
    "phi_k_t   = phi_k * np.exp(-kappa * k**2 * t_final)\n",
    "phi_final = np.real(np.fft.ifft(phi_k_t))\n",
    "round(phi_final[0], 4)"
   ]
  },
  {
   "cell_type": "markdown",
   "id": "c0d2ff3b",
   "metadata": {},
   "source": [
    "<span style=\"color:red\">Which function in numpy library specifically  performs fast fourier transfrom of real valued array?                           \n",
    "Note: import numpy as np   </span>                                                                                            \n",
    "$\\qquad\\qquad$**np.fft.rfft**"
   ]
  },
  {
   "cell_type": "markdown",
   "id": "ff17af0c",
   "metadata": {},
   "source": [
    "<span style=\"color:red\">What is the time stability condition for the Burger equation $∂_tu+u∂_xu=\\nu ∂^2_xu$, </span>       \n",
    "<span style=\"color:red\">where $\\nu$ is kinematic viscosity using spectral method with Euler forward time scheme for time step $\\Delta t$?  </span>\n",
    "\n",
    "## $\\qquad\\displaystyle \\frac{\\partial u}{\\partial t} + u \\frac{\\partial u}{\\partial x} = \\nu \\frac{\\partial^2 u}{\\partial x^2},$\n",
    "\n",
    "1. **Discretize the Time Derivative**:                                                                                              \n",
    "   The Euler forward scheme approximates the time derivative as:\n",
    "\n",
    "   $ \\qquad\\displaystyle\\frac{u^{n+1} - u^n}{\\Delta t} \\approx \\frac{\\partial u}{\\partial t} \\Bigg|_{t = t^n}.$\n",
    "\n",
    "   Thus, the equation becomes:                                                                                                     \n",
    "   $ \\qquad\\displaystyle u^{n+1} = u^n - \\Delta t \\left( u^n \\frac{\\partial u^n}{\\partial x} \\right) + \\nu \\Delta t \\frac{\\partial^2 u^n}{\\partial x^2}.$\n",
    "\n",
    "2. **Spectral Method**:                                                                                                      \n",
    "   If we denote the spatial derivative in terms of Fourier modes, we typically express $u^n$ as a Fourier series.             \n",
    "   The derivatives can be computed using spectral differentiation:\n",
    "\n",
    "   - $\\qquad\\quad\\displaystyle \\frac{\\partial u}{\\partial x} \\to ik u_k,$\n",
    "\n",
    "   - $\\qquad\\quad\\displaystyle \\frac{\\partial^2 u}{\\partial x^2} \\to -k^2 u_k,$\n",
    "\n",
    "   where $k$ represents the wave numbers associated with the Fourier modes.\n",
    "\n",
    "Substituting these into the discretized form, we can analyze the stability of the numerical scheme.\n",
    "\n",
    "  **Linearized Form**:                                                                                                          \n",
    "   For small perturbations or in the linear regime, we can ignore the nonlinear term $u \\frac{\\partial u}{\\partial x}$ for stability analysis.                                                                                                                   \n",
    "   Thus, the equation reduces to:\n",
    "\n",
    "   $\\qquad\\displaystyle u^{n+1} \\approx u^n + \\nu \\Delta t (-k^2 u_k).$\n",
    "\n",
    "   Rearranging gives:\n",
    "\n",
    "   $\\qquad\\displaystyle u^{n+1} = (1 - \\nu \\Delta t k^2) u^n.$\n",
    "   \n",
    "   $\\qquad\\displaystyle\\frac{u^{n+1}}{u^n} = (1 - \\nu \\Delta t k^2) .$\n",
    "\n",
    "   **Condition for Stability**:                                                                                                      \n",
    "   For stability, the amplitude $\\displaystyle |u^{n+1}| $ must not grow with time. This leads to the condition:                 \n",
    "   $\\qquad\\displaystyle\\left|\\frac{u^{n+1}}{u^n}\\right| < 1 $\n",
    "   \n",
    "   $\\qquad\\displaystyle |1 - \\nu \\Delta t k^2| < 1.$\n",
    "   \n",
    "   $\\qquad\\displaystyle -1 <1 - \\nu \\Delta t k^2 < 1.$\n",
    "   \n",
    "   $\\qquad\\displaystyle -2 < - \\nu \\Delta t k^2 < 0.$\n",
    "   \n",
    "   $\\qquad\\displaystyle 0 < \\nu \\Delta t k^2 < 2.$\n",
    "\n",
    "   This condition leads to the following requirements:\n",
    "\n",
    "   - The real part of $\\displaystyle 1 - \\nu \\Delta t k^2$ must be less than $1$.\n",
    "   - Therefore, we can derive:                                                                                                 \n",
    "        $\\qquad\\quad \\displaystyle  \\nu \\Delta t k^2 < 2.$\n",
    "\n",
    "The stability condition for the time step $\\Delta t$ in terms of the wave number $k$ and the kinematic viscosity $\\nu$ is:\n",
    "\n",
    "$\\qquad\\qquad\\displaystyle\\Delta t < \\frac{2}{\\nu k^2}.$\n",
    "\n",
    "$ \\qquad\\qquad\\displaystyle\\Delta t \\leq \\frac{2}{\\nu \\left(\\frac{\\pi}{h}\\right)^2}  \\qquad\\qquad \\left[ \\ \\because \\ k_{max}=\\frac{2\\pi}{\\lambda_{min}}=\\frac{\\pi}{h} \\ \\right]$\n",
    "\n",
    "$ \\qquad\\qquad\\displaystyle\\Delta t \\leq \\frac{2h^2}{\\nu\\pi^2}  . $"
   ]
  },
  {
   "cell_type": "markdown",
   "id": "93f32420",
   "metadata": {},
   "source": [
    "<span style=\"color:red\">Which of the following methods is most accurate for solving partial-differential equations (PDEs)?  </span>       \n",
    "\n",
    "$\\qquad\\quad$ **Spectral method**"
   ]
  },
  {
   "cell_type": "markdown",
   "id": "a84f0b0e",
   "metadata": {},
   "source": [
    "<span style=\"color:red\">What is the Fourier transform of the product of two real functions $f(x)$ and $g(x)$?  </span>\n",
    "\n",
    "$\\qquad\\quad\\displaystyle f(x)=\\sum_k f_k e^{ikx}$\n",
    "\n",
    "$\\qquad\\quad\\displaystyle g(x)=\\sum_k g_k e^{ikx}$\n",
    "\n",
    "$\\qquad\\quad\\displaystyle f(x)*g(x) = \\sum_{k''} f_{k''} e^{ik''x} \\sum_{k'} g_{k'} e^{ik'x} = \\sum_{k'', k'} f_{k''} g_{k'} e^{i(k''+k')x} $\n",
    "\n",
    "$\\qquad\\quad\\displaystyle \\sum (fg)_k e^{ikx} = \\sum_{k'', k-k''} f_{k''} g_{k-k''} e^{ikx} \\qquad\\qquad \\left[\\because k=k''+k' \\ => \\ k'=k-k'' \\right]$\n",
    "\n",
    "$\\qquad\\quad\\displaystyle \\sum (fg)_k e^{ikx} = \\sum_{p} f_{p} g_{k-p} e^{ikx} $\n",
    "\n",
    "$\\qquad\\quad\\displaystyle \\sum (fg)_k e^{ikx} = \\sum_{p} f_{k-p} g_{p} e^{ikx} \\qquad\\qquad\\qquad\\quad \\left[\\because p\\rightarrow k-p \\right]$\n",
    "\n",
    "$\\qquad\\quad\\displaystyle {(fg)}_k=\\sum_pf_{k-p}g_p$\n"
   ]
  },
  {
   "cell_type": "markdown",
   "id": "bd5b2422",
   "metadata": {},
   "source": [
    "<span style=\"color:red\">What is the stability condition for diffusion equation $\\displaystyle ∂_tϕ_k=\\kappa k^2 ϕ$, where $\\kappa$ is the diffusion coefficient using Euler froward scheme with time step $\\Delta t$ ?  </span>\n",
    "\n",
    "\n",
    "## $\\qquad\\quad\\displaystyle \\partial_t \\phi_k = \\kappa k^2 \\phi $\n",
    "\n",
    "\n",
    "Using the Euler forward method, we discretize the time derivative as follows:\n",
    "\n",
    "$\\qquad\\quad\\displaystyle \\frac{\\phi_k^{n+1} - \\phi_k^n}{\\Delta t} = \\kappa k^2 \\phi_k^n $\n",
    "\n",
    "where:\n",
    "- $\\phi_k^n$ is the value of $\\phi$ at wave number $k$ and time step $n$.\n",
    "- $\\Delta t$ is the time step size.\n",
    "\n",
    "Rearranging the equation gives:\n",
    "\n",
    "$\\qquad\\quad\\displaystyle \\phi_k^{n+1} = \\phi_k^n + \\kappa k^2 \\phi_k^n \\Delta t $\n",
    "\n",
    "We can factor out $\\phi_k^n$:\n",
    "\n",
    "$\\qquad\\quad\\displaystyle \\phi_k^{n+1} = \\phi_k^n \\left(1 + \\kappa k^2 \\Delta t\\right) $\n",
    "\n",
    "$\\qquad\\quad\\displaystyle \\frac{\\phi_k^{n+1}}{\\phi_k^n}= \\left(1 + \\kappa k^2 \\Delta t\\right) $\n",
    "\n",
    "To ensure stability, we require that the amplification factor $A$ (given by the term $1 + \\kappa k^2 \\Delta t$) should not cause the solution to grow unbounded.                                                                                      \n",
    "This can be expressed mathematically as:\n",
    "\n",
    "$\\qquad\\quad\\displaystyle |A| \\leq 1 $\n",
    "\n",
    "$\\qquad\\quad\\displaystyle\\left| \\frac{\\phi_k^{n+1}}{\\phi_k^n} \\right| \\leq 1 $\n",
    "\n",
    "$ \\qquad\\quad\\displaystyle |1 + \\kappa k^2 \\Delta t| \\leq 1 $\n",
    "\n",
    "$ \\qquad\\quad\\displaystyle -1\\leq 1 + \\kappa k^2 \\Delta t \\leq 1 $\n",
    "\n",
    "$ \\qquad\\quad\\displaystyle -2\\leq \\kappa k^2 \\Delta t \\leq 0 $\n",
    "   \n",
    "\n",
    "Since $\\kappa k^2$ is positive, we focus on the upper bound:\n",
    "\n",
    "$ \\qquad\\qquad\\displaystyle\\kappa k^2 Δt \\leq 0$\n",
    "\n",
    "Thus, the stability condition becomes:\n",
    "\n",
    "$ \\qquad\\qquad\\displaystyle\\Delta t \\leq \\frac{2}{\\kappa k^2} . $\n",
    "\n",
    "$ \\qquad\\qquad\\displaystyle\\Delta t \\leq \\frac{2}{\\kappa \\left(\\frac{\\pi}{h}\\right)^2}\\qquad\\qquad \\left[ \\ \\because \\  k_{max}=\\frac{2\\pi}{\\lambda_{min}}=\\frac{\\pi}{h} \\ \\right] $\n",
    "\n",
    "$ \\qquad\\qquad\\displaystyle\\Delta t \\leq \\frac{2h^2}{\\kappa\\pi^2}  . $"
   ]
  },
  {
   "cell_type": "markdown",
   "id": "0dc70ba4",
   "metadata": {},
   "source": [
    "<span style=\"color:red\">Which of the following is true for the Fourier transform $(\\hat{f}_k)$ of a real function $f(x)$?   </span>                           \n",
    "<span style=\"color:red\">Note: Here, $(\\hat{f}_k^{*})$  is the conjugate of $(\\hat{f}_k)$.  </span>\n",
    "\n",
    "\n",
    "For the Fourier transform of a real function $ f(x) $, the following property holds:\n",
    "\n",
    "$\\qquad\\quad\\displaystyle\\hat{f}_k^{*} = \\hat{f}_{-k}$.\n",
    "\n",
    "where:\n",
    "- $ \\hat{f}_k $ is the Fourier transform of $ f(x) $,\n",
    "- $ \\hat{f}_k^* $ is the complex conjugate of $ \\hat{f}_k $,\n",
    "- $ k $ is the wave number.\n",
    "\n",
    "**Mathematical Proof**:\n",
    "   - The Fourier transform is defined as:\n",
    "   \n",
    "   $\\qquad\\quad\\displaystyle\\hat{f}_k = \\int_{-\\infty}^{\\infty} f(x) e^{-ikx} \\, dx$\n",
    "   \n",
    "   - Taking the Fourier transform for $ -k $:\n",
    "   \n",
    "   $\\qquad\\quad\\displaystyle\\hat{f}_{-k} = \\int_{-\\infty}^{\\infty} f(x) e^{ikx} \\, dx$\n",
    "   \n",
    "   - By complex conjugation $\\hat{f}_k$:\n",
    "   \n",
    "   $\\qquad\\quad\\displaystyle\\hat{f}_{k}^* = \\left( \\int_{-\\infty}^{\\infty} f(x) e^{-ikx} \\, dx \\right)^* = \\int_{-\\infty}^{\\infty} f(x)^* e^{ikx} \\, dx $\n",
    "   \n",
    "   - Since $ f(x) $ is real, $ f(x)^* = f(x) $, leading to:\n",
    "   \n",
    "   $\\qquad\\quad\\displaystyle\\hat{f}_{-k} = \\hat{f}_k^*$\n",
    "   "
   ]
  },
  {
   "cell_type": "markdown",
   "id": "b2d80e88",
   "metadata": {},
   "source": [
    "<span style=\"color:red\">Write a Python program to compute the $2D$ Fourier Transform of the following function :  </span>                                             \n",
    "<span style=\"color:red\">$\\qquad\\quad\\displaystyle\\large{ f(x)=1+\\cos^2(x)\\cos^2(y)}$     </span>                                                                                                \n",
    "<span style=\"color:red\">Evaluate the above function over a square grid of $64\\times64$ points with limits $0\\le x\\le2\\pi$ and $0\\le y\\le2\\pi$.     </span>                                                                                                   \n",
    "<span style=\"color:red\">Then use Numpy's `np.fft.fft2()` function to obtain its $2D$ Fourier transform.    </span>                                            \n",
    "<span style=\"color:red\">For a given input pair of wave-numbers $(k_x,k_y)$, print the corresponding absolute value of the Fourier amplitude.    </span>          \n",
    "<span style=\"color:red\">What is the Fourier amplitude at `(kx,ky)=(2,2)`$? \\qquad$ Round off to four decimal places.  </span>                                           \n",
    "Note : Normalise $FFT$ like `fk = np.fft.fft2(f)/(Nx*Ny)`. You can access the value at a given positive $k_x,k_y$  mode using `fk[kx,ky]`.                                              \n",
    "It gives complex number but you need absolute so you can use `abs()` or `np.abs()` function to find absolute value."
   ]
  },
  {
   "cell_type": "code",
   "execution_count": 3,
   "id": "4b9f9f49",
   "metadata": {},
   "outputs": [
    {
     "data": {
      "text/plain": [
       "0.0625"
      ]
     },
     "execution_count": 3,
     "metadata": {},
     "output_type": "execute_result"
    }
   ],
   "source": [
    "N_x, N_y  = 64, 64                                     # Grid size\n",
    "L_x, L_y  = 2 * np.pi, 2 * np.pi                       # Domain size (0 <= x, y <= 2π)\n",
    "x, y      = np.linspace(0, L_x, N_x, endpoint=False), np.linspace(0, L_y, N_y, endpoint=False)\n",
    "X, Y      = np.meshgrid(x, y)\n",
    "f         = 1 + np.cos(X)**2 * np.cos(Y)**2\n",
    "f_k       = np.fft.fft2(f) / (N_x * N_y)                 # Normalize the FFT\n",
    "amplitude = np.abs(f_k[2, 2])\n",
    "round(amplitude, 4)"
   ]
  },
  {
   "cell_type": "markdown",
   "id": "175b8e02",
   "metadata": {},
   "source": [
    "<span style=\"color:red\">Calculate the integral $\\displaystyle\\large{\\int^L_{-L}e^{-2x^6} \\ dx}$ numerically using **Parseval's Theorem**. Take $L=4\\pi$ and the grid size to be $N = 256.$    </span>                                                                                   \n",
    "Note: For Discrete fourier transform the parseval theroem is as follows : $ \\ \\displaystyle\\sum_x f^2(x)=\\sum_k \\frac{{|f(k)|}^2}{N} \\quad $ where $N$ is the grid size.                                                                                  \n",
    "So now we calculate the integral by multiplying the above sum by $dx = \\frac{2L}{N} = \\frac{8π}{N}$.                                \n",
    "So the integral is  $\\displaystyle I = \\sum_x f^2(x) ∗ dx= \\sum_k \\frac{{|f(k)|}^2}{N} ∗ dx $.                                         \n",
    "Note that parseval theorem integrates $f^2(x)$ using the fourier transform of $f(x)$. So you are given $f^2(x)$ in the question to integrate.                                                                           \n",
    "You need to find $f(x)$ so that you can take fourier transform of it and use parseval theorem to find the integration of $f^2(x)$."
   ]
  },
  {
   "cell_type": "code",
   "execution_count": 4,
   "id": "c1dacb98",
   "metadata": {},
   "outputs": [
    {
     "data": {
      "text/plain": [
       "1.65"
      ]
     },
     "execution_count": 4,
     "metadata": {},
     "output_type": "execute_result"
    }
   ],
   "source": [
    "L     = 4 * np.pi                             # Range of integration\n",
    "N     = 256                                   # Number of grid points\n",
    "dx    = 2 * L / N                             # Grid size, adjusted for the entire range [-L, L]\n",
    "x     = np.linspace(-L, L, N, endpoint=False) # Create the grid points\n",
    "f_x   = np.exp(-x ** 6)                       # Define the function f(x) = e^{-x^6} so that f^2(x) = e^{-2x^6}\n",
    "f_hat = np.fft.fft(f_x)                       # Compute the Discrete Fourier Transform of f(x)\n",
    "I     = np.sum(np.abs(f_hat) ** 2) / N * dx   # Apply Parseval's Theorem to compute the integral\n",
    "round(I,2)"
   ]
  }
 ],
 "metadata": {
  "kernelspec": {
   "display_name": "Python 3 (ipykernel)",
   "language": "python",
   "name": "python3"
  },
  "language_info": {
   "codemirror_mode": {
    "name": "ipython",
    "version": 3
   },
   "file_extension": ".py",
   "mimetype": "text/x-python",
   "name": "python",
   "nbconvert_exporter": "python",
   "pygments_lexer": "ipython3",
   "version": "3.10.9"
  }
 },
 "nbformat": 4,
 "nbformat_minor": 5
}
