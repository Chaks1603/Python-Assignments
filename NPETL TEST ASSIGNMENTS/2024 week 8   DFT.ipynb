{
 "cells": [
  {
   "cell_type": "markdown",
   "id": "81e2f9d1",
   "metadata": {},
   "source": [
    "Write a python program to solve the wave equation $\\large{∂_t ϕ=−2∂_x ϕ}$ using spectral method.                                            \n",
    "Take $x$ in the range $0\\le x\\le 2\\pi$ and the grid size $N = 512$. Take the initial condition $ϕ(x,t=0)=e^{−32(x−1)^2}$.                                                                              \n",
    "What is the value of function $ϕ$ at $x = 5.01 $ and $t = 2.0 \\text{ i.e. } ϕ(x=5.01,t=2.0)$ rounded to $2$ decimal places.                 \n",
    "Note: The procedure to solve this is the same as diffusion equation that is given in the notes.                               \n",
    "You are given the initial condition in real space $ϕ(x,t=0)$, take its fourier transform to find initial condition in fourier space $ϕ(k,t=0)$.                                                                                                          \n",
    "Now solve wave eqaution in fourier space using the fourier space initial condition.                                               \n",
    "Then take inverse fourier transform of the solution in fourier space to find the solution in real space.                           \n",
    "Now to find the value of function at $x = 5.01$ you will need the index of this value in the $X$ array, so that you can find the function value at the corresponding index.                                                           \n",
    "For that round the $X$ array to two decimal places using `X = np.round(X,2)`, where $X$ is the array of discrete $x$ values.                                                                                                                                   \n",
    "Now you can find the index of value 5.01 using `i = np.where(X == 5.01)` this returns an array where x values are 5.01, for our problem it will be an array of one element.                                   \n",
    "Now you can find the value of $ϕ$ at $5.01$ using `result = np.round(f_final[i],2)` since $i$ is an array of one value, this will also return an array containing one value.                                            \n",
    "Here `f_final` is the value of the  function $ϕ$ at $t = 2.0 \\text{ i.e. } ϕ(x,t=2.0)$."
   ]
  },
  {
   "cell_type": "code",
   "execution_count": 1,
   "id": "4a8a1dc1",
   "metadata": {},
   "outputs": [
    {
     "name": "stdout",
     "output_type": "stream",
     "text": [
      "The value of ϕ at x = 5.01 and t = 2.0 is: 1.0\n"
     ]
    }
   ],
   "source": [
    "import numpy as np\n",
    "N         = 512                                   # Number of grid points\n",
    "L         = 2 * np.pi                             # Length of the domain (0 <= x <= 2π)\n",
    "x         = np.linspace(0, L, N, endpoint=False)  # Discrete x values\n",
    "dx        = L / N                                 # Grid spacing\n",
    "dt        = 0.01                                  # Time step size\n",
    "t_final   = 2.0                                   # Final time\n",
    "phi_0     = np.exp(-32 * (x - 1)**2)              # Initial condition\n",
    "phi_k     = np.fft.fft(phi_0)                     # Fourier transform of the initial condition\n",
    "k         = np.fft.fftfreq(N, d=dx) * 2 * np.pi   # Wave numbers (k)\n",
    "phi_k_t   = phi_k * np.exp(-2j * k * t_final)     # Solution at t = 2.0 in Fourier space\n",
    "phi_final = np.real(np.fft.ifft(phi_k_t))         # Inverse Fourier transform to get the solution in real space\n",
    "x_rounded = np.round(x, 2)                        # Round the x values for indexing\n",
    "i         = np.where(x_rounded == 5.01)           # Find the index corresponding to x = 5.01\n",
    "result    = np.round(phi_final[i], 2)\n",
    "print(f\"The value of ϕ at x = 5.01 and t = 2.0 is: {result[0]}\")"
   ]
  },
  {
   "cell_type": "markdown",
   "id": "33945bee",
   "metadata": {},
   "source": [
    "Write a Python program to solve the diffusion equation $\\large\\displaystyle{ ∂_t ϕ=\\kappa \\frac{∂^2 ϕ}{∂x^2}}$ using spectral method.                                                                                                                                \n",
    "Take $N = 128,  L = 2\\pi$ where $0\\le x \\le 2\\pi$. Take the initial condition to be $ϕ(x,t=0)=e^{−2(x−\\pi)^2}$.                  \n",
    "What is the value of the function $ϕ(x,t)$ at $x = 0.0$ and $t = 2.0$ rounded to $4$ decimal places.                                \n",
    "Note : $x = 0.0$ is the first  element of $x$ array with index $0$, so you can find the function value at $x = 0.0$ using `value =  round(f_final[0],4)`                                           \n",
    "where `f_final` is the value of the function at $t = 2.0$."
   ]
  },
  {
   "cell_type": "code",
   "execution_count": 2,
   "id": "c4625058",
   "metadata": {},
   "outputs": [
    {
     "name": "stdout",
     "output_type": "stream",
     "text": [
      "The value of ϕ at x = 0.0 and t = 2.0 is: 0.1519\n"
     ]
    }
   ],
   "source": [
    "N         = 128                                   # Number of grid points\n",
    "L         = 2 * np.pi                             # Length of the domain (0 <= x <= 2π)\n",
    "x         = np.linspace(0, L, N, endpoint=False)  # Discrete x values\n",
    "dx        = L / N                                 # Grid spacing\n",
    "kappa     = 1.0                                   # Diffusion coefficient\n",
    "t_final   = 2.0                                   # Final time\n",
    "phi_0     = np.exp(-2 * (x - np.pi)**2)\n",
    "phi_k     = np.fft.fft(phi_0)\n",
    "k         = np.fft.fftfreq(N, d=dx) * 2 * np.pi\n",
    "phi_k_t   = phi_k * np.exp(-kappa * k**2 * t_final)\n",
    "phi_final = np.real(np.fft.ifft(phi_k_t))\n",
    "print(f\"The value of ϕ at x = 0.0 and t = 2.0 is: {round(phi_final[0], 4)}\")"
   ]
  },
  {
   "cell_type": "markdown",
   "id": "b2d80e88",
   "metadata": {},
   "source": [
    "Write a Python program to compute the $2D$ Fourier Transform of the following function :                                              \n",
    "$\\qquad\\quad\\displaystyle\\large{ f(x)=1+\\cos^2(x)\\cos^2(y)}$                                                                                                    \n",
    "Evaluate the above function over a square grid of $64\\times64$ points with limits $0\\le x\\le2\\pi$ and $0\\le y\\le2\\pi$.    \n",
    "Then use Numpy's `np.fft.fft2()` function to obtain its $2D$ Fourier transform.                                               \n",
    "For a given input pair of wave-numbers $(k_x,k_y)$, print the corresponding absolute value of the Fourier amplitude.             \n",
    "What is the Fourier amplitude at `(kx,ky)=(2,2)`$? \\qquad$ Round off to four decimal places.                                            \n",
    "Note : Normalise $FFT$ like `fk = np.fft.fft2(f)/(Nx*Ny)`. You can access the value at a given positive $k_x,k_y$  mode using `fk[kx,ky]`.                                              \n",
    "It gives complex number but you need absolute so you can use `abs()` or `np.abs()` function to find absolute value."
   ]
  },
  {
   "cell_type": "code",
   "execution_count": 3,
   "id": "4b9f9f49",
   "metadata": {},
   "outputs": [
    {
     "name": "stdout",
     "output_type": "stream",
     "text": [
      "The Fourier amplitude at (k_x, k_y) = (2, 2) is: 0.0625\n"
     ]
    }
   ],
   "source": [
    "N_x, N_y  = 64, 64                                     # Grid size\n",
    "L_x, L_y  = 2 * np.pi, 2 * np.pi                       # Domain size (0 <= x, y <= 2π)\n",
    "x, y      = np.linspace(0, L_x, N_x, endpoint=False), np.linspace(0, L_y, N_y, endpoint=False)\n",
    "X, Y      = np.meshgrid(x, y)\n",
    "f         = 1 + np.cos(X)**2 * np.cos(Y)**2\n",
    "f_k       = np.fft.fft2(f) / (N_x * N_y)                 # Normalize the FFT\n",
    "amplitude = np.abs(f_k[2, 2])\n",
    "print(f\"The Fourier amplitude at (k_x, k_y) = (2, 2) is: {round(amplitude, 4)}\")"
   ]
  },
  {
   "cell_type": "markdown",
   "id": "175b8e02",
   "metadata": {},
   "source": [
    "Calculate the integral $\\displaystyle\\large{\\int^L_{-L}e^{-2x^6} \\ dx}$ numerically using **Parseval's Theorem**. Take $L=4\\pi$ and the grid size to be $N = 256.$                                                                                      \n",
    "Note: For Discrete fourier transform the parseval theroem is as follows : $ \\ \\displaystyle\\sum_x f^2(x)=\\sum_k \\frac{{|f(k)|}^2}{N} \\quad $ where $N$ is the grid size.                                                                                  \n",
    "So now we calculate the integral by multiplying the above sum by $dx = \\frac{2L}{N} = \\frac{8π}{N}$.                                \n",
    "So the integral is  $\\displaystyle I = \\sum_x f^2(x) ∗ dx= \\sum_k \\frac{{|f(k)|}^2}{N} ∗ dx $.                                         \n",
    "Note that parseval theorem integrates $f^2(x)$ using the fourier transform of $f(x)$. So you are given $f^2(x)$ in the question to integrate.                                                                           \n",
    "You need to find $f(x)$ so that you can take fourier transform of it and use parseval theorem to find the integration of $f^2(x)$."
   ]
  },
  {
   "cell_type": "code",
   "execution_count": 4,
   "id": "c1dacb98",
   "metadata": {},
   "outputs": [
    {
     "name": "stdout",
     "output_type": "stream",
     "text": [
      "Integral = 1.65\n"
     ]
    }
   ],
   "source": [
    "L     = 4 * np.pi                             # Range of integration\n",
    "N     = 256                                   # Number of grid points\n",
    "dx    = 2 * L / N                             # Grid size, adjusted for the entire range [-L, L]\n",
    "x     = np.linspace(-L, L, N, endpoint=False) # Create the grid points\n",
    "f_x   = np.exp(-x ** 6)                       # Define the function f(x) = e^{-x^6} so that f^2(x) = e^{-2x^6}\n",
    "f_hat = np.fft.fft(f_x)                       # Compute the Discrete Fourier Transform of f(x)\n",
    "I     = np.sum(np.abs(f_hat) ** 2) / N * dx   # Apply Parseval's Theorem to compute the integral\n",
    "print(f\"Integral = {I:.2f}\")"
   ]
  }
 ],
 "metadata": {
  "kernelspec": {
   "display_name": "Python 3 (ipykernel)",
   "language": "python",
   "name": "python3"
  },
  "language_info": {
   "codemirror_mode": {
    "name": "ipython",
    "version": 3
   },
   "file_extension": ".py",
   "mimetype": "text/x-python",
   "name": "python",
   "nbconvert_exporter": "python",
   "pygments_lexer": "ipython3",
   "version": "3.10.9"
  }
 },
 "nbformat": 4,
 "nbformat_minor": 5
}
