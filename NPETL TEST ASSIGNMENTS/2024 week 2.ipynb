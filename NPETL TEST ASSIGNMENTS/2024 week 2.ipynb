{
 "cells": [
  {
   "cell_type": "markdown",
   "id": "352f763f",
   "metadata": {},
   "source": [
    "2. What is the output of the following python code?                                                                                                               \n",
    "`if (3+6%2 != 7):`                                                                                                               \n",
    "`    print(\"H\")    `                                                                                                               \n",
    "`else:           `                                                                                                                                                                                                                              \n",
    "`    print(\"B\")    `                                                                                                              "
   ]
  },
  {
   "cell_type": "code",
   "execution_count": 1,
   "id": "71042072",
   "metadata": {},
   "outputs": [
    {
     "name": "stdout",
     "output_type": "stream",
     "text": [
      "H\n"
     ]
    }
   ],
   "source": [
    "if (3+6%2 != 7):       \n",
    "    print(\"H\")\n",
    "else:\n",
    "    print(\"B\")"
   ]
  },
  {
   "cell_type": "markdown",
   "id": "f30628c9",
   "metadata": {},
   "source": [
    "3. What is the output of the following python code?                                                                                                      \n",
    "`def cal(m,n):  `                                                                                                               \n",
    "`   if m == n:    `                                                                                                                 \n",
    "`     return m*3  `                                                                                                              \n",
    "`   else:         `                                                                                                                \n",
    "`     return m*2  `                                                                                                        \n",
    "`               `                                                                                                              \n",
    "`s = cal(9,8)   `                                                                                                                 \n",
    "`print(s)       `"
   ]
  },
  {
   "cell_type": "code",
   "execution_count": 2,
   "id": "a74f855a",
   "metadata": {},
   "outputs": [
    {
     "name": "stdout",
     "output_type": "stream",
     "text": [
      "18\n"
     ]
    }
   ],
   "source": [
    "def cal(m,n):      \n",
    "    if m == n:\n",
    "        return m*3\n",
    "    else:\n",
    "        return m*2\n",
    "\n",
    "s = cal(9,8)\n",
    "print(s)"
   ]
  },
  {
   "cell_type": "markdown",
   "id": "4949c58b",
   "metadata": {},
   "source": [
    "5. What is the ouptut of the following python code?                                                                                                       \n",
    "`import numpy as np    `                                                                                                       \n",
    "`                      `                                                                                                       \n",
    "`def mult(a,b) :       `                                                                                                       \n",
    "`   a *= b               `                                                                                                       \n",
    "`   return a             `                                                                                                       \n",
    "`                      `                                                                                                       \n",
    "`x = np.array([4,8])   `                                                                                                                                                                                                              \n",
    "`print(mult(x,4))      `"
   ]
  },
  {
   "cell_type": "code",
   "execution_count": 3,
   "id": "42ca30ec",
   "metadata": {},
   "outputs": [
    {
     "name": "stdout",
     "output_type": "stream",
     "text": [
      "[16 32]\n"
     ]
    }
   ],
   "source": [
    "import numpy as np   \n",
    "\n",
    "def mult(a,b):\n",
    "    a *= b\n",
    "    return a\n",
    "\n",
    "x = np.array([4,8])\n",
    "print(mult(x,4))"
   ]
  },
  {
   "cell_type": "markdown",
   "id": "e14c1103",
   "metadata": {},
   "source": [
    "7. What is the output of the following python code?                                                                            \n",
    "`if (1 > int(True)) :    `                                                                                                              \n",
    "`   print('true ')         `                                                                                                           \n",
    "`else :                  `                                                                                                         \n",
    "`   print('false')         `                                                                           "
   ]
  },
  {
   "cell_type": "code",
   "execution_count": 4,
   "id": "03febb19",
   "metadata": {},
   "outputs": [
    {
     "name": "stdout",
     "output_type": "stream",
     "text": [
      "false\n"
     ]
    }
   ],
   "source": [
    "if (1 > int(True)):   \n",
    "    print('true')\n",
    "else:\n",
    "    print('false')"
   ]
  },
  {
   "cell_type": "markdown",
   "id": "95ba00e5",
   "metadata": {},
   "source": [
    "9. What is the output for the following python code?                                                                                   \n",
    "`def cal(m,n):        `                                                                                                                      \n",
    "`     if m > n:         `                                                                                                                                \n",
    "`        return m+n     `                                                                                                                     \n",
    "`     else:             `                                                                                                                \n",
    "`        return m*n     `                                                                                                                     \n",
    "`                     `                                                                                                           \n",
    "`s = cal(9,8)         `                                                                                                                   \n",
    "`print(s)             `"
   ]
  },
  {
   "cell_type": "code",
   "execution_count": 5,
   "id": "ede06129",
   "metadata": {},
   "outputs": [
    {
     "name": "stdout",
     "output_type": "stream",
     "text": [
      "17\n"
     ]
    }
   ],
   "source": [
    "def cal(m,n):         \n",
    "    if m > n: \n",
    "        return m+n \n",
    "    else: \n",
    "        return m*n \n",
    "\n",
    "s = cal(9,8)\n",
    "print(s)"
   ]
  }
 ],
 "metadata": {
  "kernelspec": {
   "display_name": "Python 3 (ipykernel)",
   "language": "python",
   "name": "python3"
  },
  "language_info": {
   "codemirror_mode": {
    "name": "ipython",
    "version": 3
   },
   "file_extension": ".py",
   "mimetype": "text/x-python",
   "name": "python",
   "nbconvert_exporter": "python",
   "pygments_lexer": "ipython3",
   "version": "3.10.9"
  }
 },
 "nbformat": 4,
 "nbformat_minor": 5
}
