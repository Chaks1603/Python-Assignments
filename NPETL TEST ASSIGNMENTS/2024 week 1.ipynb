{
 "cells": [
  {
   "cell_type": "markdown",
   "id": "940fb1b5",
   "metadata": {},
   "source": [
    "1. What is the memory requirement for three dimensional integer array whose size is following:\n",
    "$10^3\\times 10^3\\times 10^3 = 3.72 \\text{ GB}$"
   ]
  },
  {
   "cell_type": "markdown",
   "id": "f2fd3d55",
   "metadata": {},
   "source": [
    "2. Choose the correct answer for the following python statement:                                                                                                               \n",
    "`x = 5//3  `                                                                                                               \n",
    "`y = 5%3   `                                                                                                               \n",
    "`z = x + y `                                                                                                               \n",
    "`print(z)  `                                                                                                               "
   ]
  },
  {
   "cell_type": "code",
   "execution_count": 1,
   "id": "f16acdd6",
   "metadata": {},
   "outputs": [
    {
     "name": "stdout",
     "output_type": "stream",
     "text": [
      "3\n"
     ]
    }
   ],
   "source": [
    "x = 5//3     \n",
    "y = 5%3\n",
    "z = x + y\n",
    "print(z)"
   ]
  },
  {
   "cell_type": "markdown",
   "id": "fc226117",
   "metadata": {},
   "source": [
    "3. What is the output of the following python code?                                                                                                               \n",
    "`x = 5*'S'`                                                                                                                 \n",
    "`print(x) `"
   ]
  },
  {
   "cell_type": "code",
   "execution_count": 2,
   "id": "2208556f",
   "metadata": {},
   "outputs": [
    {
     "name": "stdout",
     "output_type": "stream",
     "text": [
      "SSSSS\n"
     ]
    }
   ],
   "source": [
    "x = 5*'S'   \n",
    "print(x)"
   ]
  },
  {
   "cell_type": "markdown",
   "id": "b7cf6299",
   "metadata": {},
   "source": [
    "4. What the correct data type for the variables x and y in the following python code?                                                                                                               \n",
    "`x = 1      `                                                                                                                \n",
    "`y = x + 1.2`"
   ]
  },
  {
   "cell_type": "code",
   "execution_count": 3,
   "id": "4f9854f4",
   "metadata": {},
   "outputs": [
    {
     "name": "stdout",
     "output_type": "stream",
     "text": [
      "<class 'int'> <class 'float'>\n"
     ]
    }
   ],
   "source": [
    "x = 1       \n",
    "y = x + 1.2\n",
    "\n",
    "print(type(x),type(y))"
   ]
  },
  {
   "cell_type": "markdown",
   "id": "003359d5",
   "metadata": {},
   "source": [
    "5. What is the output of the following python code?                                                                                                               \n",
    "`x = [100,15,9,5,4,3,1]`                                                                                                               \n",
    "`s = slice(1,4)        `                                                                                                               \n",
    "`print(x[s])           `"
   ]
  },
  {
   "cell_type": "code",
   "execution_count": 4,
   "id": "b67b7bf4",
   "metadata": {},
   "outputs": [
    {
     "name": "stdout",
     "output_type": "stream",
     "text": [
      "[15, 9, 5]\n"
     ]
    }
   ],
   "source": [
    "x = [100,15,9,5,4,3,1]    \n",
    "s = slice(1,4)\n",
    "print(x[s])"
   ]
  },
  {
   "cell_type": "markdown",
   "id": "eb6674eb",
   "metadata": {},
   "source": [
    "6. What is the output of the following python code?                                                                                                               \n",
    "`import numpy as np          `                                                                                                               \n",
    "`                            `                                                                                                               \n",
    "`x = np.array([[1,2],[6,7]]) `                                                                                                               \n",
    "`print(x[-1,-1])             `"
   ]
  },
  {
   "cell_type": "code",
   "execution_count": 5,
   "id": "8409ff02",
   "metadata": {},
   "outputs": [
    {
     "name": "stdout",
     "output_type": "stream",
     "text": [
      "7\n"
     ]
    }
   ],
   "source": [
    "import numpy as np  \n",
    "\n",
    "x = np.array([[1,2],[6,7]])\n",
    "print(x[-1,-1])"
   ]
  },
  {
   "cell_type": "markdown",
   "id": "7cbde417",
   "metadata": {},
   "source": [
    "7. What is  the output of the following python code?                                                                                                               \n",
    "`import numpy as np`                                                                                                               \n",
    "`                  `                                                                                                               \n",
    "`a = int('111',2)  `                                                                                                               \n",
    "`x = np.arange(a)  `                                                                                                               \n",
    "`print(x)          `"
   ]
  },
  {
   "cell_type": "code",
   "execution_count": 6,
   "id": "74822352",
   "metadata": {},
   "outputs": [
    {
     "name": "stdout",
     "output_type": "stream",
     "text": [
      "[0 1 2 3 4 5 6]\n"
     ]
    }
   ],
   "source": [
    "import numpy as np      \n",
    "\n",
    "a = int('111',2)\n",
    "x = np.arange(a)\n",
    "print(x)"
   ]
  },
  {
   "cell_type": "markdown",
   "id": "b67551ab",
   "metadata": {},
   "source": [
    "8. Choose the correct answer for the following python code:                                                                                                                \n",
    "`import numpy as np              `                                                                                                               \n",
    "`                                `                                                                                                               \n",
    "`x = np.array([[1,2,3],[4,5,6]]) `                                                                                                               \n",
    "`print(np.shape(x))              `"
   ]
  },
  {
   "cell_type": "code",
   "execution_count": 7,
   "id": "90048e97",
   "metadata": {},
   "outputs": [
    {
     "name": "stdout",
     "output_type": "stream",
     "text": [
      "(2, 3)\n"
     ]
    }
   ],
   "source": [
    "import numpy as np    \n",
    "\n",
    "x = np.array([[1,2,3],[4,5,6]]) \n",
    "print(np.shape(x))"
   ]
  },
  {
   "cell_type": "markdown",
   "id": "b152e157",
   "metadata": {},
   "source": [
    "9. What is the output of the following python code?                                                                                                               \n",
    "`x = [2,3,6]  `                                                                                                               \n",
    "`print(sum(x))`"
   ]
  },
  {
   "cell_type": "code",
   "execution_count": 8,
   "id": "a84032dc",
   "metadata": {},
   "outputs": [
    {
     "name": "stdout",
     "output_type": "stream",
     "text": [
      "11\n"
     ]
    }
   ],
   "source": [
    "x = [2,3,6]          \n",
    "print(sum(x))"
   ]
  },
  {
   "cell_type": "markdown",
   "id": "139187e6",
   "metadata": {},
   "source": [
    "10. Choose the correct answer for the following python code:                                                                                                               \n",
    "`import numpy as np       `                                                                                                               \n",
    "`                         `                                                                                                               \n",
    "`x = np.array([1,2,3])    `                                                                                                               \n",
    "`y = np.array([3,5])      `                                                                                                               \n",
    "`z = np.concatenate((x,y))`                                                                                                               \n",
    "`print(z)                 `"
   ]
  },
  {
   "cell_type": "code",
   "execution_count": 9,
   "id": "70e9ac06",
   "metadata": {},
   "outputs": [
    {
     "name": "stdout",
     "output_type": "stream",
     "text": [
      "[1 2 3 3 5]\n"
     ]
    }
   ],
   "source": [
    "import numpy as np    \n",
    "\n",
    "x = np.array([1,2,3])\n",
    "y = np.array([3,5])\n",
    "z = np.concatenate((x,y))\n",
    "print(z)"
   ]
  }
 ],
 "metadata": {
  "kernelspec": {
   "display_name": "Python 3 (ipykernel)",
   "language": "python",
   "name": "python3"
  },
  "language_info": {
   "codemirror_mode": {
    "name": "ipython",
    "version": 3
   },
   "file_extension": ".py",
   "mimetype": "text/x-python",
   "name": "python",
   "nbconvert_exporter": "python",
   "pygments_lexer": "ipython3",
   "version": "3.10.9"
  }
 },
 "nbformat": 4,
 "nbformat_minor": 5
}
