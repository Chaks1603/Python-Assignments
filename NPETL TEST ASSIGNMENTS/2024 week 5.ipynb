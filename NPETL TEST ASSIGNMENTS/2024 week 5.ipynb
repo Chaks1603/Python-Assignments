{
 "cells": [
  {
   "cell_type": "code",
   "execution_count": 1,
   "id": "a7baf006",
   "metadata": {},
   "outputs": [],
   "source": [
    "import numpy as np\n",
    "import scipy as sc\n",
    "import pandas as pd"
   ]
  },
  {
   "cell_type": "markdown",
   "id": "22d6e4ce",
   "metadata": {},
   "source": [
    "Write a program to calculate the approximate value of the integral $\\int^b_a(x^3+x) \\ dx$ using Trapezoidal rule.               \n",
    "The numerical integration has to be performed over N points, where N = 100, a = 0, and b = 2.                                     \n",
    "What will be the value of integral?                                                                                              \n",
    " Round the answer to two decimal places using the Python function round() as below: ans = round(ans, 2)                              \n",
    "Note: Don't use any in-built function for integration problem."
   ]
  },
  {
   "cell_type": "code",
   "execution_count": 2,
   "id": "c4ac104f",
   "metadata": {},
   "outputs": [
    {
     "data": {
      "text/plain": [
       "6.0"
      ]
     },
     "execution_count": 2,
     "metadata": {},
     "output_type": "execute_result"
    }
   ],
   "source": [
    "def trapz(f,a,b,N=50):\n",
    "    x = np.linspace(a,b,N+1) \n",
    "    y = f(x)\n",
    "    y_right = y[1:] \n",
    "    y_left = y[:-1] \n",
    "    dx = (b - a)/N\n",
    "    T = (dx/2) * np.sum(y_right + y_left)\n",
    "    return T\n",
    "\n",
    "def f(x):\n",
    "    return x**3 + x\n",
    "\n",
    "round(trapz(f, a=0, b=2, N=100), 2)"
   ]
  },
  {
   "cell_type": "markdown",
   "id": "6b86fb74",
   "metadata": {},
   "source": [
    "Write a python program to calculate the value of the integral $\\int^{\\pi/4}_0 (\\cos(x^2)+\\sin(x^2)) \\ dx$ using Simpson’s 3/8 rule.                                                                                                                         \n",
    "Divide the integration interval into N equally spaced points where N = 1001 and print your answer rounded off up to two decimal places.                                                                                                                     \n",
    "Round the answer to two decimal places using the Python function round() as below: ans = round(ans, 2)                                 \n",
    "Note: Don’t use any in-built function for integration problem.                                                                      \n",
    "What is the value of the integral calculated?"
   ]
  },
  {
   "cell_type": "code",
   "execution_count": 3,
   "id": "9fd0cc85",
   "metadata": {},
   "outputs": [
    {
     "data": {
      "text/plain": [
       "0.91"
      ]
     },
     "execution_count": 3,
     "metadata": {},
     "output_type": "execute_result"
    }
   ],
   "source": [
    "def simpsons_3_8_rule(f, a, b, n):\n",
    "    if n % 3 != 0:\n",
    "        raise ValueError(\"Number of intervals must be a multiple of 3.\")\n",
    "    \n",
    "    h = (b - a) / n\n",
    "    integral = f(a) + f(b)\n",
    "    for i in range(1, n):\n",
    "        x = a + i * h\n",
    "        if i % 3 == 0:\n",
    "            integral += 2 * f(x)\n",
    "        else:\n",
    "            integral += 3 * f(x)\n",
    "    \n",
    "    integral *= (3 * h) / 8\n",
    "    return integral\n",
    "\n",
    "def f(x):\n",
    "    return np.cos(x**2) + np.sin(x**2)\n",
    "\n",
    "round(simpsons_3_8_rule(f, a=0, b=np.pi/4, n=1001+1), 2)"
   ]
  },
  {
   "cell_type": "markdown",
   "id": "853149d7",
   "metadata": {},
   "source": [
    "Calculate the value of the integral  $\\int^1_{−1}x^8 \\ dx$  using 4 point gauss-legendre quadrature method.                          \n",
    "You can use the scipy module for this problem.                                                                                   \n",
    "Round your answer to 2 decimal places using the python function round().\n"
   ]
  },
  {
   "cell_type": "code",
   "execution_count": 4,
   "id": "7df80101",
   "metadata": {},
   "outputs": [
    {
     "data": {
      "text/html": [
       "<div>\n",
       "<style scoped>\n",
       "    .dataframe tbody tr th:only-of-type {\n",
       "        vertical-align: middle;\n",
       "    }\n",
       "\n",
       "    .dataframe tbody tr th {\n",
       "        vertical-align: top;\n",
       "    }\n",
       "\n",
       "    .dataframe thead th {\n",
       "        text-align: right;\n",
       "    }\n",
       "</style>\n",
       "<table border=\"1\" class=\"dataframe\">\n",
       "  <thead>\n",
       "    <tr style=\"text-align: right;\">\n",
       "      <th></th>\n",
       "      <th>weights $W_i$</th>\n",
       "      <th>Roots $X_i$</th>\n",
       "      <th>Functions $f(x_i)$</th>\n",
       "      <th>Products $w_if(x_i)$</th>\n",
       "    </tr>\n",
       "  </thead>\n",
       "  <tbody>\n",
       "    <tr>\n",
       "      <th>0</th>\n",
       "      <td>0.347855</td>\n",
       "      <td>-0.861136</td>\n",
       "      <td>0.302395</td>\n",
       "      <td>0.105190</td>\n",
       "    </tr>\n",
       "    <tr>\n",
       "      <th>1</th>\n",
       "      <td>0.652145</td>\n",
       "      <td>-0.339981</td>\n",
       "      <td>0.000178</td>\n",
       "      <td>0.000116</td>\n",
       "    </tr>\n",
       "    <tr>\n",
       "      <th>2</th>\n",
       "      <td>0.652145</td>\n",
       "      <td>0.339981</td>\n",
       "      <td>0.000178</td>\n",
       "      <td>0.000116</td>\n",
       "    </tr>\n",
       "    <tr>\n",
       "      <th>3</th>\n",
       "      <td>0.347855</td>\n",
       "      <td>0.861136</td>\n",
       "      <td>0.302395</td>\n",
       "      <td>0.105190</td>\n",
       "    </tr>\n",
       "  </tbody>\n",
       "</table>\n",
       "</div>"
      ],
      "text/plain": [
       "   weights $W_i$  Roots $X_i$  Functions $f(x_i)$  Products $w_if(x_i)$\n",
       "0       0.347855    -0.861136            0.302395              0.105190\n",
       "1       0.652145    -0.339981            0.000178              0.000116\n",
       "2       0.652145     0.339981            0.000178              0.000116\n",
       "3       0.347855     0.861136            0.302395              0.105190"
      ]
     },
     "metadata": {},
     "output_type": "display_data"
    },
    {
     "name": "stdout",
     "output_type": "stream",
     "text": [
      "Approximate integral value: 0.21\n"
     ]
    }
   ],
   "source": [
    "def gauss_legendre_integrate(f, a, b, N):\n",
    "    x, w = sc.special.roots_legendre(N)\n",
    "    d = (b - a)/2\n",
    "    s = (b + a)/2\n",
    "    display(pd.DataFrame({'weights $W_i$':w,\n",
    "                          'Roots $X_i$':x,\n",
    "                          'Functions $f(x_i)$':f(d*x + s),\n",
    "                          'Products $w_if(x_i)$':d*w*f(d*x + s)}))    \n",
    "    return np.sum(d*w*f(d*x + s))\n",
    "\n",
    "f = lambda x : (x**8)\n",
    "\n",
    "I = gauss_legendre_integrate(f,a=-1,b=1,N=4)\n",
    "print(\"Approximate integral value:\", round(I,2))"
   ]
  },
  {
   "cell_type": "markdown",
   "id": "3edf4a93",
   "metadata": {},
   "source": [
    "Write a python program to calculate the approximate value of the integral $\\int^1_{−1} (1+ax^2) \\ dx$ using two point Gauss-quadrature rule.                                                                                                                            \n",
    "What will be the value of integral for a = 6?                 \n",
    "\n",
    "Note: Don’t use any in-built function for integration problem.                 \n",
    "\n",
    "Note: For the two point rule, the weight factors and nodes/roots are given below,                  \n",
    "\n",
    "|Weight factor (w)  | Nodes/Roots (x)|\n",
    "|---|---|\n",
    "|1 | $−\\frac{1}{\\sqrt{3}}$|\n",
    "|1 | $\\frac{1}{\\sqrt{3}}$|\n",
    "\n",
    "Round the answer to 2 decimal places using the python function round()\n"
   ]
  },
  {
   "cell_type": "code",
   "execution_count": 5,
   "id": "6fdbc4ef",
   "metadata": {},
   "outputs": [
    {
     "data": {
      "text/html": [
       "<div>\n",
       "<style scoped>\n",
       "    .dataframe tbody tr th:only-of-type {\n",
       "        vertical-align: middle;\n",
       "    }\n",
       "\n",
       "    .dataframe tbody tr th {\n",
       "        vertical-align: top;\n",
       "    }\n",
       "\n",
       "    .dataframe thead th {\n",
       "        text-align: right;\n",
       "    }\n",
       "</style>\n",
       "<table border=\"1\" class=\"dataframe\">\n",
       "  <thead>\n",
       "    <tr style=\"text-align: right;\">\n",
       "      <th></th>\n",
       "      <th>weights $W_i$</th>\n",
       "      <th>Roots $X_i$</th>\n",
       "      <th>Functions $f(x_i)$</th>\n",
       "      <th>Products $w_if(x_i)$</th>\n",
       "    </tr>\n",
       "  </thead>\n",
       "  <tbody>\n",
       "    <tr>\n",
       "      <th>0</th>\n",
       "      <td>1.0</td>\n",
       "      <td>-0.57735</td>\n",
       "      <td>3.0</td>\n",
       "      <td>3.0</td>\n",
       "    </tr>\n",
       "    <tr>\n",
       "      <th>1</th>\n",
       "      <td>1.0</td>\n",
       "      <td>0.57735</td>\n",
       "      <td>3.0</td>\n",
       "      <td>3.0</td>\n",
       "    </tr>\n",
       "  </tbody>\n",
       "</table>\n",
       "</div>"
      ],
      "text/plain": [
       "   weights $W_i$  Roots $X_i$  Functions $f(x_i)$  Products $w_if(x_i)$\n",
       "0            1.0     -0.57735                 3.0                   3.0\n",
       "1            1.0      0.57735                 3.0                   3.0"
      ]
     },
     "metadata": {},
     "output_type": "display_data"
    },
    {
     "name": "stdout",
     "output_type": "stream",
     "text": [
      "Approximate integral value : 6.0\n"
     ]
    }
   ],
   "source": [
    "def gauss(f,a,b,N):\n",
    "    V = sc.special.roots_legendre(N)\n",
    "    t = V[0]\n",
    "    w = V[1]\n",
    "    x = ((b-a)/2)*t + (b+a)/2\n",
    "    k = ((b-a)/2)*f(x)\n",
    "    G = np.sum(w*k)\n",
    "    display(pd.DataFrame({'weights $W_i$':w,\n",
    "                          'Roots $X_i$':x,\n",
    "                          'Functions $f(x_i)$': f(x),\n",
    "                          'Products $w_if(x_i)$': w*k}))\n",
    "    \n",
    "    return G\n",
    "\n",
    "def f(x,a=6):\n",
    "    return 1 + a * x**2\n",
    "\n",
    "print(\"Approximate integral value :\", round(gauss(f,a=-1,b=1,N=2),2))"
   ]
  },
  {
   "cell_type": "markdown",
   "id": "118239f0",
   "metadata": {},
   "source": [
    "Write a python program to calculate the approximate value of the integral $\\int^{\\infty}_{−\\infty}\\exp(−x^2)(ax^2+3) \\ dx$  using three point Hermite-Gauss quadrature rule.                                                                                    \n",
    "What will be the value of the above integral for a = 4?                                                                       \n",
    "Note: Don’t use any in-built function for integration problem.                                                                    \n",
    "Note: For the three point rule, the weight factors and nodes/roots are given below,                                                  \n",
    "|Weight factor (w)  | Nodes/Roots (x)|\n",
    "|---|---|\n",
    "|1.18164   |           0|\n",
    "|0.295409  |     −1.22474|\n",
    "|0.295409  |      1.22474|\n",
    "\n",
    "Round the answer to two decimal places using the python function round()\n",
    "as below: ans = round(ans,2)"
   ]
  },
  {
   "cell_type": "code",
   "execution_count": 6,
   "id": "a9019461",
   "metadata": {},
   "outputs": [
    {
     "data": {
      "text/html": [
       "<div>\n",
       "<style scoped>\n",
       "    .dataframe tbody tr th:only-of-type {\n",
       "        vertical-align: middle;\n",
       "    }\n",
       "\n",
       "    .dataframe tbody tr th {\n",
       "        vertical-align: top;\n",
       "    }\n",
       "\n",
       "    .dataframe thead th {\n",
       "        text-align: right;\n",
       "    }\n",
       "</style>\n",
       "<table border=\"1\" class=\"dataframe\">\n",
       "  <thead>\n",
       "    <tr style=\"text-align: right;\">\n",
       "      <th></th>\n",
       "      <th>weights $W_i$</th>\n",
       "      <th>Roots $X_i$</th>\n",
       "      <th>Functions $ f(x_i)$</th>\n",
       "      <th>Products $ w_if(x_i)$</th>\n",
       "    </tr>\n",
       "  </thead>\n",
       "  <tbody>\n",
       "    <tr>\n",
       "      <th>0</th>\n",
       "      <td>0.295409</td>\n",
       "      <td>-1.224745</td>\n",
       "      <td>9.0</td>\n",
       "      <td>2.658681</td>\n",
       "    </tr>\n",
       "    <tr>\n",
       "      <th>1</th>\n",
       "      <td>1.181636</td>\n",
       "      <td>0.000000</td>\n",
       "      <td>3.0</td>\n",
       "      <td>3.544908</td>\n",
       "    </tr>\n",
       "    <tr>\n",
       "      <th>2</th>\n",
       "      <td>0.295409</td>\n",
       "      <td>1.224745</td>\n",
       "      <td>9.0</td>\n",
       "      <td>2.658681</td>\n",
       "    </tr>\n",
       "  </tbody>\n",
       "</table>\n",
       "</div>"
      ],
      "text/plain": [
       "   weights $W_i$  Roots $X_i$  Functions $ f(x_i)$  Products $ w_if(x_i)$\n",
       "0       0.295409    -1.224745                  9.0               2.658681\n",
       "1       1.181636     0.000000                  3.0               3.544908\n",
       "2       0.295409     1.224745                  9.0               2.658681"
      ]
     },
     "metadata": {},
     "output_type": "display_data"
    },
    {
     "name": "stdout",
     "output_type": "stream",
     "text": [
      "Approximate integral value : 8.86\n"
     ]
    }
   ],
   "source": [
    "def gauss_hermite_quadrature(f, const, N):\n",
    "    a = const\n",
    "    roots, weights = sc.special.roots_hermite(N)\n",
    "    \n",
    "    integral_approx = np.sum(weights * f(roots, a))\n",
    "    display(pd.DataFrame({'weights $W_i$':weights,\n",
    "                          'Roots $X_i$':roots,\n",
    "                           r'Functions $ f(x_i)$':f(roots, a),\n",
    "                           r'Products $ w_if(x_i)$':weights * f(roots, a)}))\n",
    "    \n",
    "    return integral_approx\n",
    "\n",
    "def f(x, a):\n",
    "    return  (a*x**2 + 3)\n",
    "\n",
    "print(\"Approximate integral value :\", round(gauss_hermite_quadrature(f, 4, N=3)  , 2))"
   ]
  },
  {
   "cell_type": "markdown",
   "id": "ff436dc8",
   "metadata": {},
   "source": [
    "Write a python program to calculate the approximate value of the integral $\\int^b_a \\exp(cx)(\\cos x+\\sin x) \\ dx$  using five point Legendre-Gauss-quadrature rule.                                                                                            \n",
    "Taking a = 1, b = 2 and c = -2, what will be the output?                                                                           \n",
    "Note: You should not use ”scipy.integrate” package in your code.                                                            \n",
    "Note: For the five points Legendre-Gauss-quadrature rule, the weight factors and nodes/roots are given below,                     \n",
    "|Weight factor (w)\t|  Nodes/Roots (x) |\n",
    "|---|---|\n",
    "|0.23693\t\t\t|  −0.90618 |\n",
    "|0.47863\t\t\t|  −0.53847|\n",
    "|0.56889\t\t\t|  0.00000|\n",
    "|0.47863\t\t\t|  0.53847|\n",
    "|0.23693\t\t\t|  0.90618|\n",
    "\n",
    "Round the answer to 2 decimal places using the python function round() as below: ans: round(ans,2)"
   ]
  },
  {
   "cell_type": "code",
   "execution_count": 7,
   "id": "475fdab4",
   "metadata": {},
   "outputs": [
    {
     "data": {
      "text/html": [
       "<div>\n",
       "<style scoped>\n",
       "    .dataframe tbody tr th:only-of-type {\n",
       "        vertical-align: middle;\n",
       "    }\n",
       "\n",
       "    .dataframe tbody tr th {\n",
       "        vertical-align: top;\n",
       "    }\n",
       "\n",
       "    .dataframe thead th {\n",
       "        text-align: right;\n",
       "    }\n",
       "</style>\n",
       "<table border=\"1\" class=\"dataframe\">\n",
       "  <thead>\n",
       "    <tr style=\"text-align: right;\">\n",
       "      <th></th>\n",
       "      <th>weights $W_i$</th>\n",
       "      <th>Roots $X_i$</th>\n",
       "      <th>Functions $f(x_i)$</th>\n",
       "      <th>Products $w_if(x_i)$</th>\n",
       "    </tr>\n",
       "  </thead>\n",
       "  <tbody>\n",
       "    <tr>\n",
       "      <th>0</th>\n",
       "      <td>0.236927</td>\n",
       "      <td>-0.906180</td>\n",
       "      <td>0.168329</td>\n",
       "      <td>0.019941</td>\n",
       "    </tr>\n",
       "    <tr>\n",
       "      <th>1</th>\n",
       "      <td>0.478629</td>\n",
       "      <td>-0.538469</td>\n",
       "      <td>0.108870</td>\n",
       "      <td>0.026054</td>\n",
       "    </tr>\n",
       "    <tr>\n",
       "      <th>2</th>\n",
       "      <td>0.568889</td>\n",
       "      <td>0.000000</td>\n",
       "      <td>0.053184</td>\n",
       "      <td>0.015128</td>\n",
       "    </tr>\n",
       "    <tr>\n",
       "      <th>3</th>\n",
       "      <td>0.478629</td>\n",
       "      <td>0.538469</td>\n",
       "      <td>0.022759</td>\n",
       "      <td>0.005447</td>\n",
       "    </tr>\n",
       "    <tr>\n",
       "      <th>4</th>\n",
       "      <td>0.236927</td>\n",
       "      <td>0.906180</td>\n",
       "      <td>0.011160</td>\n",
       "      <td>0.001322</td>\n",
       "    </tr>\n",
       "  </tbody>\n",
       "</table>\n",
       "</div>"
      ],
      "text/plain": [
       "   weights $W_i$  Roots $X_i$  Functions $f(x_i)$  Products $w_if(x_i)$\n",
       "0       0.236927    -0.906180            0.168329              0.019941\n",
       "1       0.478629    -0.538469            0.108870              0.026054\n",
       "2       0.568889     0.000000            0.053184              0.015128\n",
       "3       0.478629     0.538469            0.022759              0.005447\n",
       "4       0.236927     0.906180            0.011160              0.001322"
      ]
     },
     "metadata": {},
     "output_type": "display_data"
    },
    {
     "name": "stdout",
     "output_type": "stream",
     "text": [
      "The approximate value of the integral is: 0.07\n"
     ]
    }
   ],
   "source": [
    "def gauss_legendre_integrate(f, a, b, N):\n",
    "    x, w = sc.special.roots_legendre(N)\n",
    "    d = (b - a)/2\n",
    "    s = (b + a)/2\n",
    "    display(pd.DataFrame({'weights $W_i$':w,\n",
    "                          'Roots $X_i$':x,\n",
    "                          'Functions $f(x_i)$':f(d*x + s),\n",
    "                          'Products $w_if(x_i)$':d*w*f(d*x + s)}))\n",
    "    \n",
    "    return np.sum(d*w*f(d*x + s))\n",
    "\n",
    "def f(x, c=-2):\n",
    "    return np.exp(c * x) * (np.cos(x) + np.sin(x))\n",
    "\n",
    "ans = round(gauss_legendre_integrate(f, a=1, b=2, N=5), 2)\n",
    "print(f\"The approximate value of the integral is: {ans}\")"
   ]
  }
 ],
 "metadata": {
  "kernelspec": {
   "display_name": "Python 3 (ipykernel)",
   "language": "python",
   "name": "python3"
  },
  "language_info": {
   "codemirror_mode": {
    "name": "ipython",
    "version": 3
   },
   "file_extension": ".py",
   "mimetype": "text/x-python",
   "name": "python",
   "nbconvert_exporter": "python",
   "pygments_lexer": "ipython3",
   "version": "3.10.9"
  }
 },
 "nbformat": 4,
 "nbformat_minor": 5
}
