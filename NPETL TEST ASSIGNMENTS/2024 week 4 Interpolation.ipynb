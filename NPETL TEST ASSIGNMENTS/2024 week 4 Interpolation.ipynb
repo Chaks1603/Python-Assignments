{
 "cells": [
  {
   "cell_type": "code",
   "execution_count": 1,
   "id": "c0b808ec",
   "metadata": {},
   "outputs": [],
   "source": [
    "from sympy import *\n",
    "x = symbols('x')"
   ]
  },
  {
   "cell_type": "markdown",
   "id": "44763aba",
   "metadata": {},
   "source": [
    "### Lagrange Interpolation Formula\n",
    "\n",
    "Given $n$ known data points $(x_0, y_0), (x_1, y_1), \\dots, (x_{n-1}, y_{n-1})$, the Lagrange interpolation formula is:\n",
    "\n",
    "$\\qquad\\qquad\\begin{align} f_n(x) = \\sum_{j=0}^{n-1} y_j L_j(x) \\end{align}$\n",
    "\n",
    "where each $L_j(x)$ is the **Lagrange basis polynomial** given by:\n",
    "\n",
    "$\\qquad\\qquad\\begin{align} L_j(x) = \\prod_{\\substack{i=0 \\\\ i \\neq j}}^{n-1} \\frac{x - x_i}{x_j - x_i} \\end{align}$\n",
    "\n",
    "Here:\n",
    "- $ f_n(x) $ is the interpolating polynomial of degree $ n-1 $.\n",
    "- $ y_j $ are the values of the function at the known points $ x_j $.\n",
    "- $ L_j(x) $ is the Lagrange basis polynomial for the $j$-th point, which is constructed in such a way that $ L_j(x_i) = 0 $ for all $ i \\neq j $ and $ L_j(x_j) = 1 $."
   ]
  },
  {
   "cell_type": "markdown",
   "id": "093bfc2b",
   "metadata": {},
   "source": [
    "What is the degree of polynomial for $n$ data point in lagrange interpolation?\n",
    "\n",
    "$\\qquad\\qquad n-1$\n",
    "\n",
    "\n",
    "What is the error formula for the lagrangian interpolation of function $f(x)$ with $n$  data points, where $\\zeta$ is the intermediate point?\n",
    "\n",
    "$E_n=f(x)−P_n(x)=\\frac{f_n(\\zeta)}{n!} \\Pi(x−x_i)$"
   ]
  },
  {
   "cell_type": "code",
   "execution_count": 2,
   "id": "acbbc46c",
   "metadata": {},
   "outputs": [],
   "source": [
    "def lagrange_interpolation(data_points, x):\n",
    "    n = len(data_points)\n",
    "    interpolation_poly = 0\n",
    "    for i in range(n):\n",
    "        xi, yi = data_points[i]\n",
    "        term = yi\n",
    "        for j in range(n):\n",
    "            if i != j:\n",
    "                xj = data_points[j][0]\n",
    "                term *= (x - xj) / (xi - xj)\n",
    "        interpolation_poly += term\n",
    "    return interpolation_poly"
   ]
  },
  {
   "cell_type": "markdown",
   "id": "20519905",
   "metadata": {},
   "source": [
    "Find $f(7)$ by using Lagrange’s interpolation formula given the following data : $f(1) = 4, f(3) = 6, f(5) = 12$\n",
    "\n",
    "|x|y|\n",
    "|---|---|\n",
    "|1|4|\n",
    "|3|6|\n",
    "|5|12|\n",
    "\n",
    "$f(x) = y_0 \\cdot \\frac{(x - x_1)(x - x_2)}{(x_0 - x_1)(x_0 - x_2)} + y_1 \\cdot \\frac{(x - x_0)(x - x_2)}{(x_1 - x_0)(x_1 - x_2)} + y_2 \\cdot \\frac{(x - x_0)(x - x_1)}{(x_2 - x_0)(x_2 - x_1)}= 4 \\cdot \\frac{(x - 3)(x - 5)}{(1 - 3)(1 - 5)} + 6 \\cdot \\frac{(x - 1)(x - 5)}{(3 - 1)(3 - 5)} + 12 \\cdot \\frac{(x - 1)(x - 3)}{(5 - 1)(5 - 3)}$\n",
    "\n",
    "$f(7) =4 \\cdot \\frac{(7 - 3)(7 - 5)}{(1 - 3)(1 - 5)} + 6 \\cdot \\frac{(7 - 1)(7 - 5)}{(3 - 1)(3 - 5)} + 12 \\cdot \\frac{(7 - 1)(7 - 3)}{(5 - 1)(5 - 3)}= 4-18+36=22$"
   ]
  },
  {
   "cell_type": "code",
   "execution_count": 3,
   "id": "17258ac5",
   "metadata": {},
   "outputs": [
    {
     "data": {
      "text/latex": [
       "$\\displaystyle 22$"
      ],
      "text/plain": [
       "22"
      ]
     },
     "execution_count": 3,
     "metadata": {},
     "output_type": "execute_result"
    }
   ],
   "source": [
    "data_points = [(1, 4), (3, 6), (5, 12)]\n",
    "polynomial = lagrange_interpolation(data_points, x)\n",
    "f_7 = polynomial.subs(x, 7)   # Evaluate the polynomial at x = 7\n",
    "simplify(f_7)"
   ]
  },
  {
   "cell_type": "markdown",
   "id": "65fc369e",
   "metadata": {},
   "source": [
    "The lagrange polynomial that passes through the 3 data points is given by $f(15)=24, f(18)=37$, and $f(22)=25$.  \n",
    "$f_2(x)=L_0(x)(24)+L_1(x)(37)+L_2(x)(25)$. What is the value of $L_1(x)$ at $x = 16?$\n",
    "\n",
    "\n",
    "| x | y |\n",
    "|---|---|\n",
    "|15|24|\n",
    "|18|37|\n",
    "|22|25|\n",
    "\n",
    "$f_2(x) = y_0 \\cdot \\frac{(x - x_1)(x - x_2)}{(x_0 - x_1)(x_0 - x_2)} + y_1 \\cdot \\frac{(x - x_0)(x - x_2)}{(x_1 - x_0)(x_1 - x_2)} + y_2 \\cdot \\frac{(x - x_0)(x - x_1)}{(x_2 - x_0)(x_2 - x_1)}=L_0(x)y_0+L_1(x)y_1+L_2(x)y_2$\n",
    "\n",
    "$ L_1(x) = \\frac{(x - x_0)(x - x_2)}{(x_1 - x_0)(x_1 - x_2)} = \\frac{(x - 15)(x - 22)}{(18 - 15)(18 - 22)} = \\frac{(x^2-37x+330)}{-12} $\n",
    "\n",
    "$L_1(16) = \\frac{16^2-37*16+330}{-12} = \\frac{-6}{-12} = \\frac{1}{2}$"
   ]
  },
  {
   "cell_type": "code",
   "execution_count": 4,
   "id": "00706f71",
   "metadata": {},
   "outputs": [
    {
     "data": {
      "text/plain": [
       "0.5"
      ]
     },
     "execution_count": 4,
     "metadata": {},
     "output_type": "execute_result"
    }
   ],
   "source": [
    "x0, x1, x2 = 15, 18, 22\n",
    "x_val = 16                                                \n",
    "L1_x = ((x_val - x0) * (x_val - x2)) / ((x1 - x0) * (x1 - x2))\n",
    "L1_x"
   ]
  },
  {
   "cell_type": "markdown",
   "id": "35fe21b9",
   "metadata": {},
   "source": [
    "Find $f(3)$ by using Lagrange interpolation formula $f(0)=2 ,f(1)=3, f(2)=12, f(5)=147$\n",
    "\n",
    "|x| y|\n",
    "|---|---|\n",
    "|0|2|\n",
    "|1|3|\n",
    "|2|12|\n",
    "|5|147|\n",
    "\n",
    "$\\small{\\begin{align} f(x) &= y_0 \\cdot \\frac{(x - x_1)(x - x_2)(x - x_3)}{(x_0 - x_1)(x_0 - x_2)(x_0 - x_3)} + y_1 \\cdot \\frac{(x - x_0)(x - x_2)(x - x_3)}{(x_1 - x_0)(x_1 - x_2)(x_1 - x_3)} + y_2 \\cdot \\frac{(x - x_0)(x - x_1)(x - x_3)}{(x_2 - x_0)(x_2 - x_1)(x_2 - x_3)}+ y_3 \\cdot \\frac{(x - x_0)(x - x_1)(x - x_2)}{(x_3 - x_0)(x_3 - x_1)(x_3 - x_2)} \\\\  &= y_0 \\cdot L_0(x) + y_1 \\cdot L_1(x) + y_2 \\cdot L_2(x) + y_3 \\cdot L_3(x) \\end{align}}$\n",
    "\n",
    "\n",
    "$ L_0(x) = \\frac{(x - 1)(x - 2)(x - 5)}{(0 - 1)(0 - 2)(0 - 5)} = \\frac{(x - 1)(x - 2)(x - 5)}{10} \\ => L_0(3) = \\frac{(3 - 1)(3 - 2)(3 - 5)}{10} = \\frac{(2)(1)(-2)}{10} = -0.4$\n",
    "\n",
    "$ L_1(x) = \\frac{(x - 0)(x - 2)(x - 5)}{(1 - 0)(1 - 2)(1 - 5)} = \\frac{(x)(x - 2)(x - 5)}{4} \\quad  => L_1(3) = \\frac{(3)(3 - 2)(3 - 5)}{4} = \\frac{(3)(1)(-2)}{4} = -1.5$\n",
    "\n",
    "$ L_2(x) = \\frac{(x - 0)(x - 1)(x - 5)}{(2 - 0)(2 - 1)(2 - 5)} = \\frac{(x)(x - 1)(x - 5)}{-6}  \\quad  => L_2(3) = \\frac{(3)(3 - 1)(3 - 5)}{-6} = \\frac{(3)(2)(-2)}{-6} = 2 $\n",
    "\n",
    "$ L_3(x) = \\frac{(x - 0)(x - 1)(x - 2)}{(5 - 0)(5 - 1)(5 - 2)} = \\frac{(x)(x - 1)(x - 2)}{60}  \\quad  => L_3(3) = \\frac{(3)(3 - 1)(3 - 2)}{60} = \\frac{(3)(2)(1)}{60} = 0.1 $\n",
    "\n",
    "$ \\begin{align} f(3) &= 2 \\cdot (-0.4) + 3 \\cdot (-1.5) + 12 \\cdot (2) + 147 \\cdot (0.1) = -0.8 + (-4.5) + 24 + 14.7 = 33.4 + 1.6 = 35 \\end{align} $\n",
    "\n"
   ]
  },
  {
   "cell_type": "code",
   "execution_count": 15,
   "id": "2af79d02",
   "metadata": {},
   "outputs": [
    {
     "data": {
      "text/latex": [
       "$\\displaystyle 35$"
      ],
      "text/plain": [
       "35"
      ]
     },
     "execution_count": 15,
     "metadata": {},
     "output_type": "execute_result"
    }
   ],
   "source": [
    "data_points = [(0, 2), (1, 3), (2, 12), (5, 147)]\n",
    "polynomial = lagrange_interpolation(data_points, x)\n",
    "f_3 = polynomial.subs(x, 3)# Evaluate the polynomial at x = 3\n",
    "simplify(f_3)"
   ]
  },
  {
   "cell_type": "markdown",
   "id": "106d4319",
   "metadata": {},
   "source": [
    "Find the  polynomial for the following data by using lagrange interpolation formula\n",
    " - $x = 0, f(x) = 5$\n",
    " - $x = 2, f(x) = 25$\n",
    " - $x = 5, f(x) = 100$\n",
    " \n",
    " |x|y|\n",
    " |---|---|\n",
    " |0|5|\n",
    " |2|25|\n",
    " |5|100|\n",
    " \n",
    " $ \\begin{align} f(x) &= y_0 \\cdot \\frac{(x - x_1)(x - x_2)}{(x_0 - x_1)(x_0 - x_2)} + y_1 \\cdot \\frac{(x - x_0)(x - x_2)}{(x_1 - x_0)(x_1 - x_2)} + y_2 \\cdot \\frac{(x - x_0)(x - x_1)}{(x_2 - x_0)(x_2 - x_1)} \\\\ &= 5 \\cdot \\frac{(x - 2)(x - 5)}{(0 - 2)(0 - 5)} + 25 \\cdot \\frac{(x - 0)(x - 5)}{(2 - 0)(2 - 5)} + 100 \\cdot \\frac{(x - 0)(x - 2)}{(5 - 0)(5 - 2)} \\\\ &= 5 \\cdot \\frac{(x^2 - 7x + 10)}{10} + 25 \\cdot \\frac{(x^2 - 5x)}{-6} + 100 \\cdot \\frac{(x^2 - 2x)}{15} \\\\ &= \\frac{15 \\cdot (x^2 - 7x + 10) - 125 \\cdot (x^2 - 5x)+ 200 \\cdot (x^2 - 2x)}{30} \\\\ &= \\frac{90x^2+120x+150}{30} \\\\ &=3x^2+4x+5 \\end{align}$"
   ]
  },
  {
   "cell_type": "code",
   "execution_count": 17,
   "id": "faa275c4",
   "metadata": {},
   "outputs": [
    {
     "data": {
      "text/latex": [
       "$\\displaystyle 3 x^{2} + 4 x + 5$"
      ],
      "text/plain": [
       "3*x**2 + 4*x + 5"
      ]
     },
     "execution_count": 17,
     "metadata": {},
     "output_type": "execute_result"
    }
   ],
   "source": [
    "data_points = [(0, 5), (2, 25), (5, 100)]\n",
    "polynomial = lagrange_interpolation(data_points, x)\n",
    "simplify(polynomial)"
   ]
  }
 ],
 "metadata": {
  "kernelspec": {
   "display_name": "Python 3 (ipykernel)",
   "language": "python",
   "name": "python3"
  },
  "language_info": {
   "codemirror_mode": {
    "name": "ipython",
    "version": 3
   },
   "file_extension": ".py",
   "mimetype": "text/x-python",
   "name": "python",
   "nbconvert_exporter": "python",
   "pygments_lexer": "ipython3",
   "version": "3.10.9"
  }
 },
 "nbformat": 4,
 "nbformat_minor": 5
}
