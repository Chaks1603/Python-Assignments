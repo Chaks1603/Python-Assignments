{
 "cells": [
  {
   "cell_type": "code",
   "execution_count": 62,
   "id": "6fe07b8a",
   "metadata": {},
   "outputs": [],
   "source": [
    "import matplotlib.pyplot as plt"
   ]
  },
  {
   "cell_type": "markdown",
   "id": "b9f65ea3",
   "metadata": {},
   "source": [
    "### $\\text{Logic NOT}$"
   ]
  },
  {
   "cell_type": "code",
   "execution_count": 63,
   "id": "4e054372",
   "metadata": {},
   "outputs": [],
   "source": [
    "def NOT(a):\n",
    "    if a==1: return 0\n",
    "    else : return 1"
   ]
  },
  {
   "cell_type": "markdown",
   "id": "db6fe966",
   "metadata": {},
   "source": [
    "### $\\text{Logic AND}$"
   ]
  },
  {
   "cell_type": "code",
   "execution_count": 64,
   "id": "777aced2",
   "metadata": {},
   "outputs": [],
   "source": [
    "def AND(a,b):\n",
    "    if (a==1)&(b==1): return 1\n",
    "    else : return 0"
   ]
  },
  {
   "cell_type": "markdown",
   "id": "1f80aebd",
   "metadata": {},
   "source": [
    "### $\\text{Logic OR}$"
   ]
  },
  {
   "cell_type": "code",
   "execution_count": 65,
   "id": "b220d25d",
   "metadata": {},
   "outputs": [],
   "source": [
    "def OR(a,b):\n",
    "    if (a==1)|(b==1): return 1\n",
    "    else : return 0"
   ]
  },
  {
   "cell_type": "markdown",
   "id": "fc02a81c",
   "metadata": {},
   "source": [
    "### $\\text{Logic NAND}$"
   ]
  },
  {
   "cell_type": "code",
   "execution_count": 66,
   "id": "df3681ed",
   "metadata": {},
   "outputs": [],
   "source": [
    "def NAND(a,b):\n",
    "    if (a==1)&(b==1): return 0\n",
    "    else : return 1"
   ]
  },
  {
   "cell_type": "markdown",
   "id": "dce210d9",
   "metadata": {},
   "source": [
    "### $\\text{Logic NOR}$"
   ]
  },
  {
   "cell_type": "code",
   "execution_count": 67,
   "id": "a33a9dba",
   "metadata": {},
   "outputs": [],
   "source": [
    "def NOR(a,b):\n",
    "    if (a==1)|(b==1): return 0\n",
    "    else : return 1"
   ]
  },
  {
   "cell_type": "markdown",
   "id": "1fdbb1d9",
   "metadata": {},
   "source": [
    "### $\\text{Logic Exclusive-OR}$"
   ]
  },
  {
   "cell_type": "code",
   "execution_count": 68,
   "id": "90fd2374",
   "metadata": {},
   "outputs": [],
   "source": [
    "def XOR(a,b):\n",
    "    if a==b: return 0\n",
    "    else : return 1"
   ]
  },
  {
   "cell_type": "markdown",
   "id": "7a8e1090",
   "metadata": {},
   "source": [
    "### $\\text{Logic Exclusive-NOR}$"
   ]
  },
  {
   "cell_type": "code",
   "execution_count": 69,
   "id": "bf5ee56f",
   "metadata": {},
   "outputs": [],
   "source": [
    "def XNOR(a,b):\n",
    "    if a==b: return 1\n",
    "    else : return 0"
   ]
  },
  {
   "cell_type": "markdown",
   "id": "877d2d07",
   "metadata": {},
   "source": [
    "$\\text{Inputs}$"
   ]
  },
  {
   "cell_type": "code",
   "execution_count": 70,
   "id": "3af0f45a",
   "metadata": {},
   "outputs": [],
   "source": [
    "A=[0,0,1,1]\n",
    "B=[0,1,0,1]\n",
    "\n",
    "X1=[0,0,0,0,1,1,1,1]\n",
    "Y1=[0,0,1,1,0,0,1,1]\n",
    "Z1=[0,1,0,1,0,1,0,1]\n",
    "\n",
    "\n",
    "P1=[0,0,0,0,0,0,0,0,1,1,1,1,1,1,1,1]\n",
    "Q1=[0,0,0,0,1,1,1,1,0,0,0,0,1,1,1,1]\n",
    "R1=[0,0,1,1,0,0,1,1,0,0,1,1,0,0,1,1]\n",
    "S1=[0,1,0,1,0,1,0,1,0,1,0,1,0,1,0,1]"
   ]
  },
  {
   "cell_type": "markdown",
   "id": "c0009357",
   "metadata": {},
   "source": [
    "#### Checking the analytic function output of Logic"
   ]
  },
  {
   "cell_type": "code",
   "execution_count": 71,
   "id": "18b2a7f5",
   "metadata": {},
   "outputs": [
    {
     "name": "stdout",
     "output_type": "stream",
     "text": [
      "Input |\t Output\n",
      " 𝑎 𝑏  | 𝑎̃  𝑏̃  𝑎⋅𝑏  𝑎+𝑏 𝑎↑𝑏  𝑎↓𝑏  𝑎⊕𝑏 𝑎⊙𝑏\n",
      " 0 0  | 1  1   0    0   1    1    0    1\n",
      " 0 1  | 1  0   0    1   1    0    1    0\n",
      " 1 0  | 0  1   0    1   1    0    1    0\n",
      " 1 1  | 0  0   1    1   0    0    0    1\n"
     ]
    }
   ],
   "source": [
    "print('Input','|\\t','Output')\n",
    "print(' 𝑎','𝑏',' |','𝑎̃ ','𝑏̃ ','𝑎⋅𝑏 ','𝑎+𝑏','𝑎↑𝑏 ','𝑎↓𝑏 ','𝑎⊕𝑏','𝑎⊙𝑏')\n",
    "for a,b in zip(A,B):\n",
    "    an=NOT(a)\n",
    "    bn=NOT(b)\n",
    "    A1=AND(a,b)\n",
    "    O=OR(a,b)\n",
    "    An=NAND(a,b)\n",
    "    On=NOR(a,b)\n",
    "    X=XOR(a,b)\n",
    "    Xn=XNOR(a,b)\n",
    "    print('',a,b,' |',an,'',bn,' ',A1,'  ',O,' ',An,'  ',On,'  ',X,'  ',Xn)"
   ]
  },
  {
   "cell_type": "markdown",
   "id": "617911a7",
   "metadata": {},
   "source": [
    "#### Checking the computed function with the analytic NAND Logic\n",
    "<img width=\"300\" align=\"left\" src=\"https://spinningnumbers.org/i/logic13.svg\">\n",
    "<img width=\"140\" align=\"left\" src=\"https://spinningnumbers.org/i/logic_tt_NAND.svg\">"
   ]
  },
  {
   "cell_type": "code",
   "execution_count": 72,
   "id": "4fcdb33a",
   "metadata": {},
   "outputs": [
    {
     "name": "stdout",
     "output_type": "stream",
     "text": [
      "Input |\t Output\n",
      " a b  |   a⋅b  a↑b_(cal)  a↑b_(anl)\n",
      " 0 0  |\t   0 \t 1 \t  1\n",
      " 0 1  |\t   0 \t 1 \t  1\n",
      " 1 0  |\t   0 \t 1 \t  1\n",
      " 1 1  |\t   1 \t 0 \t  0\n",
      "\n",
      "LHS==RHS\n"
     ]
    }
   ],
   "source": [
    "f=0\n",
    "print('Input','|\\t','Output')\n",
    "print(' a','b ','|','  a⋅b',' a↑b_(cal)',' a↑b_(anl)')\n",
    "for a,b in zip(A,B):\n",
    "    print('',a,b,' |\\t  ',AND(a,b),'\\t',NOT(AND(a,b)),'\\t ',NAND(a,b))\n",
    "    if NOT(AND(a,b))==NAND(a,b):        f+=1\n",
    "        \n",
    "if f==len(A):\n",
    "    print('\\nLHS==RHS')"
   ]
  },
  {
   "cell_type": "markdown",
   "id": "a9968ef4",
   "metadata": {},
   "source": [
    "#### Checking the computed function with the analytic NOR Logic\n",
    "<img width=\"300\" align=\"left\"  src=\"https://spinningnumbers.org/i/logic14.svg\"><img width=\"140\" align=\"left\" src=\"https://spinningnumbers.org/i/logic_tt_NOR.svg\">"
   ]
  },
  {
   "cell_type": "code",
   "execution_count": 73,
   "id": "2431fae0",
   "metadata": {},
   "outputs": [
    {
     "name": "stdout",
     "output_type": "stream",
     "text": [
      "Input |\t Output\n",
      " a  b | a+b a↓b_(cal) a↓b_(anl)\n",
      " 0  0 |  0 \t 1 \t 1\n",
      " 0  1 |  1 \t 0 \t 0\n",
      " 1  0 |  1 \t 0 \t 0\n",
      " 1  1 |  1 \t 0 \t 0\n",
      "\n",
      "LHS==RHS\n"
     ]
    }
   ],
   "source": [
    "f=0\n",
    "print('Input','|\\t','Output')\n",
    "print(' a',' b |','a+b','a↓b_(cal)','a↓b_(anl)')\n",
    "for a,b in zip(A,B):\n",
    "    print('',a,'',b,'| ',OR(a,b),'\\t',NOT(OR(a,b)),'\\t',NOR(a,b))\n",
    "    if NOT(OR(a,b))==NOR(a,b):        f+=1\n",
    "        \n",
    "if f==len(A):\n",
    "    print('\\nLHS==RHS')"
   ]
  },
  {
   "cell_type": "markdown",
   "id": "af947265",
   "metadata": {},
   "source": [
    "**XOR**\n",
    "<img width=\"250\" align=\"left\" src=\"https://spinningnumbers.org/i/logic13.svg\">\n",
    "\n",
    "<img width=\"300\" align=\"left\" src=\"https://upload.wikimedia.org/wikipedia/commons/e/ed/3_gate_XOR.svg\">"
   ]
  },
  {
   "cell_type": "markdown",
   "id": "a7e44af1",
   "metadata": {},
   "source": [
    "**XNOR**<img width=\"250\" align=\"left\"  src=\"https://spinningnumbers.org/i/logic14.svg\">\n",
    "<img width=\"300\" align=\"left\" src=\"https://upload.wikimedia.org/wikipedia/commons/6/66/3_gate_XNOR.svg\">"
   ]
  },
  {
   "cell_type": "code",
   "execution_count": 74,
   "id": "cbfb7f2d",
   "metadata": {},
   "outputs": [
    {
     "name": "stdout",
     "output_type": "stream",
     "text": [
      "Input \t|\t Output\n",
      "| a | b |  a⊕b_(cal) \t|  a⊕b_(anl)\t|  a⊙b_(cal)\t|  a⊙b_(anl)\t|\n",
      "| 0 | 0 |\t 0 \t|\t 0 \t|\t 1 \t|\t 1 \t|\n",
      "| 0 | 1 |\t 1 \t|\t 1 \t|\t 0 \t|\t 0 \t|\n",
      "| 1 | 0 |\t 1 \t|\t 1 \t|\t 0 \t|\t 0 \t|\n",
      "| 1 | 1 |\t 0 \t|\t 0 \t|\t 1 \t|\t 1 \t|\n",
      "\n",
      "LHS==RHS\n"
     ]
    }
   ],
   "source": [
    "f=0\n",
    "print('Input','\\t|\\t','Output')\n",
    "print('| a |','b |',' a⊕b_(cal) \\t|',' a⊕b_(anl)\\t|',' a⊙b_(cal)\\t|',' a⊙b_(anl)\\t|')\n",
    "for a,b in zip(A,B):\n",
    "    N1=NOT(a)\n",
    "    N2=NOT(b)\n",
    "    O1=OR(N1,N2)\n",
    "    O2=OR(a,b)\n",
    "    X=AND(O1,O2)\n",
    "    A1=AND(a,b)\n",
    "    A2=AND(N1,N2)\n",
    "    Xn=OR(A1,A2)\n",
    "    X_a=XOR(a,b)\n",
    "    Xn_a=XNOR(a,b)\n",
    "    print('|',a,'|',b,'|\\t',X,'\\t|\\t',X_a,'\\t|\\t',Xn,'\\t|\\t',Xn_a,'\\t|')\n",
    "    if (X==X_a)&(Xn==Xn_a): f+=1\n",
    "        \n",
    "if f==len(A):\n",
    "    print('\\nLHS==RHS')"
   ]
  },
  {
   "cell_type": "markdown",
   "id": "095c9b96",
   "metadata": {},
   "source": [
    "# **Conversion-  NAND IMPLEMENTATION**"
   ]
  },
  {
   "cell_type": "markdown",
   "id": "b5fb7f31",
   "metadata": {},
   "source": [
    "**NOT** \n",
    "<img width=\"100\" height=\"120\" align=\"center\" src=\"https://upload.wikimedia.org/wikipedia/commons/3/3f/NOT_from_NAND.svg\">"
   ]
  },
  {
   "cell_type": "markdown",
   "id": "d14c60eb",
   "metadata": {},
   "source": [
    "**AND** \n",
    "<img width=\"200\" height=\"120\" align=\"center\" src=\"https://upload.wikimedia.org/wikipedia/commons/1/16/AND_from_NAND.svg\">"
   ]
  },
  {
   "cell_type": "markdown",
   "id": "2b8a5d11",
   "metadata": {},
   "source": [
    "**OR** \n",
    "<img width=\"200\" height=\"120\" align=\"center\" src=\"https://upload.wikimedia.org/wikipedia/commons/9/90/OR_from_NAND.svg\">"
   ]
  },
  {
   "cell_type": "markdown",
   "id": "4f2c528c",
   "metadata": {},
   "source": [
    "**NOR** \n",
    "<img width=\"250\" height=\"320\" align=\"center\" src=\"https://upload.wikimedia.org/wikipedia/commons/4/4e/NOR_from_NAND.svg\">"
   ]
  },
  {
   "cell_type": "markdown",
   "id": "ed7e64d2",
   "metadata": {},
   "source": [
    "**XOR** \n",
    "<img width=\"270\" height=\"360\" align=\"center\" src=\"https://upload.wikimedia.org/wikipedia/commons/f/fa/XOR_from_NAND.svg\">"
   ]
  },
  {
   "cell_type": "markdown",
   "id": "3c21af4c",
   "metadata": {},
   "source": [
    "**XNOR** \n",
    "<img width=\"370\" height=\"360\" align=\"center\" src=\"https://upload.wikimedia.org/wikipedia/commons/e/e2/XNOR_from_NAND.svg\">"
   ]
  },
  {
   "cell_type": "code",
   "execution_count": 75,
   "id": "c947a4e9",
   "metadata": {},
   "outputs": [
    {
     "name": "stdout",
     "output_type": "stream",
     "text": [
      "Input \t |\t Output\n",
      "| a |  b | 𝑎̃ | 𝑏̃ |  a⋅b\t| a+b\t| a↓b\t| a⊕b\t| a⊙b\t|\n",
      "| 0 |  0 | 1 | 1 |   0 \t|  0 \t|  1 \t|  0 \t|  1 \t|\n",
      "| 0 |  1 | 1 | 0 |   0 \t|  1 \t|  0 \t|  1 \t|  0 \t|\n",
      "| 1 |  0 | 0 | 1 |   0 \t|  1 \t|  0 \t|  1 \t|  0 \t|\n",
      "| 1 |  1 | 0 | 0 |   1 \t|  1 \t|  0 \t|  0 \t|  1 \t|\n"
     ]
    }
   ],
   "source": [
    "print('Input','\\t |\\t','Output')\n",
    "print('| a |',' b |','𝑎̃ |','𝑏̃ |',' a⋅b\\t|','a+b\\t|','a↓b\\t|','a⊕b\\t|','a⊙b\\t|')\n",
    "\n",
    "for a,b in zip(A,B):\n",
    "    \n",
    "    # NAND -> NOT\n",
    "    gt1=NAND(a,a)\n",
    "    \n",
    "    # NAND -> AND\n",
    "    gt2=NAND(a,b)\n",
    "    gt3=NAND(gt2,gt2)\n",
    "    \n",
    "    # NAND -> OR\n",
    "    gt4=NAND(b,b)\n",
    "    gt5=NAND(gt1,gt4)\n",
    "    \n",
    "    # NAND -> NOR\n",
    "    gt6=NAND(gt5,gt5)\n",
    "    \n",
    "    # NAND -> XOR\n",
    "    gt7=NAND(a,gt2)\n",
    "    gt8=NAND(b,gt2)\n",
    "    gt9=NAND(gt7,gt8)\n",
    "    \n",
    "    # NAND -> XNOR\n",
    "    gt10=NAND(gt9,gt9)\n",
    "    \n",
    "    print('|',a,'| ',b,'|',gt1,'|',gt4,'|  ',gt3,'\\t| ',gt5,'\\t| ',gt6,'\\t| ',gt9,'\\t| ',gt10,'\\t|')"
   ]
  },
  {
   "cell_type": "code",
   "execution_count": 76,
   "id": "a7e9cac9",
   "metadata": {},
   "outputs": [],
   "source": [
    "def NAND_NOT(a):\n",
    "    return NAND(a,a)# NAND -> NOT\n",
    "    \n",
    "def NAND_AND(a,b):\n",
    "    return NAND(NAND(a,b),NAND(a,b))# NAND -> AND\n",
    "    \n",
    "def NAND_OR(a,b):\n",
    "    return NAND(NAND(a,a),NAND(b,b))# NAND -> OR\n",
    "\n",
    "def NAND_NOR(a,b): \n",
    "    return NAND(NAND_OR(a,b),NAND_OR(a,b))# NAND -> NOR\n",
    "\n",
    "def NAND_XOR(a,b):\n",
    "    return NAND(NAND(a,NAND(a,b)),NAND(b,NAND(a,b)))# NAND -> XOR\n",
    "\n",
    "def NAND_XNOR(a,b):\n",
    "    return NAND(NAND_XOR(a,b),NAND_XOR(a,b))# NAND -> XNOR"
   ]
  },
  {
   "cell_type": "code",
   "execution_count": 77,
   "id": "fd7e0ae6",
   "metadata": {},
   "outputs": [
    {
     "data": {
      "text/html": [
       "<div>\n",
       "<style scoped>\n",
       "    .dataframe tbody tr th:only-of-type {\n",
       "        vertical-align: middle;\n",
       "    }\n",
       "\n",
       "    .dataframe tbody tr th {\n",
       "        vertical-align: top;\n",
       "    }\n",
       "\n",
       "    .dataframe thead th {\n",
       "        text-align: right;\n",
       "    }\n",
       "</style>\n",
       "<table border=\"1\" class=\"dataframe\">\n",
       "  <thead>\n",
       "    <tr style=\"text-align: right;\">\n",
       "      <th></th>\n",
       "      <th>a</th>\n",
       "      <th>b</th>\n",
       "      <th>𝑎̃</th>\n",
       "      <th>𝑏̃</th>\n",
       "      <th>a⋅b</th>\n",
       "      <th>a+b</th>\n",
       "      <th>a↓b</th>\n",
       "      <th>a⊕b</th>\n",
       "      <th>a⊙b</th>\n",
       "    </tr>\n",
       "  </thead>\n",
       "  <tbody>\n",
       "    <tr>\n",
       "      <th>0</th>\n",
       "      <td>1</td>\n",
       "      <td>1</td>\n",
       "      <td>1</td>\n",
       "      <td>1</td>\n",
       "      <td>0</td>\n",
       "      <td>0</td>\n",
       "      <td>1</td>\n",
       "      <td>0</td>\n",
       "      <td>1</td>\n",
       "    </tr>\n",
       "    <tr>\n",
       "      <th>1</th>\n",
       "      <td>1</td>\n",
       "      <td>1</td>\n",
       "      <td>1</td>\n",
       "      <td>0</td>\n",
       "      <td>0</td>\n",
       "      <td>1</td>\n",
       "      <td>0</td>\n",
       "      <td>1</td>\n",
       "      <td>0</td>\n",
       "    </tr>\n",
       "    <tr>\n",
       "      <th>2</th>\n",
       "      <td>1</td>\n",
       "      <td>1</td>\n",
       "      <td>0</td>\n",
       "      <td>1</td>\n",
       "      <td>0</td>\n",
       "      <td>1</td>\n",
       "      <td>0</td>\n",
       "      <td>1</td>\n",
       "      <td>0</td>\n",
       "    </tr>\n",
       "    <tr>\n",
       "      <th>3</th>\n",
       "      <td>1</td>\n",
       "      <td>1</td>\n",
       "      <td>0</td>\n",
       "      <td>0</td>\n",
       "      <td>1</td>\n",
       "      <td>1</td>\n",
       "      <td>0</td>\n",
       "      <td>0</td>\n",
       "      <td>1</td>\n",
       "    </tr>\n",
       "  </tbody>\n",
       "</table>\n",
       "</div>"
      ],
      "text/plain": [
       "   a  b  𝑎̃  𝑏̃  a⋅b  a+b  a↓b  a⊕b  a⊙b\n",
       "0  1  1   1   1    0    0    1    0    1\n",
       "1  1  1   1   0    0    1    0    1    0\n",
       "2  1  1   0   1    0    1    0    1    0\n",
       "3  1  1   0   0    1    1    0    0    1"
      ]
     },
     "execution_count": 77,
     "metadata": {},
     "output_type": "execute_result"
    }
   ],
   "source": [
    "import pandas as pd\n",
    "\n",
    "A1,A2,A3,A4,A5,A6,A7=[],[],[],[],[],[],[]\n",
    "for a,b in zip(A,B):\n",
    "    A1.append(NAND_NOT(a))\n",
    "    A2.append(NAND_NOT(b))\n",
    "    A3.append(NAND_AND(a,b))\n",
    "    A4.append(NAND_OR(a,b))\n",
    "    A5.append(NAND_NOR(a,b))\n",
    "    A6.append(NAND_XOR(a,b))\n",
    "    A7.append(NAND_XNOR(a,b))\n",
    "pd.DataFrame({'a':a,'b':b,'𝑎̃':A1,'𝑏̃':A2,'a⋅b':A3,'a+b':A4,'a↓b':A5,'a⊕b':A6,'a⊙b':A7})"
   ]
  },
  {
   "cell_type": "markdown",
   "id": "a68b1262",
   "metadata": {},
   "source": [
    "# **Conversion-  NOR IMPLEMENTATION :**"
   ]
  },
  {
   "cell_type": "markdown",
   "id": "5afc0356",
   "metadata": {},
   "source": [
    "**NOT** \n",
    "<img width=\"100\" height=\"120\" align=\"center\" src=\"https://upload.wikimedia.org/wikipedia/commons/b/ba/NOT_from_NOR.svg\">"
   ]
  },
  {
   "cell_type": "markdown",
   "id": "4846274c",
   "metadata": {},
   "source": [
    "**OR**\n",
    "<img width=\"200\" height=\"120\" align=\"center\" src=\"https://upload.wikimedia.org/wikipedia/commons/thumb/4/4b/OR_from_NOR.svg/1920px-OR_from_NOR.svg.png\">"
   ]
  },
  {
   "cell_type": "markdown",
   "id": "3e2c2ec0",
   "metadata": {},
   "source": [
    "**AND**\n",
    "<img width=\"200\" height=\"120\" align=\"center\" src=\"https://upload.wikimedia.org/wikipedia/commons/f/f4/AND_from_NOR.svg\">\n"
   ]
  },
  {
   "cell_type": "markdown",
   "id": "de314d1b",
   "metadata": {},
   "source": [
    "**NAND**\n",
    "<img width=\"250\" height=\"320\" align=\"center\" src=\"https://upload.wikimedia.org/wikipedia/commons/thumb/2/2b/NAND_from_NOR.svg/1920px-NAND_from_NOR.svg.png\">"
   ]
  },
  {
   "cell_type": "markdown",
   "id": "d2d3001e",
   "metadata": {},
   "source": [
    "**XNOR**\n",
    "<img width=\"270\" height=\"360\" align=\"center\" src=\"https://upload.wikimedia.org/wikipedia/commons/thumb/f/f0/XNOR_from_NOR.svg/1920px-XNOR_from_NOR.svg.png\">"
   ]
  },
  {
   "cell_type": "markdown",
   "id": "0f154a64",
   "metadata": {},
   "source": [
    "\n",
    "**XOR**\n",
    "<img width=\"360\" height=\"320\" align=\"center\" src=\"https://upload.wikimedia.org/wikipedia/commons/thumb/5/5e/XOR_from_NOR_2.svg/1920px-XOR_from_NOR_2.svg.png\">\n"
   ]
  },
  {
   "cell_type": "code",
   "execution_count": 78,
   "id": "370b23c4",
   "metadata": {},
   "outputs": [
    {
     "name": "stdout",
     "output_type": "stream",
     "text": [
      "Input \t | \t Output\n",
      "| a |  b | 𝑎̃ | 𝑏̃ |  a+b\t| a⋅b\t| a↑b\t| a⊕b\t| a⊙b\t|\n",
      "| 0 |  0 | 1 | 1 |   0  |  0 \t|  1 \t|  1 \t|  0 \t|\n",
      "| 0 |  1 | 1 | 0 |   1  |  0 \t|  1 \t|  0 \t|  1 \t|\n",
      "| 1 |  0 | 0 | 1 |   1  |  0 \t|  1 \t|  0 \t|  1 \t|\n",
      "| 1 |  1 | 0 | 0 |   1  |  1 \t|  0 \t|  1 \t|  0 \t|\n"
     ]
    }
   ],
   "source": [
    "print('Input','\\t | \\t','Output')\n",
    "print('| a |',' b |','𝑎̃ |','𝑏̃ |',' a+b\\t|','a⋅b\\t|','a↑b\\t|','a⊕b\\t|','a⊙b\\t|')\n",
    "\n",
    "for a,b in zip(A,B):\n",
    "    \n",
    "    # NOR -> NOT\n",
    "    gt1=NOR(a,a)\n",
    "\n",
    "    # NOR -> OR\n",
    "    gt2=NOR(a,b)\n",
    "    gt3=NOR(gt2,gt2)\n",
    "    \n",
    "    # NOR -> AND\n",
    "    gt4=NOR(b,b)\n",
    "    gt5=NOR(gt1,gt4)\n",
    "    \n",
    "    # NOR -> NAND\n",
    "    gt6=NOR(gt5,gt5)\n",
    "    \n",
    "    # NOR -> XNOR\n",
    "    gt7=NOR(a,gt2)\n",
    "    gt8=NOR(b,gt2)\n",
    "    gt9=NOR(gt7,gt8)\n",
    "    \n",
    "    # NOR -> XOR\n",
    "    gt10=NOR(gt9,gt9)\n",
    "    \n",
    "    print('|',a,'| ',b,'|',gt1,'|',gt4,'|  ',gt3,' | ',gt5,'\\t| ',gt6,'\\t| ',gt9,'\\t| ',gt10,'\\t|')"
   ]
  },
  {
   "cell_type": "code",
   "execution_count": 79,
   "id": "396b20f3",
   "metadata": {},
   "outputs": [],
   "source": [
    "def NOR_NOT(a):\n",
    "    return NOR(a,a)# NOR -> NOT\n",
    "    \n",
    "def NOR_AND(a,b):\n",
    "    return NOR(NOR(a,a),NOR(b,b))# NOR -> AND\n",
    "    \n",
    "def NOR_OR(a,b):\n",
    "    return NOR(NOR(a,b),NOR(a,b))# NOR -> OR\n",
    "\n",
    "def NOR_NAND(a,b): \n",
    "    return NOR(NOR_AND(a,b),NOR_AND(a,b))# NOR -> NAND\n",
    "\n",
    "def NOR_XNOR(a,b):\n",
    "    return NOR(NOR(a,NOR(a,b)),NOR(b,NOR(a,b)))# NOR -> XNOR\n",
    "\n",
    "def NOR_XOR(a,b):\n",
    "    return NOR(NOR_XNOR(a,b),NOR_XNOR(a,b))# NOR -> XOR"
   ]
  },
  {
   "cell_type": "code",
   "execution_count": 80,
   "id": "6382670a",
   "metadata": {},
   "outputs": [
    {
     "data": {
      "text/html": [
       "<div>\n",
       "<style scoped>\n",
       "    .dataframe tbody tr th:only-of-type {\n",
       "        vertical-align: middle;\n",
       "    }\n",
       "\n",
       "    .dataframe tbody tr th {\n",
       "        vertical-align: top;\n",
       "    }\n",
       "\n",
       "    .dataframe thead th {\n",
       "        text-align: right;\n",
       "    }\n",
       "</style>\n",
       "<table border=\"1\" class=\"dataframe\">\n",
       "  <thead>\n",
       "    <tr style=\"text-align: right;\">\n",
       "      <th></th>\n",
       "      <th>a</th>\n",
       "      <th>b</th>\n",
       "      <th>𝑎̃</th>\n",
       "      <th>𝑏̃</th>\n",
       "      <th>a⋅b</th>\n",
       "      <th>a+b</th>\n",
       "      <th>a↑b</th>\n",
       "      <th>a⊕b</th>\n",
       "      <th>a⊙b</th>\n",
       "    </tr>\n",
       "  </thead>\n",
       "  <tbody>\n",
       "    <tr>\n",
       "      <th>0</th>\n",
       "      <td>1</td>\n",
       "      <td>1</td>\n",
       "      <td>1</td>\n",
       "      <td>1</td>\n",
       "      <td>0</td>\n",
       "      <td>0</td>\n",
       "      <td>1</td>\n",
       "      <td>0</td>\n",
       "      <td>1</td>\n",
       "    </tr>\n",
       "    <tr>\n",
       "      <th>1</th>\n",
       "      <td>1</td>\n",
       "      <td>1</td>\n",
       "      <td>1</td>\n",
       "      <td>0</td>\n",
       "      <td>1</td>\n",
       "      <td>0</td>\n",
       "      <td>1</td>\n",
       "      <td>1</td>\n",
       "      <td>0</td>\n",
       "    </tr>\n",
       "    <tr>\n",
       "      <th>2</th>\n",
       "      <td>1</td>\n",
       "      <td>1</td>\n",
       "      <td>0</td>\n",
       "      <td>1</td>\n",
       "      <td>1</td>\n",
       "      <td>0</td>\n",
       "      <td>1</td>\n",
       "      <td>1</td>\n",
       "      <td>0</td>\n",
       "    </tr>\n",
       "    <tr>\n",
       "      <th>3</th>\n",
       "      <td>1</td>\n",
       "      <td>1</td>\n",
       "      <td>0</td>\n",
       "      <td>0</td>\n",
       "      <td>1</td>\n",
       "      <td>1</td>\n",
       "      <td>0</td>\n",
       "      <td>0</td>\n",
       "      <td>1</td>\n",
       "    </tr>\n",
       "  </tbody>\n",
       "</table>\n",
       "</div>"
      ],
      "text/plain": [
       "   a  b  𝑎̃  𝑏̃  a⋅b  a+b  a↑b  a⊕b  a⊙b\n",
       "0  1  1   1   1    0    0    1    0    1\n",
       "1  1  1   1   0    1    0    1    1    0\n",
       "2  1  1   0   1    1    0    1    1    0\n",
       "3  1  1   0   0    1    1    0    0    1"
      ]
     },
     "execution_count": 80,
     "metadata": {},
     "output_type": "execute_result"
    }
   ],
   "source": [
    "A1,A2,A3,A4,A5,A6,A7=[],[],[],[],[],[],[]\n",
    "for a,b in zip(A,B):\n",
    "    A1.append(NOR_NOT(a))\n",
    "    A2.append(NOR_NOT(b))\n",
    "    A3.append(NOR_OR(a,b))\n",
    "    A4.append(NOR_AND(a,b))\n",
    "    A5.append(NOR_NAND(a,b))\n",
    "    A6.append(NOR_XOR(a,b))\n",
    "    A7.append(NOR_XNOR(a,b))\n",
    "pd.DataFrame({'a':a,'b':b,'𝑎̃':A1,'𝑏̃':A2,'a⋅b':A3,'a+b':A4,'a↑b':A5,'a⊕b':A6,'a⊙b':A7})"
   ]
  },
  {
   "cell_type": "markdown",
   "id": "4ef55cd4",
   "metadata": {},
   "source": [
    "# $\\text{HALF ADDER}$\n",
    "<img width=\"200\" height=\"220\" align=\"center\" src=\"https://upload.wikimedia.org/wikipedia/commons/thumb/d/d9/Half_Adder.svg/1920px-Half_Adder.svg.png\">"
   ]
  },
  {
   "cell_type": "code",
   "execution_count": 81,
   "id": "4c3b239f",
   "metadata": {},
   "outputs": [],
   "source": [
    "def HalfAdder(a,b):\n",
    "    s=XOR(a,b)\n",
    "    c=AND(a,b)\n",
    "    return s,c"
   ]
  },
  {
   "cell_type": "code",
   "execution_count": 82,
   "id": "b09563cc",
   "metadata": {},
   "outputs": [
    {
     "name": "stdout",
     "output_type": "stream",
     "text": [
      "Input | Output\n",
      "  x y | S C\n",
      "  0 0 | 0 0\n",
      "  0 1 | 1 0\n",
      "  1 0 | 1 0\n",
      "  1 1 | 0 1\n"
     ]
    }
   ],
   "source": [
    "print('Input','|','Output')\n",
    "print(' ','x','y','|','S','C')\n",
    "for a,b in zip(A,B):\n",
    "    s,c=HalfAdder(a,b)\n",
    "    print(' ',a,b,'|',s,c)"
   ]
  },
  {
   "cell_type": "markdown",
   "id": "6fe2c6d8",
   "metadata": {},
   "source": [
    "# $\\text{FULL ADDER}$\n",
    "<p align=\"center\">\n",
    "  <img src=\"img/Full-adder.png\" alt=\"drawing\" width=\"500\" align=\"center\"/>\n",
    "</p>"
   ]
  },
  {
   "cell_type": "code",
   "execution_count": 83,
   "id": "aab8c2c0",
   "metadata": {},
   "outputs": [],
   "source": [
    "def FullAdder(x,y,z):\n",
    "    s1,c1=HalfAdder(x,y)\n",
    "    s2,c2=HalfAdder(s1,z)\n",
    "    return s2,OR(c1,c2)"
   ]
  },
  {
   "cell_type": "code",
   "execution_count": 84,
   "id": "1727613d",
   "metadata": {},
   "outputs": [
    {
     "name": "stdout",
     "output_type": "stream",
     "text": [
      "Input | Output\n",
      "x y z | S C\n",
      "0 0 0 | 0 0\n",
      "0 0 1 | 1 0\n",
      "0 1 0 | 1 0\n",
      "0 1 1 | 0 1\n",
      "1 0 0 | 1 0\n",
      "1 0 1 | 0 1\n",
      "1 1 0 | 0 1\n",
      "1 1 1 | 1 1\n"
     ]
    }
   ],
   "source": [
    "print('Input','|','Output')\n",
    "print('x','y','z','|','S','C')\n",
    "for x,y,z in zip(X1,Y1,Z1):\n",
    "    sh,ch=FullAdder(x,y,z)\n",
    "    print(x,y,z,'|',sh,ch)"
   ]
  },
  {
   "cell_type": "markdown",
   "id": "50eaeca2",
   "metadata": {},
   "source": [
    "## **NAND logic of a full-adder**\n",
    "<img width=\"600\" height=\"320\" align=\"right\" src=\"https://upload.wikimedia.org/wikipedia/commons/thumb/6/69/Full_Adder_using_NAND_gates.svg/1920px-Full_Adder_using_NAND_gates.svg.png\">"
   ]
  },
  {
   "cell_type": "code",
   "execution_count": 85,
   "id": "3f28f5c0",
   "metadata": {},
   "outputs": [],
   "source": [
    "def NAND_FullAdder(x,y,z):\n",
    "    S=NAND_XOR(NAND_XOR(x,y),z)\n",
    "    C=NAND(NAND(NAND_XOR(x,y),z),NAND(x,y))\n",
    "    return S,C"
   ]
  },
  {
   "cell_type": "code",
   "execution_count": 86,
   "id": "1e4bd39d",
   "metadata": {},
   "outputs": [
    {
     "name": "stdout",
     "output_type": "stream",
     "text": [
      "Input | Output\n",
      "x y z | S C\n",
      "0 0 0 | 0 0\n",
      "0 0 1 | 1 0\n",
      "0 1 0 | 1 0\n",
      "0 1 1 | 0 1\n",
      "1 0 0 | 1 0\n",
      "1 0 1 | 0 1\n",
      "1 1 0 | 0 1\n",
      "1 1 1 | 1 1\n"
     ]
    }
   ],
   "source": [
    "print('Input','|','Output')\n",
    "print('x','y','z','|','S','C')\n",
    "for x,y,z in zip(X1,Y1,Z1):\n",
    "    S,C=NAND_FullAdder(x,y,z)\n",
    "    print(x,y,z,'|',S,C)"
   ]
  },
  {
   "cell_type": "markdown",
   "id": "451a12fa",
   "metadata": {},
   "source": [
    "## **NOR logic of a full-adder**\n",
    "<img width=\"600\" height=\"320\" align=\"right\" src=\"https://upload.wikimedia.org/wikipedia/commons/thumb/a/ad/Full_Adder_using_NOR_gates.svg/1920px-Full_Adder_using_NOR_gates.svg.png\">"
   ]
  },
  {
   "cell_type": "code",
   "execution_count": 87,
   "id": "d29203a4",
   "metadata": {},
   "outputs": [],
   "source": [
    "def NOR_FullAdder(x,y,z):\n",
    "    S=NOR_XNOR(NOR_XNOR(x,y),z)\n",
    "    C=NOR(NOR(NOR_XNOR(x,y),z),NOR(x,y))\n",
    "    return S,C"
   ]
  },
  {
   "cell_type": "code",
   "execution_count": 88,
   "id": "9c4c3c5b",
   "metadata": {},
   "outputs": [
    {
     "name": "stdout",
     "output_type": "stream",
     "text": [
      "Input | Output\n",
      "x y z | S C\n",
      "0 0 0 | 0 0\n",
      "0 0 1 | 1 0\n",
      "0 1 0 | 1 0\n",
      "0 1 1 | 0 1\n",
      "1 0 0 | 1 0\n",
      "1 0 1 | 0 1\n",
      "1 1 0 | 0 1\n",
      "1 1 1 | 1 1\n"
     ]
    }
   ],
   "source": [
    "print('Input','|','Output')\n",
    "print('x','y','z','|','S','C')\n",
    "for x,y,z in zip(X1,Y1,Z1):\n",
    "    S,C=NOR_FullAdder(x,y,z) \n",
    "    print(x,y,z,'|',S,C)"
   ]
  },
  {
   "cell_type": "markdown",
   "id": "b44f4752",
   "metadata": {},
   "source": [
    "## Checking for logics $F_1,F_2$\n",
    "<p align=\"center\">\n",
    "  <img src=\"img/Screenshot%20(1).png\" alt=\"drawing\" width=\"500\" align=\"center\"/>\n",
    "</p>"
   ]
  },
  {
   "cell_type": "code",
   "execution_count": 89,
   "id": "c2409fd5",
   "metadata": {},
   "outputs": [
    {
     "name": "stdout",
     "output_type": "stream",
     "text": [
      "Input  | Output\n",
      " x y z | F₁ F₂\n",
      " 0 0 0 | 0  0\n",
      " 0 0 1 | 0  0\n",
      " 0 1 0 | 0  0\n",
      " 0 1 1 | 0  1\n",
      " 1 0 0 | 0  0\n",
      " 1 0 1 | 0  1\n",
      " 1 1 0 | 0  1\n",
      " 1 1 1 | 1  1\n"
     ]
    }
   ],
   "source": [
    "print('Input',' |','Output')\n",
    "print(' x','y','z','| F\\u2081','F\\u2082')\n",
    "for x,y,z in zip(X1,Y1,Z1):\n",
    "    A1=AND(x,y)\n",
    "    O1=OR(x,y)\n",
    "    A2=AND(A1,z)\n",
    "    O2=OR(O1,z)\n",
    "    A3=AND(O1,z)\n",
    "    O3=OR(A1,A3)  # F2\n",
    "    N1=NOT(O3)\n",
    "    A4=AND(N1,O3)\n",
    "    O4=OR(A4,A2)  # F1\n",
    "    print('',x,y,z,'|',O4,'',O3)"
   ]
  },
  {
   "cell_type": "markdown",
   "id": "c1c6fc3b",
   "metadata": {},
   "source": [
    "# $$\\text{3-to-8-line decoder}$$\n",
    "<p align=\"center\">\n",
    "  <img src=\"img/Screenshot%20(3).png\" alt=\"drawing\" width=\"500\" height=\"400\" align=\"center\"/>\n",
    "</p>"
   ]
  },
  {
   "cell_type": "code",
   "execution_count": 90,
   "id": "9efcea1a",
   "metadata": {},
   "outputs": [],
   "source": [
    "def decoder3_8(x,y,z):\n",
    "    # NOT\n",
    "    N1=NOT(x)\n",
    "    N2=NOT(y)\n",
    "    N3=NOT(z)\n",
    "    # AND\n",
    "    A1=AND(N1,N2)\n",
    "    A2=AND(A1,N3)   # x'y'z' ->D0\n",
    "    A3=AND(A1,z)    # x'y'z  ->D1\n",
    "    A4=AND(N1,y)\n",
    "    A5=AND(A4,N3)   # x'yz'  ->D2\n",
    "    A6=AND(A4,z)    # x'yz   ->D3\n",
    "    A7=AND(x,N2)\n",
    "    A8=AND(A7,N3)   # xy'z'  ->D4\n",
    "    A9=AND(A7,z)    # xy'z   ->D5\n",
    "    A10=AND(x,y)\n",
    "    A11=AND(A10,N3) # xyz'   ->D6\n",
    "    A12=AND(A10,z)  # xyz    ->D7\n",
    "    return A2,A3,A5,A6,A8,A9,A11,A12"
   ]
  },
  {
   "cell_type": "code",
   "execution_count": 91,
   "id": "31c32733",
   "metadata": {},
   "outputs": [
    {
     "name": "stdout",
     "output_type": "stream",
     "text": [
      "Input |\t Output\n",
      "x y z | D₀ D₁ D₂ D₃ D₄ D₅ D₆ D₇\n",
      "0 0 0 | 1  0  0  0  0  0  0  0\n",
      "0 0 1 | 0  1  0  0  0  0  0  0\n",
      "0 1 0 | 0  0  1  0  0  0  0  0\n",
      "0 1 1 | 0  0  0  1  0  0  0  0\n",
      "1 0 0 | 0  0  0  0  1  0  0  0\n",
      "1 0 1 | 0  0  0  0  0  1  0  0\n",
      "1 1 0 | 0  0  0  0  0  0  1  0\n",
      "1 1 1 | 0  0  0  0  0  0  0  1\n"
     ]
    }
   ],
   "source": [
    "print('Input','|\\t','Output')\n",
    "print('x','y','z','|','D\\u2080','D\\u2081','D\\u2082','D\\u2083','D\\u2084','D\\u2085','D\\u2086','D\\u2087')\n",
    "for x,y,z in zip(X1,Y1,Z1):\n",
    "    D0,D1,D2,D3,D4,D5,D6,D7=decoder3_8(x,y,z)\n",
    "    print(x,y,z,'|',D0,'',D1,'',D2,'',D3,'',D4,'',D5,'',D6,'',D7)"
   ]
  },
  {
   "cell_type": "markdown",
   "id": "75ed4edd",
   "metadata": {},
   "source": [
    "# $$\\text{BCD-to-decimal decoder}$$\n",
    "<p align=\"center\">\n",
    "  <img src=\"img/Screenshot%20(4).png\" alt=\"drawing\" width=\"600\" height=\"600\" align=\"center\"/>\n",
    "</p>"
   ]
  },
  {
   "cell_type": "code",
   "execution_count": 92,
   "id": "d5ef1a16",
   "metadata": {},
   "outputs": [],
   "source": [
    "def BCD_Decimal_Decoder(w,x,y,z):    \n",
    "    # NOT\n",
    "    N1=NOT(w)\n",
    "    N2=NOT(x)\n",
    "    N3=NOT(y)\n",
    "    N4=NOT(z)\n",
    "    # AND\n",
    "    A1=AND(N1,N2)   # w'x'\n",
    "    A2=AND(A1,N3)   # w'x'y'\n",
    "    A3=AND(A2,N4)   # w'x'y'z' ->D0\n",
    "    A4=AND(A2,z)    # w'x'y'z  ->D1\n",
    "    A5=AND(N2,y)    # x'y\n",
    "    A6=AND(A5,N4)   # x'yz'    ->D2\n",
    "    A7=AND(A5,z)    # x'yz     ->D3\n",
    "    A8=AND(x,N3)    # xy'\n",
    "    A9=AND(A8,N4)   # xy'z'    ->D4\n",
    "    A10=AND(A8,z)   # xy'z     ->D5\n",
    "    A11=AND(x,y)    # xy\n",
    "    A12=AND(A11,N4) # xyz'     ->D6\n",
    "    A13=AND(A11,z)  # xyz      ->D7\n",
    "    A14=AND(w,N4)   # wz'      ->D8\n",
    "    A15=AND(w,z)    # wz       ->D9\n",
    "    return A3,A4,A6,A7,A9,A10,A12,A13,A14,A15"
   ]
  },
  {
   "cell_type": "code",
   "execution_count": 93,
   "id": "d7f870b4",
   "metadata": {},
   "outputs": [
    {
     "name": "stdout",
     "output_type": "stream",
     "text": [
      "Input \t|\t Output\n",
      "w x y z | D₀ D₁ D₂ D₃ D₄ D₅ D₆ D₇ D₈ D₉\n",
      "0 0 0 0 | 1  0  0  0  0  0  0  0  0  0\n",
      "0 0 0 1 | 0  1  0  0  0  0  0  0  0  0\n",
      "0 0 1 0 | 0  0  1  0  0  0  0  0  0  0\n",
      "0 0 1 1 | 0  0  0  1  0  0  0  0  0  0\n",
      "0 1 0 0 | 0  0  0  0  1  0  0  0  0  0\n",
      "0 1 0 1 | 0  0  0  0  0  1  0  0  0  0\n",
      "0 1 1 0 | 0  0  0  0  0  0  1  0  0  0\n",
      "0 1 1 1 | 0  0  0  0  0  0  0  1  0  0\n",
      "1 0 0 0 | 0  0  0  0  0  0  0  0  1  0\n",
      "1 0 0 1 | 0  0  0  0  0  0  0  0  0  1\n",
      "1 0 1 0 | 0  0  1  0  0  0  0  0  1  0\n",
      "1 0 1 1 | 0  0  0  1  0  0  0  0  0  1\n",
      "1 1 0 0 | 0  0  0  0  1  0  0  0  1  0\n",
      "1 1 0 1 | 0  0  0  0  0  1  0  0  0  1\n",
      "1 1 1 0 | 0  0  0  0  0  0  1  0  1  0\n",
      "1 1 1 1 | 0  0  0  0  0  0  0  1  0  1\n"
     ]
    }
   ],
   "source": [
    "print('Input','\\t|\\t','Output')\n",
    "print('w','x','y','z','|','D\\u2080','D\\u2081','D\\u2082','D\\u2083','D\\u2084','D\\u2085','D\\u2086','D\\u2087','D\\u2088','D\\u2089')\n",
    "for w,x,y,z in zip(P1,Q1,R1,S1):\n",
    "    D0,D1,D2,D3,D4,D5,D6,D7,D8,D9=BCD_Decimal_Decoder(w,x,y,z)\n",
    "    print(w,x,y,z,'|',D0,'',D1,'',D2,'',D3,'',D4,'',D5,'',D6,'',D7,'',D8,'',D9)"
   ]
  },
  {
   "cell_type": "markdown",
   "id": "d60f2a53",
   "metadata": {},
   "source": [
    "# $$\\text{Binary-Coded-Decimal to 7 Segment LED Display Decoder}$$\n",
    "\n",
    "\n",
    "<p align=\"center\">\n",
    "  <img src=\"img/download.png\" alt=\"drawing\" width=\"800\" height=\"300\" align=\"left\"/>\n",
    "</p>"
   ]
  },
  {
   "cell_type": "markdown",
   "id": "8d865412",
   "metadata": {},
   "source": [
    "<p align=\"center\">\n",
    "  <img src=\"img/BCD-to-common-anode-7-segment-truth-table.jpg\" alt=\"drawing\" width=\"400\" height=\"300\" align=\"left\"/>\n",
    "</p>\n",
    "\n",
    "$a = F1 (A, B, C, D) = ∑m (0, 2, 3, 5, 7, 8, 9)$\n",
    "\n",
    "$b = F2 (A, B, C, D) = ∑m (0, 1, 2, 3, 4, 7, 8, 9)$\n",
    "\n",
    "$c = F3 (A, B, C, D) = ∑m (0, 1, 3, 4, 5, 6, 7, 8, 9)$\n",
    "\n",
    "$d = F4 (A, B, C, D) = ∑m (0, 2, 3, 5, 6, 8)$\n",
    "\n",
    "$e = F5 (A, B, C, D) = ∑m (0, 2, 6, 8)$\n",
    "\n",
    "$f = F6 (A, B, C, D) = ∑m (0, 4, 5, 6, 8, 9)$\n",
    "\n",
    "$g = F7 (A, B, C, D) = ∑m (2, 3, 4, 5, 6, 8, 9)$"
   ]
  },
  {
   "cell_type": "markdown",
   "id": "816aef9b",
   "metadata": {},
   "source": [
    "<p align=\"center\">\n",
    "  <img src=\"img/K-map-a.jpg\" alt=\"drawing\" width=\"900\" height=\"300\" align=\"left\"/>\n",
    "</p>\n",
    "\n",
    "<p align=\"center\">\n",
    "  <img src=\"img/K-map-d.jpg\" alt=\"drawing\" width=\"900\" height=\"300\" align=\"left\"/>\n",
    "</p>\n",
    "\n",
    "<p align=\"center\">\n",
    "  <img src=\"img/K-map-g.jpg\" alt=\"drawing\" width=\"300\" height=\"300\" align=\"left\"/>\n",
    "</p>\n",
    "\n"
   ]
  },
  {
   "cell_type": "markdown",
   "id": "8cc783c4",
   "metadata": {},
   "source": [
    "<p align=\"center\">\n",
    "  <img src=\"img/BCD-to-7-segment-Decoder-Design-Using-Basic-Gates.jpg\" alt=\"drawing\" width=\"400\" height=\"300\" align=\"left\"/>\n",
    "</p>"
   ]
  },
  {
   "cell_type": "code",
   "execution_count": 94,
   "id": "c50379a5",
   "metadata": {},
   "outputs": [],
   "source": [
    "def BCD_7segment9(p,q,r,s):\n",
    "    a=OR(OR(p,r),OR(AND(q,s),AND(NOT(q),NOT(s))))\n",
    "    b=OR(OR(NOT(q),AND(r,s)),AND(NOT(r),NOT(s)))\n",
    "    c=OR(OR(q,NOT(r)),s)\n",
    "    d=OR(OR(AND(NOT(q),NOT(s)),AND(r,NOT(s))),OR(OR(p,AND(NOT(q),r)),AND(AND(q,NOT(r)),s)))\n",
    "    e=OR(AND(NOT(q),NOT(s)),AND(r,NOT(s)))\n",
    "    f=OR(OR(p,AND(NOT(r),NOT(s))),OR(AND(q,NOT(r)),AND(q,NOT(s))))\n",
    "    g=OR(OR(p,AND(q,NOT(r))),OR(AND(NOT(q),r),AND(r,NOT(s))))\n",
    "    return a,b,c,d,e,f,g"
   ]
  },
  {
   "cell_type": "code",
   "execution_count": 95,
   "id": "20c9da8f",
   "metadata": {},
   "outputs": [
    {
     "name": "stdout",
     "output_type": "stream",
     "text": [
      "Input \t|\t Output\n",
      "A B C D | a b c d e f g\n",
      "0 0 0 0 | 1 1 1 1 1 1 0\n",
      "0 0 0 1 | 0 1 1 0 0 0 0\n",
      "0 0 1 0 | 1 1 0 1 1 0 1\n",
      "0 0 1 1 | 1 1 1 1 0 0 1\n",
      "0 1 0 0 | 0 1 1 0 0 1 1\n",
      "0 1 0 1 | 1 0 1 1 0 1 1\n",
      "0 1 1 0 | 1 0 1 1 1 1 1\n",
      "0 1 1 1 | 1 1 1 0 0 0 0\n",
      "1 0 0 0 | 1 1 1 1 1 1 1\n",
      "1 0 0 1 | 1 1 1 1 0 1 1\n"
     ]
    }
   ],
   "source": [
    "print('Input','\\t|\\t','Output')\n",
    "print('A','B','C','D','|','a','b','c','d','e','f','g')\n",
    "for w,x,y,z in zip(P1[:10],Q1[:10],R1[:10],S1[:10]):\n",
    "    a,b,c,d,e,f,g=BCD_7segment9(w,x,y,z)\n",
    "    print(w,x,y,z,'|',a,b,c,d,e,f,g)"
   ]
  },
  {
   "cell_type": "markdown",
   "id": "4c26e449",
   "metadata": {},
   "source": [
    "# 7 segment display plot\n",
    "\n",
    "<p align=\"left\">\n",
    "  <img src=\"img/7-segment-numeric-display.png\" alt=\"drawing\" width=\"100\" height=\"200\" align=\"left\"/>\n",
    "</p>"
   ]
  },
  {
   "cell_type": "code",
   "execution_count": 96,
   "id": "b205f7c8",
   "metadata": {},
   "outputs": [
    {
     "name": "stdout",
     "output_type": "stream",
     "text": [
      "\u001b[1;31;48m\t\t\t\t\t   _ \n",
      "\t\t\t\t\t | _ | \n",
      "\t\t\t\t\t | _ |\u001b[0m\n",
      "     \n"
     ]
    }
   ],
   "source": [
    "def display_7_segment(a,b,c,d,e,f,g):\n",
    "    if a==1:\n",
    "        a = \"1\"\n",
    "        a = a.replace(\"1\", \"_\" )\n",
    "    elif a==0:\n",
    "        a = \"0\"\n",
    "        a = a.replace(\"0\", \" \")\n",
    "    if b==1:\n",
    "        b = \"1\"\n",
    "        b = b.replace(\"1\", \"|\" )\n",
    "    elif b==0:\n",
    "        b = \"0\"\n",
    "        b = b.replace(\"0\", \" \")\n",
    "    if c==1:\n",
    "        c = \"1\"\n",
    "        c = c.replace(\"1\", \"|\" )\n",
    "    elif c==0:\n",
    "        c = \"0\"\n",
    "        c = c.replace(\"0\", \" \")\n",
    "    if d==1:\n",
    "        d = \"1\"\n",
    "        d = d.replace(\"1\", \"_\" )\n",
    "    elif d==0:\n",
    "        d = \"0\"\n",
    "        d = d.replace(\"0\", \" \")\n",
    "    if e==1:\n",
    "        e = \"1\"\n",
    "        e = e.replace(\"1\", \"|\" )\n",
    "    elif e==0:\n",
    "        e = \"0\"\n",
    "        e = e.replace(\"0\", \" \")\n",
    "    if f==1:\n",
    "        f = \"1\"\n",
    "        f = f.replace(\"1\", \"|\" )\n",
    "    elif f==0:\n",
    "        f = \"0\"\n",
    "        f = f.replace(\"0\", \" \")\n",
    "    if g==1:\n",
    "        g = \"1\"\n",
    "        g = g.replace(\"1\", \"_\" )\n",
    "    elif g==0:\n",
    "        g = \"0\"\n",
    "        g = g.replace(\"0\", \" \")\n",
    "        \n",
    "    print('\\033[1;31;48m'+'\\t\\t\\t\\t\\t  ',a,\"\\n\\t\\t\\t\\t\\t\",f,g,b,\"\\n\\t\\t\\t\\t\\t\",e,d,c+'\\033[0m')\n",
    "    return '     '\n",
    "\n",
    "print(display_7_segment(1,1,1,1,1,1,1))"
   ]
  },
  {
   "cell_type": "markdown",
   "id": "fbc00f18",
   "metadata": {},
   "source": [
    "### Now checking for the outputs of *BCD_7segment9(A,B,C,D)*"
   ]
  },
  {
   "cell_type": "code",
   "execution_count": 97,
   "id": "6b75f664",
   "metadata": {},
   "outputs": [
    {
     "name": "stdout",
     "output_type": "stream",
     "text": [
      "Input \t |\t Output\n",
      " A B C D | a b c d e f g | Display in 7 segment\n",
      "_______________________________________________\n",
      " 0 0 0 0 | 1 1 1 1 1 1 0 |\n",
      "\u001b[1;31;48m\t\t\t\t\t   _ \n",
      "\t\t\t\t\t |   | \n",
      "\t\t\t\t\t | _ |\u001b[0m\n",
      "     \n",
      "_______________________________________________\n",
      " 0 0 0 1 | 0 1 1 0 0 0 0 |\n",
      "\u001b[1;31;48m\t\t\t\t\t     \n",
      "\t\t\t\t\t     | \n",
      "\t\t\t\t\t     |\u001b[0m\n",
      "     \n",
      "_______________________________________________\n",
      " 0 0 1 0 | 1 1 0 1 1 0 1 |\n",
      "\u001b[1;31;48m\t\t\t\t\t   _ \n",
      "\t\t\t\t\t   _ | \n",
      "\t\t\t\t\t | _  \u001b[0m\n",
      "     \n",
      "_______________________________________________\n",
      " 0 0 1 1 | 1 1 1 1 0 0 1 |\n",
      "\u001b[1;31;48m\t\t\t\t\t   _ \n",
      "\t\t\t\t\t   _ | \n",
      "\t\t\t\t\t   _ |\u001b[0m\n",
      "     \n",
      "_______________________________________________\n",
      " 0 1 0 0 | 0 1 1 0 0 1 1 |\n",
      "\u001b[1;31;48m\t\t\t\t\t     \n",
      "\t\t\t\t\t | _ | \n",
      "\t\t\t\t\t     |\u001b[0m\n",
      "     \n",
      "_______________________________________________\n",
      " 0 1 0 1 | 1 0 1 1 0 1 1 |\n",
      "\u001b[1;31;48m\t\t\t\t\t   _ \n",
      "\t\t\t\t\t | _   \n",
      "\t\t\t\t\t   _ |\u001b[0m\n",
      "     \n",
      "_______________________________________________\n",
      " 0 1 1 0 | 1 0 1 1 1 1 1 |\n",
      "\u001b[1;31;48m\t\t\t\t\t   _ \n",
      "\t\t\t\t\t | _   \n",
      "\t\t\t\t\t | _ |\u001b[0m\n",
      "     \n",
      "_______________________________________________\n",
      " 0 1 1 1 | 1 1 1 0 0 0 0 |\n",
      "\u001b[1;31;48m\t\t\t\t\t   _ \n",
      "\t\t\t\t\t     | \n",
      "\t\t\t\t\t     |\u001b[0m\n",
      "     \n",
      "_______________________________________________\n",
      " 1 0 0 0 | 1 1 1 1 1 1 1 |\n",
      "\u001b[1;31;48m\t\t\t\t\t   _ \n",
      "\t\t\t\t\t | _ | \n",
      "\t\t\t\t\t | _ |\u001b[0m\n",
      "     \n",
      "_______________________________________________\n",
      " 1 0 0 1 | 1 1 1 1 0 1 1 |\n",
      "\u001b[1;31;48m\t\t\t\t\t   _ \n",
      "\t\t\t\t\t | _ | \n",
      "\t\t\t\t\t   _ |\u001b[0m\n",
      "     \n",
      "_______________________________________________\n"
     ]
    }
   ],
   "source": [
    "print('Input','\\t |\\t','Output')\n",
    "print(' A','B','C','D','|','a','b','c','d','e','f','g','|','Display in 7 segment')\n",
    "for w,x,y,z in zip(P1[:10],Q1[:10],R1[:10],S1[:10]):\n",
    "    a,b,c,d,e,f,g=BCD_7segment9(w,x,y,z)\n",
    "    print('_______________________________________________')\n",
    "    print('',w,x,y,z,'|',a,b,c,d,e,f,g,'|')\n",
    "    print(display_7_segment(a,b,c,d,e,f,g))\n",
    "print('_______________________________________________')"
   ]
  },
  {
   "cell_type": "markdown",
   "id": "9619b4c8",
   "metadata": {},
   "source": [
    "# $$\\text{Binary-Coded-HexaDecimal  to 7 Segment LED Display Decoder}$$\n",
    "\n",
    "\n",
    "<p align=\"center\">\n",
    "  <img src=\"img/Screenshot%20(74).png\" alt=\"drawing\" width=\"1400\" height=\"600\" align=\"left\"/>\n",
    "</p>"
   ]
  },
  {
   "cell_type": "markdown",
   "id": "75e00109",
   "metadata": {},
   "source": [
    "<p align=\"center\">\n",
    "  <img src=\"img/7-segment-decoder-truth-table.png\" alt=\"drawing\" width=\"500\" height=\"900\" align=\"left\"/>\n",
    "</p>"
   ]
  },
  {
   "cell_type": "markdown",
   "id": "928755d8",
   "metadata": {},
   "source": [
    "**K-map implementation**\n",
    "<p align=\"left\">\n",
    "  <img src=\"img/segment-a-k-map-1.png\" alt=\"drawing\" width=\"250\" height=\"100\" align=\"left\"/>\n",
    "</p>\n",
    "\n",
    "$a(A,B,C,D)=\\sum (0,2,3,5,6,7,8,9,10,12,14,15)$\n",
    "\n",
    "$a=AB'C'+A'BD+AD'+A'C+BC+B'D'$"
   ]
  },
  {
   "cell_type": "markdown",
   "id": "9f1d1421",
   "metadata": {},
   "source": [
    "<p align=\"left\">\n",
    "  <img src=\"img/segment-b-k-map-1-300x295.jpg\" alt=\"drawing\" width=\"240\" height=\"100\" align=\"left\"/>\n",
    "</p>\n",
    "$b(A,B,C,D)=\\sum (0,1,2,3,4,7,8,9,10,13)$\n",
    "\n",
    "$b=A'C'D'+A'CD+AC'D+B'C'+B'D'$"
   ]
  },
  {
   "cell_type": "markdown",
   "id": "bf25f7d5",
   "metadata": {},
   "source": [
    "<p align=\"center\">\n",
    "  <img src=\"img/segment-c-k-map.jpg\" alt=\"drawing\" width=\"240\" height=\"100\" align=\"left\"/>\n",
    "</p>\n",
    "$c(A,B,C,D)=\\sum (0,1,3,4,5,6,7,8,9,10,11,13)$\n",
    "\n",
    "$c=A'C'+A'D+C'D+A'B+AB'$"
   ]
  },
  {
   "cell_type": "markdown",
   "id": "7f426f11",
   "metadata": {},
   "source": [
    "<p align=\"right\">\n",
    "  <img src=\"img/segment-d-k-map.jpg\" alt=\"drawing\" width=\"240\" height=\"100\" align=\"left\"/>\n",
    "</p>\n",
    "$d(A,B,C,D)=\\sum (0,2,3,5,6,7,8,9,11,12,13,14)$\n",
    "\n",
    "$d=A'B'D'+B'CD+BC'D+BCD'+AC'$"
   ]
  },
  {
   "cell_type": "markdown",
   "id": "2dc9021f",
   "metadata": {},
   "source": [
    "<p align=\"center\">\n",
    "  <img src=\"img/segment-e-k-map.jpg\" alt=\"drawing\" width=\"250\" height=\"100\" align=\"left\"/>\n",
    "</p>\n",
    "$e(A,B,C,D)=\\sum (0,2,6,8,10,11,12,13,14,15)$\n",
    "\n",
    "$e=B'D'+CD'+AC+AB$"
   ]
  },
  {
   "cell_type": "markdown",
   "id": "544b6783",
   "metadata": {},
   "source": [
    "<p align=\"center\">\n",
    "  <img src=\"img/segment-f-k-map.jpg\" alt=\"drawing\" width=\"240\" height=\"100\" align=\"left\"/>\n",
    "</p>    \n",
    "$f(A,B,C,D)=\\sum (0,4,5,6,8,9,10,11,12,14,15)$\n",
    "\n",
    "$f=A'BC'+C'D'+BD'+AB'+AC$"
   ]
  },
  {
   "cell_type": "markdown",
   "id": "1582d53e",
   "metadata": {},
   "source": [
    "<p align=\"right\">\n",
    "  <img src=\"img/segment-g-k-map.jpg\" alt=\"drawing\" width=\"240\" height=\"100\" align=\"left\"/>\n",
    "</p>\n",
    "$g(A,B,C,D)=\\sum (2,3,4,5,6,8,9,10,11,13,14,15)$\n",
    "\n",
    "$g=A'BC'+B'C+CD'+AB'+AD$"
   ]
  },
  {
   "cell_type": "markdown",
   "id": "e433ddfa",
   "metadata": {},
   "source": [
    "$\\text{So the required circuit diagram is :-}$\n",
    "<p align=\"center\">\n",
    "  <img src=\"img/complete-7-segment-HEX-decoder.png\" alt=\"drawing\" width=\"3000\" height=\"3500\" align=\"left\"/>\n",
    "</p>"
   ]
  },
  {
   "cell_type": "code",
   "execution_count": 98,
   "id": "7dd90dec",
   "metadata": {},
   "outputs": [],
   "source": [
    "def BChexD_7segment(p,q,r,s):\n",
    "    A,B,C,D=p,q,r,s\n",
    "    # N\n",
    "    nA=NOT(A)  # A'\n",
    "    nB=NOT(B)  # B'                      \n",
    "    nC=NOT(C)  # C'\n",
    "    nD=NOT(D)  # D'\n",
    "    \n",
    "    a= OR(OR(OR(OR(AND(nA,AND(B,D)),AND(A,AND(nB,nC))),OR(AND(nA,C),AND(B,C))),AND(nB,nD)),AND(A,nD))\n",
    "    b= OR(OR(OR(OR(AND(nA,AND(nC,nD)),AND(nA,AND(C,D))),AND(A,AND(nC,D))),AND(nB,nC)),AND(nB,nD))\n",
    "    c= OR(OR(OR(OR(AND(nA,nC),AND(nA,D)),AND(nC,D)),AND(nA,B)),AND(A,nB))\n",
    "    d= OR(OR(OR(OR(AND(nA,AND(nB,nD)),AND(nB,AND(C,D))),AND(B,AND(nC,D))),AND(B,AND(C,nD))),AND(A,nC))\n",
    "    e= OR(OR(OR(AND(nB,nD),AND(C,nD)),AND(A,C)),AND(A,B))\n",
    "    f= OR(OR(OR(OR(AND(nA,AND(B,nC)),AND(nC,nD)),AND(B,nD)),AND(A,nB)),AND(A,C))\n",
    "    g= OR(OR(OR(OR(AND(nA,AND(B,nC)),AND(nB,C)),AND(C,nD)),AND(A,nB)),AND(A,D))\n",
    "    return a,b,c,d,e,f,g"
   ]
  },
  {
   "cell_type": "code",
   "execution_count": 99,
   "id": "7c8d4440",
   "metadata": {},
   "outputs": [
    {
     "name": "stdout",
     "output_type": "stream",
     "text": [
      "Input \t |\t Output\n",
      " A B C D | a b c d e f g | Display in 7 segment\n",
      "_______________________________________________\n",
      " 0 0 0 0 | 1 1 1 1 1 1 0 |\n",
      "\u001b[1;31;48m\t\t\t\t\t   _ \n",
      "\t\t\t\t\t |   | \n",
      "\t\t\t\t\t | _ |\u001b[0m\n",
      "     \n",
      "_______________________________________________\n",
      " 0 0 0 1 | 0 1 1 0 0 0 0 |\n",
      "\u001b[1;31;48m\t\t\t\t\t     \n",
      "\t\t\t\t\t     | \n",
      "\t\t\t\t\t     |\u001b[0m\n",
      "     \n",
      "_______________________________________________\n",
      " 0 0 1 0 | 1 1 0 1 1 0 1 |\n",
      "\u001b[1;31;48m\t\t\t\t\t   _ \n",
      "\t\t\t\t\t   _ | \n",
      "\t\t\t\t\t | _  \u001b[0m\n",
      "     \n",
      "_______________________________________________\n",
      " 0 0 1 1 | 1 1 1 1 0 0 1 |\n",
      "\u001b[1;31;48m\t\t\t\t\t   _ \n",
      "\t\t\t\t\t   _ | \n",
      "\t\t\t\t\t   _ |\u001b[0m\n",
      "     \n",
      "_______________________________________________\n",
      " 0 1 0 0 | 0 1 1 0 0 1 1 |\n",
      "\u001b[1;31;48m\t\t\t\t\t     \n",
      "\t\t\t\t\t | _ | \n",
      "\t\t\t\t\t     |\u001b[0m\n",
      "     \n",
      "_______________________________________________\n",
      " 0 1 0 1 | 1 0 1 1 0 1 1 |\n",
      "\u001b[1;31;48m\t\t\t\t\t   _ \n",
      "\t\t\t\t\t | _   \n",
      "\t\t\t\t\t   _ |\u001b[0m\n",
      "     \n",
      "_______________________________________________\n",
      " 0 1 1 0 | 1 0 1 1 1 1 1 |\n",
      "\u001b[1;31;48m\t\t\t\t\t   _ \n",
      "\t\t\t\t\t | _   \n",
      "\t\t\t\t\t | _ |\u001b[0m\n",
      "     \n",
      "_______________________________________________\n",
      " 0 1 1 1 | 1 1 1 0 0 0 0 |\n",
      "\u001b[1;31;48m\t\t\t\t\t   _ \n",
      "\t\t\t\t\t     | \n",
      "\t\t\t\t\t     |\u001b[0m\n",
      "     \n",
      "_______________________________________________\n",
      " 1 0 0 0 | 1 1 1 1 1 1 1 |\n",
      "\u001b[1;31;48m\t\t\t\t\t   _ \n",
      "\t\t\t\t\t | _ | \n",
      "\t\t\t\t\t | _ |\u001b[0m\n",
      "     \n",
      "_______________________________________________\n",
      " 1 0 0 1 | 1 1 1 1 0 1 1 |\n",
      "\u001b[1;31;48m\t\t\t\t\t   _ \n",
      "\t\t\t\t\t | _ | \n",
      "\t\t\t\t\t   _ |\u001b[0m\n",
      "     \n",
      "_______________________________________________\n",
      " 1 0 1 0 | 1 1 1 0 1 1 1 |\n",
      "\u001b[1;31;48m\t\t\t\t\t   _ \n",
      "\t\t\t\t\t | _ | \n",
      "\t\t\t\t\t |   |\u001b[0m\n",
      "     \n",
      "_______________________________________________\n",
      " 1 0 1 1 | 0 0 1 1 1 1 1 |\n",
      "\u001b[1;31;48m\t\t\t\t\t     \n",
      "\t\t\t\t\t | _   \n",
      "\t\t\t\t\t | _ |\u001b[0m\n",
      "     \n",
      "_______________________________________________\n",
      " 1 1 0 0 | 1 0 0 1 1 1 0 |\n",
      "\u001b[1;31;48m\t\t\t\t\t   _ \n",
      "\t\t\t\t\t |     \n",
      "\t\t\t\t\t | _  \u001b[0m\n",
      "     \n",
      "_______________________________________________\n",
      " 1 1 0 1 | 0 1 1 1 1 0 1 |\n",
      "\u001b[1;31;48m\t\t\t\t\t     \n",
      "\t\t\t\t\t   _ | \n",
      "\t\t\t\t\t | _ |\u001b[0m\n",
      "     \n",
      "_______________________________________________\n",
      " 1 1 1 0 | 1 0 0 1 1 1 1 |\n",
      "\u001b[1;31;48m\t\t\t\t\t   _ \n",
      "\t\t\t\t\t | _   \n",
      "\t\t\t\t\t | _  \u001b[0m\n",
      "     \n",
      "_______________________________________________\n",
      " 1 1 1 1 | 1 0 0 0 1 1 1 |\n",
      "\u001b[1;31;48m\t\t\t\t\t   _ \n",
      "\t\t\t\t\t | _   \n",
      "\t\t\t\t\t |    \u001b[0m\n",
      "     \n",
      "_______________________________________________\n"
     ]
    }
   ],
   "source": [
    "print('Input','\\t |\\t','Output')\n",
    "print(' A','B','C','D','|','a','b','c','d','e','f','g','|','Display in 7 segment')\n",
    "for w,x,y,z in zip(P1,Q1,R1,S1):\n",
    "    a,b,c,d,e,f,g=BChexD_7segment(w,x,y,z)\n",
    "    print('_______________________________________________')\n",
    "    print('',w,x,y,z,'|',a,b,c,d,e,f,g,'|')\n",
    "    print(display_7_segment(a,b,c,d,e,f,g))\n",
    "print('_______________________________________________')"
   ]
  },
  {
   "cell_type": "markdown",
   "id": "40693f6d",
   "metadata": {},
   "source": [
    "<p align=\"center\">\n",
    "  <img src=\"img/Screenshot%20(2).png\" alt=\"drawing\" width=\"500\" height=\"400\" align=\"center\"/>\n",
    "</p>"
   ]
  },
  {
   "cell_type": "code",
   "execution_count": 100,
   "id": "e0c43891",
   "metadata": {},
   "outputs": [],
   "source": [
    "def BCD_excess3_converter(a,b,c,d):\n",
    "    N1=NOT(b)\n",
    "    N2=NOT(d)          # z\n",
    "    A1=AND(c,d)        \n",
    "    O1=OR(c,d)\n",
    "    N3=NOT(O1)\n",
    "    O2=OR(A1,N3)      # y\n",
    "    A2=AND(N3,b)\n",
    "    A3=AND(O1,N1)\n",
    "    A4=AND(O1,b)\n",
    "    O3=OR(A2,A3)      # x\n",
    "    O4=OR(A4,a)       # w\n",
    "    return O4,O3,O2,N2"
   ]
  },
  {
   "cell_type": "code",
   "execution_count": 101,
   "id": "c1ca815a",
   "metadata": {},
   "outputs": [
    {
     "name": "stdout",
     "output_type": "stream",
     "text": [
      "Input \t |\t Output\n",
      " A B C D | W X Y Z | a b c d e f g | Display in 7 segment\n",
      "_________________________________________________________\n",
      " 0 0 0 0 | 0 0 1 1 | 1 1 1 1 0 0 1 |\t\n",
      "\u001b[1;31;48m\t\t\t\t\t   _ \n",
      "\t\t\t\t\t   _ | \n",
      "\t\t\t\t\t   _ |\u001b[0m\n",
      "\t\t\t      \n",
      "_________________________________________________________\n",
      " 0 0 0 1 | 0 1 0 0 | 0 1 1 0 0 1 1 |\t\n",
      "\u001b[1;31;48m\t\t\t\t\t     \n",
      "\t\t\t\t\t | _ | \n",
      "\t\t\t\t\t     |\u001b[0m\n",
      "\t\t\t      \n",
      "_________________________________________________________\n",
      " 0 0 1 0 | 0 1 0 1 | 1 0 1 1 0 1 1 |\t\n",
      "\u001b[1;31;48m\t\t\t\t\t   _ \n",
      "\t\t\t\t\t | _   \n",
      "\t\t\t\t\t   _ |\u001b[0m\n",
      "\t\t\t      \n",
      "_________________________________________________________\n",
      " 0 0 1 1 | 0 1 1 0 | 1 0 1 1 1 1 1 |\t\n",
      "\u001b[1;31;48m\t\t\t\t\t   _ \n",
      "\t\t\t\t\t | _   \n",
      "\t\t\t\t\t | _ |\u001b[0m\n",
      "\t\t\t      \n",
      "_________________________________________________________\n",
      " 0 1 0 0 | 0 1 1 1 | 1 1 1 0 0 0 0 |\t\n",
      "\u001b[1;31;48m\t\t\t\t\t   _ \n",
      "\t\t\t\t\t     | \n",
      "\t\t\t\t\t     |\u001b[0m\n",
      "\t\t\t      \n",
      "_________________________________________________________\n",
      " 0 1 0 1 | 1 0 0 0 | 1 1 1 1 1 1 1 |\t\n",
      "\u001b[1;31;48m\t\t\t\t\t   _ \n",
      "\t\t\t\t\t | _ | \n",
      "\t\t\t\t\t | _ |\u001b[0m\n",
      "\t\t\t      \n",
      "_________________________________________________________\n",
      " 0 1 1 0 | 1 0 0 1 | 1 1 1 1 0 1 1 |\t\n",
      "\u001b[1;31;48m\t\t\t\t\t   _ \n",
      "\t\t\t\t\t | _ | \n",
      "\t\t\t\t\t   _ |\u001b[0m\n",
      "\t\t\t      \n",
      "_________________________________________________________\n",
      " 0 1 1 1 | 1 0 1 0 | 1 1 1 0 1 1 1 |\t\n",
      "\u001b[1;31;48m\t\t\t\t\t   _ \n",
      "\t\t\t\t\t | _ | \n",
      "\t\t\t\t\t |   |\u001b[0m\n",
      "\t\t\t      \n",
      "_________________________________________________________\n",
      " 1 0 0 0 | 1 0 1 1 | 0 0 1 1 1 1 1 |\t\n",
      "\u001b[1;31;48m\t\t\t\t\t     \n",
      "\t\t\t\t\t | _   \n",
      "\t\t\t\t\t | _ |\u001b[0m\n",
      "\t\t\t      \n",
      "_________________________________________________________\n",
      " 1 0 0 1 | 1 1 0 0 | 1 0 0 1 1 1 0 |\t\n",
      "\u001b[1;31;48m\t\t\t\t\t   _ \n",
      "\t\t\t\t\t |     \n",
      "\t\t\t\t\t | _  \u001b[0m\n",
      "\t\t\t      \n",
      "_________________________________________________________\n",
      " 1 0 1 0 | 1 1 0 1 | 0 1 1 1 1 0 1 |\t\n",
      "\u001b[1;31;48m\t\t\t\t\t     \n",
      "\t\t\t\t\t   _ | \n",
      "\t\t\t\t\t | _ |\u001b[0m\n",
      "\t\t\t      \n",
      "_________________________________________________________\n",
      " 1 0 1 1 | 1 1 1 0 | 1 0 0 1 1 1 1 |\t\n",
      "\u001b[1;31;48m\t\t\t\t\t   _ \n",
      "\t\t\t\t\t | _   \n",
      "\t\t\t\t\t | _  \u001b[0m\n",
      "\t\t\t      \n",
      "_________________________________________________________\n",
      " 1 1 0 0 | 1 1 1 1 | 1 0 0 0 1 1 1 |\t\n",
      "\u001b[1;31;48m\t\t\t\t\t   _ \n",
      "\t\t\t\t\t | _   \n",
      "\t\t\t\t\t |    \u001b[0m\n",
      "\t\t\t      \n",
      "_________________________________________________________\n",
      " 1 1 0 1 | 1 0 0 0 | 1 1 1 1 1 1 1 |\t\n",
      "\u001b[1;31;48m\t\t\t\t\t   _ \n",
      "\t\t\t\t\t | _ | \n",
      "\t\t\t\t\t | _ |\u001b[0m\n",
      "\t\t\t      \n",
      "_________________________________________________________\n",
      " 1 1 1 0 | 1 0 0 1 | 1 1 1 1 0 1 1 |\t\n",
      "\u001b[1;31;48m\t\t\t\t\t   _ \n",
      "\t\t\t\t\t | _ | \n",
      "\t\t\t\t\t   _ |\u001b[0m\n",
      "\t\t\t      \n",
      "_________________________________________________________\n",
      " 1 1 1 1 | 1 0 1 0 | 1 1 1 0 1 1 1 |\t\n",
      "\u001b[1;31;48m\t\t\t\t\t   _ \n",
      "\t\t\t\t\t | _ | \n",
      "\t\t\t\t\t |   |\u001b[0m\n",
      "\t\t\t      \n",
      "_________________________________________________________\n"
     ]
    }
   ],
   "source": [
    "print('Input','\\t |\\t','Output')\n",
    "print(' A','B','C','D','|','W','X','Y','Z','|','a','b','c','d','e','f','g','|','Display in 7 segment')\n",
    "for a1,b1,c1,d1 in zip(P1,Q1,R1,S1):\n",
    "    w,x,y,z=BCD_excess3_converter(a1,b1,c1,d1)\n",
    "    a,b,c,d,e,f,g=BChexD_7segment(w,x,y,z)\n",
    "    print('_________________________________________________________')\n",
    "    print('',a1,b1,c1,d1,'|',w,x,y,z,'|',a,b,c,d,e,f,g,'|\\t')\n",
    "    print('\\t\\t\\t',display_7_segment(a,b,c,d,e,f,g))\n",
    "print('_________________________________________________________')"
   ]
  },
  {
   "cell_type": "markdown",
   "id": "0433fa79",
   "metadata": {},
   "source": [
    "# $$\\text{Implementation of a full-adder with a decoder}$$\n",
    "<p align=\"center\">\n",
    "  <img src=\"img/Screenshot%20(5).png\" alt=\"drawing\" width=\"600\" height=\"600\" align=\"center\"/>\n",
    "</p>"
   ]
  },
  {
   "cell_type": "code",
   "execution_count": 102,
   "id": "ff8fe8f2",
   "metadata": {},
   "outputs": [],
   "source": [
    "def decoder_fullAdder(D0,D1,D2,D3,D4,D5,D6,D7):\n",
    "    #OR\n",
    "    S=OR(OR(D1,D2),OR(D4,D7))\n",
    "    C=OR(OR(D3,D5),OR(D6,D7))\n",
    "    return S,C"
   ]
  },
  {
   "cell_type": "code",
   "execution_count": 103,
   "id": "b2aa47b4",
   "metadata": {},
   "outputs": [
    {
     "name": "stdout",
     "output_type": "stream",
     "text": [
      "\tInput \t\t\t| Output\n",
      "x y z | D₀ D₁ D₂ D₃ D₄ D₅ D₆ D₇ | S C\n",
      "0 0 0 | 1  0  0  0  0  0  0  0  | 0 0\n",
      "0 0 1 | 0  1  0  0  0  0  0  0  | 1 0\n",
      "0 1 0 | 0  0  1  0  0  0  0  0  | 1 0\n",
      "0 1 1 | 0  0  0  1  0  0  0  0  | 0 1\n",
      "1 0 0 | 0  0  0  0  1  0  0  0  | 1 0\n",
      "1 0 1 | 0  0  0  0  0  1  0  0  | 0 1\n",
      "1 1 0 | 0  0  0  0  0  0  1  0  | 0 1\n",
      "1 1 1 | 0  0  0  0  0  0  0  1  | 1 1\n"
     ]
    }
   ],
   "source": [
    "print('\\tInput','\\t\\t\\t|','Output')\n",
    "print('x','y','z','|','D\\u2080','D\\u2081','D\\u2082','D\\u2083','D\\u2084','D\\u2085','D\\u2086','D\\u2087','|','S','C')\n",
    "for x,y,z in zip(X1,Y1,Z1):\n",
    "    D0,D1,D2,D3,D4,D5,D6,D7=decoder3_8(x,y,z)\n",
    "    S,C=decoder_fullAdder(D0,D1,D2,D3,D4,D5,D6,D7)\n",
    "    print(x,y,z,'|',D0,'',D1,'',D2,'',D3,'',D4,'',D5,'',D6,'',D7,' |',S,C)"
   ]
  },
  {
   "cell_type": "markdown",
   "id": "c51d51f4",
   "metadata": {},
   "source": [
    "# $$\\text{Octal-to-binary encoder}$$\n",
    "<p align=\"center\">\n",
    "  <img src=\"img/Screenshot%20(7).png\" alt=\"drawing\" width=\"600\" height=\"600\" align=\"center\"/>\n",
    "</p>"
   ]
  },
  {
   "cell_type": "code",
   "execution_count": 104,
   "id": "9de43eb6",
   "metadata": {},
   "outputs": [],
   "source": [
    "def Encoder_OctaltoBinary(D0,D1,D2,D3,D4,D5,D6,D7):\n",
    "    #OR\n",
    "    x=OR(OR(D4,D5),OR(D6,D7))\n",
    "    y=OR(OR(D2,D3),OR(D6,D7))\n",
    "    z=OR(OR(D1,D3),OR(D5,D7))\n",
    "    return x,y,z"
   ]
  },
  {
   "cell_type": "code",
   "execution_count": 105,
   "id": "05ee7414",
   "metadata": {},
   "outputs": [
    {
     "name": "stdout",
     "output_type": "stream",
     "text": [
      "\tInput \t\t\t| Output\n",
      "x y z | D₀ D₁ D₂ D₃ D₄ D₅ D₆ D₇ | X Y Z\n",
      "0 0 0 | 1  0  0  0  0  0  0  0  | 0 0 0\n",
      "0 0 1 | 0  1  0  0  0  0  0  0  | 0 0 1\n",
      "0 1 0 | 0  0  1  0  0  0  0  0  | 0 1 0\n",
      "0 1 1 | 0  0  0  1  0  0  0  0  | 0 1 1\n",
      "1 0 0 | 0  0  0  0  1  0  0  0  | 1 0 0\n",
      "1 0 1 | 0  0  0  0  0  1  0  0  | 1 0 1\n",
      "1 1 0 | 0  0  0  0  0  0  1  0  | 1 1 0\n",
      "1 1 1 | 0  0  0  0  0  0  0  1  | 1 1 1\n"
     ]
    }
   ],
   "source": [
    "print('\\tInput','\\t\\t\\t|','Output')\n",
    "print('x','y','z','|','D\\u2080','D\\u2081','D\\u2082','D\\u2083','D\\u2084','D\\u2085','D\\u2086','D\\u2087','|','X','Y','Z')\n",
    "for x,y,z in zip(X1,Y1,Z1):\n",
    "    D0,D1,D2,D3,D4,D5,D6,D7=decoder3_8(x,y,z)\n",
    "    x1,y1,z1=Encoder_OctaltoBinary(D0,D1,D2,D3,D4,D5,D6,D7)\n",
    "    print(x,y,z,'|',D0,'',D1,'',D2,'',D3,'',D4,'',D5,'',D6,'',D7,' |',x1,y1,z1)"
   ]
  },
  {
   "cell_type": "markdown",
   "id": "e11ea48d",
   "metadata": {},
   "source": [
    "# $$\\text{2-to-4 line decoder with enable (E) input}$$\n",
    "<p align=\"center\">\n",
    "  <img src=\"img/Screenshot%20(8).png\" alt=\"drawing\" width=\"600\" height=\"600\" align=\"center\"/>\n",
    "</p>"
   ]
  },
  {
   "cell_type": "code",
   "execution_count": 106,
   "id": "0e76a44a",
   "metadata": {},
   "outputs": [],
   "source": [
    "def decoder2to4(a,b,E):\n",
    "    #NOT\n",
    "    n1=NOT(a)\n",
    "    n2=NOT(b)\n",
    "    n3=NOT(E)\n",
    "    #NAND\n",
    "    A1=NOT(AND(AND(n1,n2),n3)) #D₀\n",
    "    A2=NOT(AND(AND(n1,b),n3))  #D₁\n",
    "    A3=NOT(AND(AND(a,n2),n3))  #D₂\n",
    "    A4=NOT(AND(AND(a,b),n3))   #D₃\n",
    "    return A1,A2,A3,A4"
   ]
  },
  {
   "cell_type": "code",
   "execution_count": 107,
   "id": "c922187f",
   "metadata": {},
   "outputs": [
    {
     "name": "stdout",
     "output_type": "stream",
     "text": [
      "Input  | Output\n",
      " E A B | D₀ D₁ D₂ D₃\n",
      " 0 0 0 | 0  1  1  1\n",
      " 0 0 1 | 1  0  1  1\n",
      " 0 1 0 | 1  1  0  1\n",
      " 0 1 1 | 1  1  1  0\n",
      "\u001b[1;30;43m 1 0 0 | 1  1  1  1 \u001b[0m\n",
      "\u001b[1;30;43m 1 0 1 | 1  1  1  1 \u001b[0m\n",
      "\u001b[1;30;43m 1 1 0 | 1  1  1  1 \u001b[0m\n",
      "\u001b[1;30;43m 1 1 1 | 1  1  1  1 \u001b[0m\n"
     ]
    }
   ],
   "source": [
    "print('Input',' |','Output')\n",
    "print(' E','A','B','|','D\\u2080','D\\u2081','D\\u2082','D\\u2083')\n",
    "for E in [0,1]:\n",
    "    for a,b in zip(A,B):\n",
    "        D0,D1,D2,D3=decoder2to4(a,b,E)\n",
    "        \n",
    "        if E==1:\n",
    "            print('\\033[1;30;43m',+E,a,b,'|',D0,'',D1,'',D2,'',D3,'\\033[0m')\n",
    "        else :\n",
    "            print('',E,a,b,'|',D0,'',D1,'',D2,'',D3)"
   ]
  },
  {
   "cell_type": "markdown",
   "id": "c357e034",
   "metadata": {},
   "source": [
    "# $$\\text{4-to-1 line multiplexer}$$\n",
    "<p align=\"center\">\n",
    "  <img src=\"img/Screenshot%20(9).png\" alt=\"drawing\" width=\"600\" height=\"600\" align=\"center\"/>\n",
    "</p>"
   ]
  },
  {
   "cell_type": "code",
   "execution_count": 108,
   "id": "1bcc4ea3",
   "metadata": {},
   "outputs": [],
   "source": [
    "def multiplexer4to1(I0,I1,I2,I3,S0,S1):\n",
    "    #NOT\n",
    "    n1=NOT(S0)\n",
    "    n2=NOT(S1)\n",
    "    #AND\n",
    "    A1=AND(AND(n1,n2),I0)\n",
    "    A2=AND(AND(S0,n2),I1)\n",
    "    A3=AND(AND(n1,S1),I2)\n",
    "    A4=AND(AND(S0,S1),I3)\n",
    "    #OR\n",
    "    Y=OR(OR(A1,A2),OR(A3,A4))\n",
    "    return Y"
   ]
  },
  {
   "cell_type": "code",
   "execution_count": 109,
   "id": "fa20bcce",
   "metadata": {},
   "outputs": [
    {
     "name": "stdout",
     "output_type": "stream",
     "text": [
      "\tInput \t   | Output\n",
      " I₀ I₁ I₂ I₃ S₀ S₁ | Y\n",
      " 0  0  0  0  0  0  | 0 \n",
      " 0  0  0  0  0  1  | 0 \n",
      " 0  0  0  0  1  0  | 0 \n",
      " 0  0  0  0  1  1  | 0 \n",
      " 0  0  0  1  0  0  | 0 \n",
      " 0  0  0  1  0  1  | 0 \n",
      " 0  0  0  1  1  0  | 0 \n",
      "\u001b[1;30;46m 0  0  0  1  1  1  | 1 I₃\u001b[0m\n",
      " 0  0  1  0  0  0  | 0 \n",
      "\u001b[1;30;46m 0  0  1  0  0  1  | 1 I₂\u001b[0m\n",
      " 0  0  1  0  1  0  | 0 \n",
      " 0  0  1  0  1  1  | 0 \n",
      " 0  0  1  1  0  0  | 0 \n",
      "\u001b[1;30;46m 0  0  1  1  0  1  | 1 I₂\u001b[0m\n",
      " 0  0  1  1  1  0  | 0 \n",
      "\u001b[1;30;46m 0  0  1  1  1  1  | 1 I₂\u001b[0m\n",
      " 0  1  0  0  0  0  | 0 \n",
      " 0  1  0  0  0  1  | 0 \n",
      "\u001b[1;30;46m 0  1  0  0  1  0  | 1 I₁\u001b[0m\n",
      " 0  1  0  0  1  1  | 0 \n",
      " 0  1  0  1  0  0  | 0 \n",
      " 0  1  0  1  0  1  | 0 \n",
      "\u001b[1;30;46m 0  1  0  1  1  0  | 1 I₁\u001b[0m\n",
      "\u001b[1;30;46m 0  1  0  1  1  1  | 1 I₁\u001b[0m\n",
      " 0  1  1  0  0  0  | 0 \n",
      "\u001b[1;30;46m 0  1  1  0  0  1  | 1 I₁\u001b[0m\n",
      "\u001b[1;30;46m 0  1  1  0  1  0  | 1 I₁\u001b[0m\n",
      " 0  1  1  0  1  1  | 0 \n",
      " 0  1  1  1  0  0  | 0 \n",
      "\u001b[1;30;46m 0  1  1  1  0  1  | 1 I₁\u001b[0m\n",
      "\u001b[1;30;46m 0  1  1  1  1  0  | 1 I₁\u001b[0m\n",
      "\u001b[1;30;46m 0  1  1  1  1  1  | 1 I₁\u001b[0m\n",
      "\u001b[1;30;46m 1  0  0  0  0  0  | 1 I₀\u001b[0m\n",
      " 1  0  0  0  0  1  | 0 \n",
      " 1  0  0  0  1  0  | 0 \n",
      " 1  0  0  0  1  1  | 0 \n",
      "\u001b[1;30;46m 1  0  0  1  0  0  | 1 I₀\u001b[0m\n",
      " 1  0  0  1  0  1  | 0 \n",
      " 1  0  0  1  1  0  | 0 \n",
      "\u001b[1;30;46m 1  0  0  1  1  1  | 1 I₀\u001b[0m\n",
      "\u001b[1;30;46m 1  0  1  0  0  0  | 1 I₀\u001b[0m\n",
      "\u001b[1;30;46m 1  0  1  0  0  1  | 1 I₀\u001b[0m\n",
      " 1  0  1  0  1  0  | 0 \n",
      " 1  0  1  0  1  1  | 0 \n",
      "\u001b[1;30;46m 1  0  1  1  0  0  | 1 I₀\u001b[0m\n",
      "\u001b[1;30;46m 1  0  1  1  0  1  | 1 I₀\u001b[0m\n",
      " 1  0  1  1  1  0  | 0 \n",
      "\u001b[1;30;46m 1  0  1  1  1  1  | 1 I₀\u001b[0m\n",
      "\u001b[1;30;46m 1  1  0  0  0  0  | 1 I₀\u001b[0m\n",
      " 1  1  0  0  0  1  | 0 \n",
      "\u001b[1;30;46m 1  1  0  0  1  0  | 1 I₀\u001b[0m\n",
      " 1  1  0  0  1  1  | 0 \n",
      "\u001b[1;30;46m 1  1  0  1  0  0  | 1 I₀\u001b[0m\n",
      " 1  1  0  1  0  1  | 0 \n",
      "\u001b[1;30;46m 1  1  0  1  1  0  | 1 I₀\u001b[0m\n",
      "\u001b[1;30;46m 1  1  0  1  1  1  | 1 I₀\u001b[0m\n",
      "\u001b[1;30;46m 1  1  1  0  0  0  | 1 I₀\u001b[0m\n",
      "\u001b[1;30;46m 1  1  1  0  0  1  | 1 I₀\u001b[0m\n",
      "\u001b[1;30;46m 1  1  1  0  1  0  | 1 I₀\u001b[0m\n",
      " 1  1  1  0  1  1  | 0 \n",
      "\u001b[1;30;46m 1  1  1  1  0  0  | 1 I₀\u001b[0m\n",
      "\u001b[1;30;46m 1  1  1  1  0  1  | 1 I₀\u001b[0m\n",
      "\u001b[1;30;46m 1  1  1  1  1  0  | 1 I₀\u001b[0m\n",
      "\u001b[1;30;46m 1  1  1  1  1  1  | 1 I₀\u001b[0m\n"
     ]
    }
   ],
   "source": [
    "print('\\tInput','\\t   |','Output')\n",
    "print(' I\\u2080','I\\u2081','I\\u2082','I\\u2083','S\\u2080','S\\u2081','|','Y')\n",
    "for I0,I1,I2,I3 in zip(P1,Q1,R1,S1):\n",
    "    for S0,S1 in zip(A,B):\n",
    "        Y= multiplexer4to1(I0,I1,I2,I3,S0,S1)\n",
    "        if (I0==1)&(Y==1): \n",
    "            s='I\\u2080'\n",
    "        elif (I1==1)&(Y==1): \n",
    "            s='I\\u2081'\n",
    "        elif (I2==1)&(Y==1): \n",
    "            s='I\\u2082'\n",
    "        elif (I3==1)&(Y==1): \n",
    "            s='I\\u2083'\n",
    "        else: \n",
    "            s=''\n",
    "            \n",
    "        if Y==1:\n",
    "            print('\\033[1;30;46m',+I0,'',I1,'',I2,'',I3,'',S0,'',S1,' |',Y,s+'\\033[0m')\n",
    "        else :\n",
    "            print('',I0,'',I1,'',I2,'',I3,'',S0,'',S1,' |',Y,s)"
   ]
  },
  {
   "cell_type": "code",
   "execution_count": 110,
   "id": "dc3a8901",
   "metadata": {},
   "outputs": [
    {
     "name": "stdout",
     "output_type": "stream",
     "text": [
      "\tInput \t   | Output\n",
      "I₀ I₁ I₂ I₃ S₀ S₁  | Y\n",
      "\u001b[1;30;46m 1  0  0  0  0  0  | 1 I₀\u001b[0m\n",
      " 1  0  0  0  0  1  | 0 \n",
      " 1  0  0  0  1  0  | 0 \n",
      " 1  0  0  0  1  1  | 0 \n",
      " 0  1  0  0  0  0  | 0 \n",
      " 0  1  0  0  0  1  | 0 \n",
      "\u001b[1;30;46m 0  1  0  0  1  0  | 1 I₁\u001b[0m\n",
      " 0  1  0  0  1  1  | 0 \n",
      " 0  0  1  0  0  0  | 0 \n",
      "\u001b[1;30;46m 0  0  1  0  0  1  | 1 I₂\u001b[0m\n",
      " 0  0  1  0  1  0  | 0 \n",
      " 0  0  1  0  1  1  | 0 \n",
      " 0  0  0  1  0  0  | 0 \n",
      " 0  0  0  1  0  1  | 0 \n",
      " 0  0  0  1  1  0  | 0 \n",
      "\u001b[1;30;46m 0  0  0  1  1  1  | 1 I₃\u001b[0m\n"
     ]
    }
   ],
   "source": [
    "I=([1,0,0,0],\n",
    "   [0,1,0,0],\n",
    "   [0,0,1,0],\n",
    "   [0,0,0,1])\n",
    "\n",
    "print('\\tInput','\\t   |','Output')\n",
    "print('I\\u2080','I\\u2081','I\\u2082','I\\u2083','S\\u2080','S\\u2081',' |','Y')\n",
    "\n",
    "for I0,I1,I2,I3 in (I):\n",
    "    for S0,S1 in zip(A,B):\n",
    "        Y= multiplexer4to1(I0,I1,I2,I3,S0,S1)\n",
    "        if (I0==1)&(Y==1): \n",
    "            s='I\\u2080'\n",
    "        elif (I1==1)&(Y==1): \n",
    "            s='I\\u2081'\n",
    "        elif (I2==1)&(Y==1): \n",
    "            s='I\\u2082'\n",
    "        elif (I3==1)&(Y==1): \n",
    "            s='I\\u2083'\n",
    "        else: \n",
    "            s=''\n",
    "            \n",
    "        if Y==1:\n",
    "            print('\\033[1;30;46m',+I0,'',I1,'',I2,'',I3,'',S0,'',S1,' |',Y,s+'\\033[0m')\n",
    "        else :\n",
    "            print('',I0,'',I1,'',I2,'',I3,'',S0,'',S1,' |',Y,s)"
   ]
  },
  {
   "cell_type": "code",
   "execution_count": null,
   "id": "338e54aa",
   "metadata": {},
   "outputs": [],
   "source": []
  }
 ],
 "metadata": {
  "kernelspec": {
   "display_name": "Python 3 (ipykernel)",
   "language": "python",
   "name": "python3"
  },
  "language_info": {
   "codemirror_mode": {
    "name": "ipython",
    "version": 3
   },
   "file_extension": ".py",
   "mimetype": "text/x-python",
   "name": "python",
   "nbconvert_exporter": "python",
   "pygments_lexer": "ipython3",
   "version": "3.9.12"
  }
 },
 "nbformat": 4,
 "nbformat_minor": 5
}
