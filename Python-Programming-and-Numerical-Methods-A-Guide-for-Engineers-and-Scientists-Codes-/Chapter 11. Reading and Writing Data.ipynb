{
 "cells": [
  {
   "cell_type": "markdown",
   "id": "dc3a520f",
   "metadata": {},
   "source": [
    "## 1. Create a list and save it in a text file that each of the item in the list will take one line."
   ]
  },
  {
   "cell_type": "code",
   "execution_count": 1,
   "id": "fd06e675",
   "metadata": {},
   "outputs": [],
   "source": [
    "# Example list\n",
    "my_list = ['Apple', 'Banana', 'Orange', 'Mango']\n",
    "\n",
    "# Define the file path\n",
    "file_path = 'list_items.txt'\n",
    "\n",
    "# Open the file in write mode\n",
    "with open(file_path, 'w') as file:\n",
    "    # Write each item in the list to a new line\n",
    "    for item in my_list:\n",
    "        file.write(item + '\\n')"
   ]
  },
  {
   "cell_type": "code",
   "execution_count": 2,
   "id": "ed456ecd",
   "metadata": {},
   "outputs": [
    {
     "name": "stdout",
     "output_type": "stream",
     "text": [
      "Apple\n",
      "Banana\n",
      "Orange\n",
      "Mango\n",
      "\n",
      "\n"
     ]
    }
   ],
   "source": [
    "file=open('list_items.txt',\"r\")\n",
    "\n",
    "print(file.read())\n",
    "print()"
   ]
  },
  {
   "cell_type": "markdown",
   "id": "33156dd1",
   "metadata": {},
   "source": [
    "## 2. Save the same list in problem 1 to a CSV file."
   ]
  },
  {
   "cell_type": "code",
   "execution_count": 3,
   "id": "e1e355cd",
   "metadata": {},
   "outputs": [],
   "source": [
    "import csv\n",
    "\n",
    "# Example list\n",
    "my_list = ['Apple', 'Banana', 'Orange', 'Mango']\n",
    "\n",
    "# Define the file path\n",
    "file_path = 'list_items.csv'\n",
    "\n",
    "# Open the file in write mode\n",
    "with open(file_path, 'w', newline='') as file:\n",
    "    # Create a CSV writer object\n",
    "    writer = csv.writer(file)\n",
    "\n",
    "    # Write each item in the list as a row\n",
    "    for item in my_list:\n",
    "        writer.writerow([item])"
   ]
  },
  {
   "cell_type": "code",
   "execution_count": 4,
   "id": "5095245d",
   "metadata": {},
   "outputs": [
    {
     "name": "stdout",
     "output_type": "stream",
     "text": [
      "['Apple']\n",
      "['Banana']\n",
      "['Orange']\n",
      "['Mango']\n"
     ]
    }
   ],
   "source": [
    "# Create an empty list to store the data\n",
    "data = []\n",
    "\n",
    "# Open the CSV file\n",
    "with open(file_path, \"r\") as file:\n",
    "    # Create a CSV reader object\n",
    "    reader = csv.reader(file)\n",
    "    \n",
    "    # Iterate over each row in the CSV file\n",
    "    for row in reader:\n",
    "        # Append each row to the data list\n",
    "        data.append(row)\n",
    "\n",
    "# Print the data\n",
    "for row in data:\n",
    "    print(row)"
   ]
  },
  {
   "cell_type": "code",
   "execution_count": 5,
   "id": "9199ad1d",
   "metadata": {},
   "outputs": [
    {
     "data": {
      "text/html": [
       "<div>\n",
       "<style scoped>\n",
       "    .dataframe tbody tr th:only-of-type {\n",
       "        vertical-align: middle;\n",
       "    }\n",
       "\n",
       "    .dataframe tbody tr th {\n",
       "        vertical-align: top;\n",
       "    }\n",
       "\n",
       "    .dataframe thead th {\n",
       "        text-align: right;\n",
       "    }\n",
       "</style>\n",
       "<table border=\"1\" class=\"dataframe\">\n",
       "  <thead>\n",
       "    <tr style=\"text-align: right;\">\n",
       "      <th></th>\n",
       "      <th>Apple</th>\n",
       "    </tr>\n",
       "  </thead>\n",
       "  <tbody>\n",
       "    <tr>\n",
       "      <th>0</th>\n",
       "      <td>Banana</td>\n",
       "    </tr>\n",
       "    <tr>\n",
       "      <th>1</th>\n",
       "      <td>Orange</td>\n",
       "    </tr>\n",
       "    <tr>\n",
       "      <th>2</th>\n",
       "      <td>Mango</td>\n",
       "    </tr>\n",
       "  </tbody>\n",
       "</table>\n",
       "</div>"
      ],
      "text/plain": [
       "    Apple\n",
       "0  Banana\n",
       "1  Orange\n",
       "2   Mango"
      ]
     },
     "execution_count": 5,
     "metadata": {},
     "output_type": "execute_result"
    }
   ],
   "source": [
    "import pandas as pd\n",
    "\n",
    "pd.read_csv('list_items.csv')"
   ]
  },
  {
   "cell_type": "markdown",
   "id": "7f2b72e4",
   "metadata": {},
   "source": [
    "## 3. Create a 2D numpy array, and save it to CSV file and read it back to a 2D array."
   ]
  },
  {
   "cell_type": "code",
   "execution_count": 6,
   "id": "3fa6c6be",
   "metadata": {},
   "outputs": [
    {
     "name": "stdout",
     "output_type": "stream",
     "text": [
      "Original array:\n",
      "[[1 2 3]\n",
      " [4 5 6]\n",
      " [7 8 9]]\n",
      "\n",
      "Read array:\n",
      "[[1. 2. 3.]\n",
      " [4. 5. 6.]\n",
      " [7. 8. 9.]]\n"
     ]
    }
   ],
   "source": [
    "import numpy as np\n",
    "\n",
    "# Create a 2D array\n",
    "my_array = np.array([[1, 2, 3], [4, 5, 6], [7, 8, 9]])\n",
    "\n",
    "# Define the file path\n",
    "file_path = 'array_data.csv'\n",
    "\n",
    "# Save the array to a CSV file\n",
    "with open(file_path, 'w', newline='') as file:\n",
    "    writer = csv.writer(file)\n",
    "    writer.writerows(my_array)\n",
    "\n",
    "# Read the CSV file back into a 2D array\n",
    "read_array = np.genfromtxt(file_path, delimiter=',')\n",
    "\n",
    "# Print the original and read arrays\n",
    "print(\"Original array:\")\n",
    "print(my_array)\n",
    "print(\"\\nRead array:\")\n",
    "print(read_array)"
   ]
  },
  {
   "cell_type": "markdown",
   "id": "7132d07a",
   "metadata": {},
   "source": [
    "## 4. Save the same array in problem 2 to a pickle file and load it back."
   ]
  },
  {
   "cell_type": "code",
   "execution_count": 7,
   "id": "b83ee976",
   "metadata": {},
   "outputs": [
    {
     "name": "stdout",
     "output_type": "stream",
     "text": [
      "Original array:\n",
      "[[1 2 3]\n",
      " [4 5 6]\n",
      " [7 8 9]]\n",
      "\n",
      "Loaded array:\n",
      "[[1 2 3]\n",
      " [4 5 6]\n",
      " [7 8 9]]\n"
     ]
    }
   ],
   "source": [
    "import pickle\n",
    "\n",
    "# Create a 2D array\n",
    "my_array = np.array([[1, 2, 3], [4, 5, 6], [7, 8, 9]])\n",
    "\n",
    "# Define the file path\n",
    "file_path = 'array_data.pickle'\n",
    "\n",
    "# Save the array to a pickle file\n",
    "with open(file_path, 'wb') as file:\n",
    "    pickle.dump(my_array, file)\n",
    "\n",
    "# Load the pickle file back into a 2D array\n",
    "with open(file_path, 'rb') as file:\n",
    "    loaded_array = pickle.load(file)\n",
    "\n",
    "# Print the original and loaded arrays\n",
    "print(\"Original array:\")\n",
    "print(my_array)\n",
    "print(\"\\nLoaded array:\")\n",
    "print(loaded_array)"
   ]
  },
  {
   "cell_type": "markdown",
   "id": "2ab966b8",
   "metadata": {},
   "source": [
    "## 5. Create a dictionary and save it to a JSON file."
   ]
  },
  {
   "cell_type": "code",
   "execution_count": 8,
   "id": "2141cae7",
   "metadata": {},
   "outputs": [],
   "source": [
    "import json\n",
    "\n",
    "# Create a dictionary\n",
    "my_dict = {\n",
    "            \"name\": \"John Doe\",\n",
    "            \"age\": 30,\n",
    "            \"city\": \"New York\"\n",
    "          }\n",
    "\n",
    "# Define the file path\n",
    "file_path = 'dictionary_data.json'\n",
    "\n",
    "# Save the dictionary to a JSON file\n",
    "with open(file_path, 'w') as file:\n",
    "    json.dump(my_dict, file)"
   ]
  },
  {
   "cell_type": "code",
   "execution_count": 9,
   "id": "d22ace7a",
   "metadata": {},
   "outputs": [
    {
     "name": "stdout",
     "output_type": "stream",
     "text": [
      "{\n",
      "    \"name\": \"John Doe\",\n",
      "    \"age\": 30,\n",
      "    \"city\": \"New York\"\n",
      "}\n"
     ]
    }
   ],
   "source": [
    "with open(file_path, \"r\") as file:\n",
    "    loaded_data = json.load(file)\n",
    "\n",
    "# Convert the loaded data to a string\n",
    "json_string = json.dumps(loaded_data, indent=4)\n",
    "\n",
    "# Print the JSON string\n",
    "print(json_string)"
   ]
  },
  {
   "cell_type": "markdown",
   "id": "6456b40c",
   "metadata": {},
   "source": [
    "## 6. Create a 1D numpy array, and save it to a JSON file with the key named ‘data’.        \n",
    "## $ \\ \\ \\$ Then load it back."
   ]
  },
  {
   "cell_type": "code",
   "execution_count": 10,
   "id": "b612abe5",
   "metadata": {},
   "outputs": [
    {
     "name": "stdout",
     "output_type": "stream",
     "text": [
      "Loaded Array: [1 2 3 4 5]\n"
     ]
    }
   ],
   "source": [
    "# Create a 1D NumPy array\n",
    "my_array = np.array([1, 2, 3, 4, 5])\n",
    "\n",
    "# Convert the array to a Python list\n",
    "data = my_array.tolist()\n",
    "\n",
    "# Create a dictionary with the array data\n",
    "data_dict = {\"data\": data}\n",
    "\n",
    "# Define the file path\n",
    "file_path = \"array_data.json\"\n",
    "\n",
    "# Save the data dictionary to a JSON file\n",
    "with open(file_path, \"w\") as file:\n",
    "    json.dump(data_dict, file)\n",
    "\n",
    "# Load the JSON file and retrieve the array\n",
    "with open(file_path, \"r\") as file:\n",
    "    loaded_data = json.load(file)\n",
    "    loaded_array = np.array(loaded_data[\"data\"])\n",
    "\n",
    "print(\"Loaded Array:\", loaded_array)"
   ]
  }
 ],
 "metadata": {
  "kernelspec": {
   "display_name": "Python 3 (ipykernel)",
   "language": "python",
   "name": "python3"
  },
  "language_info": {
   "codemirror_mode": {
    "name": "ipython",
    "version": 3
   },
   "file_extension": ".py",
   "mimetype": "text/x-python",
   "name": "python",
   "nbconvert_exporter": "python",
   "pygments_lexer": "ipython3",
   "version": "3.10.9"
  }
 },
 "nbformat": 4,
 "nbformat_minor": 5
}
