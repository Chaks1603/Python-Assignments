{
 "cells": [
  {
   "cell_type": "code",
   "execution_count": 17,
   "id": "6fac8de7",
   "metadata": {},
   "outputs": [],
   "source": [
    "import numpy as np\n",
    "from sympy import *\n",
    "from IPython.display import display, Math"
   ]
  },
  {
   "cell_type": "markdown",
   "id": "58959b92",
   "metadata": {},
   "source": [
    "1. \n",
    "Recall that the hyperbolic sine, denoted by sinh, is $\\displaystyle\\sinh(x)=\\frac{\\exp(x)−\\exp(−x)}{2}$                      \n",
    "Write a function `my_sinh(x)` where the output y is the hyperbolic sine computed on x. Assume that x is a 1 by 1 float.        \n",
    "Test Cases:                                                                                                                       \n",
    "In: my_sinh(0)                                                                                                                  \n",
    "Out: 0                                                                                                                                    \n",
    "In: my_sinh(1)                                                                                                                \n",
    "Out: 1.1752                                                                                                                     \n",
    "In: my_sinh(2)                                                                                                                \n",
    "Out: 3.6269"
   ]
  },
  {
   "cell_type": "code",
   "execution_count": 2,
   "id": "eac7d062",
   "metadata": {},
   "outputs": [],
   "source": [
    "def my_sinh(x):\n",
    "    y=(np.exp(x)-np.exp(-x))*0.5\n",
    "    return y"
   ]
  },
  {
   "cell_type": "code",
   "execution_count": 3,
   "id": "5032a4f2",
   "metadata": {},
   "outputs": [
    {
     "data": {
      "text/plain": [
       "0.0"
      ]
     },
     "execution_count": 3,
     "metadata": {},
     "output_type": "execute_result"
    }
   ],
   "source": [
    "my_sinh(0)"
   ]
  },
  {
   "cell_type": "code",
   "execution_count": 4,
   "id": "8097d8d1",
   "metadata": {},
   "outputs": [
    {
     "data": {
      "text/plain": [
       "1.1752011936438014"
      ]
     },
     "execution_count": 4,
     "metadata": {},
     "output_type": "execute_result"
    }
   ],
   "source": [
    "my_sinh(1)"
   ]
  },
  {
   "cell_type": "code",
   "execution_count": 5,
   "id": "d6292ad9",
   "metadata": {},
   "outputs": [
    {
     "data": {
      "text/plain": [
       "3.626860407847019"
      ]
     },
     "execution_count": 5,
     "metadata": {},
     "output_type": "execute_result"
    }
   ],
   "source": [
    "my_sinh(2)"
   ]
  },
  {
   "cell_type": "markdown",
   "id": "0c3d4c77",
   "metadata": {},
   "source": [
    "2. Write a function `my_checker_board(n)` where the output m is an n×n array with the following form:\n",
    "\n",
    "$\\qquad\\qquad m =\\begin{matrix} 1& 0& 1& 0& 1 \\\\ 0& 1& 0& 1& 0\\\\ 1& 0& 1& 0& 1\\\\ 0& 1& 0& 1& 0\\\\ 1& 0& 1& 0& 1 \\end{matrix}$\n",
    "\n",
    "Note that the upper-left element should always be 1. Assume that n is a strictly positive integer.                            \n",
    "Test Cases:                                                                                                                    \n",
    "In: my_checker_board(1)                                                                                                      \n",
    "Out: 1                                                                                                                       \n",
    "\n",
    "In: my_checker_board(2)                                                                                                         \n",
    "Out: array([[1, 0],                                                                                                               \n",
    "$\\qquad \\ \\ \\ \\quad$[0, 1]])\n",
    "\n",
    "\n",
    "In: y = my_checker_board(3)                                                                                                                  \n",
    "Out: array([[1, 0, 1],                                                                                                           \n",
    "$\\qquad \\ \\ \\ \\quad$[0, 1, 0],                                                                                                       \n",
    "$\\qquad \\ \\ \\ \\quad$[1, 0, 1]])\n",
    "\n",
    "In: y = my_checker_board(5)                                                                                                               \n",
    "Out: array([[1, 0, 1, 0, 1],                                                                                                  \n",
    "$\\qquad \\ \\ \\ \\quad$[0, 1, 0, 1, 0],                                                                                                \n",
    "$\\qquad \\ \\ \\ \\quad$[1, 0, 1, 0, 1],                                                                                             \n",
    "$\\qquad \\ \\ \\ \\quad$[0, 1, 0, 1, 0],                                                                                          \n",
    "$\\qquad \\ \\ \\ \\quad$[1, 0, 1, 0, 1]])       "
   ]
  },
  {
   "cell_type": "code",
   "execution_count": 6,
   "id": "66469992",
   "metadata": {},
   "outputs": [],
   "source": [
    "def my_checker_board(n):\n",
    "    m = np.zeros((n, n), dtype=int)  # Initialize an n×n array filled with zeros\n",
    "    m[::2, ::2] = 1  # Set elements at even row and even column indices to 1\n",
    "    m[1::2, 1::2] = 1  # Set elements at odd row and odd column indices to 1\n",
    "    return m"
   ]
  },
  {
   "cell_type": "code",
   "execution_count": 7,
   "id": "d5d94505",
   "metadata": {},
   "outputs": [
    {
     "data": {
      "text/plain": [
       "array([[1]])"
      ]
     },
     "execution_count": 7,
     "metadata": {},
     "output_type": "execute_result"
    }
   ],
   "source": [
    "my_checker_board(1)"
   ]
  },
  {
   "cell_type": "code",
   "execution_count": 8,
   "id": "994f7464",
   "metadata": {},
   "outputs": [
    {
     "data": {
      "text/plain": [
       "array([[1, 0],\n",
       "       [0, 1]])"
      ]
     },
     "execution_count": 8,
     "metadata": {},
     "output_type": "execute_result"
    }
   ],
   "source": [
    "my_checker_board(2)"
   ]
  },
  {
   "cell_type": "code",
   "execution_count": 9,
   "id": "1318adf3",
   "metadata": {},
   "outputs": [
    {
     "data": {
      "text/plain": [
       "array([[1, 0, 1],\n",
       "       [0, 1, 0],\n",
       "       [1, 0, 1]])"
      ]
     },
     "execution_count": 9,
     "metadata": {},
     "output_type": "execute_result"
    }
   ],
   "source": [
    "my_checker_board(3)"
   ]
  },
  {
   "cell_type": "code",
   "execution_count": 10,
   "id": "f87637b9",
   "metadata": {},
   "outputs": [
    {
     "data": {
      "text/plain": [
       "array([[1, 0, 1, 0, 1],\n",
       "       [0, 1, 0, 1, 0],\n",
       "       [1, 0, 1, 0, 1],\n",
       "       [0, 1, 0, 1, 0],\n",
       "       [1, 0, 1, 0, 1]])"
      ]
     },
     "execution_count": 10,
     "metadata": {},
     "output_type": "execute_result"
    }
   ],
   "source": [
    "my_checker_board(5)"
   ]
  },
  {
   "cell_type": "markdown",
   "id": "7cce2166",
   "metadata": {},
   "source": [
    "3. \n",
    "Write a function `my_triangle(b,h)` where the output is the area of a triangle with base, b, and height, h.              \n",
    "Recall that the area of a triangle is one-half the base times the height. Assume that b and h are just 1 by 1 float numbers. \n",
    "\n",
    "Test Cases:                                                                                                                 \n",
    "\n",
    "In: my_triangle(1, 1)                                                                                                        \n",
    "Out: 0.5                                                                                                                     \n",
    "\n",
    "In: my_triangle(2, 1)                                                                                                             \n",
    "Out: 1                                                                                                                       \n",
    "\n",
    "In: my_triangle(12, 5)                                                                                                           \n",
    "Out: 30"
   ]
  },
  {
   "cell_type": "code",
   "execution_count": 11,
   "id": "6101128b",
   "metadata": {},
   "outputs": [],
   "source": [
    "def my_triangle(b, h):\n",
    "    area = 0.5 * b * h  # Calculate the area of the triangle\n",
    "    return area"
   ]
  },
  {
   "cell_type": "code",
   "execution_count": 12,
   "id": "080b6f49",
   "metadata": {},
   "outputs": [
    {
     "data": {
      "text/plain": [
       "0.5"
      ]
     },
     "execution_count": 12,
     "metadata": {},
     "output_type": "execute_result"
    }
   ],
   "source": [
    "my_triangle(1, 1)"
   ]
  },
  {
   "cell_type": "code",
   "execution_count": 13,
   "id": "74ebce1e",
   "metadata": {},
   "outputs": [
    {
     "data": {
      "text/plain": [
       "1.0"
      ]
     },
     "execution_count": 13,
     "metadata": {},
     "output_type": "execute_result"
    }
   ],
   "source": [
    "my_triangle(2, 1)"
   ]
  },
  {
   "cell_type": "code",
   "execution_count": 14,
   "id": "52dedfe4",
   "metadata": {},
   "outputs": [
    {
     "data": {
      "text/plain": [
       "30.0"
      ]
     },
     "execution_count": 14,
     "metadata": {},
     "output_type": "execute_result"
    }
   ],
   "source": [
    "my_triangle(12, 5)"
   ]
  },
  {
   "cell_type": "markdown",
   "id": "14be72b3",
   "metadata": {},
   "source": [
    "4. \n",
    "Write a function `my_split_matrix(m)`, where m is an array, the output is a list [m1, m2] where m1 is the left half of m, and m2 is the right half of m.                                                                                             \n",
    "In the case where there is an odd number of columns, the middle column should go to m1. Assume that m has at least two columns.\n",
    "\n",
    "Test Cases:\n",
    "\n",
    "In: m = np.array([[1, 2, 3], [4, 5, 6], [7, 8, 9]])                                                                             \n",
    "In: m1, m2 = my_split_matrix(m)                                                                                                 \n",
    "Out: m1 =$\\ $array([[1, 2],                                                                                                           \n",
    "$\\qquad\\qquad\\quad \\ \\ \\ $[4, 5],                                                                                                \n",
    "$\\qquad\\qquad\\quad \\ \\ \\ $[7, 8]])                                                                                                   \n",
    "Out: m2 = array([3, 6, 9])                                                                                                       \n",
    "\n",
    "In: m = np.ones((5, 5))                                                                                                           \n",
    "In: m1, m2 = my_split_matrix(m)                                                                                               \n",
    "Out: m1 = array([[1., 1., 1.],                                                                                                     \n",
    "$\\qquad\\qquad\\quad \\ \\ \\ $[1., 1., 1.],                                                                                                                \n",
    "$\\qquad\\qquad\\quad \\ \\ \\ $[1., 1., 1.],                                                                                                                \n",
    "$\\qquad\\qquad\\quad \\ \\ \\ $[1., 1., 1.],                                                                                                                \n",
    "$\\qquad\\qquad\\quad \\ \\ \\ $[1., 1., 1.]])                                                                                                                \n",
    "Out: m2 = array([[1., 1.],                                                                                                                \n",
    "$\\qquad\\qquad\\quad \\ \\ \\ $[1., 1.],                                                                                                                    \n",
    "$\\qquad\\qquad\\quad \\ \\ \\ $[1., 1.],                                                                                                                    \n",
    "$\\qquad\\qquad\\quad \\ \\ \\ $[1., 1.],                                                                                                                    \n",
    "$\\qquad\\qquad\\quad \\ \\ \\ $[1., 1.]])"
   ]
  },
  {
   "cell_type": "code",
   "execution_count": 20,
   "id": "4a29c2b1",
   "metadata": {},
   "outputs": [],
   "source": [
    "def my_split_matrix(m):\n",
    "    rows, columns = m.shape  # Get the number of rows and columns in the matrix \n",
    "    split_index = columns // 2 + columns % 2     # Calculate the index to split the columns\n",
    "\n",
    "    # Split the matrix into left and right halves\n",
    "    m1 = m[:, :split_index]\n",
    "    m2 = m[:, split_index:]\n",
    "    display(Math('m_1='+latex(Matrix(m1))+'m_2='+latex(Matrix(m2))))\n",
    "    return [m1, m2]"
   ]
  },
  {
   "cell_type": "code",
   "execution_count": 21,
   "id": "1b06d9f6",
   "metadata": {},
   "outputs": [
    {
     "data": {
      "text/latex": [
       "$\\displaystyle m_1=\\left[\\begin{matrix}1 & 2\\\\4 & 5\\\\7 & 8\\end{matrix}\\right]m_2=\\left[\\begin{matrix}3\\\\6\\\\9\\end{matrix}\\right]$"
      ],
      "text/plain": [
       "<IPython.core.display.Math object>"
      ]
     },
     "metadata": {},
     "output_type": "display_data"
    }
   ],
   "source": [
    "m = np.array([[1, 2, 3], [4, 5, 6], [7, 8, 9]])\n",
    "m1, m2 = my_split_matrix(m)"
   ]
  },
  {
   "cell_type": "code",
   "execution_count": 22,
   "id": "227997e9",
   "metadata": {},
   "outputs": [
    {
     "data": {
      "text/latex": [
       "$\\displaystyle m_1=\\left[\\begin{matrix}1.0 & 1.0 & 1.0\\\\1.0 & 1.0 & 1.0\\\\1.0 & 1.0 & 1.0\\\\1.0 & 1.0 & 1.0\\\\1.0 & 1.0 & 1.0\\end{matrix}\\right]m_2=\\left[\\begin{matrix}1.0 & 1.0\\\\1.0 & 1.0\\\\1.0 & 1.0\\\\1.0 & 1.0\\\\1.0 & 1.0\\end{matrix}\\right]$"
      ],
      "text/plain": [
       "<IPython.core.display.Math object>"
      ]
     },
     "metadata": {},
     "output_type": "display_data"
    }
   ],
   "source": [
    "m = np.ones((5, 5))\n",
    "m1, m2 = my_split_matrix(m)"
   ]
  },
  {
   "cell_type": "markdown",
   "id": "ca6999b0",
   "metadata": {},
   "source": [
    "5. Write a function `my_cylinder(r,h)`, where r and h are the radius and height of a cylinder, respectively, and the output is a list [s, v] where s and v are the surface area and volume of the same cylinder, respectively. Recall that the surface area of a cylinder is $2\\pi r^2+ 2\\pi rh,$ and the volume is $\\pi r^2 h$. Assume that r and h are 1 by 1 floats.\n",
    "\n",
    "Test Cases:                                                                                                                      \n",
    "In: my_cylinder(1,5)                                                                                                             \n",
    "Out: [37.6991, 15.7080]                                                                                                     "
   ]
  },
  {
   "cell_type": "code",
   "execution_count": 28,
   "id": "74eb94f4",
   "metadata": {},
   "outputs": [],
   "source": [
    "def my_cylinder(r, h):\n",
    "    s = (2 * np.pi * r**2) + (2 * np.pi * r * h)\n",
    "    v = np.pi * r**2 * h\n",
    "    return [s, v]"
   ]
  },
  {
   "cell_type": "code",
   "execution_count": 29,
   "id": "8007d61e",
   "metadata": {},
   "outputs": [
    {
     "data": {
      "text/plain": [
       "[37.69911184307752, 15.707963267948966]"
      ]
     },
     "execution_count": 29,
     "metadata": {},
     "output_type": "execute_result"
    }
   ],
   "source": [
    "my_cylinder(1,5)"
   ]
  },
  {
   "cell_type": "markdown",
   "id": "3bfc8156",
   "metadata": {},
   "source": [
    "6. Write a function my_n_odds(a), where a is a one-dimensional array of floats and the output is the number of odd numbers in a.\n",
    "\n",
    "Test Cases:                                                                                                                 \n",
    "\n",
    "In: my_n_odds(np.arange(100))                                                                                                       \n",
    "Out: 50                                                                                                                     \n",
    "\n",
    "In: my_n_odds(np.arange(2, 100, 2))                                                                                               \n",
    "Out: 0"
   ]
  },
  {
   "cell_type": "code",
   "execution_count": 33,
   "id": "fdb9f771",
   "metadata": {},
   "outputs": [],
   "source": [
    "def my_n_odds(a):\n",
    "    odds = np.count_nonzero(a % 2 != 0)  # Count the number of non-zero remainders when divided by 2\n",
    "    return odds"
   ]
  },
  {
   "cell_type": "code",
   "execution_count": 34,
   "id": "a1550cd6",
   "metadata": {},
   "outputs": [
    {
     "data": {
      "text/plain": [
       "50"
      ]
     },
     "execution_count": 34,
     "metadata": {},
     "output_type": "execute_result"
    }
   ],
   "source": [
    "my_n_odds(np.arange(100))"
   ]
  },
  {
   "cell_type": "code",
   "execution_count": 35,
   "id": "c617e864",
   "metadata": {},
   "outputs": [
    {
     "data": {
      "text/plain": [
       "0"
      ]
     },
     "execution_count": 35,
     "metadata": {},
     "output_type": "execute_result"
    }
   ],
   "source": [
    "my_n_odds(np.arange(2, 100, 2))"
   ]
  },
  {
   "cell_type": "markdown",
   "id": "3400d4bf",
   "metadata": {},
   "source": [
    "7. Write a function my_twos(m,n) where the output is an m×n array of twos. Assume that m and n are strictly positive integers.\n",
    "\n",
    "Test Cases:\n",
    "\n",
    "In: my_twos(3, 2)                                                                                                               \n",
    "Out:$ \\ \\ $ array([[2, 2],                                                                                                                \n",
    "$\\qquad \\ \\qquad$[2, 2],                                                                                                                              \n",
    "$\\qquad \\ \\qquad$[2, 2]])                                                                                                                     \n",
    "\n",
    "In: my_twos(1, 4)                                                                                                                \n",
    "Out: array([2, 2, 2, 2])"
   ]
  },
  {
   "cell_type": "code",
   "execution_count": 36,
   "id": "0ce90b4c",
   "metadata": {},
   "outputs": [],
   "source": [
    "def my_twos(m, n):\n",
    "    return np.full((m, n), 2)  # Create an m×n array filled with twos"
   ]
  },
  {
   "cell_type": "code",
   "execution_count": 37,
   "id": "6b6123e1",
   "metadata": {},
   "outputs": [
    {
     "data": {
      "text/plain": [
       "array([[2, 2],\n",
       "       [2, 2],\n",
       "       [2, 2]])"
      ]
     },
     "execution_count": 37,
     "metadata": {},
     "output_type": "execute_result"
    }
   ],
   "source": [
    "my_twos(3, 2)"
   ]
  },
  {
   "cell_type": "code",
   "execution_count": 38,
   "id": "3520157c",
   "metadata": {},
   "outputs": [
    {
     "data": {
      "text/plain": [
       "array([[2, 2, 2, 2]])"
      ]
     },
     "execution_count": 38,
     "metadata": {},
     "output_type": "execute_result"
    }
   ],
   "source": [
    "my_twos(1, 4)"
   ]
  },
  {
   "cell_type": "markdown",
   "id": "99c8d0af",
   "metadata": {},
   "source": [
    "8. Write a lambda function that takes in input x and y, and the output is the value of x - y."
   ]
  },
  {
   "cell_type": "code",
   "execution_count": 39,
   "id": "e976d8b0",
   "metadata": {},
   "outputs": [
    {
     "data": {
      "text/plain": [
       "2"
      ]
     },
     "execution_count": 39,
     "metadata": {},
     "output_type": "execute_result"
    }
   ],
   "source": [
    "subtract = lambda x, y: x - y\n",
    "subtract(5, 3)"
   ]
  },
  {
   "cell_type": "markdown",
   "id": "cd03435a",
   "metadata": {},
   "source": [
    "9. Write a function add_string(s1, s2) where the output is the concatenation of the strings s1 and s2.  \n",
    "\n",
    "Test Cases: \n",
    "\n",
    "In: s1 = add_string(\"Programming\", \" \")                                                                                              \n",
    "In: s2 = add_string(\"is \", \"fun!\")                                                                                                 \n",
    "In: add_string(s1, s2)                                                                                                                                                                                          \n",
    "Out: \"Programming is fun!\""
   ]
  },
  {
   "cell_type": "code",
   "execution_count": 43,
   "id": "390de99c",
   "metadata": {},
   "outputs": [
    {
     "data": {
      "text/plain": [
       "'Programming is fun!'"
      ]
     },
     "execution_count": 43,
     "metadata": {},
     "output_type": "execute_result"
    }
   ],
   "source": [
    "def add_string(s1, s2):\n",
    "    return s1 + s2  # Concatenate the strings using the + operator \n",
    "\n",
    "s1 = add_string(\"Programming\", \" \")\n",
    "s2 = add_string(\"is \", \"fun!\")\n",
    "add_string(s1, s2)"
   ]
  },
  {
   "cell_type": "markdown",
   "id": "435bf5fe",
   "metadata": {},
   "source": [
    "10. Generate the following errors:                                                                                                  \n",
    "• TypeError: fun() missing 1 required positional argument: \"a\"                                                                                                \n",
    "• IndentationError: expected an indented block"
   ]
  },
  {
   "cell_type": "code",
   "execution_count": 44,
   "id": "00dd9619",
   "metadata": {},
   "outputs": [
    {
     "ename": "TypeError",
     "evalue": "fun() missing 1 required positional argument: 'a'",
     "output_type": "error",
     "traceback": [
      "\u001b[1;31m---------------------------------------------------------------------------\u001b[0m",
      "\u001b[1;31mTypeError\u001b[0m                                 Traceback (most recent call last)",
      "Cell \u001b[1;32mIn[44], line 4\u001b[0m\n\u001b[0;32m      1\u001b[0m \u001b[38;5;28;01mdef\u001b[39;00m \u001b[38;5;21mfun\u001b[39m(a):\n\u001b[0;32m      2\u001b[0m     \u001b[38;5;28mprint\u001b[39m(a)\n\u001b[1;32m----> 4\u001b[0m \u001b[43mfun\u001b[49m\u001b[43m(\u001b[49m\u001b[43m)\u001b[49m\n",
      "\u001b[1;31mTypeError\u001b[0m: fun() missing 1 required positional argument: 'a'"
     ]
    }
   ],
   "source": [
    "def fun(a):\n",
    "    print(a)\n",
    "\n",
    "fun()"
   ]
  },
  {
   "cell_type": "code",
   "execution_count": 45,
   "id": "f8539ba0",
   "metadata": {},
   "outputs": [
    {
     "ename": "IndentationError",
     "evalue": "expected an indented block after 'if' statement on line 1 (1831089614.py, line 2)",
     "output_type": "error",
     "traceback": [
      "\u001b[1;36m  Cell \u001b[1;32mIn[45], line 2\u001b[1;36m\u001b[0m\n\u001b[1;33m    print(\"Hello, World!\")\u001b[0m\n\u001b[1;37m    ^\u001b[0m\n\u001b[1;31mIndentationError\u001b[0m\u001b[1;31m:\u001b[0m expected an indented block after 'if' statement on line 1\n"
     ]
    }
   ],
   "source": [
    "if True:\n",
    "print(\"Hello, World!\")"
   ]
  },
  {
   "cell_type": "markdown",
   "id": "267f0499",
   "metadata": {},
   "source": [
    "11. Write a function greeting(name, age) where name is a string, age is a float, and the output is a string \"Hi, my name is XXX and I am XXX years old.\" where XXX are the input name and age, respectively.\n",
    "\n",
    "Test Cases:\n",
    "\n",
    "In: greeting(\"John\", 26)                                                                                                             \n",
    "Out: \"Hi, my name is John and I am 26 years old.\"\n",
    "\n",
    "In: greeting(\"Kate\", 19)                                                                                                             \n",
    "Out: \"Hi, my name is Kate and I am 19 years old.\""
   ]
  },
  {
   "cell_type": "code",
   "execution_count": 46,
   "id": "c4ac4637",
   "metadata": {},
   "outputs": [],
   "source": [
    "def greeting(name, age):\n",
    "    greeting_string = \"Hi, my name is {} and I am {} years old.\".format(name, age)\n",
    "    return greeting_string"
   ]
  },
  {
   "cell_type": "code",
   "execution_count": 47,
   "id": "d2db4a04",
   "metadata": {},
   "outputs": [
    {
     "data": {
      "text/plain": [
       "'Hi, my name is John and I am 26 years old.'"
      ]
     },
     "execution_count": 47,
     "metadata": {},
     "output_type": "execute_result"
    }
   ],
   "source": [
    "greeting(\"John\", 26)"
   ]
  },
  {
   "cell_type": "code",
   "execution_count": 48,
   "id": "53467042",
   "metadata": {},
   "outputs": [
    {
     "data": {
      "text/plain": [
       "'Hi, my name is Kate and I am 19 years old.'"
      ]
     },
     "execution_count": 48,
     "metadata": {},
     "output_type": "execute_result"
    }
   ],
   "source": [
    "greeting(\"Kate\", 19)"
   ]
  },
  {
   "cell_type": "markdown",
   "id": "c78e1abc",
   "metadata": {},
   "source": [
    "12. Let r1 and r2 be the radius of circles with the same center and let r2 > r1.                                         \n",
    "Write a function `my_donut_area(r1, r2)` where the output is the area outside of the circle with radius r1 and inside the circle with radius r2.                                                                                                    \n",
    "Make sure that the function is vectorized. Assume that r1 and r2 are one-dimensional arrays of the same size.\n",
    "\n",
    "Test Cases:                                                                                                                        \n",
    "In: my_donut_area(np.arange(1, 4), np.arange(2, 7, 2))                                                                                                                        \n",
    "Out: array([9.4248, 37.6991, 84.8230])"
   ]
  },
  {
   "cell_type": "code",
   "execution_count": 50,
   "id": "48553cbf",
   "metadata": {},
   "outputs": [
    {
     "data": {
      "text/plain": [
       "array([ 9.42477796, 37.69911184, 84.82300165])"
      ]
     },
     "execution_count": 50,
     "metadata": {},
     "output_type": "execute_result"
    }
   ],
   "source": [
    "def my_donut_area(r1, r2):\n",
    "    return np.pi * (r2**2 - r1**2)\n",
    "\n",
    "my_donut_area(np.arange(1, 4), np.arange(2, 7, 2))"
   ]
  },
  {
   "cell_type": "markdown",
   "id": "95e2986e",
   "metadata": {},
   "source": [
    "13. Write a function `my_within_tolerance(A, a, tol)` where the output is an array or list of the indices in A such that |A − a| < tol.                                                                                                                \n",
    "Assume that A is a one-dimensional float list or array, and that a and tol are 1 by 1 floats.\n",
    "\n",
    "Test Cases:                                                                                                                \n",
    "\n",
    "In: my_within_tolerance([0, 1, 2, 3], 1.5, 0.75)                                                                                                                \n",
    "Out: [1, 2]                                                                                                                \n",
    "\n",
    "\n",
    "In: my_within_tolerance(np.arange(0, 1.01, 0.01), 0.5, 0.03)                                                                                                                \n",
    "Out: [47, 48, 49, 50, 51, 52]"
   ]
  },
  {
   "cell_type": "code",
   "execution_count": 53,
   "id": "d52050bb",
   "metadata": {},
   "outputs": [],
   "source": [
    "def my_within_tolerance(A, a, tol):\n",
    "    indices = [i for i, val in enumerate(A) if abs(val - a) < tol]\n",
    "    return indices"
   ]
  },
  {
   "cell_type": "code",
   "execution_count": 54,
   "id": "5a80c185",
   "metadata": {},
   "outputs": [
    {
     "data": {
      "text/plain": [
       "[1, 2]"
      ]
     },
     "execution_count": 54,
     "metadata": {},
     "output_type": "execute_result"
    }
   ],
   "source": [
    "my_within_tolerance([0, 1, 2, 3], 1.5, 0.75)"
   ]
  },
  {
   "cell_type": "code",
   "execution_count": 55,
   "id": "324b0006",
   "metadata": {},
   "outputs": [
    {
     "data": {
      "text/plain": [
       "[47, 48, 49, 50, 51, 52]"
      ]
     },
     "execution_count": 55,
     "metadata": {},
     "output_type": "execute_result"
    }
   ],
   "source": [
    "my_within_tolerance(np.arange(0, 1.01, 0.01), 0.5, 0.03)"
   ]
  },
  {
   "cell_type": "markdown",
   "id": "5d9cd94e",
   "metadata": {},
   "source": [
    "14. \n",
    "Write a function `bounding_array(A, top, bottom)` where the output is equal to the array A wherever bottom < A < top,     \n",
    "the output is equal to bottom wherever A <= bottom, and the output is equal to top wherever A >= top.                   \n",
    "Assume that A is a one-dimensional float array and that top and bottom are 1 by 1 floats.\n",
    "\n",
    "Test Cases:                                                                                                                  \n",
    "In: bounding_array(np.arange(-5, 6, 1), 3, -3)                                                                                  \n",
    "Out: [-3, -3, -3, -2, -1, 0, 1, 2, 3, 3, 3]"
   ]
  },
  {
   "cell_type": "code",
   "execution_count": 56,
   "id": "15445dbf",
   "metadata": {},
   "outputs": [
    {
     "data": {
      "text/plain": [
       "array([-3, -3, -3, -2, -1,  0,  1,  2,  3,  3,  3])"
      ]
     },
     "execution_count": 56,
     "metadata": {},
     "output_type": "execute_result"
    }
   ],
   "source": [
    "def bounding_array(A, top, bottom):\n",
    "    return np.where(A < bottom, bottom, np.where(A > top, top, A))\n",
    "\n",
    "bounding_array(np.arange(-5, 6, 1), 3, -3)"
   ]
  }
 ],
 "metadata": {
  "kernelspec": {
   "display_name": "Python 3 (ipykernel)",
   "language": "python",
   "name": "python3"
  },
  "language_info": {
   "codemirror_mode": {
    "name": "ipython",
    "version": 3
   },
   "file_extension": ".py",
   "mimetype": "text/x-python",
   "name": "python",
   "nbconvert_exporter": "python",
   "pygments_lexer": "ipython3",
   "version": "3.10.9"
  }
 },
 "nbformat": 4,
 "nbformat_minor": 5
}
