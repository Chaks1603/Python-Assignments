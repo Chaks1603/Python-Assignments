{
 "cells": [
  {
   "cell_type": "code",
   "execution_count": 1,
   "id": "ddf269bf",
   "metadata": {},
   "outputs": [],
   "source": [
    "import numpy as np"
   ]
  },
  {
   "cell_type": "markdown",
   "id": "c5dae703",
   "metadata": {},
   "source": [
    "1. Write a function `my_bin_2_dec(b)` where b is a binary number represented by a list of ones and zeros. The last element of b represents the coefficient of $2^0$, the second-to-last element of b represents the coefficient of $2^1$, and so on. The output variable, d, should be the decimal representation of b. Test cases are provided below.\n",
    "\n"
   ]
  },
  {
   "cell_type": "code",
   "execution_count": 2,
   "id": "0146302e",
   "metadata": {},
   "outputs": [],
   "source": [
    "def my_bin_2_dec(b):\n",
    "    b=b[::-1]\n",
    "    d = 0\n",
    "    for i, bit in enumerate(b):\n",
    "        d += bit * 2 ** i\n",
    "    return d"
   ]
  },
  {
   "cell_type": "code",
   "execution_count": 3,
   "id": "7058f9b8",
   "metadata": {},
   "outputs": [
    {
     "data": {
      "text/plain": [
       "4"
      ]
     },
     "execution_count": 3,
     "metadata": {},
     "output_type": "execute_result"
    }
   ],
   "source": [
    "my_bin_2_dec([1, 0, 0])"
   ]
  },
  {
   "cell_type": "code",
   "execution_count": 4,
   "id": "dce71b53",
   "metadata": {},
   "outputs": [
    {
     "data": {
      "text/plain": [
       "7"
      ]
     },
     "execution_count": 4,
     "metadata": {},
     "output_type": "execute_result"
    }
   ],
   "source": [
    "my_bin_2_dec([1, 1, 1])"
   ]
  },
  {
   "cell_type": "code",
   "execution_count": 5,
   "id": "bc9d4c12",
   "metadata": {},
   "outputs": [
    {
     "data": {
      "text/plain": [
       "85"
      ]
     },
     "execution_count": 5,
     "metadata": {},
     "output_type": "execute_result"
    }
   ],
   "source": [
    "my_bin_2_dec([1, 0, 1, 0, 1, 0, 1])"
   ]
  },
  {
   "cell_type": "code",
   "execution_count": 6,
   "id": "b9069b3e",
   "metadata": {},
   "outputs": [
    {
     "data": {
      "text/plain": [
       "33554431"
      ]
     },
     "execution_count": 6,
     "metadata": {},
     "output_type": "execute_result"
    }
   ],
   "source": [
    "my_bin_2_dec([1]*25)"
   ]
  },
  {
   "cell_type": "markdown",
   "id": "7e0bedb7",
   "metadata": {},
   "source": [
    "2. Write a function `my_dec_2_bin(d)` where d is a positive integer in decimal, and b is the binary representation of d. The output b must be a list of ones and zeros, and the leading term must be a 1 unless the decimal input value is 0. Test cases are provided below."
   ]
  },
  {
   "cell_type": "code",
   "execution_count": 7,
   "id": "359f1a06",
   "metadata": {},
   "outputs": [],
   "source": [
    "def my_dec_2_bin(d):\n",
    "\n",
    "    if d == 0:\n",
    "        return [0]\n",
    "    \n",
    "    binary = []\n",
    "    while d > 0:\n",
    "        binary.insert(0, d % 2)\n",
    "        d = d // 2\n",
    "    return binary"
   ]
  },
  {
   "cell_type": "code",
   "execution_count": 8,
   "id": "27ecd7f8",
   "metadata": {},
   "outputs": [
    {
     "data": {
      "text/plain": [
       "[0]"
      ]
     },
     "execution_count": 8,
     "metadata": {},
     "output_type": "execute_result"
    }
   ],
   "source": [
    "my_dec_2_bin(0)"
   ]
  },
  {
   "cell_type": "code",
   "execution_count": 9,
   "id": "d5dcfadf",
   "metadata": {},
   "outputs": [
    {
     "data": {
      "text/plain": [
       "[1, 0, 0]"
      ]
     },
     "execution_count": 9,
     "metadata": {},
     "output_type": "execute_result"
    }
   ],
   "source": [
    "my_dec_2_bin(4)"
   ]
  },
  {
   "cell_type": "code",
   "execution_count": 10,
   "id": "bf06da9b",
   "metadata": {},
   "outputs": [
    {
     "data": {
      "text/plain": [
       "[1, 0, 1, 1, 1]"
      ]
     },
     "execution_count": 10,
     "metadata": {},
     "output_type": "execute_result"
    }
   ],
   "source": [
    "my_dec_2_bin(23)"
   ]
  },
  {
   "cell_type": "code",
   "execution_count": 11,
   "id": "5aa5c2b2",
   "metadata": {},
   "outputs": [
    {
     "data": {
      "text/plain": [
       "[1, 0, 0, 0, 0, 0, 1, 1, 0, 0, 0, 1]"
      ]
     },
     "execution_count": 11,
     "metadata": {},
     "output_type": "execute_result"
    }
   ],
   "source": [
    "my_dec_2_bin(2097)"
   ]
  },
  {
   "cell_type": "markdown",
   "id": "c89a21ef",
   "metadata": {},
   "source": [
    "3. Use the two functions you wrote in Problems 1 and 2 to compute `d = my_bin_2_dec(my_dec_2_bin(12654))`. Do you get the same number?"
   ]
  },
  {
   "cell_type": "code",
   "execution_count": 12,
   "id": "6984d50f",
   "metadata": {},
   "outputs": [
    {
     "data": {
      "text/plain": [
       "12654"
      ]
     },
     "execution_count": 12,
     "metadata": {},
     "output_type": "execute_result"
    }
   ],
   "source": [
    "my_bin_2_dec(my_dec_2_bin(12654))"
   ]
  },
  {
   "cell_type": "markdown",
   "id": "2e64459d",
   "metadata": {},
   "source": [
    "4. Write a function `my_bin_adder(b1,b2)` where b1, b2 and the output variable b are binary numbers represented as in Problem 1. The output variable should be computed as b = b1 + b2. Do not use your functions from Problems 1 and 2 to write this function (i.e., do not convert b1 and b2 to decimals; add them and then convert the result back to binary). This function should be able to accept inputs b1 and b2 of any length (i.e., very long binary numbers), and b1 and b2 may not necessarily be of the same length."
   ]
  },
  {
   "cell_type": "code",
   "execution_count": 13,
   "id": "4a23c207",
   "metadata": {},
   "outputs": [],
   "source": [
    "def my_bin_adder(b1, b2):\n",
    "    # Determine the lengths of the input binary numbers\n",
    "    len_b1 = len(b1)\n",
    "    len_b2 = len(b2)\n",
    "\n",
    "    # Make the lengths of b1 and b2 equal by adding leading zeros if necessary\n",
    "    if len_b1 < len_b2:\n",
    "        b1 = [0] * (len_b2 - len_b1) + b1\n",
    "    elif len_b2 < len_b1:\n",
    "        b2 = [0] * (len_b1 - len_b2) + b2\n",
    "\n",
    "    # Perform binary addition\n",
    "    carry = 0\n",
    "    result = []\n",
    "    for i in range(len(b1) - 1, -1, -1):\n",
    "        bit_sum = b1[i] + b2[i] + carry\n",
    "        result.insert(0, bit_sum % 2)\n",
    "        carry = bit_sum // 2\n",
    "\n",
    "    # Add an additional bit if there is a carry at the end\n",
    "    if carry:\n",
    "        result.insert(0, carry)\n",
    "\n",
    "    return result"
   ]
  },
  {
   "cell_type": "code",
   "execution_count": 14,
   "id": "661473d8",
   "metadata": {},
   "outputs": [
    {
     "data": {
      "text/plain": [
       "[1, 0, 0, 0, 0, 0]"
      ]
     },
     "execution_count": 14,
     "metadata": {},
     "output_type": "execute_result"
    }
   ],
   "source": [
    "my_bin_adder([1, 1, 1, 1, 1], [1])"
   ]
  },
  {
   "cell_type": "code",
   "execution_count": 15,
   "id": "d3927523",
   "metadata": {},
   "outputs": [
    {
     "data": {
      "text/plain": [
       "[1, 1, 1, 0, 0, 1, 1]"
      ]
     },
     "execution_count": 15,
     "metadata": {},
     "output_type": "execute_result"
    }
   ],
   "source": [
    "my_bin_adder([1, 1, 1, 1, 1], [1, 0, 1, 0, 1, 0, 0])"
   ]
  },
  {
   "cell_type": "code",
   "execution_count": 16,
   "id": "00d74bb6",
   "metadata": {},
   "outputs": [
    {
     "data": {
      "text/plain": [
       "[1, 0, 1, 1]"
      ]
     },
     "execution_count": 16,
     "metadata": {},
     "output_type": "execute_result"
    }
   ],
   "source": [
    "my_bin_adder([1, 1, 0], [1, 0, 1])"
   ]
  },
  {
   "cell_type": "markdown",
   "id": "453dcc88",
   "metadata": {},
   "source": [
    "6. Write a function `my_ieee_2_dec(ieee)` where ieee is a string that contains 64 characters of ones and zeros, representing a 64-bit IEEE754 number. The output should be d, which is the equivalent decimal representation of ieee.                 \n",
    "The input variable ieee will always be a 64-element string of ones and zeros defining a 64-bit float."
   ]
  },
  {
   "cell_type": "code",
   "execution_count": 17,
   "id": "a7c20c93",
   "metadata": {},
   "outputs": [],
   "source": [
    "def my_ieee_2_dec(ieee):\n",
    "    sign_bit = int(ieee[0])  # Extract the sign bit\n",
    "    exponent_bits = ieee[1:12]  # Extract the exponent bits\n",
    "    fraction_bits = ieee[12:]  # Extract the fraction bits\n",
    "\n",
    "    # Convert the sign bit to the sign value (-1 for negative, 1 for positive)\n",
    "    sign = -1 if sign_bit else 1\n",
    "\n",
    "    # Convert the exponent bits to decimal and subtract the bias (1023)\n",
    "    exponent = int(exponent_bits, 2) - 1023\n",
    "\n",
    "    # Calculate the significand by adding the implicit leading 1\n",
    "    significand = 1.0\n",
    "    power = -1\n",
    "    for bit in fraction_bits:\n",
    "        significand += int(bit) * 2 ** power\n",
    "        power -= 1\n",
    "\n",
    "    # Apply the sign, exponent, and significand to calculate the decimal value\n",
    "    d = sign * significand * 2 ** exponent\n",
    "\n",
    "    return d"
   ]
  },
  {
   "cell_type": "code",
   "execution_count": 18,
   "id": "36c448d0",
   "metadata": {},
   "outputs": [
    {
     "name": "stdout",
     "output_type": "stream",
     "text": [
      "1.7976931348623157e+308\n",
      "**********************************************************************\n"
     ]
    },
    {
     "data": {
      "text/plain": [
       "1.7976931348623157e+308"
      ]
     },
     "execution_count": 18,
     "metadata": {},
     "output_type": "execute_result"
    }
   ],
   "source": [
    "ieee = \"0111111111101111111111111111111111111111111111111111111111111111\"\n",
    "decimal_value = my_ieee_2_dec(ieee)\n",
    "print(decimal_value)\n",
    "# comparing my result from book's example     pg-149\n",
    "print('**********************************************************************')\n",
    "(2**(2046-1023))*((1 + sum(0.5**np.arange(1, 53))))        "
   ]
  },
  {
   "cell_type": "code",
   "execution_count": 19,
   "id": "70f4c498",
   "metadata": {},
   "outputs": [
    {
     "name": "stdout",
     "output_type": "stream",
     "text": [
      "-48.0\n"
     ]
    }
   ],
   "source": [
    "ieee = \"1100000001001000000000000000000000000000000000000000000000000000\"\n",
    "print(my_ieee_2_dec(ieee)) "
   ]
  },
  {
   "cell_type": "code",
   "execution_count": 20,
   "id": "f688ec86",
   "metadata": {},
   "outputs": [
    {
     "name": "stdout",
     "output_type": "stream",
     "text": [
      "3.4\n"
     ]
    }
   ],
   "source": [
    "ieee =\"0100000000001011001100110011001100110011001100110011001100110011\"\n",
    "print(my_ieee_2_dec(ieee)) "
   ]
  },
  {
   "cell_type": "markdown",
   "id": "43b823ae",
   "metadata": {},
   "source": [
    "7. Write a function `my_dec_2_ieee(d)` where d is a number in decimal, and the output variable ieee is a string with 64 characters of ones and zeros, representing the 64-bit IEEE754 closest to d. Assume that d will not cause an overflow for 64-bit ieee numbers."
   ]
  },
  {
   "cell_type": "code",
   "execution_count": 21,
   "id": "030ebb2e",
   "metadata": {},
   "outputs": [],
   "source": [
    "def my_dec_2_ieee(d):\n",
    "    sign_bit = \"0\" if d >= 0 else \"1\"  # Determine the sign of the number\n",
    "\n",
    "    if d == 0:\n",
    "        return sign_bit + \"0\" * 63  # Return the 64-bit IEEE754 representation of zero\n",
    "\n",
    "    abs_d = abs(d)  # Take the absolute value of the number\n",
    "\n",
    "    # Calculate the exponent and biased representation\n",
    "    exponent = 0\n",
    "    while abs_d >= 2.0:\n",
    "        abs_d /= 2.0\n",
    "        exponent += 1\n",
    "\n",
    "    biased_exponent = bin(exponent + 1023)[2:].zfill(11)\n",
    "\n",
    "    # Calculate the significand\n",
    "    fraction = abs_d - 1.0\n",
    "    significand = \"\"\n",
    "    for _ in range(52):\n",
    "        fraction *= 2.0\n",
    "        bit = \"1\" if fraction >= 1.0 else \"0\"\n",
    "        significand += bit\n",
    "        if fraction >= 1.0:\n",
    "            fraction -= 1.0\n",
    "\n",
    "    # Combine the sign, exponent, and significand to form the IEEE754 binary string\n",
    "    ieee = sign_bit + biased_exponent + significand\n",
    "\n",
    "    return ieee"
   ]
  },
  {
   "cell_type": "code",
   "execution_count": 22,
   "id": "296020a8",
   "metadata": {},
   "outputs": [
    {
     "data": {
      "text/plain": [
       "'0011111111111000010010111011011000010110100011100001110100100000'"
      ]
     },
     "execution_count": 22,
     "metadata": {},
     "output_type": "execute_result"
    }
   ],
   "source": [
    "d = 1.518484199625\n",
    "my_dec_2_ieee(d)"
   ]
  },
  {
   "cell_type": "code",
   "execution_count": 23,
   "id": "488b7295",
   "metadata": {},
   "outputs": [
    {
     "data": {
      "text/plain": [
       "'1100000001110011010100100100010010010001001010011000100010010000'"
      ]
     },
     "execution_count": 23,
     "metadata": {},
     "output_type": "execute_result"
    }
   ],
   "source": [
    "d = -309.141740\n",
    "my_dec_2_ieee(d)"
   ]
  },
  {
   "cell_type": "code",
   "execution_count": 24,
   "id": "26aa1d6e",
   "metadata": {},
   "outputs": [
    {
     "data": {
      "text/plain": [
       "'1100000011011000101010010000000000000000000000000000000000000000'"
      ]
     },
     "execution_count": 24,
     "metadata": {},
     "output_type": "execute_result"
    }
   ],
   "source": [
    "d = -25252\n",
    "my_dec_2_ieee(d)"
   ]
  },
  {
   "cell_type": "markdown",
   "id": "357603be",
   "metadata": {},
   "source": [
    "*** Like Problem 3 , Let's verify code"
   ]
  },
  {
   "cell_type": "code",
   "execution_count": 25,
   "id": "b8037462",
   "metadata": {},
   "outputs": [
    {
     "data": {
      "text/plain": [
       "1.518484199625"
      ]
     },
     "execution_count": 25,
     "metadata": {},
     "output_type": "execute_result"
    }
   ],
   "source": [
    "my_ieee_2_dec(my_dec_2_ieee(1.518484199625))"
   ]
  },
  {
   "cell_type": "code",
   "execution_count": 26,
   "id": "829003c3",
   "metadata": {},
   "outputs": [
    {
     "data": {
      "text/plain": [
       "3.4"
      ]
     },
     "execution_count": 26,
     "metadata": {},
     "output_type": "execute_result"
    }
   ],
   "source": [
    "my_ieee_2_dec(my_dec_2_ieee(3.4))"
   ]
  },
  {
   "cell_type": "code",
   "execution_count": 27,
   "id": "8575269c",
   "metadata": {},
   "outputs": [
    {
     "data": {
      "text/plain": [
       "'0011111111111000010010111011011000010110100011100001110100100000'"
      ]
     },
     "execution_count": 27,
     "metadata": {},
     "output_type": "execute_result"
    }
   ],
   "source": [
    "my_dec_2_ieee(my_ieee_2_dec(\"0011111111111000010010111011011000010110100011100001110100100000\"))"
   ]
  },
  {
   "cell_type": "markdown",
   "id": "1d7b19cb",
   "metadata": {},
   "source": [
    "8. Define `ieee_baby` to be a representation of numbers using 6 bits, where the first bit is the sign bit, the second and third bits are allocated to the characteristic, and the fourth, fifth, and sixth bits are allocated to the fraction. The normalization for the characteristic is 1.                                                                                    \n",
    "Write all the decimal numbers that can be represented by ieee_baby. What is the largest/smallest gap in ieee_baby?"
   ]
  },
  {
   "cell_type": "code",
   "execution_count": 28,
   "id": "1cfea371",
   "metadata": {},
   "outputs": [
    {
     "name": "stdout",
     "output_type": "stream",
     "text": [
      "1.0\n",
      "1.125\n",
      "1.25\n",
      "1.375\n",
      "1.5\n",
      "1.625\n",
      "1.75\n",
      "1.875\n",
      "1.5\n",
      "1.6875\n",
      "1.875\n",
      "2.0625\n",
      "2.25\n",
      "2.4375\n",
      "2.625\n",
      "2.8125\n",
      "2.0\n",
      "2.25\n",
      "2.5\n",
      "2.75\n",
      "3.0\n",
      "3.25\n",
      "3.5\n",
      "3.75\n",
      "2.5\n",
      "2.8125\n",
      "3.125\n",
      "3.4375\n",
      "3.75\n",
      "4.0625\n",
      "4.375\n",
      "4.6875\n",
      "-1.0\n",
      "-1.125\n",
      "-1.25\n",
      "-1.375\n",
      "-1.5\n",
      "-1.625\n",
      "-1.75\n",
      "-1.875\n",
      "-1.5\n",
      "-1.6875\n",
      "-1.875\n",
      "-2.0625\n",
      "-2.25\n",
      "-2.4375\n",
      "-2.625\n",
      "-2.8125\n",
      "-2.0\n",
      "-2.25\n",
      "-2.5\n",
      "-2.75\n",
      "-3.0\n",
      "-3.25\n",
      "-3.5\n",
      "-3.75\n",
      "-2.5\n",
      "-2.8125\n",
      "-3.125\n",
      "-3.4375\n",
      "-3.75\n",
      "-4.0625\n",
      "-4.375\n",
      "-4.6875\n",
      "Largest Gap: 2.0\n",
      "Smallest Gap: 0.0\n"
     ]
    }
   ],
   "source": [
    "def generate_ieee_baby_values():\n",
    "    values = []\n",
    "    for sign in range(2):\n",
    "        for characteristic in range(4):\n",
    "            for fraction in range(8):\n",
    "                value = (-1) ** sign * (1 + characteristic * 0.5) * (1 + fraction * 0.125)\n",
    "                values.append(value)\n",
    "    return values\n",
    "\n",
    "def find_largest_gap(values):\n",
    "    sorted_values = sorted(values)\n",
    "    largest_gap = max(sorted_values[i+1] - sorted_values[i] for i in range(len(sorted_values) - 1))\n",
    "    return largest_gap\n",
    "\n",
    "def find_smallest_gap(values):\n",
    "    sorted_values = sorted(values)\n",
    "    smallest_gap = min(sorted_values[i+1] - sorted_values[i] for i in range(len(sorted_values) - 1))\n",
    "    return smallest_gap\n",
    "\n",
    "# Generate IEEE baby values\n",
    "ieee_baby_values = generate_ieee_baby_values()\n",
    "\n",
    "# Print all decimal numbers that can be represented by ieee_baby\n",
    "for value in ieee_baby_values:\n",
    "    print(value)\n",
    "\n",
    "# Find the largest gap in ieee_baby\n",
    "largest_gap = find_largest_gap(ieee_baby_values)\n",
    "print(\"Largest Gap:\", largest_gap)\n",
    "\n",
    "# Find the smallest gap in ieee_baby\n",
    "smallest_gap = find_smallest_gap(ieee_baby_values)\n",
    "print(\"Smallest Gap:\", smallest_gap)"
   ]
  },
  {
   "cell_type": "markdown",
   "id": "3768b393",
   "metadata": {},
   "source": [
    "9. Use the np.spacing function to determine the smallest number such that the gap is 1."
   ]
  },
  {
   "cell_type": "code",
   "execution_count": 29,
   "id": "3d3b8dd2",
   "metadata": {},
   "outputs": [
    {
     "name": "stdout",
     "output_type": "stream",
     "text": [
      "Smallest Number with Gap 1: 0.9999999999999998\n"
     ]
    }
   ],
   "source": [
    "# Determine the smallest number with a gap of 1 in ieee_baby\n",
    "smallest_gap = 1.0\n",
    "smallest_number = smallest_gap - np.spacing(smallest_gap)\n",
    "\n",
    "print(\"Smallest Number with Gap 1:\", smallest_number)"
   ]
  },
  {
   "cell_type": "markdown",
   "id": "4c1e32d7",
   "metadata": {},
   "source": [
    "11. Write the number 13(base10) in base1. How would you add and multiply in base1?"
   ]
  },
  {
   "cell_type": "code",
   "execution_count": 30,
   "id": "5210910b",
   "metadata": {},
   "outputs": [
    {
     "name": "stdout",
     "output_type": "stream",
     "text": [
      "1111111111111\n"
     ]
    }
   ],
   "source": [
    "base1_number = '1' * 13\n",
    "print(base1_number)"
   ]
  }
 ],
 "metadata": {
  "kernelspec": {
   "display_name": "Python 3 (ipykernel)",
   "language": "python",
   "name": "python3"
  },
  "language_info": {
   "codemirror_mode": {
    "name": "ipython",
    "version": 3
   },
   "file_extension": ".py",
   "mimetype": "text/x-python",
   "name": "python",
   "nbconvert_exporter": "python",
   "pygments_lexer": "ipython3",
   "version": "3.10.9"
  }
 },
 "nbformat": 4,
 "nbformat_minor": 5
}
