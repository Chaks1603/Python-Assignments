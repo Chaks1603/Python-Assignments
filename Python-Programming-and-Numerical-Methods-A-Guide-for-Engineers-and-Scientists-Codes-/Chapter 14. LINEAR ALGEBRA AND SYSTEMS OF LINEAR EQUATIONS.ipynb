{
 "cells": [
  {
   "cell_type": "code",
   "execution_count": 1,
   "id": "8a95e8db",
   "metadata": {},
   "outputs": [],
   "source": [
    "import numpy as np\n",
    "from sympy import *\n",
    "from pylab import *\n",
    "import matplotlib.pyplot as plt\n",
    "from IPython.display import display, Math"
   ]
  },
  {
   "cell_type": "markdown",
   "id": "b825f371",
   "metadata": {},
   "source": [
    "1. Show that matrix multiplication distributes over matrix addition:                              \n",
    "show A(B+C)=AB+AC assuming that A,B, and C are matrices of compatible size."
   ]
  },
  {
   "cell_type": "code",
   "execution_count": 2,
   "id": "67e4ce36",
   "metadata": {},
   "outputs": [
    {
     "data": {
      "text/latex": [
       "$\\displaystyle A(B + C) = \\left[\\begin{matrix}50 & 56\\\\114 & 128\\end{matrix}\\right]$"
      ],
      "text/plain": [
       "<IPython.core.display.Math object>"
      ]
     },
     "metadata": {},
     "output_type": "display_data"
    },
    {
     "data": {
      "text/latex": [
       "$\\displaystyle AB + AC = \\left[\\begin{matrix}50 & 56\\\\114 & 128\\end{matrix}\\right]$"
      ],
      "text/plain": [
       "<IPython.core.display.Math object>"
      ]
     },
     "metadata": {},
     "output_type": "display_data"
    },
    {
     "name": "stdout",
     "output_type": "stream",
     "text": [
      "Are the results equal? True\n"
     ]
    }
   ],
   "source": [
    "# Create matrices A, B, and C\n",
    "A = np.array([[1, 2],\n",
    "              [3, 4]])\n",
    "\n",
    "B = np.array([[5, 6], \n",
    "              [7, 8]])\n",
    "\n",
    "C = np.array([[9, 10], \n",
    "              [11, 12]])\n",
    "\n",
    "result1 = A.dot(B + C)              # Calculate A(B + C)\n",
    "result2 = A.dot(B) + A.dot(C)       # Calculate AB + AC\n",
    "\n",
    "# Compare the results\n",
    "display(Math(r'A(B + C) = '+latex(Matrix(result1))))\n",
    "display(Math(r'AB + AC = '+latex(Matrix(result2))))\n",
    "\n",
    "print(\"Are the results equal?\", np.array_equal(result1, result2)) # Check if the results are equal"
   ]
  },
  {
   "cell_type": "markdown",
   "id": "966a2187",
   "metadata": {},
   "source": [
    "2. Write a function `my_is_orthogonal(v1,v2, tol)`, where $v_1$ and $v_2$ are column vectors of the same size and tol is a scalar value strictly larger than $0$. The output should be $1$ if the angle between $v_1$ and $v_2$ is within tol of $\\frac{\\pi}{2}$ ;                               \n",
    "that is, |$\\frac{\\pi}{2}-\\theta$| $<$ tol , and $0$ otherwise.                                 \n",
    "You may assume that $v_1$ and $v_2$ are column vectors of the same size, and that tol is a positive scalar."
   ]
  },
  {
   "cell_type": "code",
   "execution_count": 3,
   "id": "0e0ce4d2",
   "metadata": {},
   "outputs": [],
   "source": [
    "def my_is_orthogonal(v1, v2, tol):\n",
    "    dot_product = np.dot(v1.T, v2)  # Calculate the dot product of v1 and v2\n",
    "    norm_product = np.linalg.norm(v1) * np.linalg.norm(v2)  # Calculate the product of their norms\n",
    "    angle = np.arccos(dot_product / norm_product)  # Calculate the angle between v1 and v2\n",
    "\n",
    "    if np.abs(angle - np.pi/2) < tol:  # Check if the angle is within the tolerance\n",
    "        return 1\n",
    "    else:\n",
    "        return 0"
   ]
  },
  {
   "cell_type": "code",
   "execution_count": 4,
   "id": "b38b394c",
   "metadata": {},
   "outputs": [
    {
     "data": {
      "text/plain": [
       "1"
      ]
     },
     "execution_count": 4,
     "metadata": {},
     "output_type": "execute_result"
    }
   ],
   "source": [
    "# Test cases for problem 2\n",
    "a = np.array([[1], [0.001]])\n",
    "b = np.array([[0.001], [1]])\n",
    "\n",
    "my_is_orthogonal(a,b, 0.01)"
   ]
  },
  {
   "cell_type": "code",
   "execution_count": 5,
   "id": "1c1a1933",
   "metadata": {},
   "outputs": [
    {
     "data": {
      "text/plain": [
       "0"
      ]
     },
     "execution_count": 5,
     "metadata": {},
     "output_type": "execute_result"
    }
   ],
   "source": [
    "my_is_orthogonal(a,b, 0.001)"
   ]
  },
  {
   "cell_type": "code",
   "execution_count": 6,
   "id": "bd20c70a",
   "metadata": {},
   "outputs": [
    {
     "data": {
      "text/plain": [
       "0"
      ]
     },
     "execution_count": 6,
     "metadata": {},
     "output_type": "execute_result"
    }
   ],
   "source": [
    "a = np.array([[1], [0.001]])\n",
    "b = np.array([[1], [1]])\n",
    "my_is_orthogonal(a,b, 0.01)"
   ]
  },
  {
   "cell_type": "code",
   "execution_count": 7,
   "id": "4571c563",
   "metadata": {},
   "outputs": [
    {
     "data": {
      "text/plain": [
       "1"
      ]
     },
     "execution_count": 7,
     "metadata": {},
     "output_type": "execute_result"
    }
   ],
   "source": [
    "a = np.array([[1], [1]])\n",
    "b = np.array([[-1], [1]])\n",
    "my_is_orthogonal(a,b, 1e-10)"
   ]
  },
  {
   "cell_type": "markdown",
   "id": "b97954c9",
   "metadata": {},
   "source": [
    "3. Write a function `my_is_similar(s1,s2,tol)` where $s_1$ and $s_2$ are strings, not necessarily the same size, and tol is a scalar value strictly larger than 0. From $s_1$ and $s_2$, the function should construct two vectors, $v_1$ and $v_2$, where $v_1[0]$ is the number of ‘a’s in $s_1, v_1[1]$ is the number ‘b’s in $s_1$, and so on until $v_1[25]$, which is the number of ‘z’s in $v_1$. The vector $v_2$ should be similarly constructed from $s_2$. The output should be $1$ if the absolute value of the angle between $v_1$ and $v_2$ is less than tol; that is, |$\\theta$|<tol ."
   ]
  },
  {
   "cell_type": "code",
   "execution_count": 8,
   "id": "48578044",
   "metadata": {},
   "outputs": [],
   "source": [
    "def my_is_similar(s1, s2, tol):\n",
    "    # Construct character frequency vectors for s1 and s2\n",
    "    v1 = np.zeros(26, dtype=int)\n",
    "    v2 = np.zeros(26, dtype=int)\n",
    "\n",
    "    # Count character occurrences in s1\n",
    "    for char in s1:\n",
    "        if char.isalpha():\n",
    "            v1[ord(char.lower()) - ord('a')] += 1\n",
    "\n",
    "    # Count character occurrences in s2\n",
    "    for char in s2:\n",
    "        if char.isalpha():\n",
    "            v2[ord(char.lower()) - ord('a')] += 1\n",
    "\n",
    "    # Compute the absolute angle between v1 and v2\n",
    "    dot_product = np.dot(v1, v2)\n",
    "    magnitude_v1 = np.linalg.norm(v1)\n",
    "    magnitude_v2 = np.linalg.norm(v2)\n",
    "    cos_theta = dot_product / (magnitude_v1 * magnitude_v2)\n",
    "    theta = np.arccos(cos_theta)\n",
    "    abs_theta = np.abs(theta)\n",
    "\n",
    "    # Check if the absolute angle is less than tol\n",
    "    if abs_theta < tol:\n",
    "        return 1\n",
    "    else:\n",
    "        return 0"
   ]
  },
  {
   "cell_type": "code",
   "execution_count": 9,
   "id": "c48d2d59",
   "metadata": {},
   "outputs": [
    {
     "name": "stdout",
     "output_type": "stream",
     "text": [
      "1\n"
     ]
    }
   ],
   "source": [
    "s1 = \"Hello\"\n",
    "s2 = \"Holle\"\n",
    "tol = 0.1\n",
    "\n",
    "result = my_is_similar(s1, s2, tol)\n",
    "print(result)"
   ]
  },
  {
   "cell_type": "markdown",
   "id": "ed85209b",
   "metadata": {},
   "source": [
    "4. Write a function `my_make_lin_ind(A)` where A and B are matrices. Let rank(A) = n.                                    \n",
    "Then B should be a matrix containing the first n columns of A that are all linearly independent. Note that this implies that B has full rank."
   ]
  },
  {
   "cell_type": "code",
   "execution_count": 10,
   "id": "e1251f6d",
   "metadata": {},
   "outputs": [],
   "source": [
    "def my_make_lin_ind(A):\n",
    "    \n",
    "    B = []    # Initialize an empty list to store the linearly independent columns\n",
    "    # Iterate through the columns of A\n",
    "    for col in A.T:\n",
    "        # Check if the current column is linearly independent from the columns in B\n",
    "        if np.all(np.linalg.matrix_rank(np.column_stack(B + [col])) == len(B) + 1):\n",
    "            B.append(col)\n",
    "            \n",
    "    # Convert the list of columns into a numpy array\n",
    "    B = np.column_stack(B)\n",
    "    return B"
   ]
  },
  {
   "cell_type": "code",
   "execution_count": 11,
   "id": "ae2f0f85",
   "metadata": {},
   "outputs": [
    {
     "data": {
      "text/plain": [
       "array([[ 12,  11, -24,  15],\n",
       "       [ 19,  10, -31,   9],\n",
       "       [  1,  21,  -5,  20],\n",
       "       [  6,  13, -10,   5],\n",
       "       [ 22,   2, -12,  23]])"
      ]
     },
     "execution_count": 11,
     "metadata": {},
     "output_type": "execute_result"
    }
   ],
   "source": [
    "A = np.array([[12,24,0,11,-24,18,15],\n",
    "              [19,38,0,10,-31,25, 9],\n",
    "              [ 1, 2,0,21, -5, 3,20],\n",
    "              [ 6,12,0,13,-10, 8, 5],\n",
    "              [22,44,0, 2,-12,17,23]])\n",
    "my_make_lin_ind(A)"
   ]
  },
  {
   "cell_type": "markdown",
   "id": "15933587",
   "metadata": {},
   "source": [
    "5. Cramer’s rule is a method of computing the determinant of a matrix. Consider an n×n square matrix M.                   \n",
    "Let $M(i, j)$ be the element of M in the $i^{th}$ row and $j^{th}$ column of M,                                             \n",
    "and let $m_{i,j}$ be the minor of M created by removing the $i^{th}$ row and $j^{th}$ column from M.                          \n",
    "Cramer’s rule says that\n",
    "\n",
    "$\\qquad\\qquad\\displaystyle{ \\det(M) =\\sum^n_{i=1} (−1)^{i−1}M(1, i) \\det(m_{i,j} )}$\n",
    "\n",
    "Write a function `my_rec_det(M)` where the output is det(M). Use Cramer’s rule to compute the determinant, not NumPy’s function."
   ]
  },
  {
   "cell_type": "code",
   "execution_count": 12,
   "id": "7ea5d11d",
   "metadata": {},
   "outputs": [],
   "source": [
    "def my_rec_det(M):\n",
    "    n = len(M)\n",
    "\n",
    "    # Base case: determinant of 1x1 matrix is the single element\n",
    "    if n == 1:\n",
    "        return M[0, 0]\n",
    "\n",
    "    determinant = 0\n",
    "\n",
    "    # Iterate over the first row of the matrix\n",
    "    for j in range(n):\n",
    "        # Calculate the minor matrix by removing the first row and current column\n",
    "        minor = M[1:, np.arange(n) != j]\n",
    "\n",
    "        # Recursively calculate the determinant of the minor matrix\n",
    "        minor_det = my_rec_det(minor)\n",
    "\n",
    "        # Add the term (-1)^(i+j) * M(1, i) * det(m_{i,j}) to the determinant\n",
    "        determinant += (-1) ** (1 + j) * M[0, j] * minor_det\n",
    "    return determinant"
   ]
  },
  {
   "cell_type": "code",
   "execution_count": 13,
   "id": "cc5719de",
   "metadata": {},
   "outputs": [
    {
     "data": {
      "text/plain": [
       "25"
      ]
     },
     "execution_count": 13,
     "metadata": {},
     "output_type": "execute_result"
    }
   ],
   "source": [
    "M = np.array([[1,-2, 3],\n",
    "              [2, 0, 3],\n",
    "              [1, 5, 4]])\n",
    "\n",
    "my_rec_det(M)"
   ]
  },
  {
   "cell_type": "markdown",
   "id": "692ca968",
   "metadata": {},
   "source": [
    "6. What is the complexity of `my_rec_det` in the previous problem?                                                             \n",
    "Do you think this is an effective way of determining if a matrix is singular or not?"
   ]
  },
  {
   "cell_type": "markdown",
   "id": "2a003384",
   "metadata": {},
   "source": [
    "The complexity of the `my_rec_det function` using Cramer's rule is $O(n!)$ because it involves computing the determinant of each minor matrix recursively.                                                                                                \n",
    "Since there are n! possible minors, the time complexity grows factorially with the size of the matrix.\n",
    "\n",
    "In terms of determining if a matrix is singular or not, using Cramer's rule to compute the determinant may not be the most efficient approach.                                                                                                       \n",
    "The factorial time complexity makes it impractical for large matrices. Moreover, the computation of determinants using Cramer's rule can be numerically unstable, leading to inaccurate results due to accumulated round-off errors."
   ]
  },
  {
   "cell_type": "markdown",
   "id": "21707e41",
   "metadata": {},
   "source": [
    "7. Let $p$ be a vector with length $L$ containing the coefficients of a polynomial of order $L −1.$                           \n",
    "For example, the vector $p = [1, 0, 2]$ is a representation of the polynomial $f (x) = 1x^2 +0x + 2.$                         \n",
    "Write a function `my_poly_der_mat(p)` where $p$ is the aforementioned vector, and the output $D$ is the matrix that will return the coefficients of the derivative of p when p is left multiplied by $D.$ For example, the derivative of $f (x)$ is $f'(x) = 2x;$ therefore, $d = Dp$ should yield $d = [2, 0].$                                                                   \n",
    "Note this implies that the dimension of $D$ is $L− 1×L.$                                                                      \n",
    "The point of this problem is to show that differentiating polynomials is actually a linear transformation."
   ]
  },
  {
   "cell_type": "code",
   "execution_count": 14,
   "id": "41954b49",
   "metadata": {},
   "outputs": [],
   "source": [
    "def my_poly_der_mat(p):\n",
    "    L = len(p)                # Length of the coefficient vector p\n",
    "    D = np.zeros((L - 1, L))  # Initialize the differentiation matrix D\n",
    "\n",
    "    # Compute the differentiation matrix\n",
    "    for i in range(L - 1):\n",
    "        D[i, i] = (L - 1) - i\n",
    "    return D"
   ]
  },
  {
   "cell_type": "code",
   "execution_count": 15,
   "id": "13c17063",
   "metadata": {},
   "outputs": [
    {
     "data": {
      "text/plain": [
       "array([2., 0.])"
      ]
     },
     "execution_count": 15,
     "metadata": {},
     "output_type": "execute_result"
    }
   ],
   "source": [
    "p = [1, 0, 2]\n",
    "D = my_poly_der_mat(p)\n",
    "d = np.dot(D,p)\n",
    "d"
   ]
  },
  {
   "cell_type": "markdown",
   "id": "47eb9fac",
   "metadata": {},
   "source": [
    "8. Use the Gauss elimination method to solve the following equations:                                                          \n",
    "$\\qquad 3x_1 − x_2 +4x_3 = 2,$                                                                                                            \n",
    "$\\qquad 17x_1 + 2x_2 +x_3 = 14,$                                                                                                        \n",
    "$\\qquad x_1 +12x_2 −7x_3 = 54.$"
   ]
  },
  {
   "cell_type": "code",
   "execution_count": 16,
   "id": "0ef9f871",
   "metadata": {},
   "outputs": [],
   "source": [
    "def gauss_elm(a, b):\n",
    "    m, n = a.shape               \n",
    "    b = b.reshape(n,1)\n",
    "    M = np.hstack((a,b)).astype(float)                  #augmented_mat\n",
    "    print('\\nGaussian elimination (with Pivotting):\\n$ Original augmented matrix $')\n",
    "    display(Math(r'A|B = '+latex(Matrix(M))))\n",
    "    def swaprows(v,i,j):\n",
    "        if len(v.shape) == 1: v[i],v[j] = v[j],v[i]\n",
    "        else:   v[[i,j],:] = v[[j,i],:]\n",
    "    s = np.zeros(n)\n",
    "    for i in range(n):  s[i] = max(np.abs(M[i,:]))\n",
    "    for k in range(n):       \n",
    "        p = np.argmax(np.abs(a[k:n,k])/s[k:n]) + k   # row interchange, if needed\n",
    "        if p != k: swaprows(M,k,p)\n",
    "        for j in range(k+1,n):  \n",
    "            q = float(M[j][k]) / M[k][k]        # lambda\n",
    "            for m in range(k, n+1): M[j][m] -=  q * M[k][m] # Forward Elimination \n",
    "\n",
    "    display(Math(r'A|B = '+latex(Matrix(np.round(M,2)))))\n",
    "    x = np.zeros(n)\n",
    "    print('# From Backwards Substitution:')      \n",
    "    x[n-1] =float(M[n-1][n]) / M[n-1][n-1]  \n",
    "    for i in range (n-1,-1,-1):                         # Backwards Substitution         \n",
    "        z = 0.0                                     \n",
    "        for j in range(i+1,n): z = z  + float(M[i][j])*x[j]   \n",
    "        x[i] = float(M[i][n] - z) / M[i][i]\n",
    "        display(Math(r'\\qquad\\qquad x_{%i} = '%(i+1)+latex(np.round(x[i],4))))\n",
    "    display(Math(r'X = '+latex(Matrix(np.round(x,4)))))\n",
    "    print('# checking if AX == b :')\n",
    "    display(Math('A\\cdot X = '+latex(Matrix(np.round(np.dot(a,x.reshape(n,1)),2)))))\n",
    "    return None"
   ]
  },
  {
   "cell_type": "code",
   "execution_count": 17,
   "id": "31109943",
   "metadata": {},
   "outputs": [
    {
     "name": "stdout",
     "output_type": "stream",
     "text": [
      "\n",
      "Gaussian elimination (with Pivotting):\n",
      "$ Original augmented matrix $\n"
     ]
    },
    {
     "data": {
      "text/latex": [
       "$\\displaystyle A|B = \\left[\\begin{matrix}3.0 & -1.0 & 4.0 & 2.0\\\\17.0 & 2.0 & 1.0 & 14.0\\\\1.0 & 12.0 & -7.0 & 54.0\\end{matrix}\\right]$"
      ],
      "text/plain": [
       "<IPython.core.display.Math object>"
      ]
     },
     "metadata": {},
     "output_type": "display_data"
    },
    {
     "data": {
      "text/latex": [
       "$\\displaystyle A|B = \\left[\\begin{matrix}17.0 & 2.0 & 1.0 & 14.0\\\\0 & 11.88 & -7.06 & 53.18\\\\0 & 0 & 3.02 & 5.58\\end{matrix}\\right]$"
      ],
      "text/plain": [
       "<IPython.core.display.Math object>"
      ]
     },
     "metadata": {},
     "output_type": "display_data"
    },
    {
     "name": "stdout",
     "output_type": "stream",
     "text": [
      "# From Backwards Substitution:\n"
     ]
    },
    {
     "data": {
      "text/latex": [
       "$\\displaystyle \\qquad\\qquad x_{3} = 1.8492$"
      ],
      "text/plain": [
       "<IPython.core.display.Math object>"
      ]
     },
     "metadata": {},
     "output_type": "display_data"
    },
    {
     "data": {
      "text/latex": [
       "$\\displaystyle \\qquad\\qquad x_{2} = 5.5738$"
      ],
      "text/plain": [
       "<IPython.core.display.Math object>"
      ]
     },
     "metadata": {},
     "output_type": "display_data"
    },
    {
     "data": {
      "text/latex": [
       "$\\displaystyle \\qquad\\qquad x_{1} = 0.059$"
      ],
      "text/plain": [
       "<IPython.core.display.Math object>"
      ]
     },
     "metadata": {},
     "output_type": "display_data"
    },
    {
     "data": {
      "text/latex": [
       "$\\displaystyle X = \\left[\\begin{matrix}0.059\\\\5.5738\\\\1.8492\\end{matrix}\\right]$"
      ],
      "text/plain": [
       "<IPython.core.display.Math object>"
      ]
     },
     "metadata": {},
     "output_type": "display_data"
    },
    {
     "name": "stdout",
     "output_type": "stream",
     "text": [
      "# checking if AX == b :\n"
     ]
    },
    {
     "data": {
      "text/latex": [
       "$\\displaystyle A\\cdot X = \\left[\\begin{matrix}2.0\\\\14.0\\\\54.0\\end{matrix}\\right]$"
      ],
      "text/plain": [
       "<IPython.core.display.Math object>"
      ]
     },
     "metadata": {},
     "output_type": "display_data"
    },
    {
     "name": "stdout",
     "output_type": "stream",
     "text": [
      "**************************************************************\n",
      "direct read using numpy.linalg.solve()\n"
     ]
    },
    {
     "data": {
      "text/latex": [
       "$\\displaystyle X=A^{-1}\\cdot B = \\left[\\begin{matrix}0.059\\\\5.5738\\\\1.8492\\end{matrix}\\right]$"
      ],
      "text/plain": [
       "<IPython.core.display.Math object>"
      ]
     },
     "metadata": {},
     "output_type": "display_data"
    },
    {
     "name": "stdout",
     "output_type": "stream",
     "text": [
      "**************************************************************\n"
     ]
    }
   ],
   "source": [
    "A = np.array([[ 3., -1., 4.],\n",
    "              [17.,  2., 1.],\n",
    "              [ 1., 12.,-7.]])\n",
    "\n",
    "b = np.array([2.,14.,54.])\n",
    "\n",
    "gauss_elm(A, b)\n",
    "print('**************************************************************')\n",
    "print(\"direct read using numpy.linalg.solve()\")\n",
    "display(Math(r'X=A^{-1}\\cdot B = '+latex(Matrix(np.round(np.linalg.solve(A, b),4)))))\n",
    "print('**************************************************************')"
   ]
  },
  {
   "cell_type": "markdown",
   "id": "80913ff7",
   "metadata": {},
   "source": [
    "9. Use the Gauss–Jordan elimination method to solve the equations in Problem 8."
   ]
  },
  {
   "cell_type": "code",
   "execution_count": 18,
   "id": "875b5085",
   "metadata": {},
   "outputs": [],
   "source": [
    "def gauss_jordan(a, b):\n",
    "    m, n = a.shape               \n",
    "    b = b.reshape(n,1)\n",
    "    M = np.hstack((a,b)).astype(float)                      #augmented_mat\n",
    "    print('\\n Gauss Jordan elimination:\\n$ Original augmented matrix $')\n",
    "    display(Math(r'A|B = '+latex(Matrix(M))))\n",
    "    ol = [[0, m - 1, 1], [m - 1, 0, -1]]               #outer_loop\n",
    "    for d in range(2):\n",
    "        for i in range(ol[d][0], ol[d][1], ol[d][2]):\n",
    "            il = [[i + 1, m, 1], [i - 1, -1, -1]]                #inner_loop\n",
    "            for j in range(il[d][0], il[d][1], il[d][2]):\n",
    "                k = (-1) * M[j, i] / M[i, i]\n",
    "                temp_row = M[i, :] * k\n",
    "                M[j, :] += temp_row\n",
    "    for i in range(0, m):\n",
    "        M[i, :] = M[i, :] / M[i, i]\n",
    "    print('# Normalizing the rows')\n",
    "    display(Math(r'A|B = '+latex(Matrix(np.round(M,2)))))\n",
    "    print(\"# Now on extracting the %ith column from the above matrix we get X :\"%(n+1))\n",
    "    display(Math(r'X = '+latex(Matrix(np.round(M[:, n],4)))))\n",
    "    print('# checking if AX == b :')\n",
    "    display(Math(r'A\\cdot X = '+latex(Matrix(np.round(np.dot(a,(M[:, n]).reshape(n,1)),2)))))\n",
    "    return None"
   ]
  },
  {
   "cell_type": "code",
   "execution_count": 19,
   "id": "764b1c79",
   "metadata": {},
   "outputs": [
    {
     "name": "stdout",
     "output_type": "stream",
     "text": [
      "\n",
      " Gauss Jordan elimination:\n",
      "$ Original augmented matrix $\n"
     ]
    },
    {
     "data": {
      "text/latex": [
       "$\\displaystyle A|B = \\left[\\begin{matrix}3.0 & -1.0 & 4.0 & 2.0\\\\17.0 & 2.0 & 1.0 & 14.0\\\\1.0 & 12.0 & -7.0 & 54.0\\end{matrix}\\right]$"
      ],
      "text/plain": [
       "<IPython.core.display.Math object>"
      ]
     },
     "metadata": {},
     "output_type": "display_data"
    },
    {
     "name": "stdout",
     "output_type": "stream",
     "text": [
      "# Normalizing the rows\n"
     ]
    },
    {
     "data": {
      "text/latex": [
       "$\\displaystyle A|B = \\left[\\begin{matrix}1.0 & 0 & 0 & 0.06\\\\0 & 1.0 & 0 & 5.57\\\\0 & 0 & 1.0 & 1.85\\end{matrix}\\right]$"
      ],
      "text/plain": [
       "<IPython.core.display.Math object>"
      ]
     },
     "metadata": {},
     "output_type": "display_data"
    },
    {
     "name": "stdout",
     "output_type": "stream",
     "text": [
      "# Now on extracting the 4th column from the above matrix we get X :\n"
     ]
    },
    {
     "data": {
      "text/latex": [
       "$\\displaystyle X = \\left[\\begin{matrix}0.059\\\\5.5738\\\\1.8492\\end{matrix}\\right]$"
      ],
      "text/plain": [
       "<IPython.core.display.Math object>"
      ]
     },
     "metadata": {},
     "output_type": "display_data"
    },
    {
     "name": "stdout",
     "output_type": "stream",
     "text": [
      "# checking if AX == b :\n"
     ]
    },
    {
     "data": {
      "text/latex": [
       "$\\displaystyle A\\cdot X = \\left[\\begin{matrix}2.0\\\\14.0\\\\54.0\\end{matrix}\\right]$"
      ],
      "text/plain": [
       "<IPython.core.display.Math object>"
      ]
     },
     "metadata": {},
     "output_type": "display_data"
    },
    {
     "name": "stdout",
     "output_type": "stream",
     "text": [
      "**************************************************************\n",
      "direct read using numpy.linalg.solve()\n"
     ]
    },
    {
     "data": {
      "text/latex": [
       "$\\displaystyle X=A^{-1}\\cdot B = \\left[\\begin{matrix}0.059\\\\5.5738\\\\1.8492\\end{matrix}\\right]$"
      ],
      "text/plain": [
       "<IPython.core.display.Math object>"
      ]
     },
     "metadata": {},
     "output_type": "display_data"
    },
    {
     "name": "stdout",
     "output_type": "stream",
     "text": [
      "**************************************************************\n"
     ]
    }
   ],
   "source": [
    "A = np.array([[ 3., -1., 4.],\n",
    "              [17.,  2., 1.],\n",
    "              [ 1., 12.,-7.]])\n",
    "\n",
    "b = np.array([2.,14.,54.])\n",
    "gauss_jordan(A, b)\n",
    "print('**************************************************************')\n",
    "print(\"direct read using numpy.linalg.solve()\")\n",
    "display(Math(r'X=A^{-1}\\cdot B = '+latex(Matrix(np.round(np.linalg.solve(A, b),4)))))\n",
    "print('**************************************************************')"
   ]
  },
  {
   "cell_type": "markdown",
   "id": "2ad866fc",
   "metadata": {},
   "source": [
    "10. Obtain the lower triangular matrix L and upper triangular matrix U from the equations in Problem 8."
   ]
  },
  {
   "cell_type": "code",
   "execution_count": 20,
   "id": "bbda762e",
   "metadata": {},
   "outputs": [],
   "source": [
    "def lu_decomposition(a):\n",
    "    n = a.shape[0]\n",
    "    L = np.eye(n, dtype=np.double)\n",
    "    U = np.copy(a)\n",
    "\n",
    "    for k in range(n - 1):\n",
    "        for i in range(k + 1, n):\n",
    "            L[i, k] = U[i, k] / U[k, k]\n",
    "            U[i, k:] -= L[i, k] * U[k, k:]\n",
    "    display(Math(r'L = '+latex(Matrix(np.round(L,4)))))\n",
    "    display(Math(r'U = '+latex(Matrix(np.round(U,4))))) \n",
    "    display(Math(r'L\\cdot U = '+latex(Matrix(np.round(np.dot(L,U),4)))))\n",
    "    return None"
   ]
  },
  {
   "cell_type": "code",
   "execution_count": 21,
   "id": "7dc85469",
   "metadata": {},
   "outputs": [
    {
     "data": {
      "text/latex": [
       "$\\displaystyle L = \\left[\\begin{matrix}1.0 & 0 & 0\\\\-0.5 & 1.0 & 0\\\\2.0 & -0.8 & 1.0\\end{matrix}\\right]$"
      ],
      "text/plain": [
       "<IPython.core.display.Math object>"
      ]
     },
     "metadata": {},
     "output_type": "display_data"
    },
    {
     "data": {
      "text/latex": [
       "$\\displaystyle U = \\left[\\begin{matrix}4.0 & 3.0 & -5.0\\\\0 & -2.5 & 2.5\\\\0 & 0 & 12.0\\end{matrix}\\right]$"
      ],
      "text/plain": [
       "<IPython.core.display.Math object>"
      ]
     },
     "metadata": {},
     "output_type": "display_data"
    },
    {
     "data": {
      "text/latex": [
       "$\\displaystyle L\\cdot U = \\left[\\begin{matrix}4.0 & 3.0 & -5.0\\\\-2.0 & -4.0 & 5.0\\\\8.0 & 8.0 & 0\\end{matrix}\\right]$"
      ],
      "text/plain": [
       "<IPython.core.display.Math object>"
      ]
     },
     "metadata": {},
     "output_type": "display_data"
    }
   ],
   "source": [
    "A = np.array([[ 4., 3., -5.],\n",
    "              [-2.,-4.,  5.],\n",
    "              [ 8., 8.,  0.]])\n",
    "lu_decomposition(A)"
   ]
  },
  {
   "cell_type": "markdown",
   "id": "fd93dde3",
   "metadata": {},
   "source": [
    "11. Show that the dot-product distributes across vector addition, that is, show that $u\\cdot (v+w) = u\\cdot v +u\\cdot w$"
   ]
  },
  {
   "cell_type": "code",
   "execution_count": 22,
   "id": "98ba3f88",
   "metadata": {},
   "outputs": [
    {
     "data": {
      "text/latex": [
       "$\\displaystyle u(v+w) = \\left[\\begin{matrix}50 & 56\\\\114 & 128\\end{matrix}\\right]$"
      ],
      "text/plain": [
       "<IPython.core.display.Math object>"
      ]
     },
     "metadata": {},
     "output_type": "display_data"
    },
    {
     "data": {
      "text/latex": [
       "$\\displaystyle uv + uw = \\left[\\begin{matrix}50 & 56\\\\114 & 128\\end{matrix}\\right]$"
      ],
      "text/plain": [
       "<IPython.core.display.Math object>"
      ]
     },
     "metadata": {},
     "output_type": "display_data"
    }
   ],
   "source": [
    "def dot_product_distributive(u, v, w):\n",
    "    result1 = u.dot(v + w)\n",
    "    result2 = u.dot(v) + u.dot(w)\n",
    "    display(Math(r'u(v+w) = '+latex(Matrix(result1))))\n",
    "    display(Math(r'uv + uw = '+latex(Matrix(result2))))\n",
    "    return None\n",
    "\n",
    "# Test with sample vectors\n",
    "u = np.array([[1, 2],\n",
    "              [3, 4]])\n",
    "\n",
    "v = np.array([[5, 6], \n",
    "              [7, 8]])\n",
    "\n",
    "w = np.array([[9, 10], \n",
    "              [11, 12]])\n",
    "\n",
    "# Compute dot product and compare the results\n",
    "dot_product_distributive(u, v, w)"
   ]
  },
  {
   "attachments": {
    "image.png": {
     "image/png": "[encoded data removed]"
    }
   },
   "cell_type": "markdown",
   "id": "34bc0ae5",
   "metadata": {},
   "source": [
    "12. Consider the following network shown in Fig. 14.1 consisting of two power supply stations denoted by S1 and S2 and five power recipient nodes denoted by N1 to N5. The nodes are connected by power lines, which are denoted by arrows, and power can flow between nodes along these lines in both directions.\n",
    "\n",
    "![image.png](attachment:image.png)\n",
    "\n",
    "Let $d_i$ be a positive scalar denoting the power demand for node $i;$ assume that this demand must be met exactly.                                                                            \n",
    "The capacity of the power supply stations is denoted by S.                                           \n",
    "Power supply stations must run at capacity.                                                                                         \n",
    "For each arrow, let $f_j$ be the power flow along that arrow.                                         \n",
    "Negative flow implies that power is running in the opposite direction of the arrow.                \n",
    "\n",
    "Write a function `my_flow_calculator(S,d)` where S is a 1×2 vector representing the capacity\n",
    "of each power supply station, and d is a 1×5 row vector representing the demands at each node\n",
    "(i.e., d[0] is the demand at node 1).                                                                         \n",
    "The output argument, f, should be a 1×7 row vector denoting the flows in the network (i.e., $f[0] = f_1$ in the diagram).                                                                           \n",
    "The flows contained in $f$ should satisfy all the constraints of the system, like power generation and demands.                                                                                              \n",
    "Note that there may be more than one solution to the system of equations.                             \n",
    "The total flow into a node must equal the total flow out of the node plus the demand;                  \n",
    "that is, for each node $i, f_{inflow} = f_{outflow} + d_i$ . You may assume that $\\sum S_j =\\sum d_i .$"
   ]
  },
  {
   "cell_type": "code",
   "execution_count": 23,
   "id": "2fcf0011",
   "metadata": {},
   "outputs": [],
   "source": [
    "def my_flow_calculator(S, d):\n",
    "    # Number of nodes and power supply stations\n",
    "    num_nodes = len(d)\n",
    "    num_supply_stations = len(S)\n",
    "\n",
    "    # Construct the coefficient matrix A and the demand vector b\n",
    "    A = np.zeros((num_nodes, num_nodes + num_supply_stations))\n",
    "    b = np.zeros((num_nodes, 1))\n",
    "\n",
    "    # Assign coefficients to A and b\n",
    "    for i in range(num_nodes):\n",
    "        for j in range(num_nodes):\n",
    "            if i == j:\n",
    "                A[i, j] = -1  # Coefficient for outflow from node i\n",
    "            elif i in (j - 1, j + 1):\n",
    "                A[i, j] = 1  # Coefficient for inflow to node i\n",
    "        b[i] = d[i]  # Demand at node i\n",
    "\n",
    "    # Add additional constraints for power supply stations\n",
    "    for j in range(num_supply_stations):\n",
    "        A[j, num_nodes + j] = -1  # Coefficient for outflow from power supply station j\n",
    "        b[j] = S[j]  # Capacity of power supply station j\n",
    "\n",
    "    # Solve the linear system of equations\n",
    "    f = np.linalg.lstsq(A, b, rcond=None)[0].flatten()\n",
    "\n",
    "    display(Math(r'f = '+latex(Matrix(f))))\n",
    "    return None"
   ]
  },
  {
   "cell_type": "code",
   "execution_count": 24,
   "id": "8986f225",
   "metadata": {},
   "outputs": [
    {
     "data": {
      "text/latex": [
       "$\\displaystyle f = \\left[\\begin{matrix}4.18181818181818\\\\10.2727272727273\\\\13.0\\\\9.72727272727272\\\\4.72727272727272\\\\-3.90909090909092\\\\-8.09090909090909\\end{matrix}\\right]$"
      ],
      "text/plain": [
       "<IPython.core.display.Math object>"
      ]
     },
     "metadata": {},
     "output_type": "display_data"
    }
   ],
   "source": [
    "S = [10, 15]\n",
    "d = [5, 2, 7, 8, 5]\n",
    "\n",
    "my_flow_calculator(S, d)"
   ]
  }
 ],
 "metadata": {
  "kernelspec": {
   "display_name": "Python 3 (ipykernel)",
   "language": "python",
   "name": "python3"
  },
  "language_info": {
   "codemirror_mode": {
    "name": "ipython",
    "version": 3
   },
   "file_extension": ".py",
   "mimetype": "text/x-python",
   "name": "python",
   "nbconvert_exporter": "python",
   "pygments_lexer": "ipython3",
   "version": "3.10.9"
  }
 },
 "nbformat": 4,
 "nbformat_minor": 5
}
