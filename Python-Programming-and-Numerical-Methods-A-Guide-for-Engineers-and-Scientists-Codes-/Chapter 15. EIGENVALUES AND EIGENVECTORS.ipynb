{
 "cells": [
  {
   "cell_type": "code",
   "execution_count": 1,
   "id": "a8a55c3a",
   "metadata": {},
   "outputs": [],
   "source": [
    "import numpy as np\n",
    "from sympy import *\n",
    "from pylab import *\n",
    "import matplotlib.pyplot as plt\n",
    "from IPython.display import display, Math"
   ]
  },
  {
   "cell_type": "markdown",
   "id": "66826c08",
   "metadata": {},
   "source": [
    "1. Write down the characteristic equation for matrix $A = \\begin{bmatrix} 3&2\\\\ 5&3 \\end{bmatrix}$"
   ]
  },
  {
   "cell_type": "markdown",
   "id": "28d4931d",
   "metadata": {},
   "source": [
    "The characteristic equation is then formed by setting the determinant of $(A - \\lambda I)$ equal to zero,                        \n",
    "where $\\lambda$ is the eigenvalue and I is the identity matrix of the same size as $A.$\n",
    "\n",
    "For the matrix A:\n",
    "\n",
    "$A = \\begin{bmatrix} 3&2\\\\ 5&3 \\end{bmatrix}$\n",
    "\n",
    "To find the characteristic equation, we subtract λI from A:\n",
    "\n",
    "$A-\\lambda\\text{I} = \\begin{bmatrix} 3-\\lambda&2 \\\\ 5&3-\\lambda \\end{bmatrix}$\n",
    "\n",
    "The determinant of $(A - \\lambda I)$ is:\n",
    "\n",
    "$\\det(A-\\lambda\\text{I}) = (3-\\lambda)\\times(3-\\lambda) - (2\\times 5) = \\lambda^2-6\\lambda+9-10 = \\lambda^2-6\\lambda-1$\n",
    "\n",
    "Therefore, the characteristic equation for matrix $A$ is:\n",
    "$\\lambda^2-6\\lambda-1$"
   ]
  },
  {
   "cell_type": "markdown",
   "id": "ef74691f",
   "metadata": {},
   "source": [
    "2. Use the above characteristic equation to solve for eigenvalues and eigenvectors of matrix A."
   ]
  },
  {
   "cell_type": "markdown",
   "id": "7b215307",
   "metadata": {},
   "source": [
    "$\\lambda=\\frac{6\\pm\\sqrt{36+4}}{2}=\\frac{6\\pm\\sqrt{40}}{2}=\\frac{6\\pm2\\sqrt{10}}{2}=3\\pm1\\sqrt{10}$\n",
    "\n",
    "$\\lambda_1=3+1\\sqrt{10}=6.16\\qquad\\lambda_2=3-1\\sqrt{10}=-0.16$\n",
    "\n",
    "$Ax=\\lambda x$\n",
    "\n",
    "$(A-\\lambda I) x=0$\n",
    "\n",
    "For $\\lambda=6.16, \\qquad\\begin{bmatrix} 3-6.16 & 2 \\\\ 5 & 3-6.16 \\end{bmatrix} \\begin{bmatrix} x \\\\ y\\end{bmatrix}=0 => \\begin{bmatrix} -3.16x+2y \\\\ 5x-3.16y \\end{bmatrix} =0$\n",
    "\n"
   ]
  },
  {
   "cell_type": "markdown",
   "id": "e8ae166d",
   "metadata": {},
   "source": [
    "$3.16x=2y => y=\\frac{3.16}{2}x$\n",
    "\n",
    "$5x=3.16y => x=\\frac{3.16}{5}y$\n",
    "\n"
   ]
  },
  {
   "cell_type": "markdown",
   "id": "01e7afa6",
   "metadata": {},
   "source": [
    "For $\\lambda=-0.16, \\qquad\\begin{bmatrix} 3+0.16 & 2 \\\\ 5 & 3+0.16 \\end{bmatrix} \\begin{bmatrix} x \\\\ y\\end{bmatrix}=0 => \\begin{bmatrix} 3.16x+2y \\\\ 5x+3.16y \\end{bmatrix} =0$\n",
    "\n"
   ]
  },
  {
   "cell_type": "markdown",
   "id": "956a6cca",
   "metadata": {},
   "source": [
    "$3.16x=-2y => y=-\\frac{3.16}{2}x$\n",
    "\n",
    "$5x=-3.16y => x=-\\frac{3.16}{5}y$"
   ]
  },
  {
   "cell_type": "code",
   "execution_count": 2,
   "id": "c7443995",
   "metadata": {},
   "outputs": [
    {
     "data": {
      "text/latex": [
       "$\\displaystyle \\lambda_1:6.16\\qquad X_1:\\left[\\begin{matrix}0.53\\\\0.85\\end{matrix}\\right]$"
      ],
      "text/plain": [
       "<IPython.core.display.Math object>"
      ]
     },
     "metadata": {},
     "output_type": "display_data"
    },
    {
     "data": {
      "text/latex": [
       "$\\displaystyle \\lambda_2:-0.16\\qquad X_2:\\left[\\begin{matrix}-0.53\\\\0.85\\end{matrix}\\right]$"
      ],
      "text/plain": [
       "<IPython.core.display.Math object>"
      ]
     },
     "metadata": {},
     "output_type": "display_data"
    }
   ],
   "source": [
    "a=np.array([[3,2],\n",
    "            [5,3]])\n",
    "\n",
    "l,x=np.linalg.eig(a)\n",
    "for i in range(len(l)):\n",
    "    display(Math('\\lambda_{}:'.format(i+1)+latex(l[i].round(2))+'\\qquad X_{}:'.format(i+1)+latex(Matrix(x[:,i].round(2)))))"
   ]
  },
  {
   "cell_type": "markdown",
   "id": "803051bc",
   "metadata": {},
   "source": [
    "3. Use the first eigenvector derived from Problem 2 to verify that $Ax = \\lambda x.$"
   ]
  },
  {
   "cell_type": "code",
   "execution_count": 3,
   "id": "99d1b8ee",
   "metadata": {},
   "outputs": [
    {
     "data": {
      "text/latex": [
       "$\\displaystyle Ax = \\left[\\begin{matrix}3.29\\\\5.21\\end{matrix}\\right]\\quad \\lambda X = \\left[\\begin{matrix}3.29\\\\5.21\\end{matrix}\\right]$"
      ],
      "text/plain": [
       "<IPython.core.display.Math object>"
      ]
     },
     "metadata": {},
     "output_type": "display_data"
    },
    {
     "name": "stdout",
     "output_type": "stream",
     "text": [
      "Are the results equal? True\n"
     ]
    }
   ],
   "source": [
    "l1=l[0]\n",
    "x1=x[:,0]\n",
    "\n",
    "Ax1=np.dot(a,x1).round(2)\n",
    "l1x1=np.dot(l1,x1).round(2)\n",
    "\n",
    "# Compare the results\n",
    "display(Math(r'Ax = '+latex(Matrix(Ax1))+r'\\quad \\lambda X = '+latex(Matrix(l1x1))))\n",
    "\n",
    "print(\"Are the results equal?\", np.array_equal(Ax1, l1x1)) # Check if the results are equal"
   ]
  },
  {
   "cell_type": "markdown",
   "id": "407ea540",
   "metadata": {},
   "source": [
    "4. Use the power method to obtain the largest eigenvalue and eigenvector for the matrix\n",
    "$A = \\begin{bmatrix} 2 &1 &2\\\\ 1& 3& 2 \\\\ 2& 4& 1\\end{bmatrix}$                                                              \n",
    "Start with initial vector $[1, 1, 1]$ and see the results after eight iterations."
   ]
  },
  {
   "cell_type": "code",
   "execution_count": 4,
   "id": "edba4990",
   "metadata": {},
   "outputs": [],
   "source": [
    "def Power_Method(A):    \n",
    "    \n",
    "    a = A.copy()\n",
    "    def normalize(x):\n",
    "        fac = abs(x).max()\n",
    "        x_n = x / x.max()\n",
    "        return fac, x_n\n",
    "    \n",
    "    x=np.ones(a.shape[0])\n",
    "    \n",
    "    for i in range(8):\n",
    "        x = np.dot(a, x)\n",
    "        lambda_1, x = normalize(x)\n",
    "    return lambda_1,x"
   ]
  },
  {
   "cell_type": "code",
   "execution_count": 5,
   "id": "fc16760a",
   "metadata": {},
   "outputs": [],
   "source": [
    "A = np.array([[2, 1, 2], \n",
    "              [1, 3, 2],\n",
    "              [2, 4, 1]])"
   ]
  },
  {
   "cell_type": "code",
   "execution_count": 6,
   "id": "9d13205a",
   "metadata": {},
   "outputs": [
    {
     "data": {
      "text/latex": [
       "$\\displaystyle \\lambda = 6.02908804313758\\qquad x = \\left[\\begin{matrix}0.719188491175225\\\\0.897685203177514\\\\1.0\\end{matrix}\\right]$"
      ],
      "text/plain": [
       "<IPython.core.display.Math object>"
      ]
     },
     "metadata": {},
     "output_type": "display_data"
    }
   ],
   "source": [
    "lambda_1, x = Power_Method(A)\n",
    "display(Math(r'\\lambda = '+latex(lambda_1)+(r'\\qquad x = '+latex(Matrix(x)))))"
   ]
  },
  {
   "cell_type": "markdown",
   "id": "7f10bbd0",
   "metadata": {},
   "source": [
    "5. Using the inverse power method to get the smallest eigenvalue and eigenvector for the matrix in Problem 4, see how many iterations are needed for it to converge to the smallest eigenvalue."
   ]
  },
  {
   "cell_type": "code",
   "execution_count": 7,
   "id": "db622b97",
   "metadata": {},
   "outputs": [],
   "source": [
    "def Inv_Power_Method(A):    \n",
    "    \n",
    "    a = A.copy()\n",
    "    a_inv = np.linalg.inv(a)\n",
    "    \n",
    "    def normalize(x):\n",
    "        fac = abs(x).max()\n",
    "        x_n = x / x.max()\n",
    "        return fac, x_n\n",
    "    \n",
    "    x=np.ones(a.shape[0])\n",
    "    \n",
    "    for i in range(8):\n",
    "        x = np.dot(a_inv, x)\n",
    "        lambda_1, x = normalize(x)\n",
    "    return lambda_1,x"
   ]
  },
  {
   "cell_type": "code",
   "execution_count": 8,
   "id": "f218e46a",
   "metadata": {},
   "outputs": [
    {
     "data": {
      "text/latex": [
       "$\\displaystyle \\lambda = 1.3284206550294\\qquad x = \\left[\\begin{matrix}1.0\\\\-0.146722840908131\\\\-0.660335035464779\\end{matrix}\\right]$"
      ],
      "text/plain": [
       "<IPython.core.display.Math object>"
      ]
     },
     "metadata": {},
     "output_type": "display_data"
    }
   ],
   "source": [
    "lambda_1, x = Inv_Power_Method(A)\n",
    "display(Math(r'\\lambda = '+latex(lambda_1)+(r'\\qquad x = '+latex(Matrix(x)))))"
   ]
  },
  {
   "cell_type": "markdown",
   "id": "576b9e26",
   "metadata": {},
   "source": [
    "6. Perform a QR decomposition for matrix A in Problem 4. Verify that A = QR and Q is an orthogonal matrix."
   ]
  },
  {
   "cell_type": "code",
   "execution_count": 9,
   "id": "151579ae",
   "metadata": {},
   "outputs": [],
   "source": [
    "def qr_decomposition(A):\n",
    "    \n",
    "    a=A.copy()\n",
    "    n = a.shape[0]  # Size of the matrix\n",
    "    Q = np.eye(n)\n",
    "    R = a.copy()\n",
    "\n",
    "    for k in range(n - 1):\n",
    "        x = R[k:, k]\n",
    "        e = np.zeros_like(x)\n",
    "        e[0] = np.sign(x[0]) * np.linalg.norm(x)\n",
    "        u = x - e\n",
    "        v = u / np.linalg.norm(u)\n",
    "\n",
    "        Qk = np.eye(n)\n",
    "        Qk[k:, k:] -= 2.0 * np.outer(v, v)\n",
    "\n",
    "        R = np.dot(Qk, R)\n",
    "        Q = np.dot(Q, Qk.T)\n",
    "    return Q,R"
   ]
  },
  {
   "cell_type": "code",
   "execution_count": 10,
   "id": "2f65396b",
   "metadata": {},
   "outputs": [
    {
     "data": {
      "text/latex": [
       "$\\displaystyle Q = \\left[\\begin{matrix}0.67 & 0.7 & 0.25\\\\0.33 & -0.58 & 0.74\\\\0.67 & -0.41 & -0.62\\end{matrix}\\right]$"
      ],
      "text/plain": [
       "<IPython.core.display.Math object>"
      ]
     },
     "metadata": {},
     "output_type": "display_data"
    },
    {
     "data": {
      "text/latex": [
       "$\\displaystyle R = \\left[\\begin{matrix}3.0 & 4.33 & 2.67\\\\0 & -2.69 & -0.17\\\\0 & 0 & 1.36\\end{matrix}\\right]$"
      ],
      "text/plain": [
       "<IPython.core.display.Math object>"
      ]
     },
     "metadata": {},
     "output_type": "display_data"
    },
    {
     "data": {
      "text/latex": [
       "$\\displaystyle QR = \\left[\\begin{matrix}2.0 & 1.0 & 2.0\\\\1.0 & 3.0 & 2.0\\\\2.0 & 4.0 & 1.0\\end{matrix}\\right]$"
      ],
      "text/plain": [
       "<IPython.core.display.Math object>"
      ]
     },
     "metadata": {},
     "output_type": "display_data"
    },
    {
     "name": "stdout",
     "output_type": "stream",
     "text": [
      "Is Q an orthogonal matrix? True\n",
      "************************************************\n"
     ]
    },
    {
     "data": {
      "text/latex": [
       "$\\displaystyle Q = \\left[\\begin{matrix}-0.67 & 0.7 & -0.25\\\\-0.33 & -0.58 & -0.74\\\\-0.67 & -0.41 & 0.62\\end{matrix}\\right]$"
      ],
      "text/plain": [
       "<IPython.core.display.Math object>"
      ]
     },
     "metadata": {},
     "output_type": "display_data"
    },
    {
     "data": {
      "text/latex": [
       "$\\displaystyle R = \\left[\\begin{matrix}-3.0 & -4.33 & -2.67\\\\0 & -2.69 & -0.17\\\\0 & 0 & -1.36\\end{matrix}\\right]$"
      ],
      "text/plain": [
       "<IPython.core.display.Math object>"
      ]
     },
     "metadata": {},
     "output_type": "display_data"
    },
    {
     "data": {
      "text/latex": [
       "$\\displaystyle QR = \\left[\\begin{matrix}2.0 & 1.0 & 2.0\\\\1.0 & 3.0 & 2.0\\\\2.0 & 4.0 & 1.0\\end{matrix}\\right]$"
      ],
      "text/plain": [
       "<IPython.core.display.Math object>"
      ]
     },
     "metadata": {},
     "output_type": "display_data"
    },
    {
     "name": "stdout",
     "output_type": "stream",
     "text": [
      "Is Q an orthogonal matrix? True\n",
      "************************************************\n"
     ]
    }
   ],
   "source": [
    "Q, R = qr_decomposition(A)\n",
    "\n",
    "display(Math(r'Q = '+latex(Matrix(Q.round(2)))))\n",
    "display(Math(r'R = '+latex(Matrix(R.round(2)))))\n",
    "display(Math(r'QR = '+latex(Matrix(np.dot(Q,R).round(2)))))\n",
    "print(\"Is Q an orthogonal matrix?\", np.array_equal(np.transpose(Q).round(2), np.linalg.inv(Q).round(2))) \n",
    "\n",
    "print('************************************************')\n",
    "\n",
    "q, r = np.linalg.qr(A)\n",
    "\n",
    "display(Math(r'Q = '+latex(Matrix(q.round(2)))))\n",
    "display(Math(r'R = '+latex(Matrix(r.round(2)))))\n",
    "display(Math(r'QR = '+latex(Matrix(np.dot(q, r)))))\n",
    "print(\"Is Q an orthogonal matrix?\", np.array_equal(np.transpose(q).round(2), np.linalg.inv(q).round(2))) \n",
    "\n",
    "print('************************************************')"
   ]
  },
  {
   "cell_type": "markdown",
   "id": "8d8df83c",
   "metadata": {},
   "source": [
    "7. Use the QR method to get all the eigenvalues for matrix A in Problem 4"
   ]
  },
  {
   "cell_type": "code",
   "execution_count": 11,
   "id": "119ea2c3",
   "metadata": {},
   "outputs": [],
   "source": [
    "def qr_eigenvalues(a, tol=1e-6, max_iter=100):\n",
    "    \n",
    "    a = A.copy()\n",
    "    n = a.shape[0]  # Size of the matrix\n",
    "\n",
    "    for _ in range(max_iter):\n",
    "        Q, R = qr_decomposition(a)\n",
    "        a = np.dot(R, Q)\n",
    "\n",
    "        # Check for convergence\n",
    "        off_diag_sum = np.sum(np.abs(a - np.diag(np.diagonal(a))))\n",
    "        if off_diag_sum < tol:\n",
    "            break\n",
    "\n",
    "    eigenvalues = np.diagonal(a)\n",
    "    return eigenvalues"
   ]
  },
  {
   "cell_type": "code",
   "execution_count": 12,
   "id": "1be567a6",
   "metadata": {},
   "outputs": [
    {
     "name": "stdout",
     "output_type": "stream",
     "text": [
      "Eigenvalues: [ 6.03  0.67 -0.7 ]\n"
     ]
    }
   ],
   "source": [
    "eigenvalues = qr_eigenvalues(A)\n",
    "print(\"Eigenvalues:\", eigenvalues.round(2))"
   ]
  },
  {
   "cell_type": "markdown",
   "id": "e9939a25",
   "metadata": {},
   "source": [
    "8. Obtain the eigenvalues and eigenvectors for matrix A in Problem 4 using the Python built-in function."
   ]
  },
  {
   "cell_type": "code",
   "execution_count": 13,
   "id": "c1c5f003",
   "metadata": {},
   "outputs": [
    {
     "data": {
      "text/latex": [
       "$\\displaystyle \\lambda_1:6.03, \\ X_1:\\left[\\begin{matrix}-0.47\\\\-0.59\\\\-0.66\\end{matrix}\\right]$"
      ],
      "text/plain": [
       "<IPython.core.display.Math object>"
      ]
     },
     "metadata": {},
     "output_type": "display_data"
    },
    {
     "data": {
      "text/latex": [
       "$\\displaystyle \\lambda_2:1.34, \\ X_2:\\left[\\begin{matrix}-0.89\\\\0.45\\\\0.07\\end{matrix}\\right]$"
      ],
      "text/plain": [
       "<IPython.core.display.Math object>"
      ]
     },
     "metadata": {},
     "output_type": "display_data"
    },
    {
     "data": {
      "text/latex": [
       "$\\displaystyle \\lambda_3:-1.37, \\ X_3:\\left[\\begin{matrix}-0.42\\\\-0.3\\\\0.86\\end{matrix}\\right]$"
      ],
      "text/plain": [
       "<IPython.core.display.Math object>"
      ]
     },
     "metadata": {},
     "output_type": "display_data"
    }
   ],
   "source": [
    "l,x = np.linalg.eig(A)\n",
    "\n",
    "for i in range(len(l)):\n",
    "    display(Math(r'\\lambda_{}:'.format(i+1)+latex(l[i].round(2))+r', \\ X_{}:'.format(i+1)+latex(Matrix(x[:,i].round(2)))))"
   ]
  },
  {
   "cell_type": "markdown",
   "id": "be84bb83",
   "metadata": {},
   "source": [
    "***we observe that $\\lambda_2$ and $\\lambda_3 $ of problem 8 is twice of problem 7 that's just the reason of built in methods."
   ]
  }
 ],
 "metadata": {
  "kernelspec": {
   "display_name": "Python 3 (ipykernel)",
   "language": "python",
   "name": "python3"
  },
  "language_info": {
   "codemirror_mode": {
    "name": "ipython",
    "version": 3
   },
   "file_extension": ".py",
   "mimetype": "text/x-python",
   "name": "python",
   "nbconvert_exporter": "python",
   "pygments_lexer": "ipython3",
   "version": "3.10.9"
  }
 },
 "nbformat": 4,
 "nbformat_minor": 5
}
