{
 "cells": [
  {
   "cell_type": "code",
   "execution_count": 2,
   "id": "4c121d94",
   "metadata": {},
   "outputs": [],
   "source": [
    "import numpy as np"
   ]
  },
  {
   "cell_type": "markdown",
   "id": "fb715f1f",
   "metadata": {},
   "source": [
    "Compute the area of a triangle with base 10 and height 12. Recall that the area of a triangle is half the base times the height."
   ]
  },
  {
   "cell_type": "code",
   "execution_count": 1,
   "id": "bd19b7d0",
   "metadata": {},
   "outputs": [
    {
     "name": "stdout",
     "output_type": "stream",
     "text": [
      " the area of a triangle is : 60.0\n"
     ]
    }
   ],
   "source": [
    "def t_a(b,h):\n",
    "    return 0.5*b*h\n",
    "\n",
    "b=10\n",
    "h=12\n",
    "print(' the area of a triangle is :', t_a(b,h))"
   ]
  },
  {
   "cell_type": "markdown",
   "id": "42dc0b19",
   "metadata": {},
   "source": [
    "Compute the surface area and volume of a cylinder with radius 5 and height 3."
   ]
  },
  {
   "cell_type": "code",
   "execution_count": 5,
   "id": "e369f25b",
   "metadata": {},
   "outputs": [
    {
     "name": "stdout",
     "output_type": "stream",
     "text": [
      "surface area 251.32741228718345 \n",
      "and volume 235.61944901923448\n",
      "\n"
     ]
    }
   ],
   "source": [
    "def cylinder(r,h):\n",
    "    sa=2*np.pi*r*(h+r)\n",
    "    v=np.pi*h*r**2\n",
    "    print('surface area',sa,'\\nand volume',v)\n",
    "    return ''\n",
    "r=5\n",
    "h=3\n",
    "print(cylinder(r,h))"
   ]
  },
  {
   "cell_type": "markdown",
   "id": "d9fd09c3",
   "metadata": {},
   "source": [
    "Compute the slope between the points (3,4) and (5,9). Recall that the slope between points $(x_1,y_1)$ and $(x_2,y_2)$ is $\\frac{y_2−y_1}{x_2−x_1}$."
   ]
  },
  {
   "cell_type": "code",
   "execution_count": 6,
   "id": "8f01e6aa",
   "metadata": {},
   "outputs": [
    {
     "name": "stdout",
     "output_type": "stream",
     "text": [
      "the slope between the points  2.5\n"
     ]
    }
   ],
   "source": [
    "def slope(x1,x2,y1,y2):\n",
    "    return (y2-y1)/(x2-x1)\n",
    "\n",
    "x1,y1=3,4\n",
    "x2,y2=5,9\n",
    "print('the slope between the points ',slope(x1,x2,y1,y2))"
   ]
  },
  {
   "cell_type": "markdown",
   "id": "86a7a97a",
   "metadata": {},
   "source": [
    "Compute the distance between the points (3,4)\n",
    " and (5,9)\n",
    ". Recall that the distance between points in two dimensions is $\\sqrt{(x_2−x_1)^2+(y_2−y_1)^2}$."
   ]
  },
  {
   "cell_type": "code",
   "execution_count": 7,
   "id": "ef49527e",
   "metadata": {},
   "outputs": [
    {
     "name": "stdout",
     "output_type": "stream",
     "text": [
      " the distance between the points 5.385164807134504\n"
     ]
    }
   ],
   "source": [
    "def distance(x1,x2,y1,y2):\n",
    "    return ((y2-y1)**2+(x2-x1)**2)**0.5\n",
    "\n",
    "x1,y1=3,4\n",
    "x2,y2=5,9\n",
    "print(' the distance between the points',distance(x1,x2,y1,y2))"
   ]
  },
  {
   "cell_type": "markdown",
   "id": "f67ed628",
   "metadata": {},
   "source": [
    "Use Python’s factorial function to compute 6!"
   ]
  },
  {
   "cell_type": "code",
   "execution_count": 47,
   "id": "d8ddbab4",
   "metadata": {},
   "outputs": [
    {
     "name": "stdout",
     "output_type": "stream",
     "text": [
      "720\n"
     ]
    }
   ],
   "source": [
    "def factorial(n):\n",
    "    return np.prod([i for i in range(1,n+1)])\n",
    "n=6\n",
    "print(factorial(n))"
   ]
  },
  {
   "cell_type": "markdown",
   "id": "f4e8431f",
   "metadata": {},
   "source": [
    "A year is considered to be 365 days long. However, a more exact figure is 365.24 days. As a consequence, if we held to the standard 365-day year, we would gradually lose that fraction of the day over time, and seasons and other astronomical events would not occur as expected. A leap year is a year that has an extra day, February 29, to keep the timescale on track. Leap years occur on years that are exactly divisible by 4, unless it is exactly divisible by 100, unless it is divisible by 400. For example, the year 2004 is a leap year, the year 1900 is not a leap year, and the year 2000 is a leap year.\n",
    "Compute the number of leap years between the years 1500 and 2010."
   ]
  },
  {
   "cell_type": "code",
   "execution_count": 43,
   "id": "7de53cc1",
   "metadata": {},
   "outputs": [
    {
     "name": "stdout",
     "output_type": "stream",
     "text": [
      "1504 is a leap year!\n",
      "1508 is a leap year!\n",
      "1512 is a leap year!\n",
      "1516 is a leap year!\n",
      "1520 is a leap year!\n",
      "1524 is a leap year!\n",
      "1528 is a leap year!\n",
      "1532 is a leap year!\n",
      "1536 is a leap year!\n",
      "1540 is a leap year!\n",
      "1544 is a leap year!\n",
      "1548 is a leap year!\n",
      "1552 is a leap year!\n",
      "1556 is a leap year!\n",
      "1560 is a leap year!\n",
      "1564 is a leap year!\n",
      "1568 is a leap year!\n",
      "1572 is a leap year!\n",
      "1576 is a leap year!\n",
      "1580 is a leap year!\n",
      "1584 is a leap year!\n",
      "1588 is a leap year!\n",
      "1592 is a leap year!\n",
      "1596 is a leap year!\n",
      "1600 is a leap year!\n",
      "1604 is a leap year!\n",
      "1608 is a leap year!\n",
      "1612 is a leap year!\n",
      "1616 is a leap year!\n",
      "1620 is a leap year!\n",
      "1624 is a leap year!\n",
      "1628 is a leap year!\n",
      "1632 is a leap year!\n",
      "1636 is a leap year!\n",
      "1640 is a leap year!\n",
      "1644 is a leap year!\n",
      "1648 is a leap year!\n",
      "1652 is a leap year!\n",
      "1656 is a leap year!\n",
      "1660 is a leap year!\n",
      "1664 is a leap year!\n",
      "1668 is a leap year!\n",
      "1672 is a leap year!\n",
      "1676 is a leap year!\n",
      "1680 is a leap year!\n",
      "1684 is a leap year!\n",
      "1688 is a leap year!\n",
      "1692 is a leap year!\n",
      "1696 is a leap year!\n",
      "1704 is a leap year!\n",
      "1708 is a leap year!\n",
      "1712 is a leap year!\n",
      "1716 is a leap year!\n",
      "1720 is a leap year!\n",
      "1724 is a leap year!\n",
      "1728 is a leap year!\n",
      "1732 is a leap year!\n",
      "1736 is a leap year!\n",
      "1740 is a leap year!\n",
      "1744 is a leap year!\n",
      "1748 is a leap year!\n",
      "1752 is a leap year!\n",
      "1756 is a leap year!\n",
      "1760 is a leap year!\n",
      "1764 is a leap year!\n",
      "1768 is a leap year!\n",
      "1772 is a leap year!\n",
      "1776 is a leap year!\n",
      "1780 is a leap year!\n",
      "1784 is a leap year!\n",
      "1788 is a leap year!\n",
      "1792 is a leap year!\n",
      "1796 is a leap year!\n",
      "1804 is a leap year!\n",
      "1808 is a leap year!\n",
      "1812 is a leap year!\n",
      "1816 is a leap year!\n",
      "1820 is a leap year!\n",
      "1824 is a leap year!\n",
      "1828 is a leap year!\n",
      "1832 is a leap year!\n",
      "1836 is a leap year!\n",
      "1840 is a leap year!\n",
      "1844 is a leap year!\n",
      "1848 is a leap year!\n",
      "1852 is a leap year!\n",
      "1856 is a leap year!\n",
      "1860 is a leap year!\n",
      "1864 is a leap year!\n",
      "1868 is a leap year!\n",
      "1872 is a leap year!\n",
      "1876 is a leap year!\n",
      "1880 is a leap year!\n",
      "1884 is a leap year!\n",
      "1888 is a leap year!\n",
      "1892 is a leap year!\n",
      "1896 is a leap year!\n",
      "1904 is a leap year!\n",
      "1908 is a leap year!\n",
      "1912 is a leap year!\n",
      "1916 is a leap year!\n",
      "1920 is a leap year!\n",
      "1924 is a leap year!\n",
      "1928 is a leap year!\n",
      "1932 is a leap year!\n",
      "1936 is a leap year!\n",
      "1940 is a leap year!\n",
      "1944 is a leap year!\n",
      "1948 is a leap year!\n",
      "1952 is a leap year!\n",
      "1956 is a leap year!\n",
      "1960 is a leap year!\n",
      "1964 is a leap year!\n",
      "1968 is a leap year!\n",
      "1972 is a leap year!\n",
      "1976 is a leap year!\n",
      "1980 is a leap year!\n",
      "1984 is a leap year!\n",
      "1988 is a leap year!\n",
      "1992 is a leap year!\n",
      "1996 is a leap year!\n",
      "2000 is a leap year!\n",
      "2004 is a leap year!\n",
      "2008 is a leap year!\n"
     ]
    }
   ],
   "source": [
    "def leap_year(n):\n",
    "    if ((n%400==0) | (n%100!=0) & (n%4==0)):\n",
    "        print(n,'is a leap year!')\n",
    "    #else:\n",
    "        #print('not a leap year')\n",
    "    return None\n",
    "\n",
    "for n in range(1500,2011,1):\n",
    "    leap_year(n)"
   ]
  },
  {
   "cell_type": "markdown",
   "id": "24abcfdb",
   "metadata": {},
   "source": [
    "A very powerful approximation for $\\pi$\n",
    " was developed by a brilliant mathematician named Srinivasa Ramanujan. The approximation is the following:\n",
    "$\\frac{1}{\\pi}≈\\frac{2\\sqrt{2}}{9801}\\sum^N_{k=0}\\frac{(4k)!(1103+26390k)}{(k!)^4 396^{4k}}$\n",
    ".\n",
    "Use Ramanujan’s formula for $N=0$ and $N=1$ to approximate $\\pi$. Be sure to use format long. Compare your approximation with Python’s stored value for pi. Hint: $0!=1$ by definition"
   ]
  },
  {
   "cell_type": "code",
   "execution_count": 70,
   "id": "b16a9bce",
   "metadata": {},
   "outputs": [
    {
     "name": "stdout",
     "output_type": "stream",
     "text": [
      "0.31830987844047015 3.1415927300133055\n"
     ]
    }
   ],
   "source": [
    "def sn(N,s=0.):\n",
    "    for k in range(0,N):\n",
    "        k=int(k)\n",
    "        s+=(factorial(4*k)*(1103+26390*k))/(factorial(k)**4 * (396)**(4*k))\n",
    "    return (2*(2)**0.5/9801)*s\n",
    "\n",
    "p=sn(1)\n",
    "print(p,1/p)"
   ]
  },
  {
   "cell_type": "markdown",
   "id": "926e9034",
   "metadata": {},
   "source": [
    "The hyperbolic $\\sin or \\sinh$\n",
    " is defined in terms of exponentials as $\\sinh(x)=\\frac{\\exp(x)−\\exp(−x)}{2}$\n",
    ".\n",
    "Compute $\\sinh$\n",
    " for $x=2$\n",
    " using exponentials. Verify that the result is indeed the hyperbolic $sin$\n",
    " using Python’s function sinh in the math module."
   ]
  },
  {
   "cell_type": "code",
   "execution_count": 73,
   "id": "9539f633",
   "metadata": {},
   "outputs": [
    {
     "name": "stdout",
     "output_type": "stream",
     "text": [
      "3.626860407847019\n",
      "3.6268604078470186\n"
     ]
    }
   ],
   "source": [
    "def sin_h(x):\n",
    "    return (np.exp(x)-np.exp(-x))/2\n",
    "\n",
    "print(sin_h(2))\n",
    "\n",
    "import math\n",
    "print(math.sinh(2))"
   ]
  },
  {
   "cell_type": "markdown",
   "id": "cad23d07",
   "metadata": {},
   "source": [
    "Verify that $\\sin^2(x)+\\cos^2(x)=1$\n",
    " for $x=\\pi,\\frac{\\pi}{2},\\frac{\\pi}{4},\\frac{\\pi}{6}$"
   ]
  },
  {
   "cell_type": "code",
   "execution_count": 74,
   "id": "d17e7d3b",
   "metadata": {},
   "outputs": [
    {
     "name": "stdout",
     "output_type": "stream",
     "text": [
      "1.0\n",
      "1.0\n",
      "1.0000000000000002\n",
      "1.0\n"
     ]
    }
   ],
   "source": [
    "def proof(x):\n",
    "    return (np.cos(x))**2+(np.sin(x))**2\n",
    "\n",
    "X=[np.pi,(np.pi/2),(np.pi/4),(np.pi/6)]\n",
    "for x in X:\n",
    "    print(proof(x))"
   ]
  },
  {
   "cell_type": "markdown",
   "id": "3cb07b5d",
   "metadata": {},
   "source": [
    "Compute the $\\sin87°$."
   ]
  },
  {
   "cell_type": "code",
   "execution_count": 75,
   "id": "83ac0b79",
   "metadata": {},
   "outputs": [
    {
     "data": {
      "text/plain": [
       "-0.8218178366308225"
      ]
     },
     "execution_count": 75,
     "metadata": {},
     "output_type": "execute_result"
    }
   ],
   "source": [
    "np.sin(87)"
   ]
  },
  {
   "cell_type": "markdown",
   "id": "08487815",
   "metadata": {},
   "source": [
    "Write a Python statement that generates the following error:     \n",
    "“AttributeError: module ‘math’ has no attribute ‘sni’”            \n",
    "Hint: sni is a misspelling of the function sin."
   ]
  },
  {
   "cell_type": "code",
   "execution_count": 76,
   "id": "b7f53618",
   "metadata": {},
   "outputs": [
    {
     "ename": "AttributeError",
     "evalue": "module 'math' has no attribute 'sni'",
     "output_type": "error",
     "traceback": [
      "\u001b[1;31m---------------------------------------------------------------------------\u001b[0m",
      "\u001b[1;31mAttributeError\u001b[0m                            Traceback (most recent call last)",
      "Input \u001b[1;32mIn [76]\u001b[0m, in \u001b[0;36m<cell line: 1>\u001b[1;34m()\u001b[0m\n\u001b[1;32m----> 1\u001b[0m \u001b[43mmath\u001b[49m\u001b[38;5;241;43m.\u001b[39;49m\u001b[43msni\u001b[49m(\u001b[38;5;241m1\u001b[39m)\n",
      "\u001b[1;31mAttributeError\u001b[0m: module 'math' has no attribute 'sni'"
     ]
    }
   ],
   "source": [
    "math.sni(1)"
   ]
  },
  {
   "cell_type": "markdown",
   "id": "fce93db3",
   "metadata": {},
   "source": [
    "Write a Python statement that generates the following error:      \n",
    "“TypeError: $\\sin()$ takes exactly one argument (0 given)”        \n",
    "Hint: Input arguments refers to the input of a function (any function); for example, the input in $\\sin(\\pi/2)$ is $\\pi/2$."
   ]
  },
  {
   "cell_type": "code",
   "execution_count": 78,
   "id": "16ab3525",
   "metadata": {},
   "outputs": [
    {
     "ename": "TypeError",
     "evalue": "math.sin() takes exactly one argument (0 given)",
     "output_type": "error",
     "traceback": [
      "\u001b[1;31m---------------------------------------------------------------------------\u001b[0m",
      "\u001b[1;31mTypeError\u001b[0m                                 Traceback (most recent call last)",
      "Input \u001b[1;32mIn [78]\u001b[0m, in \u001b[0;36m<cell line: 1>\u001b[1;34m()\u001b[0m\n\u001b[1;32m----> 1\u001b[0m \u001b[43mmath\u001b[49m\u001b[38;5;241;43m.\u001b[39;49m\u001b[43msin\u001b[49m\u001b[43m(\u001b[49m\u001b[43m)\u001b[49m\n",
      "\u001b[1;31mTypeError\u001b[0m: math.sin() takes exactly one argument (0 given)"
     ]
    }
   ],
   "source": [
    "math.sin()"
   ]
  },
  {
   "cell_type": "markdown",
   "id": "69f1a4c9",
   "metadata": {},
   "source": [
    "If P\n",
    " is a logical expression, the law of noncontradiction states that P AND (NOT P)\n",
    " is always false. Verify this for P\n",
    " true and P\n",
    " false."
   ]
  },
  {
   "cell_type": "code",
   "execution_count": 84,
   "id": "e1651330",
   "metadata": {},
   "outputs": [
    {
     "data": {
      "text/plain": [
       "False"
      ]
     },
     "execution_count": 84,
     "metadata": {},
     "output_type": "execute_result"
    }
   ],
   "source": [
    "P=1\n",
    "\n",
    "P and (not P)"
   ]
  },
  {
   "cell_type": "markdown",
   "id": "7692a1f5",
   "metadata": {},
   "source": [
    "Let P and Q be logical expressions. De Morgan’s rule states that NOT (P OR Q) = (NOT P) AND (NOT Q)\n",
    " and NOT (P AND Q) = (NOT P) OR (NOT Q)\n",
    ". Generate the truth tables for each statement to show that De Morgan’s rule is always true."
   ]
  },
  {
   "cell_type": "code",
   "execution_count": 100,
   "id": "2ce80fc0",
   "metadata": {},
   "outputs": [
    {
     "name": "stdout",
     "output_type": "stream",
     "text": [
      "0 0 True \t True \t True \t True\n",
      "1 0 False \t False \t True \t True\n",
      "0 1 False \t False \t True \t True\n",
      "1 1 False \t False \t False \t False\n"
     ]
    }
   ],
   "source": [
    "P=[0,1,0,1]\n",
    "Q=[0,0,1,1]\n",
    "\n",
    "def logic(P,Q):\n",
    "    A1=not (P or Q)\n",
    "    A2=(not P) and (not Q)\n",
    "    A3=not (P and Q)\n",
    "    A4=(not P) or (not Q) \n",
    "    return A1,A2,A3,A4\n",
    "\n",
    "for p,q in zip(P,Q):\n",
    "    A1,A2,A3,A4=logic(p,q)\n",
    "    print(p,q,A1,'\\t',A2,'\\t',A3,'\\t',A4)"
   ]
  },
  {
   "cell_type": "markdown",
   "id": "ff6f677c",
   "metadata": {},
   "source": [
    "Under what conditions for P\n",
    " and Q\n",
    " is (P AND Q) OR (P AND (NOT Q)\n",
    ") false?"
   ]
  },
  {
   "cell_type": "code",
   "execution_count": 112,
   "id": "c13db4d2",
   "metadata": {},
   "outputs": [
    {
     "name": "stdout",
     "output_type": "stream",
     "text": [
      "0 0 0\n",
      "1 0 True\n",
      "0 1 0\n",
      "1 1 1\n"
     ]
    }
   ],
   "source": [
    "def p1(P,Q):\n",
    "    return (P and Q) or (P and (not Q))\n",
    "\n",
    "for p,q in zip(P,Q):\n",
    "    print(p,q,p1(p,q))"
   ]
  },
  {
   "cell_type": "markdown",
   "id": "14db9ddb",
   "metadata": {},
   "source": [
    "Construct an equivalent logical expression for OR using only AND and NOT."
   ]
  },
  {
   "cell_type": "code",
   "execution_count": 104,
   "id": "52eace38",
   "metadata": {},
   "outputs": [
    {
     "name": "stdout",
     "output_type": "stream",
     "text": [
      "0 0 False\n",
      "1 0 True\n",
      "0 1 True\n",
      "1 1 True\n"
     ]
    }
   ],
   "source": [
    "def OR(P,Q):\n",
    "    return not((not P) and (not Q))\n",
    "\n",
    "for p,q in zip(P,Q):\n",
    "    print(p,q,OR(p,q))"
   ]
  },
  {
   "cell_type": "markdown",
   "id": "7dd6ad67",
   "metadata": {},
   "source": [
    "Construct an equivalent logical expression for AND using only OR and NOT."
   ]
  },
  {
   "cell_type": "code",
   "execution_count": 105,
   "id": "954b6fd0",
   "metadata": {},
   "outputs": [
    {
     "name": "stdout",
     "output_type": "stream",
     "text": [
      "0 0 False\n",
      "1 0 False\n",
      "0 1 False\n",
      "1 1 True\n"
     ]
    }
   ],
   "source": [
    "def AND(P,Q):\n",
    "    return not((not P) or (not Q))\n",
    "\n",
    "for p,q in zip(P,Q):\n",
    "    print(p,q,AND(p,q))"
   ]
  },
  {
   "cell_type": "markdown",
   "id": "d7887e69",
   "metadata": {},
   "source": [
    "The logical operator XOR has the following truth table:\n",
    "Construct an equivalent logical expression for XOR using only AND, OR, and NOT that has the same truth table"
   ]
  },
  {
   "cell_type": "code",
   "execution_count": 111,
   "id": "fa877767",
   "metadata": {},
   "outputs": [
    {
     "name": "stdout",
     "output_type": "stream",
     "text": [
      "0 0 False\n",
      "1 0 True\n",
      "0 1 True\n",
      "1 1 False\n"
     ]
    }
   ],
   "source": [
    "def XOR(P,Q):\n",
    "    return OR(AND(Q,(not P)),AND((not Q),P))\n",
    "\n",
    "for p,q in zip(P,Q):\n",
    "    print(p,q,XOR(p,q))"
   ]
  },
  {
   "cell_type": "code",
   "execution_count": null,
   "id": "8ce7d66e",
   "metadata": {},
   "outputs": [],
   "source": []
  }
 ],
 "metadata": {
  "kernelspec": {
   "display_name": "Python 3 (ipykernel)",
   "language": "python",
   "name": "python3"
  },
  "language_info": {
   "codemirror_mode": {
    "name": "ipython",
    "version": 3
   },
   "file_extension": ".py",
   "mimetype": "text/x-python",
   "name": "python",
   "nbconvert_exporter": "python",
   "pygments_lexer": "ipython3",
   "version": "3.10.9"
  }
 },
 "nbformat": 4,
 "nbformat_minor": 5
}
