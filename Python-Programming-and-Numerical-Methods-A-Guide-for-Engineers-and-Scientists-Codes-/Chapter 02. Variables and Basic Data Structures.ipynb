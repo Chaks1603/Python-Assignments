{
 "cells": [
  {
   "cell_type": "markdown",
   "id": "1a65db8d",
   "metadata": {},
   "source": [
    "1. Assign the value 2 to the variable x and the value 3 to the variable y. Clear just the variable x."
   ]
  },
  {
   "cell_type": "code",
   "execution_count": 1,
   "id": "41fa136d",
   "metadata": {},
   "outputs": [
    {
     "data": {
      "text/plain": [
       "(2, 3)"
      ]
     },
     "execution_count": 1,
     "metadata": {},
     "output_type": "execute_result"
    }
   ],
   "source": [
    "x=2\n",
    "y=3\n",
    "x,y"
   ]
  },
  {
   "cell_type": "markdown",
   "id": "7103a01a",
   "metadata": {},
   "source": [
    "Write a line of code that generates the following error:\n",
    "\n",
    "     NameError: name \"x\" is not defined"
   ]
  },
  {
   "cell_type": "code",
   "execution_count": 2,
   "id": "b20fbd24",
   "metadata": {},
   "outputs": [],
   "source": [
    "del x"
   ]
  },
  {
   "cell_type": "code",
   "execution_count": 3,
   "id": "2ca8bf42",
   "metadata": {},
   "outputs": [
    {
     "ename": "NameError",
     "evalue": "name 'x' is not defined",
     "output_type": "error",
     "traceback": [
      "\u001b[1;31m---------------------------------------------------------------------------\u001b[0m",
      "\u001b[1;31mNameError\u001b[0m                                 Traceback (most recent call last)",
      "Cell \u001b[1;32mIn[3], line 1\u001b[0m\n\u001b[1;32m----> 1\u001b[0m \u001b[43mx\u001b[49m\n",
      "\u001b[1;31mNameError\u001b[0m: name 'x' is not defined"
     ]
    }
   ],
   "source": [
    "x"
   ]
  },
  {
   "cell_type": "markdown",
   "id": "153d1983",
   "metadata": {},
   "source": [
    "3. Let x = 10 and y = 3. Write a line of code that will make each of the following assignments.                                  \n",
    "`u = x + y`                                                                                                                       \n",
    "`v = xy`                                                                                                                            \n",
    "`w = x/y`                                                                                                                        \n",
    "`z = sin(x)`                                                                                                                         \n",
    "`r = 8sin(x)`                                                                                                                   \n",
    "`s = 5sin(xy)`                                                                                                                    \n",
    "`p = x**y`"
   ]
  },
  {
   "cell_type": "code",
   "execution_count": 4,
   "id": "5dc02a5d",
   "metadata": {},
   "outputs": [
    {
     "name": "stdout",
     "output_type": "stream",
     "text": [
      "u= 13 \n",
      "v= 30 \n",
      "w= 3.3333333333333335 \n",
      "z= -0.5440211108893698 \n",
      "r= -4.352168887114958 \n",
      "s= -4.940158120464309 \n",
      "p= 1000\n"
     ]
    }
   ],
   "source": [
    "from pylab import *\n",
    "x=10\n",
    "y=3\n",
    "u = x + y\n",
    "v = x*y\n",
    "w = x/y\n",
    "z = sin(x)\n",
    "r = 8*sin(x) \n",
    "s = 5*sin(x*y)\n",
    "p = x**y\n",
    "\n",
    "print('u=',u,'\\nv=',v,'\\nw=',w,'\\nz=',z,'\\nr=',r,'\\ns=',s,'\\np=',p)"
   ]
  },
  {
   "cell_type": "markdown",
   "id": "19ddee1a",
   "metadata": {},
   "source": [
    "4. Show all the variables in the Jupyter notebook after you finish Problem 3."
   ]
  },
  {
   "cell_type": "markdown",
   "id": "d4454583",
   "metadata": {},
   "source": [
    "5. Assign string \"123\" to the variable S. Convert the string into a float type and assign the output to the variable N.          \n",
    "Verify that S is a string and N is a float using the type function."
   ]
  },
  {
   "cell_type": "code",
   "execution_count": 5,
   "id": "5b0c118a",
   "metadata": {},
   "outputs": [
    {
     "data": {
      "text/plain": [
       "(str, float)"
      ]
     },
     "execution_count": 5,
     "metadata": {},
     "output_type": "execute_result"
    }
   ],
   "source": [
    "S='123'\n",
    "N=float(S)\n",
    "type(S),type(N)"
   ]
  },
  {
   "cell_type": "markdown",
   "id": "6b0e4f66",
   "metadata": {},
   "source": [
    "6. Assign the string \"HELLO\" to the variable s1 and the string \"hello\" to the variable s2.                                \n",
    "Use the == operator to show that they are not equal. Use the == operator to show that s1 and s2 are equal if the lower method is used on s1.                                                                                                     \n",
    "Use the == operator to show that s1 and s2 are equal if upper method is used on s2."
   ]
  },
  {
   "cell_type": "code",
   "execution_count": 6,
   "id": "4b7b905f",
   "metadata": {},
   "outputs": [
    {
     "name": "stdout",
     "output_type": "stream",
     "text": [
      "False\n",
      "True\n",
      "True\n"
     ]
    }
   ],
   "source": [
    "s1='HELLO'\n",
    "s2='hello'\n",
    "\n",
    "print(s1==s2)\n",
    "print(s1.lower()==s2)\n",
    "print(s1==s2.upper())"
   ]
  },
  {
   "cell_type": "markdown",
   "id": "d0829ecd",
   "metadata": {},
   "source": [
    "7. Use the print function to generate the following strings:                                                                     \n",
    "• The world \"Engineering\" has 11 letters.                                                                                      \n",
    "• The word \"Book\" has 4 letters."
   ]
  },
  {
   "cell_type": "code",
   "execution_count": 7,
   "id": "df5d3998",
   "metadata": {},
   "outputs": [
    {
     "name": "stdout",
     "output_type": "stream",
     "text": [
      "The world Engineering has 11 letters\n"
     ]
    }
   ],
   "source": [
    "n= 'Engineering'\n",
    "l=len(n)\n",
    "print('The world %s has %i letters'%(n,l))"
   ]
  },
  {
   "cell_type": "markdown",
   "id": "33867511",
   "metadata": {},
   "source": [
    "8. Check if \"Python\" is in \"Python is great!\"."
   ]
  },
  {
   "cell_type": "code",
   "execution_count": 8,
   "id": "abd77efd",
   "metadata": {},
   "outputs": [
    {
     "name": "stdout",
     "output_type": "stream",
     "text": [
      "Word found.\n"
     ]
    }
   ],
   "source": [
    "sentence = 'Python is great!'\n",
    "word = 'Python'\n",
    "\n",
    "if word in sentence:\n",
    "    print('Word found.')"
   ]
  },
  {
   "cell_type": "markdown",
   "id": "03944277",
   "metadata": {},
   "source": [
    "9. Get the last word \"great\" from \"Python is great!\""
   ]
  },
  {
   "cell_type": "code",
   "execution_count": 9,
   "id": "abecacf7",
   "metadata": {},
   "outputs": [
    {
     "name": "stdout",
     "output_type": "stream",
     "text": [
      "great!\n"
     ]
    }
   ],
   "source": [
    "words = sentence.split()\n",
    "print(words[-1])"
   ]
  },
  {
   "cell_type": "markdown",
   "id": "c006d89e",
   "metadata": {},
   "source": [
    "10. Assign list [1, 8, 9, 15] to a variable list_a and insert 2 at index 1 using the insert method.                              \n",
    "Append 4 to the list_a using the append method."
   ]
  },
  {
   "cell_type": "code",
   "execution_count": 10,
   "id": "38626fcb",
   "metadata": {},
   "outputs": [
    {
     "name": "stdout",
     "output_type": "stream",
     "text": [
      "[1, 2, 8, 9, 15]\n",
      "[1, 2, 8, 9, 15, 4]\n"
     ]
    }
   ],
   "source": [
    "list_a=[1, 8, 9, 15] \n",
    "\n",
    "list_a.insert(1,2)\n",
    "\n",
    "print(list_a)\n",
    "\n",
    "list_a.append(4)\n",
    "\n",
    "print(list_a)"
   ]
  },
  {
   "cell_type": "markdown",
   "id": "ac160f11",
   "metadata": {},
   "source": [
    "11. Sort the list_a in problem 10 in ascending order."
   ]
  },
  {
   "cell_type": "code",
   "execution_count": 11,
   "id": "a562f854",
   "metadata": {},
   "outputs": [
    {
     "name": "stdout",
     "output_type": "stream",
     "text": [
      "[1, 2, 4, 8, 9, 15]\n"
     ]
    }
   ],
   "source": [
    "list_a.sort()\n",
    "print(list_a)"
   ]
  },
  {
   "cell_type": "markdown",
   "id": "fff86856",
   "metadata": {},
   "source": [
    "12. Turn \"Python is great!\" into a list."
   ]
  },
  {
   "cell_type": "code",
   "execution_count": 12,
   "id": "3ded4420",
   "metadata": {},
   "outputs": [
    {
     "data": {
      "text/plain": [
       "['Python', 'is', 'great!']"
      ]
     },
     "execution_count": 12,
     "metadata": {},
     "output_type": "execute_result"
    }
   ],
   "source": [
    "list(sentence.split(\" \"))"
   ]
  },
  {
   "cell_type": "markdown",
   "id": "02ff3695",
   "metadata": {},
   "source": [
    "13. Create one tuple with element \"One\", 1 and assign it to tuple_a."
   ]
  },
  {
   "cell_type": "code",
   "execution_count": 13,
   "id": "7bdbea3a",
   "metadata": {},
   "outputs": [
    {
     "data": {
      "text/plain": [
       "('One', 1)"
      ]
     },
     "execution_count": 13,
     "metadata": {},
     "output_type": "execute_result"
    }
   ],
   "source": [
    "tuple_a = (\"One\", 1)\n",
    "tuple_a"
   ]
  },
  {
   "cell_type": "markdown",
   "id": "81f1dbe4",
   "metadata": {},
   "source": [
    "14. Get the second element in the tuple_a in Problem 13."
   ]
  },
  {
   "cell_type": "code",
   "execution_count": 14,
   "id": "e4f0471a",
   "metadata": {},
   "outputs": [
    {
     "data": {
      "text/plain": [
       "1"
      ]
     },
     "execution_count": 14,
     "metadata": {},
     "output_type": "execute_result"
    }
   ],
   "source": [
    "tuple_a[1]"
   ]
  },
  {
   "cell_type": "markdown",
   "id": "fd767f22",
   "metadata": {},
   "source": [
    "15. Get the unique element from (2, 3, 2, 3, 1, 2, 5)."
   ]
  },
  {
   "cell_type": "code",
   "execution_count": 15,
   "id": "933baa87",
   "metadata": {},
   "outputs": [
    {
     "data": {
      "text/plain": [
       "{1, 2, 3, 5}"
      ]
     },
     "execution_count": 15,
     "metadata": {},
     "output_type": "execute_result"
    }
   ],
   "source": [
    "tuple_values = (2, 3, 2, 3, 1, 2, 5)\n",
    "set(tuple_values)"
   ]
  },
  {
   "cell_type": "markdown",
   "id": "03fe546f",
   "metadata": {},
   "source": [
    "16. Assign (2, 3, 2) to set_a, and (1, 2, 3) to set_b. Obtain the following:                                                     \n",
    "• union of set_a and set_b                                                                                                      \n",
    "• intersection of set_a and set_b                                                                                            \n",
    "• difference of set_a to set_b using difference method"
   ]
  },
  {
   "cell_type": "code",
   "execution_count": 16,
   "id": "6fc04df1",
   "metadata": {},
   "outputs": [],
   "source": [
    "set_a = {2, 3, 2}\n",
    "set_b = {1, 2, 3}"
   ]
  },
  {
   "cell_type": "code",
   "execution_count": 17,
   "id": "9e0637cd",
   "metadata": {},
   "outputs": [
    {
     "data": {
      "text/plain": [
       "{1, 2, 3}"
      ]
     },
     "execution_count": 17,
     "metadata": {},
     "output_type": "execute_result"
    }
   ],
   "source": [
    "set_a.union(set_b)"
   ]
  },
  {
   "cell_type": "code",
   "execution_count": 18,
   "id": "35b7274a",
   "metadata": {},
   "outputs": [
    {
     "data": {
      "text/plain": [
       "{2, 3}"
      ]
     },
     "execution_count": 18,
     "metadata": {},
     "output_type": "execute_result"
    }
   ],
   "source": [
    "set_a.intersection(set_b)"
   ]
  },
  {
   "cell_type": "code",
   "execution_count": 19,
   "id": "625d0602",
   "metadata": {},
   "outputs": [
    {
     "data": {
      "text/plain": [
       "set()"
      ]
     },
     "execution_count": 19,
     "metadata": {},
     "output_type": "execute_result"
    }
   ],
   "source": [
    "set_a.difference(set_b)"
   ]
  },
  {
   "cell_type": "markdown",
   "id": "af7b0b41",
   "metadata": {},
   "source": [
    "17. Create a dictionary that has the keys \"A\", \"B\", \"C\" with values \"a\", \"b\", \"c\" individually. Print all the keys in the dictionary"
   ]
  },
  {
   "cell_type": "code",
   "execution_count": 20,
   "id": "3ab26265",
   "metadata": {},
   "outputs": [
    {
     "name": "stdout",
     "output_type": "stream",
     "text": [
      "A\n",
      "B\n",
      "C\n"
     ]
    }
   ],
   "source": [
    "my_dict = {\"A\": \"a\", \"B\": \"b\", \"C\": \"c\"}\n",
    "\n",
    "for key in my_dict.keys():\n",
    "    print(key)"
   ]
  },
  {
   "cell_type": "markdown",
   "id": "2802256a",
   "metadata": {},
   "source": [
    "18. Check if key \"B\" is in the dictionary defined in Problem 17"
   ]
  },
  {
   "cell_type": "code",
   "execution_count": 21,
   "id": "0c5e4717",
   "metadata": {},
   "outputs": [
    {
     "name": "stdout",
     "output_type": "stream",
     "text": [
      "Key 'B' is present in the dictionary.\n"
     ]
    }
   ],
   "source": [
    "if \"B\" in my_dict:\n",
    "    print(\"Key 'B' is present in the dictionary.\")\n",
    "else:\n",
    "    print(\"Key 'B' is not present in the dictionary.\")"
   ]
  },
  {
   "cell_type": "markdown",
   "id": "58847ab4",
   "metadata": {},
   "source": [
    "19. Create array x and y, where x = [1, 4, 3, 2, 9, 4] and y=[2, 3, 4, 1, 2, 3]. Compute the assignments from Problem 3."
   ]
  },
  {
   "cell_type": "code",
   "execution_count": 23,
   "id": "0c9a6aaf",
   "metadata": {},
   "outputs": [
    {
     "name": "stdout",
     "output_type": "stream",
     "text": [
      "x= 1 y= 2 u= 3 v= 2 w= 0.5 z= 0.8414709848078965 r= 6.731767878463172 s= 4.546487134128409 p= 1 \n",
      "\n",
      "x= 4 y= 3 u= 7 v= 12 w= 1.3333333333333333 z= -0.7568024953079282 r= -6.054419962463426 s= -2.6828645900021746 p= 64 \n",
      "\n",
      "x= 3 y= 4 u= 7 v= 12 w= 0.75 z= 0.1411200080598672 r= 1.1289600644789377 s= -2.6828645900021746 p= 81 \n",
      "\n",
      "x= 2 y= 1 u= 3 v= 2 w= 2.0 z= 0.9092974268256817 r= 7.274379414605454 s= 4.546487134128409 p= 2 \n",
      "\n",
      "x= 9 y= 2 u= 11 v= 18 w= 4.5 z= 0.4121184852417566 r= 3.2969478819340527 s= -3.754936233858381 p= 81 \n",
      "\n",
      "x= 4 y= 3 u= 7 v= 12 w= 1.3333333333333333 z= -0.7568024953079282 r= -6.054419962463426 s= -2.6828645900021746 p= 64 \n",
      "\n"
     ]
    }
   ],
   "source": [
    "x = [1, 4, 3, 2, 9, 4] \n",
    "y = [2, 3, 4, 1, 2, 3]\n",
    "\n",
    "def fncn(x,y):\n",
    "    u = x + y\n",
    "    v = x*y\n",
    "    w = x/y\n",
    "    z = sin(x)\n",
    "    r = 8*sin(x) \n",
    "    s = 5*sin(x*y)\n",
    "    p = x**y\n",
    "    print('x=',x,'y=',y,'u=',u,'v=',v,'w=',w,'z=',z,'r=',r,'s=',s,'p=',p,'\\n')\n",
    "    \n",
    "for i,j in zip(x,y):\n",
    "    fncn(i,j)"
   ]
  },
  {
   "cell_type": "markdown",
   "id": "62342974",
   "metadata": {},
   "source": [
    "20. Generate an array with size 100 evenly spaced between −10 to 10 using linspace function in NumPy"
   ]
  },
  {
   "cell_type": "code",
   "execution_count": 24,
   "id": "92982a0e",
   "metadata": {},
   "outputs": [
    {
     "data": {
      "text/plain": [
       "array([-10.        ,  -9.7979798 ,  -9.5959596 ,  -9.39393939,\n",
       "        -9.19191919,  -8.98989899,  -8.78787879,  -8.58585859,\n",
       "        -8.38383838,  -8.18181818,  -7.97979798,  -7.77777778,\n",
       "        -7.57575758,  -7.37373737,  -7.17171717,  -6.96969697,\n",
       "        -6.76767677,  -6.56565657,  -6.36363636,  -6.16161616,\n",
       "        -5.95959596,  -5.75757576,  -5.55555556,  -5.35353535,\n",
       "        -5.15151515,  -4.94949495,  -4.74747475,  -4.54545455,\n",
       "        -4.34343434,  -4.14141414,  -3.93939394,  -3.73737374,\n",
       "        -3.53535354,  -3.33333333,  -3.13131313,  -2.92929293,\n",
       "        -2.72727273,  -2.52525253,  -2.32323232,  -2.12121212,\n",
       "        -1.91919192,  -1.71717172,  -1.51515152,  -1.31313131,\n",
       "        -1.11111111,  -0.90909091,  -0.70707071,  -0.50505051,\n",
       "        -0.3030303 ,  -0.1010101 ,   0.1010101 ,   0.3030303 ,\n",
       "         0.50505051,   0.70707071,   0.90909091,   1.11111111,\n",
       "         1.31313131,   1.51515152,   1.71717172,   1.91919192,\n",
       "         2.12121212,   2.32323232,   2.52525253,   2.72727273,\n",
       "         2.92929293,   3.13131313,   3.33333333,   3.53535354,\n",
       "         3.73737374,   3.93939394,   4.14141414,   4.34343434,\n",
       "         4.54545455,   4.74747475,   4.94949495,   5.15151515,\n",
       "         5.35353535,   5.55555556,   5.75757576,   5.95959596,\n",
       "         6.16161616,   6.36363636,   6.56565657,   6.76767677,\n",
       "         6.96969697,   7.17171717,   7.37373737,   7.57575758,\n",
       "         7.77777778,   7.97979798,   8.18181818,   8.38383838,\n",
       "         8.58585859,   8.78787879,   8.98989899,   9.19191919,\n",
       "         9.39393939,   9.5959596 ,   9.7979798 ,  10.        ])"
      ]
     },
     "execution_count": 24,
     "metadata": {},
     "output_type": "execute_result"
    }
   ],
   "source": [
    "np.linspace(-10, 10, 100)"
   ]
  },
  {
   "cell_type": "markdown",
   "id": "7c6796c4",
   "metadata": {},
   "source": [
    "21. Let array_a be an array [-1, 0, 1, 2, 0, 3]. Write a command that will return an array consisting of all the elements of array_a that are larger than zero.                                                                                        \n",
    "Hint: Use logical expression as the index of the array"
   ]
  },
  {
   "cell_type": "code",
   "execution_count": 25,
   "id": "f6894292",
   "metadata": {},
   "outputs": [
    {
     "data": {
      "text/plain": [
       "array([1, 2, 3])"
      ]
     },
     "execution_count": 25,
     "metadata": {},
     "output_type": "execute_result"
    }
   ],
   "source": [
    "array_a = np.array([-1, 0, 1, 2, 0, 3])\n",
    "\n",
    "array_a[array_a > 0]"
   ]
  },
  {
   "cell_type": "markdown",
   "id": "13584e6e",
   "metadata": {},
   "source": [
    "22. Create an array $ y=\\begin{pmatrix} 3 & 5 & 3 \\\\ 2 & 2 & 5 \\\\ 3 & 8 & 9 \\end{pmatrix}$ and calculate its transpose."
   ]
  },
  {
   "cell_type": "code",
   "execution_count": 27,
   "id": "5437a3e1",
   "metadata": {},
   "outputs": [
    {
     "data": {
      "text/plain": [
       "array([[3, 2, 3],\n",
       "       [5, 2, 8],\n",
       "       [3, 5, 9]])"
      ]
     },
     "execution_count": 27,
     "metadata": {},
     "output_type": "execute_result"
    }
   ],
   "source": [
    "y = np.array([[3,5,3],\n",
    "              [2,2,5],\n",
    "              [3,8,9]])\n",
    "np.transpose(y)"
   ]
  },
  {
   "cell_type": "markdown",
   "id": "1f1c0553",
   "metadata": {},
   "source": [
    "23. Create a 2×4 zero array."
   ]
  },
  {
   "cell_type": "code",
   "execution_count": 29,
   "id": "dfb59dde",
   "metadata": {},
   "outputs": [
    {
     "data": {
      "text/plain": [
       "array([[0., 0., 0., 0.],\n",
       "       [0., 0., 0., 0.]])"
      ]
     },
     "execution_count": 29,
     "metadata": {},
     "output_type": "execute_result"
    }
   ],
   "source": [
    "A=np.zeros((2, 4))\n",
    "A"
   ]
  },
  {
   "cell_type": "markdown",
   "id": "fc07661b",
   "metadata": {},
   "source": [
    "24. Change the second column in the above array to 1."
   ]
  },
  {
   "cell_type": "code",
   "execution_count": 30,
   "id": "91827408",
   "metadata": {},
   "outputs": [
    {
     "data": {
      "text/plain": [
       "array([[0., 1., 0., 0.],\n",
       "       [0., 1., 0., 0.]])"
      ]
     },
     "execution_count": 30,
     "metadata": {},
     "output_type": "execute_result"
    }
   ],
   "source": [
    "A[:, 1] = 1\n",
    "A"
   ]
  },
  {
   "cell_type": "markdown",
   "id": "00448eb5",
   "metadata": {},
   "source": [
    "25. Write a magic command to clear all the variables in the Jupyter notebook."
   ]
  },
  {
   "cell_type": "code",
   "execution_count": 36,
   "id": "de5a5f27",
   "metadata": {},
   "outputs": [],
   "source": [
    "%reset -f"
   ]
  }
 ],
 "metadata": {
  "kernelspec": {
   "display_name": "Python 3 (ipykernel)",
   "language": "python",
   "name": "python3"
  },
  "language_info": {
   "codemirror_mode": {
    "name": "ipython",
    "version": 3
   },
   "file_extension": ".py",
   "mimetype": "text/x-python",
   "name": "python",
   "nbconvert_exporter": "python",
   "pygments_lexer": "ipython3",
   "version": "3.10.9"
  }
 },
 "nbformat": 4,
 "nbformat_minor": 5
}
