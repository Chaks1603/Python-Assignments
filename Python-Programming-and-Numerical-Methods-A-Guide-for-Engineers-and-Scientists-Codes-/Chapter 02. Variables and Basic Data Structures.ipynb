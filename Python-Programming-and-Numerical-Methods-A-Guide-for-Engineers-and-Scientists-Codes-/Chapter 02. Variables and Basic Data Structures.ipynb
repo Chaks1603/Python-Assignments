{
 "cells": [
  {
   "cell_type": "code",
   "execution_count": 5,
   "id": "41fa136d",
   "metadata": {},
   "outputs": [
    {
     "data": {
      "text/plain": [
       "(2, 3)"
      ]
     },
     "execution_count": 5,
     "metadata": {},
     "output_type": "execute_result"
    }
   ],
   "source": [
    "x=2\n",
    "y=3\n",
    "x,y"
   ]
  },
  {
   "cell_type": "code",
   "execution_count": 6,
   "id": "b20fbd24",
   "metadata": {},
   "outputs": [],
   "source": [
    "del x"
   ]
  },
  {
   "cell_type": "code",
   "execution_count": 7,
   "id": "2ca8bf42",
   "metadata": {},
   "outputs": [
    {
     "ename": "NameError",
     "evalue": "name 'x' is not defined",
     "output_type": "error",
     "traceback": [
      "\u001b[1;31m---------------------------------------------------------------------------\u001b[0m",
      "\u001b[1;31mNameError\u001b[0m                                 Traceback (most recent call last)",
      "Input \u001b[1;32mIn [7]\u001b[0m, in \u001b[0;36m<cell line: 1>\u001b[1;34m()\u001b[0m\n\u001b[1;32m----> 1\u001b[0m \u001b[43mx\u001b[49m\n",
      "\u001b[1;31mNameError\u001b[0m: name 'x' is not defined"
     ]
    }
   ],
   "source": [
    "x"
   ]
  },
  {
   "cell_type": "code",
   "execution_count": 11,
   "id": "5dc02a5d",
   "metadata": {},
   "outputs": [
    {
     "name": "stdout",
     "output_type": "stream",
     "text": [
      "u= 13 \n",
      "v= 30 \n",
      "w= 3.3333333333333335 \n",
      "z= -0.5440211108893698 \n",
      "r= -4.352168887114958 \n",
      "s= -4.940158120464309 \n",
      "p= 1000\n"
     ]
    }
   ],
   "source": [
    "from pylab import *\n",
    "x=10\n",
    "y=3\n",
    "u = x + y\n",
    "v = x*y\n",
    "w = x/y\n",
    "z = sin(x)\n",
    "r = 8*sin(x) \n",
    "s = 5*sin(x*y)\n",
    "p = x**y\n",
    "\n",
    "print('u=',u,'\\nv=',v,'\\nw=',w,'\\nz=',z,'\\nr=',r,'\\ns=',s,'\\np=',p)"
   ]
  },
  {
   "cell_type": "code",
   "execution_count": 15,
   "id": "5b0c118a",
   "metadata": {},
   "outputs": [
    {
     "data": {
      "text/plain": [
       "(str, float)"
      ]
     },
     "execution_count": 15,
     "metadata": {},
     "output_type": "execute_result"
    }
   ],
   "source": [
    "S='123'\n",
    "N=float(S)\n",
    "type(S),type(N)"
   ]
  },
  {
   "cell_type": "code",
   "execution_count": 18,
   "id": "4b7b905f",
   "metadata": {},
   "outputs": [
    {
     "name": "stdout",
     "output_type": "stream",
     "text": [
      "False\n",
      "True\n",
      "True\n"
     ]
    }
   ],
   "source": [
    "s1='HELLO'\n",
    "s2='hello'\n",
    "\n",
    "print(s1==s2)\n",
    "print(s1.lower()==s2)\n",
    "print(s1==s2.upper())"
   ]
  },
  {
   "cell_type": "code",
   "execution_count": 31,
   "id": "df5d3998",
   "metadata": {},
   "outputs": [
    {
     "name": "stdout",
     "output_type": "stream",
     "text": [
      "The world Engineering has 11 letters\n"
     ]
    }
   ],
   "source": [
    "n= 'Engineering'\n",
    "l=len(n)\n",
    "print('The world %s has %i letters'%(n,l))"
   ]
  },
  {
   "cell_type": "code",
   "execution_count": 32,
   "id": "abd77efd",
   "metadata": {},
   "outputs": [
    {
     "name": "stdout",
     "output_type": "stream",
     "text": [
      "Word found.\n"
     ]
    }
   ],
   "source": [
    "sentence = 'Python is great!'\n",
    "word = 'Python'\n",
    "\n",
    "if word in sentence:\n",
    "    print('Word found.')"
   ]
  },
  {
   "cell_type": "code",
   "execution_count": 33,
   "id": "abecacf7",
   "metadata": {},
   "outputs": [
    {
     "name": "stdout",
     "output_type": "stream",
     "text": [
      "great!\n"
     ]
    }
   ],
   "source": [
    "words = sentence.split()\n",
    "print(words[-1])"
   ]
  },
  {
   "cell_type": "code",
   "execution_count": 36,
   "id": "38626fcb",
   "metadata": {},
   "outputs": [
    {
     "name": "stdout",
     "output_type": "stream",
     "text": [
      "[1, 2, 8, 9, 15]\n",
      "[1, 2, 8, 9, 15, 4]\n"
     ]
    }
   ],
   "source": [
    "list_a=[1, 8, 9, 15] \n",
    "list_a.insert(1,2)\n",
    "print(list_a)\n",
    "list_a.append(4)\n",
    "print(list_a)"
   ]
  },
  {
   "cell_type": "code",
   "execution_count": 37,
   "id": "a562f854",
   "metadata": {},
   "outputs": [
    {
     "name": "stdout",
     "output_type": "stream",
     "text": [
      "[1, 2, 4, 8, 9, 15]\n"
     ]
    }
   ],
   "source": [
    "list_a.sort()\n",
    "print(list_a)"
   ]
  },
  {
   "cell_type": "code",
   "execution_count": 38,
   "id": "3ded4420",
   "metadata": {},
   "outputs": [
    {
     "data": {
      "text/plain": [
       "['Python', 'is', 'great!']"
      ]
     },
     "execution_count": 38,
     "metadata": {},
     "output_type": "execute_result"
    }
   ],
   "source": [
    "list(sentence.split(\" \"))"
   ]
  },
  {
   "cell_type": "code",
   "execution_count": null,
   "id": "8ac438d5",
   "metadata": {},
   "outputs": [],
   "source": []
  }
 ],
 "metadata": {
  "kernelspec": {
   "display_name": "Python 3 (ipykernel)",
   "language": "python",
   "name": "python3"
  },
  "language_info": {
   "codemirror_mode": {
    "name": "ipython",
    "version": 3
   },
   "file_extension": ".py",
   "mimetype": "text/x-python",
   "name": "python",
   "nbconvert_exporter": "python",
   "pygments_lexer": "ipython3",
   "version": "3.10.9"
  }
 },
 "nbformat": 4,
 "nbformat_minor": 5
}
