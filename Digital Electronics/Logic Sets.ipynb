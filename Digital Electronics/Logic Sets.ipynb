{
 "cells": [
  {
   "cell_type": "markdown",
   "id": "f4be7ec3",
   "metadata": {},
   "source": [
    "### $\\text{Logic NOT}$"
   ]
  },
  {
   "cell_type": "code",
   "execution_count": 1,
   "id": "258a760c",
   "metadata": {},
   "outputs": [],
   "source": [
    "def NOT(a):\n",
    "    if a==1: return 0\n",
    "    else : return 1"
   ]
  },
  {
   "cell_type": "markdown",
   "id": "00181015",
   "metadata": {},
   "source": [
    "### $\\text{Logic AND}$"
   ]
  },
  {
   "cell_type": "code",
   "execution_count": 2,
   "id": "503b48d7",
   "metadata": {},
   "outputs": [],
   "source": [
    "def AND(a,b):\n",
    "    if (a==1)&(b==1): return 1\n",
    "    else : return 0"
   ]
  },
  {
   "cell_type": "markdown",
   "id": "5ac57dab",
   "metadata": {},
   "source": [
    "### $\\text{Logic OR}$"
   ]
  },
  {
   "cell_type": "code",
   "execution_count": 3,
   "id": "af590030",
   "metadata": {},
   "outputs": [],
   "source": [
    "def OR(a,b):\n",
    "    if (a==1)|(b==1): return 1\n",
    "    else : return 0"
   ]
  },
  {
   "cell_type": "markdown",
   "id": "129610bc",
   "metadata": {},
   "source": [
    "### $\\text{Logic NAND}$"
   ]
  },
  {
   "cell_type": "code",
   "execution_count": 4,
   "id": "7982a7d3",
   "metadata": {},
   "outputs": [],
   "source": [
    "def NAND(a,b):\n",
    "    if (a==1)&(b==1): return 0\n",
    "    else : return 1"
   ]
  },
  {
   "cell_type": "markdown",
   "id": "05f503c6",
   "metadata": {},
   "source": [
    "### $\\text{Logic NOR}$"
   ]
  },
  {
   "cell_type": "code",
   "execution_count": 5,
   "id": "a1cd783e",
   "metadata": {},
   "outputs": [],
   "source": [
    "def NOR(a,b):\n",
    "    if (a==1)|(b==1): return 0\n",
    "    else : return 1"
   ]
  },
  {
   "cell_type": "markdown",
   "id": "fb9f4b46",
   "metadata": {},
   "source": [
    "### $\\text{Logic Exclusive-OR}$"
   ]
  },
  {
   "cell_type": "code",
   "execution_count": 6,
   "id": "4b7d391f",
   "metadata": {},
   "outputs": [],
   "source": [
    "def XOR(a,b):\n",
    "    if a==b: return 0\n",
    "    else : return 1"
   ]
  },
  {
   "cell_type": "markdown",
   "id": "bc40b662",
   "metadata": {},
   "source": [
    "### $\\text{Logic Exclusive-NOR}$"
   ]
  },
  {
   "cell_type": "code",
   "execution_count": 7,
   "id": "11299edc",
   "metadata": {},
   "outputs": [],
   "source": [
    "def XNOR(a,b):\n",
    "    if a==b: return 1\n",
    "    else : return 0"
   ]
  },
  {
   "cell_type": "markdown",
   "id": "a4894771",
   "metadata": {},
   "source": [
    "#### $\\text{2-bit Inputs}$"
   ]
  },
  {
   "cell_type": "code",
   "execution_count": 35,
   "id": "0eccd029",
   "metadata": {},
   "outputs": [],
   "source": [
    "A=[0,0,1,1]\n",
    "B=[0,1,0,1]"
   ]
  },
  {
   "cell_type": "markdown",
   "id": "e4fcec75",
   "metadata": {},
   "source": [
    "#### Checking the analytic function output of Logic"
   ]
  },
  {
   "cell_type": "code",
   "execution_count": 36,
   "id": "bb1161ff",
   "metadata": {},
   "outputs": [
    {
     "name": "stdout",
     "output_type": "stream",
     "text": [
      "| 𝑎 | 𝑏 | 𝑎̃ | 𝑏̃ | 𝑎⋅𝑏| 𝑎+𝑏| 𝑎↑𝑏 | 𝑎↓𝑏 | 𝑎⊕𝑏 | 𝑎⊙𝑏|\n",
      "| 0 | 0 | 1 | 1 |  0 |  0 |  1  |  1  |  0   |  1  |\n",
      "| 0 | 1 | 1 | 0 |  0 |  1 |  1  |  0  |  1   |  0  |\n",
      "| 1 | 0 | 0 | 1 |  0 |  1 |  1  |  0  |  1   |  0  |\n",
      "| 1 | 1 | 0 | 0 |  1 |  1 |  0  |  0  |  0   |  1  |\n"
     ]
    }
   ],
   "source": [
    "print('| 𝑎 |','𝑏 |','𝑎̃ |','𝑏̃ |','𝑎⋅𝑏|','𝑎+𝑏|','𝑎↑𝑏 |','𝑎↓𝑏 |','𝑎⊕𝑏 |','𝑎⊙𝑏|')\n",
    "for a,b in zip(A,B):\n",
    "    print('|',a,'|',b,'|',NOT(a),'|',NOT(b),'| ',AND(a,b),'| ',OR(a,b),'| ',\\\n",
    "          NAND(a,b),' | ',NOR(a,b),' | ',XOR(a,b),'  | ',XNOR(a,b),' |')"
   ]
  },
  {
   "cell_type": "markdown",
   "id": "79bcd813",
   "metadata": {},
   "source": [
    "#### Checking the computed function with the analytic NAND Logic\n",
    "<img width=\"500\" align=\"left\" src=\"https://spinningnumbers.org/i/logic13.svg\">\n",
    "<img width=\"210\" align=\"right\" src=\"https://spinningnumbers.org/i/logic_tt_NAND.svg\">"
   ]
  },
  {
   "cell_type": "code",
   "execution_count": 10,
   "id": "f9e6d384",
   "metadata": {},
   "outputs": [
    {
     "name": "stdout",
     "output_type": "stream",
     "text": [
      "| a | b |   a⋅b\t|  a↑b_(cal)\t|  a↑b_(anl)\t|\n",
      "| 0 | 0 |    0 \t|\t 1 \t|\t  1 \t|\n",
      "| 0 | 1 |    0 \t|\t 1 \t|\t  1 \t|\n",
      "| 1 | 0 |    0 \t|\t 1 \t|\t  1 \t|\n",
      "| 1 | 1 |    1 \t|\t 0 \t|\t  0 \t|\n",
      "\n",
      "LHS==RHS\n"
     ]
    }
   ],
   "source": [
    "f=0\n",
    "print('| a |','b |','  a⋅b\\t|',' a↑b_(cal)\\t|',' a↑b_(anl)\\t|')\n",
    "for a,b in zip(A,B):\n",
    "    print('|',a,'|',b,'|   ',AND(a,b),'\\t|\\t',NOT(AND(a,b)),'\\t|\\t ',NAND(a,b),'\\t|')\n",
    "    if NOT(AND(a,b))==NAND(a,b):        f+=1\n",
    "        \n",
    "if f==len(A):\n",
    "    print('\\nLHS==RHS')"
   ]
  },
  {
   "cell_type": "markdown",
   "id": "c437ada6",
   "metadata": {},
   "source": [
    "#### Checking the computed function with the analytic NOR Logic\n",
    "<img width=\"500\" align=\"left\"  src=\"https://spinningnumbers.org/i/logic14.svg\"><img width=\"200\" align=\"right\" src=\"https://spinningnumbers.org/i/logic_tt_NOR.svg\">"
   ]
  },
  {
   "cell_type": "code",
   "execution_count": 11,
   "id": "10afba43",
   "metadata": {},
   "outputs": [
    {
     "name": "stdout",
     "output_type": "stream",
     "text": [
      "| a |  b | a+b\t|  a↓b_(cal)\t|  a↓b_(anl)\t|\n",
      "| 0 |  0 |  0 \t|\t 1 \t|\t 1 \t|\n",
      "| 0 |  1 |  1 \t|\t 0 \t|\t 0 \t|\n",
      "| 1 |  0 |  1 \t|\t 0 \t|\t 0 \t|\n",
      "| 1 |  1 |  1 \t|\t 0 \t|\t 0 \t|\n",
      "\n",
      "LHS==RHS\n"
     ]
    }
   ],
   "source": [
    "f=0\n",
    "print('| a |',' b |','a+b\\t|',' a↓b_(cal)\\t|',' a↓b_(anl)\\t|')\n",
    "for a,b in zip(A,B):\n",
    "    print('|',a,'| ',b,'| ',OR(a,b),'\\t|\\t',NOT(OR(a,b)),'\\t|\\t',NOR(a,b),'\\t|')\n",
    "    if NOT(OR(a,b))==NOR(a,b):        f+=1\n",
    "        \n",
    "if f==len(A):\n",
    "    print('\\nLHS==RHS')"
   ]
  },
  {
   "cell_type": "markdown",
   "id": "931d5ec0",
   "metadata": {},
   "source": [
    "#### Checking the computed function with the analytic XOR and XNOR Logic\n"
   ]
  },
  {
   "cell_type": "markdown",
   "id": "3f331357",
   "metadata": {},
   "source": [
    "<img width=\"550\" align=\"left\" src=\"https://spinningnumbers.org/i/logic13.svg\">\n",
    "\n",
    "<img width=\"300\" align=\"right\" src=\"https://upload.wikimedia.org/wikipedia/commons/e/ed/3_gate_XOR.svg\">"
   ]
  },
  {
   "cell_type": "markdown",
   "id": "a14144ad",
   "metadata": {},
   "source": [
    "<img width=\"500\" align=\"left\"  src=\"https://spinningnumbers.org/i/logic14.svg\">\n",
    "<img width=\"300\" align=\"right\" src=\"https://upload.wikimedia.org/wikipedia/commons/6/66/3_gate_XNOR.svg\">"
   ]
  },
  {
   "cell_type": "code",
   "execution_count": 12,
   "id": "f70e3116",
   "metadata": {},
   "outputs": [
    {
     "name": "stdout",
     "output_type": "stream",
     "text": [
      "| a | b |  a⊕b_(cal) \t|  a⊕b_(anl)\t|  a⊙b_(cal)\t|  a⊙b_(anl)\t|\n",
      "| 0 | 0 |\t 0 \t|\t 0 \t|\t 1 \t|\t 1 \t|\n",
      "| 0 | 1 |\t 1 \t|\t 1 \t|\t 0 \t|\t 0 \t|\n",
      "| 1 | 0 |\t 1 \t|\t 1 \t|\t 0 \t|\t 0 \t|\n",
      "| 1 | 1 |\t 0 \t|\t 0 \t|\t 1 \t|\t 1 \t|\n",
      "\n",
      "LHS==RHS\n"
     ]
    }
   ],
   "source": [
    "f=0\n",
    "print('| a |','b |',' a⊕b_(cal) \\t|',' a⊕b_(anl)\\t|',' a⊙b_(cal)\\t|',' a⊙b_(anl)\\t|')\n",
    "for a,b in zip(A,B):\n",
    "    N1=NOT(a)\n",
    "    N2=NOT(b)\n",
    "    O1=OR(N1,N2)\n",
    "    O2=OR(a,b)\n",
    "    X=AND(O1,O2)\n",
    "    A1=AND(a,b)\n",
    "    A2=AND(N1,N2)\n",
    "    Xn=OR(A1,A2)\n",
    "    X_a=XOR(a,b)\n",
    "    Xn_a=XNOR(a,b)\n",
    "    print('|',a,'|',b,'|\\t',X,'\\t|\\t',X_a,'\\t|\\t',Xn,'\\t|\\t',Xn_a,'\\t|')\n",
    "    if (X==X_a)&(Xn==Xn_a): f+=1\n",
    "        \n",
    "if f==len(A):\n",
    "    print('\\nLHS==RHS')"
   ]
  },
  {
   "cell_type": "markdown",
   "id": "9a785f59",
   "metadata": {},
   "source": [
    "# **Conversion-  NAND IMPLEMENTATION**\n",
    "<img width=\"350\" align=\"left\" src=\"https://qph.cf2.quoracdn.net/main-qimg-6664d9b8e96801605a8c257e64477ded.webp\">"
   ]
  },
  {
   "cell_type": "code",
   "execution_count": 13,
   "id": "45b27a20",
   "metadata": {},
   "outputs": [
    {
     "name": "stdout",
     "output_type": "stream",
     "text": [
      "| a |  b | 𝑎̃ | 𝑏̃ |  a⋅b\t| a+b\t| a↓b\t| a⊕b\t| a⊙b\t|\n",
      "| 0 |  0 | 1 | 1 |   0 \t|  0 \t|  1 \t|  0 \t|  1 \t|\n",
      "| 0 |  1 | 1 | 0 |   0 \t|  1 \t|  0 \t|  1 \t|  0 \t|\n",
      "| 1 |  0 | 0 | 1 |   0 \t|  1 \t|  0 \t|  1 \t|  0 \t|\n",
      "| 1 |  1 | 0 | 0 |   1 \t|  1 \t|  0 \t|  0 \t|  1 \t|\n"
     ]
    }
   ],
   "source": [
    "print('| a |',' b |','𝑎̃ |','𝑏̃ |',' a⋅b\\t|','a+b\\t|','a↓b\\t|','a⊕b\\t|','a⊙b\\t|')\n",
    "\n",
    "for a,b in zip(A,B):\n",
    "    \n",
    "    # NAND -> NOT\n",
    "    gt1=NAND(a,a)\n",
    "    gta=NAND(b,b)\n",
    "    # NAND -> AND\n",
    "    gt2=NAND(a,b)\n",
    "    gt3=NAND(gt2,gt2)\n",
    "    \n",
    "    # NAND -> OR\n",
    "    gt4=NAND(b,b)\n",
    "    gt5=NAND(gt1,gt4)\n",
    "    \n",
    "    # NAND -> NOR\n",
    "    gt6=NAND(gt5,gt5)\n",
    "    \n",
    "    # NAND -> XOR\n",
    "    gt7=NAND(a,gt2)\n",
    "    gt8=NAND(b,gt2)\n",
    "    gt9=NAND(gt7,gt8)\n",
    "    \n",
    "    # NAND -> XNOR\n",
    "    gt10=NAND(gt9,gt9)\n",
    "    \n",
    "    print('|',a,'| ',b,'|',gt1,'|',gta,'|  ',gt3,'\\t| ',gt5,'\\t| ',gt6,'\\t| ',gt9,'\\t| ',gt10,'\\t|')"
   ]
  },
  {
   "cell_type": "code",
   "execution_count": 14,
   "id": "61475abc",
   "metadata": {},
   "outputs": [],
   "source": [
    "def NAND_NOT(a):\n",
    "    return NAND(a,a)# NAND -> NOT\n",
    "    \n",
    "def NAND_AND(a,b):\n",
    "    return NAND(NAND(a,b),NAND(a,b))# NAND -> AND\n",
    "    \n",
    "def NAND_OR(a,b):\n",
    "    return NAND(NAND(a,a),NAND(b,b))# NAND -> OR\n",
    "\n",
    "def NAND_NOR(a,b): \n",
    "    return NAND(NAND_OR(a,b),NAND_OR(a,b))# NAND -> NOR\n",
    "\n",
    "def NAND_XOR(a,b):\n",
    "    return NAND(NAND(a,NAND(a,b)),NAND(b,NAND(a,b)))# NAND -> XOR\n",
    "\n",
    "def NAND_XNOR(a,b):\n",
    "    return NAND(NAND_XOR(a,b),NAND_XOR(a,b))# NAND -> XNOR"
   ]
  },
  {
   "cell_type": "code",
   "execution_count": 15,
   "id": "237eaf43",
   "metadata": {},
   "outputs": [
    {
     "name": "stdout",
     "output_type": "stream",
     "text": [
      " NAND LOGIC\n",
      "a b | ~ A O N X Xn\n",
      "0 0 | 1 0 0 1 0 1\n",
      "0 1 | 1 0 1 0 1 0\n",
      "1 0 | 0 0 1 0 1 0\n",
      "1 1 | 0 1 1 0 0 1\n"
     ]
    }
   ],
   "source": [
    "print(' NAND LOGIC')\n",
    "print('a','b','|','~','A','O','N','X','Xn')\n",
    "for a,b in zip(A,B):\n",
    "    n1=NAND_NOT(a)\n",
    "    A1=NAND_AND(a,b)\n",
    "    O1=NAND_OR(a,b)\n",
    "    N1=NAND_NOR(a,b)\n",
    "    X1=NAND_XOR(a,b)\n",
    "    X2=NAND_XNOR(a,b)\n",
    "    print(a,b,'|',n1,A1,O1,N1,X1,X2)"
   ]
  },
  {
   "cell_type": "markdown",
   "id": "820670e5",
   "metadata": {},
   "source": [
    "# **Conversion-  NOR IMPLEMENTATION :**"
   ]
  },
  {
   "cell_type": "markdown",
   "id": "23fe5164",
   "metadata": {},
   "source": [
    "**NOT** \n",
    "<img width=\"150\" height=\"120\" align=\"right\" src=\"https://upload.wikimedia.org/wikipedia/commons/b/ba/NOT_from_NOR.svg\">\n"
   ]
  },
  {
   "cell_type": "markdown",
   "id": "5c22fde7",
   "metadata": {},
   "source": [
    "**OR**\n",
    "<img width=\"200\" height=\"120\" align=\"right\" src=\"https://upload.wikimedia.org/wikipedia/commons/thumb/4/4b/OR_from_NOR.svg/1920px-OR_from_NOR.svg.png\">"
   ]
  },
  {
   "cell_type": "markdown",
   "id": "38aa974b",
   "metadata": {},
   "source": [
    "**AND**\n",
    "<img width=\"200\" height=\"120\" align=\"right\" src=\"https://upload.wikimedia.org/wikipedia/commons/f/f4/AND_from_NOR.svg\">\n"
   ]
  },
  {
   "cell_type": "markdown",
   "id": "3e84c9dc",
   "metadata": {},
   "source": [
    "**NAND**\n",
    "<img width=\"250\" height=\"320\" align=\"right\" src=\"https://upload.wikimedia.org/wikipedia/commons/thumb/2/2b/NAND_from_NOR.svg/1920px-NAND_from_NOR.svg.png\">"
   ]
  },
  {
   "cell_type": "markdown",
   "id": "2934e38b",
   "metadata": {},
   "source": [
    "**XNOR**\n",
    "<img width=\"270\" height=\"360\" align=\"right\" src=\"https://upload.wikimedia.org/wikipedia/commons/thumb/f/f0/XNOR_from_NOR.svg/1920px-XNOR_from_NOR.svg.png\">"
   ]
  },
  {
   "cell_type": "markdown",
   "id": "f1af79d1",
   "metadata": {},
   "source": [
    "\n",
    "**XOR**\n",
    "<img width=\"300\" height=\"320\" align=\"right\" src=\"https://upload.wikimedia.org/wikipedia/commons/thumb/5/5e/XOR_from_NOR_2.svg/1920px-XOR_from_NOR_2.svg.png\">\n"
   ]
  },
  {
   "cell_type": "code",
   "execution_count": 52,
   "id": "ba871530",
   "metadata": {},
   "outputs": [
    {
     "name": "stdout",
     "output_type": "stream",
     "text": [
      "| a |  b | 𝑎̃ | 𝑏̃ |  a+b\t| a⋅b\t| a↓b\t| a⊕b\t| a⊙b\t|\n",
      "| 0 |  0 | 1 | 1 |   0  |  0 \t|  1 \t|  1 \t|  0 \t|\n",
      "| 0 |  1 | 1 | 0 |   1  |  0 \t|  1 \t|  0 \t|  1 \t|\n",
      "| 1 |  0 | 0 | 1 |   1  |  0 \t|  1 \t|  0 \t|  1 \t|\n",
      "| 1 |  1 | 0 | 0 |   1  |  1 \t|  0 \t|  1 \t|  0 \t|\n"
     ]
    }
   ],
   "source": [
    "print('| a |',' b |','𝑎̃ |','𝑏̃ |',' a+b\\t|','a⋅b\\t|','a↓b\\t|','a⊕b\\t|','a⊙b\\t|')\n",
    "\n",
    "for a,b in zip(A,B):\n",
    "    \n",
    "    # NOR -> NOT\n",
    "    gt1=NOR(a,a)\n",
    "    gtb=NOR(b,b)\n",
    "    # NOR -> OR\n",
    "    gt2=NOR(a,b)\n",
    "    gt3=NOR(gt2,gt2)\n",
    "    \n",
    "    # NOR -> AND\n",
    "    gt4=NOR(b,b)\n",
    "    gt5=NOR(gt1,gt4)\n",
    "    \n",
    "    # NOR -> NAND\n",
    "    gt6=NOR(gt5,gt5)\n",
    "    \n",
    "    # NOR -> XNOR\n",
    "    gt7=NOR(a,gt2)\n",
    "    gt8=NOR(b,gt2)\n",
    "    gt9=NOR(gt7,gt8)\n",
    "    \n",
    "    # NOR -> XOR\n",
    "    gt10=NOR(gt9,gt9)\n",
    "    \n",
    "    print('|',a,'| ',b,'|',gt1,'|',gtb,'|  ',gt3,' | ',gt5,'\\t| ',gt6,'\\t| ',gt9,'\\t| ',gt10,'\\t|')"
   ]
  },
  {
   "cell_type": "code",
   "execution_count": 17,
   "id": "7fbde3d6",
   "metadata": {},
   "outputs": [],
   "source": [
    "def NOR_NOT(a):\n",
    "    return NOR(a,a)# NOR -> NOT\n",
    "    \n",
    "def NOR_AND(a,b):\n",
    "    return NOR(NOR(a,a),NOR(b,b))# NOR -> AND\n",
    "    \n",
    "def NOR_OR(a,b):\n",
    "    return NOR(NOR(a,b),NOR(a,b))# NOR -> OR\n",
    "\n",
    "def NOR_NAND(a,b): \n",
    "    return NOR(NOR_AND(a,b),NOR_AND(a,b))# NOR -> NAND\n",
    "\n",
    "def NOR_XNOR(a,b):\n",
    "    return NOR(NOR(a,NOR(a,b)),NOR(b,NOR(a,b)))# NOR -> XNOR\n",
    "\n",
    "def NOR_XOR(a,b):\n",
    "    return NOR(NOR_XNOR(a,b),NOR_XNOR(a,b))# NOR -> XOR"
   ]
  },
  {
   "cell_type": "code",
   "execution_count": 18,
   "id": "7b1153ba",
   "metadata": {},
   "outputs": [
    {
     "name": "stdout",
     "output_type": "stream",
     "text": [
      " NOR LOGIC\n",
      "x y | ~ A O N X Xn\n",
      "0 0 | 1 0 0 1 0 1\n",
      "0 1 | 1 0 1 1 1 0\n",
      "1 0 | 0 0 1 1 1 0\n",
      "1 1 | 0 1 1 0 0 1\n"
     ]
    }
   ],
   "source": [
    "print(' NOR LOGIC')\n",
    "print('x','y','|','~','A','O','N','X','Xn')\n",
    "for a,b in zip(A,B):\n",
    "    n1=NOR_NOT(a)\n",
    "    A1=NOR_AND(a,b)\n",
    "    O1=NOR_OR(a,b)\n",
    "    N1=NOR_NAND(a,b)\n",
    "    X1=NOR_XOR(a,b)\n",
    "    X2=NOR_XNOR(a,b)\n",
    "    print(a,b,'|',n1,A1,O1,N1,X1,X2)"
   ]
  },
  {
   "cell_type": "markdown",
   "id": "3d3b5406",
   "metadata": {},
   "source": [
    "# $\\textit{HALF ADDER}$\n",
    "<img width=\"200\" height=\"220\" align=\"center\" src=\"https://upload.wikimedia.org/wikipedia/commons/thumb/d/d9/Half_Adder.svg/1920px-Half_Adder.svg.png\">"
   ]
  },
  {
   "cell_type": "code",
   "execution_count": 19,
   "id": "37b5ed07",
   "metadata": {},
   "outputs": [],
   "source": [
    "def HalfAdder(a,b):\n",
    "    s=XOR(a,b)\n",
    "    c=AND(a,b)\n",
    "    return s,c"
   ]
  },
  {
   "cell_type": "code",
   "execution_count": 20,
   "id": "10dc159b",
   "metadata": {},
   "outputs": [
    {
     "name": "stdout",
     "output_type": "stream",
     "text": [
      "x y | S C\n",
      "0 0 | 0 0\n",
      "0 1 | 1 0\n",
      "1 0 | 1 0\n",
      "1 1 | 0 1\n"
     ]
    }
   ],
   "source": [
    "print('x','y','|','S','C')\n",
    "for a,b in zip(A,B):\n",
    "    s,c=HalfAdder(a,b)\n",
    "    print(a,b,'|',s,c)"
   ]
  },
  {
   "cell_type": "markdown",
   "id": "27be933a",
   "metadata": {},
   "source": [
    "# $\\text{FULL ADDER}$\n",
    "<p align=\"center\">\n",
    "  <img src=\"Project/storage/1920px-Full-adder_logic_diagram.svg.png\" alt=\"drawing\" width=\"500\" align=\"center\"/>\n",
    "</p>"
   ]
  },
  {
   "cell_type": "code",
   "execution_count": 21,
   "id": "0e935bc6",
   "metadata": {},
   "outputs": [],
   "source": [
    "def FullAdder(x,y,z):\n",
    "    s1,c1=HalfAdder(x,y)\n",
    "    s2,c2=HalfAdder(s1,z)\n",
    "    return s2,OR(c1,c2)"
   ]
  },
  {
   "cell_type": "markdown",
   "id": "f64a68ad",
   "metadata": {},
   "source": [
    "#### $\\text{3-bit Inputs}$"
   ]
  },
  {
   "cell_type": "code",
   "execution_count": 22,
   "id": "be555103",
   "metadata": {},
   "outputs": [],
   "source": [
    "X=[0,0,0,0,1,1,1,1]\n",
    "Y=[0,0,1,1,0,0,1,1]\n",
    "Z=[0,1,0,1,0,1,0,1]"
   ]
  },
  {
   "cell_type": "code",
   "execution_count": 23,
   "id": "5f82f258",
   "metadata": {},
   "outputs": [
    {
     "name": "stdout",
     "output_type": "stream",
     "text": [
      "x y z | S C\n",
      "0 0 0 | 0 0\n",
      "0 0 1 | 1 0\n",
      "0 1 0 | 1 0\n",
      "0 1 1 | 0 1\n",
      "1 0 0 | 1 0\n",
      "1 0 1 | 0 1\n",
      "1 1 0 | 0 1\n",
      "1 1 1 | 1 1\n"
     ]
    }
   ],
   "source": [
    "print('x','y','z','|','S','C')\n",
    "for x,y,z in zip(X,Y,Z):\n",
    "    sh,ch=FullAdder(x,y,z)\n",
    "    print(x,y,z,'|',sh,ch)"
   ]
  },
  {
   "cell_type": "markdown",
   "id": "dffcef92",
   "metadata": {},
   "source": [
    "## **NAND logic of a full-adder**\n",
    "<img width=\"600\" height=\"320\" align=\"right\" src=\"https://upload.wikimedia.org/wikipedia/commons/thumb/6/69/Full_Adder_using_NAND_gates.svg/1920px-Full_Adder_using_NAND_gates.svg.png\">"
   ]
  },
  {
   "cell_type": "code",
   "execution_count": 24,
   "id": "aec6745f",
   "metadata": {},
   "outputs": [],
   "source": [
    "def NAND_FullAdder(x,y,z):\n",
    "    S=NAND_XOR(NAND_XOR(x,y),z)\n",
    "    C=NAND(NAND(NAND_XOR(x,y),z),NAND(x,y))\n",
    "    return S,C"
   ]
  },
  {
   "cell_type": "code",
   "execution_count": 25,
   "id": "125d03fa",
   "metadata": {},
   "outputs": [
    {
     "name": "stdout",
     "output_type": "stream",
     "text": [
      "x y z | S C\n",
      "0 0 0 | 0 0\n",
      "0 0 1 | 1 0\n",
      "0 1 0 | 1 0\n",
      "0 1 1 | 0 1\n",
      "1 0 0 | 1 0\n",
      "1 0 1 | 0 1\n",
      "1 1 0 | 0 1\n",
      "1 1 1 | 1 1\n"
     ]
    }
   ],
   "source": [
    "print('x','y','z','|','S','C')\n",
    "for x,y,z in zip(X,Y,Z):\n",
    "    S,C=NAND_FullAdder(x,y,z)\n",
    "    print(x,y,z,'|',S,C)"
   ]
  },
  {
   "cell_type": "markdown",
   "id": "b31916da",
   "metadata": {},
   "source": [
    "## **NOR logic of a full-adder**\n",
    "<img width=\"600\" height=\"320\" align=\"right\" src=\"https://upload.wikimedia.org/wikipedia/commons/thumb/a/ad/Full_Adder_using_NOR_gates.svg/1920px-Full_Adder_using_NOR_gates.svg.png\">"
   ]
  },
  {
   "cell_type": "code",
   "execution_count": 26,
   "id": "b0cacf31",
   "metadata": {},
   "outputs": [],
   "source": [
    "def NOR_FullAdder(x,y,z):\n",
    "    S=NOR_XNOR(NOR_XNOR(x,y),z)\n",
    "    C=NOR(NOR(NOR_XNOR(x,y),z),NOR(x,y))\n",
    "    return S,C"
   ]
  },
  {
   "cell_type": "code",
   "execution_count": 27,
   "id": "4e0bde25",
   "metadata": {},
   "outputs": [
    {
     "name": "stdout",
     "output_type": "stream",
     "text": [
      "x y z | S C\n",
      "0 0 0 | 0 0\n",
      "0 0 1 | 1 0\n",
      "0 1 0 | 1 0\n",
      "0 1 1 | 0 1\n",
      "1 0 0 | 1 0\n",
      "1 0 1 | 0 1\n",
      "1 1 0 | 0 1\n",
      "1 1 1 | 1 1\n"
     ]
    }
   ],
   "source": [
    "print('x','y','z','|','S','C')\n",
    "for x,y,z in zip(X,Y,Z):\n",
    "    S,C=NOR_FullAdder(x,y,z) \n",
    "    print(x,y,z,'|',S,C)"
   ]
  },
  {
   "cell_type": "markdown",
   "id": "5961e579",
   "metadata": {},
   "source": [
    "### **Practice 1**\n",
    "<p align=\"center\">\n",
    "  <img src=\"Project/storage/Screenshot%20(1).png\" alt=\"drawing\" width=\"500\" align=\"center\"/>\n",
    "</p>"
   ]
  },
  {
   "cell_type": "code",
   "execution_count": 28,
   "id": "2dbca2f2",
   "metadata": {},
   "outputs": [
    {
     "name": "stdout",
     "output_type": "stream",
     "text": [
      "| x | y | z | F1 | F2 |\n",
      "| 0 | 0 | 0 | 0  | 0  |\n",
      "| 0 | 0 | 1 | 0  | 0  |\n",
      "| 0 | 1 | 0 | 0  | 0  |\n",
      "| 0 | 1 | 1 | 0  | 1  |\n",
      "| 1 | 0 | 0 | 0  | 0  |\n",
      "| 1 | 0 | 1 | 0  | 1  |\n",
      "| 1 | 1 | 0 | 0  | 1  |\n",
      "| 1 | 1 | 1 | 1  | 1  |\n"
     ]
    }
   ],
   "source": [
    "print('| x','| y','| z','| F1','| F2 |')\n",
    "for x,y,z in zip(X,Y,Z):\n",
    "    A1=AND(x,y)\n",
    "    O1=OR(x,y)\n",
    "    A2=AND(A1,z)\n",
    "    O2=OR(O1,z)\n",
    "    A3=AND(O1,z)\n",
    "    O3=OR(A1,A3)  # F2\n",
    "    N1=NOT(O3)\n",
    "    A4=AND(N1,O3)\n",
    "    O4=OR(A4,A2)  # F1\n",
    "    print('|',x,'|',y,'|',z,'|',O4,' |',O3,' |')"
   ]
  },
  {
   "cell_type": "markdown",
   "id": "c989d984",
   "metadata": {},
   "source": [
    "### **Practice 2**\n",
    "<p align=\"center\">\n",
    "  <img src=\"Project/storage/Screenshot%20(2).png\" alt=\"drawing\" width=\"500\" height=\"400\" align=\"center\"/>\n",
    "</p>"
   ]
  },
  {
   "cell_type": "code",
   "execution_count": 29,
   "id": "893f9ae4",
   "metadata": {},
   "outputs": [],
   "source": [
    "def BCD_excess3_converter(a,b,c,d):\n",
    "    N1=NOT(b)\n",
    "    N2=NOT(d)          # z\n",
    "    A1=AND(c,d)        \n",
    "    O1=OR(c,d)\n",
    "    N3=NOT(O1)\n",
    "    O2=OR(A1,N3)      # y\n",
    "    A2=AND(N3,b)\n",
    "    A3=AND(O1,N1)\n",
    "    A4=AND(O1,b)\n",
    "    O3=OR(A2,A3)      # x\n",
    "    O4=OR(A4,a)       # w\n",
    "    return O4,O3,O2,N2"
   ]
  },
  {
   "cell_type": "markdown",
   "id": "e2d158d6",
   "metadata": {},
   "source": [
    "#### $\\text{4-bit Inputs}$"
   ]
  },
  {
   "cell_type": "code",
   "execution_count": 30,
   "id": "2a60600e",
   "metadata": {},
   "outputs": [],
   "source": [
    "A=[0,0,0,0,0,0,0,0,1,1,1,1,1,1,1,1]\n",
    "B=[0,0,0,0,1,1,1,1,0,0,0,0,1,1,1,1]\n",
    "C=[0,0,1,1,0,0,1,1,0,0,1,1,0,0,1,1]\n",
    "D=[0,1,0,1,0,1,0,1,0,1,0,1,0,1,0,1]"
   ]
  },
  {
   "cell_type": "code",
   "execution_count": 31,
   "id": "b9ed5880",
   "metadata": {},
   "outputs": [
    {
     "name": "stdout",
     "output_type": "stream",
     "text": [
      "A B C D | W X Y Z\n",
      "0 0 0 0 | 0 0 1 1\n",
      "0 0 0 1 | 0 1 0 0\n",
      "0 0 1 0 | 0 1 0 1\n",
      "0 0 1 1 | 0 1 1 0\n",
      "0 1 0 0 | 0 1 1 1\n",
      "0 1 0 1 | 1 0 0 0\n",
      "0 1 1 0 | 1 0 0 1\n",
      "0 1 1 1 | 1 0 1 0\n",
      "1 0 0 0 | 1 0 1 1\n",
      "1 0 0 1 | 1 1 0 0\n",
      "1 0 1 0 | 1 1 0 1\n",
      "1 0 1 1 | 1 1 1 0\n",
      "1 1 0 0 | 1 1 1 1\n",
      "1 1 0 1 | 1 0 0 0\n",
      "1 1 1 0 | 1 0 0 1\n",
      "1 1 1 1 | 1 0 1 0\n"
     ]
    }
   ],
   "source": [
    "print('A','B','C','D','|','W','X','Y','Z')\n",
    "for a,b,c,d in zip(A,B,C,D):\n",
    "    w,x,y,z=BCD_excess3_converter(a,b,c,d)\n",
    "    print(a,b,c,d,'|',w,x,y,z)"
   ]
  },
  {
   "cell_type": "code",
   "execution_count": null,
   "id": "1db2900e",
   "metadata": {},
   "outputs": [],
   "source": []
  },
  {
   "cell_type": "code",
   "execution_count": null,
   "id": "1dbb9459",
   "metadata": {},
   "outputs": [],
   "source": []
  },
  {
   "cell_type": "code",
   "execution_count": null,
   "id": "572b9bf9",
   "metadata": {},
   "outputs": [],
   "source": []
  }
 ],
 "metadata": {
  "kernelspec": {
   "display_name": "Python 3 (ipykernel)",
   "language": "python",
   "name": "python3"
  },
  "language_info": {
   "codemirror_mode": {
    "name": "ipython",
    "version": 3
   },
   "file_extension": ".py",
   "mimetype": "text/x-python",
   "name": "python",
   "nbconvert_exporter": "python",
   "pygments_lexer": "ipython3",
   "version": "3.9.12"
  }
 },
 "nbformat": 4,
 "nbformat_minor": 5
}
